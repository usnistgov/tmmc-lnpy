{
 "cells": [
  {
   "cell_type": "code",
   "execution_count": 2,
   "metadata": {},
   "outputs": [],
   "source": [
    "%matplotlib inline\n",
    "\n",
    "import matplotlib.pyplot as plt\n",
    "import numpy as np\n",
    "import pandas as pd\n",
    "import xarray as xr\n",
    "\n",
    "#import lnPi.old\n",
    "import lnPi\n",
    "import lnPi.stability\n",
    "\n",
    "from lnPi.collectionlnpiutils import limited_collection\n",
    "\n",
    "#function to tag 'LD' and 'HD' phases\n",
    "def tag_phases2(x):\n",
    "    if len(x) > 2:\n",
    "        raise ValueError('bad tag function')\n",
    "    argmax0 = np.array([xx.local_argmax()[0] for xx in x])\n",
    "    return np.where(argmax0 <= x[0].shape[0] / 2, 0, 1)\n"
   ]
  },
  {
   "cell_type": "markdown",
   "metadata": {},
   "source": [
    "# Bulk (easy case)"
   ]
  },
  {
   "cell_type": "code",
   "execution_count": 3,
   "metadata": {},
   "outputs": [],
   "source": [
    "pe = pd.read_csv('./PiofN/ljsf.t070.bulk.v729.r1.energy.dat', \n",
    "                 header=None, sep='\\s+', names=['n','e'])['e'].values\n",
    "\n",
    "mu = -8.616\n",
    "volume = 729\n",
    "temp = 0.7\n",
    "beta = 1.0 / temp\n",
    "state_kws = dict(volume=volume, temp=temp, beta=1/temp)\n",
    "lnz = beta * mu\n",
    "\n",
    "# reference masked lnPi\n",
    "ref = lnPi.MaskedlnPiDelayed.from_table('./PiofN/ljsf.t070.bulk.v729.r1.lnpi.dat',\n",
    "                                        fill_value=np.nan,\n",
    "                                        lnz=lnz, state_kws=state_kws, \n",
    "                                        extra_kws={'PE':pe}).zeromax().pad()\n",
    "\n",
    "# Phase Creator\n",
    "PhaseCreator = lnPi.segment.PhaseCreator(nmax=2, tag_phases=tag_phases2, nmax_peak=4, \n",
    "                                         merge_kws=dict(efac=0.8), \n",
    "                                         ref=ref)\n",
    "build_phases = PhaseCreator.build_phases_mu([None])"
   ]
  },
  {
   "cell_type": "code",
   "execution_count": 4,
   "metadata": {},
   "outputs": [],
   "source": [
    "# create collection\n",
    "o_course, o = limited_collection(build_phases, 0.5, offsets=[-10, +10], \n",
    "                                 edge_distance_min=8,\n",
    "                                 even_grid=True, digits=1, limit_course=True)\n",
    "\n",
    "# calc stability\n",
    "o_course.spinodal(2, build_phases)\n",
    "o_course.binodal(2, build_phases)\n",
    "\n",
    "# add to main object\n",
    "o = o.stability_append(o_course)"
   ]
  },
  {
   "cell_type": "code",
   "execution_count": 11,
   "metadata": {},
   "outputs": [
    {
     "data": {
      "text/html": [
       "<div>\n",
       "<style scoped>\n",
       "    .dataframe tbody tr th:only-of-type {\n",
       "        vertical-align: middle;\n",
       "    }\n",
       "\n",
       "    .dataframe tbody tr th {\n",
       "        vertical-align: top;\n",
       "    }\n",
       "\n",
       "    .dataframe thead th {\n",
       "        text-align: right;\n",
       "    }\n",
       "</style>\n",
       "<table border=\"1\" class=\"dataframe\">\n",
       "  <thead>\n",
       "    <tr style=\"text-align: right;\">\n",
       "      <th></th>\n",
       "      <th>binodal</th>\n",
       "      <th>lnz_0</th>\n",
       "      <th>phase</th>\n",
       "      <th>volume</th>\n",
       "      <th>temp</th>\n",
       "      <th>beta</th>\n",
       "      <th>pressure_0</th>\n",
       "      <th>pressure_1</th>\n",
       "      <th>dens_tot_0</th>\n",
       "      <th>dens_tot_1</th>\n",
       "      <th>PE_n_0</th>\n",
       "      <th>PE_n_1</th>\n",
       "      <th>mu</th>\n",
       "    </tr>\n",
       "  </thead>\n",
       "  <tbody>\n",
       "    <tr>\n",
       "      <th>0</th>\n",
       "      <td>0</td>\n",
       "      <td>-12.339048</td>\n",
       "      <td>0</td>\n",
       "      <td>729</td>\n",
       "      <td>0.7</td>\n",
       "      <td>1.428571</td>\n",
       "      <td>0.002377</td>\n",
       "      <td>0.002377</td>\n",
       "      <td>0.003509</td>\n",
       "      <td>0.820218</td>\n",
       "      <td>-0.040952</td>\n",
       "      <td>-5.578011</td>\n",
       "      <td>-8.637334</td>\n",
       "    </tr>\n",
       "    <tr>\n",
       "      <th>1</th>\n",
       "      <td>0</td>\n",
       "      <td>-12.339048</td>\n",
       "      <td>1</td>\n",
       "      <td>729</td>\n",
       "      <td>0.7</td>\n",
       "      <td>1.428571</td>\n",
       "      <td>0.002377</td>\n",
       "      <td>0.002377</td>\n",
       "      <td>0.003509</td>\n",
       "      <td>0.820218</td>\n",
       "      <td>-0.040952</td>\n",
       "      <td>-5.578011</td>\n",
       "      <td>-8.637334</td>\n",
       "    </tr>\n",
       "  </tbody>\n",
       "</table>\n",
       "</div>"
      ],
      "text/plain": [
       "   binodal      lnz_0  phase  volume  temp      beta  pressure_0  pressure_1  \\\n",
       "0        0 -12.339048      0     729   0.7  1.428571    0.002377    0.002377   \n",
       "1        0 -12.339048      1     729   0.7  1.428571    0.002377    0.002377   \n",
       "\n",
       "   dens_tot_0  dens_tot_1    PE_n_0    PE_n_1        mu  \n",
       "0    0.003509    0.820218 -0.040952 -5.578011 -8.637334  \n",
       "1    0.003509    0.820218 -0.040952 -5.578011 -8.637334  "
      ]
     },
     "execution_count": 11,
     "metadata": {},
     "output_type": "execute_result"
    }
   ],
   "source": [
    "(\n",
    "    o_course.binodal.access.xge.table(['pressure','dens_tot','PE_n'], default_keys=[], \n",
    "                                      dim_to_suffix='phase')\n",
    "    .to_dataframe()\n",
    "    .reset_index()\n",
    "    .assign(mu=lambda x: x['lnz_0'] / x['beta'])\n",
    ")"
   ]
  },
  {
   "cell_type": "code",
   "execution_count": 6,
   "metadata": {},
   "outputs": [
    {
     "data": {
      "text/html": [
       "<div>\n",
       "<style scoped>\n",
       "    .dataframe tbody tr th:only-of-type {\n",
       "        vertical-align: middle;\n",
       "    }\n",
       "\n",
       "    .dataframe tbody tr th {\n",
       "        vertical-align: top;\n",
       "    }\n",
       "\n",
       "    .dataframe thead th {\n",
       "        text-align: right;\n",
       "    }\n",
       "</style>\n",
       "<table border=\"1\" class=\"dataframe\">\n",
       "  <thead>\n",
       "    <tr style=\"text-align: right;\">\n",
       "      <th></th>\n",
       "      <th>mu*</th>\n",
       "      <th>p(1)*</th>\n",
       "      <th>p(2)*</th>\n",
       "      <th>rho(1)*</th>\n",
       "      <th>rho(2)*</th>\n",
       "      <th>u(1)*</th>\n",
       "      <th>u(2)*</th>\n",
       "    </tr>\n",
       "  </thead>\n",
       "  <tbody>\n",
       "    <tr>\n",
       "      <th>0</th>\n",
       "      <td>-8.637334</td>\n",
       "      <td>0.002377</td>\n",
       "      <td>0.002377</td>\n",
       "      <td>0.003509</td>\n",
       "      <td>0.820218</td>\n",
       "      <td>-0.040952</td>\n",
       "      <td>-5.578011</td>\n",
       "    </tr>\n",
       "    <tr>\n",
       "      <th>1</th>\n",
       "      <td>-4.001997</td>\n",
       "      <td>0.002377</td>\n",
       "      <td>0.002377</td>\n",
       "      <td>0.003509</td>\n",
       "      <td>0.820218</td>\n",
       "      <td>-0.040952</td>\n",
       "      <td>-5.578011</td>\n",
       "    </tr>\n",
       "  </tbody>\n",
       "</table>\n",
       "</div>"
      ],
      "text/plain": [
       "        mu*     p(1)*     p(2)*   rho(1)*   rho(2)*     u(1)*     u(2)*\n",
       "0 -8.637334  0.002377  0.002377  0.003509  0.820218 -0.040952 -5.578011\n",
       "1 -4.001997  0.002377  0.002377  0.003509  0.820218 -0.040952 -5.578011"
      ]
     },
     "execution_count": 6,
     "metadata": {},
     "output_type": "execute_result"
    }
   ],
   "source": [
    "pd.read_csv('./PiofN/ljsf.t070.bulk.v729.r1.sat.dat', sep='\\s+')"
   ]
  },
  {
   "cell_type": "code",
   "execution_count": 12,
   "metadata": {
    "scrolled": true
   },
   "outputs": [
    {
     "data": {
      "text/plain": [
       "[<matplotlib.lines.Line2D at 0x7fd3319345d0>]"
      ]
     },
     "execution_count": 12,
     "metadata": {},
     "output_type": "execute_result"
    },
    {
     "data": {
      "image/png": "iVBORw0KGgoAAAANSUhEUgAAAaAAAAEXCAYAAADr+ZCUAAAABHNCSVQICAgIfAhkiAAAAAlwSFlzAAALEgAACxIB0t1+/AAAADh0RVh0U29mdHdhcmUAbWF0cGxvdGxpYiB2ZXJzaW9uMy4xLjMsIGh0dHA6Ly9tYXRwbG90bGliLm9yZy+AADFEAAAgAElEQVR4nO3deZwU5bn3/881C4yyiqAgA4IIiiAiDFtwi+AeRY0xKFFcUaNPzEnyPNHk5xNPcs55zHYUo8bgShTFLUY97hpMokFxEESQHQQGUAZQFJRlZq7fH1WDxdAz09Mz3dU9832/XvWa7ruWvqq6uq++77rnLnN3REREMi0v7gBERKRlUgISEZFYKAGJiEgslIBERCQWSkAiIhILJSAREYmFElATM7ObzezhuOOQ5s3MLjGzN+OOQ6QxlIBkD2b2opltjUw7zeyDcN4BZvaoma0zsy1m9paZjYisa2b2czNbbWafm9l0M2uf5Ov2MjM3s4J07VsmmFknM3vazLaZ2Sozu7COZWs91mmOMZbkZWbdzOzZ8PxxM+uV5HrHh8v/R6RsopnNDs+zMjP7TfTcCc+nF8zsUzP72MzuqDHfw/eo+tjfG5lX5/tiZr8ysw/MrMLMbq4j7gfC1zk0fN7azO4Lz4svzGyOmZ1WY53zzWxhOP9DMzs7Mu8SM6usEdsJ4byeNcq3hq/948Yc+3RTApI9uPtp7t62egL+BTwRzm4LvAsMBToBU4HnzaxtOP9i4CJgNHAQsA/wh0zGnwXuBHYCBwITgD+a2YBEC9ZzrJujKuAl4NvJrmBmhcBk4J0as/YFfgh0BkYAY4CfRObfBWwAugGDgeOB79fYxlGR439FdWES78sy4P8Az9cR9zFAnxrFBcCaMJYOwE3A49XJwMy6Aw8DPwLaA/8beMTMDohsY2Y0Nnd/I4x5dY2YjyQ43k+F6zX42GeEu2uqMQE3AE/WKJsM3B4+Pgh4FthMcDJeGVnuZuDh8PEJQFmN7XwEjI0s+wTBSfcF8AHQD7iR4MOzBjg5sm4H4D5gPbAW+A8gP43HoRdQCfSuY5nPgaHh4yeB/x2Z9w1gO7BvEq+1GnBgaziNCssvAxYCnwIvAwdH1nGCL5Wl4fH7FcGHfmYY1+NAq+h7AfwM2Bi+DxOa+Hi1IUg+/SJlDwG3NMWxrrH8JcBbBAl+C7AIGFPfuQL0D9+TyvA4fxYufwYwJzxua4Cb03heFYTvXa8kP4u/AR4E/qOO5X4EPBd5vhA4PfL8t8Cfapw7hzbmfQk/t3sdp3D/5gCD6nsdYB7w7fDxCGBDjfnlkc/CJcCbSR7jXwAzGnPsMzGpBpTYo8Dp1c1HZpYPnA88EplfRpCIzgP+y8zGpPhaZxJ8Se1HcNK+TFAz7Q78EvhTZNmpQAVwKHA0cDJwBQmY2YVm9lkdU88kYrsY+Ke7r6zlNQYDrQiSMICFE5HnrYG+SbzWceHfjh78ipsZNj/8DDgX6AL8k+DYR51KUCMbSfCrdApBzaMHMBC4ILJsV4JfzN2BicAUMzusln27q45jN6+WfegHVLr7kkjZ+0DCGlANdR7rWowAVhDs0y+Av5hZp3BewnPF3RcCV/P1L+mO4fLbwhg6EiSja6LNP1Fhc09d51atzY4NYWYHE/wA+WUSix8HLIg8nwyMN7N9w5rFaQQ1gKh/hM1zf6mjSSqV9+XfgH+4e23nCQBmdiDBOVMddymw0MzOMrP88PjvIEhS1Y42s41mtsTMbrLam6wvJjgHslvcGTBbJ+BN4OLw8UnA8vBxD4JfRO0iy/4/4MHw8c00rAb0amTemQS/SvPD5+0Ifq10JGjS2QHsE1n+AhL8ymnCY7AMuKSWee0Jamw3RsquAJYQ/GrsQFBLdMJfcPW8Vq9w2YJI2YvA5ZHnecCXhLWgcPnRkfmzgZ9Gnv8euC3yXlQAbSLzHwduasLjdSzwcY2yK4E3GnOsa1n+EmAdYJGyWQRNoHWeKyTxSxq4Dbg1TedVUr/CgWeA74aPH6SWGhBwKcEPws6Rsv7h+VARvtaDNY7VcQQ/njoCdwDzo+dekp+BvWpABN8Py4AOkXN0rxoQUAi8RqRWFpZfTvAdUBGe62dE5h0C9A4/B0cCH0Y/fzXOw61A21SPfaYm1YBq9whf/3q+kK9rPwcBm939i8iyqwh+Vafik8jjr4CN7l4ZeQ7BtZeDCU7a9dW/NAlqR9H24SYTtmF3JWhWqzlvH+A54G13/3+RWfcT1FDeIPhVNyMsL0sxjIOByZH93UxQq4oe65rHr+bztpHnn7r7tsjzVQTvZ1PZSpCYo9oTNA/Wqq5jXY+1Hn6rhKr3p8HnipmNMLMZZlZuZlsIakmdGxhPkzGzMwl+5D1Wz3JnA7cAp7n7xrAsj6Al4S8EzaKdCVoYfl29nrv/w913uvtnwPUEX+z9a2w7lfflNuCX7r6ljpjzCFo9dgLXRcrHEjQ3nkCQHI8H7g1bGnD3Fe6+0t2r3P0DgprheQleYiLwlLtvbUDcsVACqt0TwAlmVgycw9cJaB3QyczaRZbtSdDOXtM2goulwO6mvC4pxrOG4FdtZ3fvGE7t3T1h846ZTUjQKyY61dcENxH4S82T2MxaA38l2N+rovPCD8Yv3L2XuxcTJKG1JD42NSUaln0NcFVkfzu6+z7u/q8ktpfIfmbWJvK8J8H7uRczu7uOY7cg0ToEtb8CM4s2OR7Fnk1DiSQ81knobmbRJs/q/anvXEl0rB8hqLH2cPcOwN3s2Zy6Wy09rqLThAbuRyJjgJKwiexj4LvAD83smUgcpwL3AGeGX8jVOhHURO5w9x3uvgl4ADi9jtdz9t7fVN6XMcBvI3EDzKxulgzfr/sIaqnfdvddkXUHEzTdlYafpXcJOl+MTTbm8Mfhd8iF5jdQE1xdE0ET0KvAnBrl/ySothcRXGj8BDgpnHczXzfBdSCsRhP8Iv0FQdV6bM1lw+djgY8iz6ury8Xh82cI2rbbE/x46AMcn4b93gf4DDixRnkhQc3nryRurugUxmTAEQTNGpMi82+mluYogkRdyZ4X8M8JtzEgcjy/E5m/R/MGQbPpJZHn/wHcGz4+ITz2vyP4dXkswQ+Ew5v42E0nqAW2IegNuKU6/oYc63DeG9TSGYCgGa2C4Nd7IcGXzufA/vWdKwTXzT4i7KARlm0AJoaPh4fPH052vxtwfIrCY+PAYUBRLcu1I6h9VE+PAbcCncL5JwKbgONqWX8FQQeGAoJmtqeBaeG8AQRf9vkENeTbgMVAYZLvS2G4H4+E51gRXzebH1Ajbie4PrlPOP9u4G0SN48dT9BBZnD4/OhwH08On58GHBg+Ppzgs/GLGtu4kKAmbAm2n9Sxz+QU64tn+0TQnu5EenaF5cXA/xA0CS0Hro7Mu5k9k8olBD2RNhB0E/2I1BNQB+CPBE1aWwg6LYxPw35fkOgkDj8gTpBUt0amY8P5/cIP8pfh+j+qsf59wH/W8bq/JOj18xkwMvIefMDXvbPujyzf0ARUBvw8/JCvBi5Kw7HrRJCgt4WvcWFk3rHA1mSOdThvOeEPmwTzLiHoBXdHeC4sYe8ekwnPFYIE/Hx4/m4My84L4/giPLfvID0JyGtOkXl3A3fXst6DRK4BETTvVtQ4D1+MzB9MkMA/Dd/vJ4ADwnknhufpNoLP5V+Bvg14Xx5MsB+X1LG/h4aPDw6fb68R94TI8tcRXEP6giCJ/jgy73cEP3a3hfN+SSRphsu8DPyqsceeoNY+IXzcM4yzZ1OfDxa+gEjamdlcgq7Cm2J47RMIvlCLM/3aqQibfp9w91FxxyKSLjn9X+eSW9x9cNwx5Ap3LwOUfKRZUycEERGJhZrgREQkFqoBiYhILHQNKNS5c2fv1atX3GGIiOSU2bNnb3T3lP6/UQko1KtXL0pLS+MOQ0Qkp5jZqlTXVROciIjEQglIRERioQQkIiKx0DUgEZEY7Nq1i7KyMrZv3x53KEkpKiqiuLiYwsLCJtumEpCISAzKyspo164dvXr1Ys9BzbOPu7Np0ybKysro3bt3k21XTXAikhO2PPccS08cw8L+R7D0xDFsee65uENqlO3bt7P//vtnffIBMDP233//Jq+tqQYkIllvy3PPsf6m/4uHX4AV69ax/qb/C0CHM8+MM7RGyYXkUy0dseZEDcjMDjOzuZHpczP7oZndbGZrI+WnR9a50cyWmdliMzslzvhFpHE23Hrb7uRTzbdvZ8Ott8UUkTSFnEhA7r7Y3QeHoykPJbjfzNPh7Fur57n7CwBmdgQwnuDGU6cCd4V3IxWRHFSxfn2DynPVRx99xMCBA/cqv+KKK/jwww+b5DXatm3bJMs0hVxsghsDLHf3VXVUCccB0919B7DSzJYR3OVxZoZiFJEmVNCtGxXr9r57ekG3bjFEk3n33ntv3CGkRU7UgGoYT3DL42rXmdk8M7vfzPYLy7oT3D2zWllYtgczm2RmpWZWWl5enr6IRaRRDvi3H2JFRXuUWVERB/zbD2OKKH0qKiqYOHEigwYN4rzzzuPLL7/khBNO2D1UWNu2bfn5z3/OUUcdxciRI/nkk08AWLVqFWPGjGHQoEGMGTOG1atXA7By5UpGjRrFsGHDuOmmm3a/ztatWxkzZgxDhgzhyCOP5Jlnnsn4vuZUAjKzVsBZBLfXheCWw30Ibr+7Hvh99aIJVt/rvhPuPsXdS9y9pEuXlMbSE5EM6HDmmXT71S8pOOggAAraVNHtphtyugNCbRYvXsykSZOYN28e7du356677tpj/rZt2xg5ciTvv/8+xx13HPfccw8A1113HRdffDHz5s1jwoQJ/OAHPwDg+uuv55prruHdd9+la9euu7dTVFTE008/zXvvvceMGTP48Y9/TKZvz5NTCQg4DXjP3T8BcPdP3L3S3auAewia2SCo8fSIrFcM7F1/F5Gc0eHMM+n7t9fpP+Mx+p75MR06r447pLTo0aMHo0ePBuB73/seb7755h7zW7Vqxbe+9S0Ahg4dykcffQTAzJkzufDCCwG46KKLdq/31ltvccEFF+wur+bu/OxnP2PQoEGMHTuWtWvX7q5NZUquJaALiDS/mVm0AfgcYH74+FlgvJm1NrPeQF9gVsaiFJH06TYI+p4Cb98FO7bGHU2Tq3ltu+bzwsLC3WX5+flUVFTUu51E18unTZtGeXk5s2fPZu7cuRx44IEZH5UhZxKQme0LnAT8JVL8GzP7wMzmAd8E/g3A3RcAjwMfAi8B17p7ZYZDFpF0Oe4n8NVmmP1g3JE0udWrVzNzZtBf6tFHH+WYY45Jar1vfOMbTJ8+HQiSS/V6o0eP3qO82pYtWzjggAMoLCxkxowZrFqV8l0VUpYzCcjdv3T3/d19S6TsInc/0t0HuftZ7r4+Mu8/3b2Pux/m7i/GE7WIpEWP4dDrWPjXH2BXboyllqz+/fszdepUBg0axObNm7nmmmuSWu/222/ngQceYNCgQTz00ENMnjwZgMmTJ3PnnXcybNgwtmzZ/fXJhAkTKC0tpaSkhGnTpnH44YenZX/qYpm+6JStSkpKXDekE8khK96AP4+DM/4bhl0edzQNtnDhQvr37x93GA2SKGYzm+3uJalsL2dqQCIie+h9PHQvgbdug8pdcUcjKVACEpHcZBZcC/psNXzwRP3LS9ZRAhKR3NXvVDhwILw1Gaqq4o5GGkgJSERylxl84wdQvgiWvRp3NNJASkAiktsGngvti4NakOQUJSARyW35hTDq+7DqLShTT9ZcogQkIrlvyMVQ1EG1oBS99NJLHHbYYRx66KHccsstGXvdXLwdg4jInlq3g5LL4c1bYdNy2L9P3BGlxZJ3PmbmM8vZunkHbTu1ZtS4PvQb0bX+FetQWVnJtddey6uvvkpxcTHDhg3jrLPO4ogjjmiiqGunGpCINA8jrg6a42beEXckabHknY+ZMW0RWzfvAGDr5h3MmLaIJe983Kjtzpo1i0MPPZRDDjmEVq1aMX78+IzdmkE1IBFpHtodCEeNh7mPwAk/g7a5dYuVfz6+hI1rah9c9ZOVW6is2HPkmoqdVfztoYUseDPxYP+de7Tl2PP71fm6a9eupUePr28eUFxczDvvvNOAyFOnGpCINB/f+AFU7IBZU+KOpMnVTD71lScr0XBsddxtukmpBiQizUfnvnDY6fDuPXDMD6FVm7gjSlp9NZWpP3trd/NbVNtOrTnnx0NSft3i4mLWrPn6BtJlZWUcFN74L91UAxKR5mX09fDVpzDn4bgjaVKjxvWhoNWeX9kFrfIYNa5xHS6GDRvG0qVLWblyJTt37mT69OmcddZZjdpmspSARKR56TkCeowIOiNUJr5ZWy7qN6Ir35xwOG07tQaCms83Jxze6F5wBQUF3HHHHZxyyin079+f888/nwEDBjRFyPW/dkZeRUQkk0ZfD9MvhA//CkeeF3c0TabfiK6NTjiJnH766Zx++ulNvt36qAYkIs1Pv9Ng/77wr9tB9zzLWjmTgMzso/D223PNrDQs62Rmr5rZ0vDvfmG5mdntZrbMzOaZWepX6EQk9+TlwTf+F6x/H1b+Pe5opBY5k4BC33T3wZG7790AvO7ufYHXw+cApwF9w2kS8MeMRyoi8Rr0XWhzALx1e9yR1CqX7kidjlhzLQHVNA6YGj6eCpwdKf+zB94GOppZtzgCFJGYFBbBiKtg+evw8QdxR7OXoqIiNm3alBNJyN3ZtGkTRUVFTbrdXOqE4MArZubAn9x9CnCgu68HcPf1ZnZAuGx3YE1k3bKwbH10g2Y2iaCGRM+ePdMcvohk3LDL4Z//Df/6A5ybXf+cWlxcTFlZGeXl5XGHkpSioiKKi4ubdJu5lIBGu/u6MMm8amaL6lg20b/x7vUzI0xiUwBKSkqy/2eIiDTMPvvB0Inwzp/gxJugY4/618mQwsJCevfuHXcYscqZJjh3Xxf+3QA8DQwHPqluWgv/bggXLwOiZ1oxkHiwJBFp3kZ+P/j7ti4FZ5ucSEBm1sbM2lU/Bk4G5gPPAhPDxSYC1UO4PgtcHPaGGwlsqW6qE5EWpmMPGPhtmP1gMEKCZI2cSEDAgcCbZvY+MAt43t1fAm4BTjKzpcBJ4XOAF4AVwDLgHuD7mQ9ZRLLG6B/Arm1Qen/ckUhETlwDcvcVwFEJyjcBYxKUO3BtBkITkVzQ9UjocyK8fTeMvDboISexy5UakIhI44y+HrZtgHmPxR2JhJSARKRl6H08dB0UdMmuqoo7GkEJSERaCrOgFrRpKSx5Me5oBCUgEWlJjjgbOvbM6uF5WhIlIBFpOfILYNR1sOZtWP1O3NG0eEpAItKyHP29YISEtybHHUmLpwQkIi1LqzYw7ApY/AJsWh53NC2aEpCItDzDroC8gmCMOImNEpCItDztuga36p7zMHz1WdzRtFhKQCLSMo28Jhie570/xx1Ji6UEJCItU7ej4OBjYNYUqKyIO5oWSQlIRFquUd+HLWtg0XNxR9IiKQGJSMvV71TYrzfMvCvuSFokJSARabny8mHE1VA2C8pK446mxVECEpGW7egJ0Lo9vK1aUKYpAYlIy9a6HQy5GBb8FbaUxR1Ni6IEJCIyfBLgQY84yZisT0Bm1sPMZpjZQjNbYGbXh+U3m9laM5sbTqdH1rnRzJaZ2WIzOyW+6EUkJ+x3MPQ/E2Y/CDu3xR1Ni5H1CQioAH7s7v2BkcC1ZnZEOO9Wdx8cTi8AhPPGAwOAU4G7zCw/jsBFJIeMvBa2b4G5j8QdSYuR9QnI3de7+3vh4y+AhUD3OlYZB0x39x3uvhJYBgxPf6QiktN6DIfuQ+HtP+qOqRmS9Qkoysx6AUcD1TfyuM7M5pnZ/Wa2X1jWHVgTWa2MWhKWmU0ys1IzKy0vL09T1CKSE8xg5Pdh83JY+krc0bQIOZOAzKwt8BTwQ3f/HPgj0AcYDKwHfl+9aILVPdE23X2Ku5e4e0mXLl3SELWI5JQjxkH77uqSnSE5kYDMrJAg+Uxz978AuPsn7l7p7lXAPXzdzFYG9IisXgysy2S8IpKj8gth+JWw8u/w8fy4o2n2sj4BmZkB9wEL3f2/I+XdIoudA1SfLc8C482stZn1BvoCszIVr4jkuCEToXDf4FqQpFVB3AEkYTRwEfCBmc0Ny34GXGBmgwma1z4CrgJw9wVm9jjwIUEPumvdvTLjUYtIbtq3Exx1Acx5CMb+AtoeEHdEzZa5J7w80uKUlJR4aanGghIRYONSuKMETrgRTrgh7miympnNdveSVNbN+iY4EZGM69wX+p4C794Lu7bHHU2zpQQkIpLIqO/DtnKY/2TckTRbSkAiIon0Ph4OGBB0RtClirRQAhIRScQMRl4Dn8yHlf+IO5pmSQlIRKQ2R34H9u2sf0xNEyUgEZHaFBbBsMthyUuwcVnc0TQ7SkAiInUZdgXkt4J37o47kmZHCUhEpC5tDwia4uZOg68+jTuaZkUJSESkPiOvgV1fwuypcUfSrCgBiYjUp+uR0OvY4JbdlbvijqbZUAISEUnGqGvh87Ww8Lm4I2k2lIBERJLR92TYrxe886e4I2k2lIBERJKRlw/Dr4I1b8O6OXFH0ywoAYmIJOvoCdCqrWpBTUQJSEQkWUUdYPCFMP8p2Loh7mhyXoMTkJm1MbP8dAQjIpL1hk+Cyp1Q+kDckeS8ehOQmeWZ2YVm9ryZbQAWAevNbIGZ/dbM+qY/zIYzs1PNbLGZLTMz3VFKRJpG575w6ElQeh9U7Iw7mpyWzC25ZwCvATcC8929CsDMOgHfBG4xs6fd/eH0hdkwYQ3tTuAkoAx418yedfcP441MRJqFEVez5J7bmHnD39m6NZ+2nVozalwf+o3oGndkOSWZBFTq7r+qWejum4GngKfMrLDJI2uc4cAyd18BYGbTgXFAkyegnRVVOLpXiDSeYU27vVo2l+qrWI0NJtpOzdesuU5zsWTTAGZ8cR0VHlyN2Lp5BzOmLQLI2iT0/IrnmfzeZD7e9jFd23Tl+iHXc8YhZ8QaUzIJ6Jv1LeDu2favwd2BNZHnZcCIdLzQGbf/k6UbtqZj0yLNUjQn2R7ltkdZ9XK7E3PkT3SeWXVZuGT0+R7rWGRdI88gL1ym+m/147zIsnsuE6z3zaW72Mdb7bFfFTureG7aQt5fsJp8g/y8PPLzID/PyM/LozDPKMg3CvKrH+dRkG8U5oV/8/MoyDPy84LHrQvyKCrMD6c9H+9T/bggn9aFwbJ1JfvnVzzPzf+6me2Vwe3F129bz83/uhkg1iSUTALKRYneib2qKWY2CZgE0LNnz5Re6LJjerN5m9qBJbt4LXfwTPXGnjVXS7Sdmi0B0WU8QaEnWLZ6G18/TzA/Ms/dca9+HMzfvWz4oOa83c/Ddas8eNWq6m25UxUpd3eqqoL1K6uCLRbtSvybu/VOZ8tXu6iqciqrJ3cqKquoqHIqKp2Kqip2VQZlu6qCv1WNbEQxg6KCfNq0zqf9PoV0CKeO4d+XP/8d26u277HO9srtTH5vctYnoKPMbCXwATA/8ndRFtZ8qpUBPSLPi4F1NRdy9ynAFICSkpKUToELhqeWuEQkd01d/BZbN+/Yq7xdp9Y8c+3oBm+vqsrZVVUVJKjK4PHOiiq+2lXJ9l2VbN9VxY5dlWyvCB5v31UZzgseB/Oq2Lqjgi1f7WLLl7vYtHUnK8q3seWrXVQevDFhk+zH2z5OZfebTDIJaB5wBjAQOBI4Gfgx0NfM1rj7wDTGl6p3CeLrDawFxgMXxhuSiDQXo8b1Yca0RVTsrNpdVtAqj1Hj+qS0vbw8o3VePq3T1CZ18pPdWL9t/V7lXdvEe70qqd1193UENYhXqsssaHA8NE1xNYq7V5jZdcDLQD5wv7sviDksEWkmqjsazHxmOVs3b6dtwWZGXTAqazsgXD/k+j2uAQEU5Rdx/ZDrY4wquQR0Z6JCDxpYlzZtOE3H3V8AXog7DhFpnvqN6BoknKWvwrQroO19wHlxh5VQ9XWebOsFZ7VdrGxpSkpKvLS0NO4wRCTXVFXBHSWw7/5wxatxR5NxZjbb3UtSWVdjwYmINEZeHgy/EspmaZTsBko5AZlZNzNr3ZTBiIjkpMEXQmEbeGdK3JHklMbUgB4CFpnZ75oqGBGRnFTUAQZfEIySvW1j3NHkjGQGIz08Ubm7jwUOATQkrIjI8ElQuQNmPxh3JDkjmRrQC2Z2v5nt9R+XHlD3ZhGRLofBISdA6f1QWRF3NDkhmQR0ODAH+LuZ3WZmXdIck4hIbhp+FXy+Fhb9T9yR5IR6E5C773T3PwD9CYa4ecfMfmlm7dIenYhILul3CnTsCbPUGSEZSXdCcPft7v47guF4tgPvmdlP0haZiEiuycuHYVfCqrfg4/lxR5P1kk5AZtbLzE4FrgB6Al8A/5WuwEREctLR34OCfWDWn+KOJOsl0wtunpltBv4KXAJ0BP4GTATapjU6EZFcs28nGHQ+zHsCvtwcdzRZLZmx4M4BVrjG7BERSc6Iq+C9qTDnIRgd74Cf2SyZTgjLlXxERBrgwAFw8DHw7r1QVRl3NFlLY8GJiKTDiEnw2WpY8lLckWQtjQUnIpIOh50B7YvhHXVGqI3GghMRSYf8Ahh2Gaz8O2xYFHc0WSnlBKSx4ERE6jFkIuS3hnfviTuSrNSoa0DpHgvOzH5rZovCruBPm1nHsLyXmX1lZnPD6e7IOkPN7AMzW2Zmt4e3DhcRybw2nWHAOfD+dNj+edzRZJ2G/CPqB2Y2zcx+amanmVmxmf08ncEBrwID3X0QsAS4MTJvubsPDqerI+V/BCYBfcPp1DTHKCJSu+FXws6tMO+xuCPJOg2pAR0P3AN8BYwH5gNpvaG4u7/i7tXDyr4NFNe1vJl1A9q7+8yw6/ifgbPTGaOISJ26D4Vug4Mu2fqPlj00ZCy4ze7+hrvf7u4TgWHA0vSFtpfLgBcjz3ub2Rwz+7uZHRuWdScYMLVaWViWkJlNMrNSMystLy9v+ohFRMyCWlD5IvjozbijySoNaYLrG33u7kuBQY0NwMxeM7P5CaZxkWV+DlQA08Ki9UBPdz8a+BHwiJm1BxJd76n1J4e7T3H3Encv6dJFd5kQkTQZ+G3YZz91RqghmaF4qi/ii9oAABG9SURBVE0xsz7AWmAeUATMN7M27r4t1QDC3nS1MrOJwLeAMdUjMrj7DmBH+Hi2mS0H+hHUeKLNdMXAulRjExFpEoX7BIOUzrwLPl8H7Q+KO6KskMxgpAbg7t90957Ad4HngWXAvsAcM1ucjuDC0bd/Cpzl7l9GyruYWX74+BCCzgYr3H098IWZjQzjvhh4Jh2xiYg0SMll4FW6ZXdEMk1wM8zsf1XfktvdV7v7s8CvgbsIOgfcmab47gDaAa/W6G59HDDPzN4HngSudvfqYWevAe4lSJDL2fO6kYhIPDodAoeODRJQxc64o8kKyTTBnUrQAeBRM+sNfEbQ/JYPvAL83t3fT0dw7n5oLeVPAU/VMq8UGJiOeEREGmX4lfDI+cEtuweeG3c0sas3Abn7doKazl1mVgh0Br5y98/SHZyISLNy6FjoeHDQJVsJqMEjIbi7r69OPtXNciIikoS8fBh2eXDL7k/SNohMzkgqAZnZlWFHgzVm9pmZ/c3MRhLcJVVERJJ19EVQUBTUglq4ZHrB/RQ4GTje3bu5e0fgFoJREfqkOT4RkeZl307B/wW9/xhs3xJ3NLFKpgZ0KXChu39cXeDurwBjgdfSFZiISLM17ArYtS0YpLQFS6oJzt13JSj7BPhDk0ckItLcdR8CBw1p8ePDJZOAlpvZXoOOmtkvgdebPiQRkRZg+JWwcQms/EfckcQmmQR0LfDvZvaEmf1/ZvZrM5sH9ALSMgKCiEizN+Bc2KdTix4frt4E5O4fEYx8fR+wjWAsuAnufjEwNa3RiYg0V4VFMOQiWPQCbFkbdzSxSKYX3BXAc0A3gpu9tQPONrMj3f3XaY5PRKT52j0+3ANxRxKLZJrgfgLcAIwA3iUY+PMT4A/hSNUiIpKK/XpBv1Ng9tQWOT5cMglop7vPB34I9AaucvcpwCkE14dERCRVw66EbRtg4bNxR5JxySSgp83sGeA04PvhvXgAdhGMCyciIqnqcyLs1xtmtbzOCMl0QvgFwe0WxgDXmNlqM3sd+AfwqZn1N7OGjiknIiIAeXnB+HBr3oaPP4g7moxK9h9RX3H369x9FHAwQdPbnQQjIUwGVqYvRBGRZm7whBY5PlyDay4eWOTuj7r7T939ZHc/OB3BiYi0CPt2giPPg3mPw1ct5043ajoTEckGw66EXV/C+4/GHUnGZH0CMrObzWxteEvuuWZ2emTejWa2zMwWm9kpkfJTw7JlZnZDPJGLiDTAQYOheFjQDFdVFXc0GZH1CSh0q7sPDqcXAMzsCGA8MIDgtuF3mVm+meUTXJ86DTgCuCBcVkQkuw27EjYtg5VvxB1JRuRKAkpkHDDd3Xe4+0pgGTA8nJa5+wp33wlMD5cVEcluA86GfTvDrJbRGSFXEtB1ZjbPzO43s/3Csu7AmsgyZWFZbeV7MbNJZlZqZqXl5eXpiFtEJHkFrWHIxbDkRfhsTf3L57isSEBm9pqZzU8wjSMYf64PMBhYD/y+erUEm/I6yvcudJ/i7iXuXtKlS5cm2BMRkUYquTT42wLGhyuIOwAAdx+bzHJmdg/wP+HTMqBHZHYxsC58XFu5iEh269gT+p4C7/0Zjr8BClrFHVHaZEUNqC5m1i3y9Bxgfvj4WWC8mbU2s94Eg6TOIhww1cx6m1krgo4KLW+QJRHJXcMuh23lsOi5uCNJq6yoAdXjN2Y2mKAZ7SPgKgB3X2BmjwMfAhXAte5eCWBm1wEvA/nA/e6+II7ARURS0mcMdDwYSh+Agd+OO5q0yfoE5O4X1THvP4H/TFD+AvBCOuMSEUmbvLzgWtBrN0P5YuhyWNwRpUXWN8GJiLRIg78HeYVQen/ckaSNEpCISDZq2wWOGAdzH4Wd2+KOJi2UgEREstWwy2HHFpj/l7gjSQslIBGRbNVzFHTpD6X3xR1JWigBiYhkKzMouQzWzYG178UdTZNTAhIRyWZHfRcK922WtSAlIBGRbFbUAY78DnzwVLO7WZ0SkIhItht2OVR8Be9PjzuSJqUEJCKS7bodBd2HBv8T5AnHVs5JSkAiIrmg5HLYuBhWvRV3JE1GCUhEJBcMPBeKOsK7zaczghKQiEguKNwHBk+Ahc/B1g1xR9MklIBERHJFyaVQtSu4V1AzoAQkIpIrOveF3sfB7KlQVRl3NI2mBCQikktKLoctq2HZa3FH0mhKQCIiueTwM6Dtgc2iM4ISkIhILskvhCEXw9JX4NNVcUfTKFmdgMzsMTObG04fmdncsLyXmX0VmXd3ZJ2hZvaBmS0zs9vNzOLbAxGRNBh6STBQ6XtT446kUbI6Abn7d919sLsPBp4CojfFWF49z92vjpT/EZgE9A2nUzMXsYhIBnQohn6nBr3hKnbGHU3KsjoBVQtrMecDj9azXDegvbvPdHcH/gycnYEQRUQyq+Ry2FYOi56LO5KU5UQCAo4FPnH3pZGy3mY2x8z+bmbHhmXdgbLIMmVhWUJmNsnMSs2stLy8vOmjFhFJlz4nQseD4d37444kZbEnIDN7zczmJ5jGRRa7gD1rP+uBnu5+NPAj4BEzaw8kut5T68h97j7F3UvcvaRLly5NsTsiIpmRlxf8Y+qqN6F8cdzRpCT2BOTuY919YILpGQAzKwDOBR6LrLPD3TeFj2cDy4F+BDWe4sjmi4F1mdoXEZGMOvoiyG8VjJKdg2JPQEkYCyxy991Na2bWxczyw8eHEHQ2WOHu64EvzGxkeN3oYuCZOIIWEUm7Np3hiHEw91HYuS3uaBosFxLQePbufHAcMM/M3geeBK52983hvGuAe4FlBDWjFzMVqIhIxpVcBju2wPyn4o6kwcyb0c2NGqOkpMRLS0vjDkNEpGHc4a5RUFgEk97I+Mub2Wx3L0ll3VyoAYmISG3Mglt2r5sDa9+LO5oGUQISEcl1g74LhW2gNLfGh1MCEhHJdUXt4cjzYP5f4KvP4o4maUpAIiLNQcmlsOtLmPd43JEkTQlIRKQ5OOjoYJr9QNAxIQcoAYmINBdDL4UNH8KaWXFHkhQlIBGR5mLgt6FVu6AWlAOUgEREmovWbWHQ+UFnhC831798zJSARESak5JLoXIHvD897kjqpQQkItKcdD0SioflRGcEJSARkeZm6KWwcQms+lfckdRJCUhEpLkZcA607pD1t2lQAhIRaW5a7QtHjYeFz8K2TXFHUyslIBGR5qjkUqjcCXOnxR1JrZSARESaowP6Q4+RMPtBqKqKO5qElIBERJqrkstg83L46B9xR5KQEpCISHN1xDjYZz8ozc6REbIiAZnZd8xsgZlVmVlJjXk3mtkyM1tsZqdEyk8Ny5aZ2Q2R8t5m9o6ZLTWzx8ysVSb3RUQkaxQWwVEXwqL/ga0b4o5mL1mRgID5wLnAHvVEMzsCGA8MAE4F7jKzfDPLB+4ETgOOAC4IlwX4NXCru/cFPgUuz8wuiIhkoaGXQFUFzHk47kj2khUJyN0XuvviBLPGAdPdfYe7rwSWAcPDaZm7r3D3ncB0YJyZGXAi8GS4/lTg7PTvgYhIlurSDw4+Jis7I2RFAqpDd2BN5HlZWFZb+f7AZ+5eUaM8ITObZGalZlZaXl7epIGLiGSNkkvhs1Ww4m9xR7KHjCUgM3vNzOYnmMbVtVqCMk+hPCF3n+LuJe5e0qVLl7p3QEQkV/U/E/bdP+s6IxRk6oXcfWwKq5UBPSLPi4F14eNE5RuBjmZWENaCosuLiLRMBa1h8ASYeSd8vh7ad4s7IiD7m+CeBcabWWsz6w30BWYB7wJ9wx5vrQg6Kjzr7g7MAM4L158IPBND3CIi2WXoJeCVMOehuCPZLSsSkJmdY2ZlwCjgeTN7GcDdFwCPAx8CLwHXuntlWLu5DngZWAg8Hi4L8FPgR2a2jOCa0H2Z3RsRkSy0fx/ofTy892eoqow7GgDMs/x+EZlSUlLipaWlcYchIpI+C56GJy6BCU9C35OaZJNmNtvdS+pfcm9ZUQMSEZEMOOwMaNMlazojKAGJiLQUBa2CzghLXoLP4++fpQQkItKSDLk47IwQ/20alIBERFqS3Z0RpsbeGUEJSESkpSm5FLasgeXxjoygBCQi0tJUd0aY/WCsYSgBiYi0NNWdERa/GIyMEBMlIBGRlmh3Z4T4btOgBCQi0hJlQWcEJSARkZaq5LIgEX25KZaXz9ho2CIikmUGnB1MMVENSEREYqEEJCIisVACEhGRWCgBiYhILJSAREQkFkpAIiISCyUgERGJhRKQiIjEwtw97hiygpmVA6tSXL0zsLEJw8kG2qfcoH3KDc15nw529y6pbEAJqAmYWam7l8QdR1PSPuUG7VNu0D4lpiY4ERGJhRKQiIjEQgmoaUyJO4A00D7lBu1TbtA+JaBrQCIiEgvVgEREJBZKQCIiEgsloBSZ2W/NbJGZzTOzp82sY1h+kpnNNrMPwr8nxh1rsmrbp3DejWa2zMwWm9kpccbZEGb2HTNbYGZVZlYSKS80s6nh+7TQzG6MM86GqG2fwnmDzGxmOP8DMyuKK86GqGufwvk9zWyrmf0kjvhSUce5l8vfEXWdew3+jlACSt2rwEB3HwQsAaq/wDYCZ7r7kcBE4KGY4ktFwn0ysyOA8cAA4FTgLjPLjy3KhpkPnAv8o0b5d4DW4fs0FLjKzHplNrSUJdwnMysAHgaudvcBwAnAroxHl5ra3qdqtwIvZi6cJlHbPuXyd0Rt515K3xG6JXeK3P2VyNO3gfPC8jmR8gVAkZm1dvcdmYwvFbXtEzAOmB7uw0ozWwYMB2ZmOMQGc/eFAGa21yygTfilvQ+wE/g8s9Glpo59OhmY5+7vh8ttynBoKatjnzCzs4EVwLYMh9Uote1Tjn9H1PY+pfQdoRpQ07iMxL/Ovg3MyYUTK4HoPnUH1kTmlYVluexJgi+09cBq4HfuvjnekBqtH+Bm9rKZvWdm/yfugBrLzNoAPwX+Pe5Y0iSXvyOiUvqOUA2oDmb2GtA1wayfu/sz4TI/ByqAaTXWHQD8muBXadZIcZ/2/lka1CCyQjL7lMBwoBI4CNgP+KeZvebuK9IUZoOkuE8FwDHAMOBL4HUzm+3ur6cpzAZJcZ/+HbjV3bcmqh3FLcV9ql43Z78jEq2WoKze7wgloDq4+9i65pvZROBbwBiP/EOVmRUDTwMXu/vy9EbZMCnuUxnQI7JYMbAuPRE2XH37VIsLgZfcfRewwczeAkoImnpil+I+lQF/d/eNAGb2AjAEyIoElOI+jQDOM7PfAB2BKjPb7u53NG10qUlxn3L6O6IWKX1HqAkuRWZ2KkHTwFnu/mWkvCPwPHCju78VV3ypqG2fgGeB8WbW2sx6A32BWXHE2IRWAydaoA0wElgUc0yN9TIwyMz2Da9tHQ98GHNMjeLux7p7L3fvBdwG/Fe2JJ9U5fJ3RB1S+o5QAkrdHUA74FUzm2tmd4fl1wGHAjeF5XPN7IDYomyYhPvk7guAxwm+zF4CrnX3yvjCTJ6ZnWNmZcAo4HkzezmcdSfQlqBXz7vAA+4+L6YwG6S2fXL3T4H/JtifucB77v58fJEmr473KWfVsU85+x1Rx7mX0neEhuIREZFYqAYkIiKxUAISEZFYKAGJiEgslIBERCQWSkAiIhILJSAREYmFEpBIhpnZ1ibcVicze9XMloZ/92uqbYukmxKQSG67AXjd3fsSDLlzQ8zxiCRN/4gqkmFmttXd25rZCcDNBPeHGQjMBr5HcH+ie8PF8wnu0ZRwJE4zWwyc4O7rzawb8Ia7H5bmXRBpEhqMVCReRxPcxGsd8BYw2t3fBAZDcJdagqFNanOgu68HCJNQTgzpIgJqghOJ2yx3L3P3KoLx23pVzzCz8wlGs1azmjRLSkAi8YreiKySsFUivFfMvwPj6xnU8ZOw6Y3w74Z0BSrS1JSARLKMmXUAphPcK6a8nsWfBSaGjycCdd4ETSSb6BqQSPY5GzgYuKf6LqDuPriWZW8BHjezywnucfSdjEQo0gTUC05ERGKhJjgREYmFmuBEcoCZ3QmMrlE82d0fiCMekaagJjgREYmFmuBERCQWSkAiIhILJSAREYmFEpCIiMTi/wdMON2VE5TkjAAAAABJRU5ErkJggg==\n",
      "text/plain": [
       "<Figure size 432x288 with 1 Axes>"
      ]
     },
     "metadata": {
      "needs_background": "light"
     },
     "output_type": "display_data"
    }
   ],
   "source": [
    "o.xge.betaOmega().plot(hue='phase')\n",
    "\n",
    "(\n",
    "    o.spinodal.access.xge.betaOmega().unstack()\n",
    "    .pipe(lambda x: x.where(x.phase == x.spinodal, drop=True))\n",
    "    .max('phase')\n",
    "    .plot(hue='spinodal', marker='o')\n",
    ")\n",
    "\n",
    "(\n",
    "    o.binodal.access.xge.betaOmega()\n",
    "    .pipe(lambda x: x.sel(phase=x.binodal))\n",
    "    .plot.line(hue='binodal',marker='o')\n",
    ")\n",
    "\n"
   ]
  },
  {
   "cell_type": "markdown",
   "metadata": {},
   "source": [
    "# Bulk (hard case)"
   ]
  },
  {
   "cell_type": "code",
   "execution_count": 14,
   "metadata": {},
   "outputs": [
    {
     "data": {
      "text/plain": [
       "<lnPi.stability.Binodals at 0x7fd2e1626650>"
      ]
     },
     "execution_count": 14,
     "metadata": {},
     "output_type": "execute_result"
    }
   ],
   "source": [
    "beta = 1.0 / 0.65\n",
    "\n",
    "ref_bulk = lnPi.MaskedlnPiDelayed.from_table('./PiofN/ljcut.t065.bulk.v1000.r1.lnpi.dat', \n",
    "                                      lnz=-4.453015418106743E+00 /0.65,\n",
    "                                      state_kws=dict(volume=1000.0E0,beta=1./0.65000E0))\n",
    "\n",
    "phase_creator_bulk = lnPi.segment.PhaseCreator(nmax=2, nmax_peak=4, ref=ref_bulk, \n",
    "                                         merge_kws=dict(efac=0.5), tag_phases=tag_phases2)\n",
    "build_phases_bulk = phase_creator_bulk.build_phases_mu([None])\n",
    "\n",
    "c_course_bulk, c_bulk = limited_collection(build_phases_bulk, \n",
    "                                           offsets=[-10, +10],\n",
    "                                           dlnz=1.0, \n",
    "                                           digits=0, \n",
    "                                           edge_distance_min=8,\n",
    "                                           limit_course=True)\n",
    "\n",
    "c_course_bulk.spinodal(2, build_phases_bulk, inplace=True)\n",
    "c_course_bulk.binodal(2, build_phases_bulk, inplace=True)"
   ]
  },
  {
   "cell_type": "code",
   "execution_count": 17,
   "metadata": {},
   "outputs": [
    {
     "data": {
      "text/html": [
       "<div>\n",
       "<style scoped>\n",
       "    .dataframe tbody tr th:only-of-type {\n",
       "        vertical-align: middle;\n",
       "    }\n",
       "\n",
       "    .dataframe tbody tr th {\n",
       "        vertical-align: top;\n",
       "    }\n",
       "\n",
       "    .dataframe thead th {\n",
       "        text-align: right;\n",
       "    }\n",
       "</style>\n",
       "<table border=\"1\" class=\"dataframe\">\n",
       "  <thead>\n",
       "    <tr style=\"text-align: right;\">\n",
       "      <th></th>\n",
       "      <th>binodal</th>\n",
       "      <th>lnz_0</th>\n",
       "      <th>phase</th>\n",
       "      <th>volume</th>\n",
       "      <th>beta</th>\n",
       "      <th>pressure_0</th>\n",
       "      <th>pressure_1</th>\n",
       "      <th>dens_tot_0</th>\n",
       "      <th>dens_tot_1</th>\n",
       "      <th>mu</th>\n",
       "    </tr>\n",
       "  </thead>\n",
       "  <tbody>\n",
       "    <tr>\n",
       "      <th>0</th>\n",
       "      <td>0</td>\n",
       "      <td>-6.851886</td>\n",
       "      <td>0</td>\n",
       "      <td>1000.0</td>\n",
       "      <td>1.538462</td>\n",
       "      <td>0.000696</td>\n",
       "      <td>0.000696</td>\n",
       "      <td>0.001083</td>\n",
       "      <td>0.860734</td>\n",
       "      <td>-4.453726</td>\n",
       "    </tr>\n",
       "    <tr>\n",
       "      <th>1</th>\n",
       "      <td>0</td>\n",
       "      <td>-6.851886</td>\n",
       "      <td>1</td>\n",
       "      <td>1000.0</td>\n",
       "      <td>1.538462</td>\n",
       "      <td>0.000696</td>\n",
       "      <td>0.000696</td>\n",
       "      <td>0.001083</td>\n",
       "      <td>0.860734</td>\n",
       "      <td>-4.453726</td>\n",
       "    </tr>\n",
       "  </tbody>\n",
       "</table>\n",
       "</div>"
      ],
      "text/plain": [
       "   binodal     lnz_0  phase  volume      beta  pressure_0  pressure_1  \\\n",
       "0        0 -6.851886      0  1000.0  1.538462    0.000696    0.000696   \n",
       "1        0 -6.851886      1  1000.0  1.538462    0.000696    0.000696   \n",
       "\n",
       "   dens_tot_0  dens_tot_1        mu  \n",
       "0    0.001083    0.860734 -4.453726  \n",
       "1    0.001083    0.860734 -4.453726  "
      ]
     },
     "execution_count": 17,
     "metadata": {},
     "output_type": "execute_result"
    }
   ],
   "source": [
    "(\n",
    "    c_course_bulk.binodal.access.xge.table(['pressure','dens_tot','PE_n'], \n",
    "                                           default_keys=[],\n",
    "                                           dim_to_suffix='phase')\n",
    "    .to_dataframe()\n",
    "    .reset_index()\n",
    "    .assign(mu=lambda x: x['lnz_0'] / x['beta'])\n",
    ")"
   ]
  },
  {
   "cell_type": "code",
   "execution_count": 19,
   "metadata": {},
   "outputs": [
    {
     "data": {
      "text/html": [
       "<div>\n",
       "<style scoped>\n",
       "    .dataframe tbody tr th:only-of-type {\n",
       "        vertical-align: middle;\n",
       "    }\n",
       "\n",
       "    .dataframe tbody tr th {\n",
       "        vertical-align: top;\n",
       "    }\n",
       "\n",
       "    .dataframe thead th {\n",
       "        text-align: right;\n",
       "    }\n",
       "</style>\n",
       "<table border=\"1\" class=\"dataframe\">\n",
       "  <thead>\n",
       "    <tr style=\"text-align: right;\">\n",
       "      <th></th>\n",
       "      <th>mu*</th>\n",
       "      <th>p(1)*</th>\n",
       "      <th>p(2)*</th>\n",
       "      <th>rho(1)*</th>\n",
       "      <th>rho(2)*</th>\n",
       "      <th>u(1)*</th>\n",
       "      <th>u(2)*</th>\n",
       "    </tr>\n",
       "  </thead>\n",
       "  <tbody>\n",
       "    <tr>\n",
       "      <th>0</th>\n",
       "      <td>-8.685711</td>\n",
       "      <td>0.000696</td>\n",
       "      <td>0.000696</td>\n",
       "      <td>0.001083</td>\n",
       "      <td>0.860734</td>\n",
       "      <td>-0.014084</td>\n",
       "      <td>-6.214363</td>\n",
       "    </tr>\n",
       "    <tr>\n",
       "      <th>1</th>\n",
       "      <td>-4.453724</td>\n",
       "      <td>0.000696</td>\n",
       "      <td>0.000696</td>\n",
       "      <td>0.001083</td>\n",
       "      <td>0.860734</td>\n",
       "      <td>-0.014084</td>\n",
       "      <td>-6.214363</td>\n",
       "    </tr>\n",
       "  </tbody>\n",
       "</table>\n",
       "</div>"
      ],
      "text/plain": [
       "        mu*     p(1)*     p(2)*   rho(1)*   rho(2)*     u(1)*     u(2)*\n",
       "0 -8.685711  0.000696  0.000696  0.001083  0.860734 -0.014084 -6.214363\n",
       "1 -4.453724  0.000696  0.000696  0.001083  0.860734 -0.014084 -6.214363"
      ]
     },
     "execution_count": 19,
     "metadata": {},
     "output_type": "execute_result"
    }
   ],
   "source": [
    "pd.read_csv('PiofN/ljcut.t065.bulk.v1000.r1.sat.dat',sep='\\s+')"
   ]
  },
  {
   "cell_type": "code",
   "execution_count": 20,
   "metadata": {},
   "outputs": [
    {
     "data": {
      "text/plain": [
       "[<matplotlib.lines.Line2D at 0x7fd3316f64d0>]"
      ]
     },
     "execution_count": 20,
     "metadata": {},
     "output_type": "execute_result"
    },
    {
     "data": {
      "image/png": "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\n",
      "text/plain": [
       "<Figure size 432x288 with 1 Axes>"
      ]
     },
     "metadata": {
      "needs_background": "light"
     },
     "output_type": "display_data"
    }
   ],
   "source": [
    "c_bulk.xge.betaOmega().plot(hue='phase')\n",
    "\n",
    "(\n",
    "    c_course_bulk.spinodal.access.xge.betaOmega()\n",
    "    \n",
    "    .pipe(lambda x: x.sel(phase = x.spinodal))\n",
    "\n",
    "    .plot(hue='spinodal', marker='o')\n",
    ")\n",
    "\n",
    "(\n",
    "    c_course_bulk.binodal.access.xge.betaOmega()\n",
    "    .pipe(lambda x: x.sel(phase=x.binodal))\n",
    "    .plot.line(hue='binodal',marker='o')\n",
    ")"
   ]
  },
  {
   "cell_type": "markdown",
   "metadata": {},
   "source": [
    "# confined"
   ]
  },
  {
   "cell_type": "code",
   "execution_count": 22,
   "metadata": {},
   "outputs": [],
   "source": [
    "ref_conf = lnPi.MaskedlnPiDelayed.from_table('./PiofN/ljcut.t065.finiteslit.L_20nm.W_4nm.r2.lnpi.dat',\n",
    "                                       lnz=-0.500000E+01/0.65,state_kws=dict(volume=7000.,beta=1./0.65000E0))\n",
    "\n",
    "\n",
    "phase_creator_conf = lnPi.segment.PhaseCreator(nmax=2, nmax_peak=4, ref=ref_conf, \n",
    "                                              merge_kws=dict(efac=0.6), tag_phases=tag_phases2)\n",
    "\n",
    "build_phases_conf = phase_creator_conf.build_phases_mu([None])"
   ]
  },
  {
   "cell_type": "code",
   "execution_count": 23,
   "metadata": {},
   "outputs": [
    {
     "data": {
      "application/vnd.jupyter.widget-view+json": {
       "model_id": "",
       "version_major": 2,
       "version_minor": 0
      },
      "text/plain": [
       "HBox(children=(FloatProgress(value=0.0, description='build', max=1315.0, style=ProgressStyle(description_width…"
      ]
     },
     "metadata": {},
     "output_type": "display_data"
    },
    {
     "name": "stdout",
     "output_type": "stream",
     "text": [
      "\r"
     ]
    }
   ],
   "source": [
    "# saturation\n",
    "# limit to saturation\n",
    "lnz_max = c_course_bulk.binodal.access.iloc[0].lnz[build_phases_bulk.index]\n",
    "lnz_range = [-20, lnz_max]\n",
    "\n",
    "c_course_conf, c_conf = limited_collection(build_phases_conf, \n",
    "                                           lnz_range=lnz_range,\n",
    "                                           dlnz=0.01, \n",
    "                                           digits=2, \n",
    "                                           edge_distance_min=8,\n",
    "                                           limit_course=True)\n",
    "\n",
    "# stability\n",
    "c_course_conf.spinodal(2, build_phases_conf, inplace=True)\n",
    "c_course_conf.binodal(2, build_phases_conf, inplace=True)\n",
    "\n",
    "# add spin/bin to c_conf\n",
    "c_conf = c_conf.stability_append(c_course_conf)"
   ]
  },
  {
   "cell_type": "code",
   "execution_count": 24,
   "metadata": {},
   "outputs": [
    {
     "data": {
      "application/vnd.jupyter.widget-view+json": {
       "model_id": "",
       "version_major": 2,
       "version_minor": 0
      },
      "text/plain": [
       "HBox(children=(FloatProgress(value=0.0, description='pi_norm', max=1327.0, style=ProgressStyle(description_wid…"
      ]
     },
     "metadata": {},
     "output_type": "display_data"
    },
    {
     "name": "stdout",
     "output_type": "stream",
     "text": [
      "\r"
     ]
    },
    {
     "data": {
      "text/plain": [
       "[<matplotlib.lines.Line2D at 0x7fd331d73810>]"
      ]
     },
     "execution_count": 24,
     "metadata": {},
     "output_type": "execute_result"
    },
    {
     "data": {
[Omitted long matching line]
      "text/plain": [
       "<Figure size 432x288 with 1 Axes>"
      ]
     },
     "metadata": {
      "needs_background": "light"
     },
     "output_type": "display_data"
    }
   ],
   "source": [
    "c_conf.xge.betaOmega().plot(hue='phase')\n",
    "\n",
    "(\n",
    "    c_conf.spinodal.access.xge.betaOmega()\n",
    "    .pipe(lambda x: x.sel(spinodal=x.phase))\n",
    "    .plot(hue='phase', marker='o')\n",
    ")\n",
    "\n",
    "(\n",
    "    c_conf.binodal.access.xge.betaOmega()\n",
    "    .pipe(lambda x: x.sel(phase=x.binodal))\n",
    "    .plot.line(hue='binodal', marker='o')\n",
    ")"
   ]
  },
  {
   "cell_type": "markdown",
   "metadata": {},
   "source": [
    "# make isotherm"
   ]
  },
  {
   "cell_type": "code",
   "execution_count": 25,
   "metadata": {},
   "outputs": [],
   "source": [
    "# comparison data\n",
    "df=pd.read_table('./PiofN/ljcut.t065.finiteslit.L_20nm.W_4nm.r2.single_isotherm.txt',sep='\\s+',\n",
    "                 header=None,names=['pscaled','mu','rho','Omega_L','Qst','Gads'])\n"
   ]
  },
  {
   "cell_type": "code",
   "execution_count": 26,
   "metadata": {},
   "outputs": [
    {
     "data": {
      "application/vnd.jupyter.widget-view+json": {
       "model_id": "",
       "version_major": 2,
       "version_minor": 0
      },
      "text/plain": [
       "HBox(children=(FloatProgress(value=0.0, description='build', max=1318.0, style=ProgressStyle(description_width…"
      ]
     },
     "metadata": {},
     "output_type": "display_data"
    },
    {
     "name": "stdout",
     "output_type": "stream",
     "text": [
      "\r"
     ]
    }
   ],
   "source": [
    "# rebuild on same spacing as conf\n",
    "c_bulk_ = lnPi.CollectionlnPi.from_builder(c_conf.get_index_level('lnz_0'), build_phases_bulk)"
   ]
  },
  {
   "cell_type": "code",
   "execution_count": 27,
   "metadata": {},
   "outputs": [],
   "source": [
    "psat = (\n",
    "    c_course_bulk.binodal.access\n",
    "    .xge.pressure()\n",
    "    .sel(phase=0).squeeze()\n",
    "    .values\n",
    ")"
   ]
  },
  {
   "cell_type": "code",
   "execution_count": 32,
   "metadata": {},
   "outputs": [],
   "source": [
    "table_bulk = (\n",
    "    c_bulk_.xge.table(['pressure'], ref=ref_bulk, mask_stable=True)\n",
    "    .assign(pscaled=lambda x: x.pressure / psat)\n",
    "    .drop(['volume'])\n",
    ")\n",
    "\n",
    "table_conf = (\n",
    "    c_conf.xge.table(['ntot'], ref=ref_conf)\n",
    "    .drop('volume')\n",
    ")\n",
    "\n",
    "isotherm = (\n",
    "    xr.merge((table_bulk.pscaled, table_conf.ntot), join='inner')\n",
    "    .set_coords('pscaled')\n",
    "\n",
    ")"
   ]
  },
  {
   "cell_type": "code",
   "execution_count": 31,
   "metadata": {},
   "outputs": [
    {
     "name": "stdout",
     "output_type": "stream",
     "text": [
      "<xarray.DataArray 'edge_distance' ()>\n",
      "array(920.)\n",
      "Coordinates:\n",
      "    beta     float64 1.538\n",
      "<xarray.DataArray 'edge_distance' ()>\n",
      "array(286.)\n",
      "Coordinates:\n",
      "    beta     float64 1.538\n"
     ]
    }
   ],
   "source": [
    "# check distances\n",
    "print(table_bulk.edge_distance.min())\n",
    "print(table_conf.edge_distance.min())"
   ]
  },
  {
   "cell_type": "code",
   "execution_count": 33,
   "metadata": {},
   "outputs": [],
   "source": [
    "# spinodal lnzs\n",
    "lnz_spin = c_conf.spinodal.access.get_index_level('lnz_0')"
   ]
  },
  {
   "cell_type": "code",
   "execution_count": 37,
   "metadata": {},
   "outputs": [
    {
     "data": {
      "text/plain": [
       "[<matplotlib.lines.Line2D at 0x7fd3210a7f10>]"
      ]
     },
     "execution_count": 37,
     "metadata": {},
     "output_type": "execute_result"
    },
    {
     "data": {
      "image/png": "iVBORw0KGgoAAAANSUhEUgAAAm4AAAJcCAYAAABAGii1AAAABHNCSVQICAgIfAhkiAAAAAlwSFlzAAALEgAACxIB0t1+/AAAADh0RVh0U29mdHdhcmUAbWF0cGxvdGxpYiB2ZXJzaW9uMy4xLjMsIGh0dHA6Ly9tYXRwbG90bGliLm9yZy+AADFEAAAgAElEQVR4nOzdeXxdVb338c8v5+RkHjokHZKOdC6UlraMIgVlEBSUC14EpVxQHHB8fK6C9/KIXlC8D1e96MUJVB4UREEEkdFCpUwtKS2l6dyQNkPbpJnnnGE9f5ydkpGkkGQnzff9ep1Xzllr731++6DJt2vtvY455xARERGRkS/B7wJEREREZGAU3ERERERGCQU3ERERkVFCwU1ERERklFBwExERERklFNxERERERgkFN5FjmJkVm9kH/a5DREQGh4KbiPTKr9BnZl80swIzazOz3/az7TVmFjWzxk6PVZ36nzezSjOrN7M3zOySbvt/ycze8voLzOx9vbxHyMx2mFlpt/aAmd1qZuVm1mBmm8ws2+s73syeNrPDZtZjsUwzW2tmrZ1q3tmp72wze9PMas2sysweMbO8Tv3jzexB79iHzez3ZpbZy3ucZWbOzG7t1j7bzB73aj5sZv85kM/ezGZ6x+v8Wd/cqf8/zazE+yz3mdm/ddv/HDN73esvMrPrB3rOIvI2BTcRGWnKgVuBXw9w+1ecc+mdHms79X0FmOKcywSuB35nZlMAzOwU4HbgMiALuAd4xMwC3Y7/r0BFL+/7HeB04DQgE/gU0Or1hYE/Ate9Q91f7FTz/E7t24DznXPZwFRgN/CzTv23AuOA2cBxwCTgls4HNrNE4L+B9d3aQ8CzwHPAZCAf+F2nTQby2Wd3qvs/OrXfAyzwPuvTgSvN7NJO9TwC/IL4Z/3PwA/N7MQBnrOIeBTcRI59K81sm5nVmNlvzCy5o8PMPmxmm72RjpfNbInXfh8wHfirN7LyDa/9T2Z20MzqzOwFM1s82MU65/7snPsLUDUIx9rinIt0vAQSgWne65lAoXNuo4t/hcz/AyYCuR37m9ks4JPA9zsf18zGAV8FPuOc2+fitjrnWr333emcuwcofBc1H3LOlXdqigJzOr2eBfzFOVfvnKsjHoi6/3f4OvAMsKNb+zVAuXPuh865Judcq3NuS6f3ftefvXfOTZ2aYp3qHk883N7nfVavAduBRQM8ZxHxKLiJHPuuAs4nPjozD/h3ADM7ifjIymeBCcRHQx4zsyTn3KeA/cBHvJGVjum0J4G5xMPN68Dv+3pTM7vLC4S9Pbb0td+7sMyb8ttlZjebWbBbHY+bWSvx0ae1QEGncwmY2SneKNu1wGbgYKfdfwJ8C2jp9p4nABHgMi/I7jKzG46y7u97db/UeXrXq3m6mdV67/u/gf/s1P0/wIfNbJwXIP/JO5eOfWd45/LdXt7zVKDYzJ703nutmZ1wlHXvM7NS7x8BE7vVfaOZNQKlQBpwP8SDGfAA8C8Wn2I+DZgBvDjAcxYRj4KbyLHvp865EudcNXAb8Amv/TPAL5xz651zUefcvUAb8T/uvXLO/do51+CcayM+PXeimWX1se0XnHPZfTyWDNK5vQAcTzxI/pN3bv/arY4PAxnAhcDTzrmY19UAPEw8PLQB3wau90bfMLOPAUHn3CO9vG8+8Sm/ecRHwC4DbjGzcwdY9zeJT3XmAb8kPrJ5XKea93vThhOJB+3OI2evAyHio2JVxEen7urUfydws3OusY+6r/C2mQr8DXjUm0Ltz2FgJfHAtZz4Z9oluDvnbvfaTwLuA+o6dT8A/B/in/U64N+ccyUDPGcR8Si4iRz7Sjo930f8DzbE/wB/vfNIGPFpxKndDwBHLsa/3cz2mlk9UOx1Text++HgnCtyzr3lnIs5594kPsp0WS/bhZ1zTwLnm9nFXvOniY9MLSYehD4JPG5mU80sjfiIz5f6eOuOEbjvOudavOnGPxAPhwOpe31HAPYC80u97euF7XuJh6uOkcQ/AbuIB6RMYC/edWpm9hEgwzn34DvU/aJz7knnXDtwB/HR1oUDqLnROVfgnIt4I2hfBM7rfmOENxW6yXuv73h1LQAeBK4m/lkvBr5hZhcN8JxFxKP/U4gc+6Z1ej6d+AXoEA90tznnbutjv+53Q14JXAJ8kHhoywJqAOttZzP7OfEw1Jt9zrlBvz6OeM291uMJEp8yBjgR+Ktzbpf3+ikzO0D8wvo9xK+BW2dmEA8bWWZ2kPiIZMdUb487Roeg7iDxEcVMoNqr+wsd15N5n3PHlOMHgBVenRD/bxQ1sxOcc5d4dZ8xiDXTT90dn/XxwE7n3NPe651m9jfgQ8RH/Xrbt/M5i4hHI24ix74bzCzfzMYTv16rYzTmV8DnvGu8zMzSzOwiM8vw+g8Rn87rkEF8mqsKSAW+905v6pz7XLe7PTs/+gxtZhb0bqAIEL8GLbmvkRcz+5CZTfKeLwBuBh7teO31p5hZopl9Eng/8A9v99eAiyy+PIZ505zzgK3eYxqw1Ht82vs8lgIlzrm9eNN9ZpZkZguJ3yn5uPfe5p1DyHudbGZJ3vNsMzu/47zM7Cqvrqe9/kvNbL6ZJZhZDvBDYJM3EtVR96e980ohfrfsG17fzd45dNT9GPH/zv/i9f8OONXMPuhd1/dV4lOg2/v77L3/nXTUNYH4dOta51yd1/ZZ77o7M7OTgRuANd77bgLmWnxJEPOmhT/cUfcAzllEOjjn9NBDj2P0QXxk7Cbiyy3UEp+CSu3UfwHxIFALHCA+DZfh9V1C/AaFWuIXi6cTD0UNxKdcryY+6jJnkGu+xTtu58ctXt90oBGY7r2+g3igagKKiE+VJnp9C4nfkNDgncNrwMc6vY952+/3ttkOfKqPmlYBpd3a8oCnvHqKgM926pvZyzkUe305Xi0ddb0KnNtp3y8Bb3nndJD4FOyMTv2zgL8SD9DVXg1z+6j7t8Ct3douJT6iWE/8Zo3FA/zsP9GprgPE78Kd7PUleHVUe5/HLuL/SLBOx/448UDcQPzmhR8ACQM5Zz300OPthzk3WCP9IiIiIjKUNFUqIiIiMkoouImIiIiMEgpuIiIiIqOEgpuIiIjIKDEm1nGbOHGimzlzpt9liIiIiPRr48aNh51zOb31jYngNnPmTAoKCvrfUERERMRnZravrz5NlYqIiIiMEgpuIiIiIqOEgpuIiIjIKDEmrnHrTTgcprS0lNbWVr9LGXTJycnk5+eTmJjodykiIiIyiMZscCstLSUjI4OZM2diZn6XM2icc1RVVVFaWsqsWbP8LkdEREQG0ZidKm1tbWXChAnHVGgDMDMmTJhwTI4kioiIjHVjNrgBx1xo63CsnpeIiMhYN6aDm4iIiMhoouA2SGbOnMnhw4f9LkNERESOYQpuIiIiIqOEgttRKi4uZsGCBaxevZolS5Zw2WWX0dzcDMBPfvITTjrpJE444QR27NgBwIYNGzj99NNZtmwZp59+Ojt37gSgsLCQk08+maVLl7JkyRJ2794NwO9+97sj7Z/97GeJRqP+nKiIiIiMOApu78LOnTu5/vrr2bJlC5mZmdx1110ATJw4kddff53Pf/7z3HHHHQAsWLCAF154gU2bNvHd736Xb33rWwD8/Oc/5ytf+QqbN2+moKCA/Px8tm/fzoMPPshLL73E5s2bCQQC/P73v/ftPEVERGRkGbPruL0X06ZN44wzzgDgk5/8JHfeeScAl156KQDLly/nz3/+MwB1dXWsXr2a3bt3Y2aEw2EATjvtNG677TZKS0u59NJLmTt3LmvWrGHjxo2sXLkSgJaWFnJzc4f79ERERGSEUnB7F7ovt9HxOikpCYBAIEAkEgHg5ptv5uyzz+aRRx6huLiYVatWAXDllVdyyimn8Le//Y3zzz+fu+++G+ccq1ev5vvf//7wnYyIiIiMGpoqfRf279/PK6+8AsADDzzA+973vj63raurIy8vD4Df/va3R9qLioqYPXs2X/7yl7n44ovZsmULH/jAB3jooYeoqKgAoLq6mn379g3diYiIiMioouD2LixcuJB7772XJUuWUF1dzec///k+t/3GN77BTTfdxBlnnNHlRoMHH3yQ448/nqVLl7Jjxw6uvvpqFi1axK233sp5553HkiVLOPfcczlw4MBwnJKIiIiMAuac87uGIbdixQpXUFDQpW379u0sXLjwqI9VXFzMhz/8YbZu3TpY5Q2Jd3t+IiIi4i8z2+icW9Fbn0bcREREREYJBbejNHPmzBE/2iYiIiLHJgU3ERERkVFCwU1ERERklBjW4GZm2Wb2kJntMLPtZnaamY03s2fNbLf3c5y3rZnZnWa2x8y2mNlJnY6z2tt+t5mtHs5zEBEREX8VrivjsTs3UbiubEj63+37DofhXoD3v4GnnHOXmVkISAW+Baxxzt1uZjcCNwLfBD4EzPUepwA/A04xs/HAt4EVgAM2mtljzrmaYT4XERGRfhWuK2PvpgqOW5bL4jPz+m0f7H386MM5CteVULTpIMedOIH5K3MIt0WIhsPE2sPsLjhI+a4q5iybwIKTc6k92ET94UZcezvRcDuH9lZRd6iBecvHM/v4bMp2VFJTVkcsEqaxqpHGw41kJTkOvRVmXOkEWuubqSmvh2iYaLgdohHyEqK0lUSo2pVJTXk9rQ3NJBAlwaIkEmGRRQmUR2jYnERdeR0JFiFABLMof6r6LwBu+Pk5APzP5547cmrp45NYe3/8e8d7nPcwGLblQMwsE3gDmO06vamZ7QRWOecOmNkUYK1zbr6Z/cJ7/kDn7ToezrnPeu1dtuvNYC4HMtieeuopvvKVrxCNRvn0pz/NjTfeOCjHHSnnJyLHpt7+aL+XtqNtH/C2sRi4GNtejIeImcePZ/7KXFwsgotG2FtwkJIdh5m5KJupc7NwkSixSIR9bx7i4N5a8udlsfj0ScRiUQ7treHA7iqqyxoYNzmZnLxUMsaFGDcpmaLNh9j3xiEyxofImpiEi0YhFiEWiVGyrZKMcSGaaprJnJBEanqAlvpWmmpbSE0P0NbUxozF46gpbwAXJdIaJtwaJhBwEIsyY3E2qRmJ7N5QDi6GEX8kWIz8+VlkT0ziYFENtQcb3+4jhlmMSTPSiUWjVJfWY9a1z3CkZQZpqW8lEAAXi8T7iPd1bB8MQiwaeXvfTn0J5sBFSTCHEQWcd3z/lxqLuQRiFsQRJBpLIOYCxAh6PwPEXJCEUCIuIURLC8RcIlGCxFyQJ2pvBBJ6DW4f/tKJrH+0iOT0IBd/edmQ1P5Oy4EMZ3BbCvwS2AacCGwEvgKUOeeyO21X45wbZ2aPA7c751702tcQH4lbBSQ752712m8GWpxzd3R7v+uB6wGmT5++vPs3EIyEYBONRpk3bx7PPvss+fn5rFy5kgceeIBFixa952OPhPMTkZHrncLQ7BMnMmdJOs1VNRS9UkRjRTUz5iaRFGynqqSKhop6mqsaSAxGIRpm/opxWCxM8eYDBCxMAhECFjnyPDU9gbamNi+IdA4A8QAxY2EWjTUt1B1q6NKeQPRIQAkGwUXCR/rix4hiFiMUMgIBCLe0H+nr2G+0i7kEsARICBCNdMSiBMCIuQQSEoMkpyXTVB8mGjUcCTjv03EugeSMZCJhR7gdr9/r8/qDSUGwAKG0JOoPtx05/tv9icxaOondGyuJhHm7z+ufc/IUSrbXEglDa0sMuu2/9LyZ7NxQQTgMkXYHCQHC7eAwkjOSISFAMDmR3OlZVJa1YMFEqg60EY0FmLowh8rSFhJTkpizMp/6mjCBxBAV5S3s3VRL2oQ06qrCnPqx+UydP5FINEAgKcTeLTW8/Jd95ORnUFnayKor5/cI92vv30nOtAwqSxp69Pfl3e73brxTcBvOqdIgcBLwJefcejP7b+LTon2xXtrcO7R3bXDul8SDIitWrPA/+vdiw4YNzJkzh9mzZwNwxRVX8Oijjw5KcBMR6dA5pM1dksrmP62lZutWJgYqCJfUUL0lRihSxeSKcmYl1JLyXAP2vCMZGN9xkNfjP6Z2vM7u9Aa74z8mZcSDRseoRdQFiZFIekYajbEw4YjhEuJ/0OMBIYBzCdCeSFtDC84lECF45I9+zAVwJJCYEmLaohx2FRw+Ekg6h4O0lFRmL5tM4ZpSYi7hSHhxJJCalUJCKEikHVqaokdCAxYg5hIIhIKccdk8XnuyhKa6MKHUEK3NMWIugdTsFFqbo6RPSGX5hbNZc+9OojFj4rQsKkuasUACx6+azr7CGtqaY0yYkcW+wloCiUFmnpiLBQK0tTi2vXKQ7MkZVB9oZfZJk5g6bzwHihrZ8WoF2ZPTqT7Uymkfm8vEGdkkBBIo3lrNa0+WMn5KOtWHmll15XwWnjGVwudLeOmhPUzMT+dwaSPvv2Iex5+ZBwlG8TuEincKHF366nr2PXP/TnJ2ZFBZ3ft+O3ZnUHkg3re8l3C0b2MGleV9vOf4t+vJOzOPvG771pRnUFkW7590Zh6TvP7ZQIb3v+kV5+Yyv1t4WjZlAqHUFPZuqug1XHW87qu/L+92v8E2nMGtFCh1zq33Xj9EPLgdMrMpnaZKKzptP63T/vlAude+qlv72vdS2A82/IAd1TveyyF6WDB+Ad88+ZvvuE1ZWRnTpr19ivn5+axfv/4d9hAR6d+RkbOFqTRvfxG3bwMnZZaQ+cwuQmsqORmOBK9wLJm2w+NoD4yngakcaFtASyyLMClELJUIKZy1ejnr/lJOhBRmLsuj6lCYXRurSc/JoKYizKmXLYSEEGsfLGLitOwjf4yB+B/olAwqD3Vr6xQiJp2Zx8E+wkXhujKevH8nOYkZVNb3cYyL58OZeSSm9X2MF/poX3v/TsqeyaCyfGaP9pwJGVTWNrDqwvkEFuWR9+FlrL1/Jw2NGVQ2xo8z7cw86jveN5BBZX1Wjz/qSdPj/z2Wn/X26ObsMyF7drz99HO6TvfmHpdL2vgM9m6qYMk50470Lf3AdBJDgV6DwzuFiuHuG8p9O2/zTsHpvfYP9n6DaVi/8srM1gGfds7tNLNbgDSvq6rTzQnjnXPfMLOLgC8CFxK/OeFO59zJ3s0JG4mP3kH834HLnXPVfb1vf9e4+RXc/vSnP/H0009z9913A3DfffexYcMGfvKTn7zn99dUqcjYE2lpYeOvHiS4fy35SW+SEywiwWI4Z9jE43irYioHm6cTyZxJWeUEgrmzOXQg1meg6q1tMK5nG9Zr3HxuF3k3RsQ1bl4hS4G7gRBQBPwL8SVJ/ghMB/YDlzvnqs3MgJ8CFwDNwL845wq841xL/G5UgNucc795p/cdqTcnvPLKK9xyyy08/fTTAHz/+98H4KabbnrPxx4J5yciQysWjbH+t8+QVP4Cc8cVklq9nkCshagLcCg8n7L2xVS44ylrnkv2tNweo03vJWSJyNAZMcHNLyM1uEUiEebNm8eaNWvIy8tj5cqV3H///SxevPg9H3sknJ+IDK6t/yih5MX1jGt9nfHtbzA1tI30QHyyoS4ymfD0VeyoWMS2suPInjapy8iZwpfI6DFSbk6QboLBID/96U85//zziUajXHvttYMS2kRk9Ok+suUi7bz58Fqqt2wkJ7mUaeMPMvvgaxwfqIMANIXGUda+mIOxE1j4yU/w/N/aSW4NcvG/L2Ocd6zOU5sKbCLHBgU3n1144YVceOGFfpchIsPs7aU3xuMOv0XpupeYPaGC0OO7qXpqP9nBAyyxCCRCLJJAY+VUKhJX0p5zCtvKZmMTZzNn+STevH8nB//W3mV0bSRcQC0iQ0PBTURkiBWuK2Pv64eYvwgyI7spe/ElMiJvcVqwhHHPlRK0MCdkA1GoS5xEdWQ6xW0nUxObzpTTTqFwezoRl0jNgWZyghlUVjWw6vxJI2Z5AhEZPgpuIiKD7M3niil9eQPjKCKpbhsTg8Wcl1RM8kt1AExJhIaEiVRHplPavITq6HSqwtMJTF7AwUMRVl05n2Rg5/07qT6yTlZ8vcfepkAV2ETGDgU3EZGj1Pl6tHknZfP6754isWorM3NKofwNFsaKOMHCAERSE6mKzKB9xvlsK51EXWAOKXNOZOPzNV2W2ZhMRyjregOBrlUTkc4U3ERE+nFkqnOx4Sp3U/XaBuYG95JzqIiEv5dwikUBaC1Jo9rNYV/rhUTGL6a8cRpNwenUVLeTc6DrCvIZU/q/gUCjaSLSnYKbiIx5nUfQFqzM5rXfraF5TyGpkf2MC5QxMVjG3EAZoRdbAFiQCc3RTCojx1HctJwam8vyay/m739uIhKJUdPYTM64jq8JmgVoilNEBoeCm4iMOVv/UcK+l99gfGI5Vr2H1PB+liUeIPuZMhLWHOZUHCTHt22I5lATmUp55oeobs+jJjqVkoocUvNmUFnayLyVk9j12iFqHmk+8oXWoClOERkaCm4+uvbaa3n88cfJzc1l69atfpcjcszovibaq3/ZRc3m9SydV0Zq7evMOrCB4wM10AaEoC2YSm1kKtWJS9jZMpkGN5WZ55xOwfoAYUui5nAzORlvT3W+fT1aPJhNnZutoCYiw0LBzUfXXHMNX/ziF7n66qv9LkVk1OsIaynpIYo27CcvfS+N+7ay/4ntnJS4k1BCC+yCJnIpD59AXXAJFS3TaAzkU1mdQs60TCpLGo6MoFUWdAS1acA7j6Bp2lNEhouCm4/e//73U1xc7HcZIqPSkQVsl+bQWHaA6lf/zvwJe8g6uIVzJu0lYFGcM6oi09nVehaZJ53Nlr351EcmUlPXTE5mBpUHG3qd2tQImoiMVApuwMHvfY+27TsG9ZhJCxcw+VvfGtRjioxlHUFt3qIEwsWbaNhewMLgW0ysKGJcsBzGgSORiuA8NjddQk3SiRTXzGbGiuPY9dohcooyqCzVCJqIjG4KbiIyYnS+Nm3R6ZMpuP95Gre9RmZ4NxMT3+KDoWJSX4x/qToZUB/N4XB4FjtaP0h52wLcpBM5VNnOvJWTaGls57QLcjWCJiLHFAU30MiYiI86wlqSNRLe8zJzJ+wl68k3CT9bxMqEVkiCaChATWQaDdmnsatxGpWRWeyrmErmtClUHo5Pd2bijaKdNUvroYnIMUvBTUSGXceCtultO8mseJYzkl5jQuJ+GAcQ5HBoDjuaPkC1m03eWe/n1ZeC1NdCTtrbd3ZORUtuiMjYo+Dmo0984hOsXbuWw4cPk5+fz3e+8x2uu+46v8sSGVLb1hZR8dgvOS3lKXIS3yKWlkB5+2JebbiSA+0LiU1exsED4SN3d1a8mUF9XQPzTo5PfyqoichYpuDmowceeMDvEkSGReG6MvZuLGdG5GnmNf2WRZmVHA7PYG3dZ9nbejoZ0/KOLMURD2d9X5smIjKWKbiJyJAqXFdG4YNPsCrrLnITizjMAp6puYG23DOorG7sFNZ6hjNdmyYi0pWCm4gMicJ1ZewtKGdK2S+4bMLDtMSy+Hvjv9KUfyFzPjBJI2kiIu+CgpuIDLrCdWUU/OFFzs36EVPTt7O95WwKU7/EoSZj1fJJGkkTEXmXFNxEZNA1vfowV+T8JwGL8lzT1zmYdh7p45JYdU6uApuIyHug4CYig2bLc28Re/JmTk77K4fCcyhI/T8UN2Sw6iPTFNhERAaBgpuIDIqND7/GpIKvkp+2lTeaLqJi/r8SbebIHaIiIvLeJfhdgPT029/+lvLy8n63+/GPf0xzc/MwVCTSt8J1ZTx1y73M2/zPTA7tYnPmv7Nz3NdoaYaLv7xMoU1EZBApuI1ACm4yWhSuK6P04bv5oPs6jgQervoeu1pXUVnSwHHLcv0uT0TkmKPg5qPi4mIWLlzIZz7zGRYvXsx5553HfffdR0FBAVdddRVLly6lpaWFNWvWsGzZMk444QSuvfZa2trauPPOOykvL+fss8/m7LPP9vtUZCxyDnv5vzk/+4fUJS7k2cD/EM05geT0oJb5EBEZIrrGDTj4ve/Rtn3HoB4zaeGCAX15/e7du3nggQf41a9+xcc//nHMjBUrVnDHHXewYsUKWltbueaaa1izZg3z5s3j6quv5mc/+xlf/epX+eEPf8jzzz/PxIkTB7V2kf5see4t7KkbOSH1KXa3vo83Mr7FoUNtrLpSNyGIiAwljbj5bNasWSxduhSA5cuXU1xc3KV/586dzJo1i3nz5gGwevVqXnjhheEuU+SIzU9uI+OZz3BC6lO83vgxiufeTigjVaNsIiLDQCNuMKCRsaGSlJR05HkgEKClpaVLv3NuuEsS6dPhnUVMWfcpcpKKeD34JfaMv4TkpggXf3mZ36WJiIwJGnEbgTIyMmhoaABgwYIFFBcXs2fPHgDuu+8+zjrrrB7biQy1zQ+uIfG+CxifuJ8na7/JnoRLdBOCiMgwU3Abga655ho+97nPsXTpUpxz/OY3v+Hyyy/nhBNOICEhgc997nMAXH/99XzoQx/SzQky5Ir++lcWFF5NorXwl+r/IHTiR3QTgoiID2wsTMWtWLHCFRQUdGnbvn07Cxcu9KmioXesn58Mn31PPEro518lTDLTf/sEf/z5YZLTg5oeFREZIma20Tm3orc+jbiJSJ8KfvEAU1/9DE3VyZRXzOKPPz+s6VERER/p5gQR6dXmxzayqPRGGt0EDkdmkZyRoulRERGfjekRt2N1mvhYPS8ZRs4xYcM3CCU0UTTvvwgkJRGNOn2FlYiIz8ZscEtOTqaqquqYCznOOaqqqkhOTva7FBnFGp67h2nBAl5uuIatO7IIt0VJSU/0uywRkTFvzE6V5ufnU1paSmVlpd+lDLrk5GTy8/P9LkNGq2iE9C13Up+8mO01F5GZEiQ7N4W0rKT+9xURkSE1ZoNbYmIis2bN8rsMkRGn9vnfkV23j+jZd/PZs+JLzez7lEKbiMhIMGanSkWkpwO7q4mt/S8agrN55PFcDhbV+V2SiIh0ouAmIkccfuGvjA/up37h5zhu2WSeuXsrb2057HdZIiLiGbNTpSLSU07DGtpjKexuPo29mytobQrTXNdGut+FiYgIoBE3EekQDTO+7nlK3Clk5GRy9qcW+F2RiIh0oxE3EQHAFa0j5OppyruQ5RfMpLGmze+SRESkGwU3EQEguuXPOP/R09YAACAASURBVFJIXXaB36WIiEgfFNxEBGJRgnufgOMvZM4pMwBICBi5MzJISQ/5XJyIiHRQcBMROFQIzVUw7+3RttTMEJfftBKAfX7VJSIiXejmBBEhtu8VALbs1TduiIiMZApuIkL7zpdojE4gacrb3ybSXN/Og7dtYO+mCh8rExGRzhTcRISE8vUcaF9I3vxxR9piUcfhkkZaG8M+ViYiIp0puImMdbUlhNoOUmmLtASIiMgIp+AmMsbVbnwegPrkJTzxsy36flIRkRFMwU1kjGvf9SJhUlh46XnMP2UyZbtq/C5JRET6oOAmMsaNCxdSGZ1H6a56dq4/SN68+HVugaCRNz+btOwknysUEZEOWsdNZCyLRUms30Pa/CsJJgW48PNLmDw7C4CUjBAf/dpJgNZxExEZKTTiJjKW1e6HSCtvvJlGe3PkSGgTEZGRScFNZCw7vAuA2ti0Hl1NdW3cd/Mr7C44NNxViYhIHzRVKjKG/WDbb2B8NlPqpzGuW5+LQX1lC+0tEfRtpSIiI4NG3ETGsB0JUXZMnk876X6XIiIiA6ARN5GxLJQef4iIyKig4CYinPyR2Yyfkup3GSIi0g8FNxFhydn5PdqCiQnMXDKRjAnJOB9qEhGRnhTcRITaimZCyUFSM9++DSE5PZGLvrAE0DpuIiIjhW5OEBEeur2AjU8W+12GiIj0Q8FNRHrVVNfGr7/xIjvXH/S7FBER8Si4iUivXAxa6tuJtEf9LkVERDwKbiIiIiKjhIKbiIiIyCihu0pFhDMum0v2JK3jJiIy0im4iQgLT5/Soy0YSmDeyZPIyk1FV7mJiIwMCm4iQmVJA8lpiWSMTz7SlpyWyLnXLga0jpuIyEiha9xEhEd/tInNz+73uwwREemHgpuI9Kqpto1ffHkt218u97sUERHxKLiJSK+cg0h7jFhU31QqIjJSDGtwM7NiM3vTzDabWYHXNt7MnjWz3d7PcV67mdmdZrbHzLaY2UmdjrPa2363ma0eznMQERER8YsfI25nO+eWOudWeK9vBNY45+YCa7zXAB8C5nqP64GfQTzoAd8GTgFOBr7dEfZEREREjmUjYar0EuBe7/m9wEc7tf8/F/cqkG1mU4DzgWedc9XOuRrgWeCC4S5a5Fiy6qoFzD91st9liIhIP4Y7uDngGTPbaGbXe22TnHMHALyfuV57HlDSad9Sr62v9i7M7HozKzCzgsrKykE+DZFjy5zlueTOyOzSFgwlsPjMqYybkuZTVSIi0t1wr+N2hnOu3MxygWfNbMc7bGu9tLl3aO/a4NwvgV8CrFixQldXi7yD8j21pGaEunx7QnJaIquuWgBoHTcRkZFiWEfcnHPl3s8K4BHi16gd8qZA8X5WeJuXAtM67Z4PlL9Du4i8S0/ctYU315Z2aXPO4WIO5/TvHhGRkWLYgpuZpZlZRsdz4DxgK/AY0HFn6GrgUe/5Y8DV3t2lpwJ13lTq08B5ZjbOuynhPK9NRAZRU207d33heba9qH8XiYiMFMM5VToJeMTMOt73fufcU2b2GvBHM7sO2A9c7m3/BHAhsAdoBv4FwDlXbWb/Abzmbfdd51z18J2GiIiIiD+GLbg554qAE3tprwI+0Eu7A27o41i/Bn492DWKiIiIjGQjYTkQERERERmA4b6rVERGoHOvW0x6dpLfZYiISD8U3ESEGYsn9GhLTA6w9NzpTMhPp82HmkREpCcFNxFhX2EV6dlJTMhLP9KWlBLkjH+aE+/3qzAREelC17iJCM/eU9hj2Q8Xc7S1RIhGYj5VJSIi3Sm4iUivmurauftrL7DjlQN+lyIiIh4FNxEREZFRQsFNREREZJRQcBMREREZJXRXqYhw4ReWkJoR8rsMERHph4KbiDB1TnaPtlBygJM/MovcGZk0+1CTiIj0pKlSEWHPxgoq9tV3aQulBFl50Sxypmf4VJWIiHSn4CYirP39Dna+erBLWyzmaKxppb014lNVIiLSnYKbiPSqua6de296md2vHfK7FBER8Si4iYiIiIwSCm4iIiIio4SCm4iIiMgooeVARIRLvraM5LREv8sQEZF+KLiJCDnTei75EUoJcMZlc5g8O4tGH2oSEZGeNFUqImx/+QAH9tZ1aQslB1n6welMyEv3qSoREelOwU1EeOmh3ewp6LrsRzQao+ZgE23NYZ+qEhGR7hTcRKRXLfVh7r9lPXs2VvhdioiIeBTcREREREYJBTcRERGRUULBTURERGSU0HIgIsJlN64glKxfByIiI51+U4sI2bmpPdqSUoOc/ckFTJmTRb0PNYmISE+aKhURtjxfSumO6i5tiUkBFr1vKuMmp/lUlYiIdKfgJiJs+GsRb71xuEtbNBLjUHE9LQ3tPlUlIiLdKbiJSK9aGsI8dHsBRZsr/S5FREQ8Cm4iIiIio4SCm4iIiMgooeAmIiIiMkpoORAR4RPfPoVgKOB3GSIi0g8FNxEhLSupR1tSWpDzrltM7swMan2oSUREetJUqYiw8ali9m2t6tKWGAowd+UksnJ6Ls4rIiL+UHATETY9s5/9hV2DWzQco3RHNY01bT5VJSIi3Sm4iUivWhrDPPrjzezberj/jUVEZFgouImIiIiMEgpuIiIiIqOEgpuIiIjIKKHlQESEq793OgkB87sMERHph4KbiBBK7vmrIDk9yEU3LGFCXjrVPtQkIiI9aapURHj10b0Uba7s0hZMDDDzhIlkjE/2qSoREelOwU1E2PqPMsp21nRpi7RHKdpcSf3hFp+qEhGR7hTcRKRXrU0Rnvz5m5Rs10SpiMhIoeAmIiIiMkoouImIiIiMEgpuIiIiIqOElgMRET79w/f7XYKIiAyAgpuI9ColPZGPfX0ZWbmp6GvmRURGBk2Vigjr/riL3a8d6tIWSExg6txxpGUl+VSViIh0p+AmIux89SAHi+q6tIXbo+xcf5DaQ80+VSUiIt0puIlIr9qaIvz9N9so21XT/8YiIjIsFNxERERERgkFNxEREZFRQsFNREhMChAI6teBiMhIp+VARITV3z/D7xJERGQAFNxEpFcpGYl8/FsrSR+fRIXfxYiICKCpUhEBnr9vOzteOdClLRBMIGd6BinpIZ+qEhGR7hTcRIS9myqp3N/QpS3cFmXrC2VUlzf5VJWIiHSn4CYivWprjvCP+3dyYG+t36WIiIhHwU1ERERklFBwExERERklFNxEhNTMEKEU3WQuIjLS6Te1iHDlLaf6XYKIiAyARtxEpFepmYlc9d1TmbNikt+liIiIR8FNRHj67q0Urivr0pYQSCA7N5UkTaGKiIwY+o0sIpRsqyY1o+tCu+2tEba+UMb0ReN9qkpERLpTcBORXrW3RHnlz3tJSgmS7ncxIiICaKpUREREZNRQcBMREREZJRTcRITMiSmkZCT6XYaIiPRj2IObmQXMbJOZPe69nmVm681st5k9aGYhrz3Je73H65/Z6Rg3ee07zez84T4HkWPNx7+1khUXzvK7DBER6YcfI25fAbZ3ev0D4EfOublADXCd134dUOOcmwP8yNsOM1sEXAEsBi4A7jKzwDDVLjJmpGaFuOYHZzDvlMl+lyIiIp5hDW5mlg9cBNztvTbgHOAhb5N7gY96zy/xXuP1f8Db/hLgD865NufcW8Ae4OThOQORY9Pj//MGW54v6dKWkGCkZSWRGNK/i0RERorhHnH7MfANIOa9ngDUOuci3utSIM97ngeUAHj9dd72R9p72ecIM7vezArMrKCysnKwz0PkmHJwbx11FS1d2tpbIqx/rIiKffU+VSUiIt0NW3Azsw8DFc65jZ2be9nU9dP3Tvu83eDcL51zK5xzK3Jyco66XpGxrr01SsETxVTub/C7FBER8QznArxnABeb2YVAMpBJfAQu28yC3qhaPlDubV8KTANKzSwIZAHVndo7dN5HRERE5Jg1bCNuzrmbnHP5zrmZxG8ueM45dxXwPHCZt9lq4FHv+WPea7z+55xzzmu/wrvrdBYwF9gwTKchIiIi4puR8JVX3wT+YGa3ApuAe7z2e4D7zGwP8ZG2KwCcc4Vm9kdgGxABbnDORYe/bJFjx4S8dNLGJfldhoiI9MOX4OacWwus9Z4X0ctdoc65VuDyPva/Dbht6CoUGVs+9vWT/C5BREQGQN+cICK9SssKcf1/n8WC06f4XYqIiHgU3ESER/7rdV5/Zl+XNkswEpMCBAL6NSEiMlLoN7KIUFXWSFNNW5e2tuYwL/5xNweL6nyqSkREulNwE5FehdtivPFcCVVljX6XIiIiHgU3ERERkVFCwU1ERERklFBwExEmH5dFVm6K32WIiEg/RsICvCLisw/fcGLvHb19M7CIiPhGI24i0qv0cUnc8LNzWHxmnt+liIiIR8FNRPjj916j4Im3/C5DRET6oeAmItQfbqGlIdylrbUpzHP3bad8d41PVYmISHcKbiLSq0h7jO0vHaDmYLPfpYiIiEfBTURERGSUUHATERERGSUU3ESEaYvGM35qmt9liIhIP7SOm4hw/qeP79FmBqHkAAkB/ftORGSk0G9kEelVWnYSn/nxWSw8fYrfpYiIiEfBTUS4/5ZXWf9Ykd9liIhIPxTcRITm+nbaWyJd2lqbwjx991ZKdlT7VJWIiHSn4CYivYq0x9hTUEF9ZYvfpYiIiEfBTURERGSUUHATERERGSUU3ESE45blkDM9w+8yRESkH1rHTUQ4+1MLe7RZQnxJkMSkgA8ViYhIbxTcRKRXaVlJXHP7GQDs87kWERGJ01SpiHDvTS/x8sN7/C5DRET6oeAmIoTbokQjsS5tLY3tPP7TN9hXWOVTVSIi0p2Cm4j0Khp27NtaRWN1q9+liIiIR8FNREREZJRQcBMREREZJXRXqYgw/9TJTJ6V5XcZIiLSDwU3EeHMj8/r0ZYQMLInpRJK0a8JEZGRQr+RRaRXqZkhrvrOqYDWcRMRGSl0jZuIcPf/eoF1D+7yuwwREemHgpuI9KqloZ0/37GRt7Yc9rsUERHxKLiJSK+iEceBPXU017X5XYqIiHgU3ERERERGCQU3ERERkVFCd5WKCMeflUfujEy/yxARkX4ouIkIp15yXI+2hICROyODlPSQDxWJiEhvFNxEhPbWCAkBI5gYONKWmhni8ptWAlrHTURkpNA1biLC//vWy7zy571+lyEiIv1QcBORXjXXt/PgbRvYu6nC71JERMSj4CYivYpFHYdLGmltDPtdioiIeBTcREREREYJBTcRERGRUUJ3lYoIy86bzsT8DL/LEBGRfii4iQjLL5jZoy0QNPLmZ5OWnTT8BYmISK8U3ESEpro2gqEASSlv/0pIyQjx0a+dBGgdNxGRkULXuIkID3xnPRseK/K7DBER6YeCm4j0qqmujftufoXdBYf8LkVERDwKbiLSKxeD+soW2lsifpciIiIeBTcRERGRUULBTURERGSU0F2lIsLJH5nN+CmpfpchIiL9UHATEZacnd+jLZiYwMwlE8mYkIzzoSYREenpqIObmaUBrc656BDUIyI+qK1oJpQcJDUzdKQtOT2Ri76wBNA6biIiI0W/17iZWYKZXWlmfzOzCmAHcMDMCs3s/5rZ3KEvU0SG0kO3F7DxyWK/yxARkX4M5OaE54HjgJuAyc65ac65XOBM4FXgdjP75BDWKCI+aKpr49ffeJGd6w/6XYqIiHgGMlVa4Jz7j+6Nzrlq4GHgYTNLHPTKRMRXLgYt9e1E2nVVhIjISDGQEbez+9vAORcehFpERERE5B1oHTcRERGRUWIgU6UnmtlbwJvA1k4/d2ikTeTYcMZlc8mepHXcRERGuoEEty3ARcDxwAnAecDXgblmVuKcO34I6xORYbDw9Ck92oKhBOadPIms3FR0lZuIyMgwoHXcnHPlQDnwTEebmRkwZ4jqEpFhVFnSQHJaIhnjk4+0Jaclcu61iwGt4yYiMlIM5Bq3/+mt0cXtHuR6RMQHj/5oE5uf3e93GSIi0o9+g5tz7u7hKERERpam2jZ+8eW1bH+53O9SRETEo7tKRaRXzkGkPUYsqm8qFREZKd51cDOzKWaWNJjFiIiIiEjf3suI233ADjO7Y7CKEREREZG+9XtXqZktcM7t6N7unPugd2fpoiGpTESGzaqrFpA5Mbn/DUVExFcDGXF7wsx+bWbTu3d4d5YWDkFdIjKM5izPJXdGZpe2YCiBxWdOZdyUNJ+qEhGR7gYS3BYAm4B/mNmPzSxniGsSkWFWvqeW2kPNXdqS0xJZddUCps7J9qkqERHpbiDLgbQ7534CLARKgfVm9l0zyziaNzKzZDPbYGZvmFmhmX3Ha59lZuvNbLeZPWhmIa89yXu9x+uf2elYN3ntO83s/KOpQ0R6euKuLby5trRLm3MOF3M4p7tKRURGigHfnOCca3XO3UH8a69agdfN7H8fxXu1Aec4504ElgIXmNmpwA+AHznn5gI1wHXe9tcBNc65OcCPvO0ws0XAFcBi4ALgLjMLHEUdIjIATbXt3PWF59n2otZxExEZKQYc3MxsppldAHwamA40AN8b6P7e9XCN3stE7+GAc4CHvPZ7gY96zy/xXuP1f8C7GeIS4A/OuTbn3FvAHuDkgdYhIiIiMlr1G9zMbIuZVQN/Aa4BsoHngNVA+tG8mZkFzGwzUAE8C+wFap1zEW+TUiDPe54HlAB4/XXAhM7tvezT+b2uN7MCMyuorKw8mjJFRERERqSBfMn8x4AiNwgXujjnosBSM8sGHiF+3VyPzbyf1kdfX+3d3+uXwC8BVqxYoYt0REREZNTrN7g55/YO9ps652rNbC1wKpBtZkFvVC0f6LigphSYBpSaWRDIAqo7tXfovI+IvAvnXreY9Gx9EYqIyEg3bN9VamY53kgbZpYCfBDYDjwPXOZtthp41Hv+mPcar/85b9TvMeAK767TWcBcYMPwnIXIsWnG4glMyOt65UNicoCl505nQv5RXREhIiJDaCBTpb0ysylAtXOubYC7TAHu9e4ATQD+6Jx73My2AX8ws1uJrxd3j7f9PcB9ZraH+EjbFQDOuUIz+yOwDYgAN3hTsCLyLu0rrCI9O6lLeEtKCXLGP82J9/tVmIiIdPGugxvx7yo9zsweds71uyyIc24LsKyX9iJ6uSvUOdcKXN7HsW4DbjvqikWkV8/eU8j8UyZz5j/PO9LmYo72tijBxGEbmBcRkX686+Cm7yoVObY11bVz700vseqq+Ud3+7iIiAyZAQc3M3sT2NLp8Saw2hv9EhEREZEhdjRzIGcBvwJaiF9vthW4aCiKEhEREZGeBjzi5pyrBtZ6D8xsLvDvQ1KViIiIiPRwNFOlc51zuzteO+d2m9mSoSlLRIbThV9YQmpGyO8yRESkH0dzc8Ivzew4oIz4NW7JwFYzS3XONQ9JdSIyLKbOye7RFkoOcPJHZpE7IxP9H1xEZGQ4mqnSswHMbDqwFDjR+/mGmUWdcwuGpkQRGWp7NlaQOTGZ3BmZR9pCKUFWXjQL0DpuIiIjRb/Bzcys8/eUOuf2A/uJf4NBxzaZve0rIqPD2t/vYP4pk7sEt1jM0VzXRijlvSz3KCIig2kgd5U+b2Zf8kbajjCzkJmdY2b3ApcOTXki4pfmunbuvelldr92yO9SRETEM5B/Sl8AXAs8YGazgRoghXjoewb4kXNu89CVKCIiIiIwgODmffXUXcBdZpYITARanHO1Q12ciIiIiLztaJYDOQe4CqglfjfpFmDrUXzJvIiIiIi8B0dz1fHvgBu8fZYAHwUWA3OGoC4RGUaXfG0ZyWmJfpchIiL9OJrgtsc594j3/E9DUYyI+CNnWkaPtlBKgDMum8Pk2Vk0+lCTiIj0dDTfVfoPM/uamdmQVSMivtj+8gEO7K3r0hZKDrL0g9OZkJfuU1UiItLd0QS3xcDngQNm9jczu83MLh+iukRkGL300G72FHRd9iMajVFzsIm25rBPVYmISHcDDm7OuUudc/OAWcC3gd3AKUNVmIj4q6U+zP23rGfPxgq/SxEREc9RL4nunGsBCryHiIiIiAyTo5kqFREREREfKbiJiIiIjBL69mgR4bIbVxBK1q8DEZGRTr+pRYTs3NQebUmpQc7+5AKmzMmi3oeaRESkJ02Vighbni+ldEd1l7bEpACL3jeVcZPTfKpKRES6U3ATETb8tYi33jjcpS0aiXGouJ6WhnafqhIRke4U3ESkVy0NYR66vYCizZV+lyIiIh4FNxEREZFRQsFNREREZJRQcBMREREZJbQciIjwiW+fQjAU8LsMERHph4KbiJCWldSjLSktyHnXLSZ3ZgavH24imGDM8KE2ERF5m6ZKRYSNTxWzb2tVl7bEUIC5KyfRnhxgQ2AC1VNm+lOciIgcoeAmImx6Zj/7C7sGt2g4RumOau5b9xY/O/4Sjv/+Lf4UJyIiR2iqVER61dIY5pEfb+KBKVFOP24Cx+Wk+12SiMiYpxE3EelTUTBGZUuYT56qq9tEREYCBTcR6dPGpAhZgQSWpCT7XYqIiKDgJiJ9+Ns/itmfGOOctHSe+cVWDhbV+V2SiMiYp2vcRISrv3c6CQHr0nb3hn2kOPj2F1dS+EwJZbtqmDw7y6cKRUQENOImIkAoOUgw8e0FeDftr2F3LMxp0RCFz5Swc/1B8uaN87FCEREBBTcRAV59dC9FmysBCIejfPev25iQFuLfPn0SyemJXPj5JRptExEZATRVKiJs/UcZ80+JMntpDv/3nk1sKqnlm6fO4rgFE2DBBL/LExERj0bcROSIrRsP8ruiQ0wjQOjFw7ohQURkhFFwExEAHPDvD79Ji8Ht/7yUBadOoWxXjd9liYhIJwpuIgLA718qZnOsnfdFQrC3QTckiIiMQApuIkJpJMzfU8LMTUjk+59boRsSRERGKN2cIDLG1de08ufkNjISEjivNkDdwWaWXzDT77JERKQXGnETGcOi0RhFNc00JTju/cJpzMjPZO+mCr/LEhGRPii4iYxRb6wtYVtxLa04zm1OZOd9u6ksaeC4Zbl+lyYiIn3QVKnIGPTmP0r4zqOFNEyfwtRIAv+0NI+WxnZWXTmfxWfm+V2eiIj0QcFNZIyJRmLc/JdCNidFWbHvY1yeM46WxnYu/vIyv0sTEZF+aKpUZAzZ8kIp//zt59icFOXk1iCX54zjcGmjpkdFREYJjbiJjBGbnivh3x4vZFsoymmtQa45fiptzRFNj4qIjCIKbiLHuMJ1Zbz+Sjm/PHSYklCM/3XuPCavr6WtOaLpURGRUUZTpSLHsMJ1ZTz8wHb+q7KS8mCMC5sSmby+VnePioiMUhpxEzlGFa4r456HtvG3jHYCDla7NOZMTCY5PajpURGR/9/encfZXdf3Hn99zjIzmWzsiJAAQthKRW3YpCqC5aJV0VasiBWtLQ8rXW9vW1u92mof1dvF+7gqqFRTsS6ggGyyRQI4RYQEEpZJAgTINmyBQEgyk5mzfO8f5wxMQhIm8DvnzJnzej4e85g5v/ObzPecbyZ5Pz7frU0Z3KRJaNHNq/nCVUu5d0qFfcrBh2Iq3ZsqHPOeWQY2SWpjBjdpErn/F2v52YJV/Hj4edZ3Vzl995nMfRYoVTnRKpsktT2DmzRJ/Ozi5Vxw50r6uyrMqAa/t7mLN83oZt2GjQ6NStIkYXCT2tyin6/ia9c8wC+7S1SLcPyWAr+950wKU3E+myRNMgY3qU319w1w8Q0ruGZ4M8/2JA4p5Xj7UJHDDpjJujVW2SRpMjK4SW2kv2+Ahxc/xbpqmR+seZpHilX2IDh35u4cmoqUSxWrbJI0iRncpDbR3zfA/B8u5/buMgu7yxQK8IdHvpYZt6+np1Ri3fAWA5skTXIGN6kN9PcN8N1Ll3HjtBE25BNHD+d5y5YiBw+UWUcwbbdujjnVrT4kabIzuEkT3K3XP8o/3/gAD0ypsEclOHt4Cq/dAocduy9Dm0Y4+WyrbJLUKQxu0gR1361r+MFtq7ji+ecpFRNv2VLkbT29UK1y4ocPMaxJUgcyuEkTTH/fADdd9wiXD29iZbHKrHKO/zHY5WpRSZLBTZpI7rt1DV+7bBm3TCmRCvDu3BR+c/dpVKdXXS0qSTK4SRPFVRcv598XPsqq3iqzSjlOHyqyd1eeZ57dZGCTJAEGN6mlRvdlW1Id4fuPP00qwDsGi5zUO4XBzSVXi0qStmJwk1qkv2+AG36wnAXTy9yfLzM78nzjD45l0XeXUxquuFpUkvQSBjepBfr7BrjksuVcOX2Y53OJt1W7mft80H/pI2x6dtihUUnSdhncpCa779Y1/NvlS+nrKTMtBb9fmsK+Q3DYcfV92QxtkqQdMLhJTXT7DSv53A3LeGhKlTkjOd5fnEZXJPdlkySNi8FNapKf/WwFn73lQZ4rJk4eKnDylF42byhxohU2SdI4GdykBuvvG+DCK5fzs/wWphRyXPxHx7P82/UFCIY2SdIuyDXrB0XErIi4OSKWRUR/RPx5/foeETE/Ih6qf969fj0i4qsRsSIi7o2IN435s86p3/9QRJzTrNcg7Yr+vgG+97nb+czl93FlYQuvqeT4yHNdrLq4tgDhxPc5PCpJ2jVNC25AGfirlNKRwAnAeRFxFPBp4KaU0hzgpvpjgHcCc+of5wLfgFrQAz4PHA8cB3x+NOxJE0V/3wDX/3A53978HEu6Kxy7pcCndtuDWa+Z6gkIkqRXrGlDpSmlx4HH619vjIhlwP7AGcDJ9dsuAm4B/rZ+/XsppQT8KiJ2i4j96vfOTymtB4iI+cDpwI+a9VqknenvG+Cayx/k4mm1rT7etbnIG/LdPDuw2cAmSXpVWjLHLSIOAt4I3AHsWw91pJQej4h96rftD6wZ821r69d2dH3bn3EutUods2fPzvYFSDvQ3zfAf12ylCunlaCa+HB5Cq8pwbQ9PQFBkvTqNT24RcQ04DLgL1JKz0fEDm/dzrW0k+tbVw+N2QAAGg9JREFUX0jpQuBCgLlz577keSlr/X0DnH/pUq6fOsLBe0/l3U/nmF6BE892LpskKRvNnONGRBSphbYfpJQur19+sj4ESv3zU/Xra4FZY779AOCxnVyXWua+W9fwT5fdz7VTRjignOPMdXm6niu7AEGSlKlmrioN4DvAspTSV8Y8dRUwujL0HODKMdc/Wl9degKwoT6kegNwWkTsXl+UcFr9mtQSSxas4TNX9HN7T5mjh/OcU5xOoZSczyZJylwzh0pPAn4fuC8iltSv/T3wZeDHEfEJYDVwZv25a4F3ASuAQeDjACml9RHxRWBh/b4vjC5UkJpt4fxV/N11S1nRXeWELQVO7+ll8waPrZIkNUbUFm1ObnPnzk2LFi1qdTM0ydyxYBX/6/qlrIkq7y72cmy1i9JwxeFRSdKrEhF3pZTmbu+5ps5xkyaLG3/6EOdd189juSrvGSxybKXLTXUlSQ1ncJN20dUXL+NvfvkQG3KJ//zYscydPpXSiMdXSZIaz+Am7YIrfriUz971KIO5xJmbunj0ooestEmSmsbgJo3TT3+4lM8tWcmWXOJLJ83h8Jm9VtokSU1lcJPG4aZrH+bzS1YyQuKDm7rZdPs6K22SpKYzuEkv45c3reJvbn2Q4Uj8+ylHcOjMKVbaJEktYXCTduL26x/lr67r57mo8v5NXTx96xNW2iRJLWNwk3bg7gWr+fv5y3kin/jfJxzCkc5pkyS1mMFN2o77bl3D565eyqPFKqcNFYk7nrHSJklqOYObtI3+vgG+cvky7u+u8OYtBd48zX3aJEkTg8FNGqO/b4DvXrKUW3pKHDaS47d6eq20SZImjGYeMi9NeAsXPsY100rM6u3mdwe7qZSSlTZJ0oRhxU2qW7xgNfOeeIZySpyVm0p5Q8lKmyRpQjG4SdTntV25jNW5Cu8YLDKzHFbaJEkTjkOlEnDdTSu5rafMESN5Tn7NbkyZXjS0SZImHCtu6nj33LyGSzdtYEqCD86cydNrN3HIG/dpdbMkSXoJg5s6Wn/fAOf/dBlPFBInDxXpSQ6RSpImLodK1dHuvesJfjGlxAHlHG91iFSSNMFZcVNHu25oE8PAewq9DpFKkiY8g5s61oXfvJtfbNjECdHFtOcqHHbsvlbbJEkTmsFNHWl4S5n/ePgJplXha399EnvPns7QppFWN0uSpJ0yuKkjnffZm1mXT5wy1MWCb/Wzbs1Gh0klSROewU0d5/wL7uLm/AivK+U4rJSj7AHykqQ2YXBTR7n6igf56son2K0afPuPT2Cf2TOYtke3oU2S1BYMbuoYffNX8plfrqBA8Lubu+j7zlKHSCVJbcXgpo5w5/xV/PWNyxjKJX70Z29m/92mUHKIVJLUZtyAV5Pe9d++j39dtpYnC1Xev6mLxef3s+m5YUObJKntWHHTpHbfrWv4Vv8ADxernDpU5MiuLittkqS2ZXDTpNXfN8DXL1vG4u4Kx24pcGzqYmSwwonvO8TQJklqSwY3TUr9fQNcfPEyfj6lxEGlHO/IdVMuVTnsOE9HkCS1L+e4aVK6Z9HjXD2jxHRynFmYSr4Mv3n2HEObJKmtWXHTpLP45tV858ln2Fit8vu9M+H5ssOjkqRJweCmSaW/b4AvXbmMhylz6lCR/So5FyJIkiYNh0o1qXzz8mXc2VPmDcN53vGa3emZVjC0SZImDYObJoX+vgG+f8UDXNs1zKxSjlOGiqxbvZGTzz681U2TJCkzDpWq7fX3DfCflyzlx4Uh9qgG5x24Lz09BXbfr9dqmyRpUrHiprY374aHuGLqCHtWgg9u7ub5RzZSGq5wzCmzWt00SZIyZXBT27rrplX889XLuKunwuxyjjMGu+hJwbTdujnm1FlW2yRJk47BTW3pW/9yB/OeeoYnexJvGs7zR0cfwJr7nmHa7t18+PMntLp5kiQ1hMFNbeW+W9fw9Z8uZ0H3CIUcvG9zF3NKedbc94zDo5KkSc/gprZxybfu4cIHH+PhnioHlnK8a7CL3Qp5ylQdHpUkdQSDmya8Jbes4cIbHmJ+dQgKcMpgkTeN5CkUci+cP/pbf/BrrW6mJEkNZ3DThNTfN8DDi5/igSc3cvnwJh4vJA4u5/itoSJ75guUqTJjrylW2SRJHcXgpgln/rx+7l34BL/sKXF3V4WeHPz25iJHlqyySZI6m8FNE8oN37mfy+55jL7pJYYCXj+S5y1bisyoz2WzyiZJ6mQGN7Vcf98Ai3++mv5Ng9wUwzzVm9i/nOPUoSL7VnJ09eYZGaxYZZMkdTyDm1rqxu/cz4K7H+e/p5RZW6wyoxq8e3ORo6oFUgX2OXA63VMLHPLGfayySZI6nsFNTdffN8CDdz3Jrwae47Y0zNrpVaZW4dTBIq8fydNdyFGpJCtskiRtw+CmpunvG+C2qx9m0ZYtLOopsz6fmFEN3j5U5JjhPEUCwHlskiTtgMFNDdffN8D1VzzEwsow93aVGeyFfcrBu4eKHFbKU8znqJLonV7kuPe+zsAmSdIOGNzUEKMLDpZuGGRhboQVxSqpAIeUc/zGYIHZ5RxBuPBAkqRdYHBTZvr7BrhnwRqeeXYLS6ojLOku80xPYkoVjh0ucMxInt2quRfud+GBJEm7xuCmV62/b4A7r36ENZuGWdxdpr+7wkjAa8rBO4eKHD5m/hrgkKgkSa+QwU2vyAvVtfVDLK2WuL+rwpoZVfIJjijleeNwgf0qL1bXemcU6e4tuuhAkqRXweCmcRsNaxvXb2FluUR/V4XlPbXq2m6V4K1DBX59pEBvsromSVIjGNy0U6Nh7dn1QzxSKfNQscLD3RU2T4FigsNH8vz6SJ79K7XFBgDF7hzTdu+xuiZJUsYMbnqJ0bD25LpBVkQtrD3aU6UUtbB2cCnHoaU8c0p5upy7JklS0xjcBMD8ef08smQdz1XLPJir8lCxwtqpVaoBvVU4cqQW1GaXcxTGhDWra5IkNY/BrUONrgQd2jzCkyRWFCqs6KrwZCEBsEclmDtcYE4pz36VeGEYFAxrkiS1isGtQ4wOfw5vLjG4eYQ11KpqK3qrbMgnSPDaSo63DtUqa3uM2W8NIJcPZu7tUVSSJLWSwW0SGw1rG9YNsaVcZWWxyopihYenVtiSg3yCA8s5jh8ucEgpz7Qxq0GhFtYiHxzyhr091UCSpAnA4DbJjA1rGytVHi5WWNFdYdXUKuWAniq8rpzn0FKeg0u5rRYXgJU1SZImMoPbJDA6X23w+RLP1hcWrOipMpCvQsCMavD6kVpYO6CcI79NWHPOmiRJ7cHg1qbmz+tnxV1PUalUeSKfamFteoVn8rXFBfuUgzcPFzi0lGefbRYXOAQqSVJ7Mri1kf6+AW67bAWlLRXW5aos66qwvLfChnwiEswq5zhmuMChpRwz09aLCwjoneY+a5IktTOD2wQ3dhj0uVyV5cUKy6ZXeLoe1g4s53hzfXHBlG0WFxjWJEmaXAxuE9RPvrSQp1ZtZITEA10V7p9WYW2hCsD+5RynDhY4vJRn6rZhDU8wkCRpsjK4TTDf+/vbeH79FtYUqtzfW+HBYoVSwO6V4C1DBY4cyTsMKklShzK4TQD9fQP84pIHGSnX5q0tml7m6XyiK9WOmjp6JM9rxxziPuqw4/Z1cYEkSR3E4NZC8+f18+CdTzIUicVdZRb3lhnMwV6V4PTBIkeM5CluZ+uOkz4wx8qaJEkdyODWAv19A9zygwcYjMSinjJ3d5cpBbyulGPuYIHZ5W2qawGHHWt1TZKkTmdwa7Jv/unNjJSq3NVd5pc9ZUrAEaU8J2wpsPc254Puc+B0zvy7Y1vTUEmSNOEY3JpkdFh0bb7CjdNLPJNPHFLK8bahInsa2CRJ0jg0LbhFxDzg3cBTKaWj69f2AC4BDgJWAh9MKT0bEQH8P+BdwCDwsZTS3fXvOQf4bP2P/aeU0kXNeg2v1AWfWkCpmvjvnjILu8vMrAbv39TFoeX8VvcZ2CRJ0s40s+L2XeDrwPfGXPs0cFNK6csR8en6478F3gnMqX8cD3wDOL4e9D4PzAUScFdEXJVSerZpr2IXnf/JBTydq3LN9BHW5RPHDOc5eai41eHuBjZJkjQeTQtuKaVfRMRB21w+Azi5/vVFwC3UgtsZwPdSSgn4VUTsFhH71e+dn1JaDxAR84HTgR81uPmvyPmfXMCDxQrX9o5QTPA7m7o4ZEyVrbs3zx9+5W0tbKEkSWonrZ7jtm9K6XGAlNLjEbFP/fr+wJox962tX9vR9ZeIiHOBcwFmz56dcbNf3vmfXMA9XWVu7C2xXzk4Y3M308eccnDy2Ye7pYckSdolrQ5uO/LSc5xqQ6M7uv7SiyldCFwIMHfu3O3e0yjnf3IBS4u10Pa6Uo4zNndRGNP08755SjObI0mSJoncy9/SUE/Wh0Cpf36qfn0tMGvMfQcAj+3k+oRxwacWsC5X5YbeEgeUtw5t+WIY2iRJ0ivW6uB2FXBO/etzgCvHXP9o1JwAbKgPqd4AnBYRu0fE7sBp9WsTRrWamN9bopjgPWNC2/Q9uvnk197e4tZJkqR21sztQH5EbXHBXhGxltrq0C8DP46ITwCrgTPrt19LbSuQFdS2A/k4QEppfUR8EVhYv+8LowsVJoLzP7mARwpVBgpVThssMq0+py1y8NF/PqnFrZMkSe2umatKz9rBU6du594EnLeDP2ceMC/DpmVqcXeZaVU4euTF1aOfusDhUUmS9Oq1eqh00pg/r59hEisLVY4aKZCvD5E6p02SJGXF4JaRB+98krWFKingoLJvqyRJyp4JI0OPF6pEgtfWg1v47kqSpAwZLTK0PpeYWQ2K9WFS57ZJkqQsGdwy9Ey+yp7V7e0RLEmS9OoZ3DK0MWoVN0mSpEYwuGWkQmI4B1MMbpIkqUEMbhkZque1KcngJkmSGsPglpGhqJ1j32twkyRJDWJwy8BPvrSQ4Xpw604tbowkSZq0DG4ZeGrVRir1Qlu+Hty6e/M7/gZJkqRXwOCWkWr98+hA6R9+5W2taookSZqkDG4ZGR0hzeEcN0mS1BgGt4yMBjdjmyRJahSDW0ZGh0p9QyVJUqOYMzIyugtIuKpUkiQ1iMEtIw6VSpKkRjO4ZaRaj26+oZIkqVHMGVmIbea4WXaTJEkNYHDLQC4XWw2V5nImN0mSlD2DWybSNosTXKEgSZKyZ3DLRIwZKg0cK5UkSY1gcMtE2mZVqRU3SZKUPYNbBvLF/FZnleaLHjAvSZKyZ3DLQLErN+as0tpjSZKkrJkwMlKtH5mQc5RUkiQ1iMEtA91Ti1vNceueWmxlcyRJ0iRlcMvA3rOmbxXc9p41vZXNkSRJk5TBLQPrVm/c6uSEdas3trI5kiRpkjK4ZWB4sLRVxW14sNTK5kiSpEnK4JaR6ujJCa1thiRJmsQMbhkYXZwQCYJwcYIkSWoIg1sG9p41nSovvpkuTpAkSY1gcMvAutUbaxW3MY8lSZKyZnDLwPBgiSrpheDm4gRJktQIBrcMdE8tkuLFN9M5bpIkqREMbhkY3YC3fuqVc9wkSVJDGNwyMLoBby7ihceSJElZM7hlISAx5oB5N3OTJEkNYHDLwOh2IDHmsSRJUtYMbhlYt3ojKdwORJIkNZbBLQO17UBeXJzgdiCSJKkRDG4ZGD3yyu1AJElSIxncMvDCdiBjHkuSJGXN4JaB2nYg6YU30zlukiSpEQxuGRgeLNVPTogXHkuSJGXN4JaB7qnF+nYg6YXHkiRJWTO4ZcAjryRJUjMY3DIweuSV+7hJkqRGMrhlYHiwVN8OxDlukiSpcQxuGRl7coIkSVIjGNwyUmXMIfOSJEkNYHDLSJVkxU2SJDWUwS0DpeHKVkdelYYrrWyOJEmapAxuGaiUq1sdeVUpV1vZHEmSNEkZ3DIRVGPsm+mgqSRJyp7BLRNpqw14wVUKkiQpewa3TMRWQ6VW3CRJUiMY3DJQrabadiD1wFatWnGTJEnZM7hlIbHVkVeOlEqSpEYwuGUkhW+mJElqLLNGRrZenCBJkpQ9g1tGqiTfTEmS1FBmjYxsvapUkiQpewa3jBjcJElSoxncMlJ1cYIkSWows0ZGqrg4QZIkNZbBLSOJFzfglSRJagSDW0ac4yZJkhrN4JaR2pFXkiRJjWPWyEgKK26SJKmxDG4ZSPXDSV2cIEmSGsngloFq/bNvpiRJaqS2zRoRcXpEPBARKyLi061si8FNkiQ1Q1tmjYjIA+cD7wSOAs6KiKNa1Z7REVLnuEmSpEZqy+AGHAesSCk9klIaAS4GzmhVYwxukiSpGdo1uO0PrBnzeG392gsi4tyIWBQRi9atW9fQxgRwQDnHjGq7vp2SJKkdtGvS2F5xa6s1nSmlC1NKc1NKc/fee++GNqaL4KxN3Rxeyjf050iSpM7WrsFtLTBrzOMDgMda1BbO++YpO30sSZKUhUKrG/AKLQTmRMTBwADwIeDDrWyQYU2SJDVaWwa3lFI5Iv4EuAHIA/NSSv0tbpYkSVJDtWVwA0gpXQtc2+p2SJIkNUu7znGTJEnqOAY3SZKkNmFwkyRJahMGN0mSpDZhcJMkSWoTBjdJkqQ2YXCTJElqEwY3SZKkNmFwkyRJahMGN0mSpDZhcJMkSWoTBjdJkqQ2YXCTJElqEwY3SZKkNmFwkyRJahMGN0mSpDZhcJMkSWoTBjdJkqQ2YXCTJElqE5FSanUbGi4i1gGrmvCj9gKebsLP0fjYHxOPfTLx2CcTj30ysbSiPw5MKe29vSc6Irg1S0QsSinNbXU7VGN/TDz2ycRjn0w89snEMtH6w6FSSZKkNmFwkyRJahMGt2xd2OoGaCv2x8Rjn0w89snEY59MLBOqP5zjJkmS1CasuEmSJLUJg5skSVKbMLjtoog4PSIeiIgVEfHp7TzfHRGX1J+/IyIOan4rO8s4+uR/RsTSiLg3Im6KiANb0c5O8nJ9Mua+D0REiogJs9R+shpPn0TEB+u/K/0R8cNmt7GTjOPfrdkRcXNELK7/2/WuVrSzk0TEvIh4KiLu38HzERFfrffZvRHxpma3EQxuuyQi8sD5wDuBo4CzIuKobW77BPBsSulQ4P8C/6e5rews4+yTxcDclNLrgUuBf2luKzvLOPuEiJgO/BlwR3Nb2HnG0ycRMQf4O+CklNKvAX/R9IZ2iHH+jnwW+HFK6Y3Ah4ALmtvKjvRd4PSdPP9OYE7941zgG01o00sY3HbNccCKlNIjKaUR4GLgjG3uOQO4qP71pcCpERFNbGOnedk+SSndnFIarD/8FXBAk9vYacbzewLwRWohekszG9ehxtMnfwScn1J6FiCl9FST29hJxtMfCZhR/3om8FgT29eRUkq/ANbv5JYzgO+lml8Bu0XEfs1p3YsMbrtmf2DNmMdr69e2e09KqQxsAPZsSus603j6ZKxPANc1tEV62T6JiDcCs1JK1zSzYR1sPL8nhwGHRcRtEfGriNhZ5UGvznj64x+Aj0TEWuBa4E+b0zTtxK7+f9MQhWb/wDa3vcrZtvupjOceZWfc73dEfASYC7ytoS3STvskInLUphF8rFkN0rh+TwrUhoBOplaV7ouIo1NKzzW4bZ1oPP1xFvDdlNK/R8SJwH/V+6Pa+OZpBybE/+9W3HbNWmDWmMcH8NLy9Qv3RESBWol7Z6VXvTrj6RMi4h3AZ4D3ppSGm9S2TvVyfTIdOBq4JSJWAicAV7lAoaHG+2/XlSmlUkrpUeABakFO2RtPf3wC+DFASul2oIfaYedqnXH9f9NoBrddsxCYExEHR0QXtQmjV21zz1XAOfWvPwAsSO5y3Egv2yf1YblvUQttzttpvJ32SUppQ0ppr5TSQSmlg6jNO3xvSmlRa5rbEcbzb9cVwNsBImIvakOnjzS1lZ1jPP2xGjgVICKOpBbc1jW1ldrWVcBH66tLTwA2pJQeb3YjHCrdBSmlckT8CXADkAfmpZT6I+ILwKKU0lXAd6iVtFdQq7R9qHUtnvzG2Sf/CkwDflJfJ7I6pfTeljV6khtnn6iJxtknNwCnRcRSoAL8dUrpmda1evIaZ3/8FfAfEfGX1IbjPmYRoLEi4kfUpgrsVZ9b+HmgCJBS+ia1uYbvAlYAg8DHW9JO/x5IkiS1B4dKJUmS2oTBTZIkqU0Y3CRJktqEwU2SJKlNGNwkSZLahMFNkjIUESvr+6CN9/6PRcTXG9kmSZOHwU2SJKlNGNwkdZyIOCgilkfERRFxb0RcGhG9EfHliFhav/Zv9Xv3jYifRsQ99Y83169fERF3RUR/RJy7g5/zkYi4MyKWRMS3IiJfv/7xiHgwIm4FTmraC5fU9jw5QVKnOhz4RErptoiYB/wJ8H7giJRSiojd6vd9Fbg1pfT+evCaVr/+Byml9RExBVgYEZeNPWmgfkzR7wEnpZRKEXEBcHZEzAf+EfgNYANwM7C4Ca9X0iRgxU1Sp1qTUrqt/vX3gbcCW4BvR8TvUDvSBuAU4BsAKaVKSmlD/fqfRcQ91M5ancVLD2Q/lVo4WxgRS+qPXwccD9ySUlqXUhoBLmnIq5M0KRncJHWqbc/7KwHHAZcB7wOu39E3RsTJwDuAE1NKx1CrmPVsextwUUrpDfWPw1NK/7CDny1J42Jwk9SpZkfEifWvzwKWADNTStcCfwG8of7cTcAfA0REPiJmADOBZ1NKgxFxBHDCdv78m4APRMQ+9e/dIyIOBO4ATo6IPSOiCJzZoNcnaRIyuEnqVMuAcyLiXmAP4NvANfXHtwJ/Wb/vz4G3R8R9wF3Ar1GrxhXq936R2nDpVlJKS4HPAjfW75sP7JdSehz4B+B24OfA3Q17hZImnUjJir2kzhIRBwHXpJSObnFTJGmXWHGTJElqE1bcJEmS2oQVN0mSpDZhcJMkSWoTBjdJkqQ2YXCTJElqEwY3SZKkNvH/AZdDGwaVynVhAAAAAElFTkSuQmCC\n",
      "text/plain": [
       "<Figure size 720x720 with 1 Axes>"
      ]
     },
     "metadata": {
      "needs_background": "light"
     },
     "output_type": "display_data"
    }
   ],
   "source": [
    "fig, ax = plt.subplots(figsize=(10,10))\n",
    "(\n",
    "    isotherm.ntot\n",
    "    .swap_dims({'lnz_0':'pscaled'})\n",
    "    .plot(hue='phase')\n",
    ")\n",
    "\n",
    "for meta, g in isotherm.sel(lnz_0=lnz_spin).to_dataframe().reset_index().groupby('lnz_0'):\n",
    "    g.plot('pscaled','ntot', ax=plt.gca())\n",
    "    \n",
    "plt.plot(df.pscaled,df.rho, marker='o',mfc='None', ls='--',zorder=-1, ms=3)\n",
    "# plt.xlim(0.3, 0.45)\n",
    "# plt.ylim(5000, 6000)"
   ]
  }
 ],
 "metadata": {
  "kernelspec": {
   "display_name": "Python [conda env:.conda-py37]",
   "language": "python",
   "name": "conda-env-.conda-py37-py"
  },
  "language_info": {
   "codemirror_mode": {
    "name": "ipython",
    "version": 3
   },
   "file_extension": ".py",
   "mimetype": "text/x-python",
   "name": "python",
   "nbconvert_exporter": "python",
   "pygments_lexer": "ipython3",
   "version": "3.7.6"
  },
  "toc": {
   "base_numbering": 1,
   "nav_menu": {},
   "number_sections": true,
   "sideBar": true,
   "skip_h1_title": false,
   "title_cell": "Table of Contents",
   "title_sidebar": "Contents",
   "toc_cell": false,
   "toc_position": {},
   "toc_section_display": true,
   "toc_window_display": false
  }
 },
 "nbformat": 4,
 "nbformat_minor": 4
}
