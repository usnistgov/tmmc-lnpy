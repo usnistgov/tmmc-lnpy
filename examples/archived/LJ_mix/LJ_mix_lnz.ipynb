{
 "cells": [
  {
   "cell_type": "code",
   "execution_count": null,
   "metadata": {},
   "outputs": [],
   "source": [
    "%matplotlib inline\n",
    "%config Completer.use_jedi=False\n",
    "\n",
    "import lnPi\n",
    "import lnPi.collectionlnpiutils\n",
    "import lnPi.segment\n",
    "import lnPi.stability\n",
    "import numpy as np\n",
    "import pandas as pd"
   ]
  },
  {
   "cell_type": "code",
   "execution_count": null,
   "metadata": {},
   "outputs": [],
   "source": [
    "# compare to this\n",
    "df = pd.read_csv(\"./out.ljmix4_full.t080.v512.r1.lnpi_o.dat.const_mu.csv.gz\").assign(\n",
    "    lnz_0=lambda x: x[\"beta\"] * x[\"mu_0\"],\n",
    "    lnz_1=lambda x: x[\"beta\"] * x[\"mu_1\"],\n",
    "    betaOmega=lambda x: -x[\"beta\"] * x[\"pressure\"] * x[\"volume\"],\n",
    ")"
   ]
  },
  {
   "cell_type": "code",
   "execution_count": null,
   "metadata": {},
   "outputs": [],
   "source": [
    "path = \"./ljmix4_full.t080.v512.r1.lnpi_o.dat.gz\"\n",
    "temp = 0.8\n",
    "state_kws = {\"temp\": temp, \"beta\": 1.0 / temp, \"volume\": 512}\n",
    "lnz = np.array([-2.5, -2.5])"
   ]
  },
  {
   "cell_type": "raw",
   "metadata": {},
   "source": [
    "# masked\n",
    "ref0 = lnPi.MaskedlnPi.from_table(path, state_kws=state_kws, lnz=lnz).zeromax().pad()\n",
    "phase_creator0 = lnPi.segment.PhaseCreator(nmax=2, nmax_peak=4, ref=ref0, merge_kws=dict(efac=0.8))"
   ]
  },
  {
   "cell_type": "code",
   "execution_count": null,
   "metadata": {},
   "outputs": [],
   "source": [
    "# delayed\n",
    "ref = (\n",
    "    lnPi.MaskedlnPiDelayed.from_table(path, state_kws=state_kws, lnz=lnz)\n",
    "    .zeromax()\n",
    "    .pad()\n",
    ")\n",
    "phase_creator = lnPi.segment.PhaseCreator(\n",
    "    nmax=2, nmax_peak=4, ref=ref, merge_kws={\"efac\": 0.8}\n",
    ")"
   ]
  },
  {
   "cell_type": "code",
   "execution_count": null,
   "metadata": {},
   "outputs": [],
   "source": [
    "# lnzs to consider\n",
    "lnzs = df[[\"lnz_0\", \"lnz_1\"]].values"
   ]
  },
  {
   "cell_type": "code",
   "execution_count": null,
   "metadata": {},
   "outputs": [
    {
     "name": "stderr",
     "output_type": "stream",
     "text": [
      "\n",
      "build:   0%|                                                                         | 0/3999 [00:00<?, ?it/s]\u001b[A\n",
      "build:   0%|▎                                                               | 16/3999 [00:00<01:09, 57.49it/s]\u001b[A\n",
      "build:   6%|███▉                                                           | 249/3999 [00:14<01:06, 56.40it/s]\u001b[A\n",
      "build:   1%|▊                                                               | 48/3999 [00:05<07:07,  9.23it/s]\u001b[A\n",
      "build:   2%|█▎                                                              | 80/3999 [00:05<03:17, 19.89it/s]\u001b[A\n",
      "build:   3%|█▊                                                             | 112/3999 [00:05<01:56, 33.32it/s]\u001b[A\n",
      "build:   4%|██▊                                                            | 176/3999 [00:05<00:57, 66.95it/s]\u001b[A\n",
      "build:   8%|████▋                                                         | 304/3999 [00:06<00:25, 143.79it/s]\u001b[A\n",
      "build:   9%|█████▋                                                        | 368/3999 [00:06<00:20, 177.32it/s]\u001b[A\n",
      "build:  11%|██████▋                                                       | 432/3999 [00:06<00:17, 208.75it/s]\u001b[A\n",
      "build:  12%|███████▋                                                      | 496/3999 [00:06<00:14, 235.64it/s]\u001b[A\n",
      "build:  14%|████████▋                                                     | 560/3999 [00:06<00:12, 267.17it/s]\u001b[A\n",
      "build:  16%|█████████▋                                                    | 624/3999 [00:07<00:11, 299.41it/s]\u001b[A\n",
      "build:  17%|██████████▋                                                   | 688/3999 [00:07<00:10, 304.47it/s]\u001b[A\n",
      "build:  19%|███████████▋                                                  | 752/3999 [00:07<00:10, 313.54it/s]\u001b[A\n",
      "build:  20%|████████████▋                                                 | 816/3999 [00:07<00:09, 321.64it/s]\u001b[A\n",
      "build:  22%|█████████████▋                                                | 880/3999 [00:07<00:09, 329.60it/s]\u001b[A\n",
      "build:  24%|██████████████▋                                               | 944/3999 [00:08<00:09, 332.08it/s]\u001b[A\n",
      "build:  25%|███████████████▍                                             | 1008/3999 [00:08<00:08, 337.92it/s]\u001b[A\n",
      "build:  27%|████████████████▎                                            | 1072/3999 [00:08<00:08, 341.65it/s]\u001b[A\n",
      "build:  28%|█████████████████▎                                           | 1136/3999 [00:08<00:08, 346.78it/s]\u001b[A\n",
      "build:  30%|██████████████████▎                                          | 1200/3999 [00:08<00:08, 346.42it/s]\u001b[A\n",
      "build:  32%|███████████████████▎                                         | 1264/3999 [00:08<00:07, 347.03it/s]\u001b[A\n",
      "build:  33%|████████████████████▎                                        | 1328/3999 [00:09<00:07, 349.58it/s]\u001b[A\n",
      "build:  35%|█████████████████████▏                                       | 1392/3999 [00:09<00:07, 353.62it/s]\u001b[A\n",
      "build:  36%|██████████████████████▏                                      | 1456/3999 [00:09<00:07, 355.30it/s]\u001b[A\n",
      "build:  38%|███████████████████████▏                                     | 1520/3999 [00:09<00:06, 358.53it/s]\u001b[A\n",
      "build:  40%|████████████████████████▏                                    | 1584/3999 [00:09<00:06, 357.82it/s]\u001b[A\n",
      "build:  41%|█████████████████████████▏                                   | 1648/3999 [00:09<00:06, 361.46it/s]\u001b[A\n",
      "build:  43%|██████████████████████████                                   | 1712/3999 [00:10<00:06, 363.80it/s]\u001b[A\n",
      "build:  44%|███████████████████████████                                  | 1776/3999 [00:10<00:06, 355.99it/s]\u001b[A\n",
      "build:  46%|████████████████████████████                                 | 1840/3999 [00:10<00:05, 371.28it/s]\u001b[A\n",
      "build:  48%|█████████████████████████████                                | 1904/3999 [00:10<00:05, 366.09it/s]\u001b[A\n",
      "build:  49%|██████████████████████████████                               | 1968/3999 [00:10<00:06, 332.28it/s]\u001b[A\n",
      "build:  51%|██████████████████████████████▉                              | 2032/3999 [00:11<00:05, 343.02it/s]\u001b[A\n",
      "build:  52%|███████████████████████████████▉                             | 2096/3999 [00:11<00:05, 348.70it/s]\u001b[A\n",
      "build:  54%|████████████████████████████████▉                            | 2160/3999 [00:11<00:05, 347.23it/s]\u001b[A\n",
      "build:  56%|█████████████████████████████████▉                           | 2224/3999 [00:11<00:05, 323.04it/s]\u001b[A\n",
      "build:  57%|██████████████████████████████████▉                          | 2288/3999 [00:11<00:05, 339.08it/s]\u001b[A\n",
      "build:  59%|███████████████████████████████████▉                         | 2352/3999 [00:12<00:04, 349.40it/s]\u001b[A\n",
      "build:  60%|████████████████████████████████████▊                        | 2416/3999 [00:12<00:04, 344.67it/s]\u001b[A\n",
      "build:  62%|█████████████████████████████████████▊                       | 2480/3999 [00:12<00:04, 355.83it/s]\u001b[A\n",
      "build:  64%|██████████████████████████████████████▊                      | 2544/3999 [00:12<00:04, 355.74it/s]\u001b[A\n",
      "build:  65%|███████████████████████████████████████▊                     | 2608/3999 [00:12<00:03, 355.58it/s]\u001b[A\n",
      "build:  67%|████████████████████████████████████████▊                    | 2672/3999 [00:12<00:04, 326.64it/s]\u001b[A\n",
      "build:  68%|█████████████████████████████████████████▋                   | 2736/3999 [00:13<00:04, 290.01it/s]\u001b[A\n",
      "build:  70%|██████████████████████████████████████████▋                  | 2800/3999 [00:13<00:05, 238.70it/s]\u001b[A\n",
      "build:  72%|███████████████████████████████████████████▋                 | 2864/3999 [00:14<00:05, 208.02it/s]\u001b[A\n",
      "build:  73%|████████████████████████████████████████████▋                | 2928/3999 [00:14<00:05, 213.44it/s]\u001b[A\n",
      "build:  75%|█████████████████████████████████████████████▋               | 2992/3999 [00:14<00:04, 211.84it/s]\u001b[A\n",
      "build:  76%|██████████████████████████████████████████████▌              | 3056/3999 [00:14<00:04, 214.27it/s]\u001b[A\n",
      "build:  78%|███████████████████████████████████████████████▌             | 3120/3999 [00:15<00:03, 224.49it/s]\u001b[A\n",
      "build:  80%|████████████████████████████████████████████████▌            | 3184/3999 [00:15<00:03, 231.20it/s]\u001b[A\n",
      "build:  81%|█████████████████████████████████████████████████▌           | 3248/3999 [00:15<00:03, 243.33it/s]\u001b[A\n",
      "build:  83%|██████████████████████████████████████████████████▌          | 3312/3999 [00:15<00:02, 251.08it/s]\u001b[A\n",
      "build:  84%|███████████████████████████████████████████████████▍         | 3376/3999 [00:16<00:02, 258.48it/s]\u001b[A\n",
      "build:  86%|████████████████████████████████████████████████████▍        | 3440/3999 [00:16<00:02, 268.21it/s]\u001b[A\n",
      "build:  88%|█████████████████████████████████████████████████████▍       | 3504/3999 [00:16<00:01, 310.54it/s]\u001b[A\n",
      "build:  89%|██████████████████████████████████████████████████████▍      | 3568/3999 [00:16<00:01, 324.39it/s]\u001b[A\n",
      "build:  91%|███████████████████████████████████████████████████████▍     | 3632/3999 [00:16<00:01, 340.77it/s]\u001b[A\n",
      "build:  92%|████████████████████████████████████████████████████████▍    | 3696/3999 [00:16<00:00, 358.99it/s]\u001b[A\n",
      "build:  94%|█████████████████████████████████████████████████████████▎   | 3760/3999 [00:17<00:00, 372.70it/s]\u001b[A\n",
      "build:  96%|██████████████████████████████████████████████████████████▎  | 3824/3999 [00:17<00:00, 381.74it/s]\u001b[A\n",
      "build:  97%|███████████████████████████████████████████████████████████▎ | 3888/3999 [00:17<00:00, 389.65it/s]\u001b[A\n",
      "build: 100%|█████████████████████████████████████████████████████████████| 3999/3999 [00:17<00:00, 227.15it/s]\u001b[A\n"
     ]
    }
   ],
   "source": [
    "# %%timeit -n 1 -r 1\n",
    "with lnPi.set_options(\n",
    "    tqdm_leave=True, joblib_use=True, tqdm_len_build=10, tqdm_bar=\"text\"\n",
    "):\n",
    "    o = lnPi.CollectionlnPi.from_builder(\n",
    "        lnzs[:], phase_creator.build_phases, unstack=False\n",
    "    )"
   ]
  },
  {
   "cell_type": "code",
   "execution_count": null,
   "metadata": {},
   "outputs": [],
   "source": [
    "with lnPi.set_options(tqdm_leave=True, joblib_use=False, tqdm_bar=\"text\"):\n",
    "    o.xge.pi_sum"
   ]
  },
  {
   "cell_type": "code",
   "execution_count": null,
   "metadata": {},
   "outputs": [],
   "source": [
    "# get data to compare\n",
    "table = o.xge.table(\n",
    "    [\"mask_stable\", \"dens\", \"betaOmega\", \"molfrac\"], ref=ref, dim_to_suffix=\"component\"\n",
    ")\n",
    "t = table.to_dataframe().query(\"mask_stable\").reset_index()\n",
    "\n",
    "cols = [\n",
    "    \"lnz_0\",\n",
    "    \"lnz_1\",\n",
    "    \"beta\",\n",
    "    \"betaOmega\",\n",
    "    \"dens_0\",\n",
    "    \"dens_1\",\n",
    "    \"molfrac_0\",\n",
    "    \"molfrac_1\",\n",
    "    \"edge_distance\",\n",
    "]\n",
    "\n",
    "\n",
    "def _round(df):\n",
    "    return df.assign(\n",
    "        lnz_0=lambda x: np.round(x.lnz_0, 3), lnz_1=lambda x: np.round(x.lnz_1, 3)\n",
    "    )\n",
    "\n",
    "\n",
    "a = t[cols].pipe(_round).set_index([\"lnz_0\", \"lnz_1\", \"beta\"])\n",
    "b = (\n",
    "    df.rename(columns=lambda x: x.replace(\"density\", \"dens\"))[cols]\n",
    "    .pipe(_round)\n",
    "    .set_index([\"lnz_0\", \"lnz_1\", \"beta\"])\n",
    ")"
   ]
  },
  {
   "cell_type": "code",
   "execution_count": null,
   "metadata": {},
   "outputs": [
    {
     "data": {
      "text/plain": [
       "betaOmega        4.906069e-11\n",
       "dens_0           4.684806e-11\n",
       "dens_1           4.763309e-11\n",
       "molfrac_0        4.500742e-11\n",
       "molfrac_1        4.797235e-11\n",
       "edge_distance    4.462730e-11\n",
       "dtype: float64"
      ]
     },
     "execution_count": null,
     "metadata": {},
     "output_type": "execute_result"
    }
   ],
   "source": [
    "np.abs((a - b) / a).max()"
   ]
  },
  {
   "cell_type": "code",
   "execution_count": null,
   "metadata": {},
   "outputs": [
    {
     "data": {
      "text/plain": [
       "<matplotlib.collections.QuadMesh at 0x7f971b1cb1d0>"
      ]
     },
     "execution_count": null,
     "metadata": {},
     "output_type": "execute_result"
    },
    {
     "data": {
      "image/png": "[encoded data removed]",
      "text/plain": [
       "<Figure size 432x288 with 2 Axes>"
      ]
     },
     "metadata": {
      "needs_background": "light"
     },
     "output_type": "display_data"
    }
   ],
   "source": [
    "(table.betapV.where(table.mask_stable).dropna(\"sample\").unstack().min(\"phase\").plot())"
   ]
  },
  {
   "cell_type": "code",
   "execution_count": null,
   "metadata": {},
   "outputs": [
    {
     "data": {
      "text/plain": [
       "<matplotlib.collections.QuadMesh at 0x7f96c80328d0>"
      ]
     },
     "execution_count": null,
     "metadata": {},
     "output_type": "execute_result"
    },
    {
     "data": {
      "image/png": "[encoded data removed]",
      "text/plain": [
       "<Figure size 432x288 with 2 Axes>"
      ]
     },
     "metadata": {
      "needs_background": "light"
     },
     "output_type": "display_data"
    }
   ],
   "source": [
    "(\n",
    "    df[[\"lnz_0\", \"lnz_1\", \"betaOmega\"]]\n",
    "    .set_index([\"lnz_0\", \"lnz_1\"])\n",
    "    .assign(betapV=lambda x: -x[\"betaOmega\"])[\"betapV\"]\n",
    "    .to_xarray()\n",
    "    .plot()\n",
    ")"
   ]
  }
 ],
 "metadata": {
  "language_info": {
   "codemirror_mode": {
    "name": "ipython",
    "version": 3
   },
   "file_extension": ".py",
   "mimetype": "text/x-python",
   "name": "python",
   "nbconvert_exporter": "python",
   "pygments_lexer": "ipython3",
   "version": "3.8.13"
  },
  "toc": {
   "base_numbering": 1,
   "nav_menu": {},
   "number_sections": true,
   "sideBar": true,
   "skip_h1_title": false,
   "title_cell": "Table of Contents",
   "title_sidebar": "Contents",
   "toc_cell": false,
   "toc_position": {},
   "toc_section_display": true,
   "toc_window_display": false
  }
 },
 "nbformat": 4,
 "nbformat_minor": 2
}
