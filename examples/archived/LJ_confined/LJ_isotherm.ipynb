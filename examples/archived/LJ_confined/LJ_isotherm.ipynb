{
 "cells": [
  {
   "cell_type": "code",
   "execution_count": 3,
   "metadata": {},
   "outputs": [],
   "source": [
    "%matplotlib inline\n",
    "\n",
    "import matplotlib.pyplot as plt\n",
    "import numpy as np\n",
    "import pandas as pd\n",
    "import xarray as xr\n",
    "\n",
    "# import lnPi.old\n",
    "import lnpy\n",
    "import lnpy.stability\n",
    "from lnpy.lnpicollectionutils import limited_collection\n",
    "\n",
    "\n",
    "# function to tag 'LD' and 'HD' phases\n",
    "def tag_phases2(x):\n",
    "    if len(x) > 2:\n",
    "        msg = \"bad tag function\"\n",
    "        raise ValueError(msg)\n",
    "    argmax0 = np.array([xx.local_argmax()[0] for xx in x])\n",
    "    return np.where(argmax0 <= x[0].shape[0] / 2, 0, 1)"
   ]
  },
  {
   "cell_type": "markdown",
   "metadata": {},
   "source": [
    "# Bulk (easy case)"
   ]
  },
  {
   "cell_type": "code",
   "execution_count": 5,
   "metadata": {},
   "outputs": [],
   "source": [
    "pe = pd.read_csv(\n",
    "    \"./PiofN/ljsf.t070.bulk.v729.r1.energy.dat\",\n",
    "    header=None,\n",
    "    sep=\"\\\\s+\",\n",
    "    names=[\"n\", \"e\"],\n",
    ")[\"e\"].values\n",
    "\n",
    "mu = -8.616\n",
    "volume = 729\n",
    "temp = 0.7\n",
    "beta = 1.0 / temp\n",
    "state_kws = {\"volume\": volume, \"temp\": temp, \"beta\": 1 / temp}\n",
    "lnz = beta * mu\n",
    "\n",
    "# reference masked lnPi\n",
    "ref = (\n",
    "    lnpy.lnPiMasked.from_table(\n",
    "        \"./PiofN/ljsf.t070.bulk.v729.r1.lnpi.dat\",\n",
    "        fill_value=np.nan,\n",
    "        lnz=lnz,\n",
    "        state_kws=state_kws,\n",
    "        extra_kws={\"PE\": pe},\n",
    "    )\n",
    "    .zeromax()\n",
    "    .pad()\n",
    ")\n",
    "\n",
    "# Phase Creator\n",
    "PhaseCreator = lnpy.segment.PhaseCreator(\n",
    "    nmax=2, tag_phases=tag_phases2, nmax_peak=4, merge_kws={\"efac\": 0.8}, ref=ref\n",
    ")\n",
    "build_phases = PhaseCreator.build_phases_mu([None])"
   ]
  },
  {
   "cell_type": "code",
   "execution_count": 9,
   "metadata": {},
   "outputs": [
    {
     "data": {
      "text/plain": [
       "<lnpy.stability.Binodals at 0x1abfbfaf0>"
      ]
     },
     "execution_count": 9,
     "metadata": {},
     "output_type": "execute_result"
    }
   ],
   "source": [
    "# create collection\n",
    "o_course, o = limited_collection(\n",
    "    build_phases,\n",
    "    0.5,\n",
    "    offsets=[-10, +10],\n",
    "    edge_distance_min=8,\n",
    "    even_grid=True,\n",
    "    digits=1,\n",
    "    limit_course=True,\n",
    ")\n",
    "\n",
    "# calc stability\n",
    "o_course.spinodal(2, build_phases)\n",
    "o_course.binodal(2, build_phases)"
   ]
  },
  {
   "cell_type": "code",
   "execution_count": 12,
   "metadata": {},
   "outputs": [],
   "source": [
    "# add to main object\n",
    "o = o.stability_append(o_course, copy_stability=False)"
   ]
  },
  {
   "cell_type": "code",
   "execution_count": 13,
   "metadata": {},
   "outputs": [
    {
     "data": {
      "text/html": [
       "<div>\n",
       "<style scoped>\n",
       "    .dataframe tbody tr th:only-of-type {\n",
       "        vertical-align: middle;\n",
       "    }\n",
       "\n",
       "    .dataframe tbody tr th {\n",
       "        vertical-align: top;\n",
       "    }\n",
       "\n",
       "    .dataframe thead th {\n",
       "        text-align: right;\n",
       "    }\n",
       "</style>\n",
       "<table border=\"1\" class=\"dataframe\">\n",
       "  <thead>\n",
       "    <tr style=\"text-align: right;\">\n",
       "      <th></th>\n",
       "      <th>binodal</th>\n",
       "      <th>lnz_0</th>\n",
       "      <th>phase</th>\n",
       "      <th>volume</th>\n",
       "      <th>temp</th>\n",
       "      <th>beta</th>\n",
       "      <th>pressure_0</th>\n",
       "      <th>pressure_1</th>\n",
       "      <th>dens_tot_0</th>\n",
       "      <th>dens_tot_1</th>\n",
       "      <th>PE_n_0</th>\n",
       "      <th>PE_n_1</th>\n",
       "      <th>mu</th>\n",
       "    </tr>\n",
       "  </thead>\n",
       "  <tbody>\n",
       "    <tr>\n",
       "      <th>0</th>\n",
       "      <td>0</td>\n",
       "      <td>-12.339048</td>\n",
       "      <td>0</td>\n",
       "      <td>729</td>\n",
       "      <td>0.7</td>\n",
       "      <td>1.428571</td>\n",
       "      <td>0.002377</td>\n",
       "      <td>0.002377</td>\n",
       "      <td>0.003509</td>\n",
       "      <td>0.820218</td>\n",
       "      <td>-0.040952</td>\n",
       "      <td>-5.578011</td>\n",
       "      <td>-8.637334</td>\n",
       "    </tr>\n",
       "    <tr>\n",
       "      <th>1</th>\n",
       "      <td>0</td>\n",
       "      <td>-12.339048</td>\n",
       "      <td>1</td>\n",
       "      <td>729</td>\n",
       "      <td>0.7</td>\n",
       "      <td>1.428571</td>\n",
       "      <td>0.002377</td>\n",
       "      <td>0.002377</td>\n",
       "      <td>0.003509</td>\n",
       "      <td>0.820218</td>\n",
       "      <td>-0.040952</td>\n",
       "      <td>-5.578011</td>\n",
       "      <td>-8.637334</td>\n",
       "    </tr>\n",
       "  </tbody>\n",
       "</table>\n",
       "</div>"
      ],
      "text/plain": [
       "   binodal      lnz_0  phase  volume  temp      beta  pressure_0  pressure_1  \\\n",
       "0        0 -12.339048      0     729   0.7  1.428571    0.002377    0.002377   \n",
       "1        0 -12.339048      1     729   0.7  1.428571    0.002377    0.002377   \n",
       "\n",
       "   dens_tot_0  dens_tot_1    PE_n_0    PE_n_1        mu  \n",
       "0    0.003509    0.820218 -0.040952 -5.578011 -8.637334  \n",
       "1    0.003509    0.820218 -0.040952 -5.578011 -8.637334  "
      ]
     },
     "execution_count": 13,
     "metadata": {},
     "output_type": "execute_result"
    }
   ],
   "source": [
    "(\n",
    "    o_course.binodal.access.xge.table(\n",
    "        [\"pressure\", \"dens_tot\", \"PE_n\"], default_keys=[], dim_to_suffix=\"phase\"\n",
    "    )\n",
    "    .to_dataframe()\n",
    "    .reset_index()\n",
    "    .assign(mu=lambda x: x[\"lnz_0\"] / x[\"beta\"])\n",
    ")"
   ]
  },
  {
   "cell_type": "code",
   "execution_count": 14,
   "metadata": {},
   "outputs": [
    {
     "data": {
      "text/html": [
       "<div>\n",
       "<style scoped>\n",
       "    .dataframe tbody tr th:only-of-type {\n",
       "        vertical-align: middle;\n",
       "    }\n",
       "\n",
       "    .dataframe tbody tr th {\n",
       "        vertical-align: top;\n",
       "    }\n",
       "\n",
       "    .dataframe thead th {\n",
       "        text-align: right;\n",
       "    }\n",
       "</style>\n",
       "<table border=\"1\" class=\"dataframe\">\n",
       "  <thead>\n",
       "    <tr style=\"text-align: right;\">\n",
       "      <th></th>\n",
       "      <th>mu*</th>\n",
       "      <th>p(1)*</th>\n",
       "      <th>p(2)*</th>\n",
       "      <th>rho(1)*</th>\n",
       "      <th>rho(2)*</th>\n",
       "      <th>u(1)*</th>\n",
       "      <th>u(2)*</th>\n",
       "    </tr>\n",
       "  </thead>\n",
       "  <tbody>\n",
       "    <tr>\n",
       "      <th>0</th>\n",
       "      <td>-8.637334</td>\n",
       "      <td>0.002377</td>\n",
       "      <td>0.002377</td>\n",
       "      <td>0.003509</td>\n",
       "      <td>0.820218</td>\n",
       "      <td>-0.040952</td>\n",
       "      <td>-5.578011</td>\n",
       "    </tr>\n",
       "    <tr>\n",
       "      <th>1</th>\n",
       "      <td>-4.001997</td>\n",
       "      <td>0.002377</td>\n",
       "      <td>0.002377</td>\n",
       "      <td>0.003509</td>\n",
       "      <td>0.820218</td>\n",
       "      <td>-0.040952</td>\n",
       "      <td>-5.578011</td>\n",
       "    </tr>\n",
       "  </tbody>\n",
       "</table>\n",
       "</div>"
      ],
      "text/plain": [
       "        mu*     p(1)*     p(2)*   rho(1)*   rho(2)*     u(1)*     u(2)*\n",
       "0 -8.637334  0.002377  0.002377  0.003509  0.820218 -0.040952 -5.578011\n",
       "1 -4.001997  0.002377  0.002377  0.003509  0.820218 -0.040952 -5.578011"
      ]
     },
     "execution_count": 14,
     "metadata": {},
     "output_type": "execute_result"
    }
   ],
   "source": [
    "pd.read_csv(\"./PiofN/ljsf.t070.bulk.v729.r1.sat.dat\", sep=\"\\\\s+\")"
   ]
  },
  {
   "cell_type": "code",
   "execution_count": 17,
   "metadata": {
    "scrolled": true
   },
   "outputs": [
    {
     "data": {
      "text/plain": [
       "[<matplotlib.lines.Line2D at 0x1ab8a1480>]"
      ]
     },
     "execution_count": 17,
     "metadata": {},
     "output_type": "execute_result"
    },
    {
     "data": {
      "image/png": "[encoded data removed]",
      "text/plain": [
       "<Figure size 640x480 with 1 Axes>"
      ]
     },
     "metadata": {},
     "output_type": "display_data"
    }
   ],
   "source": [
    "o.xge.betaOmega().plot(hue=\"phase\")\n",
    "\n",
    "(\n",
    "    o_course.spinodal.access.xge.betaOmega()\n",
    "    .unstack()\n",
    "    .pipe(lambda x: x.where(x.phase == x.spinodal, drop=True))\n",
    "    .max(\"phase\")\n",
    "    .plot(hue=\"spinodal\", marker=\"o\")\n",
    ")\n",
    "\n",
    "(\n",
    "    o_course.binodal.access.xge.betaOmega()\n",
    "    .pipe(lambda x: x.sel(phase=x.binodal))\n",
    "    .plot.line(hue=\"binodal\", marker=\"o\")\n",
    ")"
   ]
  },
  {
   "cell_type": "markdown",
   "metadata": {},
   "source": [
    "# Bulk (hard case)"
   ]
  },
  {
   "cell_type": "code",
   "execution_count": 18,
   "metadata": {},
   "outputs": [
    {
     "data": {
      "text/plain": [
       "<lnpy.stability.Binodals at 0x1ac2322c0>"
      ]
     },
     "execution_count": 18,
     "metadata": {},
     "output_type": "execute_result"
    }
   ],
   "source": [
    "beta = 1.0 / 0.65\n",
    "\n",
    "ref_bulk = lnpy.lnPiMasked.from_table(\n",
    "    \"./PiofN/ljcut.t065.bulk.v1000.r1.lnpi.dat\",\n",
    "    lnz=-4.453015418106743e00 / 0.65,\n",
    "    state_kws={\"volume\": 1000.0e0, \"beta\": 1.0 / 0.65000e0},\n",
    ")\n",
    "\n",
    "phase_creator_bulk = lnpy.segment.PhaseCreator(\n",
    "    nmax=2, nmax_peak=4, ref=ref_bulk, merge_kws={\"efac\": 0.5}, tag_phases=tag_phases2\n",
    ")\n",
    "build_phases_bulk = phase_creator_bulk.build_phases_mu([None])\n",
    "\n",
    "c_course_bulk, c_bulk = limited_collection(\n",
    "    build_phases_bulk,\n",
    "    offsets=[-10, +10],\n",
    "    dlnz=1.0,\n",
    "    digits=0,\n",
    "    edge_distance_min=8,\n",
    "    limit_course=True,\n",
    ")\n",
    "\n",
    "c_course_bulk.spinodal(2, build_phases_bulk, inplace=True)\n",
    "c_course_bulk.binodal(2, build_phases_bulk, inplace=True)"
   ]
  },
  {
   "cell_type": "code",
   "execution_count": 23,
   "metadata": {},
   "outputs": [],
   "source": [
    "c_bulk = c_bulk.stability_append(c_course_bulk, copy_stability=False)"
   ]
  },
  {
   "cell_type": "code",
   "execution_count": 24,
   "metadata": {},
   "outputs": [
    {
     "data": {
      "text/html": [
       "<div>\n",
       "<style scoped>\n",
       "    .dataframe tbody tr th:only-of-type {\n",
       "        vertical-align: middle;\n",
       "    }\n",
       "\n",
       "    .dataframe tbody tr th {\n",
       "        vertical-align: top;\n",
       "    }\n",
       "\n",
       "    .dataframe thead th {\n",
       "        text-align: right;\n",
       "    }\n",
       "</style>\n",
       "<table border=\"1\" class=\"dataframe\">\n",
       "  <thead>\n",
       "    <tr style=\"text-align: right;\">\n",
       "      <th></th>\n",
       "      <th>binodal</th>\n",
       "      <th>lnz_0</th>\n",
       "      <th>phase</th>\n",
       "      <th>volume</th>\n",
       "      <th>beta</th>\n",
       "      <th>pressure_0</th>\n",
       "      <th>pressure_1</th>\n",
       "      <th>dens_tot_0</th>\n",
       "      <th>dens_tot_1</th>\n",
       "      <th>mu</th>\n",
       "    </tr>\n",
       "  </thead>\n",
       "  <tbody>\n",
       "    <tr>\n",
       "      <th>0</th>\n",
       "      <td>0</td>\n",
       "      <td>-6.851886</td>\n",
       "      <td>0</td>\n",
       "      <td>1000.0</td>\n",
       "      <td>1.538462</td>\n",
       "      <td>0.000696</td>\n",
       "      <td>0.000696</td>\n",
       "      <td>0.001083</td>\n",
       "      <td>0.860734</td>\n",
       "      <td>-4.453726</td>\n",
       "    </tr>\n",
       "    <tr>\n",
       "      <th>1</th>\n",
       "      <td>0</td>\n",
       "      <td>-6.851886</td>\n",
       "      <td>1</td>\n",
       "      <td>1000.0</td>\n",
       "      <td>1.538462</td>\n",
       "      <td>0.000696</td>\n",
       "      <td>0.000696</td>\n",
       "      <td>0.001083</td>\n",
       "      <td>0.860734</td>\n",
       "      <td>-4.453726</td>\n",
       "    </tr>\n",
       "  </tbody>\n",
       "</table>\n",
       "</div>"
      ],
      "text/plain": [
       "   binodal     lnz_0  phase  volume      beta  pressure_0  pressure_1  \\\n",
       "0        0 -6.851886      0  1000.0  1.538462    0.000696    0.000696   \n",
       "1        0 -6.851886      1  1000.0  1.538462    0.000696    0.000696   \n",
       "\n",
       "   dens_tot_0  dens_tot_1        mu  \n",
       "0    0.001083    0.860734 -4.453726  \n",
       "1    0.001083    0.860734 -4.453726  "
      ]
     },
     "execution_count": 24,
     "metadata": {},
     "output_type": "execute_result"
    }
   ],
   "source": [
    "(\n",
    "    c_course_bulk.binodal.access.xge.table(\n",
    "        [\"pressure\", \"dens_tot\", \"PE_n\"], default_keys=[], dim_to_suffix=\"phase\"\n",
    "    )\n",
    "    .to_dataframe()\n",
    "    .reset_index()\n",
    "    .assign(mu=lambda x: x[\"lnz_0\"] / x[\"beta\"])\n",
    ")"
   ]
  },
  {
   "cell_type": "code",
   "execution_count": 25,
   "metadata": {},
   "outputs": [
    {
     "data": {
      "text/html": [
       "<div>\n",
       "<style scoped>\n",
       "    .dataframe tbody tr th:only-of-type {\n",
       "        vertical-align: middle;\n",
       "    }\n",
       "\n",
       "    .dataframe tbody tr th {\n",
       "        vertical-align: top;\n",
       "    }\n",
       "\n",
       "    .dataframe thead th {\n",
       "        text-align: right;\n",
       "    }\n",
       "</style>\n",
       "<table border=\"1\" class=\"dataframe\">\n",
       "  <thead>\n",
       "    <tr style=\"text-align: right;\">\n",
       "      <th></th>\n",
       "      <th>mu*</th>\n",
       "      <th>p(1)*</th>\n",
       "      <th>p(2)*</th>\n",
       "      <th>rho(1)*</th>\n",
       "      <th>rho(2)*</th>\n",
       "      <th>u(1)*</th>\n",
       "      <th>u(2)*</th>\n",
       "    </tr>\n",
       "  </thead>\n",
       "  <tbody>\n",
       "    <tr>\n",
       "      <th>0</th>\n",
       "      <td>-8.685711</td>\n",
       "      <td>0.000696</td>\n",
       "      <td>0.000696</td>\n",
       "      <td>0.001083</td>\n",
       "      <td>0.860734</td>\n",
       "      <td>-0.014084</td>\n",
       "      <td>-6.214363</td>\n",
       "    </tr>\n",
       "    <tr>\n",
       "      <th>1</th>\n",
       "      <td>-4.453724</td>\n",
       "      <td>0.000696</td>\n",
       "      <td>0.000696</td>\n",
       "      <td>0.001083</td>\n",
       "      <td>0.860734</td>\n",
       "      <td>-0.014084</td>\n",
       "      <td>-6.214363</td>\n",
       "    </tr>\n",
       "  </tbody>\n",
       "</table>\n",
       "</div>"
      ],
      "text/plain": [
       "        mu*     p(1)*     p(2)*   rho(1)*   rho(2)*     u(1)*     u(2)*\n",
       "0 -8.685711  0.000696  0.000696  0.001083  0.860734 -0.014084 -6.214363\n",
       "1 -4.453724  0.000696  0.000696  0.001083  0.860734 -0.014084 -6.214363"
      ]
     },
     "execution_count": 25,
     "metadata": {},
     "output_type": "execute_result"
    }
   ],
   "source": [
    "pd.read_csv(\"PiofN/ljcut.t065.bulk.v1000.r1.sat.dat\", sep=\"\\\\s+\")"
   ]
  },
  {
   "cell_type": "code",
   "execution_count": 26,
   "metadata": {},
   "outputs": [
    {
     "data": {
      "text/plain": [
       "[<matplotlib.lines.Line2D at 0x1abae9cf0>]"
      ]
     },
     "execution_count": 26,
     "metadata": {},
     "output_type": "execute_result"
    },
    {
     "data": {
      "image/png": "[encoded data removed]",
      "text/plain": [
       "<Figure size 640x480 with 1 Axes>"
      ]
     },
     "metadata": {},
     "output_type": "display_data"
    }
   ],
   "source": [
    "c_bulk.xge.betaOmega().plot(hue=\"phase\")\n",
    "\n",
    "(\n",
    "    c_course_bulk.spinodal.access.xge.betaOmega()\n",
    "    .pipe(lambda x: x.sel(phase=x.spinodal))\n",
    "    .plot(hue=\"spinodal\", marker=\"o\")\n",
    ")\n",
    "\n",
    "(\n",
    "    c_course_bulk.binodal.access.xge.betaOmega()\n",
    "    .pipe(lambda x: x.sel(phase=x.binodal))\n",
    "    .plot.line(hue=\"binodal\", marker=\"o\")\n",
    ")"
   ]
  },
  {
   "cell_type": "markdown",
   "metadata": {},
   "source": [
    "# confined"
   ]
  },
  {
   "cell_type": "code",
   "execution_count": 27,
   "metadata": {},
   "outputs": [],
   "source": [
    "ref_conf = lnpy.lnPiMasked.from_table(\n",
    "    \"./PiofN/ljcut.t065.finiteslit.L_20nm.W_4nm.r2.lnpi.dat\",\n",
    "    lnz=-0.500000e01 / 0.65,\n",
    "    state_kws={\"volume\": 7000.0, \"beta\": 1.0 / 0.65000e0},\n",
    ")\n",
    "\n",
    "\n",
    "phase_creator_conf = lnpy.segment.PhaseCreator(\n",
    "    nmax=2, nmax_peak=4, ref=ref_conf, merge_kws={\"efac\": 0.6}, tag_phases=tag_phases2\n",
    ")\n",
    "\n",
    "build_phases_conf = phase_creator_conf.build_phases_mu([None])"
   ]
  },
  {
   "cell_type": "code",
   "execution_count": 28,
   "metadata": {},
   "outputs": [
    {
     "data": {
      "application/vnd.jupyter.widget-view+json": {
       "model_id": "",
       "version_major": 2,
       "version_minor": 0
      },
      "text/plain": [
       "build:   0%|          | 0/1315 [00:00<?, ?it/s]"
      ]
     },
     "metadata": {},
     "output_type": "display_data"
    },
    {
     "ename": "AttributeError",
     "evalue": "can't set attribute",
     "output_type": "error",
     "traceback": [
      "\u001b[0;31m---------------------------------------------------------------------------\u001b[0m",
      "\u001b[0;31mAttributeError\u001b[0m                            Traceback (most recent call last)",
      "Cell \u001b[0;32mIn[28], line 18\u001b[0m\n\u001b[1;32m     15\u001b[0m c_course_conf\u001b[38;5;241m.\u001b[39mbinodal(\u001b[38;5;241m2\u001b[39m, build_phases_conf, inplace\u001b[38;5;241m=\u001b[39m\u001b[38;5;28;01mTrue\u001b[39;00m)\n\u001b[1;32m     17\u001b[0m \u001b[38;5;66;03m# add spin/bin to c_conf\u001b[39;00m\n\u001b[0;32m---> 18\u001b[0m c_conf \u001b[38;5;241m=\u001b[39m \u001b[43mc_conf\u001b[49m\u001b[38;5;241;43m.\u001b[39;49m\u001b[43mstability_append\u001b[49m\u001b[43m(\u001b[49m\u001b[43mc_course_conf\u001b[49m\u001b[43m)\u001b[49m\n",
      "File \u001b[0;32m~/miniforge3/envs/lnpy-env/lib/python3.10/site-packages/lnpy/stability.py:912\u001b[0m, in \u001b[0;36m_stability_append.<locals>.func\u001b[0;34m(other, append, sort, copy_stability)\u001b[0m\n\u001b[1;32m    910\u001b[0m     new \u001b[38;5;241m=\u001b[39m \u001b[38;5;28mself\u001b[39m\u001b[38;5;241m.\u001b[39mcopy()\n\u001b[1;32m    911\u001b[0m \u001b[38;5;28;01mif\u001b[39;00m copy_stability:\n\u001b[0;32m--> 912\u001b[0m     \u001b[43mnew\u001b[49m\u001b[38;5;241;43m.\u001b[39;49m\u001b[43mspinodal\u001b[49m \u001b[38;5;241m=\u001b[39m spin\n\u001b[1;32m    913\u001b[0m     new\u001b[38;5;241m.\u001b[39mbinodal \u001b[38;5;241m=\u001b[39m bino\n\u001b[1;32m    914\u001b[0m \u001b[38;5;28;01mreturn\u001b[39;00m new\n",
      "\u001b[0;31mAttributeError\u001b[0m: can't set attribute"
     ]
    }
   ],
   "source": [
    "# saturation\n",
    "# limit to saturation\n",
    "lnz_max = c_course_bulk.binodal.access.iloc[0].lnz[build_phases_bulk.index]\n",
    "lnz_range = [-20, lnz_max]\n",
    "\n",
    "c_course_conf, c_conf = limited_collection(\n",
    "    build_phases_conf,\n",
    "    lnz_range=lnz_range,\n",
    "    dlnz=0.01,\n",
    "    digits=2,\n",
    "    edge_distance_min=8,\n",
    "    limit_course=True,\n",
    ")\n",
    "\n",
    "# stability\n",
    "c_course_conf.spinodal(2, build_phases_conf, inplace=True)\n",
    "c_course_conf.binodal(2, build_phases_conf, inplace=True)\n",
    "\n",
    "# add spin/bin to c_conf\n",
    "c_conf = c_conf.stability_append(c_course_conf)"
   ]
  },
  {
   "cell_type": "code",
   "execution_count": 34,
   "metadata": {},
   "outputs": [],
   "source": [
    "c_conf._cache[\"spinodal\"] = \"hello\""
   ]
  },
  {
   "cell_type": "code",
   "execution_count": 35,
   "metadata": {},
   "outputs": [
    {
     "data": {
      "text/plain": [
       "'hello'"
      ]
     },
     "execution_count": 35,
     "metadata": {},
     "output_type": "execute_result"
    }
   ],
   "source": [
    "c_conf.spinodal"
   ]
  },
  {
   "cell_type": "code",
   "execution_count": 24,
   "metadata": {},
   "outputs": [
    {
     "data": {
      "application/vnd.jupyter.widget-view+json": {
       "model_id": "",
       "version_major": 2,
       "version_minor": 0
      },
      "text/plain": [
       "HBox(children=(FloatProgress(value=0.0, description='pi_norm', max=1327.0, style=ProgressStyle(description_wid…"
      ]
     },
     "metadata": {},
     "output_type": "display_data"
    },
    {
     "name": "stdout",
     "output_type": "stream",
     "text": [
      "\r"
     ]
    },
    {
     "data": {
      "text/plain": [
       "[<matplotlib.lines.Line2D at 0x7fd331d73810>]"
      ]
     },
     "execution_count": 24,
     "metadata": {},
     "output_type": "execute_result"
    },
    {
     "data": {
      "image/png": "[encoded data removed]",
      "text/plain": [
       "<Figure size 432x288 with 1 Axes>"
      ]
     },
     "metadata": {
      "needs_background": "light"
     },
     "output_type": "display_data"
    }
   ],
   "source": [
    "c_conf.xge.betaOmega().plot(hue=\"phase\")\n",
    "\n",
    "(\n",
    "    c_conf.spinodal.access.xge.betaOmega()\n",
    "    .pipe(lambda x: x.sel(spinodal=x.phase))\n",
    "    .plot(hue=\"phase\", marker=\"o\")\n",
    ")\n",
    "\n",
    "(\n",
    "    c_conf.binodal.access.xge.betaOmega()\n",
    "    .pipe(lambda x: x.sel(phase=x.binodal))\n",
    "    .plot.line(hue=\"binodal\", marker=\"o\")\n",
    ")"
   ]
  },
  {
   "cell_type": "markdown",
   "metadata": {},
   "source": [
    "# make isotherm"
   ]
  },
  {
   "cell_type": "code",
   "execution_count": 25,
   "metadata": {},
   "outputs": [],
   "source": [
    "# comparison data\n",
    "df = pd.read_table(\n",
    "    \"./PiofN/ljcut.t065.finiteslit.L_20nm.W_4nm.r2.single_isotherm.txt\",\n",
    "    sep=\"\\\\s+\",\n",
    "    header=None,\n",
    "    names=[\"pscaled\", \"mu\", \"rho\", \"Omega_L\", \"Qst\", \"Gads\"],\n",
    ")"
   ]
  },
  {
   "cell_type": "code",
   "execution_count": 26,
   "metadata": {},
   "outputs": [
    {
     "data": {
      "application/vnd.jupyter.widget-view+json": {
       "model_id": "",
       "version_major": 2,
       "version_minor": 0
      },
      "text/plain": [
       "HBox(children=(FloatProgress(value=0.0, description='build', max=1318.0, style=ProgressStyle(description_width…"
      ]
     },
     "metadata": {},
     "output_type": "display_data"
    },
    {
     "name": "stdout",
     "output_type": "stream",
     "text": [
      "\r"
     ]
    }
   ],
   "source": [
    "# rebuild on same spacing as conf\n",
    "c_bulk_ = lnPi.CollectionlnPi.from_builder(\n",
    "    c_conf.get_index_level(\"lnz_0\"), build_phases_bulk\n",
    ")"
   ]
  },
  {
   "cell_type": "code",
   "execution_count": 27,
   "metadata": {},
   "outputs": [],
   "source": [
    "psat = c_course_bulk.binodal.access.xge.pressure().sel(phase=0).squeeze().values"
   ]
  },
  {
   "cell_type": "code",
   "execution_count": 32,
   "metadata": {},
   "outputs": [],
   "source": [
    "table_bulk = (\n",
    "    c_bulk_.xge.table([\"pressure\"], ref=ref_bulk, mask_stable=True)\n",
    "    .assign(pscaled=lambda x: x.pressure / psat)\n",
    "    .drop([\"volume\"])\n",
    ")\n",
    "\n",
    "table_conf = c_conf.xge.table([\"ntot\"], ref=ref_conf).drop(\"volume\")\n",
    "\n",
    "isotherm = xr.merge((table_bulk.pscaled, table_conf.ntot), join=\"inner\").set_coords(\n",
    "    \"pscaled\"\n",
    ")"
   ]
  },
  {
   "cell_type": "code",
   "execution_count": 31,
   "metadata": {},
   "outputs": [
    {
     "name": "stdout",
     "output_type": "stream",
     "text": [
      "<xarray.DataArray 'edge_distance' ()>\n",
      "array(920.)\n",
      "Coordinates:\n",
      "    beta     float64 1.538\n",
      "<xarray.DataArray 'edge_distance' ()>\n",
      "array(286.)\n",
      "Coordinates:\n",
      "    beta     float64 1.538\n"
     ]
    }
   ],
   "source": [
    "# check distances\n",
    "print(table_bulk.edge_distance.min())\n",
    "print(table_conf.edge_distance.min())"
   ]
  },
  {
   "cell_type": "code",
   "execution_count": 33,
   "metadata": {},
   "outputs": [],
   "source": [
    "# spinodal lnzs\n",
    "lnz_spin = c_conf.spinodal.access.get_index_level(\"lnz_0\")"
   ]
  },
  {
   "cell_type": "code",
   "execution_count": 37,
   "metadata": {},
   "outputs": [
    {
     "data": {
      "text/plain": [
       "[<matplotlib.lines.Line2D at 0x7fd3210a7f10>]"
      ]
     },
     "execution_count": 37,
     "metadata": {},
     "output_type": "execute_result"
    },
    {
     "data": {
      "image/png": "[encoded data removed]",
      "text/plain": [
       "<Figure size 720x720 with 1 Axes>"
      ]
     },
     "metadata": {
      "needs_background": "light"
     },
     "output_type": "display_data"
    }
   ],
   "source": [
    "fig, ax = plt.subplots(figsize=(10, 10))\n",
    "(isotherm.ntot.swap_dims({\"lnz_0\": \"pscaled\"}).plot(hue=\"phase\"))\n",
    "\n",
    "for _meta, g in (\n",
    "    isotherm.sel(lnz_0=lnz_spin).to_dataframe().reset_index().groupby(\"lnz_0\")\n",
    "):\n",
    "    g.plot(\"pscaled\", \"ntot\", ax=plt.gca())\n",
    "\n",
    "plt.plot(df.pscaled, df.rho, marker=\"o\", mfc=\"None\", ls=\"--\", zorder=-1, ms=3)\n",
    "# plt.xlim(0.3, 0.45)\n",
    "# plt.ylim(5000, 6000)"
   ]
  }
 ],
 "metadata": {
  "kernelspec": {
   "display_name": "Python [conda env:lnpy-env]",
   "language": "python",
   "name": "conda-env-lnpy-env-py"
  },
  "language_info": {
   "codemirror_mode": {
    "name": "ipython",
    "version": 3
   },
   "file_extension": ".py",
   "mimetype": "text/x-python",
   "name": "python",
   "nbconvert_exporter": "python",
   "pygments_lexer": "ipython3",
   "version": "3.10.10"
  },
  "toc": {
   "base_numbering": 1,
   "nav_menu": {},
   "number_sections": true,
   "sideBar": true,
   "skip_h1_title": false,
   "title_cell": "Table of Contents",
   "title_sidebar": "Contents",
   "toc_cell": false,
   "toc_position": {},
   "toc_section_display": true,
   "toc_window_display": false
  }
 },
 "nbformat": 4,
 "nbformat_minor": 4
}
