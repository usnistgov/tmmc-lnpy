{
 "cells": [
  {
   "cell_type": "code",
   "execution_count": null,
   "metadata": {},
   "outputs": [],
   "source": [
    "%matplotlib inline\n",
    "\n",
    "import tarfile"
   ]
  },
  {
   "cell_type": "code",
   "execution_count": null,
   "metadata": {},
   "outputs": [],
   "source": [
    "from pathlib import Path"
   ]
  },
  {
   "cell_type": "code",
   "execution_count": null,
   "metadata": {},
   "outputs": [],
   "source": [
    "import lnPi\n",
    "import lnPi.stability\n",
    "import matplotlib.pyplot as plt\n",
    "import numpy as np\n",
    "import pandas as pd"
   ]
  },
  {
   "cell_type": "markdown",
   "metadata": {},
   "source": [
    "# front matters"
   ]
  },
  {
   "cell_type": "code",
   "execution_count": null,
   "metadata": {},
   "outputs": [
    {
     "data": {
      "text/html": [
       "<div>\n",
       "<style scoped>\n",
       "    .dataframe tbody tr th:only-of-type {\n",
       "        vertical-align: middle;\n",
       "    }\n",
       "\n",
       "    .dataframe tbody tr th {\n",
       "        vertical-align: top;\n",
       "    }\n",
       "\n",
       "    .dataframe thead th {\n",
       "        text-align: right;\n",
       "    }\n",
       "</style>\n",
       "<table border=\"1\" class=\"dataframe\">\n",
       "  <thead>\n",
       "    <tr style=\"text-align: right;\">\n",
       "      <th></th>\n",
       "      <th>kT</th>\n",
       "      <th>path</th>\n",
       "      <th>Nmin</th>\n",
       "      <th>Nmax</th>\n",
       "      <th>lnzsim</th>\n",
       "      <th>volume</th>\n",
       "      <th>num_phases_max</th>\n",
       "    </tr>\n",
       "  </thead>\n",
       "  <tbody>\n",
       "    <tr>\n",
       "      <th>0</th>\n",
       "      <td>1.20</td>\n",
       "      <td>ref_sim_web/mmlapps.nist.gov/srs/LJ_PURE/lj.t1...</td>\n",
       "      <td>0</td>\n",
       "      <td>390</td>\n",
       "      <td>-2.902929</td>\n",
       "      <td>512.0</td>\n",
       "      <td>2</td>\n",
       "    </tr>\n",
       "    <tr>\n",
       "      <th>1</th>\n",
       "      <td>0.75</td>\n",
       "      <td>ref_sim_web/mmlapps.nist.gov/srs/LJ_PURE/lj.t0...</td>\n",
       "      <td>0</td>\n",
       "      <td>475</td>\n",
       "      <td>-5.400601</td>\n",
       "      <td>512.0</td>\n",
       "      <td>2</td>\n",
       "    </tr>\n",
       "    <tr>\n",
       "      <th>2</th>\n",
       "      <td>0.80</td>\n",
       "      <td>ref_sim_web/mmlapps.nist.gov/srs/LJ_PURE/lj.t0...</td>\n",
       "      <td>0</td>\n",
       "      <td>470</td>\n",
       "      <td>-4.937419</td>\n",
       "      <td>512.0</td>\n",
       "      <td>2</td>\n",
       "    </tr>\n",
       "    <tr>\n",
       "      <th>3</th>\n",
       "      <td>1.10</td>\n",
       "      <td>ref_sim_web/mmlapps.nist.gov/srs/LJ_PURE/lj.t1...</td>\n",
       "      <td>0</td>\n",
       "      <td>400</td>\n",
       "      <td>-3.245568</td>\n",
       "      <td>512.0</td>\n",
       "      <td>2</td>\n",
       "    </tr>\n",
       "    <tr>\n",
       "      <th>4</th>\n",
       "      <td>1.45</td>\n",
       "      <td>ref_sim_web/mmlapps.nist.gov/srs/LJ_PURE/lj.t1...</td>\n",
       "      <td>0</td>\n",
       "      <td>370</td>\n",
       "      <td>-1.940905</td>\n",
       "      <td>512.0</td>\n",
       "      <td>2</td>\n",
       "    </tr>\n",
       "    <tr>\n",
       "      <th>5</th>\n",
       "      <td>1.00</td>\n",
       "      <td>ref_sim_web/mmlapps.nist.gov/srs/LJ_PURE/lj.t1...</td>\n",
       "      <td>0</td>\n",
       "      <td>425</td>\n",
       "      <td>-3.823078</td>\n",
       "      <td>512.0</td>\n",
       "      <td>2</td>\n",
       "    </tr>\n",
       "    <tr>\n",
       "      <th>6</th>\n",
       "      <td>0.90</td>\n",
       "      <td>ref_sim_web/mmlapps.nist.gov/srs/LJ_PURE/lj.t0...</td>\n",
       "      <td>0</td>\n",
       "      <td>465</td>\n",
       "      <td>-4.200008</td>\n",
       "      <td>512.0</td>\n",
       "      <td>2</td>\n",
       "    </tr>\n",
       "    <tr>\n",
       "      <th>7</th>\n",
       "      <td>0.95</td>\n",
       "      <td>ref_sim_web/mmlapps.nist.gov/srs/LJ_PURE/lj.t0...</td>\n",
       "      <td>0</td>\n",
       "      <td>465</td>\n",
       "      <td>-3.867387</td>\n",
       "      <td>512.0</td>\n",
       "      <td>2</td>\n",
       "    </tr>\n",
       "    <tr>\n",
       "      <th>8</th>\n",
       "      <td>1.05</td>\n",
       "      <td>ref_sim_web/mmlapps.nist.gov/srs/LJ_PURE/lj.t1...</td>\n",
       "      <td>0</td>\n",
       "      <td>415</td>\n",
       "      <td>-3.436560</td>\n",
       "      <td>512.0</td>\n",
       "      <td>2</td>\n",
       "    </tr>\n",
       "    <tr>\n",
       "      <th>9</th>\n",
       "      <td>1.50</td>\n",
       "      <td>ref_sim_web/mmlapps.nist.gov/srs/LJ_PURE/lj.t1...</td>\n",
       "      <td>0</td>\n",
       "      <td>370</td>\n",
       "      <td>-1.568214</td>\n",
       "      <td>512.0</td>\n",
       "      <td>2</td>\n",
       "    </tr>\n",
       "    <tr>\n",
       "      <th>10</th>\n",
       "      <td>1.15</td>\n",
       "      <td>ref_sim_web/mmlapps.nist.gov/srs/LJ_PURE/lj.t1...</td>\n",
       "      <td>0</td>\n",
       "      <td>400</td>\n",
       "      <td>-3.068218</td>\n",
       "      <td>512.0</td>\n",
       "      <td>2</td>\n",
       "    </tr>\n",
       "    <tr>\n",
       "      <th>11</th>\n",
       "      <td>1.40</td>\n",
       "      <td>ref_sim_web/mmlapps.nist.gov/srs/LJ_PURE/lj.t1...</td>\n",
       "      <td>0</td>\n",
       "      <td>375</td>\n",
       "      <td>-0.766941</td>\n",
       "      <td>512.0</td>\n",
       "      <td>2</td>\n",
       "    </tr>\n",
       "    <tr>\n",
       "      <th>12</th>\n",
       "      <td>0.85</td>\n",
       "      <td>ref_sim_web/mmlapps.nist.gov/srs/LJ_PURE/lj.t0...</td>\n",
       "      <td>0</td>\n",
       "      <td>470</td>\n",
       "      <td>-4.540504</td>\n",
       "      <td>512.0</td>\n",
       "      <td>2</td>\n",
       "    </tr>\n",
       "    <tr>\n",
       "      <th>13</th>\n",
       "      <td>1.35</td>\n",
       "      <td>ref_sim_web/mmlapps.nist.gov/srs/LJ_PURE/lj.t1...</td>\n",
       "      <td>0</td>\n",
       "      <td>380</td>\n",
       "      <td>-0.911440</td>\n",
       "      <td>512.0</td>\n",
       "      <td>2</td>\n",
       "    </tr>\n",
       "    <tr>\n",
       "      <th>14</th>\n",
       "      <td>0.70</td>\n",
       "      <td>ref_sim_web/mmlapps.nist.gov/srs/LJ_PURE/lj.t0...</td>\n",
       "      <td>0</td>\n",
       "      <td>475</td>\n",
       "      <td>-5.943376</td>\n",
       "      <td>512.0</td>\n",
       "      <td>2</td>\n",
       "    </tr>\n",
       "  </tbody>\n",
       "</table>\n",
       "</div>"
      ],
      "text/plain": [
       "      kT                                               path  Nmin  Nmax  \\\n",
       "0   1.20  ref_sim_web/mmlapps.nist.gov/srs/LJ_PURE/lj.t1...     0   390   \n",
       "1   0.75  ref_sim_web/mmlapps.nist.gov/srs/LJ_PURE/lj.t0...     0   475   \n",
       "2   0.80  ref_sim_web/mmlapps.nist.gov/srs/LJ_PURE/lj.t0...     0   470   \n",
       "3   1.10  ref_sim_web/mmlapps.nist.gov/srs/LJ_PURE/lj.t1...     0   400   \n",
       "4   1.45  ref_sim_web/mmlapps.nist.gov/srs/LJ_PURE/lj.t1...     0   370   \n",
       "5   1.00  ref_sim_web/mmlapps.nist.gov/srs/LJ_PURE/lj.t1...     0   425   \n",
       "6   0.90  ref_sim_web/mmlapps.nist.gov/srs/LJ_PURE/lj.t0...     0   465   \n",
       "7   0.95  ref_sim_web/mmlapps.nist.gov/srs/LJ_PURE/lj.t0...     0   465   \n",
       "8   1.05  ref_sim_web/mmlapps.nist.gov/srs/LJ_PURE/lj.t1...     0   415   \n",
       "9   1.50  ref_sim_web/mmlapps.nist.gov/srs/LJ_PURE/lj.t1...     0   370   \n",
       "10  1.15  ref_sim_web/mmlapps.nist.gov/srs/LJ_PURE/lj.t1...     0   400   \n",
       "11  1.40  ref_sim_web/mmlapps.nist.gov/srs/LJ_PURE/lj.t1...     0   375   \n",
       "12  0.85  ref_sim_web/mmlapps.nist.gov/srs/LJ_PURE/lj.t0...     0   470   \n",
       "13  1.35  ref_sim_web/mmlapps.nist.gov/srs/LJ_PURE/lj.t1...     0   380   \n",
       "14  0.70  ref_sim_web/mmlapps.nist.gov/srs/LJ_PURE/lj.t0...     0   475   \n",
       "\n",
       "      lnzsim  volume  num_phases_max  \n",
       "0  -2.902929   512.0               2  \n",
       "1  -5.400601   512.0               2  \n",
       "2  -4.937419   512.0               2  \n",
       "3  -3.245568   512.0               2  \n",
       "4  -1.940905   512.0               2  \n",
       "5  -3.823078   512.0               2  \n",
       "6  -4.200008   512.0               2  \n",
       "7  -3.867387   512.0               2  \n",
       "8  -3.436560   512.0               2  \n",
       "9  -1.568214   512.0               2  \n",
       "10 -3.068218   512.0               2  \n",
       "11 -0.766941   512.0               2  \n",
       "12 -4.540504   512.0               2  \n",
       "13 -0.911440   512.0               2  \n",
       "14 -5.943376   512.0               2  "
      ]
     },
     "execution_count": null,
     "metadata": {},
     "output_type": "execute_result"
    }
   ],
   "source": [
    "# create metadata frame\n",
    "meta = pd.read_csv(\n",
    "    \"./ref_sim_web/meta.txt\",\n",
    "    sep=\":\\\\s+\",\n",
    "    squeeze=True,\n",
    "    header=None,\n",
    "    names=[None, \"values\"],\n",
    "    index_col=0,\n",
    "    engine=\"python\",\n",
    ")  # , squeeze=True)\n",
    "\n",
    "\n",
    "table = pd.read_csv(\"./ref_sim_web/table.txt\", sep=\"\\\\s+\")\n",
    "volume = float(meta.V)\n",
    "\n",
    "root = Path()\n",
    "paths = list(root.glob(\"**/*.tar.gz\"))\n",
    "\n",
    "\n",
    "def parse_path(path):\n",
    "    s = path.name.split(\".\")[1].replace(\"t\", \"\")\n",
    "    return float(s[0] + \".\" + s[1:])\n",
    "\n",
    "\n",
    "df_list = (\n",
    "    pd.DataFrame([{\"kT\": parse_path(path), \"path\": path} for path in paths])\n",
    "    .merge(table, on=\"kT\")\n",
    "    .assign(volume=volume)\n",
    "    .assign(num_phases_max=2)\n",
    ")\n",
    "\n",
    "df_list"
   ]
  },
  {
   "cell_type": "code",
   "execution_count": null,
   "metadata": {},
   "outputs": [],
   "source": [
    "import lnPi\n",
    "\n",
    "\n",
    "def tag_phases2(x):\n",
    "    if len(x) > 2:\n",
    "        msg = \"bad tag function\"\n",
    "        raise ValueError(msg)\n",
    "    argmax0 = np.array([xx.local_argmax()[0] for xx in x])\n",
    "    return np.where(argmax0 <= x[0].shape[0] / 2, 0, 1)\n",
    "\n",
    "\n",
    "def load_path(path):\n",
    "    f = tarfile.open(path)\n",
    "    lnpi = []\n",
    "    energy = []\n",
    "\n",
    "    for member in f.getnames():\n",
    "        if \"p_macro\" in member:\n",
    "            d = lnpi\n",
    "            name = \"lnpi\"\n",
    "        else:\n",
    "            d = energy\n",
    "            name = \"energy\"\n",
    "\n",
    "        d.append(\n",
    "            pd.read_csv(f.extractfile(member), names=[\"n_0\", name], sep=\"\\\\s+\")\n",
    "            .set_index(\"n_0\")[name]\n",
    "            .to_xarray()\n",
    "        )\n",
    "    return lnpi, energy"
   ]
  },
  {
   "cell_type": "code",
   "execution_count": null,
   "metadata": {},
   "outputs": [],
   "source": [
    "# single analysis"
   ]
  },
  {
   "cell_type": "code",
   "execution_count": null,
   "metadata": {},
   "outputs": [],
   "source": [
    "def get_ref(df_list, slc=None):\n",
    "    if slc is None:\n",
    "        slc = slice(None)\n",
    "\n",
    "    for _i, g in df_list.iterrows():\n",
    "        path = g[\"path\"]\n",
    "        state_kws = {\"beta\": 1.0 / g[\"kT\"], \"volume\": g[\"volume\"], \"temp\": g[\"kT\"]}\n",
    "        lnz = g.lnzsim\n",
    "        lnpi_all, energy_all = load_path(path)\n",
    "\n",
    "        for lnpi, energy in zip(lnpi_all[slc], energy_all[slc]):\n",
    "            ref = lnPi.MaskedlnPiDelayed.from_data(\n",
    "                data=lnpi.values,\n",
    "                mask=None,\n",
    "                lnz=lnz,\n",
    "                lnz_data=lnz,\n",
    "                state_kws=state_kws,\n",
    "                extra_kws={\"PE\": energy.values},\n",
    "                fill_value=np.nan,\n",
    "            ).zeromax()\n",
    "\n",
    "            yield ref\n",
    "\n",
    "\n",
    "def get_collection(ref):\n",
    "    phase_creator = lnPi.segment.PhaseCreator(\n",
    "        nmax=2, nmax_peak=4, ref=ref, merge_kws={\"efac\": 0.8}, tag_phases=tag_phases2\n",
    "    )\n",
    "    build_phases = phase_creator.build_phases_mu([None])\n",
    "\n",
    "    lnz_range = ref.lnz[0] + np.array([-10, +10])\n",
    "    lnzs = np.linspace(lnz_range[0], lnz_range[1], 20)\n",
    "\n",
    "    return build_phases, lnPi.CollectionlnPi.from_builder(lnzs, build_phases)\n",
    "\n",
    "\n",
    "def get_stability(build_phases, o):\n",
    "    try:\n",
    "        o.spinodal(2, build_phases)\n",
    "        o.binodal(2, build_phases)\n",
    "        spin = o.spinodal.access\n",
    "        bino = o.binodal.access\n",
    "    except:\n",
    "        spin = None\n",
    "        bino = None\n",
    "    return spin, bino\n",
    "\n",
    "\n",
    "# def get_table(spin, ref=None):\n",
    "#     return (\n",
    "#         spin.xge.table(['dens','betaOmega','pressure','PE'], default_keys=[], ref=ref)\n",
    "#         .to_dataframe()\n",
    "#     )"
   ]
  },
  {
   "cell_type": "code",
   "execution_count": null,
   "metadata": {},
   "outputs": [],
   "source": [
    "from tqdm.notebook import tqdm"
   ]
  },
  {
   "cell_type": "code",
   "execution_count": null,
   "metadata": {},
   "outputs": [
    {
     "data": {
      "application/vnd.jupyter.widget-view+json": {
       "model_id": "739bcffb8f7146939e025a09546cff4d",
       "version_major": 2,
       "version_minor": 0
      },
      "text/plain": [
       "HBox(children=(FloatProgress(value=0.0, max=15.0), HTML(value='')))"
      ]
     },
     "metadata": {},
     "output_type": "display_data"
    },
    {
     "name": "stdout",
     "output_type": "stream",
     "text": [
      "\n"
     ]
    }
   ],
   "source": [
    "L_spin = []\n",
    "L_bino = []\n",
    "for ref in tqdm(get_ref(df_list, slc=slice(None, 1)), total=len(df_list)):\n",
    "    build_phases, o = get_collection(ref)\n",
    "    spin, bino = get_stability(build_phases, o)\n",
    "\n",
    "    if spin is not None:\n",
    "        L_spin.append(\n",
    "            spin.xge.table(\n",
    "                [\"dens\", \"betaOmega\", \"pressure\", \"PE\"], default_keys=[], ref=ref\n",
    "            ).to_dataframe()\n",
    "        )\n",
    "    if bino is not None:\n",
    "        L_bino.append(\n",
    "            bino.xge.table(\n",
    "                [\"dens\", \"betaOmega\", \"pressure\", \"PE\"], default_keys=[], ref=ref\n",
    "            ).to_dataframe()\n",
    "        )"
   ]
  },
  {
   "cell_type": "code",
   "execution_count": null,
   "metadata": {},
   "outputs": [],
   "source": [
    "df_spin = pd.concat(L_spin)\n",
    "df_bino = pd.concat(L_bino)"
   ]
  },
  {
   "cell_type": "code",
   "execution_count": null,
   "metadata": {},
   "outputs": [
    {
     "data": {
      "text/html": [
       "<div>\n",
       "<style scoped>\n",
       "    .dataframe tbody tr th:only-of-type {\n",
       "        vertical-align: middle;\n",
       "    }\n",
       "\n",
       "    .dataframe tbody tr th {\n",
       "        vertical-align: top;\n",
       "    }\n",
       "\n",
       "    .dataframe thead th {\n",
       "        text-align: right;\n",
       "    }\n",
       "</style>\n",
       "<table border=\"1\" class=\"dataframe\">\n",
       "  <thead>\n",
       "    <tr style=\"text-align: right;\">\n",
       "      <th></th>\n",
       "      <th>component</th>\n",
       "      <th>phase</th>\n",
       "      <th>beta</th>\n",
       "      <th>volume</th>\n",
       "      <th>temp</th>\n",
       "      <th>mu_0</th>\n",
       "      <th>density</th>\n",
       "      <th>pressure</th>\n",
       "      <th>energy</th>\n",
       "      <th>lnz</th>\n",
       "    </tr>\n",
       "  </thead>\n",
       "  <tbody>\n",
       "    <tr>\n",
       "      <th>0</th>\n",
       "      <td>0</td>\n",
       "      <td>0</td>\n",
       "      <td>0.833333</td>\n",
       "      <td>512.0</td>\n",
       "      <td>1.20</td>\n",
       "      <td>-3.636708</td>\n",
       "      <td>0.100375</td>\n",
       "      <td>0.077234</td>\n",
       "      <td>-0.855508</td>\n",
       "      <td>-3.030590</td>\n",
       "    </tr>\n",
       "    <tr>\n",
       "      <th>1</th>\n",
       "      <td>0</td>\n",
       "      <td>1</td>\n",
       "      <td>0.833333</td>\n",
       "      <td>512.0</td>\n",
       "      <td>1.20</td>\n",
       "      <td>-3.636708</td>\n",
       "      <td>0.563140</td>\n",
       "      <td>0.077234</td>\n",
       "      <td>-3.871047</td>\n",
       "      <td>-3.030590</td>\n",
       "    </tr>\n",
       "    <tr>\n",
       "      <th>2</th>\n",
       "      <td>0</td>\n",
       "      <td>0</td>\n",
       "      <td>1.333333</td>\n",
       "      <td>512.0</td>\n",
       "      <td>0.75</td>\n",
       "      <td>-4.262522</td>\n",
       "      <td>0.003630</td>\n",
       "      <td>0.002636</td>\n",
       "      <td>-0.042503</td>\n",
       "      <td>-5.683363</td>\n",
       "    </tr>\n",
       "    <tr>\n",
       "      <th>3</th>\n",
       "      <td>0</td>\n",
       "      <td>1</td>\n",
       "      <td>1.333333</td>\n",
       "      <td>512.0</td>\n",
       "      <td>0.75</td>\n",
       "      <td>-4.262522</td>\n",
       "      <td>0.821441</td>\n",
       "      <td>0.002636</td>\n",
       "      <td>-5.905438</td>\n",
       "      <td>-5.683363</td>\n",
       "    </tr>\n",
       "    <tr>\n",
       "      <th>4</th>\n",
       "      <td>0</td>\n",
       "      <td>0</td>\n",
       "      <td>1.250000</td>\n",
       "      <td>512.0</td>\n",
       "      <td>0.80</td>\n",
       "      <td>-4.156566</td>\n",
       "      <td>0.006103</td>\n",
       "      <td>0.004647</td>\n",
       "      <td>-0.067583</td>\n",
       "      <td>-5.195707</td>\n",
       "    </tr>\n",
       "  </tbody>\n",
       "</table>\n",
       "</div>"
      ],
      "text/plain": [
       "   component  phase      beta  volume  temp      mu_0   density  pressure  \\\n",
       "0          0      0  0.833333   512.0  1.20 -3.636708  0.100375  0.077234   \n",
       "1          0      1  0.833333   512.0  1.20 -3.636708  0.563140  0.077234   \n",
       "2          0      0  1.333333   512.0  0.75 -4.262522  0.003630  0.002636   \n",
       "3          0      1  1.333333   512.0  0.75 -4.262522  0.821441  0.002636   \n",
       "4          0      0  1.250000   512.0  0.80 -4.156566  0.006103  0.004647   \n",
       "\n",
       "     energy       lnz  \n",
       "0 -0.855508 -3.030590  \n",
       "1 -3.871047 -3.030590  \n",
       "2 -0.042503 -5.683363  \n",
       "3 -5.905438 -5.683363  \n",
       "4 -0.067583 -5.195707  "
      ]
     },
     "execution_count": null,
     "metadata": {},
     "output_type": "execute_result"
    }
   ],
   "source": [
    "df = pd.read_csv(\"binodal.csv\")\n",
    "df.head()"
   ]
  },
  {
   "cell_type": "code",
   "execution_count": null,
   "metadata": {},
   "outputs": [
    {
     "data": {
      "text/plain": [
       "<matplotlib.axes._subplots.AxesSubplot at 0x7fd3f1352cd0>"
      ]
     },
     "execution_count": null,
     "metadata": {},
     "output_type": "execute_result"
    },
    {
     "data": {
      "image/png": "[encoded data removed]",
      "text/plain": [
       "<Figure size 432x288 with 1 Axes>"
      ]
     },
     "metadata": {
      "needs_background": "light"
     },
     "output_type": "display_data"
    }
   ],
   "source": [
    "(df_bino.plot(\"dens\", \"pressure\", marker=\"o\", ls=\"None\"))\n",
    "\n",
    "# (\n",
    "#     df_spin\n",
    "#     .query('phase==spinodal')\n",
    "#     .plot('dens','pressure', marker='^', ls='None', ax=plt.gca())\n",
    "# )\n",
    "\n",
    "\n",
    "df.plot(\"density\", \"pressure\", marker=\"s\", ls=\"None\", ax=plt.gca(), mfc=\"None\")"
   ]
  },
  {
   "cell_type": "code",
   "execution_count": null,
   "metadata": {},
   "outputs": [
    {
     "data": {
      "text/plain": [
       "<matplotlib.axes._subplots.AxesSubplot at 0x7fd3c0d3c350>"
      ]
     },
     "execution_count": null,
     "metadata": {},
     "output_type": "execute_result"
    },
    {
     "data": {
      "image/png": "[encoded data removed]",
      "text/plain": [
       "<Figure size 432x288 with 1 Axes>"
      ]
     },
     "metadata": {
      "needs_background": "light"
     },
     "output_type": "display_data"
    }
   ],
   "source": [
    "(\n",
    "    df_bino.assign(n=lambda x: x[\"dens\"] * x[\"volume\"])\n",
    "    .assign(PE_n=lambda x: x[\"PE\"] / x[\"n\"])\n",
    "    .plot(\"dens\", \"PE_n\", marker=\"o\", ls=\"None\")\n",
    ")\n",
    "\n",
    "df.plot(\"density\", \"energy\", marker=\"o\", ls=\"None\", mfc=\"None\", ax=plt.gca())"
   ]
  },
  {
   "cell_type": "code",
   "execution_count": null,
   "metadata": {},
   "outputs": [
    {
     "data": {
      "text/plain": [
       "<matplotlib.axes._subplots.AxesSubplot at 0x7fd3c0c714d0>"
      ]
     },
     "execution_count": null,
     "metadata": {},
     "output_type": "execute_result"
    },
    {
     "data": {
      "image/png": "[encoded data removed]",
      "text/plain": [
       "<Figure size 432x288 with 1 Axes>"
      ]
     },
     "metadata": {
      "needs_background": "light"
     },
     "output_type": "display_data"
    }
   ],
   "source": [
    "(df_bino.reset_index().plot(\"lnz_0\", \"dens\", marker=\"o\", ls=\"None\"))\n",
    "\n",
    "df.plot(\"lnz\", \"density\", marker=\"s\", ls=\"None\", mfc=\"None\", ax=plt.gca())"
   ]
  },
  {
   "cell_type": "code",
   "execution_count": null,
   "metadata": {},
   "outputs": [],
   "source": []
  }
 ],
 "metadata": {
  "language_info": {
   "codemirror_mode": {
    "name": "ipython",
    "version": 3
   },
   "file_extension": ".py",
   "mimetype": "text/x-python",
   "name": "python",
   "nbconvert_exporter": "python",
   "pygments_lexer": "ipython3",
   "version": "3.7.6"
  },
  "toc": {
   "base_numbering": 1,
   "nav_menu": {},
   "number_sections": true,
   "sideBar": true,
   "skip_h1_title": false,
   "title_cell": "Table of Contents",
   "title_sidebar": "Contents",
   "toc_cell": false,
   "toc_position": {},
   "toc_section_display": true,
   "toc_window_display": false
  }
 },
 "nbformat": 4,
 "nbformat_minor": 2
}
