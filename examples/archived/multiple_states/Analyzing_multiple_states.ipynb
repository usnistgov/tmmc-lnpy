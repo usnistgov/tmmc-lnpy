{
 "cells": [
  {
   "cell_type": "markdown",
   "metadata": {},
   "source": [
    "# Analyzing multiple states"
   ]
  },
  {
   "cell_type": "markdown",
   "metadata": {},
   "source": [
    "`lnpy` is designed to analyze $\\ln \\Pi(N)$ at a single state point (temperature, volume, etc) across multiple values of $\\ln z$.  To analyze across multiple state points, some extra work is required.  Here, we show an example of analyzing $\\ln \\Pi(N; T)$ for several values of the temperature $T$."
   ]
  },
  {
   "cell_type": "code",
   "execution_count": 1,
   "metadata": {},
   "outputs": [],
   "source": [
    "%matplotlib inline\n",
    "\n",
    "import json"
   ]
  },
  {
   "cell_type": "markdown",
   "metadata": {},
   "source": [
    "# load reference states"
   ]
  },
  {
   "cell_type": "code",
   "execution_count": 2,
   "metadata": {},
   "outputs": [],
   "source": [
    "from pathlib import Path\n",
    "\n",
    "import numpy as np\n",
    "import xarray as xr\n",
    "from joblib import Parallel, delayed\n",
    "from tqdm.notebook import tqdm\n",
    "\n",
    "import lnpy\n",
    "\n",
    "\n",
    "def load_lnpi_from_json(path):\n",
    "    with open(path) as f:\n",
    "        ds = xr.Dataset.from_dict(json.load(f))\n",
    "\n",
    "        if \"PE\" in ds:\n",
    "            extra_kws = {\"PE\": ds.PE.values}\n",
    "        else:\n",
    "            extra_kws = None\n",
    "\n",
    "        ref = lnpy.lnPiMasked.from_dataarray(ds.lnpi, extra_kws=extra_kws)\n",
    "    return ref\n",
    "\n",
    "\n",
    "refs = [load_lnpi_from_json(p) for p in Path(\"./tmmc_json/\").glob(\"*.json\")]"
   ]
  },
  {
   "cell_type": "markdown",
   "metadata": {},
   "source": [
    "# analyze a single lnpi"
   ]
  },
  {
   "cell_type": "code",
   "execution_count": 103,
   "metadata": {},
   "outputs": [],
   "source": [
    "# function to tag 'LD' and 'HD' phases\n",
    "def tag_phases2(x):\n",
    "    if len(x) > 2:\n",
    "        raise ValueError(\"bad tag function\")\n",
    "    else:\n",
    "        argmax0 = np.array([xx.local_argmax()[0] for xx in x])\n",
    "        if len(x) == 2:\n",
    "            return np.argsort(argmax0)\n",
    "        else:\n",
    "            return np.where(argmax0 <= x[0].shape[0] / 2, 0, 1)\n",
    "\n",
    "\n",
    "def get_stability(\n",
    "    ref, nphase=2, ret_all=True, get_spin=True, tag_phases=tag_phases2, nlnz=2\n",
    "):\n",
    "    phase_creator = lnpy.PhaseCreator(\n",
    "        nmax=nphase,\n",
    "        nmax_peak=4,\n",
    "        ref=ref,\n",
    "        merge_kws={\"efac\": 0.5},\n",
    "        tag_phases=tag_phases,\n",
    "    )\n",
    "    build_phases = phase_creator.build_phases_mu([None])\n",
    "\n",
    "    # Turn off parallel here\n",
    "    with lnpy.set_options(joblib_use=False, tqdm_use=False):\n",
    "        # If want nice mesh\n",
    "        #         c_course, c = limited_collection(\n",
    "        #             build_phases,\n",
    "        #             dlnz=2.0,\n",
    "        #             digits=3,\n",
    "        #             offsets=[-10, +10],\n",
    "        #             collection_kws=dict(unstack=False),\n",
    "        #             edge_distance_min=8,\n",
    "        #             dens_min=1e-6\n",
    "\n",
    "        #         )\n",
    "\n",
    "        # For rough estimate, use something like:\n",
    "        # NOTE: using a finer mesh like above might make calculation more accurate...\n",
    "        lnzs = np.linspace(-10, +10, nlnz) + ref.lnz[0]\n",
    "        c_course = lnpy.lnPiCollection.from_builder(\n",
    "            lnzs=lnzs, build_phases=build_phases, unstack=False\n",
    "        )\n",
    "\n",
    "        # calculate spinodal\n",
    "        efac = 1.0\n",
    "        stability_kws = {\n",
    "            \"phase_ids\": 2,\n",
    "            \"build_phases\": build_phases,\n",
    "            \"build_kws\": {\"efac\": efac * 0.5},\n",
    "            \"as_dict\": False,\n",
    "            \"inplace\": False,\n",
    "        }\n",
    "\n",
    "        spin = bino = None\n",
    "        if get_spin:\n",
    "            try:\n",
    "                spin, spin_info = c_course.spinodal(efac=efac, **stability_kws)\n",
    "                bino, bino_info = c_course.binodal(spinodals=spin, **stability_kws)\n",
    "            except:\n",
    "                pass\n",
    "        else:\n",
    "            try:\n",
    "                bino, bino_info = c_course.binodal(\n",
    "                    lnz_min=lnzs[0], lnz_max=lnzs[-1], **stability_kws\n",
    "                )\n",
    "            except:\n",
    "                pass\n",
    "\n",
    "    out = {\n",
    "        \"spin\": spin,\n",
    "        \"bino\": bino,\n",
    "    }\n",
    "\n",
    "    if ret_all:\n",
    "        out[\"phase_creator\"] = phase_creator\n",
    "        out[\"c_course\"] = c_course\n",
    "\n",
    "    return out"
   ]
  },
  {
   "cell_type": "code",
   "execution_count": 64,
   "metadata": {},
   "outputs": [],
   "source": [
    "# super simple construction\n",
    "ref = refs[0]\n",
    "phase_creator = lnpy.PhaseCreator(\n",
    "    nmax=2, nmax_peak=4, ref=ref, merge_kws={\"efac\": 0.5}, tag_phases=None\n",
    ")\n",
    "\n",
    "c_course = lnpy.lnPiCollection.from_builder(\n",
    "    lnzs=np.linspace(-10, +10, 2) + ref.lnz[0],\n",
    "    build_phases=phase_creator.build_phases_mu([None]),\n",
    ")"
   ]
  },
  {
   "cell_type": "code",
   "execution_count": 66,
   "metadata": {},
   "outputs": [
    {
     "data": {
      "text/plain": [
       "(<class lnPiCollection>\n",
       " binodal  lnz_0         phase\n",
       " 0        1.136868e-12  1        [1.1368683772161603e-12]\n",
       " dtype: object,\n",
       " {0:       converged: True\n",
       "             flag: 'converged'\n",
       "   function_calls: 45\n",
       "       iterations: 44\n",
       "             root: 1.1368683772161603e-12})"
      ]
     },
     "execution_count": 66,
     "metadata": {},
     "output_type": "execute_result"
    }
   ],
   "source": [
    "c_course.binodal.__call__(\n",
    "    phase_ids=2,\n",
    "    build_phases=out[\"phase_creator\"].build_phases_mu([None]),\n",
    "    build_kws={\"efac\": 0.5},\n",
    "    as_dict=False,\n",
    "    inplace=False,\n",
    "    lnz_min=-10,\n",
    "    lnz_max=+10,\n",
    ")"
   ]
  },
  {
   "cell_type": "code",
   "execution_count": 128,
   "metadata": {},
   "outputs": [
    {
     "name": "stdout",
     "output_type": "stream",
     "text": [
      "2.43 s ± 0 ns per loop (mean ± std. dev. of 1 run, 1 loop each)\n"
     ]
    }
   ],
   "source": [
    "%timeit -n 1 -r 1 [get_stability(ref, tag_phases=tag_phases2, get_spin=True) for ref in refs]"
   ]
  },
  {
   "cell_type": "code",
   "execution_count": 142,
   "metadata": {},
   "outputs": [
    {
     "name": "stdout",
     "output_type": "stream",
     "text": [
      "parallel\n",
      "530 ms ± 0 ns per loop (mean ± std. dev. of 1 run, 1 loop each)\n"
     ]
    }
   ],
   "source": [
    "print(\"parallel\")\n",
    "f = lambda ref: get_stability(ref=ref, tag_phases=tag_phases2, get_spin=True, nlnz=5)\n",
    "%timeit -n 1 -r 1 Parallel(n_jobs=-1)(delayed(f)(ref) for ref in refs)"
   ]
  },
  {
   "cell_type": "code",
   "execution_count": 143,
   "metadata": {},
   "outputs": [
    {
     "data": {
      "application/vnd.jupyter.widget-view+json": {
       "model_id": "b3a89b5334d44faea8827810b3783427",
       "version_major": 2,
       "version_minor": 0
      },
      "text/plain": [
       "  0%|          | 0/15 [00:00<?, ?it/s]"
      ]
     },
     "metadata": {},
     "output_type": "display_data"
    }
   ],
   "source": [
    "# accumulate stabilities\n",
    "stabilities = Parallel(n_jobs=-1)(delayed(get_stability)(ref) for ref in tqdm(refs))"
   ]
  },
  {
   "cell_type": "code",
   "execution_count": 144,
   "metadata": {},
   "outputs": [],
   "source": [
    "# Collect all binodals and drop any with None (super crit)\n",
    "binodals = [bino for s in stabilities if (bino := s[\"bino\"]) is not None]"
   ]
  },
  {
   "cell_type": "code",
   "execution_count": 145,
   "metadata": {
    "scrolled": false
   },
   "outputs": [],
   "source": [
    "# collect properties and concat\n",
    "table = xr.concat(\n",
    "    [b.xge.table(keys=[\"dens_tot\", \"pressure\"]) for b in binodals], dim=\"sample\"\n",
    ")"
   ]
  },
  {
   "cell_type": "code",
   "execution_count": 146,
   "metadata": {},
   "outputs": [],
   "source": [
    "df = table.reset_index(\"sample\").to_dataframe()"
   ]
  },
  {
   "cell_type": "code",
   "execution_count": 147,
   "metadata": {},
   "outputs": [
    {
     "data": {
      "text/plain": [
       "<matplotlib.collections.PathCollection at 0x1a79eeee0>"
      ]
     },
     "execution_count": 147,
     "metadata": {},
     "output_type": "execute_result"
    },
    {
     "data": {
      "image/png": "[encoded data removed]",
      "text/plain": [
       "<Figure size 640x480 with 1 Axes>"
      ]
     },
     "metadata": {},
     "output_type": "display_data"
    }
   ],
   "source": [
    "table.plot.scatter(\"lnz_0\", \"dens_tot\")"
   ]
  },
  {
   "cell_type": "code",
   "execution_count": 148,
   "metadata": {},
   "outputs": [
    {
     "data": {
      "text/plain": [
       "<matplotlib.collections.PathCollection at 0x1a771c4f0>"
      ]
     },
     "execution_count": 148,
     "metadata": {},
     "output_type": "execute_result"
    },
    {
     "data": {
      "image/png": "[encoded data removed]",
      "text/plain": [
       "<Figure size 640x480 with 1 Axes>"
      ]
     },
     "metadata": {},
     "output_type": "display_data"
    }
   ],
   "source": [
    "table.plot.scatter(\"dens_tot\", \"temp\")"
   ]
  },
  {
   "cell_type": "code",
   "execution_count": null,
   "metadata": {},
   "outputs": [],
   "source": []
  }
 ],
 "metadata": {
  "kernelspec": {
   "display_name": "Python [conda env:lnpy-env]",
   "language": "python",
   "name": "conda-env-lnpy-env-py"
  },
  "language_info": {
   "codemirror_mode": {
    "name": "ipython",
    "version": 3
   },
   "file_extension": ".py",
   "mimetype": "text/x-python",
   "name": "python",
   "nbconvert_exporter": "python",
   "pygments_lexer": "ipython3",
   "version": "3.9.13"
  },
  "toc": {
   "base_numbering": 1,
   "nav_menu": {},
   "number_sections": true,
   "sideBar": true,
   "skip_h1_title": false,
   "title_cell": "Table of Contents",
   "title_sidebar": "Contents",
   "toc_cell": false,
   "toc_position": {},
   "toc_section_display": true,
   "toc_window_display": true
  }
 },
 "nbformat": 4,
 "nbformat_minor": 4
}
