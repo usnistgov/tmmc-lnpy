{
 "cells": [
  {
   "cell_type": "code",
   "execution_count": 1,
   "metadata": {},
   "outputs": [],
   "source": [
    "%config Completer.use_jedi=False\n",
    "%matplotlib inline\n",
    "\n",
    "import matplotlib.pyplot as plt\n",
    "import numpy as np\n",
    "import pandas as pd\n",
    "import xarray as xr\n",
    "from importlib import reload\n",
    "\n",
    "\n",
    "#import lnPi.old\n",
    "import lnPi\n",
    "import lnPi.stability\n",
    "import lnPi.monoutils\n",
    "\n",
    "#function to tag 'LD' and 'HD' phases\n",
    "def tag_phases2(x):\n",
    "    if len(x) > 2:\n",
    "        raise ValueError('bad tag function')\n",
    "    argmax0 = np.array([xx.local_argmax()[0] for xx in x])\n",
    "    return np.where(argmax0 <= x[0].shape[0] / 2, 0, 1)\n"
   ]
  },
  {
   "cell_type": "markdown",
   "metadata": {},
   "source": [
    "# create a reference lnPi_phases for bulk case"
   ]
  },
  {
   "cell_type": "code",
   "execution_count": 2,
   "metadata": {},
   "outputs": [],
   "source": [
    "pe = pd.read_csv('./PiofN/ljsf.t070.bulk.v729.r1.energy.dat', header=None, sep='\\s+', names=['n','e'])['e'].values\n",
    "\n",
    "mu = -8.616\n",
    "volume = 729\n",
    "temp = 0.7\n",
    "beta = 1.0 / temp\n",
    "state_kws = dict(volume=volume, temp=temp, beta=1/temp)\n",
    "lnz = beta * mu\n",
    "\n",
    "\n",
    "# reference masked lnPi\n",
    "ref = lnPi.core.MaskedlnPi.from_table('./PiofN/ljsf.t070.bulk.v729.r1.lnpi.dat',fill_value=np.nan,\n",
    "                                      lnz=lnz, state_kws=state_kws, extra_kws={'PE':pe}).zeromax()\n",
    "\n",
    "# Phase Creator\n",
    "PhaseCreator = lnPi.segment.PhaseCreator(nmax=2, tag_phases=tag_phases2, nmax_peak=4, merge_kws=dict(efac=0.8), \n",
    "                                         ref=ref)\n",
    "build_phases = PhaseCreator.build_phases_mu([None])"
   ]
  },
  {
   "cell_type": "code",
   "execution_count": 3,
   "metadata": {},
   "outputs": [
    {
     "data": {
      "text/plain": [
       "<xarray.DataArray 'betaOmega' (phase: 2)>\n",
       "array([ -2.554284, -20.713516])\n",
       "Coordinates:\n",
       "    lnz_0    float64 -12.31\n",
       "    volume   int64 729\n",
       "    temp     float64 0.7\n",
       "    beta     float64 1.429\n",
       "  * phase    (phase) int64 0 1\n",
       "Attributes:\n",
       "    dims_n:         ['n_0']\n",
       "    dims_lnz:       ['lnz_0']\n",
       "    dims_comp:      ['component']\n",
       "    dims_state:     ['lnz_0', 'volume', 'temp', 'beta']\n",
       "    standard_name:  grand_potential\n",
       "    long_name:      $\\beta \\Omega(\\mu,V,T)$"
      ]
     },
     "execution_count": 3,
     "metadata": {},
     "output_type": "execute_result"
    }
   ],
   "source": [
    "# create a phase object\n",
    "p = PhaseCreator.build_phases()\n",
    "p.xgce.betaOmega()"
   ]
  },
  {
   "cell_type": "markdown",
   "metadata": {},
   "source": [
    "## create a collection"
   ]
  },
  {
   "cell_type": "code",
   "execution_count": 4,
   "metadata": {},
   "outputs": [],
   "source": [
    "from joblib import Parallel, delayed\n",
    "from joblib.externals.loky import set_loky_pickler\n",
    "import joblib\n",
    "set_loky_pickler('pickle')"
   ]
  },
  {
   "cell_type": "code",
   "execution_count": 5,
   "metadata": {},
   "outputs": [],
   "source": [
    "lnzs = np.linspace(ref.lnz[0] - 5, ref.lnz[0] + 5, 50)"
   ]
  },
  {
   "cell_type": "code",
   "execution_count": 22,
   "metadata": {},
   "outputs": [],
   "source": [
    "#%%timeit -n 1 -r 1\n",
    "with lnPi.set_options(tqdm_use=True, tqdm_leave=True, joblib_use=True):\n",
    "    c = lnPi.CollectionPhases.from_builder(lnzs, build_phases=build_phases, concat_coords='different', \n",
    "                                       unstack=True, set_index=['lnz_0','phase'], clean_coords=True )"
   ]
  },
  {
   "cell_type": "code",
   "execution_count": 23,
   "metadata": {},
   "outputs": [],
   "source": [
    "mask = c.xgce.edge_distance(ref).min('phase') > 8"
   ]
  },
  {
   "cell_type": "code",
   "execution_count": 24,
   "metadata": {},
   "outputs": [],
   "source": [
    "c = c[mask.values]"
   ]
  },
  {
   "cell_type": "code",
   "execution_count": 25,
   "metadata": {},
   "outputs": [],
   "source": [
    "c.spinodals(2, build_phases, inplace=True, append=True)\n",
    "c.binodals(2, build_phases, inplace=True, append=True)\n",
    "spin = c.spinodals.access\n",
    "bino = c.binodals.access"
   ]
  },
  {
   "cell_type": "code",
   "execution_count": 26,
   "metadata": {},
   "outputs": [
    {
     "data": {
      "text/plain": [
       "[<matplotlib.lines.Line2D at 0x7feff8550490>,\n",
       " <matplotlib.lines.Line2D at 0x7feff8550650>]"
      ]
     },
     "execution_count": 26,
     "metadata": {},
     "output_type": "execute_result"
    },
    {
     "data": {
      "image/png": "[encoded data removed]",
      "text/plain": [
       "<Figure size 432x288 with 1 Axes>"
      ]
     },
     "metadata": {
      "needs_background": "light"
     },
     "output_type": "display_data"
    }
   ],
   "source": [
    "c.xgce_prop.betaOmega().unstack().plot(hue='phase')"
   ]
  },
  {
   "cell_type": "code",
   "execution_count": 27,
   "metadata": {},
   "outputs": [
    {
     "data": {
      "text/plain": [
       "[<matplotlib.lines.Line2D at 0x7ff058ad1d90>]"
      ]
     },
     "execution_count": 27,
     "metadata": {},
     "output_type": "execute_result"
    },
    {
     "data": {
      "image/png": "[encoded data removed]",
      "text/plain": [
       "<Figure size 432x288 with 1 Axes>"
      ]
     },
     "metadata": {
      "needs_background": "light"
     },
     "output_type": "display_data"
    }
   ],
   "source": [
    "c.xgce_prop.table(dim_to_suffix='component', mask_stable=False).betapV.unstack().plot(hue='phase')\n",
    "c.xgce_prop.table(dim_to_suffix='component', mask_stable=True).betapV.unstack().plot(hue='phase')"
   ]
  },
  {
   "cell_type": "code",
   "execution_count": 28,
   "metadata": {},
   "outputs": [
    {
     "data": {
      "text/plain": [
       "[<matplotlib.lines.Line2D at 0x7ff04be27b50>]"
      ]
     },
     "execution_count": 28,
     "metadata": {},
     "output_type": "execute_result"
    },
    {
     "data": {
      "image/png": "[encoded data removed]",
      "text/plain": [
       "<Figure size 432x288 with 1 Axes>"
      ]
     },
     "metadata": {
      "needs_background": "light"
     },
     "output_type": "display_data"
    }
   ],
   "source": [
    "c.xgce.betaOmega().plot(hue='phase')\n",
    "(\n",
    "    spin.xgce.betaOmega()\n",
    "    .pipe(lambda x: x.where(x.phase == x.rec))\n",
    "    .plot(hue='phase', marker='o')\n",
    ")\n",
    "\n",
    "bino.xgce.betaOmega().sel(phase=0).plot.line(marker='o', label='binodal')\n",
    "\n",
    "\n"
   ]
  },
  {
   "cell_type": "code",
   "execution_count": 29,
   "metadata": {},
   "outputs": [],
   "source": [
    "# mu min/max"
   ]
  },
  {
   "cell_type": "code",
   "execution_count": 35,
   "metadata": {},
   "outputs": [
    {
     "data": {
      "text/plain": [
       "<module 'lnPi.monoutils' from '/Users/wpk/Documents/python/lnPi/monoutils.py'>"
      ]
     },
     "execution_count": 35,
     "metadata": {},
     "output_type": "execute_result"
    }
   ],
   "source": [
    "reload(lnPi.monoutils)"
   ]
  },
  {
   "cell_type": "code",
   "execution_count": 54,
   "metadata": {},
   "outputs": [],
   "source": [
    "c_course, c = lnPi.monoutils.limited_collection(build_phases, lnz_range=np.round(ref.lnz + [-10, +10], 1), dlnz=0.1, \n",
    "                                                rho_min=0.0001, edge_distance_min=8, \n",
    "                                                collection_kws={'unstack':True,'set_index':['lnz_0','phase']})"
   ]
  },
  {
   "cell_type": "code",
   "execution_count": 55,
   "metadata": {},
   "outputs": [],
   "source": [
    "c.spinodals(2, build_phases, inplace=True, append=True)\n",
    "c.binodals(2, build_phases, inplace=True, append=True)"
   ]
  },
  {
   "cell_type": "code",
   "execution_count": 56,
   "metadata": {},
   "outputs": [],
   "source": [
    "c.sort_by_lnz()"
   ]
  },
  {
   "cell_type": "code",
   "execution_count": 57,
   "metadata": {},
   "outputs": [],
   "source": [
    "table = c.xgce_prop.table(['dens','pressure'], mask_stable=True, dim_to_suffix='component')"
   ]
  },
  {
   "cell_type": "code",
   "execution_count": 58,
   "metadata": {},
   "outputs": [
    {
     "data": {
      "text/plain": [
       "<matplotlib.axes._subplots.AxesSubplot at 0x7ff038f61ad0>"
      ]
     },
     "execution_count": 58,
     "metadata": {},
     "output_type": "execute_result"
    },
    {
     "data": {
      "image/png": "[encoded data removed]",
      "text/plain": [
       "<Figure size 432x288 with 1 Axes>"
      ]
     },
     "metadata": {
      "needs_background": "light"
     },
     "output_type": "display_data"
    }
   ],
   "source": [
    "table.to_dataframe().plot('dens_0','pressure', marker='o')"
   ]
  },
  {
   "cell_type": "code",
   "execution_count": 59,
   "metadata": {},
   "outputs": [],
   "source": [
    "import xarray as xr\n",
    "@xr.register_dataarray_accessor('lwhere')\n",
    "def lwhere(da):\n",
    "    def where(condition, drop=False):\n",
    "        return da.where(condition(da), drop=drop)\n",
    "    return where"
   ]
  },
  {
   "cell_type": "code",
   "execution_count": 60,
   "metadata": {},
   "outputs": [],
   "source": [
    "# test saving"
   ]
  },
  {
   "cell_type": "code",
   "execution_count": 61,
   "metadata": {},
   "outputs": [],
   "source": [
    "da = (\n",
    "    c.to_dataarray()\n",
    "    .pipe(c.spinodals.assign_coords)\n",
    "    .pipe(c.binodals.assign_coords)\n",
    "    .sortby('lnz_0')\n",
    "    .reset_index('rec', drop=True)\n",
    ")"
   ]
  },
  {
   "cell_type": "code",
   "execution_count": 62,
   "metadata": {},
   "outputs": [],
   "source": [
    "c2 = lnPi.CollectionPhases.from_dataarray(ref, da, unstack=True, set_index=['lnz_0','phase'])\n",
    "c2.spinodals.from_dataarray(da)\n",
    "c2.binodals.from_dataarray(da)"
   ]
  },
  {
   "cell_type": "code",
   "execution_count": 63,
   "metadata": {},
   "outputs": [
    {
     "data": {
      "text/plain": [
       "<xarray.Dataset>\n",
       "Dimensions:  (component: 1, lnz_0: 1, phase: 2)\n",
       "Coordinates:\n",
       "    volume   (lnz_0) int64 729\n",
       "    temp     (lnz_0) float64 0.7\n",
       "    beta     (lnz_0) float64 1.429\n",
       "    rec      (lnz_0) int64 0\n",
       "  * lnz_0    (lnz_0) float64 -12.34\n",
       "  * phase    (phase) int64 0 1\n",
       "Dimensions without coordinates: component\n",
       "Data variables:\n",
       "    nvec     (component, lnz_0, phase) float64 2.558 597.9\n",
       "    betapV   (lnz_0, phase) float64 2.475 2.475\n",
       "    PE_n     (lnz_0, phase) float64 -0.04095 -5.578"
      ]
     },
     "execution_count": 63,
     "metadata": {},
     "output_type": "execute_result"
    }
   ],
   "source": [
    "c.binodals.access.xgce_prop.table()"
   ]
  },
  {
   "cell_type": "code",
   "execution_count": 64,
   "metadata": {},
   "outputs": [
    {
     "data": {
      "text/plain": [
       "<xarray.Dataset>\n",
       "Dimensions:  (component: 1, lnz_0: 1, phase: 2)\n",
       "Coordinates:\n",
       "    volume   (lnz_0) int64 729\n",
       "    temp     (lnz_0) float64 0.7\n",
       "    beta     (lnz_0) float64 1.429\n",
       "    rec      (lnz_0) int64 0\n",
       "  * lnz_0    (lnz_0) float64 -12.34\n",
       "  * phase    (phase) int64 0 1\n",
       "Dimensions without coordinates: component\n",
       "Data variables:\n",
       "    nvec     (component, lnz_0, phase) float64 2.558 597.9\n",
       "    betapV   (lnz_0, phase) float64 2.475 2.475\n",
       "    PE_n     (lnz_0, phase) float64 -0.04095 -5.578"
      ]
     },
     "execution_count": 64,
     "metadata": {},
     "output_type": "execute_result"
    }
   ],
   "source": [
    "c2.binodals.access.xgce_prop.table()#.swap_dims({'rec':'lnz_0'})"
   ]
  },
  {
   "cell_type": "code",
   "execution_count": 65,
   "metadata": {},
   "outputs": [
    {
     "data": {
      "text/plain": [
       "[<matplotlib.lines.Line2D at 0x7ff04c003550>,\n",
       " <matplotlib.lines.Line2D at 0x7ff04bfcf590>]"
      ]
     },
     "execution_count": 65,
     "metadata": {},
     "output_type": "execute_result"
    },
    {
     "data": {
      "image/png": "[encoded data removed]",
      "text/plain": [
       "<Figure size 432x288 with 1 Axes>"
      ]
     },
     "metadata": {
      "needs_background": "light"
     },
     "output_type": "display_data"
    }
   ],
   "source": [
    "c.xgce.betaOmega().plot(hue='phase')\n",
    "c2.xgce.betaOmega().plot(hue='phase')"
   ]
  },
  {
   "cell_type": "code",
   "execution_count": 67,
   "metadata": {},
   "outputs": [
    {
     "data": {
      "text/plain": [
       "[<matplotlib.lines.Line2D at 0x7feff879aa90>]"
      ]
     },
     "execution_count": 67,
     "metadata": {},
     "output_type": "execute_result"
    },
    {
     "data": {
      "image/png": "[encoded data removed]",
      "text/plain": [
       "<Figure size 432x288 with 1 Axes>"
      ]
     },
     "metadata": {
      "needs_background": "light"
     },
     "output_type": "display_data"
    }
   ],
   "source": [
    "c.xgce.betaOmega().plot(hue='phase')\n",
    "\n",
    "(\n",
    "    c.spinodals.access.xgce.betaOmega()\n",
    "    .pipe(lambda x: x.where(x.phase == x.rec))\n",
    "\n",
    "    .plot(hue='phase', marker='o')\n",
    ")\n",
    "\n",
    "c.binodals.access.xgce.betaOmega().sel(phase=0).plot.line(marker='o')"
   ]
  },
  {
   "cell_type": "markdown",
   "metadata": {
    "collapsed": true
   },
   "source": [
    "# bulk 065"
   ]
  },
  {
   "cell_type": "code",
   "execution_count": 75,
   "metadata": {},
   "outputs": [
    {
     "data": {
      "text/plain": [
       "<module 'lnPi.monoutils' from '/Users/wpk/Documents/python/lnPi/monoutils.py'>"
      ]
     },
     "execution_count": 75,
     "metadata": {},
     "output_type": "execute_result"
    }
   ],
   "source": [
    "reload(lnPi.monoutils)"
   ]
  },
  {
   "cell_type": "code",
   "execution_count": 132,
   "metadata": {},
   "outputs": [],
   "source": [
    "beta = 1.0 / 0.65"
   ]
  },
  {
   "cell_type": "code",
   "execution_count": 133,
   "metadata": {},
   "outputs": [],
   "source": [
    "ref_bulk = lnPi.MaskedlnPi.from_table('./PiofN/ljcut.t065.bulk.v1000.r1.lnpi.dat', lnz=-4.453015418106743E+00 /0.65,\n",
    "                               state_kws=dict(volume=1000.0E0,beta=1./0.65000E0))\n",
    "phase_creator_bulk = lnPi.segment.PhaseCreator(nmax=2, nmax_peak=4, ref=ref_bulk, \n",
    "                                         merge_kws=dict(efac=0.5), tag_phases=tag_phases2)\n",
    "build_phases_bulk = phase_creator_bulk.build_phases_mu([None])"
   ]
  },
  {
   "cell_type": "code",
   "execution_count": 145,
   "metadata": {},
   "outputs": [],
   "source": [
    "c_course_bulk, c_bulk = lnPi.monoutils.limited_collection(build_phases_bulk, \n",
    "                                                np.round(ref_bulk.lnz + [-10, +10], 1), 0.05, edge_distance_min=8,\n",
    "                                                         collection_kws=dict(set_index=['lnz_0','phase']))"
   ]
  },
  {
   "cell_type": "code",
   "execution_count": 146,
   "metadata": {},
   "outputs": [],
   "source": [
    "c_course_bulk.spinodals(2, build_phases_bulk, inplace=True)\n",
    "c_course_bulk.binodals(2, build_phases_bulk, inplace=True)"
   ]
  },
  {
   "cell_type": "code",
   "execution_count": 151,
   "metadata": {},
   "outputs": [
    {
     "data": {
      "text/plain": [
       "[<matplotlib.lines.Line2D at 0x7ff059288210>]"
      ]
     },
     "execution_count": 151,
     "metadata": {},
     "output_type": "execute_result"
    },
    {
     "data": {
      "image/png": "[encoded data removed]",
      "text/plain": [
       "<Figure size 432x288 with 1 Axes>"
      ]
     },
     "metadata": {
      "needs_background": "light"
     },
     "output_type": "display_data"
    }
   ],
   "source": [
    "(\n",
    "    c_bulk.xgce_prop.table(['dens_tot','pressure'], mask_stable=True)\n",
    "    #.swap_dims({'rec':'lnz_0'})\n",
    "     .swap_dims({'lnz_0':'dens_tot'})\n",
    "     .pressure.plot(marker='o')\n",
    "    \n",
    ")"
   ]
  },
  {
   "cell_type": "code",
   "execution_count": 154,
   "metadata": {},
   "outputs": [
    {
     "data": {
      "text/plain": [
       "[<matplotlib.lines.Line2D at 0x7feff86ebe10>]"
      ]
     },
     "execution_count": 154,
     "metadata": {},
     "output_type": "execute_result"
    },
    {
     "data": {
      "image/png": "[encoded data removed]",
      "text/plain": [
       "<Figure size 432x288 with 1 Axes>"
      ]
     },
     "metadata": {
      "needs_background": "light"
     },
     "output_type": "display_data"
    }
   ],
   "source": [
    "c_bulk.xgce.betaOmega().plot(hue='phase')\n",
    "\n",
    "(\n",
    "    c_course_bulk.spinodals.access.xgce.betaOmega()\n",
    "    \n",
    "    .pipe(lambda x: x.where(x.phase == x.rec))\n",
    "\n",
    "    .plot(hue='phase', marker='o')\n",
    ")\n",
    "\n",
    "c_course_bulk.binodals.access.xgce.betaOmega().sel(phase=0).plot.line(marker='o')"
   ]
  },
  {
   "cell_type": "markdown",
   "metadata": {
    "collapsed": true
   },
   "source": [
    "# confined"
   ]
  },
  {
   "cell_type": "code",
   "execution_count": 155,
   "metadata": {},
   "outputs": [],
   "source": [
    "ref_conf = lnPi.MaskedlnPi.from_table('./PiofN/ljcut.t065.finiteslit.L_20nm.W_4nm.r2.lnpi.dat',\n",
    "                                       lnz=-0.500000E+01/0.65,state_kws=dict(volume=7000.,beta=1./0.65000E0))\n",
    "\n",
    "\n",
    "phase_creator_conf = lnPi.segment.PhaseCreator(nmax=2, nmax_peak=4, ref=ref_conf, \n",
    "                                              merge_kws=dict(efac=0.6), tag_phases=tag_phases2)"
   ]
  },
  {
   "cell_type": "code",
   "execution_count": 156,
   "metadata": {},
   "outputs": [],
   "source": [
    "build_phases_conf = phase_creator_conf.build_phases_mu([None])"
   ]
  },
  {
   "cell_type": "code",
   "execution_count": null,
   "metadata": {},
   "outputs": [],
   "source": []
  },
  {
   "cell_type": "code",
   "execution_count": 172,
   "metadata": {},
   "outputs": [
    {
     "data": {
      "text/plain": [
       "-6.8518860562331465"
      ]
     },
     "execution_count": 172,
     "metadata": {},
     "output_type": "execute_result"
    }
   ],
   "source": [
    "c_course_bulk.binodals.access.lnz[0,0]"
   ]
  },
  {
   "cell_type": "code",
   "execution_count": 246,
   "metadata": {},
   "outputs": [],
   "source": [
    "lnzs_conf = np.geomspace(np.log(1e-7), c_course_bulk.binodals.access.lnz[0,0], 200)\n",
    "c_conf = lnPi.CollectionPhases.from_builder(lnzs_conf, build_phases_conf, set_index=['lnz_0','phase'])"
   ]
  },
  {
   "cell_type": "code",
   "execution_count": 247,
   "metadata": {},
   "outputs": [
    {
     "data": {
      "application/vnd.jupyter.widget-view+json": {
       "model_id": "",
       "version_major": 2,
       "version_minor": 0
      },
      "text/plain": [
       "HBox(children=(IntProgress(value=0, description='edge_distance', max=202, style=ProgressStyle(description_widt…"
      ]
     },
     "metadata": {},
     "output_type": "display_data"
    },
    {
     "name": "stdout",
     "output_type": "stream",
     "text": [
      "\r"
     ]
    },
    {
     "data": {
      "text/plain": [
       "<xarray.DataArray 'edge_distance' ()>\n",
       "array(286.)\n",
       "Coordinates:\n",
       "    volume   float64 7e+03\n",
       "    beta     float64 1.538"
      ]
     },
     "execution_count": 247,
     "metadata": {},
     "output_type": "execute_result"
    }
   ],
   "source": [
    "c_conf.xgce.edge_distance(ref_conf).min('phase').min()"
   ]
  },
  {
   "cell_type": "code",
   "execution_count": 248,
   "metadata": {},
   "outputs": [
    {
     "data": {
      "application/vnd.jupyter.widget-view+json": {
       "model_id": "",
       "version_major": 2,
       "version_minor": 0
      },
      "text/plain": [
       "HBox(children=(IntProgress(value=0, description='get_delta_w', max=200, style=ProgressStyle(description_width=…"
      ]
     },
     "metadata": {},
     "output_type": "display_data"
    },
    {
     "name": "stdout",
     "output_type": "stream",
     "text": [
      "\r"
     ]
    },
    {
     "data": {
      "application/vnd.jupyter.widget-view+json": {
       "model_id": "",
       "version_major": 2,
       "version_minor": 0
      },
      "text/plain": [
       "HBox(children=(IntProgress(value=0, description='get_delta_w', max=200, style=ProgressStyle(description_width=…"
      ]
     },
     "metadata": {},
     "output_type": "display_data"
    },
    {
     "name": "stdout",
     "output_type": "stream",
     "text": [
      "\r"
     ]
    }
   ],
   "source": [
    "c_conf.spinodals(2, build_phases_conf, inplace=True, append=True)\n",
    "c_conf.binodals(2, build_phases_conf, inplace=True, append=True)"
   ]
  },
  {
   "cell_type": "code",
   "execution_count": 249,
   "metadata": {},
   "outputs": [],
   "source": [
    "c_conf.sort_by_lnz()"
   ]
  },
  {
   "cell_type": "code",
   "execution_count": 250,
   "metadata": {},
   "outputs": [
    {
     "data": {
      "application/vnd.jupyter.widget-view+json": {
       "model_id": "",
       "version_major": 2,
       "version_minor": 0
      },
      "text/plain": [
       "HBox(children=(IntProgress(value=0, description='betaOmega', max=202, style=ProgressStyle(description_width='i…"
      ]
     },
     "metadata": {},
     "output_type": "display_data"
    },
    {
     "name": "stdout",
     "output_type": "stream",
     "text": [
      "\r"
     ]
    },
    {
     "data": {
      "text/plain": [
       "[<matplotlib.lines.Line2D at 0x7ff04c9d2e50>]"
      ]
     },
     "execution_count": 250,
     "metadata": {},
     "output_type": "execute_result"
    },
    {
     "data": {
      "image/png": "[encoded data removed]",
      "text/plain": [
       "<Figure size 432x288 with 1 Axes>"
      ]
     },
     "metadata": {
      "needs_background": "light"
     },
     "output_type": "display_data"
    }
   ],
   "source": [
    "c_conf.xgce.betaOmega().plot(hue='phase')\n",
    "\n",
    "(\n",
    "    c_conf.spinodals.access.xgce.betaOmega()\n",
    "    \n",
    "    .pipe(lambda x: x.where(x.phase == x.rec))\n",
    "\n",
    "    .plot(hue='phase', marker='o')\n",
    ")\n",
    "\n",
    "c_conf.binodals.access.xgce.betaOmega().sel(phase=0).plot.line(marker='o')"
   ]
  },
  {
   "cell_type": "code",
   "execution_count": 187,
   "metadata": {},
   "outputs": [],
   "source": [
    "df=pd.read_table('./PiofN/ljcut.t065.finiteslit.L_20nm.W_4nm.r2.single_isotherm.txt',sep='\\s+',\n",
    "                 header=None,names=['pscaled','mu','rho','Omega_L','Qst','Gads'])\n"
   ]
  },
  {
   "cell_type": "markdown",
   "metadata": {},
   "source": [
    "# make isotherm"
   ]
  },
  {
   "cell_type": "code",
   "execution_count": 251,
   "metadata": {},
   "outputs": [],
   "source": [
    "# new bulk on same spacinf\n",
    "c_bulk = lnPi.CollectionPhases.from_builder(c_conf.lnz[:,0], build_phases_bulk, set_index=['lnz_0','phase'])"
   ]
  },
  {
   "cell_type": "code",
   "execution_count": 252,
   "metadata": {},
   "outputs": [],
   "source": [
    "lnz_spin = c_conf.spinodals.access.lnz[:,0]"
   ]
  },
  {
   "cell_type": "code",
   "execution_count": 253,
   "metadata": {},
   "outputs": [],
   "source": [
    "psat = c_course_bulk.binodals.access.xgce_prop.pressure().values.flatten()[0]"
   ]
  },
  {
   "cell_type": "code",
   "execution_count": 254,
   "metadata": {},
   "outputs": [
    {
     "data": {
      "application/vnd.jupyter.widget-view+json": {
       "model_id": "",
       "version_major": 2,
       "version_minor": 0
      },
      "text/plain": [
       "HBox(children=(IntProgress(value=0, description='betaOmega', max=267, style=ProgressStyle(description_width='i…"
      ]
     },
     "metadata": {},
     "output_type": "display_data"
    },
    {
     "name": "stdout",
     "output_type": "stream",
     "text": [
      "\r"
     ]
    },
    {
     "data": {
      "application/vnd.jupyter.widget-view+json": {
       "model_id": "",
       "version_major": 2,
       "version_minor": 0
      },
      "text/plain": [
       "HBox(children=(IntProgress(value=0, description='nvec', max=267, style=ProgressStyle(description_width='initia…"
      ]
     },
     "metadata": {},
     "output_type": "display_data"
    },
    {
     "name": "stdout",
     "output_type": "stream",
     "text": [
      "\r"
     ]
    }
   ],
   "source": [
    "table_bulk = (\n",
    "    c_bulk.xgce_prop.table(['pressure'], mask_stable=True)\n",
    "    .assign(pscaled=lambda x: x.pressure / psat)\n",
    "    .drop('volume')\n",
    ")"
   ]
  },
  {
   "cell_type": "code",
   "execution_count": 255,
   "metadata": {},
   "outputs": [
    {
     "data": {
      "application/vnd.jupyter.widget-view+json": {
       "model_id": "",
       "version_major": 2,
       "version_minor": 0
      },
      "text/plain": [
       "HBox(children=(IntProgress(value=0, description='nvec', max=208, style=ProgressStyle(description_width='initia…"
      ]
     },
     "metadata": {},
     "output_type": "display_data"
    },
    {
     "name": "stdout",
     "output_type": "stream",
     "text": [
      "\r"
     ]
    },
    {
     "data": {
      "application/vnd.jupyter.widget-view+json": {
       "model_id": "",
       "version_major": 2,
       "version_minor": 0
      },
      "text/plain": [
       "HBox(children=(IntProgress(value=0, description='betaOmega', max=208, style=ProgressStyle(description_width='i…"
      ]
     },
     "metadata": {},
     "output_type": "display_data"
    },
    {
     "name": "stdout",
     "output_type": "stream",
     "text": [
      "\r"
     ]
    }
   ],
   "source": [
    "table_conf = (\n",
    "    c_conf.xgce_prop.table(['ntot'])\n",
    "    .drop('volume')\n",
    ")"
   ]
  },
  {
   "cell_type": "code",
   "execution_count": 276,
   "metadata": {},
   "outputs": [
    {
     "data": {
      "text/plain": [
       "<xarray.DataArray 'ntot' (lnz_0: 203, phase: 2)>\n",
       "array([[  29.625822,         nan],\n",
       "       [  31.081696,         nan],\n",
       "       [  32.640422,         nan],\n",
       "       ...,\n",
       "       [        nan, 6004.87468 ],\n",
       "       [        nan, 6008.203599],\n",
       "       [        nan, 6012.530636]])\n",
       "Coordinates:\n",
       "    beta     float64 1.538\n",
       "    rec      (lnz_0) float64 0.0 1.0 2.0 3.0 4.0 ... 199.0 200.0 201.0 202.0\n",
       "  * lnz_0    (lnz_0) float64 -16.12 -16.05 -15.98 ... -6.911 -6.881 -6.852\n",
       "    pscaled  (lnz_0) float64 9.347e-05 0.0001002 0.0001073 ... 0.9419 0.9706 1.0\n",
       "  * phase    (phase) int64 0 1\n",
       "Attributes:\n",
       "    standard_name:  total_particles\n",
       "    long_name:      $n(\\mu,V,T)$"
      ]
     },
     "execution_count": 276,
     "metadata": {},
     "output_type": "execute_result"
    }
   ],
   "source": [
    "isotherm = (\n",
    "    xr.merge((table_bulk.pscaled, table_conf.ntot))\n",
    "    .set_coords('pscaled')\n",
    "    .ntot\n",
    ")\n",
    "isotherm"
   ]
  },
  {
   "cell_type": "code",
   "execution_count": 261,
   "metadata": {},
   "outputs": [
    {
     "data": {
      "text/plain": [
       "(0, 1.0)"
      ]
     },
     "execution_count": 261,
     "metadata": {},
     "output_type": "execute_result"
    },
    {
     "data": {
      "image/png": "[encoded data removed]",
      "text/plain": [
       "<Figure size 720x720 with 1 Axes>"
      ]
     },
     "metadata": {
      "needs_background": "light"
     },
     "output_type": "display_data"
    }
   ],
   "source": [
    "fig,ax = plt.subplots(figsize=(10,10))\n",
    "\n",
    "isotherm.swap_dims({'lnz_0':'pscaled'}).plot(hue='phase')\n",
    "\n",
    "for meta, g in isotherm.sel(lnz_0=lnz_spin).to_dataframe().reset_index().groupby('lnz_0'):\n",
    "    plt.plot(g['pscaled'],g['ntot'])\n",
    "    \n",
    "plt.plot(df.pscaled,df.rho, marker='o',mfc='None', ls='--',zorder=-1, ms=4)\n",
    "plt.gca().set_xlim(0,1.0)"
   ]
  },
  {
   "cell_type": "code",
   "execution_count": null,
   "metadata": {},
   "outputs": [],
   "source": []
  }
 ],
 "metadata": {
  "kernelspec": {
   "display_name": "Python [conda env:.conda-py37]",
   "language": "python",
   "name": "conda-env-.conda-py37-py"
  },
  "language_info": {
   "codemirror_mode": {
    "name": "ipython",
    "version": 3
   },
   "file_extension": ".py",
   "mimetype": "text/x-python",
   "name": "python",
   "nbconvert_exporter": "python",
   "pygments_lexer": "ipython3",
   "version": "3.7.4"
  },
  "toc": {
   "base_numbering": 1,
   "nav_menu": {},
   "number_sections": true,
   "sideBar": true,
   "skip_h1_title": false,
   "title_cell": "Table of Contents",
   "title_sidebar": "Contents",
   "toc_cell": false,
   "toc_position": {},
   "toc_section_display": true,
   "toc_window_display": false
  }
 },
 "nbformat": 4,
 "nbformat_minor": 1
}
