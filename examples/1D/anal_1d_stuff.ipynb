{
 "cells": [
  {
   "cell_type": "code",
   "execution_count": 1,
   "metadata": {},
   "outputs": [],
   "source": [
    "%config Completer.use_jedi=False\n",
    "%matplotlib inline\n",
    "\n",
    "import matplotlib.pyplot as plt\n",
    "import numpy as np\n",
    "import pandas as pd\n",
    "import xarray as xr\n",
    "from importlib import reload\n",
    "\n",
    "\n",
    "#import lnPi.old\n",
    "import lnPi\n",
    "import lnPi.stability\n",
    "import lnPi.monoutils\n",
    "\n",
    "#function to tag 'LD' and 'HD' phases\n",
    "def tag_phases2(x):\n",
    "    if len(x) > 2:\n",
    "        raise ValueError('bad tag function')\n",
    "    argmax0 = np.array([xx.local_argmax()[0] for xx in x])\n",
    "    return np.where(argmax0 <= x[0].shape[0] / 2, 0, 1)\n"
   ]
  },
  {
   "cell_type": "markdown",
   "metadata": {},
   "source": [
    "# create a reference lnPi_phases for bulk case"
   ]
  },
  {
   "cell_type": "code",
   "execution_count": 940,
   "metadata": {},
   "outputs": [
    {
     "name": "stderr",
     "output_type": "stream",
     "text": [
      "/Users/wpk/Documents/python/lnPi/extensions.py:119: AccessorRegistrationWarning: registration of accessor <class 'lnPi.xlnPi_vec.xrlnPiVec'> under name 'vgce' for type <class 'lnPi.core.MaskedlnPi'> is overriding a preexisting attribute with the same name.\n",
      "  cls._register_accessor(name, accessor, single_create)\n",
      "/Users/wpk/Documents/python/lnPi/extensions.py:344: AccessorRegistrationWarning: registration of name 'wlnPi' for type <class 'lnPi.lnpicollections.CollectionPhases'> is overriding a preexisting attribute with the same name.\n",
      "  return cls._register_listaccessor(names, accessor_wrapper=_CachedListAccessorWrapper, cache_list=cache_list)\n",
      "/Users/wpk/Documents/python/lnPi/extensions.py:119: AccessorRegistrationWarning: registration of accessor <class 'lnPi.segment.wlnPi'> under name 'wlnPi' for type <class 'lnPi.lnpicollections.Phases'> is overriding a preexisting attribute with the same name.\n",
      "  cls._register_accessor(name, accessor, single_create)\n"
     ]
    },
    {
     "data": {
      "text/plain": [
       "<xarray.DataArray 'betaOmega' (phase: 2)>\n",
       "array([ -1.25806 , 384.896142])\n",
       "Coordinates:\n",
       "    lnz_0    float64 -13.0\n",
       "    volume   int64 729\n",
       "    temp     float64 0.7\n",
       "    beta     float64 1.429\n",
       "  * phase    (phase) int64 0 1\n",
       "Attributes:\n",
       "    dims_n:         ['n_0']\n",
       "    dims_lnz:       ['lnz_0']\n",
       "    dims_comp:      ['component']\n",
       "    dims_state:     ['lnz_0', 'volume', 'temp', 'beta']\n",
       "    standard_name:  grand_potential\n",
       "    long_name:      $\\beta \\Omega(\\mu,V,T)$"
      ]
     },
     "execution_count": 940,
     "metadata": {},
     "output_type": "execute_result"
    }
   ],
   "source": [
    "import lnPi.serieswrapper\n",
    "reload(lnPi.serieswrapper)\n",
    "\n",
    "import lnPi.xlnPi_vec\n",
    "reload(lnPi.xlnPi_vec)\n",
    "\n",
    "reload(lnPi.segment)\n",
    "\n",
    "pe = pd.read_csv('./PiofN/ljsf.t070.bulk.v729.r1.energy.dat', header=None, sep='\\s+', names=['n','e'])['e'].values\n",
    "\n",
    "mu = -8.616\n",
    "volume = 729\n",
    "temp = 0.7\n",
    "beta = 1.0 / temp\n",
    "state_kws = dict(volume=volume, temp=temp, beta=1/temp)\n",
    "lnz = beta * mu\n",
    "\n",
    "\n",
    "# reference masked lnPi\n",
    "ref = lnPi.core.MaskedlnPi.from_table('./PiofN/ljsf.t070.bulk.v729.r1.lnpi.dat',fill_value=np.nan,\n",
    "                                      lnz=lnz, state_kws=state_kws, extra_kws={'PE':pe}).zeromax()\n",
    "\n",
    "# Phase Creator\n",
    "PhaseCreator = lnPi.segment.PhaseCreator(nmax=2, tag_phases=tag_phases2, nmax_peak=4, merge_kws=dict(efac=0.8), \n",
    "                                         ref=ref)\n",
    "build_phases = PhaseCreator.build_phases_mu([None])\n",
    "\n",
    "\n",
    "\n",
    "\n",
    "p = build_phases(-13.0)\n",
    "p1 = build_phases(-12.0)\n",
    "p.xgce.betaOmega()"
   ]
  },
  {
   "cell_type": "code",
   "execution_count": 941,
   "metadata": {},
   "outputs": [],
   "source": [
    "PhaseCreator_s = lnPi.segment.PhaseCreator(nmax=2, \n",
    "                                           tag_phases=tag_phases2, nmax_peak=4, merge_kws=dict(efac=0.8), \n",
    "                                           phases_factory=lnPi.serieswrapper.CollectionlnPi.from_lists,\n",
    "                                            ref=ref)\n",
    "build_phases_s = PhaseCreator_s.build_phases_mu([None])\n"
   ]
  },
  {
   "cell_type": "code",
   "execution_count": 942,
   "metadata": {},
   "outputs": [],
   "source": [
    "s = build_phases_s(-13.0)\n",
    "s1 = build_phases_s(-12.0)\n",
    "o = lnPi.serieswrapper.CollectionlnPi.concat([s, s1], verify=True, base_class=lnPi.MaskedlnPi)"
   ]
  },
  {
   "cell_type": "code",
   "execution_count": 981,
   "metadata": {},
   "outputs": [],
   "source": [
    "lnzs = np.linspace(-13, -1, 200)"
   ]
  },
  {
   "cell_type": "raw",
   "metadata": {},
   "source": [
    "L = [build_phases_s(x) for x in lnzs]\n",
    "o = lnPi.serieswrapper.CollectionlnPi.concat(L, verify=True, base_class=lnPi.MaskedlnPi)"
   ]
  },
  {
   "cell_type": "code",
   "execution_count": 992,
   "metadata": {},
   "outputs": [],
   "source": [
    "with lnPi.set_options(tqdm_leave=True):\n",
    "    o = lnPi.serieswrapper.CollectionlnPi.from_builder(lnzs, build_phases_s)"
   ]
  },
  {
   "cell_type": "code",
   "execution_count": 993,
   "metadata": {},
   "outputs": [],
   "source": [
    "with lnPi.set_options(tqdm_leave=True):\n",
    "    c = lnPi.CollectionPhases.from_builder(lnzs, build_phases)"
   ]
  },
  {
   "cell_type": "code",
   "execution_count": 997,
   "metadata": {},
   "outputs": [],
   "source": [
    "for phases, w in zip(o.wlnPi._phases, o.wlnPi._ws):\n",
    "    break"
   ]
  },
  {
   "cell_type": "code",
   "execution_count": 1007,
   "metadata": {},
   "outputs": [],
   "source": [
    "def allbut(levels, *names):\n",
    "    names = set(names)\n",
    "    return [item for item in levels if item not in names]"
   ]
  },
  {
   "cell_type": "code",
   "execution_count": 1008,
   "metadata": {},
   "outputs": [
    {
     "data": {
      "text/plain": [
       "['lnz_0']"
      ]
     },
     "execution_count": 1008,
     "metadata": {},
     "output_type": "execute_result"
    }
   ],
   "source": [
    "allbut(o._series.index.names, 'phase')"
   ]
  },
  {
   "cell_type": "code",
   "execution_count": 1002,
   "metadata": {},
   "outputs": [
    {
     "data": {
      "text/plain": [
       "array([[         inf, 461.70069158],\n",
       "       [461.70069158,          inf]])"
      ]
     },
     "execution_count": 1002,
     "metadata": {},
     "output_type": "execute_result"
    }
   ],
   "source": [
    "w.w_tran"
   ]
  },
  {
   "cell_type": "code",
   "execution_count": 996,
   "metadata": {},
   "outputs": [
    {
     "data": {
      "text/plain": [
       "lnz_0       phase  phase_nebr\n",
       "-13.000000  0      0                    inf\n",
       "                   1             461.700692\n",
       "            1      0             461.700692\n",
       "                   1                    inf\n",
       "-12.939698  0      0                    inf\n",
       "                                    ...    \n",
       "-1.241206   1      1                    inf\n",
       "-1.180905   1      1                    inf\n",
       "-1.120603   1      1                    inf\n",
       "-1.060302   1      1                    inf\n",
       "-1.000000   1      1                    inf\n",
       "Name: w_tran, Length: 317, dtype: float64"
      ]
     },
     "execution_count": 996,
     "metadata": {},
     "output_type": "execute_result"
    }
   ],
   "source": [
    "o.wlnPi.w_tran"
   ]
  },
  {
   "cell_type": "code",
   "execution_count": 994,
   "metadata": {},
   "outputs": [
    {
     "name": "stdout",
     "output_type": "stream",
     "text": [
      "472 ms ± 0 ns per loop (mean ± std. dev. of 1 run, 1 loop each)\n"
     ]
    }
   ],
   "source": [
    "%%timeit -n 1 -r 1 \n",
    "o.wlnPi.delta_w"
   ]
  },
  {
   "cell_type": "code",
   "execution_count": 995,
   "metadata": {},
   "outputs": [
    {
     "data": {
      "application/vnd.jupyter.widget-view+json": {
       "model_id": "",
       "version_major": 2,
       "version_minor": 0
      },
      "text/plain": [
       "HBox(children=(IntProgress(value=0, description='delta_w', max=200, style=ProgressStyle(description_width='ini…"
      ]
     },
     "metadata": {},
     "output_type": "display_data"
    },
    {
     "name": "stdout",
     "output_type": "stream",
     "text": [
      "931 ms ± 0 ns per loop (mean ± std. dev. of 1 run, 1 loop each)\n"
     ]
    }
   ],
   "source": [
    "%%timeit -n 1 -r 1\n",
    "c.wlnPi.delta_w"
   ]
  },
  {
   "cell_type": "code",
   "execution_count": 988,
   "metadata": {},
   "outputs": [
    {
     "name": "stdout",
     "output_type": "stream",
     "text": [
      "319 ms ± 0 ns per loop (mean ± std. dev. of 1 run, 1 loop each)\n"
     ]
    }
   ],
   "source": [
    "%%timeit -n 1 -r 1 \n",
    "o.wlnPi.w_min"
   ]
  },
  {
   "cell_type": "code",
   "execution_count": 989,
   "metadata": {},
   "outputs": [
    {
     "data": {
      "application/vnd.jupyter.widget-view+json": {
       "model_id": "",
       "version_major": 2,
       "version_minor": 0
      },
      "text/plain": [
       "HBox(children=(IntProgress(value=0, description='w_min', max=200, style=ProgressStyle(description_width='initi…"
      ]
     },
     "metadata": {},
     "output_type": "display_data"
    },
    {
     "name": "stdout",
     "output_type": "stream",
     "text": [
      "821 ms ± 0 ns per loop (mean ± std. dev. of 1 run, 1 loop each)\n"
     ]
    }
   ],
   "source": [
    "%%timeit -n 1 -r 1 \n",
    "c.wlnPi.w_min"
   ]
  },
  {
   "cell_type": "code",
   "execution_count": 990,
   "metadata": {},
   "outputs": [
    {
     "name": "stdout",
     "output_type": "stream",
     "text": [
      "184 ms ± 0 ns per loop (mean ± std. dev. of 1 run, 1 loop each)\n"
     ]
    }
   ],
   "source": [
    "%%timeit -n 1 -r 1 \n",
    "o.wlnPi.w_tran"
   ]
  },
  {
   "cell_type": "code",
   "execution_count": 991,
   "metadata": {},
   "outputs": [
    {
     "data": {
      "application/vnd.jupyter.widget-view+json": {
       "model_id": "",
       "version_major": 2,
       "version_minor": 0
      },
      "text/plain": [
       "HBox(children=(IntProgress(value=0, description='w_tran', max=200, style=ProgressStyle(description_width='init…"
      ]
     },
     "metadata": {},
     "output_type": "display_data"
    },
    {
     "name": "stdout",
     "output_type": "stream",
     "text": [
      "764 ms ± 0 ns per loop (mean ± std. dev. of 1 run, 1 loop each)\n"
     ]
    }
   ],
   "source": [
    "%%timeit -n 1 -r 1 \n",
    "c.wlnPi.w_tran"
   ]
  },
  {
   "cell_type": "code",
   "execution_count": 980,
   "metadata": {},
   "outputs": [
    {
     "data": {
      "text/plain": [
       "lnz_0       phase\n",
       "-13.000000  0          17.848000\n",
       "            1         405.787621\n",
       "-12.939698  0          17.787699\n",
       "            1         371.154053\n",
       "-12.879397  0          17.727397\n",
       "                        ...     \n",
       "-1.241206   1       -7231.613826\n",
       "-1.180905   1       -7271.412821\n",
       "-1.120603   1       -7311.211816\n",
       "-1.060302   1       -7351.010811\n",
       "-1.000000   1       -7390.809806\n",
       "Name: w_min, Length: 239, dtype: float64"
      ]
     },
     "execution_count": 980,
     "metadata": {},
     "output_type": "execute_result"
    }
   ],
   "source": [
    "oo.wlnPi.w_min"
   ]
  },
  {
   "cell_type": "code",
   "execution_count": 972,
   "metadata": {},
   "outputs": [
    {
     "name": "stdout",
     "output_type": "stream",
     "text": [
      "4.42 s ± 0 ns per loop (mean ± std. dev. of 1 run, 1 loop each)\n"
     ]
    }
   ],
   "source": [
    "%%timeit -n 1 -r 1\n",
    "oo.wlnPi.delta_w#.to_xarray().isel(lnz_0=slice(0,10))"
   ]
  },
  {
   "cell_type": "code",
   "execution_count": 973,
   "metadata": {},
   "outputs": [
    {
     "data": {
      "application/vnd.jupyter.widget-view+json": {
       "model_id": "e3180d422c8743db8f9702d80d582bb9",
       "version_major": 2,
       "version_minor": 0
      },
      "text/plain": [
       "HBox(children=(IntProgress(value=0, description='build', max=2000, style=ProgressStyle(description_width='init…"
      ]
     },
     "metadata": {},
     "output_type": "display_data"
    }
   ],
   "source": [
    "with lnPi.set_options(tqdm_leave=True):\n",
    "    c = lnPi.CollectionPhases.from_builder(lnzs, build_phases)"
   ]
  },
  {
   "cell_type": "code",
   "execution_count": 974,
   "metadata": {},
   "outputs": [
    {
     "data": {
      "application/vnd.jupyter.widget-view+json": {
       "model_id": "e2fb7875b5d04141814f39f6ad4c68a3",
       "version_major": 2,
       "version_minor": 0
      },
      "text/plain": [
       "HBox(children=(IntProgress(value=0, description='delta_w', max=2000, style=ProgressStyle(description_width='in…"
      ]
     },
     "metadata": {},
     "output_type": "display_data"
    },
    {
     "name": "stdout",
     "output_type": "stream",
     "text": [
      "3.29 s ± 0 ns per loop (mean ± std. dev. of 1 run, 1 loop each)\n"
     ]
    }
   ],
   "source": [
    "%%timeit -n 1 -r 1\n",
    "with lnPi.set_options(tqdm_leave=True):\n",
    "    c.wlnPi.delta_w"
   ]
  },
  {
   "cell_type": "code",
   "execution_count": 438,
   "metadata": {},
   "outputs": [],
   "source": [
    "p = c[0]"
   ]
  },
  {
   "cell_type": "code",
   "execution_count": 448,
   "metadata": {},
   "outputs": [
    {
     "data": {
      "text/plain": [
       "<lnPi.extensions._CallableListResultsNoCache at 0x7fe546286bd0>"
      ]
     },
     "execution_count": 448,
     "metadata": {},
     "output_type": "execute_result"
    }
   ],
   "source": [
    "c.wlnPi.from_labels"
   ]
  },
  {
   "cell_type": "code",
   "execution_count": 455,
   "metadata": {},
   "outputs": [],
   "source": [
    "class wlnPiVec(object):\n",
    "    def __init__(self, parent):\n",
    "        self._parent = parent\n",
    "\n",
    "    @property\n",
    "    def phases(self):\n",
    "        \"\"\"list of phases\"\"\"\n",
    "        if not hasattr(self, '_phases'):\n",
    "            self._phases = []\n",
    "            \n",
    "            df = self._parent._series.reset_index(name='lnpi')\n",
    "            for meta, g in df.groupby(df.columns.drop(['phase','lnpi']).tolist()):\n",
    "                self._phases.append(g)\n",
    "                \n",
    "        return self._phases\n",
    "    \n",
    "    @property\n",
    "    def ws(self):\n",
    "        \"\"\"list of wlnPi object\"\"\"\n",
    "        if not hasattr(self, '_ws'):\n",
    "            self._ws = []\n",
    "            for \n",
    "        "
   ]
  },
  {
   "cell_type": "code",
   "execution_count": 490,
   "metadata": {},
   "outputs": [],
   "source": [
    "w_min  = pd.DataFrame({'lnz_0':[0.0, 0.0, 1.0], 'phase':[0,1,0], 'w_min':np.random.rand(3)})\n",
    "a = pd.DataFrame({'lnz_0':[0.0, 0.0, 1.0], 'phase':[0,1,0], 'x': np.random.rand(3)})\n",
    "b = pd.DataFrame({'lnz_0':[0.0, 0.0, 1.0], 'phase':[0,1,0], 'x': np.random.rand(3)})"
   ]
  },
  {
   "cell_type": "code",
   "execution_count": 492,
   "metadata": {},
   "outputs": [
    {
     "data": {
      "text/html": [
       "<div>\n",
       "<style scoped>\n",
       "    .dataframe tbody tr th:only-of-type {\n",
       "        vertical-align: middle;\n",
       "    }\n",
       "\n",
       "    .dataframe tbody tr th {\n",
       "        vertical-align: top;\n",
       "    }\n",
       "\n",
       "    .dataframe thead th {\n",
       "        text-align: right;\n",
       "    }\n",
       "</style>\n",
       "<table border=\"1\" class=\"dataframe\">\n",
       "  <thead>\n",
       "    <tr style=\"text-align: right;\">\n",
       "      <th></th>\n",
       "      <th>lnz_0</th>\n",
       "      <th>phase</th>\n",
       "      <th>x</th>\n",
       "      <th>phase_nebr</th>\n",
       "      <th>x_nebr</th>\n",
       "    </tr>\n",
       "  </thead>\n",
       "  <tbody>\n",
       "    <tr>\n",
       "      <td>0</td>\n",
       "      <td>0.0</td>\n",
       "      <td>0</td>\n",
       "      <td>0.566247</td>\n",
       "      <td>0</td>\n",
       "      <td>0.930266</td>\n",
       "    </tr>\n",
       "    <tr>\n",
       "      <td>1</td>\n",
       "      <td>0.0</td>\n",
       "      <td>0</td>\n",
       "      <td>0.566247</td>\n",
       "      <td>1</td>\n",
       "      <td>0.478073</td>\n",
       "    </tr>\n",
       "    <tr>\n",
       "      <td>2</td>\n",
       "      <td>0.0</td>\n",
       "      <td>1</td>\n",
       "      <td>0.939849</td>\n",
       "      <td>0</td>\n",
       "      <td>0.930266</td>\n",
       "    </tr>\n",
       "    <tr>\n",
       "      <td>3</td>\n",
       "      <td>0.0</td>\n",
       "      <td>1</td>\n",
       "      <td>0.939849</td>\n",
       "      <td>1</td>\n",
       "      <td>0.478073</td>\n",
       "    </tr>\n",
       "    <tr>\n",
       "      <td>4</td>\n",
       "      <td>1.0</td>\n",
       "      <td>0</td>\n",
       "      <td>0.610420</td>\n",
       "      <td>0</td>\n",
       "      <td>0.617808</td>\n",
       "    </tr>\n",
       "  </tbody>\n",
       "</table>\n",
       "</div>"
      ],
      "text/plain": [
       "   lnz_0  phase         x  phase_nebr    x_nebr\n",
       "0    0.0      0  0.566247           0  0.930266\n",
       "1    0.0      0  0.566247           1  0.478073\n",
       "2    0.0      1  0.939849           0  0.930266\n",
       "3    0.0      1  0.939849           1  0.478073\n",
       "4    1.0      0  0.610420           0  0.617808"
      ]
     },
     "execution_count": 492,
     "metadata": {},
     "output_type": "execute_result"
    }
   ],
   "source": [
    "a.merge(b, on='lnz_0', suffixes=('','_nebr'))"
   ]
  },
  {
   "cell_type": "code",
   "execution_count": 479,
   "metadata": {},
   "outputs": [],
   "source": [
    "a = a.set_index(['lnz_0','phase'])['x']"
   ]
  },
  {
   "cell_type": "code",
   "execution_count": 500,
   "metadata": {},
   "outputs": [],
   "source": [
    "for meta, g in o.groupby(['lnz_0']):\n",
    "    break"
   ]
  },
  {
   "cell_type": "code",
   "execution_count": 514,
   "metadata": {},
   "outputs": [],
   "source": [
    "bb = b.assign(y=1).set_index(['lnz_0','phase','x'])['y']\n",
    "    "
   ]
  },
  {
   "cell_type": "code",
   "execution_count": 524,
   "metadata": {},
   "outputs": [
    {
     "data": {
      "text/plain": [
       "Float64Index([0.0, 0.0, 1.0], dtype='float64', name='lnz_0')"
      ]
     },
     "execution_count": 524,
     "metadata": {},
     "output_type": "execute_result"
    }
   ],
   "source": [
    "bb.index.droplevel(['phase','x'])"
   ]
  },
  {
   "cell_type": "code",
   "execution_count": 526,
   "metadata": {},
   "outputs": [],
   "source": [
    "for meta, g in bb.groupby(bb.index.droplevel(['phase','x'])):\n",
    "    break"
   ]
  },
  {
   "cell_type": "code",
   "execution_count": 481,
   "metadata": {},
   "outputs": [],
   "source": [
    "b = b.rename(columns={'phase':'phase_nebr'}).set_index(['lnz_0','phase_nebr'])['x']"
   ]
  },
  {
   "cell_type": "code",
   "execution_count": 487,
   "metadata": {},
   "outputs": [
    {
     "data": {
      "text/plain": [
       "<xarray.DataArray 'x' (lnz_0: 2, phase: 2, phase_nebr: 2)>\n",
       "array([[[ 0.596829,  0.210605],\n",
       "        [ 0.296474, -0.08975 ]],\n",
       "\n",
       "       [[ 0.506772,       nan],\n",
       "        [      nan,       nan]]])\n",
       "Coordinates:\n",
       "  * lnz_0       (lnz_0) float64 0.0 1.0\n",
       "  * phase       (phase) int64 0 1\n",
       "  * phase_nebr  (phase_nebr) int64 0 1"
      ]
     },
     "execution_count": 487,
     "metadata": {},
     "output_type": "execute_result"
    }
   ],
   "source": [
    "a.to_xarray() - b.to_xarray()"
   ]
  },
  {
   "cell_type": "code",
   "execution_count": 469,
   "metadata": {},
   "outputs": [
    {
     "data": {
      "text/html": [
       "<div>\n",
       "<style scoped>\n",
       "    .dataframe tbody tr th:only-of-type {\n",
       "        vertical-align: middle;\n",
       "    }\n",
       "\n",
       "    .dataframe tbody tr th {\n",
       "        vertical-align: top;\n",
       "    }\n",
       "\n",
       "    .dataframe thead th {\n",
       "        text-align: right;\n",
       "    }\n",
       "</style>\n",
       "<table border=\"1\" class=\"dataframe\">\n",
       "  <thead>\n",
       "    <tr style=\"text-align: right;\">\n",
       "      <th></th>\n",
       "      <th>lnz_0</th>\n",
       "      <th>phase</th>\n",
       "      <th>x</th>\n",
       "    </tr>\n",
       "  </thead>\n",
       "  <tbody>\n",
       "    <tr>\n",
       "      <td>0</td>\n",
       "      <td>0.0</td>\n",
       "      <td>0</td>\n",
       "      <td>0.412522</td>\n",
       "    </tr>\n",
       "    <tr>\n",
       "      <td>1</td>\n",
       "      <td>0.0</td>\n",
       "      <td>1</td>\n",
       "      <td>0.415078</td>\n",
       "    </tr>\n",
       "    <tr>\n",
       "      <td>2</td>\n",
       "      <td>1.0</td>\n",
       "      <td>0</td>\n",
       "      <td>0.166848</td>\n",
       "    </tr>\n",
       "  </tbody>\n",
       "</table>\n",
       "</div>"
      ],
      "text/plain": [
       "   lnz_0  phase         x\n",
       "0    0.0      0  0.412522\n",
       "1    0.0      1  0.415078\n",
       "2    1.0      0  0.166848"
      ]
     },
     "execution_count": 469,
     "metadata": {},
     "output_type": "execute_result"
    }
   ],
   "source": [
    "w_tran"
   ]
  },
  {
   "cell_type": "code",
   "execution_count": 467,
   "metadata": {},
   "outputs": [
    {
     "data": {
      "text/plain": [
       "array([[         inf, 461.70069158],\n",
       "       [461.70069158,          inf]])"
      ]
     },
     "execution_count": 467,
     "metadata": {},
     "output_type": "execute_result"
    }
   ],
   "source": [
    "p.wlnPi.w_tran"
   ]
  },
  {
   "cell_type": "code",
   "execution_count": 464,
   "metadata": {},
   "outputs": [
    {
     "data": {
      "text/html": [
       "<div>\n",
       "<style scoped>\n",
       "    .dataframe tbody tr th:only-of-type {\n",
       "        vertical-align: middle;\n",
       "    }\n",
       "\n",
       "    .dataframe tbody tr th {\n",
       "        vertical-align: top;\n",
       "    }\n",
       "\n",
       "    .dataframe thead th {\n",
       "        text-align: right;\n",
       "    }\n",
       "</style>\n",
       "<table border=\"1\" class=\"dataframe\">\n",
       "  <thead>\n",
       "    <tr style=\"text-align: right;\">\n",
       "      <th></th>\n",
       "      <th>lnz_0</th>\n",
       "      <th>phase</th>\n",
       "      <th>w_min</th>\n",
       "    </tr>\n",
       "  </thead>\n",
       "  <tbody>\n",
       "    <tr>\n",
       "      <td>0</td>\n",
       "      <td>0.0</td>\n",
       "      <td>0</td>\n",
       "      <td>0.230770</td>\n",
       "    </tr>\n",
       "    <tr>\n",
       "      <td>1</td>\n",
       "      <td>0.0</td>\n",
       "      <td>1</td>\n",
       "      <td>0.221404</td>\n",
       "    </tr>\n",
       "    <tr>\n",
       "      <td>2</td>\n",
       "      <td>1.0</td>\n",
       "      <td>0</td>\n",
       "      <td>0.553318</td>\n",
       "    </tr>\n",
       "  </tbody>\n",
       "</table>\n",
       "</div>"
      ],
      "text/plain": [
       "   lnz_0  phase     w_min\n",
       "0    0.0      0  0.230770\n",
       "1    0.0      1  0.221404\n",
       "2    1.0      0  0.553318"
      ]
     },
     "execution_count": 464,
     "metadata": {},
     "output_type": "execute_result"
    }
   ],
   "source": [
    "a"
   ]
  },
  {
   "cell_type": "code",
   "execution_count": 462,
   "metadata": {},
   "outputs": [
    {
     "data": {
      "text/plain": [
       "array([array([[         inf, 461.70069158],\n",
       "       [461.70069158,          inf]]),\n",
       "       array([[         inf, 221.48157707],\n",
       "       [221.48157707,          inf]]),\n",
       "       array([[        inf, 91.59355321],\n",
       "       [91.59355321,         inf]]),\n",
       "       array([[        inf, 27.05696351],\n",
       "       [27.05696351,         inf]]),\n",
       "       array([[inf]]), array([[inf]]), array([[inf]]), array([[inf]]),\n",
       "       array([[inf]]), array([[inf]]), array([[inf]]), array([[inf]]),\n",
       "       array([[inf]]), array([[inf]]), array([[inf]]), array([[inf]]),\n",
       "       array([[inf]]), array([[inf]]), array([[inf]]), array([[inf]])],\n",
       "      dtype=object)"
      ]
     },
     "execution_count": 462,
     "metadata": {},
     "output_type": "execute_result"
    }
   ],
   "source": [
    "c.wlnPi.w_tran"
   ]
  },
  {
   "cell_type": "code",
   "execution_count": 456,
   "metadata": {},
   "outputs": [],
   "source": [
    "x = wlnPiVec(o)"
   ]
  },
  {
   "cell_type": "code",
   "execution_count": 461,
   "metadata": {},
   "outputs": [
    {
     "data": {
      "text/html": [
       "<div>\n",
       "<style scoped>\n",
       "    .dataframe tbody tr th:only-of-type {\n",
       "        vertical-align: middle;\n",
       "    }\n",
       "\n",
       "    .dataframe tbody tr th {\n",
       "        vertical-align: top;\n",
       "    }\n",
       "\n",
       "    .dataframe thead th {\n",
       "        text-align: right;\n",
       "    }\n",
       "</style>\n",
       "<table border=\"1\" class=\"dataframe\">\n",
       "  <thead>\n",
       "    <tr style=\"text-align: right;\">\n",
       "      <th></th>\n",
       "      <th>lnz_0</th>\n",
       "      <th>phase</th>\n",
       "      <th>lnpi</th>\n",
       "    </tr>\n",
       "  </thead>\n",
       "  <tbody>\n",
       "    <tr>\n",
       "      <td>6</td>\n",
       "      <td>-11.105263</td>\n",
       "      <td>0</td>\n",
       "      <td>[-18.06161029539, -15.953263624713307, -14.513...</td>\n",
       "    </tr>\n",
       "    <tr>\n",
       "      <td>7</td>\n",
       "      <td>-11.105263</td>\n",
       "      <td>1</td>\n",
       "      <td>[--, --, --, --, --, --, --, --, --, --, --, -...</td>\n",
       "    </tr>\n",
       "  </tbody>\n",
       "</table>\n",
       "</div>"
      ],
      "text/plain": [
       "       lnz_0  phase                                               lnpi\n",
       "6 -11.105263      0  [-18.06161029539, -15.953263624713307, -14.513...\n",
       "7 -11.105263      1  [--, --, --, --, --, --, --, --, --, --, --, -..."
      ]
     },
     "execution_count": 461,
     "metadata": {},
     "output_type": "execute_result"
    }
   ],
   "source": [
    "x.phases[3]"
   ]
  },
  {
   "cell_type": "code",
   "execution_count": 449,
   "metadata": {},
   "outputs": [],
   "source": [
    "df = o._series.reset_index(name='lnpi')\n",
    "for meta, g in df.groupby(df.columns.drop(['phase','lnpi']).tolist()):\n",
    "    break"
   ]
  },
  {
   "cell_type": "code",
   "execution_count": 450,
   "metadata": {},
   "outputs": [
    {
     "data": {
      "text/html": [
       "<div>\n",
       "<style scoped>\n",
       "    .dataframe tbody tr th:only-of-type {\n",
       "        vertical-align: middle;\n",
       "    }\n",
       "\n",
       "    .dataframe tbody tr th {\n",
       "        vertical-align: top;\n",
       "    }\n",
       "\n",
       "    .dataframe thead th {\n",
       "        text-align: right;\n",
       "    }\n",
       "</style>\n",
       "<table border=\"1\" class=\"dataframe\">\n",
       "  <thead>\n",
       "    <tr style=\"text-align: right;\">\n",
       "      <th></th>\n",
       "      <th>lnz_0</th>\n",
       "      <th>phase</th>\n",
       "      <th>lnpi</th>\n",
       "    </tr>\n",
       "  </thead>\n",
       "  <tbody>\n",
       "    <tr>\n",
       "      <td>0</td>\n",
       "      <td>-13.0</td>\n",
       "      <td>0</td>\n",
       "      <td>[-18.06161029539, -17.84800046681857, -18.3027...</td>\n",
       "    </tr>\n",
       "    <tr>\n",
       "      <td>1</td>\n",
       "      <td>-13.0</td>\n",
       "      <td>1</td>\n",
       "      <td>[--, --, --, --, --, --, --, --, --, --, --, -...</td>\n",
       "    </tr>\n",
       "  </tbody>\n",
       "</table>\n",
       "</div>"
      ],
      "text/plain": [
       "   lnz_0  phase                                               lnpi\n",
       "0  -13.0      0  [-18.06161029539, -17.84800046681857, -18.3027...\n",
       "1  -13.0      1  [--, --, --, --, --, --, --, --, --, --, --, -..."
      ]
     },
     "execution_count": 450,
     "metadata": {},
     "output_type": "execute_result"
    }
   ],
   "source": [
    "g"
   ]
  },
  {
   "cell_type": "code",
   "execution_count": 431,
   "metadata": {},
   "outputs": [
    {
     "data": {
      "text/plain": [
       "lnz_0       phase\n",
       "-13.000000  0         -17.848000\n",
       "            1        -405.787621\n",
       "-12.368421  0         -17.039547\n",
       "            1         -35.797504\n",
       "-11.736842  0         -15.183485\n",
       "            1         347.416323\n",
       "-11.105263  0         -10.960609\n",
       "            1         741.422701\n",
       "-10.473684  1        1144.314313\n",
       "-9.842105   1        1555.383510\n",
       "-9.210526   1        1971.862438\n",
       "-8.578947   1        2388.704543\n",
       "-7.947368   1        2805.546648\n",
       "-7.315789   1        3222.388754\n",
       "-6.684211   1        3639.230859\n",
       "-6.052632   1        4056.072964\n",
       "-5.421053   1        4472.915069\n",
       "-4.789474   1        4889.757175\n",
       "-4.157895   1        5306.599280\n",
       "-3.526316   1        5723.441385\n",
       "-2.894737   1        6140.283490\n",
       "-2.263158   1        6557.125596\n",
       "-1.631579   1        6973.967701\n",
       "-1.000000   1        7390.809806\n",
       "dtype: float64"
      ]
     },
     "execution_count": 431,
     "metadata": {},
     "output_type": "execute_result"
    }
   ],
   "source": [
    "o.apply(lambda x: x.max())"
   ]
  },
  {
   "cell_type": "code",
   "execution_count": 411,
   "metadata": {},
   "outputs": [
    {
     "data": {
      "text/plain": [
       "array([MaskedlnPi(\n",
       "     lnz=array([-13.])\n",
       "     state_kws={'volume': 729, 'temp': 0.7, 'beta': 1.4285714285714286}\n",
       "     data=masked_array(data=[-18.06161029539, -17.84800046681857,\n",
       "                   -18.302704738247144, -19.13800220967572,\n",
       "                   -20.23611698110429, -21.53215345253286,\n",
       "                   -22.985455523961434, -24.568074095390003,\n",
       "                   -26.259267066818577, -28.043793738247146,\n",
       "                   -29.907977309675722, -31.841714081104293,\n",
       "                   -33.837059152532866, -35.88647272396144,\n",
       "                   -37.98403029539001, -40.12399686681859,\n",
       "                   -42.30361943824715, -44.51712000967572,\n",
       "                   -46.7615055811043, -49.03402815253286,\n",
       "                   -51.33028872396144, -53.64933229539001,\n",
       "                   -55.98695886681858, -58.34128643824715,\n",
       "                   -60.710917009675725, -63.0928845811043,\n",
       "                   -65.48499315253287, -67.88546972396145,\n",
       "                   -70.29259729539001, -72.7044528668186,\n",
       "                   -75.11876843824716, -77.53393300967574,\n",
       "                   -79.9482865811043, -82.35911315253287,\n",
       "                   -84.76408472396145, -87.16032129539002,\n",
       "                   -89.54644286681858, -91.91993843824716,\n",
       "                   -94.27762000967573, -96.61860958110431,\n",
       "                   -98.93975715253288, -101.23812072396146,\n",
       "                   -103.51207629539003, -105.76174486681859,\n",
       "                   -107.98561543824718, -110.18324000967576,\n",
       "                   -112.35622458110431, -114.50422315253289,\n",
       "                   -116.62786772396146, -118.72920329539004,\n",
       "                   -120.8099368668186, -122.87072943824717,\n",
       "                   -124.91302100967576, -126.93788358110433,\n",
       "                   -128.9464531525329, -130.93994572396144,\n",
       "                   -132.91960629539005, -134.8841028668186,\n",
       "                   -136.83623743824717, -138.77686200937575,\n",
       "                   -140.70616058080432, -142.6237301522329,\n",
       "                   -144.53064772366145, -146.42784429509004,\n",
       "                   -148.3134408665186, -150.19040843794718,\n",
       "                   -152.05723800937574, -153.91529458080433,\n",
       "                   -155.7653701522329, -157.60624672366146,\n",
       "                   -159.43854429509003, -161.2622568665186,\n",
       "                   -163.0793094379472, -164.88839500937576,\n",
       "                   -166.69026058080433, -168.4825391522329,\n",
       "                   -170.26739772366147, -172.04402629509005,\n",
       "                   -173.81446486651862, -175.57758343794717,\n",
       "                   -177.33287200937576, -179.08147058080434,\n",
       "                   -180.8235191522329, -182.55735772366148,\n",
       "                   -184.28452629509005, -186.00315486651863,\n",
       "                   -187.7163534379472, -189.42275200937576,\n",
       "                   -191.12100058080432, -192.8122291522329,\n",
       "                   -194.49544772366147, -196.17184629509006,\n",
       "                   -197.83991486651863, -199.4988834379472,\n",
       "                   -201.14898200937577, -202.78947058080433,\n",
       "                   -204.42295915223292, -206.04578772366148,\n",
       "                   -207.65780629509007, -209.26223486651867,\n",
       "                   -210.85343343794722, -212.43677200937577,\n",
       "                   -214.01031058080434, -215.57260915223293,\n",
       "                   -217.1255877236615, -218.66658629509007,\n",
       "                   -220.19881486651866, -221.7206034379472,\n",
       "                   -223.23420200937576, -224.73728058080434,\n",
       "                   -226.2303291522329, -227.7140077236615,\n",
       "                   -229.18981629509008, -230.65559486651864,\n",
       "                   -232.11378343794723, -233.5656520093758,\n",
       "                   -235.00678058080436, -236.44133915223293,\n",
       "                   -237.8694277236615, -239.29070629509008,\n",
       "                   -240.70694486651865, -242.1160434379472,\n",
       "                   -243.51823200937582, -244.91622058080438,\n",
       "                   -246.30836915223293, -247.6952477236615,\n",
       "                   -249.07849629509008, -250.45487486651865,\n",
       "                   -251.82811343794722, -253.1942820093758,\n",
       "                   -254.55697058080438, -255.91486915223294,\n",
       "                   -257.26862772366155, -258.6185262950901,\n",
       "                   -259.9639848665187, -261.3052534379473,\n",
       "                   -262.6419820093758, -263.97663058080434,\n",
       "                   -265.30582915223295, -266.63169772366155,\n",
       "                   -267.95381629509006, -269.27270486651867,\n",
       "                   -270.5883934379473, -271.8993920093758,\n",
       "                   -273.2082405808044, -274.513489152233,\n",
       "                   -275.8148177236615, -277.1143162950901,\n",
       "                   -278.4087748665187, -279.70052343794725,\n",
       "                   -280.9869820093758, -282.2708805808044,\n",
       "                   -283.55136915223295, -284.82986772366155,\n",
       "                   -286.1052362950901, -287.3772048665187,\n",
       "                   -288.64604343794724, -289.91126200937583,\n",
       "                   -291.17250058080435, -292.43241915223297,\n",
       "                   -293.68807772366154, -294.9391362950901,\n",
       "                   -296.1871848665187, -297.43107343794725,\n",
       "                   -298.6722620093758, -299.9094705808044,\n",
       "                   -301.143099152233, -302.37223772366156,\n",
       "                   -303.59731629509014, -304.8172248665187,\n",
       "                   -306.0337734379473, -307.24581200937587,\n",
       "                   -308.4523605808044, -309.652179152233,\n",
       "                   -310.8471277236615, -312.0373962950901,\n",
       "                   -313.2201448665187, -314.39604343794724,\n",
       "                   -315.56529200937587, -316.7278005808044,\n",
       "                   -317.882949152233, -319.0319477236616,\n",
       "                   -320.1708362950901, -321.3025548665187,\n",
       "                   -322.4255434379473, -323.5376220093758,\n",
       "                   -324.6405005808044, -325.732819152233,\n",
       "                   -326.81572772366155, -327.88820629509013,\n",
       "                   -328.9500148665187, -329.99825343794726,\n",
       "                   -331.0343820093758, -332.0603305808044,\n",
       "                   -333.07249915223304, -334.07164772366156,\n",
       "                   -335.05937629509015, -336.03240486651873,\n",
       "                   -336.9914734379473, -337.9368420093758,\n",
       "                   -338.86746058080445, -339.784099152233,\n",
       "                   -340.68750772366155, -341.57590629509014,\n",
       "                   -342.4506248665187, -343.3113934379473,\n",
       "                   -344.15945200937585, -344.99528058080443,\n",
       "                   -345.820549152233, -346.63243772366155,\n",
       "                   -347.43522629509016, -348.22886486651873,\n",
       "                   -349.0148334379473, -349.79211200937584,\n",
       "                   -350.56262058080443, -351.327559152233,\n",
       "                   -352.0857977236616, -352.83918629509014,\n",
       "                   -353.5879548665187, -354.33281343794727,\n",
       "                   -355.07389200937587, -355.81334058080444,\n",
       "                   -356.54673915223304, -357.2776677236616,\n",
       "                   -358.0060962950902, -358.73214486651875,\n",
       "                   -359.4558734379473, -360.17759200937587,\n",
       "                   -360.8958405808045, -361.613679152233,\n",
       "                   -362.3292577236616, -363.0433262950902,\n",
       "                   -363.7539748665188, -364.4642534379473,\n",
       "                   -365.17193200937584, -365.87663058080443,\n",
       "                   -366.583829152233, -367.2879477236616,\n",
       "                   -367.98859629509013, -368.6901448665187,\n",
       "                   -369.3884634379473, -370.0876620093759,\n",
       "                   -370.78564058080445, -371.482429152233,\n",
       "                   -372.1775377236616, -372.87290629509016,\n",
       "                   -373.56758486651876, -374.2589934379473,\n",
       "                   -374.95085200937586, -375.6434005808045,\n",
       "                   -376.33411915223303, -377.0233477236616,\n",
       "                   -377.7090862950902, -378.3963048665188,\n",
       "                   -379.0828434379473, -379.7696820093759,\n",
       "                   -380.4531105808045, -381.13515915223303,\n",
       "                   -381.8156377236616, -382.4978562950902,\n",
       "                   -383.1797448665188, -383.86041343794733,\n",
       "                   -384.5395920093759, -385.2203505808045,\n",
       "                   -385.90013915223307, -386.5787877236616,\n",
       "                   -387.25615629509014, -387.93353486651876,\n",
       "                   -388.61232343794734, -389.2884120093759,\n",
       "                   -389.96465058080446, -390.64032915223305,\n",
       "                   -391.3152777236616, -391.9872162950902,\n",
       "                   -392.6614348665188, -393.3355134379473,\n",
       "                   -394.0088520093759, -394.68115058080446,\n",
       "                   -395.35288915223305, -396.0259377236616,\n",
       "                   -396.6987462950902, -397.3711748665188,\n",
       "                   -398.04255343794733, -398.7134820093759,\n",
       "                   -399.3815797648045, -400.0498917362331,\n",
       "                   -400.71967015766165, -401.3856997950902,\n",
       "                   -402.0529646165188, -402.72325608794733,\n",
       "                   -403.39206925937594, -404.06002473080446,\n",
       "                   -404.72721960223305, -405.39705717366166,\n",
       "                   -406.0651538450902, -406.7334837165188,\n",
       "                   -407.39975858794736, -408.0632455593759,\n",
       "                   -408.7296696308045, -409.3913375022331,\n",
       "                   -410.0559014736616, -410.7177369450902,\n",
       "                   -411.3811469165188, -412.04665868794734,\n",
       "                   -412.7132292593759, -413.3791047308045,\n",
       "                   -414.0410768022331, -414.7049729736616,\n",
       "                   -415.36585824509024, -416.0269173165188,\n",
       "                   -416.68911778794734, -417.34810855937593,\n",
       "                   -418.0064929308045, -418.66649060223307,\n",
       "                   -419.32710697366167, -419.98463574509026,\n",
       "                   -420.6400457165188, -421.29577948794736,\n",
       "                   -421.95163055937593, -422.60349603080454,\n",
       "                   -423.2588003022331, -423.91022637366166,\n",
       "                   -424.5638412450902, -425.2178545165188,\n",
       "                   -425.8706460879474, -426.5216269593759,\n",
       "                   -427.17220323080454, -427.8230592022331,\n",
       "                   -428.47483577366165, -429.1263260450902,\n",
       "                   -429.7786131165188, -430.4285215879474,\n",
       "                   -431.0745915593759, -431.72310783080457,\n",
       "                   -432.36661170223306, -433.0132429736617,\n",
       "                   -433.65668964509024, -434.2972198165188,\n",
       "                   -434.9364505879474, -435.57430575937593,\n",
       "                   -436.2105962308045, -436.84579810223306,\n",
       "                   -437.4815770736617, -438.1150274450903,\n",
       "                   -438.7425098165188, -439.36903928794743,\n",
       "                   -439.992807059376, -440.6126652308045,\n",
       "                   -441.23165850223313, -441.84310657366166,\n",
       "                   -442.45115794509024, -443.05629501651885,\n",
       "                   -443.6534013879474, -444.24482575937594,\n",
       "                   -444.8277829308046, -445.40062900223313,\n",
       "                   -445.9648206736617, -446.52272684509023,\n",
       "                   -447.06814641651886, -447.6020219219474,\n",
       "                   -448.121953143376, -448.62984181380455,\n",
       "                   -449.12101156923313, -449.5980591406617,\n",
       "                   -450.0588817120903, -450.5020942835189,\n",
       "                   -450.9294468549474, -451.341249426376,\n",
       "                   -451.7404619978046, -452.1202655692331,\n",
       "                   -452.4873681406617, -452.83903471209027,\n",
       "                   -453.1812992835188, -453.50857085494744,\n",
       "                   -453.82192542637597, -454.12618399780456,\n",
       "                   -454.41995256923315, -454.70091314066167,\n",
       "                   -454.9699807120903, -455.2300082835188,\n",
       "                   -455.4810428549474, -455.722160426376,\n",
       "                   -455.9560999978046, -456.17911856923314,\n",
       "                   -456.3956951406617, -456.60383571209024,\n",
       "                   -456.80844028351885, -457.0041408549474,\n",
       "                   -457.195341426376, -457.3822939978046,\n",
       "                   -457.5624395692331, -457.7391881406618,\n",
       "                   -457.9106837120903, -458.0771562835189,\n",
       "                   -458.23611485494746, -458.39060042637595,\n",
       "                   -458.5415989978046, -458.68896756923317,\n",
       "                   -458.8318591406617, -458.9710392120903,\n",
       "                   -459.1079754835189, -459.24069335494744,\n",
       "                   -459.369738326376, -459.49546899780455,\n",
       "                   -459.61587426923313, -459.7345233406618,\n",
       "                   -459.8503639120903, -459.9608541835189,\n",
       "                   -460.07051795494743, -460.173879526376,\n",
       "                   -460.2769829308046, -460.37517636923315,\n",
       "                   -460.47146244066175, -460.56016204509024,\n",
       "                   -460.64936801351894, -460.7307535849475,\n",
       "                   -460.817013156376, -460.8955907278046,\n",
       "                   -460.96915029923315, -461.04332787066176,\n",
       "                   -461.1166614420903, -461.1795470135189,\n",
       "                   -461.23928258494743, -461.29726815637605,\n",
       "                   -461.35003872780464, -461.40477929923316,\n",
       "                   -461.4544558706617, -461.4953284420903,\n",
       "                   -461.53427401351894, -461.5714345849475,\n",
       "                   -461.60683915637605, -461.6380977278046,\n",
       "                   -461.6602872992331, -461.68211187066174,\n",
       "                   -461.6920784420903, -461.70185501351887, --, --, --,\n",
       "                   --, --, --, --, --, --, --, --, --, --, --, --, --, --,\n",
       "                   --, --, --, --, --, --, --, --, --, --, --, --, --, --,\n",
       "                   --, --, --, --, --, --, --, --, --, --, --, --, --, --,\n",
       "                   --, --, --, --, --, --, --, --, --, --, --, --, --, --,\n",
       "                   --, --, --, --, --, --, --, --, --, --, --, --, --, --,\n",
       "                   --, --, --, --, --, --, --, --, --, --, --, --, --, --,\n",
       "                   --, --, --, --, --, --, --, --, --, --, --, --, --, --,\n",
       "                   --, --, --, --, --, --, --, --, --, --, --, --, --, --,\n",
       "                   --, --, --, --, --, --, --, --, --, --, --, --, --, --,\n",
       "                   --, --, --, --, --, --, --, --, --, --, --, --, --, --,\n",
       "                   --, --, --, --, --, --, --, --, --, --, --, --, --, --,\n",
       "                   --, --, --, --, --, --, --, --, --, --, --, --, --, --,\n",
       "                   --, --, --, --, --, --, --, --, --, --, --, --, --, --,\n",
       "                   --, --, --, --, --, --, --, --, --, --, --, --, --, --,\n",
       "                   --, --, --, --, --, --, --, --, --, --, --, --, --, --,\n",
       "                   --, --, --, --, --, --, --, --, --, --, --, --],\n",
       "             mask=[False, False, False, False, False, False, False, False,\n",
       "                   False, False, False, False, False, False, False, False,\n",
       "                   False, False, False, False, False, False, False, False,\n",
       "                   False, False, False, False, False, False, False, False,\n",
       "                   False, False, False, False, False, False, False, False,\n",
       "                   False, False, False, False, False, False, False, False,\n",
       "                   False, False, False, False, False, False, False, False,\n",
       "                   False, False, False, False, False, False, False, False,\n",
       "                   False, False, False, False, False, False, False, False,\n",
       "                   False, False, False, False, False, False, False, False,\n",
       "                   False, False, False, False, False, False, False, False,\n",
       "                   False, False, False, False, False, False, False, False,\n",
       "                   False, False, False, False, False, False, False, False,\n",
       "                   False, False, False, False, False, False, False, False,\n",
       "                   False, False, False, False, False, False, False, False,\n",
       "                   False, False, False, False, False, False, False, False,\n",
       "                   False, False, False, False, False, False, False, False,\n",
       "                   False, False, False, False, False, False, False, False,\n",
       "                   False, False, False, False, False, False, False, False,\n",
       "                   False, False, False, False, False, False, False, False,\n",
       "                   False, False, False, False, False, False, False, False,\n",
       "                   False, False, False, False, False, False, False, False,\n",
       "                   False, False, False, False, False, False, False, False,\n",
       "                   False, False, False, False, False, False, False, False,\n",
       "                   False, False, False, False, False, False, False, False,\n",
       "                   False, False, False, False, False, False, False, False,\n",
       "                   False, False, False, False, False, False, False, False,\n",
       "                   False, False, False, False, False, False, False, False,\n",
       "                   False, False, False, False, False, False, False, False,\n",
       "                   False, False, False, False, False, False, False, False,\n",
       "                   False, False, False, False, False, False, False, False,\n",
       "                   False, False, False, False, False, False, False, False,\n",
       "                   False, False, False, False, False, False, False, False,\n",
       "                   False, False, False, False, False, False, False, False,\n",
       "                   False, False, False, False, False, False, False, False,\n",
       "                   False, False, False, False, False, False, False, False,\n",
       "                   False, False, False, False, False, False, False, False,\n",
       "                   False, False, False, False, False, False, False, False,\n",
       "                   False, False, False, False, False, False, False, False,\n",
       "                   False, False, False, False, False, False, False, False,\n",
       "                   False, False, False, False, False, False, False, False,\n",
       "                   False, False, False, False, False, False, False, False,\n",
       "                   False, False, False, False, False, False, False, False,\n",
       "                   False, False, False, False, False, False, False, False,\n",
       "                   False, False, False, False, False, False, False, False,\n",
       "                   False, False, False, False, False, False, False, False,\n",
       "                   False, False, False, False, False, False, False, False,\n",
       "                   False, False, False, False, False, False, False, False,\n",
       "                   False, False, False, False, False, False, False, False,\n",
       "                   False, False, False, False, False, False, False, False,\n",
       "                   False, False, False, False, False, False, False, False,\n",
       "                   False, False, False, False, False, False, False, False,\n",
       "                   False, False, False, False, False, False, False, False,\n",
       "                   False, False, False, False, False, False, False, False,\n",
       "                   False, False, False, False,  True,  True,  True,  True,\n",
       "                    True,  True,  True,  True,  True,  True,  True,  True,\n",
       "                    True,  True,  True,  True,  True,  True,  True,  True,\n",
       "                    True,  True,  True,  True,  True,  True,  True,  True,\n",
       "                    True,  True,  True,  True,  True,  True,  True,  True,\n",
       "                    True,  True,  True,  True,  True,  True,  True,  True,\n",
       "                    True,  True,  True,  True,  True,  True,  True,  True,\n",
       "                    True,  True,  True,  True,  True,  True,  True,  True,\n",
       "                    True,  True,  True,  True,  True,  True,  True,  True,\n",
       "                    True,  True,  True,  True,  True,  True,  True,  True,\n",
       "                    True,  True,  True,  True,  True,  True,  True,  True,\n",
       "                    True,  True,  True,  True,  True,  True,  True,  True,\n",
       "                    True,  True,  True,  True,  True,  True,  True,  True,\n",
       "                    True,  True,  True,  True,  True,  True,  True,  True,\n",
       "                    True,  True,  True,  True,  True,  True,  True,  True,\n",
       "                    True,  True,  True,  True,  True,  True,  True,  True,\n",
       "                    True,  True,  True,  True,  True,  True,  True,  True,\n",
       "                    True,  True,  True,  True,  True,  True,  True,  True,\n",
       "                    True,  True,  True,  True,  True,  True,  True,  True,\n",
       "                    True,  True,  True,  True,  True,  True,  True,  True,\n",
       "                    True,  True,  True,  True,  True,  True,  True,  True,\n",
       "                    True,  True,  True,  True,  True,  True,  True,  True,\n",
       "                    True,  True,  True,  True,  True,  True,  True,  True,\n",
       "                    True,  True,  True,  True,  True,  True,  True,  True,\n",
       "                    True,  True,  True,  True,  True,  True,  True,  True,\n",
       "                    True,  True,  True,  True,  True,  True,  True,  True,\n",
       "                    True,  True,  True,  True,  True,  True,  True,  True,\n",
       "                    True,  True,  True,  True,  True,  True,  True,  True,\n",
       "                    True,  True,  True,  True,  True],\n",
       "       fill_value=nan)\n",
       "     extra_kws={'PE': array([ 4.00372530e-08,  4.00315170e-08, -3.08827170e-02, -9.29015900e-02,\n",
       "       -1.86473600e-01, -3.12017350e-01, -4.69909240e-01, -6.61072130e-01,\n",
       "       -8.85689080e-01, -1.14388670e+00, -1.43719140e+00, -1.76599550e+00,\n",
       "       -2.13138090e+00, -2.53390050e+00, -2.97365080e+00, -3.45312550e+00,\n",
       "       -3.97310410e+00, -4.53367990e+00, -5.13853180e+00, -5.78871290e+00,\n",
       "       -6.48572960e+00, -7.23159840e+00, -8.03079290e+00, -8.88585390e+00,\n",
       "       -9.80087210e+00, -1.07810260e+01, -1.18291810e+01, -1.29562380e+01,\n",
       "       -1.41657920e+01, -1.54659870e+01, -1.68729920e+01, -1.83968600e+01,\n",
       "       -2.00517520e+01, -2.18591040e+01, -2.38410480e+01, -2.60061990e+01,\n",
       "       -2.83865320e+01, -3.09894640e+01, -3.38463170e+01, -3.69556600e+01,\n",
       "       -4.03222860e+01, -4.39534400e+01, -4.78207500e+01, -5.18882610e+01,\n",
       "       -5.61101670e+01, -6.04556860e+01, -6.48780700e+01, -6.93333210e+01,\n",
       "       -7.37720110e+01, -7.81821340e+01, -8.25572420e+01, -8.68960830e+01,\n",
       "       -9.11890630e+01, -9.54250750e+01, -9.96080690e+01, -1.03750490e+02,\n",
       "       -1.07860410e+02, -1.11945680e+02, -1.15996440e+02, -1.20015640e+02,\n",
       "       -1.24042230e+02, -1.28051570e+02, -1.32032110e+02, -1.36006310e+02,\n",
       "       -1.39987220e+02, -1.43958320e+02, -1.47914690e+02, -1.51856840e+02,\n",
       "       -1.55779180e+02, -1.59718210e+02, -1.63657620e+02, -1.67599970e+02,\n",
       "       -1.71533970e+02, -1.75477890e+02, -1.79422520e+02, -1.83344590e+02,\n",
       "       -1.87297930e+02, -1.91225910e+02, -1.95158150e+02, -1.99099690e+02,\n",
       "       -2.03036380e+02, -2.06992550e+02, -2.10903200e+02, -2.14827830e+02,\n",
       "       -2.18776310e+02, -2.22715850e+02, -2.26667600e+02, -2.30618230e+02,\n",
       "       -2.34592250e+02, -2.38564770e+02, -2.42555790e+02, -2.46568010e+02,\n",
       "       -2.50584500e+02, -2.54602380e+02, -2.58655580e+02, -2.62749290e+02,\n",
       "       -2.66845320e+02, -2.70987920e+02, -2.75147480e+02, -2.79316770e+02,\n",
       "       -2.83550930e+02, -2.87773240e+02, -2.92065960e+02, -2.96395540e+02,\n",
       "       -3.00748210e+02, -3.05103830e+02, -3.09482550e+02, -3.13915430e+02,\n",
       "       -3.18384110e+02, -3.22867350e+02, -3.27369890e+02, -3.31890990e+02,\n",
       "       -3.36428650e+02, -3.40992290e+02, -3.45581560e+02, -3.50161070e+02,\n",
       "       -3.54749640e+02, -3.59325870e+02, -3.63917150e+02, -3.68485480e+02,\n",
       "       -3.73079580e+02, -3.77680220e+02, -3.82272600e+02, -3.86875690e+02,\n",
       "       -3.91480500e+02, -3.96053150e+02, -4.00656210e+02, -4.05272390e+02,\n",
       "       -4.09882530e+02, -4.14492590e+02, -4.19088980e+02, -4.23658330e+02,\n",
       "       -4.28231440e+02, -4.32836770e+02, -4.37411730e+02, -4.42009370e+02,\n",
       "       -4.46630020e+02, -4.51213200e+02, -4.55802180e+02, -4.60400310e+02,\n",
       "       -4.65010270e+02, -4.69595410e+02, -4.74189240e+02, -4.78775810e+02,\n",
       "       -4.83349490e+02, -4.87905450e+02, -4.92483310e+02, -4.97090120e+02,\n",
       "       -5.01676540e+02, -5.06245440e+02, -5.10826830e+02, -5.15377350e+02,\n",
       "       -5.19938050e+02, -5.24484990e+02, -5.29038820e+02, -5.33619020e+02,\n",
       "       -5.38133770e+02, -5.42670430e+02, -5.47232110e+02, -5.51782040e+02,\n",
       "       -5.56334940e+02, -5.60883700e+02, -5.65404850e+02, -5.69925950e+02,\n",
       "       -5.74435490e+02, -5.78962500e+02, -5.83501040e+02, -5.88009350e+02,\n",
       "       -5.92513310e+02, -5.96977570e+02, -6.01450040e+02, -6.05906710e+02,\n",
       "       -6.10361430e+02, -6.14804220e+02, -6.19270230e+02, -6.23711880e+02,\n",
       "       -6.28155990e+02, -6.32622480e+02, -6.37060260e+02, -6.41510810e+02,\n",
       "       -6.45962300e+02, -6.50401750e+02, -6.54860000e+02, -6.59301640e+02,\n",
       "       -6.63815280e+02, -6.68333670e+02, -6.72852790e+02, -6.77387960e+02,\n",
       "       -6.81905370e+02, -6.86486290e+02, -6.91128130e+02, -6.95813340e+02,\n",
       "       -7.00522450e+02, -7.05258400e+02, -7.09963550e+02, -7.14754220e+02,\n",
       "       -7.19603170e+02, -7.24465400e+02, -7.29397060e+02, -7.34400110e+02,\n",
       "       -7.39422930e+02, -7.44506390e+02, -7.49646590e+02, -7.54835190e+02,\n",
       "       -7.60160380e+02, -7.65448930e+02, -7.70802340e+02, -7.76231200e+02,\n",
       "       -7.81713050e+02, -7.87219900e+02, -7.92777170e+02, -7.98347820e+02,\n",
       "       -8.03934750e+02, -8.09533180e+02, -8.15158920e+02, -8.20767310e+02,\n",
       "       -8.26316020e+02, -8.31929790e+02, -8.37537130e+02, -8.43169870e+02,\n",
       "       -8.48814710e+02, -8.54439500e+02, -8.60067170e+02, -8.65715830e+02,\n",
       "       -8.71347110e+02, -8.76943170e+02, -8.82512790e+02, -8.88120010e+02,\n",
       "       -8.93718160e+02, -8.99313150e+02, -9.04912410e+02, -9.10552910e+02,\n",
       "       -9.16197150e+02, -9.21907940e+02, -9.27541430e+02, -9.33119120e+02,\n",
       "       -9.38767620e+02, -9.44431570e+02, -9.50066390e+02, -9.55660060e+02,\n",
       "       -9.61252360e+02, -9.66859260e+02, -9.72466880e+02, -9.78058990e+02,\n",
       "       -9.83700770e+02, -9.89315690e+02, -9.94932590e+02, -1.00054310e+03,\n",
       "       -1.00616090e+03, -1.01184190e+03, -1.01746230e+03, -1.02309320e+03,\n",
       "       -1.02871110e+03, -1.03433040e+03, -1.03993270e+03, -1.04555590e+03,\n",
       "       -1.05115700e+03, -1.05674870e+03, -1.06235020e+03, -1.06797830e+03,\n",
       "       -1.07356390e+03, -1.07910580e+03, -1.08471390e+03, -1.09033980e+03,\n",
       "       -1.09598370e+03, -1.10159980e+03, -1.10719820e+03, -1.11279470e+03,\n",
       "       -1.11845730e+03, -1.12407790e+03, -1.12965860e+03, -1.13531710e+03,\n",
       "       -1.14093710e+03, -1.14648920e+03, -1.15207880e+03, -1.15767280e+03,\n",
       "       -1.16327770e+03, -1.16883750e+03, -1.17442220e+03, -1.17998660e+03,\n",
       "       -1.18556090e+03, -1.19117230e+03, -1.19677880e+03, -1.20236860e+03,\n",
       "       -1.20794660e+03, -1.21350202e+03, -1.21907992e+03, -1.22467776e+03,\n",
       "       -1.23027338e+03, -1.23587498e+03, -1.24141448e+03, -1.24692928e+03,\n",
       "       -1.25244508e+03, -1.25804218e+03, -1.26362958e+03, -1.26918638e+03,\n",
       "       -1.27476508e+03, -1.28036288e+03, -1.28584098e+03, -1.29140658e+03,\n",
       "       -1.29695478e+03, -1.30249188e+03, -1.30807318e+03, -1.31363528e+03,\n",
       "       -1.31920788e+03, -1.32475688e+03, -1.33026738e+03, -1.33579148e+03,\n",
       "       -1.34129048e+03, -1.34690468e+03, -1.35249738e+03, -1.35813198e+03,\n",
       "       -1.36366388e+03, -1.36918788e+03, -1.37479428e+03, -1.38035398e+03,\n",
       "       -1.38591548e+03, -1.39147408e+03, -1.39706978e+03, -1.40265688e+03,\n",
       "       -1.40816268e+03, -1.41371708e+03, -1.41921018e+03, -1.42473508e+03,\n",
       "       -1.43022148e+03, -1.43563578e+03, -1.44111308e+03, -1.44657598e+03,\n",
       "       -1.45194268e+03, -1.45748758e+03, -1.46291838e+03, -1.46835118e+03,\n",
       "       -1.47374998e+03, -1.47917488e+03, -1.48460928e+03, -1.49000268e+03,\n",
       "       -1.49533878e+03, -1.50071358e+03, -1.50602608e+03, -1.51131948e+03,\n",
       "       -1.51665528e+03, -1.52183568e+03, -1.52707468e+03, -1.53229268e+03,\n",
       "       -1.53747968e+03, -1.54265878e+03, -1.54760708e+03, -1.55260078e+03,\n",
       "       -1.55752538e+03, -1.56238598e+03, -1.56719178e+03, -1.57188588e+03,\n",
       "       -1.57651078e+03, -1.58101138e+03, -1.58536478e+03, -1.58957668e+03,\n",
       "       -1.59373148e+03, -1.59776298e+03, -1.60166688e+03, -1.60544368e+03,\n",
       "       -1.60917890e+03, -1.61274848e+03, -1.61631772e+03, -1.61987772e+03,\n",
       "       -1.62350322e+03, -1.62730092e+03, -1.63104292e+03, -1.63494102e+03,\n",
       "       -1.63894262e+03, -1.64300162e+03, -1.64731282e+03, -1.65168802e+03,\n",
       "       -1.65620392e+03, -1.66083452e+03, -1.66554692e+03, -1.67034442e+03,\n",
       "       -1.67523082e+03, -1.68024262e+03, -1.68536372e+03, -1.69061192e+03,\n",
       "       -1.69589732e+03, -1.70135062e+03, -1.70682642e+03, -1.71234422e+03,\n",
       "       -1.71798872e+03, -1.72368642e+03, -1.72940472e+03, -1.73512672e+03,\n",
       "       -1.74095152e+03, -1.74685192e+03, -1.75275362e+03, -1.75871142e+03,\n",
       "       -1.76466052e+03, -1.77075282e+03, -1.77668662e+03, -1.78270752e+03,\n",
       "       -1.78881372e+03, -1.79490832e+03, -1.80090352e+03, -1.80696872e+03,\n",
       "       -1.81300652e+03, -1.81909622e+03, -1.82523312e+03, -1.83127682e+03,\n",
       "       -1.83743832e+03, -1.84355812e+03, -1.84971902e+03, -1.85582292e+03,\n",
       "       -1.86194222e+03, -1.86818412e+03, -1.87425762e+03, -1.88040818e+03,\n",
       "       -1.88645516e+03, -1.89256252e+03, -1.89861314e+03, -1.90478294e+03,\n",
       "       -1.91096124e+03, -1.91705134e+03, -1.92314354e+03, -1.92929434e+03,\n",
       "       -1.93544104e+03, -1.94159124e+03, -1.94763494e+03, -1.95369134e+03,\n",
       "       -1.95974414e+03, -1.96573864e+03, -1.97172014e+03, -1.97761944e+03,\n",
       "       -1.98360264e+03, -1.98955344e+03, -1.99545494e+03, -2.00133674e+03,\n",
       "       -2.00730774e+03, -2.01308844e+03, -2.01893224e+03, -2.02466884e+03,\n",
       "       -2.03048334e+03, -2.03617084e+03, -2.04181074e+03, -2.04737774e+03,\n",
       "       -2.05297064e+03, -2.05866734e+03, -2.06404124e+03, -2.06946994e+03,\n",
       "       -2.07496064e+03, -2.08029564e+03, -2.08554564e+03, -2.09095034e+03,\n",
       "       -2.09625874e+03, -2.10154114e+03, -2.10687514e+03, -2.11236654e+03,\n",
       "       -2.11767714e+03, -2.12310782e+03, -2.12846076e+03, -2.13393736e+03,\n",
       "       -2.13935216e+03, -2.14486556e+03, -2.15048646e+03, -2.15611016e+03,\n",
       "       -2.16184596e+03, -2.16754296e+03, -2.17320906e+03, -2.17887676e+03,\n",
       "       -2.18475236e+03, -2.19067556e+03, -2.19672426e+03, -2.20264086e+03,\n",
       "       -2.20877016e+03, -2.21488746e+03, -2.22098846e+03, -2.22714126e+03,\n",
       "       -2.23323546e+03, -2.23937676e+03, -2.24553346e+03, -2.25176846e+03,\n",
       "       -2.25767086e+03, -2.26377336e+03, -2.26975286e+03, -2.27555526e+03,\n",
       "       -2.28158396e+03, -2.28739886e+03, -2.29311826e+03, -2.29872316e+03,\n",
       "       -2.30421736e+03, -2.30969566e+03, -2.31486156e+03, -2.31973836e+03,\n",
       "       -2.32444636e+03, -2.32893632e+03, -2.33319444e+03, -2.33720620e+03,\n",
       "       -2.34089886e+03, -2.34484566e+03, -2.34853046e+03, -2.35208856e+03,\n",
       "       -2.35599516e+03, -2.36017496e+03, -2.36440216e+03, -2.36903816e+03,\n",
       "       -2.37418946e+03, -2.37979336e+03, -2.38597586e+03, -2.39259506e+03,\n",
       "       -2.39976446e+03, -2.40733136e+03, -2.41499636e+03, -2.42290156e+03,\n",
       "       -2.43110926e+03, -2.43947296e+03, -2.44806906e+03, -2.45666446e+03,\n",
       "       -2.46550626e+03, -2.47433226e+03, -2.48342546e+03, -2.49262906e+03,\n",
       "       -2.50185586e+03, -2.51103246e+03, -2.52023696e+03, -2.52958470e+03,\n",
       "       -2.53894250e+03, -2.54839246e+03, -2.55792890e+03, -2.56745520e+03,\n",
       "       -2.57690700e+03, -2.58647640e+03, -2.59609120e+03, -2.60582740e+03,\n",
       "       -2.61545500e+03, -2.62504060e+03, -2.63477380e+03, -2.64456180e+03,\n",
       "       -2.65432200e+03, -2.66420370e+03, -2.67405380e+03, -2.68397960e+03,\n",
       "       -2.69386870e+03, -2.70368250e+03, -2.71367750e+03, -2.72359500e+03,\n",
       "       -2.73359700e+03, -2.74360830e+03, -2.75354810e+03, -2.76363210e+03,\n",
       "       -2.77371040e+03, -2.78387210e+03, -2.79384780e+03, -2.80397712e+03,\n",
       "       -2.81408428e+03, -2.82418306e+03, -2.83440396e+03, -2.84452806e+03,\n",
       "       -2.85473816e+03, -2.86488066e+03, -2.87522596e+03, -2.88550906e+03,\n",
       "       -2.89583036e+03, -2.90613796e+03, -2.91634806e+03, -2.92662136e+03,\n",
       "       -2.93698546e+03, -2.94731836e+03, -2.95748376e+03, -2.96777826e+03,\n",
       "       -2.97811966e+03, -2.98863556e+03, -2.99899326e+03, -3.00926636e+03,\n",
       "       -3.01972576e+03, -3.03030396e+03, -3.04073906e+03, -3.05105346e+03,\n",
       "       -3.06154536e+03, -3.07194156e+03, -3.08260624e+03, -3.09301138e+03,\n",
       "       -3.10346660e+03, -3.11400420e+03, -3.12443550e+03, -3.13495840e+03,\n",
       "       -3.14556110e+03, -3.15609680e+03, -3.16662630e+03, -3.17719460e+03,\n",
       "       -3.18770750e+03, -3.19826160e+03, -3.20882770e+03, -3.21942410e+03,\n",
       "       -3.22996140e+03, -3.24059960e+03, -3.25121720e+03, -3.26167900e+03,\n",
       "       -3.27229850e+03, -3.28289890e+03, -3.29352600e+03, -3.30413654e+03,\n",
       "       -3.31461966e+03, -3.32530444e+03, -3.33600942e+03, -3.34645352e+03,\n",
       "       -3.35707222e+03, -3.36761762e+03, -3.37831762e+03, -3.38893582e+03,\n",
       "       -3.39975262e+03, -3.41027952e+03, -3.42085242e+03, -3.43150272e+03,\n",
       "       -3.44238212e+03, -3.45283932e+03, -3.46355482e+03, -3.47418722e+03,\n",
       "       -3.48483732e+03, -3.49546462e+03, -3.50614012e+03, -3.51722062e+03,\n",
       "       -3.52775362e+03, -3.53819604e+03, -3.54874514e+03, -3.55948200e+03,\n",
       "       -3.56998944e+03, -3.58092654e+03, -3.59129614e+03, -3.60178504e+03,\n",
       "       -3.61256284e+03, -3.62317374e+03, -3.63373984e+03, -3.64425694e+03,\n",
       "       -3.65509794e+03, -3.66555164e+03, -3.67625434e+03, -3.68660144e+03,\n",
       "       -3.69748214e+03, -3.70776774e+03, -3.71841984e+03, -3.72930214e+03,\n",
       "       -3.73981464e+03, -3.75029412e+03, -3.76071898e+03, -3.77112416e+03,\n",
       "       -3.78157778e+03, -3.79230668e+03, -3.80339288e+03, -3.81352788e+03,\n",
       "       -3.82420028e+03, -3.83435958e+03, -3.84508378e+03, -3.85547138e+03,\n",
       "       -3.86583098e+03, -3.87644108e+03, -3.88650968e+03, -3.89715978e+03,\n",
       "       -3.90716878e+03, -3.91792748e+03, -3.92810268e+03, -3.93856488e+03,\n",
       "       -3.94917308e+03, -3.95935298e+03, -3.96941738e+03, -3.97945148e+03,\n",
       "       -3.99017378e+03])}\n",
       "),\n",
       "       MaskedlnPi(\n",
       "     lnz=array([-13.])\n",
       "     state_kws={'volume': 729, 'temp': 0.7, 'beta': 1.4285714285714286}\n",
       "     data=masked_array(data=[--, --, --, --, --, --, --, --, --, --, --, --, --, --,\n",
       "                   --, --, --, --, --, --, --, --, --, --, --, --, --, --,\n",
       "                   --, --, --, --, --, --, --, --, --, --, --, --, --, --,\n",
       "                   --, --, --, --, --, --, --, --, --, --, --, --, --, --,\n",
       "                   --, --, --, --, --, --, --, --, --, --, --, --, --, --,\n",
       "                   --, --, --, --, --, --, --, --, --, --, --, --, --, --,\n",
       "                   --, --, --, --, --, --, --, --, --, --, --, --, --, --,\n",
       "                   --, --, --, --, --, --, --, --, --, --, --, --, --, --,\n",
       "                   --, --, --, --, --, --, --, --, --, --, --, --, --, --,\n",
       "                   --, --, --, --, --, --, --, --, --, --, --, --, --, --,\n",
       "                   --, --, --, --, --, --, --, --, --, --, --, --, --, --,\n",
       "                   --, --, --, --, --, --, --, --, --, --, --, --, --, --,\n",
       "                   --, --, --, --, --, --, --, --, --, --, --, --, --, --,\n",
       "                   --, --, --, --, --, --, --, --, --, --, --, --, --, --,\n",
       "                   --, --, --, --, --, --, --, --, --, --, --, --, --, --,\n",
       "                   --, --, --, --, --, --, --, --, --, --, --, --, --, --,\n",
       "                   --, --, --, --, --, --, --, --, --, --, --, --, --, --,\n",
       "                   --, --, --, --, --, --, --, --, --, --, --, --, --, --,\n",
       "                   --, --, --, --, --, --, --, --, --, --, --, --, --, --,\n",
       "                   --, --, --, --, --, --, --, --, --, --, --, --, --, --,\n",
       "                   --, --, --, --, --, --, --, --, --, --, --, --, --, --,\n",
       "                   --, --, --, --, --, --, --, --, --, --, --, --, --, --,\n",
       "                   --, --, --, --, --, --, --, --, --, --, --, --, --, --,\n",
       "                   --, --, --, --, --, --, --, --, --, --, --, --, --, --,\n",
       "                   --, --, --, --, --, --, --, --, --, --, --, --, --, --,\n",
       "                   --, --, --, --, --, --, --, --, --, --, --, --, --, --,\n",
       "                   --, --, --, --, --, --, --, --, --, --, --, --, --, --,\n",
       "                   --, --, --, --, --, --, --, --, --, --, --, --, --, --,\n",
       "                   --, --, --, --, --, --, --, --, --, --, --, --, --, --,\n",
       "                   --, --, --, --, --, --, --, --, --, --, --, --, --, --,\n",
       "                   --, --, --, --, --, --, --, --, --, --, --, --, --, --,\n",
       "                   --, --, -461.70069158494744, -461.696506156376,\n",
       "                   -461.68568372780464, -461.66896029923316,\n",
       "                   -461.6470498706617, -461.6137274420903,\n",
       "                   -461.5749720135189, -461.53033658494746,\n",
       "                   -461.48446015637603, -461.42156082780457,\n",
       "                   -461.3525524992332, -461.27445327066175,\n",
       "                   -461.18921684209033, -461.0954996135189,\n",
       "                   -460.9948766849475, -460.88289675637606,\n",
       "                   -460.7591777438046, -460.6254592492332,\n",
       "                   -460.48065087066175, -460.33214237509037,\n",
       "                   -460.1733611165189, -460.0093906879475,\n",
       "                   -459.83011525937604, -459.64421883080456,\n",
       "                   -459.43951040223317, -459.23518597366177,\n",
       "                   -459.02001154509037, -458.7988491165189,\n",
       "                   -458.5729406879475, -458.33164125937606,\n",
       "                   -458.0812918308046, -457.8282794022332,\n",
       "                   -457.56338197366176, -457.29204654509033,\n",
       "                   -457.0242871165189, -456.7406276879475,\n",
       "                   -456.45056525937605, -456.1511468308046,\n",
       "                   -455.8480114022332, -455.5389119736618,\n",
       "                   -455.2210635450904, -454.8913921165189,\n",
       "                   -454.5544796879475, -454.2181142593761,\n",
       "                   -453.8655838308046, -453.5101344022332,\n",
       "                   -453.14019997366177, -452.7630945450904,\n",
       "                   -452.37989771651894, -451.9882376879475,\n",
       "                   -451.57618505937603, -451.14996533080466,\n",
       "                   -450.71560040223324, -450.2637077736618,\n",
       "                   -449.7976642950903, -449.3169698325189,\n",
       "                   -448.8135050489475, -448.2865676203761,\n",
       "                   -447.73480219180465, -447.1646117632332,\n",
       "                   -446.5732983346618, -445.9517609060904,\n",
       "                   -445.31423547751893, -444.6509420489475,\n",
       "                   -443.969685620376, -443.28307419180464,\n",
       "                   -442.5764927632332, -441.8550813346618,\n",
       "                   -441.12806290609035, -440.3806214775189,\n",
       "                   -439.6346440489475, -438.8801156203761,\n",
       "                   -438.12562519180466, -437.36646376323324,\n",
       "                   -436.60997533466184, -435.8521389060904,\n",
       "                   -435.09419847751894, -434.3462840489475,\n",
       "                   -433.5793326203761, -432.8304781918047,\n",
       "                   -432.07638346323324, -431.3267386346618,\n",
       "                   -430.5901240393904, -429.846613277419,\n",
       "                   -429.10775939894756, -428.3770037037761,\n",
       "                   -427.65652657360465, -426.9443391450332,\n",
       "                   -426.2324277164618, -425.53145728789036,\n",
       "                   -424.83897885931896, -424.14888943074754,\n",
       "                   -423.46393300217613, -422.79372157360467,\n",
       "                   -422.13237014503324, -421.4811867164618,\n",
       "                   -420.8309992878904, -420.20192785931897,\n",
       "                   -419.57629443074757, -418.9606400021761,\n",
       "                   -418.3578325736047, -417.7678441450332,\n",
       "                   -417.17604171646184, -416.5977072878904,\n",
       "                   -416.033766859319, -415.4800844307475,\n",
       "                   -414.9278634021761, -414.3985119736047,\n",
       "                   -413.87823834503325, -413.3707276164618,\n",
       "                   -412.8867070211904, -412.410481458919,\n",
       "                   -411.94753528034755, -411.50656235147613,\n",
       "                   -411.0678572112047, -410.65039578263327,\n",
       "                   -410.25132735406186, -409.8619719254904,\n",
       "                   -409.49318749691895, -409.12575206834754,\n",
       "                   -408.7749356397762, -408.4440622112047,\n",
       "                   -408.14639478263325, -407.8493443540618,\n",
       "                   -407.5739309254904, -407.32031249691903,\n",
       "                   -407.07619206834755, -406.85722063977613,\n",
       "                   -406.6553644112047, -406.4717269826333,\n",
       "                   -406.31014485406183, -406.16201062549044,\n",
       "                   -406.04418629691895, -405.96124316834755,\n",
       "                   -405.89101833977617, -405.83738351120473,\n",
       "                   -405.7925227491333, -405.78762145396183,\n",
       "                   -405.80018912479045, -405.834408362419,\n",
       "                   -405.88772176044756, -405.95871483189615,\n",
       "                   -406.05945420332466, -406.1745221747533,\n",
       "                   -406.33687334618185, -406.51345701761045,\n",
       "                   -406.69541728903897, -406.9177791604676,\n",
       "                   -407.16497663189614, -407.4281568033247,\n",
       "                   -407.7396288747533, -408.04773484618187,\n",
       "                   -408.4096381176105, -408.78278188903903,\n",
       "                   -409.2019188604676, -409.63085223189614,\n",
       "                   -410.09336900332477, -410.5861200747533,\n",
       "                   -411.0950391129119, -411.64777868488045,\n",
       "                   -412.235204355759, -412.8501357260976,\n",
       "                   -413.49632511428615, -414.1657142857147,\n",
       "                   -414.8894950571433, -415.61328962857186,\n",
       "                   -416.3872003000005, -417.180681271429,\n",
       "                   -418.0173610428576, -418.87412301428617,\n",
       "                   -419.76525828571476, -420.66865865714334,\n",
       "                   -421.64745042857186, -422.63595340000046,\n",
       "                   -423.671945071429, -424.7533563428576,\n",
       "                   -425.8637087142862, -427.0234335857147,\n",
       "                   -428.2087987571433, -429.4257821285719,\n",
       "                   -430.6947676267405, -431.985173764939,\n",
       "                   -433.2940565876176, -434.64061852824614,\n",
       "                   -436.05416141580474, -437.4842538872333,\n",
       "                   -438.96902165866186, -440.48793573009044,\n",
       "                   -442.043603101519, -443.65646427294763,\n",
       "                   -445.32078044437617, -447.02130211580476,\n",
       "                   -448.7404606872333, -450.4973122586619,\n",
       "                   -452.32794683009047, -454.156246401519,\n",
       "                   -456.0556379729476, -458.00810854437617,\n",
       "                   -459.9958661158048, -462.05097568723335,\n",
       "                   -464.1706212200619, -466.30511435809046,\n",
       "                   -468.50173943071906, -470.74111460364765,\n",
       "                   -473.0166813426762, -475.3622423141047,\n",
       "                   -477.7414794855333, -480.17054405696194,\n",
       "                   -482.6452496283905, -485.159371199819,\n",
       "                   -487.7352097712476, -490.3437613426762,\n",
       "                   -493.0270079141048, -495.7739894855333,\n",
       "                   -498.5177870569619, -501.35862062839044,\n",
       "                   -504.2631831998191, -507.1925957712476,\n",
       "                   -510.1765633426762, -513.1976679141047,\n",
       "                   -516.1954374855334, -519.3817430569619,\n",
       "                   -522.5919536283905, -525.880134199819,\n",
       "                   -529.1901937712476],\n",
       "             mask=[ True,  True,  True,  True,  True,  True,  True,  True,\n",
       "                    True,  True,  True,  True,  True,  True,  True,  True,\n",
       "                    True,  True,  True,  True,  True,  True,  True,  True,\n",
       "                    True,  True,  True,  True,  True,  True,  True,  True,\n",
       "                    True,  True,  True,  True,  True,  True,  True,  True,\n",
       "                    True,  True,  True,  True,  True,  True,  True,  True,\n",
       "                    True,  True,  True,  True,  True,  True,  True,  True,\n",
       "                    True,  True,  True,  True,  True,  True,  True,  True,\n",
       "                    True,  True,  True,  True,  True,  True,  True,  True,\n",
       "                    True,  True,  True,  True,  True,  True,  True,  True,\n",
       "                    True,  True,  True,  True,  True,  True,  True,  True,\n",
       "                    True,  True,  True,  True,  True,  True,  True,  True,\n",
       "                    True,  True,  True,  True,  True,  True,  True,  True,\n",
       "                    True,  True,  True,  True,  True,  True,  True,  True,\n",
       "                    True,  True,  True,  True,  True,  True,  True,  True,\n",
       "                    True,  True,  True,  True,  True,  True,  True,  True,\n",
       "                    True,  True,  True,  True,  True,  True,  True,  True,\n",
       "                    True,  True,  True,  True,  True,  True,  True,  True,\n",
       "                    True,  True,  True,  True,  True,  True,  True,  True,\n",
       "                    True,  True,  True,  True,  True,  True,  True,  True,\n",
       "                    True,  True,  True,  True,  True,  True,  True,  True,\n",
       "                    True,  True,  True,  True,  True,  True,  True,  True,\n",
       "                    True,  True,  True,  True,  True,  True,  True,  True,\n",
       "                    True,  True,  True,  True,  True,  True,  True,  True,\n",
       "                    True,  True,  True,  True,  True,  True,  True,  True,\n",
       "                    True,  True,  True,  True,  True,  True,  True,  True,\n",
       "                    True,  True,  True,  True,  True,  True,  True,  True,\n",
       "                    True,  True,  True,  True,  True,  True,  True,  True,\n",
       "                    True,  True,  True,  True,  True,  True,  True,  True,\n",
       "                    True,  True,  True,  True,  True,  True,  True,  True,\n",
       "                    True,  True,  True,  True,  True,  True,  True,  True,\n",
       "                    True,  True,  True,  True,  True,  True,  True,  True,\n",
       "                    True,  True,  True,  True,  True,  True,  True,  True,\n",
       "                    True,  True,  True,  True,  True,  True,  True,  True,\n",
       "                    True,  True,  True,  True,  True,  True,  True,  True,\n",
       "                    True,  True,  True,  True,  True,  True,  True,  True,\n",
       "                    True,  True,  True,  True,  True,  True,  True,  True,\n",
       "                    True,  True,  True,  True,  True,  True,  True,  True,\n",
       "                    True,  True,  True,  True,  True,  True,  True,  True,\n",
       "                    True,  True,  True,  True,  True,  True,  True,  True,\n",
       "                    True,  True,  True,  True,  True,  True,  True,  True,\n",
       "                    True,  True,  True,  True,  True,  True,  True,  True,\n",
       "                    True,  True,  True,  True,  True,  True,  True,  True,\n",
       "                    True,  True,  True,  True,  True,  True,  True,  True,\n",
       "                    True,  True,  True,  True,  True,  True,  True,  True,\n",
       "                    True,  True,  True,  True,  True,  True,  True,  True,\n",
       "                    True,  True,  True,  True,  True,  True,  True,  True,\n",
       "                    True,  True,  True,  True,  True,  True,  True,  True,\n",
       "                    True,  True,  True,  True,  True,  True,  True,  True,\n",
       "                    True,  True,  True,  True,  True,  True,  True,  True,\n",
       "                    True,  True,  True,  True,  True,  True,  True,  True,\n",
       "                    True,  True,  True,  True,  True,  True,  True,  True,\n",
       "                    True,  True,  True,  True,  True,  True,  True,  True,\n",
       "                    True,  True,  True,  True,  True,  True,  True,  True,\n",
       "                    True,  True,  True,  True, False, False, False, False,\n",
       "                   False, False, False, False, False, False, False, False,\n",
       "                   False, False, False, False, False, False, False, False,\n",
       "                   False, False, False, False, False, False, False, False,\n",
       "                   False, False, False, False, False, False, False, False,\n",
       "                   False, False, False, False, False, False, False, False,\n",
       "                   False, False, False, False, False, False, False, False,\n",
       "                   False, False, False, False, False, False, False, False,\n",
       "                   False, False, False, False, False, False, False, False,\n",
       "                   False, False, False, False, False, False, False, False,\n",
       "                   False, False, False, False, False, False, False, False,\n",
       "                   False, False, False, False, False, False, False, False,\n",
       "                   False, False, False, False, False, False, False, False,\n",
       "                   False, False, False, False, False, False, False, False,\n",
       "                   False, False, False, False, False, False, False, False,\n",
       "                   False, False, False, False, False, False, False, False,\n",
       "                   False, False, False, False, False, False, False, False,\n",
       "                   False, False, False, False, False, False, False, False,\n",
       "                   False, False, False, False, False, False, False, False,\n",
       "                   False, False, False, False, False, False, False, False,\n",
       "                   False, False, False, False, False, False, False, False,\n",
       "                   False, False, False, False, False, False, False, False,\n",
       "                   False, False, False, False, False, False, False, False,\n",
       "                   False, False, False, False, False, False, False, False,\n",
       "                   False, False, False, False, False, False, False, False,\n",
       "                   False, False, False, False, False, False, False, False,\n",
       "                   False, False, False, False, False, False, False, False,\n",
       "                   False, False, False, False, False, False, False, False,\n",
       "                   False, False, False, False, False],\n",
       "       fill_value=nan)\n",
       "     extra_kws={'PE': array([ 4.00372530e-08,  4.00315170e-08, -3.08827170e-02, -9.29015900e-02,\n",
       "       -1.86473600e-01, -3.12017350e-01, -4.69909240e-01, -6.61072130e-01,\n",
       "       -8.85689080e-01, -1.14388670e+00, -1.43719140e+00, -1.76599550e+00,\n",
       "       -2.13138090e+00, -2.53390050e+00, -2.97365080e+00, -3.45312550e+00,\n",
       "       -3.97310410e+00, -4.53367990e+00, -5.13853180e+00, -5.78871290e+00,\n",
       "       -6.48572960e+00, -7.23159840e+00, -8.03079290e+00, -8.88585390e+00,\n",
       "       -9.80087210e+00, -1.07810260e+01, -1.18291810e+01, -1.29562380e+01,\n",
       "       -1.41657920e+01, -1.54659870e+01, -1.68729920e+01, -1.83968600e+01,\n",
       "       -2.00517520e+01, -2.18591040e+01, -2.38410480e+01, -2.60061990e+01,\n",
       "       -2.83865320e+01, -3.09894640e+01, -3.38463170e+01, -3.69556600e+01,\n",
       "       -4.03222860e+01, -4.39534400e+01, -4.78207500e+01, -5.18882610e+01,\n",
       "       -5.61101670e+01, -6.04556860e+01, -6.48780700e+01, -6.93333210e+01,\n",
       "       -7.37720110e+01, -7.81821340e+01, -8.25572420e+01, -8.68960830e+01,\n",
       "       -9.11890630e+01, -9.54250750e+01, -9.96080690e+01, -1.03750490e+02,\n",
       "       -1.07860410e+02, -1.11945680e+02, -1.15996440e+02, -1.20015640e+02,\n",
       "       -1.24042230e+02, -1.28051570e+02, -1.32032110e+02, -1.36006310e+02,\n",
       "       -1.39987220e+02, -1.43958320e+02, -1.47914690e+02, -1.51856840e+02,\n",
       "       -1.55779180e+02, -1.59718210e+02, -1.63657620e+02, -1.67599970e+02,\n",
       "       -1.71533970e+02, -1.75477890e+02, -1.79422520e+02, -1.83344590e+02,\n",
       "       -1.87297930e+02, -1.91225910e+02, -1.95158150e+02, -1.99099690e+02,\n",
       "       -2.03036380e+02, -2.06992550e+02, -2.10903200e+02, -2.14827830e+02,\n",
       "       -2.18776310e+02, -2.22715850e+02, -2.26667600e+02, -2.30618230e+02,\n",
       "       -2.34592250e+02, -2.38564770e+02, -2.42555790e+02, -2.46568010e+02,\n",
       "       -2.50584500e+02, -2.54602380e+02, -2.58655580e+02, -2.62749290e+02,\n",
       "       -2.66845320e+02, -2.70987920e+02, -2.75147480e+02, -2.79316770e+02,\n",
       "       -2.83550930e+02, -2.87773240e+02, -2.92065960e+02, -2.96395540e+02,\n",
       "       -3.00748210e+02, -3.05103830e+02, -3.09482550e+02, -3.13915430e+02,\n",
       "       -3.18384110e+02, -3.22867350e+02, -3.27369890e+02, -3.31890990e+02,\n",
       "       -3.36428650e+02, -3.40992290e+02, -3.45581560e+02, -3.50161070e+02,\n",
       "       -3.54749640e+02, -3.59325870e+02, -3.63917150e+02, -3.68485480e+02,\n",
       "       -3.73079580e+02, -3.77680220e+02, -3.82272600e+02, -3.86875690e+02,\n",
       "       -3.91480500e+02, -3.96053150e+02, -4.00656210e+02, -4.05272390e+02,\n",
       "       -4.09882530e+02, -4.14492590e+02, -4.19088980e+02, -4.23658330e+02,\n",
       "       -4.28231440e+02, -4.32836770e+02, -4.37411730e+02, -4.42009370e+02,\n",
       "       -4.46630020e+02, -4.51213200e+02, -4.55802180e+02, -4.60400310e+02,\n",
       "       -4.65010270e+02, -4.69595410e+02, -4.74189240e+02, -4.78775810e+02,\n",
       "       -4.83349490e+02, -4.87905450e+02, -4.92483310e+02, -4.97090120e+02,\n",
       "       -5.01676540e+02, -5.06245440e+02, -5.10826830e+02, -5.15377350e+02,\n",
       "       -5.19938050e+02, -5.24484990e+02, -5.29038820e+02, -5.33619020e+02,\n",
       "       -5.38133770e+02, -5.42670430e+02, -5.47232110e+02, -5.51782040e+02,\n",
       "       -5.56334940e+02, -5.60883700e+02, -5.65404850e+02, -5.69925950e+02,\n",
       "       -5.74435490e+02, -5.78962500e+02, -5.83501040e+02, -5.88009350e+02,\n",
       "       -5.92513310e+02, -5.96977570e+02, -6.01450040e+02, -6.05906710e+02,\n",
       "       -6.10361430e+02, -6.14804220e+02, -6.19270230e+02, -6.23711880e+02,\n",
       "       -6.28155990e+02, -6.32622480e+02, -6.37060260e+02, -6.41510810e+02,\n",
       "       -6.45962300e+02, -6.50401750e+02, -6.54860000e+02, -6.59301640e+02,\n",
       "       -6.63815280e+02, -6.68333670e+02, -6.72852790e+02, -6.77387960e+02,\n",
       "       -6.81905370e+02, -6.86486290e+02, -6.91128130e+02, -6.95813340e+02,\n",
       "       -7.00522450e+02, -7.05258400e+02, -7.09963550e+02, -7.14754220e+02,\n",
       "       -7.19603170e+02, -7.24465400e+02, -7.29397060e+02, -7.34400110e+02,\n",
       "       -7.39422930e+02, -7.44506390e+02, -7.49646590e+02, -7.54835190e+02,\n",
       "       -7.60160380e+02, -7.65448930e+02, -7.70802340e+02, -7.76231200e+02,\n",
       "       -7.81713050e+02, -7.87219900e+02, -7.92777170e+02, -7.98347820e+02,\n",
       "       -8.03934750e+02, -8.09533180e+02, -8.15158920e+02, -8.20767310e+02,\n",
       "       -8.26316020e+02, -8.31929790e+02, -8.37537130e+02, -8.43169870e+02,\n",
       "       -8.48814710e+02, -8.54439500e+02, -8.60067170e+02, -8.65715830e+02,\n",
       "       -8.71347110e+02, -8.76943170e+02, -8.82512790e+02, -8.88120010e+02,\n",
       "       -8.93718160e+02, -8.99313150e+02, -9.04912410e+02, -9.10552910e+02,\n",
       "       -9.16197150e+02, -9.21907940e+02, -9.27541430e+02, -9.33119120e+02,\n",
       "       -9.38767620e+02, -9.44431570e+02, -9.50066390e+02, -9.55660060e+02,\n",
       "       -9.61252360e+02, -9.66859260e+02, -9.72466880e+02, -9.78058990e+02,\n",
       "       -9.83700770e+02, -9.89315690e+02, -9.94932590e+02, -1.00054310e+03,\n",
       "       -1.00616090e+03, -1.01184190e+03, -1.01746230e+03, -1.02309320e+03,\n",
       "       -1.02871110e+03, -1.03433040e+03, -1.03993270e+03, -1.04555590e+03,\n",
       "       -1.05115700e+03, -1.05674870e+03, -1.06235020e+03, -1.06797830e+03,\n",
       "       -1.07356390e+03, -1.07910580e+03, -1.08471390e+03, -1.09033980e+03,\n",
       "       -1.09598370e+03, -1.10159980e+03, -1.10719820e+03, -1.11279470e+03,\n",
       "       -1.11845730e+03, -1.12407790e+03, -1.12965860e+03, -1.13531710e+03,\n",
       "       -1.14093710e+03, -1.14648920e+03, -1.15207880e+03, -1.15767280e+03,\n",
       "       -1.16327770e+03, -1.16883750e+03, -1.17442220e+03, -1.17998660e+03,\n",
       "       -1.18556090e+03, -1.19117230e+03, -1.19677880e+03, -1.20236860e+03,\n",
       "       -1.20794660e+03, -1.21350202e+03, -1.21907992e+03, -1.22467776e+03,\n",
       "       -1.23027338e+03, -1.23587498e+03, -1.24141448e+03, -1.24692928e+03,\n",
       "       -1.25244508e+03, -1.25804218e+03, -1.26362958e+03, -1.26918638e+03,\n",
       "       -1.27476508e+03, -1.28036288e+03, -1.28584098e+03, -1.29140658e+03,\n",
       "       -1.29695478e+03, -1.30249188e+03, -1.30807318e+03, -1.31363528e+03,\n",
       "       -1.31920788e+03, -1.32475688e+03, -1.33026738e+03, -1.33579148e+03,\n",
       "       -1.34129048e+03, -1.34690468e+03, -1.35249738e+03, -1.35813198e+03,\n",
       "       -1.36366388e+03, -1.36918788e+03, -1.37479428e+03, -1.38035398e+03,\n",
       "       -1.38591548e+03, -1.39147408e+03, -1.39706978e+03, -1.40265688e+03,\n",
       "       -1.40816268e+03, -1.41371708e+03, -1.41921018e+03, -1.42473508e+03,\n",
       "       -1.43022148e+03, -1.43563578e+03, -1.44111308e+03, -1.44657598e+03,\n",
       "       -1.45194268e+03, -1.45748758e+03, -1.46291838e+03, -1.46835118e+03,\n",
       "       -1.47374998e+03, -1.47917488e+03, -1.48460928e+03, -1.49000268e+03,\n",
       "       -1.49533878e+03, -1.50071358e+03, -1.50602608e+03, -1.51131948e+03,\n",
       "       -1.51665528e+03, -1.52183568e+03, -1.52707468e+03, -1.53229268e+03,\n",
       "       -1.53747968e+03, -1.54265878e+03, -1.54760708e+03, -1.55260078e+03,\n",
       "       -1.55752538e+03, -1.56238598e+03, -1.56719178e+03, -1.57188588e+03,\n",
       "       -1.57651078e+03, -1.58101138e+03, -1.58536478e+03, -1.58957668e+03,\n",
       "       -1.59373148e+03, -1.59776298e+03, -1.60166688e+03, -1.60544368e+03,\n",
       "       -1.60917890e+03, -1.61274848e+03, -1.61631772e+03, -1.61987772e+03,\n",
       "       -1.62350322e+03, -1.62730092e+03, -1.63104292e+03, -1.63494102e+03,\n",
       "       -1.63894262e+03, -1.64300162e+03, -1.64731282e+03, -1.65168802e+03,\n",
       "       -1.65620392e+03, -1.66083452e+03, -1.66554692e+03, -1.67034442e+03,\n",
       "       -1.67523082e+03, -1.68024262e+03, -1.68536372e+03, -1.69061192e+03,\n",
       "       -1.69589732e+03, -1.70135062e+03, -1.70682642e+03, -1.71234422e+03,\n",
       "       -1.71798872e+03, -1.72368642e+03, -1.72940472e+03, -1.73512672e+03,\n",
       "       -1.74095152e+03, -1.74685192e+03, -1.75275362e+03, -1.75871142e+03,\n",
       "       -1.76466052e+03, -1.77075282e+03, -1.77668662e+03, -1.78270752e+03,\n",
       "       -1.78881372e+03, -1.79490832e+03, -1.80090352e+03, -1.80696872e+03,\n",
       "       -1.81300652e+03, -1.81909622e+03, -1.82523312e+03, -1.83127682e+03,\n",
       "       -1.83743832e+03, -1.84355812e+03, -1.84971902e+03, -1.85582292e+03,\n",
       "       -1.86194222e+03, -1.86818412e+03, -1.87425762e+03, -1.88040818e+03,\n",
       "       -1.88645516e+03, -1.89256252e+03, -1.89861314e+03, -1.90478294e+03,\n",
       "       -1.91096124e+03, -1.91705134e+03, -1.92314354e+03, -1.92929434e+03,\n",
       "       -1.93544104e+03, -1.94159124e+03, -1.94763494e+03, -1.95369134e+03,\n",
       "       -1.95974414e+03, -1.96573864e+03, -1.97172014e+03, -1.97761944e+03,\n",
       "       -1.98360264e+03, -1.98955344e+03, -1.99545494e+03, -2.00133674e+03,\n",
       "       -2.00730774e+03, -2.01308844e+03, -2.01893224e+03, -2.02466884e+03,\n",
       "       -2.03048334e+03, -2.03617084e+03, -2.04181074e+03, -2.04737774e+03,\n",
       "       -2.05297064e+03, -2.05866734e+03, -2.06404124e+03, -2.06946994e+03,\n",
       "       -2.07496064e+03, -2.08029564e+03, -2.08554564e+03, -2.09095034e+03,\n",
       "       -2.09625874e+03, -2.10154114e+03, -2.10687514e+03, -2.11236654e+03,\n",
       "       -2.11767714e+03, -2.12310782e+03, -2.12846076e+03, -2.13393736e+03,\n",
       "       -2.13935216e+03, -2.14486556e+03, -2.15048646e+03, -2.15611016e+03,\n",
       "       -2.16184596e+03, -2.16754296e+03, -2.17320906e+03, -2.17887676e+03,\n",
       "       -2.18475236e+03, -2.19067556e+03, -2.19672426e+03, -2.20264086e+03,\n",
       "       -2.20877016e+03, -2.21488746e+03, -2.22098846e+03, -2.22714126e+03,\n",
       "       -2.23323546e+03, -2.23937676e+03, -2.24553346e+03, -2.25176846e+03,\n",
       "       -2.25767086e+03, -2.26377336e+03, -2.26975286e+03, -2.27555526e+03,\n",
       "       -2.28158396e+03, -2.28739886e+03, -2.29311826e+03, -2.29872316e+03,\n",
       "       -2.30421736e+03, -2.30969566e+03, -2.31486156e+03, -2.31973836e+03,\n",
       "       -2.32444636e+03, -2.32893632e+03, -2.33319444e+03, -2.33720620e+03,\n",
       "       -2.34089886e+03, -2.34484566e+03, -2.34853046e+03, -2.35208856e+03,\n",
       "       -2.35599516e+03, -2.36017496e+03, -2.36440216e+03, -2.36903816e+03,\n",
       "       -2.37418946e+03, -2.37979336e+03, -2.38597586e+03, -2.39259506e+03,\n",
       "       -2.39976446e+03, -2.40733136e+03, -2.41499636e+03, -2.42290156e+03,\n",
       "       -2.43110926e+03, -2.43947296e+03, -2.44806906e+03, -2.45666446e+03,\n",
       "       -2.46550626e+03, -2.47433226e+03, -2.48342546e+03, -2.49262906e+03,\n",
       "       -2.50185586e+03, -2.51103246e+03, -2.52023696e+03, -2.52958470e+03,\n",
       "       -2.53894250e+03, -2.54839246e+03, -2.55792890e+03, -2.56745520e+03,\n",
       "       -2.57690700e+03, -2.58647640e+03, -2.59609120e+03, -2.60582740e+03,\n",
       "       -2.61545500e+03, -2.62504060e+03, -2.63477380e+03, -2.64456180e+03,\n",
       "       -2.65432200e+03, -2.66420370e+03, -2.67405380e+03, -2.68397960e+03,\n",
       "       -2.69386870e+03, -2.70368250e+03, -2.71367750e+03, -2.72359500e+03,\n",
       "       -2.73359700e+03, -2.74360830e+03, -2.75354810e+03, -2.76363210e+03,\n",
       "       -2.77371040e+03, -2.78387210e+03, -2.79384780e+03, -2.80397712e+03,\n",
       "       -2.81408428e+03, -2.82418306e+03, -2.83440396e+03, -2.84452806e+03,\n",
       "       -2.85473816e+03, -2.86488066e+03, -2.87522596e+03, -2.88550906e+03,\n",
       "       -2.89583036e+03, -2.90613796e+03, -2.91634806e+03, -2.92662136e+03,\n",
       "       -2.93698546e+03, -2.94731836e+03, -2.95748376e+03, -2.96777826e+03,\n",
       "       -2.97811966e+03, -2.98863556e+03, -2.99899326e+03, -3.00926636e+03,\n",
       "       -3.01972576e+03, -3.03030396e+03, -3.04073906e+03, -3.05105346e+03,\n",
       "       -3.06154536e+03, -3.07194156e+03, -3.08260624e+03, -3.09301138e+03,\n",
       "       -3.10346660e+03, -3.11400420e+03, -3.12443550e+03, -3.13495840e+03,\n",
       "       -3.14556110e+03, -3.15609680e+03, -3.16662630e+03, -3.17719460e+03,\n",
       "       -3.18770750e+03, -3.19826160e+03, -3.20882770e+03, -3.21942410e+03,\n",
       "       -3.22996140e+03, -3.24059960e+03, -3.25121720e+03, -3.26167900e+03,\n",
       "       -3.27229850e+03, -3.28289890e+03, -3.29352600e+03, -3.30413654e+03,\n",
       "       -3.31461966e+03, -3.32530444e+03, -3.33600942e+03, -3.34645352e+03,\n",
       "       -3.35707222e+03, -3.36761762e+03, -3.37831762e+03, -3.38893582e+03,\n",
       "       -3.39975262e+03, -3.41027952e+03, -3.42085242e+03, -3.43150272e+03,\n",
       "       -3.44238212e+03, -3.45283932e+03, -3.46355482e+03, -3.47418722e+03,\n",
       "       -3.48483732e+03, -3.49546462e+03, -3.50614012e+03, -3.51722062e+03,\n",
       "       -3.52775362e+03, -3.53819604e+03, -3.54874514e+03, -3.55948200e+03,\n",
       "       -3.56998944e+03, -3.58092654e+03, -3.59129614e+03, -3.60178504e+03,\n",
       "       -3.61256284e+03, -3.62317374e+03, -3.63373984e+03, -3.64425694e+03,\n",
       "       -3.65509794e+03, -3.66555164e+03, -3.67625434e+03, -3.68660144e+03,\n",
       "       -3.69748214e+03, -3.70776774e+03, -3.71841984e+03, -3.72930214e+03,\n",
       "       -3.73981464e+03, -3.75029412e+03, -3.76071898e+03, -3.77112416e+03,\n",
       "       -3.78157778e+03, -3.79230668e+03, -3.80339288e+03, -3.81352788e+03,\n",
       "       -3.82420028e+03, -3.83435958e+03, -3.84508378e+03, -3.85547138e+03,\n",
       "       -3.86583098e+03, -3.87644108e+03, -3.88650968e+03, -3.89715978e+03,\n",
       "       -3.90716878e+03, -3.91792748e+03, -3.92810268e+03, -3.93856488e+03,\n",
       "       -3.94917308e+03, -3.95935298e+03, -3.96941738e+03, -3.97945148e+03,\n",
       "       -3.99017378e+03])}\n",
       ")], dtype=object)"
      ]
     },
     "execution_count": 411,
     "metadata": {},
     "output_type": "execute_result"
    }
   ],
   "source": [
    "g.lnpi.values"
   ]
  },
  {
   "cell_type": "code",
   "execution_count": 316,
   "metadata": {},
   "outputs": [
    {
     "data": {
      "text/plain": [
       "lnz_0       phase\n",
       "-15.000000  0        661.0\n",
       "-14.992996  0        661.0\n",
       "-14.985993  0        661.0\n",
       "-14.978989  0        661.0\n",
       "-14.971986  0        661.0\n",
       "                     ...  \n",
       "-1.028014   1          1.0\n",
       "-1.021011   1          1.0\n",
       "-1.014007   1          1.0\n",
       "-1.007004   1          1.0\n",
       "-1.000000   1          1.0\n",
       "Length: 2436, dtype: float64"
      ]
     },
     "execution_count": 316,
     "metadata": {},
     "output_type": "execute_result"
    }
   ],
   "source": [
    "o.apply(lambda x: x.edge_distance(ref))#.rename('a').reset_index()"
   ]
  },
  {
   "cell_type": "code",
   "execution_count": 294,
   "metadata": {},
   "outputs": [],
   "source": [
    "x = np.random.rand(10, 50, 100)"
   ]
  },
  {
   "cell_type": "code",
   "execution_count": 313,
   "metadata": {},
   "outputs": [
    {
     "data": {
      "text/plain": [
       "(50, 100)"
      ]
     },
     "execution_count": 313,
     "metadata": {},
     "output_type": "execute_result"
    }
   ],
   "source": [
    "x.argmax(0).shape"
   ]
  },
  {
   "cell_type": "code",
   "execution_count": 307,
   "metadata": {},
   "outputs": [
    {
     "data": {
      "text/plain": [
       "<xarray.DataArray (dim_0: 10, dim_1: 50, dim_2: 100)>\n",
       "array([[[0.765569, 0.389089, ..., 0.526905, 0.071709],\n",
       "        [0.550355, 0.795824, ..., 0.838561, 0.359918],\n",
       "        ...,\n",
       "        [0.558839, 0.65387 , ..., 0.126346, 0.223707],\n",
       "        [0.174399, 0.899838, ..., 0.282832, 0.929229]],\n",
       "\n",
       "       [[0.857451, 0.301697, ..., 0.726695, 0.842213],\n",
       "        [0.446558, 0.616235, ..., 0.241773, 0.356235],\n",
       "        ...,\n",
       "        [0.963928, 0.700742, ..., 0.939286, 0.997221],\n",
       "        [0.803996, 0.113959, ..., 0.472927, 0.052169]],\n",
       "\n",
       "       ...,\n",
       "\n",
       "       [[0.744152, 0.655225, ..., 0.23757 , 0.991442],\n",
       "        [0.990989, 0.892694, ..., 0.130618, 0.946018],\n",
       "        ...,\n",
       "        [0.792166, 0.762449, ..., 0.658066, 0.383617],\n",
       "        [0.800098, 0.136349, ..., 0.87173 , 0.433201]],\n",
       "\n",
       "       [[0.65452 , 0.468809, ..., 0.040744, 0.423243],\n",
       "        [0.644746, 0.698693, ..., 0.553834, 0.679632],\n",
       "        ...,\n",
       "        [0.081806, 0.303534, ..., 0.902986, 0.008873],\n",
       "        [0.937665, 0.558451, ..., 0.065394, 0.002014]]])\n",
       "Dimensions without coordinates: dim_0, dim_1, dim_2"
      ]
     },
     "execution_count": 307,
     "metadata": {},
     "output_type": "execute_result"
    }
   ],
   "source": [
    "xr.DataArray(x)"
   ]
  },
  {
   "cell_type": "code",
   "execution_count": 271,
   "metadata": {},
   "outputs": [
    {
     "data": {
      "text/plain": [
       "array([[0.99972453, 0.12636406, 0.59521565, ..., 0.82653241, 0.96384977,\n",
       "        0.22437507],\n",
       "       [0.76870249, 0.99634404, 0.29847943, ..., 0.99833765, 0.05431127,\n",
       "        0.30129835],\n",
       "       [0.26883653, 0.74458713, 0.99676196, ..., 0.89385399, 0.98397511,\n",
       "        0.5069612 ],\n",
       "       ...,\n",
       "       [0.76870249, 0.99634404, 0.29847943, ..., 0.99833765, 0.05431127,\n",
       "        0.30129835],\n",
       "       [0.86386758, 0.28915255, 0.07334557, ..., 0.0857455 , 0.99916806,\n",
       "        0.75445144],\n",
       "       [0.27700681, 0.64820121, 0.1815117 , ..., 0.25710824, 0.51222945,\n",
       "        0.99085147]])"
      ]
     },
     "execution_count": 271,
     "metadata": {},
     "output_type": "execute_result"
    }
   ],
   "source": [
    "x[x.argmax(0)]"
   ]
  },
  {
   "cell_type": "code",
   "execution_count": 266,
   "metadata": {},
   "outputs": [
    {
     "data": {
      "text/plain": [
       "(array([26]), array([0]))"
      ]
     },
     "execution_count": 266,
     "metadata": {},
     "output_type": "execute_result"
    }
   ],
   "source": [
    "np.where(x == x.max())"
   ]
  },
  {
   "cell_type": "code",
   "execution_count": null,
   "metadata": {},
   "outputs": [],
   "source": [
    "xr.Da"
   ]
  },
  {
   "cell_type": "code",
   "execution_count": 264,
   "metadata": {},
   "outputs": [
    {
     "data": {
      "text/plain": [
       "<xarray.DataArray 'lnpi' (sample: 2436)>\n",
       "array([  0,   0,   0, ..., 660, 660, 660])\n",
       "Coordinates:\n",
       "    beta     float64 1.429\n",
       "  * sample   (sample) MultiIndex\n",
       "  - lnz_0    (sample) float64 -15.0 -14.99 -14.99 -14.98 ... -1.014 -1.007 -1.0\n",
       "  - phase    (sample) int64 0 0 0 0 0 0 0 0 0 0 0 0 ... 1 1 1 1 1 1 1 1 1 1 1 1\n",
       "    temp     float64 0.7\n",
       "    volume   int64 729"
      ]
     },
     "execution_count": 264,
     "metadata": {},
     "output_type": "execute_result"
    }
   ],
   "source": [
    "o.vgce.lnpi.argmax('n_0')"
   ]
  },
  {
   "cell_type": "code",
   "execution_count": 254,
   "metadata": {},
   "outputs": [
    {
     "data": {
      "text/plain": [
       "(72, 64)"
      ]
     },
     "execution_count": 254,
     "metadata": {},
     "output_type": "execute_result"
    }
   ],
   "source": [
    "np.unravel_index(7264, shape=x.shape)"
   ]
  },
  {
   "cell_type": "code",
   "execution_count": 252,
   "metadata": {},
   "outputs": [
    {
     "data": {
      "text/plain": [
       "7264"
      ]
     },
     "execution_count": 252,
     "metadata": {},
     "output_type": "execute_result"
    }
   ],
   "source": [
    "x.argmax()"
   ]
  },
  {
   "cell_type": "code",
   "execution_count": 245,
   "metadata": {},
   "outputs": [
    {
     "data": {
      "text/plain": [
       "array([[  0],\n",
       "       [  0],\n",
       "       [  0],\n",
       "       ...,\n",
       "       [660],\n",
       "       [660],\n",
       "       [660]])"
      ]
     },
     "execution_count": 245,
     "metadata": {},
     "output_type": "execute_result"
    }
   ],
   "source": [
    "o.vgce.argmax()"
   ]
  },
  {
   "cell_type": "code",
   "execution_count": 244,
   "metadata": {},
   "outputs": [
    {
     "data": {
      "text/plain": [
       "<xarray.DataArray 'dens' (sample: 2436, component: 1)>\n",
       "array([[2.308293e-04],\n",
       "       [2.324585e-04],\n",
       "       [2.340993e-04],\n",
       "       ...,\n",
       "       [9.053496e-01],\n",
       "       [9.053496e-01],\n",
       "       [9.053496e-01]])\n",
       "Coordinates:\n",
       "    volume   int64 729\n",
       "    temp     float64 0.7\n",
       "    beta     float64 1.429\n",
       "  * sample   (sample) MultiIndex\n",
       "  - lnz_0    (sample) float64 -15.0 -14.99 -14.99 -14.98 ... -1.014 -1.007 -1.0\n",
       "  - phase    (sample) int64 0 0 0 0 0 0 0 0 0 0 0 0 ... 1 1 1 1 1 1 1 1 1 1 1 1\n",
       "Dimensions without coordinates: component\n",
       "Attributes:\n",
       "    dims_n:      ['n_0']\n",
       "    dims_lnz:    ['lnz_0']\n",
       "    dims_comp:   ['component']\n",
       "    dims_state:  ['lnz_0', 'volume', 'temp', 'beta']\n",
       "    long_name:   ${\\bf \\rho}(\\mu,V,T)$"
      ]
     },
     "execution_count": 244,
     "metadata": {},
     "output_type": "execute_result"
    }
   ],
   "source": [
    "(\n",
    "    o.iloc[:].apply(lambda x: x.xgce.dens)\n",
    "    .pipe(lambda x: xr.concat(x.values, 'sample').drop('lnz_0').assign_coords(**{'sample':x.index}))\n",
    "    \n",
    ")"
   ]
  },
  {
   "cell_type": "code",
   "execution_count": 154,
   "metadata": {},
   "outputs": [
    {
     "data": {
      "application/vnd.jupyter.widget-view+json": {
       "model_id": "",
       "version_major": 2,
       "version_minor": 0
      },
      "text/plain": [
       "HBox(children=(IntProgress(value=0, description='edge_distance', max=2436, style=ProgressStyle(description_wid…"
      ]
     },
     "metadata": {},
     "output_type": "display_data"
    },
    {
     "name": "stdout",
     "output_type": "stream",
     "text": [
      "\r"
     ]
    }
   ],
   "source": [
    "a=o.vgce.edge_distance(ref).unstack()#.plot(hue='phase')\n",
    "\n",
    "b=c.xgce.edge_distance(ref).swap_dims({'rec':'lnz_0'})#.plot(hue='phase')"
   ]
  },
  {
   "cell_type": "code",
   "execution_count": 162,
   "metadata": {},
   "outputs": [
    {
     "data": {
      "application/vnd.jupyter.widget-view+json": {
       "model_id": "",
       "version_major": 2,
       "version_minor": 0
      },
      "text/plain": [
       "HBox(children=(IntProgress(value=0, description='max', max=2436, style=ProgressStyle(description_width='initia…"
      ]
     },
     "metadata": {},
     "output_type": "display_data"
    },
    {
     "name": "stdout",
     "output_type": "stream",
     "text": [
      "\r"
     ]
    },
    {
     "data": {
      "text/plain": [
       "array([ -18.0616103 ,  -18.0616103 ,  -18.0616103 , ..., 7381.56518392,\n",
       "       7386.18749507, 7390.80980623])"
      ]
     },
     "execution_count": 162,
     "metadata": {},
     "output_type": "execute_result"
    }
   ],
   "source": [
    "c.xgce.max()"
   ]
  },
  {
   "cell_type": "code",
   "execution_count": 169,
   "metadata": {},
   "outputs": [
    {
     "data": {
      "text/plain": [
       "<xarray.DataArray 'lnpi' (sample: 2436)>\n",
       "array([ -18.06161 ,  -18.06161 ,  -18.06161 , ..., 7381.565184, 7386.187495,\n",
       "       7390.809806])\n",
       "Coordinates:\n",
       "    beta     float64 1.429\n",
       "  * sample   (sample) MultiIndex\n",
       "  - lnz_0    (sample) float64 -15.0 -14.99 -14.99 -14.98 ... -1.014 -1.007 -1.0\n",
       "  - phase    (sample) int64 0 0 0 0 0 0 0 0 0 0 0 0 ... 1 1 1 1 1 1 1 1 1 1 1 1\n",
       "    temp     float64 0.7\n",
       "    volume   int64 729"
      ]
     },
     "execution_count": 169,
     "metadata": {},
     "output_type": "execute_result"
    }
   ],
   "source": [
    "o.vgce.lnpi.max('n_0')"
   ]
  },
  {
   "cell_type": "code",
   "execution_count": 159,
   "metadata": {},
   "outputs": [
    {
     "data": {
      "text/plain": [
       "array([[0],\n",
       "       [0],\n",
       "       [0],\n",
       "       [0],\n",
       "       [0],\n",
       "       [0],\n",
       "       [0],\n",
       "       [0],\n",
       "       [0],\n",
       "       [0]])"
      ]
     },
     "execution_count": 159,
     "metadata": {},
     "output_type": "execute_result"
    }
   ],
   "source": [
    "c[:10].xgce.argmax()"
   ]
  },
  {
   "cell_type": "code",
   "execution_count": 157,
   "metadata": {},
   "outputs": [
    {
     "data": {
      "text/plain": [
       "<xarray.DataArray 'edge_distance' ()>\n",
       "array(0.)\n",
       "Coordinates:\n",
       "    volume   int64 729\n",
       "    temp     float64 0.7\n",
       "    beta     float64 1.429"
      ]
     },
     "execution_count": 157,
     "metadata": {},
     "output_type": "execute_result"
    }
   ],
   "source": []
  },
  {
   "cell_type": "code",
   "execution_count": 95,
   "metadata": {},
   "outputs": [
    {
     "data": {
      "text/plain": [
       "(557,)"
      ]
     },
     "execution_count": 95,
     "metadata": {},
     "output_type": "execute_result"
    }
   ],
   "source": [
    "o.iloc[300].local_argmax()"
   ]
  },
  {
   "cell_type": "code",
   "execution_count": 103,
   "metadata": {},
   "outputs": [
    {
     "data": {
      "text/plain": [
       "<xarray.DataArray 'lnz_0' (sample: 2436)>\n",
       "array([-15.      , -14.992996, -14.985993, ...,  -1.014007,  -1.007004,\n",
       "        -1.      ])\n",
       "Coordinates:\n",
       "    beta     float64 1.429\n",
       "  * sample   (sample) MultiIndex\n",
       "  - lnz_0    (sample) float64 -15.0 -14.99 -14.99 -14.98 ... -1.014 -1.007 -1.0\n",
       "  - phase    (sample) int64 0 0 0 0 0 0 0 0 0 0 0 0 ... 1 1 1 1 1 1 1 1 1 1 1 1\n",
       "    temp     float64 0.7\n",
       "    volume   int64 729"
      ]
     },
     "execution_count": 103,
     "metadata": {},
     "output_type": "execute_result"
    }
   ],
   "source": [
    "o.vgce.coords_state['lnz_0']"
   ]
  },
  {
   "cell_type": "code",
   "execution_count": 136,
   "metadata": {},
   "outputs": [
    {
     "data": {
      "text/plain": [
       "<xarray.DataArray (sample: 2436)>\n",
       "array([661., 661., 661., ...,   1.,   1.,   1.])\n",
       "Coordinates:\n",
       "  * sample   (sample) MultiIndex\n",
       "  - lnz_0    (sample) float64 -15.0 -14.99 -14.99 -14.98 ... -1.014 -1.007 -1.0\n",
       "  - phase    (sample) int64 0 0 0 0 0 0 0 0 0 0 0 0 ... 1 1 1 1 1 1 1 1 1 1 1 1\n",
       "    volume   int64 729\n",
       "    temp     float64 0.7\n",
       "    beta     float64 1.429"
      ]
     },
     "execution_count": 136,
     "metadata": {},
     "output_type": "execute_result"
    }
   ],
   "source": [
    "xr.DataArray([x.edge_distance(ref) for x in o], dims=o.vgce.dims_rec, coords=o.vgce._rec_coords)"
   ]
  },
  {
   "cell_type": "code",
   "execution_count": 113,
   "metadata": {},
   "outputs": [
    {
     "data": {
      "text/plain": [
       "<xarray.DataArray 'lnpi' (sample: 2436)>\n",
       "array([  0,   0,   0, ..., 660, 660, 660])\n",
       "Coordinates:\n",
       "    beta     float64 1.429\n",
       "  * sample   (sample) MultiIndex\n",
       "  - lnz_0    (sample) float64 -15.0 -14.99 -14.99 -14.98 ... -1.014 -1.007 -1.0\n",
       "  - phase    (sample) int64 0 0 0 0 0 0 0 0 0 0 0 0 ... 1 1 1 1 1 1 1 1 1 1 1 1\n",
       "    temp     float64 0.7\n",
       "    volume   int64 729"
      ]
     },
     "execution_count": 113,
     "metadata": {},
     "output_type": "execute_result"
    }
   ],
   "source": [
    "o.vgce.pi_norm.argmax('n_0')"
   ]
  },
  {
   "cell_type": "code",
   "execution_count": 106,
   "metadata": {},
   "outputs": [
    {
     "data": {
      "text/plain": [
       "(557,)"
      ]
     },
     "execution_count": 106,
     "metadata": {},
     "output_type": "execute_result"
    }
   ],
   "source": [
    "o.iloc[300].local_argmax()"
   ]
  },
  {
   "cell_type": "code",
   "execution_count": 99,
   "metadata": {},
   "outputs": [
    {
     "data": {
      "application/vnd.jupyter.widget-view+json": {
       "model_id": "",
       "version_major": 2,
       "version_minor": 0
      },
      "text/plain": [
       "HBox(children=(IntProgress(value=0, description='edge_distance', max=200, style=ProgressStyle(description_widt…"
      ]
     },
     "metadata": {},
     "output_type": "display_data"
    },
    {
     "name": "stdout",
     "output_type": "stream",
     "text": [
      "\r"
     ]
    },
    {
     "data": {
      "text/plain": [
       "<xarray.DataArray 'edge_distance' (rec: 100, phase: 2)>\n",
       "array([[660.,  83.],\n",
       "       [660.,  83.],\n",
       "       [660.,  83.],\n",
       "       [660.,  82.],\n",
       "       [660.,  82.],\n",
       "       [660.,  82.],\n",
       "       [660.,  82.],\n",
       "       [660.,  82.],\n",
       "       [660.,  82.],\n",
       "       [660.,  81.],\n",
       "       [660.,  81.],\n",
       "       [660.,  80.],\n",
       "       [660.,  79.],\n",
       "       [660.,  79.],\n",
       "       [660.,  79.],\n",
       "       [660.,  79.],\n",
       "       [660.,  79.],\n",
       "       [660.,  79.],\n",
       "       [660.,  78.],\n",
       "       [660.,  78.],\n",
       "       [660.,  78.],\n",
       "       [660.,  77.],\n",
       "       [660.,  77.],\n",
       "       [660.,  77.],\n",
       "       [660.,  76.],\n",
       "       [660.,  76.],\n",
       "       [660.,  76.],\n",
       "       [660.,  76.],\n",
       "       [660.,  76.],\n",
       "       [660.,  76.],\n",
       "       [660.,  74.],\n",
       "       [660.,  74.],\n",
       "       [660.,  74.],\n",
       "       [660.,  74.],\n",
       "       [660.,  74.],\n",
       "       [660.,  74.],\n",
       "       [660.,  74.],\n",
       "       [660.,  74.],\n",
       "       [660.,  73.],\n",
       "       [660.,  72.],\n",
       "       [660.,  72.],\n",
       "       [660.,  72.],\n",
       "       [660.,  72.],\n",
       "       [660.,  72.],\n",
       "       [660.,  72.],\n",
       "       [660.,  72.],\n",
       "       [660.,  71.],\n",
       "       [660.,  70.],\n",
       "       [660.,  70.],\n",
       "       [660.,  70.],\n",
       "       [660.,  70.],\n",
       "       [659.,  70.],\n",
       "       [659.,  69.],\n",
       "       [659.,  69.],\n",
       "       [659.,  69.],\n",
       "       [659.,  69.],\n",
       "       [659.,  68.],\n",
       "       [659.,  68.],\n",
       "       [659.,  68.],\n",
       "       [659.,  67.],\n",
       "       [659.,  67.],\n",
       "       [659.,  67.],\n",
       "       [659.,  67.],\n",
       "       [659.,  67.],\n",
       "       [659.,  67.],\n",
       "       [659.,  66.],\n",
       "       [659.,  66.],\n",
       "       [659.,  66.],\n",
       "       [659.,  66.],\n",
       "       [659.,  66.],\n",
       "       [659.,  65.],\n",
       "       [659.,  65.],\n",
       "       [659.,  65.],\n",
       "       [659.,  65.],\n",
       "       [659.,  64.],\n",
       "       [659.,  64.],\n",
       "       [659.,  64.],\n",
       "       [659.,  64.],\n",
       "       [659.,  63.],\n",
       "       [659.,  63.],\n",
       "       [659.,  63.],\n",
       "       [659.,  63.],\n",
       "       [659.,  62.],\n",
       "       [659.,  62.],\n",
       "       [659.,  62.],\n",
       "       [659.,  62.],\n",
       "       [659.,  62.],\n",
       "       [659.,  62.],\n",
       "       [659.,  62.],\n",
       "       [659.,  60.],\n",
       "       [659.,  60.],\n",
       "       [659.,  60.],\n",
       "       [659.,  60.],\n",
       "       [659.,  60.],\n",
       "       [659.,  60.],\n",
       "       [659.,  60.],\n",
       "       [659.,  60.],\n",
       "       [659.,  59.],\n",
       "       [659.,  59.],\n",
       "       [659.,  58.]])\n",
       "Coordinates:\n",
       "    volume   int64 729\n",
       "    temp     float64 0.7\n",
       "    beta     float64 1.429\n",
       "    lnz_0    (rec) float64 -12.9 -12.89 -12.88 -12.88 ... -12.22 -12.21 -12.21\n",
       "  * rec      (rec) int64 300 301 302 303 304 305 306 ... 394 395 396 397 398 399\n",
       "  * phase    (phase) int64 0 1\n",
       "Attributes:\n",
       "    dims_n:      ['n_0']\n",
       "    dims_lnz:    ['lnz_0']\n",
       "    dims_comp:   ['component']\n",
       "    dims_state:  ['lnz_0', 'volume', 'temp', 'beta']\n",
       "    long_name:   distance from upper edge"
      ]
     },
     "execution_count": 99,
     "metadata": {},
     "output_type": "execute_result"
    }
   ],
   "source": [
    "c[300:400].xgce.edge_distance(ref)"
   ]
  },
  {
   "cell_type": "code",
   "execution_count": 92,
   "metadata": {},
   "outputs": [
    {
     "data": {
      "text/plain": [
       "[(0,),\n",
       " (0,),\n",
       " (0,),\n",
       " (0,),\n",
       " (0,),\n",
       " (0,),\n",
       " (0,),\n",
       " (0,),\n",
       " (0,),\n",
       " (0,),\n",
       " (0,),\n",
       " (0,),\n",
       " (0,),\n",
       " (0,),\n",
       " (0,),\n",
       " (0,),\n",
       " (0,),\n",
       " (0,),\n",
       " (0,),\n",
       " (0,),\n",
       " (0,),\n",
       " (0,),\n",
       " (0,),\n",
       " (0,),\n",
       " (0,),\n",
       " (0,),\n",
       " (0,),\n",
       " (0,),\n",
       " (0,),\n",
       " (0,),\n",
       " (0,),\n",
       " (0,),\n",
       " (0,),\n",
       " (0,),\n",
       " (0,),\n",
       " (0,),\n",
       " (0,),\n",
       " (0,),\n",
       " (0,),\n",
       " (0,),\n",
       " (0,),\n",
       " (0,),\n",
       " (0,),\n",
       " (0,),\n",
       " (0,),\n",
       " (0,),\n",
       " (0,),\n",
       " (0,),\n",
       " (0,),\n",
       " (0,),\n",
       " (0,),\n",
       " (0,),\n",
       " (0,),\n",
       " (0,),\n",
       " (0,),\n",
       " (0,),\n",
       " (0,),\n",
       " (0,),\n",
       " (0,),\n",
       " (0,),\n",
       " (0,),\n",
       " (0,),\n",
       " (0,),\n",
       " (0,),\n",
       " (0,),\n",
       " (0,),\n",
       " (0,),\n",
       " (0,),\n",
       " (0,),\n",
       " (0,),\n",
       " (0,),\n",
       " (0,),\n",
       " (0,),\n",
       " (0,),\n",
       " (0,),\n",
       " (0,),\n",
       " (0,),\n",
       " (0,),\n",
       " (0,),\n",
       " (0,),\n",
       " (0,),\n",
       " (0,),\n",
       " (0,),\n",
       " (0,),\n",
       " (0,),\n",
       " (0,),\n",
       " (0,),\n",
       " (0,),\n",
       " (0,),\n",
       " (0,),\n",
       " (0,),\n",
       " (0,),\n",
       " (0,),\n",
       " (0,),\n",
       " (0,),\n",
       " (0,),\n",
       " (0,),\n",
       " (0,),\n",
       " (0,),\n",
       " (0,),\n",
       " (0,),\n",
       " (0,),\n",
       " (0,),\n",
       " (0,),\n",
       " (0,),\n",
       " (0,),\n",
       " (0,),\n",
       " (0,),\n",
       " (0,),\n",
       " (0,),\n",
       " (0,),\n",
       " (0,),\n",
       " (0,),\n",
       " (0,),\n",
       " (0,),\n",
       " (0,),\n",
       " (0,),\n",
       " (0,),\n",
       " (0,),\n",
       " (0,),\n",
       " (0,),\n",
       " (0,),\n",
       " (0,),\n",
       " (0,),\n",
       " (0,),\n",
       " (0,),\n",
       " (0,),\n",
       " (0,),\n",
       " (0,),\n",
       " (0,),\n",
       " (0,),\n",
       " (0,),\n",
       " (0,),\n",
       " (0,),\n",
       " (0,),\n",
       " (0,),\n",
       " (0,),\n",
       " (0,),\n",
       " (0,),\n",
       " (0,),\n",
       " (0,),\n",
       " (0,),\n",
       " (0,),\n",
       " (0,),\n",
       " (0,),\n",
       " (0,),\n",
       " (0,),\n",
       " (0,),\n",
       " (0,),\n",
       " (0,),\n",
       " (0,),\n",
       " (0,),\n",
       " (0,),\n",
       " (0,),\n",
       " (0,),\n",
       " (0,),\n",
       " (0,),\n",
       " (0,),\n",
       " (0,),\n",
       " (0,),\n",
       " (0,),\n",
       " (0,),\n",
       " (0,),\n",
       " (0,),\n",
       " (0,),\n",
       " (0,),\n",
       " (0,),\n",
       " (0,),\n",
       " (0,),\n",
       " (0,),\n",
       " (0,),\n",
       " (0,),\n",
       " (0,),\n",
       " (0,),\n",
       " (0,),\n",
       " (0,),\n",
       " (0,),\n",
       " (0,),\n",
       " (0,),\n",
       " (0,),\n",
       " (0,),\n",
       " (0,),\n",
       " (0,),\n",
       " (0,),\n",
       " (0,),\n",
       " (0,),\n",
       " (524,),\n",
       " (0,),\n",
       " (525,),\n",
       " (0,),\n",
       " (526,),\n",
       " (0,),\n",
       " (528,),\n",
       " (0,),\n",
       " (528,),\n",
       " (0,),\n",
       " (529,),\n",
       " (0,),\n",
       " (529,),\n",
       " (0,),\n",
       " (530,),\n",
       " (0,),\n",
       " (532,),\n",
       " (0,),\n",
       " (532,),\n",
       " (0,),\n",
       " (532,),\n",
       " (0,),\n",
       " (533,),\n",
       " (0,),\n",
       " (534,),\n",
       " (0,),\n",
       " (535,),\n",
       " (0,),\n",
       " (535,),\n",
       " (0,),\n",
       " (536,),\n",
       " (0,),\n",
       " (536,),\n",
       " (0,),\n",
       " (538,),\n",
       " (0,),\n",
       " (539,),\n",
       " (0,),\n",
       " (539,),\n",
       " (0,),\n",
       " (539,),\n",
       " (0,),\n",
       " (540,),\n",
       " (0,),\n",
       " (542,),\n",
       " (0,),\n",
       " (542,),\n",
       " (0,),\n",
       " (542,),\n",
       " (0,),\n",
       " (543,),\n",
       " (0,),\n",
       " (543,),\n",
       " (0,),\n",
       " (544,),\n",
       " (0,),\n",
       " (544,),\n",
       " (0,),\n",
       " (545,),\n",
       " (0,),\n",
       " (545,),\n",
       " (0,),\n",
       " (545,),\n",
       " (0,),\n",
       " (546,),\n",
       " (0,),\n",
       " (547,),\n",
       " (0,),\n",
       " (547,),\n",
       " (0,),\n",
       " (548,),\n",
       " (0,),\n",
       " (548,),\n",
       " (0,),\n",
       " (548,),\n",
       " (0,),\n",
       " (550,),\n",
       " (0,),\n",
       " (550,),\n",
       " (0,),\n",
       " (550,),\n",
       " (0,),\n",
       " (551,),\n",
       " (0,),\n",
       " (551,),\n",
       " (0,),\n",
       " (551,),\n",
       " (0,),\n",
       " (552,),\n",
       " (0,),\n",
       " (553,),\n",
       " (0,),\n",
       " (553,),\n",
       " (0,),\n",
       " (553,),\n",
       " (0,),\n",
       " (554,),\n",
       " (0,),\n",
       " (555,),\n",
       " (0,),\n",
       " (555,),\n",
       " (0,),\n",
       " (556,),\n",
       " (0,),\n",
       " (556,),\n",
       " (0,),\n",
       " (556,),\n",
       " (0,),\n",
       " (557,),\n",
       " (0,),\n",
       " (557,),\n",
       " (0,),\n",
       " (557,),\n",
       " (0,),\n",
       " (557,),\n",
       " (0,),\n",
       " (557,),\n",
       " (0,),\n",
       " (559,),\n",
       " (0,),\n",
       " (559,),\n",
       " (0,),\n",
       " (559,),\n",
       " (0,),\n",
       " (560,),\n",
       " (0,),\n",
       " (560,),\n",
       " (0,),\n",
       " (560,),\n",
       " (0,),\n",
       " (561,),\n",
       " (0,),\n",
       " (562,),\n",
       " (0,),\n",
       " (562,),\n",
       " (0,),\n",
       " (562,),\n",
       " (0,),\n",
       " (562,),\n",
       " (0,),\n",
       " (563,),\n",
       " (1,),\n",
       " (563,),\n",
       " (1,),\n",
       " (564,),\n",
       " (1,),\n",
       " (564,),\n",
       " (1,),\n",
       " (564,),\n",
       " (1,),\n",
       " (565,),\n",
       " (1,),\n",
       " (565,),\n",
       " (1,),\n",
       " (565,),\n",
       " (1,),\n",
       " (566,),\n",
       " (1,),\n",
       " (566,),\n",
       " (1,),\n",
       " (567,),\n",
       " (1,),\n",
       " (567,),\n",
       " (1,),\n",
       " (567,),\n",
       " (1,),\n",
       " (567,),\n",
       " (1,),\n",
       " (568,),\n",
       " (1,),\n",
       " (568,),\n",
       " (1,),\n",
       " (568,),\n",
       " (1,),\n",
       " (568,),\n",
       " (1,),\n",
       " (568,),\n",
       " (1,),\n",
       " (569,),\n",
       " (1,),\n",
       " (569,),\n",
       " (1,),\n",
       " (570,),\n",
       " (1,),\n",
       " (570,),\n",
       " (1,),\n",
       " (571,),\n",
       " (1,),\n",
       " (571,),\n",
       " (1,),\n",
       " (572,),\n",
       " (1,),\n",
       " (572,),\n",
       " (1,),\n",
       " (572,),\n",
       " (1,),\n",
       " (572,),\n",
       " (1,),\n",
       " (572,),\n",
       " (1,),\n",
       " (573,),\n",
       " (1,),\n",
       " (573,),\n",
       " (1,),\n",
       " (573,),\n",
       " (1,),\n",
       " (574,),\n",
       " (1,),\n",
       " (574,),\n",
       " (1,),\n",
       " (574,),\n",
       " (1,),\n",
       " (575,),\n",
       " (1,),\n",
       " (575,),\n",
       " (1,),\n",
       " (575,),\n",
       " (1,),\n",
       " (576,),\n",
       " (1,),\n",
       " (576,),\n",
       " (1,),\n",
       " (577,),\n",
       " (1,),\n",
       " (577,),\n",
       " (1,),\n",
       " (577,),\n",
       " (1,),\n",
       " (577,),\n",
       " (1,),\n",
       " (578,),\n",
       " (1,),\n",
       " (578,),\n",
       " (1,),\n",
       " (578,),\n",
       " (1,),\n",
       " (579,),\n",
       " (1,),\n",
       " (579,),\n",
       " (1,),\n",
       " (579,),\n",
       " (1,),\n",
       " (579,),\n",
       " (1,),\n",
       " (579,),\n",
       " (1,),\n",
       " (579,),\n",
       " (1,),\n",
       " (580,),\n",
       " (1,),\n",
       " (580,),\n",
       " (1,),\n",
       " (581,),\n",
       " (1,),\n",
       " (582,),\n",
       " (1,),\n",
       " (582,),\n",
       " (1,),\n",
       " (582,),\n",
       " (1,),\n",
       " (582,),\n",
       " (1,),\n",
       " (582,),\n",
       " (1,),\n",
       " (582,),\n",
       " (1,),\n",
       " (583,),\n",
       " (1,),\n",
       " (583,),\n",
       " (1,),\n",
       " (583,),\n",
       " (1,),\n",
       " (584,),\n",
       " (1,),\n",
       " (584,),\n",
       " (1,),\n",
       " (584,),\n",
       " (1,),\n",
       " (585,),\n",
       " (1,),\n",
       " (585,),\n",
       " (1,),\n",
       " (585,),\n",
       " (1,),\n",
       " (585,),\n",
       " (1,),\n",
       " (585,),\n",
       " (1,),\n",
       " (585,),\n",
       " (1,),\n",
       " (587,),\n",
       " (1,),\n",
       " (587,),\n",
       " (1,),\n",
       " (587,),\n",
       " (1,),\n",
       " (587,),\n",
       " (1,),\n",
       " (587,),\n",
       " (1,),\n",
       " (587,),\n",
       " (1,),\n",
       " (587,),\n",
       " (1,),\n",
       " (587,),\n",
       " (1,),\n",
       " (588,),\n",
       " (1,),\n",
       " (589,),\n",
       " (1,),\n",
       " (589,),\n",
       " (1,),\n",
       " (589,),\n",
       " (1,),\n",
       " (589,),\n",
       " (1,),\n",
       " (589,),\n",
       " (1,),\n",
       " (589,),\n",
       " (1,),\n",
       " (589,),\n",
       " (1,),\n",
       " (590,),\n",
       " (1,),\n",
       " (591,),\n",
       " (1,),\n",
       " (591,),\n",
       " (1,),\n",
       " (591,),\n",
       " (1,),\n",
       " (591,),\n",
       " (2,),\n",
       " (591,),\n",
       " (2,),\n",
       " (592,),\n",
       " (2,),\n",
       " (592,),\n",
       " (2,),\n",
       " (592,),\n",
       " (2,),\n",
       " (592,),\n",
       " (2,),\n",
       " (593,),\n",
       " (2,),\n",
       " (593,),\n",
       " (2,),\n",
       " (593,),\n",
       " (2,),\n",
       " (594,),\n",
       " (2,),\n",
       " (594,),\n",
       " (2,),\n",
       " (594,),\n",
       " (2,),\n",
       " (594,),\n",
       " (2,),\n",
       " (594,),\n",
       " (2,),\n",
       " (594,),\n",
       " (2,),\n",
       " (595,),\n",
       " (2,),\n",
       " (595,),\n",
       " (2,),\n",
       " (595,),\n",
       " (2,),\n",
       " (595,),\n",
       " (2,),\n",
       " (595,),\n",
       " (2,),\n",
       " (596,),\n",
       " (2,),\n",
       " (596,),\n",
       " (2,),\n",
       " (596,),\n",
       " (2,),\n",
       " (596,),\n",
       " (2,),\n",
       " (597,),\n",
       " (2,),\n",
       " (597,),\n",
       " (2,),\n",
       " (597,),\n",
       " (2,),\n",
       " (597,),\n",
       " (2,),\n",
       " (598,),\n",
       " (2,),\n",
       " (598,),\n",
       " (2,),\n",
       " (598,),\n",
       " (2,),\n",
       " (598,),\n",
       " (2,),\n",
       " (599,),\n",
       " (2,),\n",
       " (599,),\n",
       " (2,),\n",
       " (599,),\n",
       " (2,),\n",
       " (599,),\n",
       " (2,),\n",
       " (599,),\n",
       " (2,),\n",
       " (599,),\n",
       " (2,),\n",
       " (599,),\n",
       " (2,),\n",
       " (601,),\n",
       " (2,),\n",
       " (601,),\n",
       " (2,),\n",
       " (601,),\n",
       " (2,),\n",
       " (601,),\n",
       " (2,),\n",
       " (601,),\n",
       " (2,),\n",
       " (601,),\n",
       " (2,),\n",
       " (601,),\n",
       " (2,),\n",
       " (601,),\n",
       " (2,),\n",
       " (602,),\n",
       " (2,),\n",
       " (602,),\n",
       " (2,),\n",
       " (603,),\n",
       " (2,),\n",
       " (603,),\n",
       " (2,),\n",
       " (603,),\n",
       " (2,),\n",
       " (603,),\n",
       " (2,),\n",
       " (603,),\n",
       " (2,),\n",
       " (603,),\n",
       " (3,),\n",
       " (603,),\n",
       " (3,),\n",
       " (604,),\n",
       " (3,),\n",
       " (604,),\n",
       " (3,),\n",
       " (605,),\n",
       " (3,),\n",
       " (605,),\n",
       " (3,),\n",
       " (605,),\n",
       " (3,),\n",
       " (605,),\n",
       " (3,),\n",
       " (605,),\n",
       " (3,),\n",
       " (606,),\n",
       " (3,),\n",
       " (606,),\n",
       " (3,),\n",
       " (607,),\n",
       " (3,),\n",
       " (607,),\n",
       " (3,),\n",
       " (607,),\n",
       " (3,),\n",
       " (607,),\n",
       " (3,),\n",
       " (607,),\n",
       " (3,),\n",
       " (607,),\n",
       " (3,),\n",
       " (607,),\n",
       " (3,),\n",
       " (607,),\n",
       " (3,),\n",
       " (607,),\n",
       " (3,),\n",
       " (607,),\n",
       " (3,),\n",
       " (607,),\n",
       " (3,),\n",
       " (608,),\n",
       " (3,),\n",
       " (609,),\n",
       " (3,),\n",
       " (609,),\n",
       " (3,),\n",
       " (609,),\n",
       " (3,),\n",
       " (609,),\n",
       " (3,),\n",
       " (609,),\n",
       " (3,),\n",
       " (609,),\n",
       " (3,),\n",
       " (609,),\n",
       " (3,),\n",
       " (610,),\n",
       " (3,),\n",
       " (610,),\n",
       " (3,),\n",
       " (610,),\n",
       " (3,),\n",
       " (610,),\n",
       " (3,),\n",
       " (610,),\n",
       " (3,),\n",
       " (610,),\n",
       " (3,),\n",
       " (611,),\n",
       " (3,),\n",
       " (611,),\n",
       " (3,),\n",
       " (611,),\n",
       " (4,),\n",
       " (611,),\n",
       " (4,),\n",
       " (611,),\n",
       " (4,),\n",
       " (612,),\n",
       " (4,),\n",
       " (612,),\n",
       " (4,),\n",
       " (612,),\n",
       " (4,),\n",
       " (612,),\n",
       " (4,),\n",
       " (612,),\n",
       " (4,),\n",
       " (612,),\n",
       " (4,),\n",
       " (612,),\n",
       " (4,),\n",
       " (613,),\n",
       " (4,),\n",
       " (613,),\n",
       " (4,),\n",
       " (613,),\n",
       " (4,),\n",
       " (614,),\n",
       " (4,),\n",
       " (614,),\n",
       " (4,),\n",
       " (614,),\n",
       " (4,),\n",
       " (614,),\n",
       " (4,),\n",
       " (614,),\n",
       " (4,),\n",
       " (615,),\n",
       " (4,),\n",
       " (615,),\n",
       " (4,),\n",
       " (615,),\n",
       " (4,),\n",
       " (615,),\n",
       " (4,),\n",
       " (615,),\n",
       " (4,),\n",
       " (615,),\n",
       " (4,),\n",
       " (615,),\n",
       " (4,),\n",
       " (616,),\n",
       " (4,),\n",
       " (616,),\n",
       " (4,),\n",
       " (616,),\n",
       " (4,),\n",
       " (617,),\n",
       " (5,),\n",
       " (617,),\n",
       " (5,),\n",
       " (617,),\n",
       " (5,),\n",
       " (618,),\n",
       " (5,),\n",
       " (618,),\n",
       " (5,),\n",
       " (618,),\n",
       " (5,),\n",
       " (618,),\n",
       " (5,),\n",
       " (618,),\n",
       " (5,),\n",
       " (619,),\n",
       " (5,),\n",
       " (619,),\n",
       " (5,),\n",
       " (619,),\n",
       " (5,),\n",
       " (619,),\n",
       " (5,),\n",
       " (619,),\n",
       " (5,),\n",
       " (619,),\n",
       " (5,),\n",
       " (619,),\n",
       " (5,),\n",
       " (619,),\n",
       " (5,),\n",
       " (619,),\n",
       " (5,),\n",
       " (619,),\n",
       " (5,),\n",
       " (620,),\n",
       " (5,),\n",
       " (620,),\n",
       " (5,),\n",
       " (621,),\n",
       " (5,),\n",
       " (621,),\n",
       " (5,),\n",
       " (621,),\n",
       " (5,),\n",
       " (621,),\n",
       " (6,),\n",
       " (621,),\n",
       " (6,),\n",
       " (621,),\n",
       " (6,),\n",
       " (621,),\n",
       " (6,),\n",
       " (621,),\n",
       " (6,),\n",
       " (622,),\n",
       " (6,),\n",
       " (622,),\n",
       " (6,),\n",
       " (622,),\n",
       " (6,),\n",
       " (622,),\n",
       " (6,),\n",
       " (622,),\n",
       " (6,),\n",
       " (623,),\n",
       " (6,),\n",
       " (623,),\n",
       " (6,),\n",
       " (623,),\n",
       " (6,),\n",
       " (623,),\n",
       " (6,),\n",
       " (623,),\n",
       " (6,),\n",
       " (624,),\n",
       " (6,),\n",
       " (624,),\n",
       " (6,),\n",
       " (624,),\n",
       " (6,),\n",
       " (624,),\n",
       " (7,),\n",
       " (624,),\n",
       " (7,),\n",
       " (624,),\n",
       " (7,),\n",
       " (624,),\n",
       " (7,),\n",
       " (624,),\n",
       " (7,),\n",
       " (625,),\n",
       " (7,),\n",
       " (625,),\n",
       " (7,),\n",
       " (625,),\n",
       " (7,),\n",
       " (625,),\n",
       " (7,),\n",
       " (625,),\n",
       " (7,),\n",
       " (625,),\n",
       " (7,),\n",
       " (625,),\n",
       " (7,),\n",
       " (625,),\n",
       " (7,),\n",
       " (626,),\n",
       " (7,),\n",
       " (626,),\n",
       " (7,),\n",
       " (626,),\n",
       " (7,),\n",
       " (626,),\n",
       " (8,),\n",
       " (626,),\n",
       " (8,),\n",
       " (627,),\n",
       " (8,),\n",
       " (627,),\n",
       " (8,),\n",
       " (627,),\n",
       " (8,),\n",
       " (628,),\n",
       " (8,),\n",
       " (628,),\n",
       " (8,),\n",
       " (628,),\n",
       " (8,),\n",
       " (628,),\n",
       " (8,),\n",
       " (628,),\n",
       " (8,),\n",
       " (629,),\n",
       " (8,),\n",
       " (629,),\n",
       " (8,),\n",
       " (629,),\n",
       " (8,),\n",
       " (629,),\n",
       " (9,),\n",
       " (629,),\n",
       " (9,),\n",
       " (629,),\n",
       " (9,),\n",
       " (629,),\n",
       " (9,),\n",
       " (629,),\n",
       " (9,),\n",
       " (629,),\n",
       " (9,),\n",
       " (629,),\n",
       " (9,),\n",
       " (631,),\n",
       " (9,),\n",
       " (631,),\n",
       " (9,),\n",
       " (631,),\n",
       " (9,),\n",
       " (631,),\n",
       " (9,),\n",
       " (631,),\n",
       " (10,),\n",
       " (631,),\n",
       " (10,),\n",
       " (631,),\n",
       " (10,),\n",
       " (631,),\n",
       " (10,),\n",
       " (631,),\n",
       " (10,),\n",
       " (631,),\n",
       " (10,),\n",
       " (632,),\n",
       " (10,),\n",
       " (632,),\n",
       " (10,),\n",
       " (632,),\n",
       " (10,),\n",
       " (632,),\n",
       " (10,),\n",
       " (632,),\n",
       " (11,),\n",
       " (632,),\n",
       " (11,),\n",
       " (632,),\n",
       " (11,),\n",
       " (632,),\n",
       " (11,),\n",
       " (633,),\n",
       " (11,),\n",
       " (633,),\n",
       " (11,),\n",
       " (633,),\n",
       " (11,),\n",
       " (633,),\n",
       " (11,),\n",
       " (633,),\n",
       " (11,),\n",
       " (634,),\n",
       " (12,),\n",
       " (634,),\n",
       " (12,),\n",
       " (634,),\n",
       " (12,),\n",
       " (634,),\n",
       " (12,),\n",
       " (634,),\n",
       " (12,),\n",
       " (634,),\n",
       " (12,),\n",
       " (634,),\n",
       " (12,),\n",
       " (634,),\n",
       " (12,),\n",
       " (634,),\n",
       " (13,),\n",
       " (634,),\n",
       " (13,),\n",
       " (635,),\n",
       " (13,),\n",
       " (635,),\n",
       " (13,),\n",
       " (635,),\n",
       " (13,),\n",
       " (635,),\n",
       " (13,),\n",
       " (635,),\n",
       " (13,),\n",
       " (635,),\n",
       " (14,),\n",
       " (635,),\n",
       " (14,),\n",
       " (635,),\n",
       " (14,),\n",
       " (635,),\n",
       " (14,),\n",
       " (636,),\n",
       " (14,),\n",
       " (636,),\n",
       " (14,),\n",
       " (637,),\n",
       " (15,),\n",
       " ...]"
      ]
     },
     "execution_count": 92,
     "metadata": {},
     "output_type": "execute_result"
    }
   ],
   "source": [
    "[x.local_argmax() for x in o]"
   ]
  },
  {
   "cell_type": "code",
   "execution_count": 85,
   "metadata": {},
   "outputs": [
    {
     "data": {
      "text/plain": [
       "MaskedlnPi(\n",
       "     lnz=array([-15.])\n",
       "     state_kws={'volume': 729, 'temp': 0.7, 'beta': 1.4285714285714286}\n",
       "     data=masked_array(data=[-18.06161029539, -19.84800046681857,\n",
       "                   -22.302704738247144, -25.13800220967572,\n",
       "                   -28.23611698110429, -31.53215345253286,\n",
       "                   -34.985455523961434, -38.56807409539,\n",
       "                   -42.25926706681858, -46.043793738247146,\n",
       "                   -49.90797730967572, -53.84171408110429,\n",
       "                   -57.837059152532866, -61.88647272396144,\n",
       "                   -65.98403029539, -70.12399686681859,\n",
       "                   -74.30361943824715, -78.51712000967572,\n",
       "                   -82.7615055811043, -87.03402815253287,\n",
       "                   -91.33028872396144, -95.64933229539001,\n",
       "                   -99.98695886681858, -104.34128643824715,\n",
       "                   -108.71091700967573, -113.0928845811043,\n",
       "                   -117.48499315253287, -121.88546972396145,\n",
       "                   -126.29259729539001, -130.7044528668186,\n",
       "                   -135.11876843824717, -139.53393300967574,\n",
       "                   -143.9482865811043, -148.35911315253287,\n",
       "                   -152.76408472396145, -157.16032129539002,\n",
       "                   -161.5464428668186, -165.91993843824716,\n",
       "                   -170.27762000967573, -174.6186095811043,\n",
       "                   -178.93975715253288, -183.23812072396146,\n",
       "                   -187.51207629539005, -191.76174486681862,\n",
       "                   -195.98561543824718, -200.18324000967573,\n",
       "                   -204.3562245811043, -208.5042231525329,\n",
       "                   -212.62786772396146, -216.72920329539002,\n",
       "                   -220.8099368668186, -224.87072943824717,\n",
       "                   -228.91302100967576, -232.9378835811043,\n",
       "                   -236.9464531525329, -240.93994572396144,\n",
       "                   -244.91960629539003, -248.8841028668186,\n",
       "                   -252.83623743824717, -256.77686200937575,\n",
       "                   -260.7061605808043, -264.6237301522329,\n",
       "                   -268.53064772366145, -272.42784429509004,\n",
       "                   -276.3134408665186, -280.19040843794716,\n",
       "                   -284.05723800937574, -287.9152945808043,\n",
       "                   -291.7653701522329, -295.60624672366146,\n",
       "                   -299.4385442950901, -303.2622568665186,\n",
       "                   -307.0793094379472, -310.88839500937576,\n",
       "                   -314.6902605808043, -318.4825391522329,\n",
       "                   -322.2673977236615, -326.04402629509,\n",
       "                   -329.8144648665186, -333.57758343794717,\n",
       "                   -337.33287200937576, -341.0814705808043,\n",
       "                   -344.8235191522329, -348.5573577236615,\n",
       "                   -352.28452629509, -356.0031548665186,\n",
       "                   -359.7163534379472, -363.42275200937576,\n",
       "                   -367.1210005808043, -370.81222915223293,\n",
       "                   -374.49544772366147, -378.17184629509006,\n",
       "                   -381.8399148665186, -385.4988834379472,\n",
       "                   -389.1489820093758, -392.7894705808044,\n",
       "                   -396.4229591522329, -400.0457877236615,\n",
       "                   -403.65780629509004, -407.26223486651867,\n",
       "                   -410.8534334379472, -414.4367720093758,\n",
       "                   -418.01031058080434, -421.572609152233,\n",
       "                   -425.1255877236615, -428.66658629509004,\n",
       "                   -432.19881486651866, -435.72060343794715,\n",
       "                   -439.2342020093758, -442.7372805808044,\n",
       "                   -446.2303291522329, -449.7140077236615,\n",
       "                   -453.18981629509005, -456.65559486651864,\n",
       "                   -460.11378343794723, -463.56565200937575,\n",
       "                   -467.00678058080433, -470.44133915223296,\n",
       "                   -473.8694277236615, -477.2907062950901,\n",
       "                   -480.7069448665186, -484.11604343794716,\n",
       "                   -487.5182320093758, -490.9162205808044,\n",
       "                   -494.3083691522329, -497.6952477236615,\n",
       "                   -501.0784962950901, -504.4548748665187,\n",
       "                   -507.8281134379472, -511.1942820093758,\n",
       "                   -514.5569705808043, -517.914869152233,\n",
       "                   -521.2686277236616, -524.6185262950901,\n",
       "                   -527.9639848665187, -531.3052534379473,\n",
       "                   -534.6419820093759, -537.9766305808043,\n",
       "                   -541.305829152233, -544.6316977236615,\n",
       "                   -547.9538162950901, -551.2727048665187,\n",
       "                   -554.5883934379473, -557.8993920093758,\n",
       "                   -561.2082405808044, -564.513489152233,\n",
       "                   -567.8148177236615, -571.11431629509,\n",
       "                   -574.4087748665187, -577.7005234379473,\n",
       "                   -580.9869820093759, -584.2708805808044,\n",
       "                   -587.551369152233, -590.8298677236614,\n",
       "                   -594.1052362950901, -597.3772048665187,\n",
       "                   -600.6460434379472, -603.9112620093758,\n",
       "                   -607.1725005808044, -610.432419152233,\n",
       "                   -613.6880777236615, -616.9391362950901,\n",
       "                   -620.1871848665187, -623.4310734379472,\n",
       "                   -626.6722620093758, -629.9094705808044,\n",
       "                   -633.1430991522329, -636.3722377236616,\n",
       "                   -639.5973162950902, -642.8172248665187,\n",
       "                   -646.0337734379473, -649.2458120093759,\n",
       "                   -652.4523605808045, -655.652179152233,\n",
       "                   -658.8471277236615, -662.03739629509,\n",
       "                   -665.2201448665187, -668.3960434379472,\n",
       "                   -671.5652920093759, -674.7278005808043,\n",
       "                   -677.882949152233, -681.0319477236616,\n",
       "                   -684.1708362950901, -687.3025548665187,\n",
       "                   -690.4255434379472, -693.5376220093758,\n",
       "                   -696.6405005808044, -699.732819152233,\n",
       "                   -702.8157277236616, -705.8882062950901,\n",
       "                   -708.9500148665187, -711.9982534379473,\n",
       "                   -715.0343820093758, -718.0603305808045,\n",
       "                   -721.0724991522329, -724.0716477236615,\n",
       "                   -727.05937629509, -730.0324048665187,\n",
       "                   -732.9914734379473, -735.9368420093758,\n",
       "                   -738.8674605808044, -741.784099152233,\n",
       "                   -744.6875077236616, -747.5759062950901,\n",
       "                   -750.4506248665186, -753.3113934379472,\n",
       "                   -756.1594520093759, -758.9952805808044,\n",
       "                   -761.8205491522331, -764.6324377236616,\n",
       "                   -767.4352262950902, -770.2288648665187,\n",
       "                   -773.0148334379472, -775.7921120093758,\n",
       "                   -778.5626205808044, -781.3275591522331,\n",
       "                   -784.0857977236616, -786.8391862950901,\n",
       "                   -789.5879548665188, -792.3328134379473,\n",
       "                   -795.0738920093759, -797.8133405808044,\n",
       "                   -800.5467391522329, -803.2776677236616,\n",
       "                   -806.0060962950901, -808.7321448665188,\n",
       "                   -811.4558734379473, -814.1775920093759,\n",
       "                   -816.8958405808045, -819.613679152233,\n",
       "                   -822.3292577236616, -825.0433262950901,\n",
       "                   -827.7539748665187, -830.4642534379473,\n",
       "                   -833.171932009376, -835.8766305808044,\n",
       "                   -838.5838291522331, -841.2879477236615,\n",
       "                   -843.9885962950901, -846.6901448665187,\n",
       "                   -849.3884634379473, -852.0876620093759,\n",
       "                   -854.7856405808044, -857.4824291522331,\n",
       "                   -860.1775377236617, -862.8729062950902,\n",
       "                   -865.5675848665187, -868.2589934379473,\n",
       "                   -870.9508520093759, -873.6434005808044,\n",
       "                   -876.334119152233, -879.0233477236616,\n",
       "                   -881.7090862950902, -884.3963048665188,\n",
       "                   -887.0828434379473, -889.7696820093759,\n",
       "                   -892.4531105808045, -895.135159152233,\n",
       "                   -897.8156377236616, -900.4978562950902,\n",
       "                   -903.1797448665187, -905.8604134379474,\n",
       "                   -908.539592009376, -911.2203505808045,\n",
       "                   -913.9001391522331, -916.5787877236617,\n",
       "                   -919.2561562950901, -921.9335348665187,\n",
       "                   -924.6123234379472, -927.2884120093759,\n",
       "                   -929.9646505808046, -932.6403291522331,\n",
       "                   -935.3152777236617, -937.9872162950902,\n",
       "                   -940.6614348665188, -943.3355134379474,\n",
       "                   -946.0088520093759, -948.6811505808045,\n",
       "                   -951.352889152233, -954.0259377236616,\n",
       "                   -956.6987462950902, -959.3711748665188,\n",
       "                   -962.0425534379474, -964.7134820093759,\n",
       "                   -967.3815797648044, -970.0498917362331,\n",
       "                   -972.7196701576617, -975.3856997950902,\n",
       "                   -978.0529646165188, -980.7232560879474,\n",
       "                   -983.392069259376, -986.0600247308046,\n",
       "                   -988.727219602233, -991.3970571736617,\n",
       "                   -994.0651538450902, -996.7334837165188,\n",
       "                   -999.3997585879473, -1002.0632455593759,\n",
       "                   -1004.7296696308046, -1007.3913375022331,\n",
       "                   -1010.0559014736616, -1012.7177369450902,\n",
       "                   -1015.3811469165188, -1018.0466586879473,\n",
       "                   -1020.7132292593759, -1023.3791047308044,\n",
       "                   -1026.041076802233, -1028.7049729736616,\n",
       "                   -1031.3658582450903, -1034.0269173165188,\n",
       "                   -1036.6891177879475, -1039.348108559376,\n",
       "                   -1042.0064929308046, -1044.6664906022331,\n",
       "                   -1047.3271069736616, -1049.9846357450901,\n",
       "                   -1052.640045716519, -1055.2957794879474,\n",
       "                   -1057.9516305593759, -1060.6034960308045,\n",
       "                   -1063.258800302233, -1065.9102263736615,\n",
       "                   -1068.5638412450903, -1071.2178545165189,\n",
       "                   -1073.8706460879473, -1076.521626959376,\n",
       "                   -1079.1722032308046, -1081.823059202233,\n",
       "                   -1084.4748357736617, -1087.1263260450903,\n",
       "                   -1089.7786131165187, -1092.4285215879474,\n",
       "                   -1095.074591559376, -1097.7231078308046,\n",
       "                   -1100.366611702233, -1103.0132429736618,\n",
       "                   -1105.6566896450902, -1108.297219816519,\n",
       "                   -1110.9364505879473, -1113.5743057593759,\n",
       "                   -1116.2105962308044, -1118.845798102233,\n",
       "                   -1121.4815770736616, -1124.1150274450904,\n",
       "                   -1126.7425098165188, -1129.3690392879475,\n",
       "                   -1131.992807059376, -1134.6126652308046,\n",
       "                   -1137.2316585022331, -1139.8431065736618,\n",
       "                   -1142.4511579450902, -1145.0562950165188,\n",
       "                   -1147.6534013879473, -1150.244825759376,\n",
       "                   -1152.8277829308045, -1155.400629002233,\n",
       "                   -1157.9648206736617, -1160.5227268450903,\n",
       "                   -1163.0681464165189, -1165.6020219219474,\n",
       "                   -1168.121953143376, -1170.6298418138044,\n",
       "                   -1173.1210115692331, -1175.5980591406617,\n",
       "                   -1178.0588817120902, -1180.5020942835188,\n",
       "                   -1182.9294468549474, -1185.341249426376,\n",
       "                   -1187.7404619978045, -1190.1202655692332,\n",
       "                   -1192.4873681406616, -1194.8390347120903,\n",
       "                   -1197.181299283519, -1199.5085708549475,\n",
       "                   -1201.821925426376, -1204.1261839978047,\n",
       "                   -1206.4199525692331, -1208.7009131406617,\n",
       "                   -1210.9699807120903, -1213.2300082835188,\n",
       "                   -1215.4810428549474, -1217.722160426376,\n",
       "                   -1219.9560999978046, -1222.1791185692332,\n",
       "                   -1224.3956951406617, -1226.6038357120904,\n",
       "                   -1228.8084402835188, -1231.0041408549473,\n",
       "                   -1233.195341426376, -1235.3822939978045,\n",
       "                   -1237.562439569233, -1239.7391881406616,\n",
       "                   -1241.9106837120903, -1244.0771562835187,\n",
       "                   -1246.2361148549476, -1248.390600426376,\n",
       "                   -1250.5415989978046, -1252.6889675692332,\n",
       "                   -1254.831859140662, -1256.9710392120903,\n",
       "                   -1259.1079754835189, -1261.2406933549473,\n",
       "                   -1263.3697383263761, -1265.4954689978047,\n",
       "                   -1267.6158742692332, -1269.7345233406618,\n",
       "                   -1271.8503639120902, -1273.960854183519,\n",
       "                   -1276.0705179549473, -1278.173879526376,\n",
       "                   -1280.2769829308045, -1282.375176369233,\n",
       "                   -1284.4714624406618, -1286.5601620450905,\n",
       "                   -1288.649368013519, -1290.7307535849475,\n",
       "                   -1292.817013156376, -1294.8955907278046,\n",
       "                   -1296.9691502992332, -1299.0433278706619,\n",
       "                   -1301.1166614420904, -1303.179547013519,\n",
       "                   -1305.2392825849474, -1307.297268156376,\n",
       "                   -1309.3500387278045, -1311.404779299233,\n",
       "                   -1313.4544558706616, -1315.4953284420903,\n",
       "                   -1317.5342740135188, -1319.5714345849474,\n",
       "                   -1321.606839156376, -1323.6380977278047,\n",
       "                   -1325.6602872992332, -1327.6821118706619,\n",
       "                   -1329.6920784420904, -1331.701855013519,\n",
       "                   -1333.7006915849474, -1335.696506156376,\n",
       "                   -1337.6856837278046, -1339.6689602992333,\n",
       "                   -1341.6470498706617, -1343.6137274420903,\n",
       "                   -1345.5749720135188, -1347.5303365849475,\n",
       "                   -1349.484460156376, -1351.4215608278046,\n",
       "                   -1353.352552499233, -1355.2744532706618,\n",
       "                   -1357.1892168420902, -1359.095499613519,\n",
       "                   -1360.9948766849475, -1362.882896756376,\n",
       "                   -1364.7591777438047, -1366.6254592492332,\n",
       "                   -1368.4806508706617, -1370.3321423750904,\n",
       "                   -1372.173361116519, -1374.0093906879474,\n",
       "                   -1375.830115259376, -1377.6442188308047,\n",
       "                   -1379.439510402233, -1381.2351859736618,\n",
       "                   -1383.0200115450903, -1384.7988491165188,\n",
       "                   -1386.5729406879473, -1388.3316412593758,\n",
       "                   -1390.0812918308045, -1391.8282794022334,\n",
       "                   -1393.5633819736618, -1395.2920465450904,\n",
       "                   -1397.024287116519, -1398.7406276879476,\n",
       "                   -1400.4505652593762, -1402.1511468308047,\n",
       "                   -1403.8480114022332, -1405.5389119736617,\n",
       "                   -1407.2210635450904, -1408.891392116519,\n",
       "                   -1410.5544796879474, -1412.218114259376,\n",
       "                   -1413.8655838308046, -1415.5101344022332,\n",
       "                   -1417.1401999736618, -1418.7630945450903,\n",
       "                   -1420.3798977165188, -1421.9882376879475,\n",
       "                   -1423.5761850593763, -1425.1499653308047,\n",
       "                   -1426.7156004022333, -1428.2637077736617,\n",
       "                   -1429.7976642950905, -1431.316969832519,\n",
       "                   -1432.8135050489475, -1434.286567620376,\n",
       "                   -1435.7348021918046, -1437.164611763233,\n",
       "                   -1438.5732983346618, -1439.9517609060904,\n",
       "                   -1441.3142354775189, -1442.6509420489474,\n",
       "                   -1443.969685620376, -1445.2830741918046,\n",
       "                   -1446.576492763233, -1447.855081334662,\n",
       "                   -1449.1280629060905, -1450.380621477519,\n",
       "                   -1451.6346440489476, -1452.880115620376,\n",
       "                   -1454.1256251918046, -1455.3664637632332,\n",
       "                   -1456.6099753346618, -1457.8521389060904,\n",
       "                   -1459.094198477519, -1460.3462840489476,\n",
       "                   -1461.5793326203761, -1462.8304781918046,\n",
       "                   -1464.0763834632332, -1465.3267386346618,\n",
       "                   -1466.5901240393903, -1467.8466132774188,\n",
       "                   -1469.1077593989473, -1470.377003703776,\n",
       "                   -1471.6565265736049, -1472.9443391450334,\n",
       "                   -1474.2324277164619, -1475.5314572878904,\n",
       "                   -1476.838978859319, -1478.1488894307477,\n",
       "                   -1479.4639330021762, -1480.7937215736047,\n",
       "                   -1482.1323701450333, -1483.4811867164617,\n",
       "                   -1484.8309992878903, -1486.2019278593189,\n",
       "                   -1487.5762944307476, -1488.960640002176,\n",
       "                   -1490.3578325736046, -1491.7678441450332,\n",
       "                   -1493.1760417164617, -1494.5977072878902,\n",
       "                   -1496.033766859319, -1497.4800844307476,\n",
       "                   -1498.9278634021762, -1500.3985119736049,\n",
       "                   -1501.8782383450334, -1503.3707276164619,\n",
       "                   -1504.8867070211904, -1506.410481458919,\n",
       "                   -1507.9475352803474, -1509.506562351476,\n",
       "                   -1511.0678572112047, -1512.6503957826333,\n",
       "                   -1514.2513273540617, -1515.8619719254903,\n",
       "                   -1517.4931874969188, -1519.1257520683475,\n",
       "                   -1520.774935639776, -1522.4440622112047,\n",
       "                   -1524.1463947826335, -1525.849344354062,\n",
       "                   -1527.5739309254905, -1529.320312496919,\n",
       "                   -1531.0761920683476, -1532.8572206397762,\n",
       "                   -1534.6553644112048, -1536.4717269826333,\n",
       "                   -1538.310144854062, -1540.1620106254904,\n",
       "                   -1542.044186296919, -1543.9612431683474,\n",
       "                   -1545.891018339776, -1547.8373835112047,\n",
       "                   -1549.7925227491332, -1551.7876214539617,\n",
       "                   -1553.8001891247904, -1555.8344083624188,\n",
       "                   -1557.8877217604477, -1559.9587148318963,\n",
       "                   -1562.0594542033248, -1564.1745221747533,\n",
       "                   -1566.3368733461818, -1568.5134570176106,\n",
       "                   -1570.6954172890391, -1572.9177791604675,\n",
       "                   -1575.1649766318963, -1577.4281568033248,\n",
       "                   -1579.7396288747532, -1582.0477348461818,\n",
       "                   -1584.4096381176105, -1586.782781889039,\n",
       "                   -1589.2019188604675, -1591.6308522318961,\n",
       "                   -1594.0933690033246, -1596.5861200747531,\n",
       "                   -1599.0950391129118, -1601.6477786848804,\n",
       "                   -1604.2352043557592, -1606.8501357260977,\n",
       "                   -1609.4963251142863, -1612.1657142857148,\n",
       "                   -1614.8894950571434, -1617.613289628572,\n",
       "                   -1620.3872003000004, -1623.180681271429,\n",
       "                   -1626.0173610428576, -1628.8741230142862,\n",
       "                   -1631.7652582857147, -1634.6686586571432,\n",
       "                   -1637.6474504285718, -1640.6359534000003,\n",
       "                   -1643.671945071429, -1646.7533563428576,\n",
       "                   -1649.863708714286, -1653.0234335857149,\n",
       "                   -1656.2087987571433, -1659.4257821285719,\n",
       "                   -1662.6947676267405, -1665.9851737649392,\n",
       "                   -1669.2940565876177, -1672.6406185282463,\n",
       "                   -1676.0541614158049, -1679.4842538872333,\n",
       "                   -1682.9690216586619, -1686.4879357300904,\n",
       "                   -1690.043603101519, -1693.6564642729475,\n",
       "                   -1697.3207804443762, -1701.0213021158047,\n",
       "                   -1704.7404606872333, -1708.4973122586619,\n",
       "                   -1712.3279468300905, -1716.1562464015192,\n",
       "                   -1720.0556379729478, -1724.0081085443762,\n",
       "                   -1727.9958661158048, -1732.0509756872334,\n",
       "                   -1736.170621220062, -1740.3051143580906,\n",
       "                   -1744.501739430719, -1748.7411146036477,\n",
       "                   -1753.0166813426763, -1757.3622423141048,\n",
       "                   -1761.7414794855333, -1766.170544056962,\n",
       "                   -1770.6452496283905, -1775.159371199819,\n",
       "                   -1779.7352097712476, -1784.343761342676,\n",
       "                   -1789.0270079141046, -1793.7739894855333,\n",
       "                   -1798.517787056962, -1803.3586206283906,\n",
       "                   -1808.2631831998192, -1813.1925957712476,\n",
       "                   -1818.1765633426762, -1823.1976679141048,\n",
       "                   -1828.1954374855334, -1833.381743056962,\n",
       "                   -1838.5919536283905, -1843.8801341998192,\n",
       "                   -1849.1901937712476],\n",
       "             mask=[False, False, False, False, False, False, False, False,\n",
       "                   False, False, False, False, False, False, False, False,\n",
       "                   False, False, False, False, False, False, False, False,\n",
       "                   False, False, False, False, False, False, False, False,\n",
       "                   False, False, False, False, False, False, False, False,\n",
       "                   False, False, False, False, False, False, False, False,\n",
       "                   False, False, False, False, False, False, False, False,\n",
       "                   False, False, False, False, False, False, False, False,\n",
       "                   False, False, False, False, False, False, False, False,\n",
       "                   False, False, False, False, False, False, False, False,\n",
       "                   False, False, False, False, False, False, False, False,\n",
       "                   False, False, False, False, False, False, False, False,\n",
       "                   False, False, False, False, False, False, False, False,\n",
       "                   False, False, False, False, False, False, False, False,\n",
       "                   False, False, False, False, False, False, False, False,\n",
       "                   False, False, False, False, False, False, False, False,\n",
       "                   False, False, False, False, False, False, False, False,\n",
       "                   False, False, False, False, False, False, False, False,\n",
       "                   False, False, False, False, False, False, False, False,\n",
       "                   False, False, False, False, False, False, False, False,\n",
       "                   False, False, False, False, False, False, False, False,\n",
       "                   False, False, False, False, False, False, False, False,\n",
       "                   False, False, False, False, False, False, False, False,\n",
       "                   False, False, False, False, False, False, False, False,\n",
       "                   False, False, False, False, False, False, False, False,\n",
       "                   False, False, False, False, False, False, False, False,\n",
       "                   False, False, False, False, False, False, False, False,\n",
       "                   False, False, False, False, False, False, False, False,\n",
       "                   False, False, False, False, False, False, False, False,\n",
       "                   False, False, False, False, False, False, False, False,\n",
       "                   False, False, False, False, False, False, False, False,\n",
       "                   False, False, False, False, False, False, False, False,\n",
       "                   False, False, False, False, False, False, False, False,\n",
       "                   False, False, False, False, False, False, False, False,\n",
       "                   False, False, False, False, False, False, False, False,\n",
       "                   False, False, False, False, False, False, False, False,\n",
       "                   False, False, False, False, False, False, False, False,\n",
       "                   False, False, False, False, False, False, False, False,\n",
       "                   False, False, False, False, False, False, False, False,\n",
       "                   False, False, False, False, False, False, False, False,\n",
       "                   False, False, False, False, False, False, False, False,\n",
       "                   False, False, False, False, False, False, False, False,\n",
       "                   False, False, False, False, False, False, False, False,\n",
       "                   False, False, False, False, False, False, False, False,\n",
       "                   False, False, False, False, False, False, False, False,\n",
       "                   False, False, False, False, False, False, False, False,\n",
       "                   False, False, False, False, False, False, False, False,\n",
       "                   False, False, False, False, False, False, False, False,\n",
       "                   False, False, False, False, False, False, False, False,\n",
       "                   False, False, False, False, False, False, False, False,\n",
       "                   False, False, False, False, False, False, False, False,\n",
       "                   False, False, False, False, False, False, False, False,\n",
       "                   False, False, False, False, False, False, False, False,\n",
       "                   False, False, False, False, False, False, False, False,\n",
       "                   False, False, False, False, False, False, False, False,\n",
       "                   False, False, False, False, False, False, False, False,\n",
       "                   False, False, False, False, False, False, False, False,\n",
       "                   False, False, False, False, False, False, False, False,\n",
       "                   False, False, False, False, False, False, False, False,\n",
       "                   False, False, False, False, False, False, False, False,\n",
       "                   False, False, False, False, False, False, False, False,\n",
       "                   False, False, False, False, False, False, False, False,\n",
       "                   False, False, False, False, False, False, False, False,\n",
       "                   False, False, False, False, False, False, False, False,\n",
       "                   False, False, False, False, False, False, False, False,\n",
       "                   False, False, False, False, False, False, False, False,\n",
       "                   False, False, False, False, False, False, False, False,\n",
       "                   False, False, False, False, False, False, False, False,\n",
       "                   False, False, False, False, False, False, False, False,\n",
       "                   False, False, False, False, False, False, False, False,\n",
       "                   False, False, False, False, False, False, False, False,\n",
       "                   False, False, False, False, False, False, False, False,\n",
       "                   False, False, False, False, False, False, False, False,\n",
       "                   False, False, False, False, False, False, False, False,\n",
       "                   False, False, False, False, False, False, False, False,\n",
       "                   False, False, False, False, False, False, False, False,\n",
       "                   False, False, False, False, False, False, False, False,\n",
       "                   False, False, False, False, False, False, False, False,\n",
       "                   False, False, False, False, False, False, False, False,\n",
       "                   False, False, False, False, False, False, False, False,\n",
       "                   False, False, False, False, False, False, False, False,\n",
       "                   False, False, False, False, False, False, False, False,\n",
       "                   False, False, False, False, False],\n",
       "       fill_value=nan)\n",
       "     extra_kws={'PE': array([ 4.00372530e-08,  4.00315170e-08, -3.08827170e-02, -9.29015900e-02,\n",
       "       -1.86473600e-01, -3.12017350e-01, -4.69909240e-01, -6.61072130e-01,\n",
       "       -8.85689080e-01, -1.14388670e+00, -1.43719140e+00, -1.76599550e+00,\n",
       "       -2.13138090e+00, -2.53390050e+00, -2.97365080e+00, -3.45312550e+00,\n",
       "       -3.97310410e+00, -4.53367990e+00, -5.13853180e+00, -5.78871290e+00,\n",
       "       -6.48572960e+00, -7.23159840e+00, -8.03079290e+00, -8.88585390e+00,\n",
       "       -9.80087210e+00, -1.07810260e+01, -1.18291810e+01, -1.29562380e+01,\n",
       "       -1.41657920e+01, -1.54659870e+01, -1.68729920e+01, -1.83968600e+01,\n",
       "       -2.00517520e+01, -2.18591040e+01, -2.38410480e+01, -2.60061990e+01,\n",
       "       -2.83865320e+01, -3.09894640e+01, -3.38463170e+01, -3.69556600e+01,\n",
       "       -4.03222860e+01, -4.39534400e+01, -4.78207500e+01, -5.18882610e+01,\n",
       "       -5.61101670e+01, -6.04556860e+01, -6.48780700e+01, -6.93333210e+01,\n",
       "       -7.37720110e+01, -7.81821340e+01, -8.25572420e+01, -8.68960830e+01,\n",
       "       -9.11890630e+01, -9.54250750e+01, -9.96080690e+01, -1.03750490e+02,\n",
       "       -1.07860410e+02, -1.11945680e+02, -1.15996440e+02, -1.20015640e+02,\n",
       "       -1.24042230e+02, -1.28051570e+02, -1.32032110e+02, -1.36006310e+02,\n",
       "       -1.39987220e+02, -1.43958320e+02, -1.47914690e+02, -1.51856840e+02,\n",
       "       -1.55779180e+02, -1.59718210e+02, -1.63657620e+02, -1.67599970e+02,\n",
       "       -1.71533970e+02, -1.75477890e+02, -1.79422520e+02, -1.83344590e+02,\n",
       "       -1.87297930e+02, -1.91225910e+02, -1.95158150e+02, -1.99099690e+02,\n",
       "       -2.03036380e+02, -2.06992550e+02, -2.10903200e+02, -2.14827830e+02,\n",
       "       -2.18776310e+02, -2.22715850e+02, -2.26667600e+02, -2.30618230e+02,\n",
       "       -2.34592250e+02, -2.38564770e+02, -2.42555790e+02, -2.46568010e+02,\n",
       "       -2.50584500e+02, -2.54602380e+02, -2.58655580e+02, -2.62749290e+02,\n",
       "       -2.66845320e+02, -2.70987920e+02, -2.75147480e+02, -2.79316770e+02,\n",
       "       -2.83550930e+02, -2.87773240e+02, -2.92065960e+02, -2.96395540e+02,\n",
       "       -3.00748210e+02, -3.05103830e+02, -3.09482550e+02, -3.13915430e+02,\n",
       "       -3.18384110e+02, -3.22867350e+02, -3.27369890e+02, -3.31890990e+02,\n",
       "       -3.36428650e+02, -3.40992290e+02, -3.45581560e+02, -3.50161070e+02,\n",
       "       -3.54749640e+02, -3.59325870e+02, -3.63917150e+02, -3.68485480e+02,\n",
       "       -3.73079580e+02, -3.77680220e+02, -3.82272600e+02, -3.86875690e+02,\n",
       "       -3.91480500e+02, -3.96053150e+02, -4.00656210e+02, -4.05272390e+02,\n",
       "       -4.09882530e+02, -4.14492590e+02, -4.19088980e+02, -4.23658330e+02,\n",
       "       -4.28231440e+02, -4.32836770e+02, -4.37411730e+02, -4.42009370e+02,\n",
       "       -4.46630020e+02, -4.51213200e+02, -4.55802180e+02, -4.60400310e+02,\n",
       "       -4.65010270e+02, -4.69595410e+02, -4.74189240e+02, -4.78775810e+02,\n",
       "       -4.83349490e+02, -4.87905450e+02, -4.92483310e+02, -4.97090120e+02,\n",
       "       -5.01676540e+02, -5.06245440e+02, -5.10826830e+02, -5.15377350e+02,\n",
       "       -5.19938050e+02, -5.24484990e+02, -5.29038820e+02, -5.33619020e+02,\n",
       "       -5.38133770e+02, -5.42670430e+02, -5.47232110e+02, -5.51782040e+02,\n",
       "       -5.56334940e+02, -5.60883700e+02, -5.65404850e+02, -5.69925950e+02,\n",
       "       -5.74435490e+02, -5.78962500e+02, -5.83501040e+02, -5.88009350e+02,\n",
       "       -5.92513310e+02, -5.96977570e+02, -6.01450040e+02, -6.05906710e+02,\n",
       "       -6.10361430e+02, -6.14804220e+02, -6.19270230e+02, -6.23711880e+02,\n",
       "       -6.28155990e+02, -6.32622480e+02, -6.37060260e+02, -6.41510810e+02,\n",
       "       -6.45962300e+02, -6.50401750e+02, -6.54860000e+02, -6.59301640e+02,\n",
       "       -6.63815280e+02, -6.68333670e+02, -6.72852790e+02, -6.77387960e+02,\n",
       "       -6.81905370e+02, -6.86486290e+02, -6.91128130e+02, -6.95813340e+02,\n",
       "       -7.00522450e+02, -7.05258400e+02, -7.09963550e+02, -7.14754220e+02,\n",
       "       -7.19603170e+02, -7.24465400e+02, -7.29397060e+02, -7.34400110e+02,\n",
       "       -7.39422930e+02, -7.44506390e+02, -7.49646590e+02, -7.54835190e+02,\n",
       "       -7.60160380e+02, -7.65448930e+02, -7.70802340e+02, -7.76231200e+02,\n",
       "       -7.81713050e+02, -7.87219900e+02, -7.92777170e+02, -7.98347820e+02,\n",
       "       -8.03934750e+02, -8.09533180e+02, -8.15158920e+02, -8.20767310e+02,\n",
       "       -8.26316020e+02, -8.31929790e+02, -8.37537130e+02, -8.43169870e+02,\n",
       "       -8.48814710e+02, -8.54439500e+02, -8.60067170e+02, -8.65715830e+02,\n",
       "       -8.71347110e+02, -8.76943170e+02, -8.82512790e+02, -8.88120010e+02,\n",
       "       -8.93718160e+02, -8.99313150e+02, -9.04912410e+02, -9.10552910e+02,\n",
       "       -9.16197150e+02, -9.21907940e+02, -9.27541430e+02, -9.33119120e+02,\n",
       "       -9.38767620e+02, -9.44431570e+02, -9.50066390e+02, -9.55660060e+02,\n",
       "       -9.61252360e+02, -9.66859260e+02, -9.72466880e+02, -9.78058990e+02,\n",
       "       -9.83700770e+02, -9.89315690e+02, -9.94932590e+02, -1.00054310e+03,\n",
       "       -1.00616090e+03, -1.01184190e+03, -1.01746230e+03, -1.02309320e+03,\n",
       "       -1.02871110e+03, -1.03433040e+03, -1.03993270e+03, -1.04555590e+03,\n",
       "       -1.05115700e+03, -1.05674870e+03, -1.06235020e+03, -1.06797830e+03,\n",
       "       -1.07356390e+03, -1.07910580e+03, -1.08471390e+03, -1.09033980e+03,\n",
       "       -1.09598370e+03, -1.10159980e+03, -1.10719820e+03, -1.11279470e+03,\n",
       "       -1.11845730e+03, -1.12407790e+03, -1.12965860e+03, -1.13531710e+03,\n",
       "       -1.14093710e+03, -1.14648920e+03, -1.15207880e+03, -1.15767280e+03,\n",
       "       -1.16327770e+03, -1.16883750e+03, -1.17442220e+03, -1.17998660e+03,\n",
       "       -1.18556090e+03, -1.19117230e+03, -1.19677880e+03, -1.20236860e+03,\n",
       "       -1.20794660e+03, -1.21350202e+03, -1.21907992e+03, -1.22467776e+03,\n",
       "       -1.23027338e+03, -1.23587498e+03, -1.24141448e+03, -1.24692928e+03,\n",
       "       -1.25244508e+03, -1.25804218e+03, -1.26362958e+03, -1.26918638e+03,\n",
       "       -1.27476508e+03, -1.28036288e+03, -1.28584098e+03, -1.29140658e+03,\n",
       "       -1.29695478e+03, -1.30249188e+03, -1.30807318e+03, -1.31363528e+03,\n",
       "       -1.31920788e+03, -1.32475688e+03, -1.33026738e+03, -1.33579148e+03,\n",
       "       -1.34129048e+03, -1.34690468e+03, -1.35249738e+03, -1.35813198e+03,\n",
       "       -1.36366388e+03, -1.36918788e+03, -1.37479428e+03, -1.38035398e+03,\n",
       "       -1.38591548e+03, -1.39147408e+03, -1.39706978e+03, -1.40265688e+03,\n",
       "       -1.40816268e+03, -1.41371708e+03, -1.41921018e+03, -1.42473508e+03,\n",
       "       -1.43022148e+03, -1.43563578e+03, -1.44111308e+03, -1.44657598e+03,\n",
       "       -1.45194268e+03, -1.45748758e+03, -1.46291838e+03, -1.46835118e+03,\n",
       "       -1.47374998e+03, -1.47917488e+03, -1.48460928e+03, -1.49000268e+03,\n",
       "       -1.49533878e+03, -1.50071358e+03, -1.50602608e+03, -1.51131948e+03,\n",
       "       -1.51665528e+03, -1.52183568e+03, -1.52707468e+03, -1.53229268e+03,\n",
       "       -1.53747968e+03, -1.54265878e+03, -1.54760708e+03, -1.55260078e+03,\n",
       "       -1.55752538e+03, -1.56238598e+03, -1.56719178e+03, -1.57188588e+03,\n",
       "       -1.57651078e+03, -1.58101138e+03, -1.58536478e+03, -1.58957668e+03,\n",
       "       -1.59373148e+03, -1.59776298e+03, -1.60166688e+03, -1.60544368e+03,\n",
       "       -1.60917890e+03, -1.61274848e+03, -1.61631772e+03, -1.61987772e+03,\n",
       "       -1.62350322e+03, -1.62730092e+03, -1.63104292e+03, -1.63494102e+03,\n",
       "       -1.63894262e+03, -1.64300162e+03, -1.64731282e+03, -1.65168802e+03,\n",
       "       -1.65620392e+03, -1.66083452e+03, -1.66554692e+03, -1.67034442e+03,\n",
       "       -1.67523082e+03, -1.68024262e+03, -1.68536372e+03, -1.69061192e+03,\n",
       "       -1.69589732e+03, -1.70135062e+03, -1.70682642e+03, -1.71234422e+03,\n",
       "       -1.71798872e+03, -1.72368642e+03, -1.72940472e+03, -1.73512672e+03,\n",
       "       -1.74095152e+03, -1.74685192e+03, -1.75275362e+03, -1.75871142e+03,\n",
       "       -1.76466052e+03, -1.77075282e+03, -1.77668662e+03, -1.78270752e+03,\n",
       "       -1.78881372e+03, -1.79490832e+03, -1.80090352e+03, -1.80696872e+03,\n",
       "       -1.81300652e+03, -1.81909622e+03, -1.82523312e+03, -1.83127682e+03,\n",
       "       -1.83743832e+03, -1.84355812e+03, -1.84971902e+03, -1.85582292e+03,\n",
       "       -1.86194222e+03, -1.86818412e+03, -1.87425762e+03, -1.88040818e+03,\n",
       "       -1.88645516e+03, -1.89256252e+03, -1.89861314e+03, -1.90478294e+03,\n",
       "       -1.91096124e+03, -1.91705134e+03, -1.92314354e+03, -1.92929434e+03,\n",
       "       -1.93544104e+03, -1.94159124e+03, -1.94763494e+03, -1.95369134e+03,\n",
       "       -1.95974414e+03, -1.96573864e+03, -1.97172014e+03, -1.97761944e+03,\n",
       "       -1.98360264e+03, -1.98955344e+03, -1.99545494e+03, -2.00133674e+03,\n",
       "       -2.00730774e+03, -2.01308844e+03, -2.01893224e+03, -2.02466884e+03,\n",
       "       -2.03048334e+03, -2.03617084e+03, -2.04181074e+03, -2.04737774e+03,\n",
       "       -2.05297064e+03, -2.05866734e+03, -2.06404124e+03, -2.06946994e+03,\n",
       "       -2.07496064e+03, -2.08029564e+03, -2.08554564e+03, -2.09095034e+03,\n",
       "       -2.09625874e+03, -2.10154114e+03, -2.10687514e+03, -2.11236654e+03,\n",
       "       -2.11767714e+03, -2.12310782e+03, -2.12846076e+03, -2.13393736e+03,\n",
       "       -2.13935216e+03, -2.14486556e+03, -2.15048646e+03, -2.15611016e+03,\n",
       "       -2.16184596e+03, -2.16754296e+03, -2.17320906e+03, -2.17887676e+03,\n",
       "       -2.18475236e+03, -2.19067556e+03, -2.19672426e+03, -2.20264086e+03,\n",
       "       -2.20877016e+03, -2.21488746e+03, -2.22098846e+03, -2.22714126e+03,\n",
       "       -2.23323546e+03, -2.23937676e+03, -2.24553346e+03, -2.25176846e+03,\n",
       "       -2.25767086e+03, -2.26377336e+03, -2.26975286e+03, -2.27555526e+03,\n",
       "       -2.28158396e+03, -2.28739886e+03, -2.29311826e+03, -2.29872316e+03,\n",
       "       -2.30421736e+03, -2.30969566e+03, -2.31486156e+03, -2.31973836e+03,\n",
       "       -2.32444636e+03, -2.32893632e+03, -2.33319444e+03, -2.33720620e+03,\n",
       "       -2.34089886e+03, -2.34484566e+03, -2.34853046e+03, -2.35208856e+03,\n",
       "       -2.35599516e+03, -2.36017496e+03, -2.36440216e+03, -2.36903816e+03,\n",
       "       -2.37418946e+03, -2.37979336e+03, -2.38597586e+03, -2.39259506e+03,\n",
       "       -2.39976446e+03, -2.40733136e+03, -2.41499636e+03, -2.42290156e+03,\n",
       "       -2.43110926e+03, -2.43947296e+03, -2.44806906e+03, -2.45666446e+03,\n",
       "       -2.46550626e+03, -2.47433226e+03, -2.48342546e+03, -2.49262906e+03,\n",
       "       -2.50185586e+03, -2.51103246e+03, -2.52023696e+03, -2.52958470e+03,\n",
       "       -2.53894250e+03, -2.54839246e+03, -2.55792890e+03, -2.56745520e+03,\n",
       "       -2.57690700e+03, -2.58647640e+03, -2.59609120e+03, -2.60582740e+03,\n",
       "       -2.61545500e+03, -2.62504060e+03, -2.63477380e+03, -2.64456180e+03,\n",
       "       -2.65432200e+03, -2.66420370e+03, -2.67405380e+03, -2.68397960e+03,\n",
       "       -2.69386870e+03, -2.70368250e+03, -2.71367750e+03, -2.72359500e+03,\n",
       "       -2.73359700e+03, -2.74360830e+03, -2.75354810e+03, -2.76363210e+03,\n",
       "       -2.77371040e+03, -2.78387210e+03, -2.79384780e+03, -2.80397712e+03,\n",
       "       -2.81408428e+03, -2.82418306e+03, -2.83440396e+03, -2.84452806e+03,\n",
       "       -2.85473816e+03, -2.86488066e+03, -2.87522596e+03, -2.88550906e+03,\n",
       "       -2.89583036e+03, -2.90613796e+03, -2.91634806e+03, -2.92662136e+03,\n",
       "       -2.93698546e+03, -2.94731836e+03, -2.95748376e+03, -2.96777826e+03,\n",
       "       -2.97811966e+03, -2.98863556e+03, -2.99899326e+03, -3.00926636e+03,\n",
       "       -3.01972576e+03, -3.03030396e+03, -3.04073906e+03, -3.05105346e+03,\n",
       "       -3.06154536e+03, -3.07194156e+03, -3.08260624e+03, -3.09301138e+03,\n",
       "       -3.10346660e+03, -3.11400420e+03, -3.12443550e+03, -3.13495840e+03,\n",
       "       -3.14556110e+03, -3.15609680e+03, -3.16662630e+03, -3.17719460e+03,\n",
       "       -3.18770750e+03, -3.19826160e+03, -3.20882770e+03, -3.21942410e+03,\n",
       "       -3.22996140e+03, -3.24059960e+03, -3.25121720e+03, -3.26167900e+03,\n",
       "       -3.27229850e+03, -3.28289890e+03, -3.29352600e+03, -3.30413654e+03,\n",
       "       -3.31461966e+03, -3.32530444e+03, -3.33600942e+03, -3.34645352e+03,\n",
       "       -3.35707222e+03, -3.36761762e+03, -3.37831762e+03, -3.38893582e+03,\n",
       "       -3.39975262e+03, -3.41027952e+03, -3.42085242e+03, -3.43150272e+03,\n",
       "       -3.44238212e+03, -3.45283932e+03, -3.46355482e+03, -3.47418722e+03,\n",
       "       -3.48483732e+03, -3.49546462e+03, -3.50614012e+03, -3.51722062e+03,\n",
       "       -3.52775362e+03, -3.53819604e+03, -3.54874514e+03, -3.55948200e+03,\n",
       "       -3.56998944e+03, -3.58092654e+03, -3.59129614e+03, -3.60178504e+03,\n",
       "       -3.61256284e+03, -3.62317374e+03, -3.63373984e+03, -3.64425694e+03,\n",
       "       -3.65509794e+03, -3.66555164e+03, -3.67625434e+03, -3.68660144e+03,\n",
       "       -3.69748214e+03, -3.70776774e+03, -3.71841984e+03, -3.72930214e+03,\n",
       "       -3.73981464e+03, -3.75029412e+03, -3.76071898e+03, -3.77112416e+03,\n",
       "       -3.78157778e+03, -3.79230668e+03, -3.80339288e+03, -3.81352788e+03,\n",
       "       -3.82420028e+03, -3.83435958e+03, -3.84508378e+03, -3.85547138e+03,\n",
       "       -3.86583098e+03, -3.87644108e+03, -3.88650968e+03, -3.89715978e+03,\n",
       "       -3.90716878e+03, -3.91792748e+03, -3.92810268e+03, -3.93856488e+03,\n",
       "       -3.94917308e+03, -3.95935298e+03, -3.96941738e+03, -3.97945148e+03,\n",
       "       -3.99017378e+03])}\n",
       ")"
      ]
     },
     "execution_count": 85,
     "metadata": {},
     "output_type": "execute_result"
    }
   ],
   "source": [
    "o.vgce._parent.iloc[0]"
   ]
  },
  {
   "cell_type": "code",
   "execution_count": 363,
   "metadata": {},
   "outputs": [
    {
     "data": {
      "text/plain": [
       "<xarray.DataArray 'edge_distance' (lnz_0: 20, phase: 2)>\n",
       "array([[660.,  88.],\n",
       "       [659.,  64.],\n",
       "       [657.,  46.],\n",
       "       [651.,  30.],\n",
       "       [ nan,  16.],\n",
       "       [ nan,   5.],\n",
       "       [ nan,   1.],\n",
       "       [ nan,   1.],\n",
       "       [ nan,   1.],\n",
       "       [ nan,   1.],\n",
       "       [ nan,   1.],\n",
       "       [ nan,   1.],\n",
       "       [ nan,   1.],\n",
       "       [ nan,   1.],\n",
       "       [ nan,   1.],\n",
       "       [ nan,   1.],\n",
       "       [ nan,   1.],\n",
       "       [ nan,   1.],\n",
       "       [ nan,   1.],\n",
       "       [ nan,   1.]])\n",
       "Coordinates:\n",
       "    volume   int64 729\n",
       "    temp     float64 0.7\n",
       "    beta     float64 1.429\n",
       "  * lnz_0    (lnz_0) float64 -13.0 -12.37 -11.74 -11.11 ... -2.263 -1.632 -1.0\n",
       "  * phase    (phase) int64 0 1\n",
       "Attributes:\n",
       "    dims_n:      ['n_0']\n",
       "    dims_lnz:    ['lnz_0']\n",
       "    dims_comp:   ['component']\n",
       "    dims_state:  ['lnz_0', 'volume', 'temp', 'beta']\n",
       "    dims_rec:    ['sample']\n",
       "    long_name:   distance from upper edge"
      ]
     },
     "execution_count": 363,
     "metadata": {},
     "output_type": "execute_result"
    }
   ],
   "source": [
    "o.vgce.edge_distance(ref).unstack()"
   ]
  },
  {
   "cell_type": "code",
   "execution_count": 365,
   "metadata": {},
   "outputs": [
    {
     "data": {
      "text/plain": [
       "[<matplotlib.lines.Line2D at 0x7fe5009ac9d0>,\n",
       " <matplotlib.lines.Line2D at 0x7fe546d9da50>]"
      ]
     },
     "execution_count": 365,
     "metadata": {},
     "output_type": "execute_result"
    },
    {
     "data": {
      "image/png": "[encoded data removed]",
      "text/plain": [
       "<Figure size 432x288 with 1 Axes>"
      ]
     },
     "metadata": {
      "needs_background": "light"
     },
     "output_type": "display_data"
    }
   ],
   "source": [
    "c.xgce.PE.swap_dims({'rec':'lnz_0'}).plot(hue='phase')\n",
    "\n",
    "o.vgce.PE.unstack().plot(hue='phase')"
   ]
  },
  {
   "cell_type": "code",
   "execution_count": 366,
   "metadata": {},
   "outputs": [
    {
     "data": {
      "text/plain": [
       "[<matplotlib.lines.Line2D at 0x7fe5460ffcd0>,\n",
       " <matplotlib.lines.Line2D at 0x7fe546c9c1d0>]"
      ]
     },
     "execution_count": 366,
     "metadata": {},
     "output_type": "execute_result"
    },
    {
     "data": {
      "image/png": "[encoded data removed]",
      "text/plain": [
       "<Figure size 432x288 with 1 Axes>"
      ]
     },
     "metadata": {
      "needs_background": "light"
     },
     "output_type": "display_data"
    }
   ],
   "source": [
    "#%%timeit -n 1 -r 1\n",
    "c.xgce.dens.swap_dims({'rec':'lnz_0'}).plot(hue='phase')\n",
    "\n",
    "#%%timeit -n 1 -r 1\n",
    "o.vgce.dens.unstack('sample').plot(hue='phase')"
   ]
  },
  {
   "cell_type": "code",
   "execution_count": 367,
   "metadata": {},
   "outputs": [],
   "source": [
    "da = o.to_dataarray()"
   ]
  },
  {
   "cell_type": "code",
   "execution_count": 376,
   "metadata": {},
   "outputs": [],
   "source": [
    "labels = []\n",
    "lnzs = []\n",
    "for i, g in da.groupby('sample'):\n",
    "    lnzs.append(np.array([g.coords[k] for k in da.attrs['dims_lnz']]))\n",
    "\n",
    "    labels.append(g.values)\n",
    "    \n",
    "    "
   ]
  },
  {
   "cell_type": "code",
   "execution_count": 380,
   "metadata": {},
   "outputs": [],
   "source": [
    "for label, lnz in zip(labels, lnzs):\n",
    "    break"
   ]
  },
  {
   "cell_type": "code",
   "execution_count": 386,
   "metadata": {},
   "outputs": [],
   "source": [
    "items = []\n",
    "indexes = []\n",
    "\n",
    "features=None\n",
    "include_boundary=None\n",
    "\n",
    "for label, lnz in zip(labels, lnzs):\n",
    "    lnpi = ref.reweight(lnz)\n",
    "\n",
    "    masks, features_tmp = lnPi.serieswrapper.labels_to_masks(labels=label, features=features, include_boundary=False, \n",
    "                                                             convention=False, check_features=True)\n",
    "\n",
    "    index = list(np.array(features_tmp) - 1)\n",
    "    items += lnpi.list_from_masks(masks, convention=False)\n",
    "    indexes += index\n"
   ]
  },
  {
   "cell_type": "code",
   "execution_count": 368,
   "metadata": {},
   "outputs": [
    {
     "ename": "AssertionError",
     "evalue": "",
     "output_type": "error",
     "traceback": [
      "\u001b[0;31m---------------------------------------------------------------------------\u001b[0m",
      "\u001b[0;31mAssertionError\u001b[0m                            Traceback (most recent call last)",
      "\u001b[0;32m<ipython-input-368-20c17d7446ae>\u001b[0m in \u001b[0;36m<module>\u001b[0;34m\u001b[0m\n\u001b[0;32m----> 1\u001b[0;31m \u001b[0mlnPi\u001b[0m\u001b[0;34m.\u001b[0m\u001b[0mserieswrapper\u001b[0m\u001b[0;34m.\u001b[0m\u001b[0mCollectionlnPi\u001b[0m\u001b[0;34m.\u001b[0m\u001b[0mfrom_dataarray\u001b[0m\u001b[0;34m(\u001b[0m\u001b[0mref\u001b[0m\u001b[0;34m,\u001b[0m \u001b[0mda\u001b[0m\u001b[0;34m)\u001b[0m\u001b[0;34m\u001b[0m\u001b[0;34m\u001b[0m\u001b[0m\n\u001b[0m",
      "\u001b[0;32m~/Documents/python/lnPi/serieswrapper.py\u001b[0m in \u001b[0;36mfrom_dataarray\u001b[0;34m(cls, ref, da, grouper, include_boundary, labels_kws, features, check_features, **kwargs)\u001b[0m\n\u001b[1;32m    394\u001b[0m \u001b[0;34m\u001b[0m\u001b[0m\n\u001b[1;32m    395\u001b[0m \u001b[0;34m\u001b[0m\u001b[0m\n\u001b[0;32m--> 396\u001b[0;31m         \u001b[0;32mreturn\u001b[0m \u001b[0mcls\u001b[0m\u001b[0;34m.\u001b[0m\u001b[0mfrom_labels\u001b[0m\u001b[0;34m(\u001b[0m\u001b[0mref\u001b[0m\u001b[0;34m=\u001b[0m\u001b[0mref\u001b[0m\u001b[0;34m,\u001b[0m \u001b[0mlabels\u001b[0m\u001b[0;34m=\u001b[0m\u001b[0mlabels\u001b[0m\u001b[0;34m,\u001b[0m \u001b[0mlnzs\u001b[0m\u001b[0;34m=\u001b[0m\u001b[0mlnzs\u001b[0m\u001b[0;34m,\u001b[0m \u001b[0mlabels_kws\u001b[0m\u001b[0;34m=\u001b[0m\u001b[0mlabels_kws\u001b[0m\u001b[0;34m,\u001b[0m \u001b[0mfeatures\u001b[0m\u001b[0;34m=\u001b[0m\u001b[0mfeatures\u001b[0m\u001b[0;34m,\u001b[0m \u001b[0minclude_boundary\u001b[0m\u001b[0;34m=\u001b[0m\u001b[0minclude_boundary\u001b[0m\u001b[0;34m,\u001b[0m \u001b[0mcheck_features\u001b[0m\u001b[0;34m=\u001b[0m\u001b[0mcheck_features\u001b[0m\u001b[0;34m,\u001b[0m \u001b[0;34m**\u001b[0m\u001b[0mkwargs\u001b[0m\u001b[0;34m)\u001b[0m\u001b[0;34m\u001b[0m\u001b[0;34m\u001b[0m\u001b[0m\n\u001b[0m\u001b[1;32m    397\u001b[0m \u001b[0;34m\u001b[0m\u001b[0m\n\u001b[1;32m    398\u001b[0m \u001b[0;34m\u001b[0m\u001b[0m\n",
      "\u001b[0;32m~/Documents/python/lnPi/serieswrapper.py\u001b[0m in \u001b[0;36mfrom_labels\u001b[0;34m(cls, ref, labels, lnzs, features, include_boundary, labels_kws, check_features, **kwargs)\u001b[0m\n\u001b[1;32m    369\u001b[0m             \u001b[0mlnpi\u001b[0m \u001b[0;34m=\u001b[0m \u001b[0mref\u001b[0m\u001b[0;34m.\u001b[0m\u001b[0mreweight\u001b[0m\u001b[0;34m(\u001b[0m\u001b[0mlnz\u001b[0m\u001b[0;34m)\u001b[0m\u001b[0;34m\u001b[0m\u001b[0;34m\u001b[0m\u001b[0m\n\u001b[1;32m    370\u001b[0m \u001b[0;34m\u001b[0m\u001b[0m\n\u001b[0;32m--> 371\u001b[0;31m             \u001b[0mmasks\u001b[0m\u001b[0;34m,\u001b[0m \u001b[0mfeatures\u001b[0m \u001b[0;34m=\u001b[0m \u001b[0mlabels_to_masks\u001b[0m\u001b[0;34m(\u001b[0m\u001b[0mlabels\u001b[0m\u001b[0;34m=\u001b[0m\u001b[0mlabel\u001b[0m\u001b[0;34m,\u001b[0m \u001b[0mfeatures\u001b[0m\u001b[0;34m=\u001b[0m\u001b[0mfeatures\u001b[0m\u001b[0;34m,\u001b[0m \u001b[0minclude_boundary\u001b[0m\u001b[0;34m=\u001b[0m\u001b[0minclude_boundary\u001b[0m\u001b[0;34m,\u001b[0m \u001b[0mconvention\u001b[0m\u001b[0;34m=\u001b[0m\u001b[0;32mFalse\u001b[0m\u001b[0;34m,\u001b[0m \u001b[0mcheck_features\u001b[0m\u001b[0;34m=\u001b[0m\u001b[0mcheck_features\u001b[0m\u001b[0;34m,\u001b[0m \u001b[0;34m**\u001b[0m\u001b[0mlabels_kws\u001b[0m\u001b[0;34m)\u001b[0m\u001b[0;34m\u001b[0m\u001b[0;34m\u001b[0m\u001b[0m\n\u001b[0m\u001b[1;32m    372\u001b[0m \u001b[0;34m\u001b[0m\u001b[0m\n\u001b[1;32m    373\u001b[0m             \u001b[0mindex\u001b[0m \u001b[0;34m=\u001b[0m \u001b[0mlist\u001b[0m\u001b[0;34m(\u001b[0m\u001b[0mnp\u001b[0m\u001b[0;34m.\u001b[0m\u001b[0marray\u001b[0m\u001b[0;34m(\u001b[0m\u001b[0mfeatures\u001b[0m\u001b[0;34m)\u001b[0m \u001b[0;34m-\u001b[0m \u001b[0;36m1\u001b[0m\u001b[0;34m)\u001b[0m\u001b[0;34m\u001b[0m\u001b[0;34m\u001b[0m\u001b[0m\n",
      "\u001b[0;32m~/Documents/python/lnPi/utils.py\u001b[0m in \u001b[0;36mlabels_to_masks\u001b[0;34m(labels, features, include_boundary, convention, check_features, **kwargs)\u001b[0m\n\u001b[1;32m    239\u001b[0m     \u001b[0;32melif\u001b[0m \u001b[0mcheck_features\u001b[0m\u001b[0;34m:\u001b[0m\u001b[0;34m\u001b[0m\u001b[0;34m\u001b[0m\u001b[0m\n\u001b[1;32m    240\u001b[0m         \u001b[0mvals\u001b[0m \u001b[0;34m=\u001b[0m \u001b[0mnp\u001b[0m\u001b[0;34m.\u001b[0m\u001b[0munique\u001b[0m\u001b[0;34m(\u001b[0m\u001b[0mlabels\u001b[0m\u001b[0;34m)\u001b[0m\u001b[0;34m\u001b[0m\u001b[0;34m\u001b[0m\u001b[0m\n\u001b[0;32m--> 241\u001b[0;31m         \u001b[0;32massert\u001b[0m \u001b[0mnp\u001b[0m\u001b[0;34m.\u001b[0m\u001b[0mall\u001b[0m\u001b[0;34m(\u001b[0m\u001b[0;34m[\u001b[0m\u001b[0mx\u001b[0m \u001b[0;32min\u001b[0m \u001b[0mvals\u001b[0m \u001b[0;32mfor\u001b[0m \u001b[0mx\u001b[0m \u001b[0;32min\u001b[0m \u001b[0mfeatures\u001b[0m\u001b[0;34m]\u001b[0m\u001b[0;34m)\u001b[0m\u001b[0;34m\u001b[0m\u001b[0;34m\u001b[0m\u001b[0m\n\u001b[0m\u001b[1;32m    242\u001b[0m \u001b[0;34m\u001b[0m\u001b[0m\n\u001b[1;32m    243\u001b[0m     \u001b[0mconvention\u001b[0m \u001b[0;34m=\u001b[0m \u001b[0m_convention_to_bool\u001b[0m\u001b[0;34m(\u001b[0m\u001b[0mconvention\u001b[0m\u001b[0;34m)\u001b[0m\u001b[0;34m\u001b[0m\u001b[0;34m\u001b[0m\u001b[0m\n",
      "\u001b[0;31mAssertionError\u001b[0m: "
     ]
    }
   ],
   "source": [
    "lnPi.serieswrapper.CollectionlnPi.from_dataarray(ref, da)"
   ]
  },
  {
   "cell_type": "code",
   "execution_count": 278,
   "metadata": {},
   "outputs": [],
   "source": [
    "labels, lnzs = lnPi.serieswrapper.CollectionlnPi.from_dataarray(ref, da)\n",
    "\n",
    "indexes, items = lnPi.serieswrapper.CollectionlnPi.from_labels(ref, labels, lnzs)"
   ]
  },
  {
   "cell_type": "code",
   "execution_count": 282,
   "metadata": {},
   "outputs": [
    {
     "data": {
      "text/plain": [
       "<xarray.DataArray 'dens' (sample: 4, component: 1)>\n",
       "array([[0.001754],\n",
       "       [0.785685],\n",
       "       [0.005069],\n",
       "       [0.834477]])\n",
       "Coordinates:\n",
       "    beta     float64 1.429\n",
       "  * sample   (sample) MultiIndex\n",
       "  - lnz_0    (sample) float64 -13.0 -13.0 -12.0 -12.0\n",
       "  - phase    (sample) int64 0 1 0 1\n",
       "    temp     float64 0.7\n",
       "    volume   int64 729\n",
       "Dimensions without coordinates: component\n",
       "Attributes:\n",
       "    dims_n:      ['n_0']\n",
       "    dims_lnz:    ['lnz_0']\n",
       "    dims_comp:   ['component']\n",
       "    dims_state:  ['lnz_0', 'volume', 'temp', 'beta']\n",
       "    dims_rec:    ['sample']\n",
       "    long_name:   ${\\bf \\rho}(\\mu,V,T)$"
      ]
     },
     "execution_count": 282,
     "metadata": {},
     "output_type": "execute_result"
    }
   ],
   "source": [
    "lnPi.serieswrapper.CollectionlnPi.from_lists(items, indexes).vgce.dens"
   ]
  },
  {
   "cell_type": "raw",
   "metadata": {},
   "source": [
    "r = ref.reweight(lnzs[0])\n",
    "\n",
    "masks, features = lnPi.serieswrapper.labels_to_masks(labels[0], convention=False)\n",
    "\n",
    "index = np.array(features)- 1\n",
    "\n",
    "r.list_from_masks(masks, convention=False)"
   ]
  },
  {
   "cell_type": "code",
   "execution_count": 64,
   "metadata": {},
   "outputs": [],
   "source": [
    "da = o.to_dataarray()"
   ]
  },
  {
   "cell_type": "code",
   "execution_count": 65,
   "metadata": {},
   "outputs": [
    {
     "data": {
      "text/plain": [
       "<xarray.DataArray 'labels' (sample: 2, n_0: 661)>\n",
       "array([[1, 1, 1, ..., 2, 2, 2],\n",
       "       [1, 1, 1, ..., 2, 2, 2]], dtype=uint8)\n",
       "Coordinates:\n",
       "    beta     float64 1.429\n",
       "  * sample   (sample) MultiIndex\n",
       "  - lnz_0    (sample) float64 -13.0 -13.0\n",
       "    temp     float64 0.7\n",
       "    volume   int64 729\n",
       "Dimensions without coordinates: n_0"
      ]
     },
     "execution_count": 65,
     "metadata": {},
     "output_type": "execute_result"
    }
   ],
   "source": [
    "da"
   ]
  },
  {
   "cell_type": "code",
   "execution_count": 43,
   "metadata": {},
   "outputs": [],
   "source": [
    "for i, g in da.groupby('sample'):\n",
    "    break"
   ]
  },
  {
   "cell_type": "code",
   "execution_count": 49,
   "metadata": {},
   "outputs": [],
   "source": [
    "for i, g in da.reset_index('sample').groupby('sample'):\n",
    "    break"
   ]
  },
  {
   "cell_type": "code",
   "execution_count": null,
   "metadata": {},
   "outputs": [],
   "source": [
    "p.vgce._st"
   ]
  },
  {
   "cell_type": "code",
   "execution_count": 57,
   "metadata": {},
   "outputs": [
    {
     "data": {
      "text/plain": [
       "<xarray.DataArray 'lnpi' (phase: 2, n_0: 661)>\n",
       "array([[ -18.06161 ,  -17.848   ,  -18.302705, ...,         nan,         nan,\n",
       "                nan],\n",
       "       [        nan,         nan,         nan, ..., -522.591954, -525.880134,\n",
       "        -529.190194]])\n",
       "Coordinates:\n",
       "    lnz_0    float64 -13.0\n",
       "    volume   int64 729\n",
       "    temp     float64 0.7\n",
       "    beta     float64 1.429\n",
       "  * phase    (phase) int64 0 1\n",
       "Dimensions without coordinates: n_0\n",
       "Attributes:\n",
       "    dims_n:      ['n_0']\n",
       "    dims_lnz:    ['lnz_0']\n",
       "    dims_comp:   ['component']\n",
       "    dims_state:  ['lnz_0', 'volume', 'temp', 'beta']\n",
       "    long_name:   $\\ln \\Pi(n,\\mu,V,T)$"
      ]
     },
     "execution_count": 57,
     "metadata": {},
     "output_type": "execute_result"
    }
   ],
   "source": [
    "p.xgce.lnpi"
   ]
  },
  {
   "cell_type": "code",
   "execution_count": 55,
   "metadata": {},
   "outputs": [
    {
     "data": {
      "text/plain": [
       "<xarray.DataArray 'lnpi' (sample: 4, n_0: 661)>\n",
       "array([[ -18.06161 ,  -17.848   ,  -18.302705, ...,         nan,         nan,\n",
       "                nan],\n",
       "       [        nan,         nan,         nan, ..., -522.591954, -525.880134,\n",
       "        -529.190194],\n",
       "       [ -18.06161 ,  -16.848   ,  -16.302705, ...,         nan,         nan,\n",
       "                nan],\n",
       "       [        nan,         nan,         nan, ...,  135.408046,  133.119866,\n",
       "         130.809806]])\n",
       "Coordinates:\n",
       "    beta     float64 1.429\n",
       "  * sample   (sample) MultiIndex\n",
       "  - lnz_0    (sample) float64 -13.0 -13.0 -12.0 -12.0\n",
       "  - phase    (sample) int64 0 1 0 1\n",
       "    temp     float64 0.7\n",
       "    volume   int64 729\n",
       "Dimensions without coordinates: n_0\n",
       "Attributes:\n",
       "    dims_n:      ['n_0']\n",
       "    dims_lnz:    ['lnz_0']\n",
       "    dims_comp:   ['component']\n",
       "    dims_state:  ['lnz_0']\n",
       "    dims_rec:    ['sample']\n",
       "    long_name:   $\\ln \\Pi(n,\\mu,V,T)$"
      ]
     },
     "execution_count": 55,
     "metadata": {},
     "output_type": "execute_result"
    }
   ],
   "source": [
    "o.vgce.lnpi"
   ]
  },
  {
   "cell_type": "code",
   "execution_count": 53,
   "metadata": {},
   "outputs": [
    {
     "data": {
      "text/plain": [
       "<xarray.DataArray 'labels' (n_0: 661)>\n",
       "array([1, 1, 1, ..., 2, 2, 2], dtype=uint8)\n",
       "Coordinates:\n",
       "    lnz_0    float64 -13.0\n",
       "    volume   int64 729\n",
       "    temp     float64 0.7\n",
       "    beta     float64 1.429\n",
       "Dimensions without coordinates: n_0\n",
       "Attributes:\n",
       "    dims_n:      ['n_0']\n",
       "    dims_lnz:    ['lnz_0']\n",
       "    dims_comp:   ['component']\n",
       "    dims_state:  ['lnz_0', 'volume', 'temp', 'beta']\n",
       "    long_name:   $\\ln \\Pi(n,\\mu,V,T)$"
      ]
     },
     "execution_count": 53,
     "metadata": {},
     "output_type": "execute_result"
    }
   ],
   "source": [
    "p.to_dataarray()"
   ]
  },
  {
   "cell_type": "code",
   "execution_count": 376,
   "metadata": {},
   "outputs": [
    {
     "data": {
      "text/plain": [
       "<xarray.DataArray 'labels' (n_0: 661)>\n",
       "array([1, 1, 1, ..., 2, 2, 2], dtype=uint8)\n",
       "Coordinates:\n",
       "    lnz_0    float64 -13.0\n",
       "    volume   int64 729\n",
       "    temp     float64 0.7\n",
       "    beta     float64 1.429\n",
       "Dimensions without coordinates: n_0\n",
       "Attributes:\n",
       "    dims_n:      ['n_0']\n",
       "    dims_lnz:    ['lnz_0']\n",
       "    dims_comp:   ['component']\n",
       "    dims_state:  ['lnz_0', 'volume', 'temp', 'beta']\n",
       "    long_name:   $\\ln \\Pi(n,\\mu,V,T)$"
      ]
     },
     "execution_count": 376,
     "metadata": {},
     "output_type": "execute_result"
    }
   ],
   "source": [
    "p.to_dataarray()"
   ]
  },
  {
   "cell_type": "code",
   "execution_count": null,
   "metadata": {},
   "outputs": [],
   "source": [
    "o.iloc[0]"
   ]
  },
  {
   "cell_type": "code",
   "execution_count": 391,
   "metadata": {},
   "outputs": [
    {
     "data": {
      "text/plain": [
       "{'volume': 729, 'temp': 0.7, 'beta': 1.4285714285714286}"
      ]
     },
     "execution_count": 391,
     "metadata": {},
     "output_type": "execute_result"
    }
   ],
   "source": [
    "ref.state_kws"
   ]
  },
  {
   "cell_type": "code",
   "execution_count": 389,
   "metadata": {},
   "outputs": [
    {
     "data": {
      "text/plain": [
       "True"
      ]
     },
     "execution_count": 389,
     "metadata": {},
     "output_type": "execute_result"
    }
   ],
   "source": [
    "o.iloc[0].state_kws == o.iloc[1].state_kws"
   ]
  },
  {
   "cell_type": "code",
   "execution_count": 386,
   "metadata": {},
   "outputs": [
    {
     "data": {
      "text/plain": [
       "{'volume': 729, 'temp': 0.7, 'beta': 1.4285714285714286}"
      ]
     },
     "execution_count": 386,
     "metadata": {},
     "output_type": "execute_result"
    }
   ],
   "source": [
    "ref.state_kws"
   ]
  },
  {
   "cell_type": "code",
   "execution_count": 385,
   "metadata": {},
   "outputs": [
    {
     "data": {
      "text/plain": [
       "{'a': 1, 'b': 2}"
      ]
     },
     "execution_count": 385,
     "metadata": {},
     "output_type": "execute_result"
    }
   ],
   "source": [
    "{'a':1, **{'b':2}}"
   ]
  },
  {
   "cell_type": "code",
   "execution_count": 384,
   "metadata": {},
   "outputs": [
    {
     "data": {
      "text/plain": [
       "MultiIndex([(-13.0, 0, 729, 0.7, 1.4285714285714286),\n",
       "            (-13.0, 1, 729, 0.7, 1.4285714285714286),\n",
       "            (-12.0, 0, 729, 0.7, 1.4285714285714286),\n",
       "            (-12.0, 1, 729, 0.7, 1.4285714285714286)],\n",
       "           names=['lnz_0', 'phase', 'volume', 'temp', 'beta'])"
      ]
     },
     "execution_count": 384,
     "metadata": {},
     "output_type": "execute_result"
    }
   ],
   "source": [
    "o.index"
   ]
  },
  {
   "cell_type": "code",
   "execution_count": 382,
   "metadata": {},
   "outputs": [
    {
     "data": {
      "text/plain": [
       "{'lnz_0': -12.308571428571428,\n",
       " 'volume': 729,\n",
       " 'temp': 0.7,\n",
       " 'beta': 1.4285714285714286}"
      ]
     },
     "execution_count": 382,
     "metadata": {},
     "output_type": "execute_result"
    }
   ],
   "source": [
    "ref._index_dict()"
   ]
  },
  {
   "cell_type": "code",
   "execution_count": 380,
   "metadata": {},
   "outputs": [
    {
     "data": {
      "text/plain": [
       "MultiIndex([(-13.0, 0, 729, 0.7, 1.4285714285714286),\n",
       "            (-13.0, 1, 729, 0.7, 1.4285714285714286),\n",
       "            (-12.0, 0, 729, 0.7, 1.4285714285714286),\n",
       "            (-12.0, 1, 729, 0.7, 1.4285714285714286)],\n",
       "           names=['lnz_0', 'phase', 'volume', 'temp', 'beta'])"
      ]
     },
     "execution_count": 380,
     "metadata": {},
     "output_type": "execute_result"
    }
   ],
   "source": [
    "o.index"
   ]
  },
  {
   "cell_type": "code",
   "execution_count": 379,
   "metadata": {},
   "outputs": [
    {
     "data": {
      "text/plain": [
       "{'lnz_0': -12.308571428571428,\n",
       " 'phase': 0,\n",
       " 'volume': 729,\n",
       " 'temp': 0.7,\n",
       " 'beta': 1.4285714285714286}"
      ]
     },
     "execution_count": 379,
     "metadata": {},
     "output_type": "execute_result"
    }
   ],
   "source": [
    "ref._index_dict(0)"
   ]
  },
  {
   "cell_type": "code",
   "execution_count": 377,
   "metadata": {},
   "outputs": [
    {
     "data": {
      "text/plain": [
       "array([{'dims_n': ['n_0'], 'dims_lnz': ['lnz_0'], 'dims_comp': ['component'], 'dims_state': ['lnz_0', 'volume', 'temp', 'beta']},\n",
       "       {'dims_n': ['n_0'], 'dims_lnz': ['lnz_0'], 'dims_comp': ['component'], 'dims_state': ['lnz_0', 'volume', 'temp', 'beta']}],\n",
       "      dtype=object)"
      ]
     },
     "execution_count": 377,
     "metadata": {},
     "output_type": "execute_result"
    }
   ],
   "source": [
    "p.xgce._standard_attrs"
   ]
  },
  {
   "cell_type": "code",
   "execution_count": 375,
   "metadata": {},
   "outputs": [
    {
     "data": {
      "text/plain": [
       "<xarray.DataArray 'labels' (sample: 2, n_0: 661)>\n",
       "array([[1, 1, 1, ..., 2, 2, 2],\n",
       "       [1, 1, 1, ..., 2, 2, 2]], dtype=int8)\n",
       "Coordinates:\n",
       "  * sample   (sample) MultiIndex\n",
       "  - lnz_0    (sample) float64 -13.0 -13.0\n",
       "  - volume   (sample) float64 729.0 729.0\n",
       "  - temp     (sample) float64 0.7 0.7\n",
       "  - beta     (sample) float64 1.429 1.429\n",
       "Dimensions without coordinates: n_0"
      ]
     },
     "execution_count": 375,
     "metadata": {},
     "output_type": "execute_result"
    }
   ],
   "source": [
    "o.labels()"
   ]
  },
  {
   "cell_type": "code",
   "execution_count": 123,
   "metadata": {},
   "outputs": [],
   "source": [
    "g = o.groupby(o.index.droplevel('phase').names)"
   ]
  },
  {
   "cell_type": "code",
   "execution_count": 221,
   "metadata": {},
   "outputs": [],
   "source": [
    "df = o.series.reset_index(name='lnpi')"
   ]
  },
  {
   "cell_type": "code",
   "execution_count": 224,
   "metadata": {},
   "outputs": [],
   "source": [
    "for meta, g in df.groupby(df.columns.drop(['phase','lnpi']).tolist()):\n",
    "    break"
   ]
  },
  {
   "cell_type": "code",
   "execution_count": 248,
   "metadata": {},
   "outputs": [
    {
     "data": {
      "text/html": [
       "<div>\n",
       "<style scoped>\n",
       "    .dataframe tbody tr th:only-of-type {\n",
       "        vertical-align: middle;\n",
       "    }\n",
       "\n",
       "    .dataframe tbody tr th {\n",
       "        vertical-align: top;\n",
       "    }\n",
       "\n",
       "    .dataframe thead th {\n",
       "        text-align: right;\n",
       "    }\n",
       "</style>\n",
       "<table border=\"1\" class=\"dataframe\">\n",
       "  <thead>\n",
       "    <tr style=\"text-align: right;\">\n",
       "      <th></th>\n",
       "      <th>lnz_0</th>\n",
       "      <th>volume</th>\n",
       "      <th>temp</th>\n",
       "      <th>beta</th>\n",
       "    </tr>\n",
       "  </thead>\n",
       "  <tbody>\n",
       "    <tr>\n",
       "      <td>0</td>\n",
       "      <td>-13.0</td>\n",
       "      <td>729.0</td>\n",
       "      <td>0.7</td>\n",
       "      <td>1.428571</td>\n",
       "    </tr>\n",
       "  </tbody>\n",
       "</table>\n",
       "</div>"
      ],
      "text/plain": [
       "   lnz_0  volume  temp      beta\n",
       "0  -13.0   729.0   0.7  1.428571"
      ]
     },
     "execution_count": 248,
     "metadata": {},
     "output_type": "execute_result"
    }
   ],
   "source": [
    "pd.DataFrame([g.drop(['phase','lnpi'], axis=1).iloc[0]])\n"
   ]
  },
  {
   "cell_type": "code",
   "execution_count": 240,
   "metadata": {},
   "outputs": [
    {
     "data": {
      "text/html": [
       "<div>\n",
       "<style scoped>\n",
       "    .dataframe tbody tr th:only-of-type {\n",
       "        vertical-align: middle;\n",
       "    }\n",
       "\n",
       "    .dataframe tbody tr th {\n",
       "        vertical-align: top;\n",
       "    }\n",
       "\n",
       "    .dataframe thead th {\n",
       "        text-align: right;\n",
       "    }\n",
       "</style>\n",
       "<table border=\"1\" class=\"dataframe\">\n",
       "  <thead>\n",
       "    <tr style=\"text-align: right;\">\n",
       "      <th></th>\n",
       "      <th>0</th>\n",
       "    </tr>\n",
       "  </thead>\n",
       "  <tbody>\n",
       "    <tr>\n",
       "      <td>0</td>\n",
       "      <td>lnz_0</td>\n",
       "    </tr>\n",
       "    <tr>\n",
       "      <td>1</td>\n",
       "      <td>volume</td>\n",
       "    </tr>\n",
       "    <tr>\n",
       "      <td>2</td>\n",
       "      <td>temp</td>\n",
       "    </tr>\n",
       "    <tr>\n",
       "      <td>3</td>\n",
       "      <td>beta</td>\n",
       "    </tr>\n",
       "  </tbody>\n",
       "</table>\n",
       "</div>"
      ],
      "text/plain": [
       "        0\n",
       "0   lnz_0\n",
       "1  volume\n",
       "2    temp\n",
       "3    beta"
      ]
     },
     "execution_count": 240,
     "metadata": {},
     "output_type": "execute_result"
    }
   ],
   "source": [
    "pd.DataFrame([gg for gg in g.drop(['phase','lnpi'], axis=1)])"
   ]
  },
  {
   "cell_type": "code",
   "execution_count": 235,
   "metadata": {},
   "outputs": [
    {
     "data": {
      "text/html": [
       "<div>\n",
       "<style scoped>\n",
       "    .dataframe tbody tr th:only-of-type {\n",
       "        vertical-align: middle;\n",
       "    }\n",
       "\n",
       "    .dataframe tbody tr th {\n",
       "        vertical-align: top;\n",
       "    }\n",
       "\n",
       "    .dataframe thead th {\n",
       "        text-align: right;\n",
       "    }\n",
       "</style>\n",
       "<table border=\"1\" class=\"dataframe\">\n",
       "  <thead>\n",
       "    <tr style=\"text-align: right;\">\n",
       "      <th></th>\n",
       "      <th>lnz_0</th>\n",
       "      <th>volume</th>\n",
       "      <th>temp</th>\n",
       "      <th>beta</th>\n",
       "    </tr>\n",
       "  </thead>\n",
       "  <tbody>\n",
       "    <tr>\n",
       "      <td>0</td>\n",
       "      <td>-13.0</td>\n",
       "      <td>729</td>\n",
       "      <td>0.7</td>\n",
       "      <td>1.428571</td>\n",
       "    </tr>\n",
       "  </tbody>\n",
       "</table>\n",
       "</div>"
      ],
      "text/plain": [
       "   lnz_0  volume  temp      beta\n",
       "0  -13.0     729   0.7  1.428571"
      ]
     },
     "execution_count": 235,
     "metadata": {},
     "output_type": "execute_result"
    }
   ],
   "source": [
    "g.iloc[:1].drop(['phase','lnpi'], axis=1)"
   ]
  },
  {
   "cell_type": "code",
   "execution_count": 200,
   "metadata": {},
   "outputs": [],
   "source": [
    "for meta, g in o.groupby(o.index.droplevel('phase').names):\n",
    "    break"
   ]
  },
  {
   "cell_type": "code",
   "execution_count": 220,
   "metadata": {},
   "outputs": [
    {
     "data": {
      "text/plain": [
       "MaskedlnPi(\n",
       "     lnz=array([-13.])\n",
       "     state_kws={'volume': 729, 'temp': 0.7, 'beta': 1.4285714285714286}\n",
       "     data=masked_array(data=[-18.06161029539, -17.84800046681857,\n",
       "                   -18.302704738247144, -19.13800220967572,\n",
       "                   -20.23611698110429, -21.53215345253286,\n",
       "                   -22.985455523961434, -24.568074095390003,\n",
       "                   -26.259267066818577, -28.043793738247146,\n",
       "                   -29.907977309675722, -31.841714081104293,\n",
       "                   -33.837059152532866, -35.88647272396144,\n",
       "                   -37.98403029539001, -40.12399686681859,\n",
       "                   -42.30361943824715, -44.51712000967572,\n",
       "                   -46.7615055811043, -49.03402815253286,\n",
       "                   -51.33028872396144, -53.64933229539001,\n",
       "                   -55.98695886681858, -58.34128643824715,\n",
       "                   -60.710917009675725, -63.0928845811043,\n",
       "                   -65.48499315253287, -67.88546972396145,\n",
       "                   -70.29259729539001, -72.7044528668186,\n",
       "                   -75.11876843824716, -77.53393300967574,\n",
       "                   -79.9482865811043, -82.35911315253287,\n",
       "                   -84.76408472396145, -87.16032129539002,\n",
       "                   -89.54644286681858, -91.91993843824716,\n",
       "                   -94.27762000967573, -96.61860958110431,\n",
       "                   -98.93975715253288, -101.23812072396146,\n",
       "                   -103.51207629539003, -105.76174486681859,\n",
       "                   -107.98561543824718, -110.18324000967576,\n",
       "                   -112.35622458110431, -114.50422315253289,\n",
       "                   -116.62786772396146, -118.72920329539004,\n",
       "                   -120.8099368668186, -122.87072943824717,\n",
       "                   -124.91302100967576, -126.93788358110433,\n",
       "                   -128.9464531525329, -130.93994572396144,\n",
       "                   -132.91960629539005, -134.8841028668186,\n",
       "                   -136.83623743824717, -138.77686200937575,\n",
       "                   -140.70616058080432, -142.6237301522329,\n",
       "                   -144.53064772366145, -146.42784429509004,\n",
       "                   -148.3134408665186, -150.19040843794718,\n",
       "                   -152.05723800937574, -153.91529458080433,\n",
       "                   -155.7653701522329, -157.60624672366146,\n",
       "                   -159.43854429509003, -161.2622568665186,\n",
       "                   -163.0793094379472, -164.88839500937576,\n",
       "                   -166.69026058080433, -168.4825391522329,\n",
       "                   -170.26739772366147, -172.04402629509005,\n",
       "                   -173.81446486651862, -175.57758343794717,\n",
       "                   -177.33287200937576, -179.08147058080434,\n",
       "                   -180.8235191522329, -182.55735772366148,\n",
       "                   -184.28452629509005, -186.00315486651863,\n",
       "                   -187.7163534379472, -189.42275200937576,\n",
       "                   -191.12100058080432, -192.8122291522329,\n",
       "                   -194.49544772366147, -196.17184629509006,\n",
       "                   -197.83991486651863, -199.4988834379472,\n",
       "                   -201.14898200937577, -202.78947058080433,\n",
       "                   -204.42295915223292, -206.04578772366148,\n",
       "                   -207.65780629509007, -209.26223486651867,\n",
       "                   -210.85343343794722, -212.43677200937577,\n",
       "                   -214.01031058080434, -215.57260915223293,\n",
       "                   -217.1255877236615, -218.66658629509007,\n",
       "                   -220.19881486651866, -221.7206034379472,\n",
       "                   -223.23420200937576, -224.73728058080434,\n",
       "                   -226.2303291522329, -227.7140077236615,\n",
       "                   -229.18981629509008, -230.65559486651864,\n",
       "                   -232.11378343794723, -233.5656520093758,\n",
       "                   -235.00678058080436, -236.44133915223293,\n",
       "                   -237.8694277236615, -239.29070629509008,\n",
       "                   -240.70694486651865, -242.1160434379472,\n",
       "                   -243.51823200937582, -244.91622058080438,\n",
       "                   -246.30836915223293, -247.6952477236615,\n",
       "                   -249.07849629509008, -250.45487486651865,\n",
       "                   -251.82811343794722, -253.1942820093758,\n",
       "                   -254.55697058080438, -255.91486915223294,\n",
       "                   -257.26862772366155, -258.6185262950901,\n",
       "                   -259.9639848665187, -261.3052534379473,\n",
       "                   -262.6419820093758, -263.97663058080434,\n",
       "                   -265.30582915223295, -266.63169772366155,\n",
       "                   -267.95381629509006, -269.27270486651867,\n",
       "                   -270.5883934379473, -271.8993920093758,\n",
       "                   -273.2082405808044, -274.513489152233,\n",
       "                   -275.8148177236615, -277.1143162950901,\n",
       "                   -278.4087748665187, -279.70052343794725,\n",
       "                   -280.9869820093758, -282.2708805808044,\n",
       "                   -283.55136915223295, -284.82986772366155,\n",
       "                   -286.1052362950901, -287.3772048665187,\n",
       "                   -288.64604343794724, -289.91126200937583,\n",
       "                   -291.17250058080435, -292.43241915223297,\n",
       "                   -293.68807772366154, -294.9391362950901,\n",
       "                   -296.1871848665187, -297.43107343794725,\n",
       "                   -298.6722620093758, -299.9094705808044,\n",
       "                   -301.143099152233, -302.37223772366156,\n",
       "                   -303.59731629509014, -304.8172248665187,\n",
       "                   -306.0337734379473, -307.24581200937587,\n",
       "                   -308.4523605808044, -309.652179152233,\n",
       "                   -310.8471277236615, -312.0373962950901,\n",
       "                   -313.2201448665187, -314.39604343794724,\n",
       "                   -315.56529200937587, -316.7278005808044,\n",
       "                   -317.882949152233, -319.0319477236616,\n",
       "                   -320.1708362950901, -321.3025548665187,\n",
       "                   -322.4255434379473, -323.5376220093758,\n",
       "                   -324.6405005808044, -325.732819152233,\n",
       "                   -326.81572772366155, -327.88820629509013,\n",
       "                   -328.9500148665187, -329.99825343794726,\n",
       "                   -331.0343820093758, -332.0603305808044,\n",
       "                   -333.07249915223304, -334.07164772366156,\n",
       "                   -335.05937629509015, -336.03240486651873,\n",
       "                   -336.9914734379473, -337.9368420093758,\n",
       "                   -338.86746058080445, -339.784099152233,\n",
       "                   -340.68750772366155, -341.57590629509014,\n",
       "                   -342.4506248665187, -343.3113934379473,\n",
       "                   -344.15945200937585, -344.99528058080443,\n",
       "                   -345.820549152233, -346.63243772366155,\n",
       "                   -347.43522629509016, -348.22886486651873,\n",
       "                   -349.0148334379473, -349.79211200937584,\n",
       "                   -350.56262058080443, -351.327559152233,\n",
       "                   -352.0857977236616, -352.83918629509014,\n",
       "                   -353.5879548665187, -354.33281343794727,\n",
       "                   -355.07389200937587, -355.81334058080444,\n",
       "                   -356.54673915223304, -357.2776677236616,\n",
       "                   -358.0060962950902, -358.73214486651875,\n",
       "                   -359.4558734379473, -360.17759200937587,\n",
       "                   -360.8958405808045, -361.613679152233,\n",
       "                   -362.3292577236616, -363.0433262950902,\n",
       "                   -363.7539748665188, -364.4642534379473,\n",
       "                   -365.17193200937584, -365.87663058080443,\n",
       "                   -366.583829152233, -367.2879477236616,\n",
       "                   -367.98859629509013, -368.6901448665187,\n",
       "                   -369.3884634379473, -370.0876620093759,\n",
       "                   -370.78564058080445, -371.482429152233,\n",
       "                   -372.1775377236616, -372.87290629509016,\n",
       "                   -373.56758486651876, -374.2589934379473,\n",
       "                   -374.95085200937586, -375.6434005808045,\n",
       "                   -376.33411915223303, -377.0233477236616,\n",
       "                   -377.7090862950902, -378.3963048665188,\n",
       "                   -379.0828434379473, -379.7696820093759,\n",
       "                   -380.4531105808045, -381.13515915223303,\n",
       "                   -381.8156377236616, -382.4978562950902,\n",
       "                   -383.1797448665188, -383.86041343794733,\n",
       "                   -384.5395920093759, -385.2203505808045,\n",
       "                   -385.90013915223307, -386.5787877236616,\n",
       "                   -387.25615629509014, -387.93353486651876,\n",
       "                   -388.61232343794734, -389.2884120093759,\n",
       "                   -389.96465058080446, -390.64032915223305,\n",
       "                   -391.3152777236616, -391.9872162950902,\n",
       "                   -392.6614348665188, -393.3355134379473,\n",
       "                   -394.0088520093759, -394.68115058080446,\n",
       "                   -395.35288915223305, -396.0259377236616,\n",
       "                   -396.6987462950902, -397.3711748665188,\n",
       "                   -398.04255343794733, -398.7134820093759,\n",
       "                   -399.3815797648045, -400.0498917362331,\n",
       "                   -400.71967015766165, -401.3856997950902,\n",
       "                   -402.0529646165188, -402.72325608794733,\n",
       "                   -403.39206925937594, -404.06002473080446,\n",
       "                   -404.72721960223305, -405.39705717366166,\n",
       "                   -406.0651538450902, -406.7334837165188,\n",
       "                   -407.39975858794736, -408.0632455593759,\n",
       "                   -408.7296696308045, -409.3913375022331,\n",
       "                   -410.0559014736616, -410.7177369450902,\n",
       "                   -411.3811469165188, -412.04665868794734,\n",
       "                   -412.7132292593759, -413.3791047308045,\n",
       "                   -414.0410768022331, -414.7049729736616,\n",
       "                   -415.36585824509024, -416.0269173165188,\n",
       "                   -416.68911778794734, -417.34810855937593,\n",
       "                   -418.0064929308045, -418.66649060223307,\n",
       "                   -419.32710697366167, -419.98463574509026,\n",
       "                   -420.6400457165188, -421.29577948794736,\n",
       "                   -421.95163055937593, -422.60349603080454,\n",
       "                   -423.2588003022331, -423.91022637366166,\n",
       "                   -424.5638412450902, -425.2178545165188,\n",
       "                   -425.8706460879474, -426.5216269593759,\n",
       "                   -427.17220323080454, -427.8230592022331,\n",
       "                   -428.47483577366165, -429.1263260450902,\n",
       "                   -429.7786131165188, -430.4285215879474,\n",
       "                   -431.0745915593759, -431.72310783080457,\n",
       "                   -432.36661170223306, -433.0132429736617,\n",
       "                   -433.65668964509024, -434.2972198165188,\n",
       "                   -434.9364505879474, -435.57430575937593,\n",
       "                   -436.2105962308045, -436.84579810223306,\n",
       "                   -437.4815770736617, -438.1150274450903,\n",
       "                   -438.7425098165188, -439.36903928794743,\n",
       "                   -439.992807059376, -440.6126652308045,\n",
       "                   -441.23165850223313, -441.84310657366166,\n",
       "                   -442.45115794509024, -443.05629501651885,\n",
       "                   -443.6534013879474, -444.24482575937594,\n",
       "                   -444.8277829308046, -445.40062900223313,\n",
       "                   -445.9648206736617, -446.52272684509023,\n",
       "                   -447.06814641651886, -447.6020219219474,\n",
       "                   -448.121953143376, -448.62984181380455,\n",
       "                   -449.12101156923313, -449.5980591406617,\n",
       "                   -450.0588817120903, -450.5020942835189,\n",
       "                   -450.9294468549474, -451.341249426376,\n",
       "                   -451.7404619978046, -452.1202655692331,\n",
       "                   -452.4873681406617, -452.83903471209027,\n",
       "                   -453.1812992835188, -453.50857085494744,\n",
       "                   -453.82192542637597, -454.12618399780456,\n",
       "                   -454.41995256923315, -454.70091314066167,\n",
       "                   -454.9699807120903, -455.2300082835188,\n",
       "                   -455.4810428549474, -455.722160426376,\n",
       "                   -455.9560999978046, -456.17911856923314,\n",
       "                   -456.3956951406617, -456.60383571209024,\n",
       "                   -456.80844028351885, -457.0041408549474,\n",
       "                   -457.195341426376, -457.3822939978046,\n",
       "                   -457.5624395692331, -457.7391881406618,\n",
       "                   -457.9106837120903, -458.0771562835189,\n",
       "                   -458.23611485494746, -458.39060042637595,\n",
       "                   -458.5415989978046, -458.68896756923317,\n",
       "                   -458.8318591406617, -458.9710392120903,\n",
       "                   -459.1079754835189, -459.24069335494744,\n",
       "                   -459.369738326376, -459.49546899780455,\n",
       "                   -459.61587426923313, -459.7345233406618,\n",
       "                   -459.8503639120903, -459.9608541835189,\n",
       "                   -460.07051795494743, -460.173879526376,\n",
       "                   -460.2769829308046, -460.37517636923315,\n",
       "                   -460.47146244066175, -460.56016204509024,\n",
       "                   -460.64936801351894, -460.7307535849475,\n",
       "                   -460.817013156376, -460.8955907278046,\n",
       "                   -460.96915029923315, -461.04332787066176,\n",
       "                   -461.1166614420903, -461.1795470135189,\n",
       "                   -461.23928258494743, -461.29726815637605,\n",
       "                   -461.35003872780464, -461.40477929923316,\n",
       "                   -461.4544558706617, -461.4953284420903,\n",
       "                   -461.53427401351894, -461.5714345849475,\n",
       "                   -461.60683915637605, -461.6380977278046,\n",
       "                   -461.6602872992331, -461.68211187066174,\n",
       "                   -461.6920784420903, -461.70185501351887, --, --, --,\n",
       "                   --, --, --, --, --, --, --, --, --, --, --, --, --, --,\n",
       "                   --, --, --, --, --, --, --, --, --, --, --, --, --, --,\n",
       "                   --, --, --, --, --, --, --, --, --, --, --, --, --, --,\n",
       "                   --, --, --, --, --, --, --, --, --, --, --, --, --, --,\n",
       "                   --, --, --, --, --, --, --, --, --, --, --, --, --, --,\n",
       "                   --, --, --, --, --, --, --, --, --, --, --, --, --, --,\n",
       "                   --, --, --, --, --, --, --, --, --, --, --, --, --, --,\n",
       "                   --, --, --, --, --, --, --, --, --, --, --, --, --, --,\n",
       "                   --, --, --, --, --, --, --, --, --, --, --, --, --, --,\n",
       "                   --, --, --, --, --, --, --, --, --, --, --, --, --, --,\n",
       "                   --, --, --, --, --, --, --, --, --, --, --, --, --, --,\n",
       "                   --, --, --, --, --, --, --, --, --, --, --, --, --, --,\n",
       "                   --, --, --, --, --, --, --, --, --, --, --, --, --, --,\n",
       "                   --, --, --, --, --, --, --, --, --, --, --, --, --, --,\n",
       "                   --, --, --, --, --, --, --, --, --, --, --, --, --, --,\n",
       "                   --, --, --, --, --, --, --, --, --, --, --, --],\n",
       "             mask=[False, False, False, False, False, False, False, False,\n",
       "                   False, False, False, False, False, False, False, False,\n",
       "                   False, False, False, False, False, False, False, False,\n",
       "                   False, False, False, False, False, False, False, False,\n",
       "                   False, False, False, False, False, False, False, False,\n",
       "                   False, False, False, False, False, False, False, False,\n",
       "                   False, False, False, False, False, False, False, False,\n",
       "                   False, False, False, False, False, False, False, False,\n",
       "                   False, False, False, False, False, False, False, False,\n",
       "                   False, False, False, False, False, False, False, False,\n",
       "                   False, False, False, False, False, False, False, False,\n",
       "                   False, False, False, False, False, False, False, False,\n",
       "                   False, False, False, False, False, False, False, False,\n",
       "                   False, False, False, False, False, False, False, False,\n",
       "                   False, False, False, False, False, False, False, False,\n",
       "                   False, False, False, False, False, False, False, False,\n",
       "                   False, False, False, False, False, False, False, False,\n",
       "                   False, False, False, False, False, False, False, False,\n",
       "                   False, False, False, False, False, False, False, False,\n",
       "                   False, False, False, False, False, False, False, False,\n",
       "                   False, False, False, False, False, False, False, False,\n",
       "                   False, False, False, False, False, False, False, False,\n",
       "                   False, False, False, False, False, False, False, False,\n",
       "                   False, False, False, False, False, False, False, False,\n",
       "                   False, False, False, False, False, False, False, False,\n",
       "                   False, False, False, False, False, False, False, False,\n",
       "                   False, False, False, False, False, False, False, False,\n",
       "                   False, False, False, False, False, False, False, False,\n",
       "                   False, False, False, False, False, False, False, False,\n",
       "                   False, False, False, False, False, False, False, False,\n",
       "                   False, False, False, False, False, False, False, False,\n",
       "                   False, False, False, False, False, False, False, False,\n",
       "                   False, False, False, False, False, False, False, False,\n",
       "                   False, False, False, False, False, False, False, False,\n",
       "                   False, False, False, False, False, False, False, False,\n",
       "                   False, False, False, False, False, False, False, False,\n",
       "                   False, False, False, False, False, False, False, False,\n",
       "                   False, False, False, False, False, False, False, False,\n",
       "                   False, False, False, False, False, False, False, False,\n",
       "                   False, False, False, False, False, False, False, False,\n",
       "                   False, False, False, False, False, False, False, False,\n",
       "                   False, False, False, False, False, False, False, False,\n",
       "                   False, False, False, False, False, False, False, False,\n",
       "                   False, False, False, False, False, False, False, False,\n",
       "                   False, False, False, False, False, False, False, False,\n",
       "                   False, False, False, False, False, False, False, False,\n",
       "                   False, False, False, False, False, False, False, False,\n",
       "                   False, False, False, False, False, False, False, False,\n",
       "                   False, False, False, False, False, False, False, False,\n",
       "                   False, False, False, False, False, False, False, False,\n",
       "                   False, False, False, False, False, False, False, False,\n",
       "                   False, False, False, False, False, False, False, False,\n",
       "                   False, False, False, False, False, False, False, False,\n",
       "                   False, False, False, False, False, False, False, False,\n",
       "                   False, False, False, False,  True,  True,  True,  True,\n",
       "                    True,  True,  True,  True,  True,  True,  True,  True,\n",
       "                    True,  True,  True,  True,  True,  True,  True,  True,\n",
       "                    True,  True,  True,  True,  True,  True,  True,  True,\n",
       "                    True,  True,  True,  True,  True,  True,  True,  True,\n",
       "                    True,  True,  True,  True,  True,  True,  True,  True,\n",
       "                    True,  True,  True,  True,  True,  True,  True,  True,\n",
       "                    True,  True,  True,  True,  True,  True,  True,  True,\n",
       "                    True,  True,  True,  True,  True,  True,  True,  True,\n",
       "                    True,  True,  True,  True,  True,  True,  True,  True,\n",
       "                    True,  True,  True,  True,  True,  True,  True,  True,\n",
       "                    True,  True,  True,  True,  True,  True,  True,  True,\n",
       "                    True,  True,  True,  True,  True,  True,  True,  True,\n",
       "                    True,  True,  True,  True,  True,  True,  True,  True,\n",
       "                    True,  True,  True,  True,  True,  True,  True,  True,\n",
       "                    True,  True,  True,  True,  True,  True,  True,  True,\n",
       "                    True,  True,  True,  True,  True,  True,  True,  True,\n",
       "                    True,  True,  True,  True,  True,  True,  True,  True,\n",
       "                    True,  True,  True,  True,  True,  True,  True,  True,\n",
       "                    True,  True,  True,  True,  True,  True,  True,  True,\n",
       "                    True,  True,  True,  True,  True,  True,  True,  True,\n",
       "                    True,  True,  True,  True,  True,  True,  True,  True,\n",
       "                    True,  True,  True,  True,  True,  True,  True,  True,\n",
       "                    True,  True,  True,  True,  True,  True,  True,  True,\n",
       "                    True,  True,  True,  True,  True,  True,  True,  True,\n",
       "                    True,  True,  True,  True,  True,  True,  True,  True,\n",
       "                    True,  True,  True,  True,  True,  True,  True,  True,\n",
       "                    True,  True,  True,  True,  True,  True,  True,  True,\n",
       "                    True,  True,  True,  True,  True],\n",
       "       fill_value=nan)\n",
       "     extra_kws={'PE': array([ 4.00372530e-08,  4.00315170e-08, -3.08827170e-02, -9.29015900e-02,\n",
       "       -1.86473600e-01, -3.12017350e-01, -4.69909240e-01, -6.61072130e-01,\n",
       "       -8.85689080e-01, -1.14388670e+00, -1.43719140e+00, -1.76599550e+00,\n",
       "       -2.13138090e+00, -2.53390050e+00, -2.97365080e+00, -3.45312550e+00,\n",
       "       -3.97310410e+00, -4.53367990e+00, -5.13853180e+00, -5.78871290e+00,\n",
       "       -6.48572960e+00, -7.23159840e+00, -8.03079290e+00, -8.88585390e+00,\n",
       "       -9.80087210e+00, -1.07810260e+01, -1.18291810e+01, -1.29562380e+01,\n",
       "       -1.41657920e+01, -1.54659870e+01, -1.68729920e+01, -1.83968600e+01,\n",
       "       -2.00517520e+01, -2.18591040e+01, -2.38410480e+01, -2.60061990e+01,\n",
       "       -2.83865320e+01, -3.09894640e+01, -3.38463170e+01, -3.69556600e+01,\n",
       "       -4.03222860e+01, -4.39534400e+01, -4.78207500e+01, -5.18882610e+01,\n",
       "       -5.61101670e+01, -6.04556860e+01, -6.48780700e+01, -6.93333210e+01,\n",
       "       -7.37720110e+01, -7.81821340e+01, -8.25572420e+01, -8.68960830e+01,\n",
       "       -9.11890630e+01, -9.54250750e+01, -9.96080690e+01, -1.03750490e+02,\n",
       "       -1.07860410e+02, -1.11945680e+02, -1.15996440e+02, -1.20015640e+02,\n",
       "       -1.24042230e+02, -1.28051570e+02, -1.32032110e+02, -1.36006310e+02,\n",
       "       -1.39987220e+02, -1.43958320e+02, -1.47914690e+02, -1.51856840e+02,\n",
       "       -1.55779180e+02, -1.59718210e+02, -1.63657620e+02, -1.67599970e+02,\n",
       "       -1.71533970e+02, -1.75477890e+02, -1.79422520e+02, -1.83344590e+02,\n",
       "       -1.87297930e+02, -1.91225910e+02, -1.95158150e+02, -1.99099690e+02,\n",
       "       -2.03036380e+02, -2.06992550e+02, -2.10903200e+02, -2.14827830e+02,\n",
       "       -2.18776310e+02, -2.22715850e+02, -2.26667600e+02, -2.30618230e+02,\n",
       "       -2.34592250e+02, -2.38564770e+02, -2.42555790e+02, -2.46568010e+02,\n",
       "       -2.50584500e+02, -2.54602380e+02, -2.58655580e+02, -2.62749290e+02,\n",
       "       -2.66845320e+02, -2.70987920e+02, -2.75147480e+02, -2.79316770e+02,\n",
       "       -2.83550930e+02, -2.87773240e+02, -2.92065960e+02, -2.96395540e+02,\n",
       "       -3.00748210e+02, -3.05103830e+02, -3.09482550e+02, -3.13915430e+02,\n",
       "       -3.18384110e+02, -3.22867350e+02, -3.27369890e+02, -3.31890990e+02,\n",
       "       -3.36428650e+02, -3.40992290e+02, -3.45581560e+02, -3.50161070e+02,\n",
       "       -3.54749640e+02, -3.59325870e+02, -3.63917150e+02, -3.68485480e+02,\n",
       "       -3.73079580e+02, -3.77680220e+02, -3.82272600e+02, -3.86875690e+02,\n",
       "       -3.91480500e+02, -3.96053150e+02, -4.00656210e+02, -4.05272390e+02,\n",
       "       -4.09882530e+02, -4.14492590e+02, -4.19088980e+02, -4.23658330e+02,\n",
       "       -4.28231440e+02, -4.32836770e+02, -4.37411730e+02, -4.42009370e+02,\n",
       "       -4.46630020e+02, -4.51213200e+02, -4.55802180e+02, -4.60400310e+02,\n",
       "       -4.65010270e+02, -4.69595410e+02, -4.74189240e+02, -4.78775810e+02,\n",
       "       -4.83349490e+02, -4.87905450e+02, -4.92483310e+02, -4.97090120e+02,\n",
       "       -5.01676540e+02, -5.06245440e+02, -5.10826830e+02, -5.15377350e+02,\n",
       "       -5.19938050e+02, -5.24484990e+02, -5.29038820e+02, -5.33619020e+02,\n",
       "       -5.38133770e+02, -5.42670430e+02, -5.47232110e+02, -5.51782040e+02,\n",
       "       -5.56334940e+02, -5.60883700e+02, -5.65404850e+02, -5.69925950e+02,\n",
       "       -5.74435490e+02, -5.78962500e+02, -5.83501040e+02, -5.88009350e+02,\n",
       "       -5.92513310e+02, -5.96977570e+02, -6.01450040e+02, -6.05906710e+02,\n",
       "       -6.10361430e+02, -6.14804220e+02, -6.19270230e+02, -6.23711880e+02,\n",
       "       -6.28155990e+02, -6.32622480e+02, -6.37060260e+02, -6.41510810e+02,\n",
       "       -6.45962300e+02, -6.50401750e+02, -6.54860000e+02, -6.59301640e+02,\n",
       "       -6.63815280e+02, -6.68333670e+02, -6.72852790e+02, -6.77387960e+02,\n",
       "       -6.81905370e+02, -6.86486290e+02, -6.91128130e+02, -6.95813340e+02,\n",
       "       -7.00522450e+02, -7.05258400e+02, -7.09963550e+02, -7.14754220e+02,\n",
       "       -7.19603170e+02, -7.24465400e+02, -7.29397060e+02, -7.34400110e+02,\n",
       "       -7.39422930e+02, -7.44506390e+02, -7.49646590e+02, -7.54835190e+02,\n",
       "       -7.60160380e+02, -7.65448930e+02, -7.70802340e+02, -7.76231200e+02,\n",
       "       -7.81713050e+02, -7.87219900e+02, -7.92777170e+02, -7.98347820e+02,\n",
       "       -8.03934750e+02, -8.09533180e+02, -8.15158920e+02, -8.20767310e+02,\n",
       "       -8.26316020e+02, -8.31929790e+02, -8.37537130e+02, -8.43169870e+02,\n",
       "       -8.48814710e+02, -8.54439500e+02, -8.60067170e+02, -8.65715830e+02,\n",
       "       -8.71347110e+02, -8.76943170e+02, -8.82512790e+02, -8.88120010e+02,\n",
       "       -8.93718160e+02, -8.99313150e+02, -9.04912410e+02, -9.10552910e+02,\n",
       "       -9.16197150e+02, -9.21907940e+02, -9.27541430e+02, -9.33119120e+02,\n",
       "       -9.38767620e+02, -9.44431570e+02, -9.50066390e+02, -9.55660060e+02,\n",
       "       -9.61252360e+02, -9.66859260e+02, -9.72466880e+02, -9.78058990e+02,\n",
       "       -9.83700770e+02, -9.89315690e+02, -9.94932590e+02, -1.00054310e+03,\n",
       "       -1.00616090e+03, -1.01184190e+03, -1.01746230e+03, -1.02309320e+03,\n",
       "       -1.02871110e+03, -1.03433040e+03, -1.03993270e+03, -1.04555590e+03,\n",
       "       -1.05115700e+03, -1.05674870e+03, -1.06235020e+03, -1.06797830e+03,\n",
       "       -1.07356390e+03, -1.07910580e+03, -1.08471390e+03, -1.09033980e+03,\n",
       "       -1.09598370e+03, -1.10159980e+03, -1.10719820e+03, -1.11279470e+03,\n",
       "       -1.11845730e+03, -1.12407790e+03, -1.12965860e+03, -1.13531710e+03,\n",
       "       -1.14093710e+03, -1.14648920e+03, -1.15207880e+03, -1.15767280e+03,\n",
       "       -1.16327770e+03, -1.16883750e+03, -1.17442220e+03, -1.17998660e+03,\n",
       "       -1.18556090e+03, -1.19117230e+03, -1.19677880e+03, -1.20236860e+03,\n",
       "       -1.20794660e+03, -1.21350202e+03, -1.21907992e+03, -1.22467776e+03,\n",
       "       -1.23027338e+03, -1.23587498e+03, -1.24141448e+03, -1.24692928e+03,\n",
       "       -1.25244508e+03, -1.25804218e+03, -1.26362958e+03, -1.26918638e+03,\n",
       "       -1.27476508e+03, -1.28036288e+03, -1.28584098e+03, -1.29140658e+03,\n",
       "       -1.29695478e+03, -1.30249188e+03, -1.30807318e+03, -1.31363528e+03,\n",
       "       -1.31920788e+03, -1.32475688e+03, -1.33026738e+03, -1.33579148e+03,\n",
       "       -1.34129048e+03, -1.34690468e+03, -1.35249738e+03, -1.35813198e+03,\n",
       "       -1.36366388e+03, -1.36918788e+03, -1.37479428e+03, -1.38035398e+03,\n",
       "       -1.38591548e+03, -1.39147408e+03, -1.39706978e+03, -1.40265688e+03,\n",
       "       -1.40816268e+03, -1.41371708e+03, -1.41921018e+03, -1.42473508e+03,\n",
       "       -1.43022148e+03, -1.43563578e+03, -1.44111308e+03, -1.44657598e+03,\n",
       "       -1.45194268e+03, -1.45748758e+03, -1.46291838e+03, -1.46835118e+03,\n",
       "       -1.47374998e+03, -1.47917488e+03, -1.48460928e+03, -1.49000268e+03,\n",
       "       -1.49533878e+03, -1.50071358e+03, -1.50602608e+03, -1.51131948e+03,\n",
       "       -1.51665528e+03, -1.52183568e+03, -1.52707468e+03, -1.53229268e+03,\n",
       "       -1.53747968e+03, -1.54265878e+03, -1.54760708e+03, -1.55260078e+03,\n",
       "       -1.55752538e+03, -1.56238598e+03, -1.56719178e+03, -1.57188588e+03,\n",
       "       -1.57651078e+03, -1.58101138e+03, -1.58536478e+03, -1.58957668e+03,\n",
       "       -1.59373148e+03, -1.59776298e+03, -1.60166688e+03, -1.60544368e+03,\n",
       "       -1.60917890e+03, -1.61274848e+03, -1.61631772e+03, -1.61987772e+03,\n",
       "       -1.62350322e+03, -1.62730092e+03, -1.63104292e+03, -1.63494102e+03,\n",
       "       -1.63894262e+03, -1.64300162e+03, -1.64731282e+03, -1.65168802e+03,\n",
       "       -1.65620392e+03, -1.66083452e+03, -1.66554692e+03, -1.67034442e+03,\n",
       "       -1.67523082e+03, -1.68024262e+03, -1.68536372e+03, -1.69061192e+03,\n",
       "       -1.69589732e+03, -1.70135062e+03, -1.70682642e+03, -1.71234422e+03,\n",
       "       -1.71798872e+03, -1.72368642e+03, -1.72940472e+03, -1.73512672e+03,\n",
       "       -1.74095152e+03, -1.74685192e+03, -1.75275362e+03, -1.75871142e+03,\n",
       "       -1.76466052e+03, -1.77075282e+03, -1.77668662e+03, -1.78270752e+03,\n",
       "       -1.78881372e+03, -1.79490832e+03, -1.80090352e+03, -1.80696872e+03,\n",
       "       -1.81300652e+03, -1.81909622e+03, -1.82523312e+03, -1.83127682e+03,\n",
       "       -1.83743832e+03, -1.84355812e+03, -1.84971902e+03, -1.85582292e+03,\n",
       "       -1.86194222e+03, -1.86818412e+03, -1.87425762e+03, -1.88040818e+03,\n",
       "       -1.88645516e+03, -1.89256252e+03, -1.89861314e+03, -1.90478294e+03,\n",
       "       -1.91096124e+03, -1.91705134e+03, -1.92314354e+03, -1.92929434e+03,\n",
       "       -1.93544104e+03, -1.94159124e+03, -1.94763494e+03, -1.95369134e+03,\n",
       "       -1.95974414e+03, -1.96573864e+03, -1.97172014e+03, -1.97761944e+03,\n",
       "       -1.98360264e+03, -1.98955344e+03, -1.99545494e+03, -2.00133674e+03,\n",
       "       -2.00730774e+03, -2.01308844e+03, -2.01893224e+03, -2.02466884e+03,\n",
       "       -2.03048334e+03, -2.03617084e+03, -2.04181074e+03, -2.04737774e+03,\n",
       "       -2.05297064e+03, -2.05866734e+03, -2.06404124e+03, -2.06946994e+03,\n",
       "       -2.07496064e+03, -2.08029564e+03, -2.08554564e+03, -2.09095034e+03,\n",
       "       -2.09625874e+03, -2.10154114e+03, -2.10687514e+03, -2.11236654e+03,\n",
       "       -2.11767714e+03, -2.12310782e+03, -2.12846076e+03, -2.13393736e+03,\n",
       "       -2.13935216e+03, -2.14486556e+03, -2.15048646e+03, -2.15611016e+03,\n",
       "       -2.16184596e+03, -2.16754296e+03, -2.17320906e+03, -2.17887676e+03,\n",
       "       -2.18475236e+03, -2.19067556e+03, -2.19672426e+03, -2.20264086e+03,\n",
       "       -2.20877016e+03, -2.21488746e+03, -2.22098846e+03, -2.22714126e+03,\n",
       "       -2.23323546e+03, -2.23937676e+03, -2.24553346e+03, -2.25176846e+03,\n",
       "       -2.25767086e+03, -2.26377336e+03, -2.26975286e+03, -2.27555526e+03,\n",
       "       -2.28158396e+03, -2.28739886e+03, -2.29311826e+03, -2.29872316e+03,\n",
       "       -2.30421736e+03, -2.30969566e+03, -2.31486156e+03, -2.31973836e+03,\n",
       "       -2.32444636e+03, -2.32893632e+03, -2.33319444e+03, -2.33720620e+03,\n",
       "       -2.34089886e+03, -2.34484566e+03, -2.34853046e+03, -2.35208856e+03,\n",
       "       -2.35599516e+03, -2.36017496e+03, -2.36440216e+03, -2.36903816e+03,\n",
       "       -2.37418946e+03, -2.37979336e+03, -2.38597586e+03, -2.39259506e+03,\n",
       "       -2.39976446e+03, -2.40733136e+03, -2.41499636e+03, -2.42290156e+03,\n",
       "       -2.43110926e+03, -2.43947296e+03, -2.44806906e+03, -2.45666446e+03,\n",
       "       -2.46550626e+03, -2.47433226e+03, -2.48342546e+03, -2.49262906e+03,\n",
       "       -2.50185586e+03, -2.51103246e+03, -2.52023696e+03, -2.52958470e+03,\n",
       "       -2.53894250e+03, -2.54839246e+03, -2.55792890e+03, -2.56745520e+03,\n",
       "       -2.57690700e+03, -2.58647640e+03, -2.59609120e+03, -2.60582740e+03,\n",
       "       -2.61545500e+03, -2.62504060e+03, -2.63477380e+03, -2.64456180e+03,\n",
       "       -2.65432200e+03, -2.66420370e+03, -2.67405380e+03, -2.68397960e+03,\n",
       "       -2.69386870e+03, -2.70368250e+03, -2.71367750e+03, -2.72359500e+03,\n",
       "       -2.73359700e+03, -2.74360830e+03, -2.75354810e+03, -2.76363210e+03,\n",
       "       -2.77371040e+03, -2.78387210e+03, -2.79384780e+03, -2.80397712e+03,\n",
       "       -2.81408428e+03, -2.82418306e+03, -2.83440396e+03, -2.84452806e+03,\n",
       "       -2.85473816e+03, -2.86488066e+03, -2.87522596e+03, -2.88550906e+03,\n",
       "       -2.89583036e+03, -2.90613796e+03, -2.91634806e+03, -2.92662136e+03,\n",
       "       -2.93698546e+03, -2.94731836e+03, -2.95748376e+03, -2.96777826e+03,\n",
       "       -2.97811966e+03, -2.98863556e+03, -2.99899326e+03, -3.00926636e+03,\n",
       "       -3.01972576e+03, -3.03030396e+03, -3.04073906e+03, -3.05105346e+03,\n",
       "       -3.06154536e+03, -3.07194156e+03, -3.08260624e+03, -3.09301138e+03,\n",
       "       -3.10346660e+03, -3.11400420e+03, -3.12443550e+03, -3.13495840e+03,\n",
       "       -3.14556110e+03, -3.15609680e+03, -3.16662630e+03, -3.17719460e+03,\n",
       "       -3.18770750e+03, -3.19826160e+03, -3.20882770e+03, -3.21942410e+03,\n",
       "       -3.22996140e+03, -3.24059960e+03, -3.25121720e+03, -3.26167900e+03,\n",
       "       -3.27229850e+03, -3.28289890e+03, -3.29352600e+03, -3.30413654e+03,\n",
       "       -3.31461966e+03, -3.32530444e+03, -3.33600942e+03, -3.34645352e+03,\n",
       "       -3.35707222e+03, -3.36761762e+03, -3.37831762e+03, -3.38893582e+03,\n",
       "       -3.39975262e+03, -3.41027952e+03, -3.42085242e+03, -3.43150272e+03,\n",
       "       -3.44238212e+03, -3.45283932e+03, -3.46355482e+03, -3.47418722e+03,\n",
       "       -3.48483732e+03, -3.49546462e+03, -3.50614012e+03, -3.51722062e+03,\n",
       "       -3.52775362e+03, -3.53819604e+03, -3.54874514e+03, -3.55948200e+03,\n",
       "       -3.56998944e+03, -3.58092654e+03, -3.59129614e+03, -3.60178504e+03,\n",
       "       -3.61256284e+03, -3.62317374e+03, -3.63373984e+03, -3.64425694e+03,\n",
       "       -3.65509794e+03, -3.66555164e+03, -3.67625434e+03, -3.68660144e+03,\n",
       "       -3.69748214e+03, -3.70776774e+03, -3.71841984e+03, -3.72930214e+03,\n",
       "       -3.73981464e+03, -3.75029412e+03, -3.76071898e+03, -3.77112416e+03,\n",
       "       -3.78157778e+03, -3.79230668e+03, -3.80339288e+03, -3.81352788e+03,\n",
       "       -3.82420028e+03, -3.83435958e+03, -3.84508378e+03, -3.85547138e+03,\n",
       "       -3.86583098e+03, -3.87644108e+03, -3.88650968e+03, -3.89715978e+03,\n",
       "       -3.90716878e+03, -3.91792748e+03, -3.92810268e+03, -3.93856488e+03,\n",
       "       -3.94917308e+03, -3.95935298e+03, -3.96941738e+03, -3.97945148e+03,\n",
       "       -3.99017378e+03])}\n",
       ")"
      ]
     },
     "execution_count": 220,
     "metadata": {},
     "output_type": "execute_result"
    }
   ],
   "source": [
    "g.iloc[0]"
   ]
  },
  {
   "cell_type": "code",
   "execution_count": 202,
   "metadata": {},
   "outputs": [],
   "source": [
    "for phase, gg in g.groupby('phase'):\n",
    "    break"
   ]
  },
  {
   "cell_type": "code",
   "execution_count": 210,
   "metadata": {},
   "outputs": [],
   "source": [
    "for m, gg in g.items():\n",
    "    break"
   ]
  },
  {
   "cell_type": "code",
   "execution_count": 215,
   "metadata": {},
   "outputs": [
    {
     "data": {
      "text/html": [
       "<div>\n",
       "<style scoped>\n",
       "    .dataframe tbody tr th:only-of-type {\n",
       "        vertical-align: middle;\n",
       "    }\n",
       "\n",
       "    .dataframe tbody tr th {\n",
       "        vertical-align: top;\n",
       "    }\n",
       "\n",
       "    .dataframe thead th {\n",
       "        text-align: right;\n",
       "    }\n",
       "</style>\n",
       "<table border=\"1\" class=\"dataframe\">\n",
       "  <thead>\n",
       "    <tr style=\"text-align: right;\">\n",
       "      <th></th>\n",
       "      <th>lnz_0</th>\n",
       "      <th>phase</th>\n",
       "      <th>volume</th>\n",
       "      <th>temp</th>\n",
       "      <th>beta</th>\n",
       "      <th>lnpi</th>\n",
       "    </tr>\n",
       "  </thead>\n",
       "  <tbody>\n",
       "    <tr>\n",
       "      <td>0</td>\n",
       "      <td>-13.0</td>\n",
       "      <td>0</td>\n",
       "      <td>729</td>\n",
       "      <td>0.7</td>\n",
       "      <td>1.428571</td>\n",
       "      <td>[-18.06161029539, -17.84800046681857, -18.3027...</td>\n",
       "    </tr>\n",
       "    <tr>\n",
       "      <td>1</td>\n",
       "      <td>-13.0</td>\n",
       "      <td>1</td>\n",
       "      <td>729</td>\n",
       "      <td>0.7</td>\n",
       "      <td>1.428571</td>\n",
       "      <td>[--, --, --, --, --, --, --, --, --, --, --, -...</td>\n",
       "    </tr>\n",
       "  </tbody>\n",
       "</table>\n",
       "</div>"
      ],
      "text/plain": [
       "   lnz_0  phase  volume  temp      beta  \\\n",
       "0  -13.0      0     729   0.7  1.428571   \n",
       "1  -13.0      1     729   0.7  1.428571   \n",
       "\n",
       "                                                lnpi  \n",
       "0  [-18.06161029539, -17.84800046681857, -18.3027...  \n",
       "1  [--, --, --, --, --, --, --, --, --, --, --, -...  "
      ]
     },
     "execution_count": 215,
     "metadata": {},
     "output_type": "execute_result"
    }
   ],
   "source": [
    "g.reset_index(name='lnpi')"
   ]
  },
  {
   "cell_type": "code",
   "execution_count": 206,
   "metadata": {},
   "outputs": [
    {
     "data": {
      "text/plain": [
       "array([False, False, False, False, False, False, False, False, False,\n",
       "       False, False, False, False, False, False, False, False, False,\n",
       "       False, False, False, False, False, False, False, False, False,\n",
       "       False, False, False, False, False, False, False, False, False,\n",
       "       False, False, False, False, False, False, False, False, False,\n",
       "       False, False, False, False, False, False, False, False, False,\n",
       "       False, False, False, False, False, False, False, False, False,\n",
       "       False, False, False, False, False, False, False, False, False,\n",
       "       False, False, False, False, False, False, False, False, False,\n",
       "       False, False, False, False, False, False, False, False, False,\n",
       "       False, False, False, False, False, False, False, False, False,\n",
       "       False, False, False, False, False, False, False, False, False,\n",
       "       False, False, False, False, False, False, False, False, False,\n",
       "       False, False, False, False, False, False, False, False, False,\n",
       "       False, False, False, False, False, False, False, False, False,\n",
       "       False, False, False, False, False, False, False, False, False,\n",
       "       False, False, False, False, False, False, False, False, False,\n",
       "       False, False, False, False, False, False, False, False, False,\n",
       "       False, False, False, False, False, False, False, False, False,\n",
       "       False, False, False, False, False, False, False, False, False,\n",
       "       False, False, False, False, False, False, False, False, False,\n",
       "       False, False, False, False, False, False, False, False, False,\n",
       "       False, False, False, False, False, False, False, False, False,\n",
       "       False, False, False, False, False, False, False, False, False,\n",
       "       False, False, False, False, False, False, False, False, False,\n",
       "       False, False, False, False, False, False, False, False, False,\n",
       "       False, False, False, False, False, False, False, False, False,\n",
       "       False, False, False, False, False, False, False, False, False,\n",
       "       False, False, False, False, False, False, False, False, False,\n",
       "       False, False, False, False, False, False, False, False, False,\n",
       "       False, False, False, False, False, False, False, False, False,\n",
       "       False, False, False, False, False, False, False, False, False,\n",
       "       False, False, False, False, False, False, False, False, False,\n",
       "       False, False, False, False, False, False, False, False, False,\n",
       "       False, False, False, False, False, False, False, False, False,\n",
       "       False, False, False, False, False, False, False, False, False,\n",
       "       False, False, False, False, False, False, False, False, False,\n",
       "       False, False, False, False, False, False, False, False, False,\n",
       "       False, False, False, False, False, False, False, False, False,\n",
       "       False, False, False, False, False, False, False, False, False,\n",
       "       False, False, False, False, False, False, False, False, False,\n",
       "       False, False, False, False, False, False, False, False, False,\n",
       "       False, False, False, False, False, False, False, False, False,\n",
       "       False, False, False, False, False, False, False, False, False,\n",
       "       False, False, False, False, False, False, False, False, False,\n",
       "       False, False, False, False, False, False, False, False, False,\n",
       "       False, False, False, False, False, False, False, False, False,\n",
       "       False, False, False, False, False, False, False, False, False,\n",
       "       False, False, False, False,  True,  True,  True,  True,  True,\n",
       "        True,  True,  True,  True,  True,  True,  True,  True,  True,\n",
       "        True,  True,  True,  True,  True,  True,  True,  True,  True,\n",
       "        True,  True,  True,  True,  True,  True,  True,  True,  True,\n",
       "        True,  True,  True,  True,  True,  True,  True,  True,  True,\n",
       "        True,  True,  True,  True,  True,  True,  True,  True,  True,\n",
       "        True,  True,  True,  True,  True,  True,  True,  True,  True,\n",
       "        True,  True,  True,  True,  True,  True,  True,  True,  True,\n",
       "        True,  True,  True,  True,  True,  True,  True,  True,  True,\n",
       "        True,  True,  True,  True,  True,  True,  True,  True,  True,\n",
       "        True,  True,  True,  True,  True,  True,  True,  True,  True,\n",
       "        True,  True,  True,  True,  True,  True,  True,  True,  True,\n",
       "        True,  True,  True,  True,  True,  True,  True,  True,  True,\n",
       "        True,  True,  True,  True,  True,  True,  True,  True,  True,\n",
       "        True,  True,  True,  True,  True,  True,  True,  True,  True,\n",
       "        True,  True,  True,  True,  True,  True,  True,  True,  True,\n",
       "        True,  True,  True,  True,  True,  True,  True,  True,  True,\n",
       "        True,  True,  True,  True,  True,  True,  True,  True,  True,\n",
       "        True,  True,  True,  True,  True,  True,  True,  True,  True,\n",
       "        True,  True,  True,  True,  True,  True,  True,  True,  True,\n",
       "        True,  True,  True,  True,  True,  True,  True,  True,  True,\n",
       "        True,  True,  True,  True,  True,  True,  True,  True,  True,\n",
       "        True,  True,  True,  True,  True,  True,  True,  True,  True,\n",
       "        True,  True,  True,  True,  True,  True,  True,  True,  True,\n",
       "        True,  True,  True,  True,  True,  True,  True,  True,  True,\n",
       "        True,  True,  True,  True])"
      ]
     },
     "execution_count": 206,
     "metadata": {},
     "output_type": "execute_result"
    }
   ],
   "source": [
    "gg.iloc[0].mask"
   ]
  },
  {
   "cell_type": "code",
   "execution_count": 176,
   "metadata": {},
   "outputs": [
    {
     "data": {
      "text/plain": [
       "MaskedlnPi(\n",
       "     lnz=array([-13.])\n",
       "     state_kws={'volume': 729, 'temp': 0.7, 'beta': 1.4285714285714286}\n",
       "     data=masked_array(data=[-18.06161029539, -17.84800046681857,\n",
       "                   -18.302704738247144, -19.13800220967572,\n",
       "                   -20.23611698110429, -21.53215345253286,\n",
       "                   -22.985455523961434, -24.568074095390003,\n",
       "                   -26.259267066818577, -28.043793738247146,\n",
       "                   -29.907977309675722, -31.841714081104293,\n",
       "                   -33.837059152532866, -35.88647272396144,\n",
       "                   -37.98403029539001, -40.12399686681859,\n",
       "                   -42.30361943824715, -44.51712000967572,\n",
       "                   -46.7615055811043, -49.03402815253286,\n",
       "                   -51.33028872396144, -53.64933229539001,\n",
       "                   -55.98695886681858, -58.34128643824715,\n",
       "                   -60.710917009675725, -63.0928845811043,\n",
       "                   -65.48499315253287, -67.88546972396145,\n",
       "                   -70.29259729539001, -72.7044528668186,\n",
       "                   -75.11876843824716, -77.53393300967574,\n",
       "                   -79.9482865811043, -82.35911315253287,\n",
       "                   -84.76408472396145, -87.16032129539002,\n",
       "                   -89.54644286681858, -91.91993843824716,\n",
       "                   -94.27762000967573, -96.61860958110431,\n",
       "                   -98.93975715253288, -101.23812072396146,\n",
       "                   -103.51207629539003, -105.76174486681859,\n",
       "                   -107.98561543824718, -110.18324000967576,\n",
       "                   -112.35622458110431, -114.50422315253289,\n",
       "                   -116.62786772396146, -118.72920329539004,\n",
       "                   -120.8099368668186, -122.87072943824717,\n",
       "                   -124.91302100967576, -126.93788358110433,\n",
       "                   -128.9464531525329, -130.93994572396144,\n",
       "                   -132.91960629539005, -134.8841028668186,\n",
       "                   -136.83623743824717, -138.77686200937575,\n",
       "                   -140.70616058080432, -142.6237301522329,\n",
       "                   -144.53064772366145, -146.42784429509004,\n",
       "                   -148.3134408665186, -150.19040843794718,\n",
       "                   -152.05723800937574, -153.91529458080433,\n",
       "                   -155.7653701522329, -157.60624672366146,\n",
       "                   -159.43854429509003, -161.2622568665186,\n",
       "                   -163.0793094379472, -164.88839500937576,\n",
       "                   -166.69026058080433, -168.4825391522329,\n",
       "                   -170.26739772366147, -172.04402629509005,\n",
       "                   -173.81446486651862, -175.57758343794717,\n",
       "                   -177.33287200937576, -179.08147058080434,\n",
       "                   -180.8235191522329, -182.55735772366148,\n",
       "                   -184.28452629509005, -186.00315486651863,\n",
       "                   -187.7163534379472, -189.42275200937576,\n",
       "                   -191.12100058080432, -192.8122291522329,\n",
       "                   -194.49544772366147, -196.17184629509006,\n",
       "                   -197.83991486651863, -199.4988834379472,\n",
       "                   -201.14898200937577, -202.78947058080433,\n",
       "                   -204.42295915223292, -206.04578772366148,\n",
       "                   -207.65780629509007, -209.26223486651867,\n",
       "                   -210.85343343794722, -212.43677200937577,\n",
       "                   -214.01031058080434, -215.57260915223293,\n",
       "                   -217.1255877236615, -218.66658629509007,\n",
       "                   -220.19881486651866, -221.7206034379472,\n",
       "                   -223.23420200937576, -224.73728058080434,\n",
       "                   -226.2303291522329, -227.7140077236615,\n",
       "                   -229.18981629509008, -230.65559486651864,\n",
       "                   -232.11378343794723, -233.5656520093758,\n",
       "                   -235.00678058080436, -236.44133915223293,\n",
       "                   -237.8694277236615, -239.29070629509008,\n",
       "                   -240.70694486651865, -242.1160434379472,\n",
       "                   -243.51823200937582, -244.91622058080438,\n",
       "                   -246.30836915223293, -247.6952477236615,\n",
       "                   -249.07849629509008, -250.45487486651865,\n",
       "                   -251.82811343794722, -253.1942820093758,\n",
       "                   -254.55697058080438, -255.91486915223294,\n",
       "                   -257.26862772366155, -258.6185262950901,\n",
       "                   -259.9639848665187, -261.3052534379473,\n",
       "                   -262.6419820093758, -263.97663058080434,\n",
       "                   -265.30582915223295, -266.63169772366155,\n",
       "                   -267.95381629509006, -269.27270486651867,\n",
       "                   -270.5883934379473, -271.8993920093758,\n",
       "                   -273.2082405808044, -274.513489152233,\n",
       "                   -275.8148177236615, -277.1143162950901,\n",
       "                   -278.4087748665187, -279.70052343794725,\n",
       "                   -280.9869820093758, -282.2708805808044,\n",
       "                   -283.55136915223295, -284.82986772366155,\n",
       "                   -286.1052362950901, -287.3772048665187,\n",
       "                   -288.64604343794724, -289.91126200937583,\n",
       "                   -291.17250058080435, -292.43241915223297,\n",
       "                   -293.68807772366154, -294.9391362950901,\n",
       "                   -296.1871848665187, -297.43107343794725,\n",
       "                   -298.6722620093758, -299.9094705808044,\n",
       "                   -301.143099152233, -302.37223772366156,\n",
       "                   -303.59731629509014, -304.8172248665187,\n",
       "                   -306.0337734379473, -307.24581200937587,\n",
       "                   -308.4523605808044, -309.652179152233,\n",
       "                   -310.8471277236615, -312.0373962950901,\n",
       "                   -313.2201448665187, -314.39604343794724,\n",
       "                   -315.56529200937587, -316.7278005808044,\n",
       "                   -317.882949152233, -319.0319477236616,\n",
       "                   -320.1708362950901, -321.3025548665187,\n",
       "                   -322.4255434379473, -323.5376220093758,\n",
       "                   -324.6405005808044, -325.732819152233,\n",
       "                   -326.81572772366155, -327.88820629509013,\n",
       "                   -328.9500148665187, -329.99825343794726,\n",
       "                   -331.0343820093758, -332.0603305808044,\n",
       "                   -333.07249915223304, -334.07164772366156,\n",
       "                   -335.05937629509015, -336.03240486651873,\n",
       "                   -336.9914734379473, -337.9368420093758,\n",
       "                   -338.86746058080445, -339.784099152233,\n",
       "                   -340.68750772366155, -341.57590629509014,\n",
       "                   -342.4506248665187, -343.3113934379473,\n",
       "                   -344.15945200937585, -344.99528058080443,\n",
       "                   -345.820549152233, -346.63243772366155,\n",
       "                   -347.43522629509016, -348.22886486651873,\n",
       "                   -349.0148334379473, -349.79211200937584,\n",
       "                   -350.56262058080443, -351.327559152233,\n",
       "                   -352.0857977236616, -352.83918629509014,\n",
       "                   -353.5879548665187, -354.33281343794727,\n",
       "                   -355.07389200937587, -355.81334058080444,\n",
       "                   -356.54673915223304, -357.2776677236616,\n",
       "                   -358.0060962950902, -358.73214486651875,\n",
       "                   -359.4558734379473, -360.17759200937587,\n",
       "                   -360.8958405808045, -361.613679152233,\n",
       "                   -362.3292577236616, -363.0433262950902,\n",
       "                   -363.7539748665188, -364.4642534379473,\n",
       "                   -365.17193200937584, -365.87663058080443,\n",
       "                   -366.583829152233, -367.2879477236616,\n",
       "                   -367.98859629509013, -368.6901448665187,\n",
       "                   -369.3884634379473, -370.0876620093759,\n",
       "                   -370.78564058080445, -371.482429152233,\n",
       "                   -372.1775377236616, -372.87290629509016,\n",
       "                   -373.56758486651876, -374.2589934379473,\n",
       "                   -374.95085200937586, -375.6434005808045,\n",
       "                   -376.33411915223303, -377.0233477236616,\n",
       "                   -377.7090862950902, -378.3963048665188,\n",
       "                   -379.0828434379473, -379.7696820093759,\n",
       "                   -380.4531105808045, -381.13515915223303,\n",
       "                   -381.8156377236616, -382.4978562950902,\n",
       "                   -383.1797448665188, -383.86041343794733,\n",
       "                   -384.5395920093759, -385.2203505808045,\n",
       "                   -385.90013915223307, -386.5787877236616,\n",
       "                   -387.25615629509014, -387.93353486651876,\n",
       "                   -388.61232343794734, -389.2884120093759,\n",
       "                   -389.96465058080446, -390.64032915223305,\n",
       "                   -391.3152777236616, -391.9872162950902,\n",
       "                   -392.6614348665188, -393.3355134379473,\n",
       "                   -394.0088520093759, -394.68115058080446,\n",
       "                   -395.35288915223305, -396.0259377236616,\n",
       "                   -396.6987462950902, -397.3711748665188,\n",
       "                   -398.04255343794733, -398.7134820093759,\n",
       "                   -399.3815797648045, -400.0498917362331,\n",
       "                   -400.71967015766165, -401.3856997950902,\n",
       "                   -402.0529646165188, -402.72325608794733,\n",
       "                   -403.39206925937594, -404.06002473080446,\n",
       "                   -404.72721960223305, -405.39705717366166,\n",
       "                   -406.0651538450902, -406.7334837165188,\n",
       "                   -407.39975858794736, -408.0632455593759,\n",
       "                   -408.7296696308045, -409.3913375022331,\n",
       "                   -410.0559014736616, -410.7177369450902,\n",
       "                   -411.3811469165188, -412.04665868794734,\n",
       "                   -412.7132292593759, -413.3791047308045,\n",
       "                   -414.0410768022331, -414.7049729736616,\n",
       "                   -415.36585824509024, -416.0269173165188,\n",
       "                   -416.68911778794734, -417.34810855937593,\n",
       "                   -418.0064929308045, -418.66649060223307,\n",
       "                   -419.32710697366167, -419.98463574509026,\n",
       "                   -420.6400457165188, -421.29577948794736,\n",
       "                   -421.95163055937593, -422.60349603080454,\n",
       "                   -423.2588003022331, -423.91022637366166,\n",
       "                   -424.5638412450902, -425.2178545165188,\n",
       "                   -425.8706460879474, -426.5216269593759,\n",
       "                   -427.17220323080454, -427.8230592022331,\n",
       "                   -428.47483577366165, -429.1263260450902,\n",
       "                   -429.7786131165188, -430.4285215879474,\n",
       "                   -431.0745915593759, -431.72310783080457,\n",
       "                   -432.36661170223306, -433.0132429736617,\n",
       "                   -433.65668964509024, -434.2972198165188,\n",
       "                   -434.9364505879474, -435.57430575937593,\n",
       "                   -436.2105962308045, -436.84579810223306,\n",
       "                   -437.4815770736617, -438.1150274450903,\n",
       "                   -438.7425098165188, -439.36903928794743,\n",
       "                   -439.992807059376, -440.6126652308045,\n",
       "                   -441.23165850223313, -441.84310657366166,\n",
       "                   -442.45115794509024, -443.05629501651885,\n",
       "                   -443.6534013879474, -444.24482575937594,\n",
       "                   -444.8277829308046, -445.40062900223313,\n",
       "                   -445.9648206736617, -446.52272684509023,\n",
       "                   -447.06814641651886, -447.6020219219474,\n",
       "                   -448.121953143376, -448.62984181380455,\n",
       "                   -449.12101156923313, -449.5980591406617,\n",
       "                   -450.0588817120903, -450.5020942835189,\n",
       "                   -450.9294468549474, -451.341249426376,\n",
       "                   -451.7404619978046, -452.1202655692331,\n",
       "                   -452.4873681406617, -452.83903471209027,\n",
       "                   -453.1812992835188, -453.50857085494744,\n",
       "                   -453.82192542637597, -454.12618399780456,\n",
       "                   -454.41995256923315, -454.70091314066167,\n",
       "                   -454.9699807120903, -455.2300082835188,\n",
       "                   -455.4810428549474, -455.722160426376,\n",
       "                   -455.9560999978046, -456.17911856923314,\n",
       "                   -456.3956951406617, -456.60383571209024,\n",
       "                   -456.80844028351885, -457.0041408549474,\n",
       "                   -457.195341426376, -457.3822939978046,\n",
       "                   -457.5624395692331, -457.7391881406618,\n",
       "                   -457.9106837120903, -458.0771562835189,\n",
       "                   -458.23611485494746, -458.39060042637595,\n",
       "                   -458.5415989978046, -458.68896756923317,\n",
       "                   -458.8318591406617, -458.9710392120903,\n",
       "                   -459.1079754835189, -459.24069335494744,\n",
       "                   -459.369738326376, -459.49546899780455,\n",
       "                   -459.61587426923313, -459.7345233406618,\n",
       "                   -459.8503639120903, -459.9608541835189,\n",
       "                   -460.07051795494743, -460.173879526376,\n",
       "                   -460.2769829308046, -460.37517636923315,\n",
       "                   -460.47146244066175, -460.56016204509024,\n",
       "                   -460.64936801351894, -460.7307535849475,\n",
       "                   -460.817013156376, -460.8955907278046,\n",
       "                   -460.96915029923315, -461.04332787066176,\n",
       "                   -461.1166614420903, -461.1795470135189,\n",
       "                   -461.23928258494743, -461.29726815637605,\n",
       "                   -461.35003872780464, -461.40477929923316,\n",
       "                   -461.4544558706617, -461.4953284420903,\n",
       "                   -461.53427401351894, -461.5714345849475,\n",
       "                   -461.60683915637605, -461.6380977278046,\n",
       "                   -461.6602872992331, -461.68211187066174,\n",
       "                   -461.6920784420903, -461.70185501351887, --, --, --,\n",
       "                   --, --, --, --, --, --, --, --, --, --, --, --, --, --,\n",
       "                   --, --, --, --, --, --, --, --, --, --, --, --, --, --,\n",
       "                   --, --, --, --, --, --, --, --, --, --, --, --, --, --,\n",
       "                   --, --, --, --, --, --, --, --, --, --, --, --, --, --,\n",
       "                   --, --, --, --, --, --, --, --, --, --, --, --, --, --,\n",
       "                   --, --, --, --, --, --, --, --, --, --, --, --, --, --,\n",
       "                   --, --, --, --, --, --, --, --, --, --, --, --, --, --,\n",
       "                   --, --, --, --, --, --, --, --, --, --, --, --, --, --,\n",
       "                   --, --, --, --, --, --, --, --, --, --, --, --, --, --,\n",
       "                   --, --, --, --, --, --, --, --, --, --, --, --, --, --,\n",
       "                   --, --, --, --, --, --, --, --, --, --, --, --, --, --,\n",
       "                   --, --, --, --, --, --, --, --, --, --, --, --, --, --,\n",
       "                   --, --, --, --, --, --, --, --, --, --, --, --, --, --,\n",
       "                   --, --, --, --, --, --, --, --, --, --, --, --, --, --,\n",
       "                   --, --, --, --, --, --, --, --, --, --, --, --, --, --,\n",
       "                   --, --, --, --, --, --, --, --, --, --, --, --],\n",
       "             mask=[False, False, False, False, False, False, False, False,\n",
       "                   False, False, False, False, False, False, False, False,\n",
       "                   False, False, False, False, False, False, False, False,\n",
       "                   False, False, False, False, False, False, False, False,\n",
       "                   False, False, False, False, False, False, False, False,\n",
       "                   False, False, False, False, False, False, False, False,\n",
       "                   False, False, False, False, False, False, False, False,\n",
       "                   False, False, False, False, False, False, False, False,\n",
       "                   False, False, False, False, False, False, False, False,\n",
       "                   False, False, False, False, False, False, False, False,\n",
       "                   False, False, False, False, False, False, False, False,\n",
       "                   False, False, False, False, False, False, False, False,\n",
       "                   False, False, False, False, False, False, False, False,\n",
       "                   False, False, False, False, False, False, False, False,\n",
       "                   False, False, False, False, False, False, False, False,\n",
       "                   False, False, False, False, False, False, False, False,\n",
       "                   False, False, False, False, False, False, False, False,\n",
       "                   False, False, False, False, False, False, False, False,\n",
       "                   False, False, False, False, False, False, False, False,\n",
       "                   False, False, False, False, False, False, False, False,\n",
       "                   False, False, False, False, False, False, False, False,\n",
       "                   False, False, False, False, False, False, False, False,\n",
       "                   False, False, False, False, False, False, False, False,\n",
       "                   False, False, False, False, False, False, False, False,\n",
       "                   False, False, False, False, False, False, False, False,\n",
       "                   False, False, False, False, False, False, False, False,\n",
       "                   False, False, False, False, False, False, False, False,\n",
       "                   False, False, False, False, False, False, False, False,\n",
       "                   False, False, False, False, False, False, False, False,\n",
       "                   False, False, False, False, False, False, False, False,\n",
       "                   False, False, False, False, False, False, False, False,\n",
       "                   False, False, False, False, False, False, False, False,\n",
       "                   False, False, False, False, False, False, False, False,\n",
       "                   False, False, False, False, False, False, False, False,\n",
       "                   False, False, False, False, False, False, False, False,\n",
       "                   False, False, False, False, False, False, False, False,\n",
       "                   False, False, False, False, False, False, False, False,\n",
       "                   False, False, False, False, False, False, False, False,\n",
       "                   False, False, False, False, False, False, False, False,\n",
       "                   False, False, False, False, False, False, False, False,\n",
       "                   False, False, False, False, False, False, False, False,\n",
       "                   False, False, False, False, False, False, False, False,\n",
       "                   False, False, False, False, False, False, False, False,\n",
       "                   False, False, False, False, False, False, False, False,\n",
       "                   False, False, False, False, False, False, False, False,\n",
       "                   False, False, False, False, False, False, False, False,\n",
       "                   False, False, False, False, False, False, False, False,\n",
       "                   False, False, False, False, False, False, False, False,\n",
       "                   False, False, False, False, False, False, False, False,\n",
       "                   False, False, False, False, False, False, False, False,\n",
       "                   False, False, False, False, False, False, False, False,\n",
       "                   False, False, False, False, False, False, False, False,\n",
       "                   False, False, False, False, False, False, False, False,\n",
       "                   False, False, False, False, False, False, False, False,\n",
       "                   False, False, False, False,  True,  True,  True,  True,\n",
       "                    True,  True,  True,  True,  True,  True,  True,  True,\n",
       "                    True,  True,  True,  True,  True,  True,  True,  True,\n",
       "                    True,  True,  True,  True,  True,  True,  True,  True,\n",
       "                    True,  True,  True,  True,  True,  True,  True,  True,\n",
       "                    True,  True,  True,  True,  True,  True,  True,  True,\n",
       "                    True,  True,  True,  True,  True,  True,  True,  True,\n",
       "                    True,  True,  True,  True,  True,  True,  True,  True,\n",
       "                    True,  True,  True,  True,  True,  True,  True,  True,\n",
       "                    True,  True,  True,  True,  True,  True,  True,  True,\n",
       "                    True,  True,  True,  True,  True,  True,  True,  True,\n",
       "                    True,  True,  True,  True,  True,  True,  True,  True,\n",
       "                    True,  True,  True,  True,  True,  True,  True,  True,\n",
       "                    True,  True,  True,  True,  True,  True,  True,  True,\n",
       "                    True,  True,  True,  True,  True,  True,  True,  True,\n",
       "                    True,  True,  True,  True,  True,  True,  True,  True,\n",
       "                    True,  True,  True,  True,  True,  True,  True,  True,\n",
       "                    True,  True,  True,  True,  True,  True,  True,  True,\n",
       "                    True,  True,  True,  True,  True,  True,  True,  True,\n",
       "                    True,  True,  True,  True,  True,  True,  True,  True,\n",
       "                    True,  True,  True,  True,  True,  True,  True,  True,\n",
       "                    True,  True,  True,  True,  True,  True,  True,  True,\n",
       "                    True,  True,  True,  True,  True,  True,  True,  True,\n",
       "                    True,  True,  True,  True,  True,  True,  True,  True,\n",
       "                    True,  True,  True,  True,  True,  True,  True,  True,\n",
       "                    True,  True,  True,  True,  True,  True,  True,  True,\n",
       "                    True,  True,  True,  True,  True,  True,  True,  True,\n",
       "                    True,  True,  True,  True,  True,  True,  True,  True,\n",
       "                    True,  True,  True,  True,  True],\n",
       "       fill_value=nan)\n",
       "     extra_kws={'PE': array([ 4.00372530e-08,  4.00315170e-08, -3.08827170e-02, -9.29015900e-02,\n",
       "       -1.86473600e-01, -3.12017350e-01, -4.69909240e-01, -6.61072130e-01,\n",
       "       -8.85689080e-01, -1.14388670e+00, -1.43719140e+00, -1.76599550e+00,\n",
       "       -2.13138090e+00, -2.53390050e+00, -2.97365080e+00, -3.45312550e+00,\n",
       "       -3.97310410e+00, -4.53367990e+00, -5.13853180e+00, -5.78871290e+00,\n",
       "       -6.48572960e+00, -7.23159840e+00, -8.03079290e+00, -8.88585390e+00,\n",
       "       -9.80087210e+00, -1.07810260e+01, -1.18291810e+01, -1.29562380e+01,\n",
       "       -1.41657920e+01, -1.54659870e+01, -1.68729920e+01, -1.83968600e+01,\n",
       "       -2.00517520e+01, -2.18591040e+01, -2.38410480e+01, -2.60061990e+01,\n",
       "       -2.83865320e+01, -3.09894640e+01, -3.38463170e+01, -3.69556600e+01,\n",
       "       -4.03222860e+01, -4.39534400e+01, -4.78207500e+01, -5.18882610e+01,\n",
       "       -5.61101670e+01, -6.04556860e+01, -6.48780700e+01, -6.93333210e+01,\n",
       "       -7.37720110e+01, -7.81821340e+01, -8.25572420e+01, -8.68960830e+01,\n",
       "       -9.11890630e+01, -9.54250750e+01, -9.96080690e+01, -1.03750490e+02,\n",
       "       -1.07860410e+02, -1.11945680e+02, -1.15996440e+02, -1.20015640e+02,\n",
       "       -1.24042230e+02, -1.28051570e+02, -1.32032110e+02, -1.36006310e+02,\n",
       "       -1.39987220e+02, -1.43958320e+02, -1.47914690e+02, -1.51856840e+02,\n",
       "       -1.55779180e+02, -1.59718210e+02, -1.63657620e+02, -1.67599970e+02,\n",
       "       -1.71533970e+02, -1.75477890e+02, -1.79422520e+02, -1.83344590e+02,\n",
       "       -1.87297930e+02, -1.91225910e+02, -1.95158150e+02, -1.99099690e+02,\n",
       "       -2.03036380e+02, -2.06992550e+02, -2.10903200e+02, -2.14827830e+02,\n",
       "       -2.18776310e+02, -2.22715850e+02, -2.26667600e+02, -2.30618230e+02,\n",
       "       -2.34592250e+02, -2.38564770e+02, -2.42555790e+02, -2.46568010e+02,\n",
       "       -2.50584500e+02, -2.54602380e+02, -2.58655580e+02, -2.62749290e+02,\n",
       "       -2.66845320e+02, -2.70987920e+02, -2.75147480e+02, -2.79316770e+02,\n",
       "       -2.83550930e+02, -2.87773240e+02, -2.92065960e+02, -2.96395540e+02,\n",
       "       -3.00748210e+02, -3.05103830e+02, -3.09482550e+02, -3.13915430e+02,\n",
       "       -3.18384110e+02, -3.22867350e+02, -3.27369890e+02, -3.31890990e+02,\n",
       "       -3.36428650e+02, -3.40992290e+02, -3.45581560e+02, -3.50161070e+02,\n",
       "       -3.54749640e+02, -3.59325870e+02, -3.63917150e+02, -3.68485480e+02,\n",
       "       -3.73079580e+02, -3.77680220e+02, -3.82272600e+02, -3.86875690e+02,\n",
       "       -3.91480500e+02, -3.96053150e+02, -4.00656210e+02, -4.05272390e+02,\n",
       "       -4.09882530e+02, -4.14492590e+02, -4.19088980e+02, -4.23658330e+02,\n",
       "       -4.28231440e+02, -4.32836770e+02, -4.37411730e+02, -4.42009370e+02,\n",
       "       -4.46630020e+02, -4.51213200e+02, -4.55802180e+02, -4.60400310e+02,\n",
       "       -4.65010270e+02, -4.69595410e+02, -4.74189240e+02, -4.78775810e+02,\n",
       "       -4.83349490e+02, -4.87905450e+02, -4.92483310e+02, -4.97090120e+02,\n",
       "       -5.01676540e+02, -5.06245440e+02, -5.10826830e+02, -5.15377350e+02,\n",
       "       -5.19938050e+02, -5.24484990e+02, -5.29038820e+02, -5.33619020e+02,\n",
       "       -5.38133770e+02, -5.42670430e+02, -5.47232110e+02, -5.51782040e+02,\n",
       "       -5.56334940e+02, -5.60883700e+02, -5.65404850e+02, -5.69925950e+02,\n",
       "       -5.74435490e+02, -5.78962500e+02, -5.83501040e+02, -5.88009350e+02,\n",
       "       -5.92513310e+02, -5.96977570e+02, -6.01450040e+02, -6.05906710e+02,\n",
       "       -6.10361430e+02, -6.14804220e+02, -6.19270230e+02, -6.23711880e+02,\n",
       "       -6.28155990e+02, -6.32622480e+02, -6.37060260e+02, -6.41510810e+02,\n",
       "       -6.45962300e+02, -6.50401750e+02, -6.54860000e+02, -6.59301640e+02,\n",
       "       -6.63815280e+02, -6.68333670e+02, -6.72852790e+02, -6.77387960e+02,\n",
       "       -6.81905370e+02, -6.86486290e+02, -6.91128130e+02, -6.95813340e+02,\n",
       "       -7.00522450e+02, -7.05258400e+02, -7.09963550e+02, -7.14754220e+02,\n",
       "       -7.19603170e+02, -7.24465400e+02, -7.29397060e+02, -7.34400110e+02,\n",
       "       -7.39422930e+02, -7.44506390e+02, -7.49646590e+02, -7.54835190e+02,\n",
       "       -7.60160380e+02, -7.65448930e+02, -7.70802340e+02, -7.76231200e+02,\n",
       "       -7.81713050e+02, -7.87219900e+02, -7.92777170e+02, -7.98347820e+02,\n",
       "       -8.03934750e+02, -8.09533180e+02, -8.15158920e+02, -8.20767310e+02,\n",
       "       -8.26316020e+02, -8.31929790e+02, -8.37537130e+02, -8.43169870e+02,\n",
       "       -8.48814710e+02, -8.54439500e+02, -8.60067170e+02, -8.65715830e+02,\n",
       "       -8.71347110e+02, -8.76943170e+02, -8.82512790e+02, -8.88120010e+02,\n",
       "       -8.93718160e+02, -8.99313150e+02, -9.04912410e+02, -9.10552910e+02,\n",
       "       -9.16197150e+02, -9.21907940e+02, -9.27541430e+02, -9.33119120e+02,\n",
       "       -9.38767620e+02, -9.44431570e+02, -9.50066390e+02, -9.55660060e+02,\n",
       "       -9.61252360e+02, -9.66859260e+02, -9.72466880e+02, -9.78058990e+02,\n",
       "       -9.83700770e+02, -9.89315690e+02, -9.94932590e+02, -1.00054310e+03,\n",
       "       -1.00616090e+03, -1.01184190e+03, -1.01746230e+03, -1.02309320e+03,\n",
       "       -1.02871110e+03, -1.03433040e+03, -1.03993270e+03, -1.04555590e+03,\n",
       "       -1.05115700e+03, -1.05674870e+03, -1.06235020e+03, -1.06797830e+03,\n",
       "       -1.07356390e+03, -1.07910580e+03, -1.08471390e+03, -1.09033980e+03,\n",
       "       -1.09598370e+03, -1.10159980e+03, -1.10719820e+03, -1.11279470e+03,\n",
       "       -1.11845730e+03, -1.12407790e+03, -1.12965860e+03, -1.13531710e+03,\n",
       "       -1.14093710e+03, -1.14648920e+03, -1.15207880e+03, -1.15767280e+03,\n",
       "       -1.16327770e+03, -1.16883750e+03, -1.17442220e+03, -1.17998660e+03,\n",
       "       -1.18556090e+03, -1.19117230e+03, -1.19677880e+03, -1.20236860e+03,\n",
       "       -1.20794660e+03, -1.21350202e+03, -1.21907992e+03, -1.22467776e+03,\n",
       "       -1.23027338e+03, -1.23587498e+03, -1.24141448e+03, -1.24692928e+03,\n",
       "       -1.25244508e+03, -1.25804218e+03, -1.26362958e+03, -1.26918638e+03,\n",
       "       -1.27476508e+03, -1.28036288e+03, -1.28584098e+03, -1.29140658e+03,\n",
       "       -1.29695478e+03, -1.30249188e+03, -1.30807318e+03, -1.31363528e+03,\n",
       "       -1.31920788e+03, -1.32475688e+03, -1.33026738e+03, -1.33579148e+03,\n",
       "       -1.34129048e+03, -1.34690468e+03, -1.35249738e+03, -1.35813198e+03,\n",
       "       -1.36366388e+03, -1.36918788e+03, -1.37479428e+03, -1.38035398e+03,\n",
       "       -1.38591548e+03, -1.39147408e+03, -1.39706978e+03, -1.40265688e+03,\n",
       "       -1.40816268e+03, -1.41371708e+03, -1.41921018e+03, -1.42473508e+03,\n",
       "       -1.43022148e+03, -1.43563578e+03, -1.44111308e+03, -1.44657598e+03,\n",
       "       -1.45194268e+03, -1.45748758e+03, -1.46291838e+03, -1.46835118e+03,\n",
       "       -1.47374998e+03, -1.47917488e+03, -1.48460928e+03, -1.49000268e+03,\n",
       "       -1.49533878e+03, -1.50071358e+03, -1.50602608e+03, -1.51131948e+03,\n",
       "       -1.51665528e+03, -1.52183568e+03, -1.52707468e+03, -1.53229268e+03,\n",
       "       -1.53747968e+03, -1.54265878e+03, -1.54760708e+03, -1.55260078e+03,\n",
       "       -1.55752538e+03, -1.56238598e+03, -1.56719178e+03, -1.57188588e+03,\n",
       "       -1.57651078e+03, -1.58101138e+03, -1.58536478e+03, -1.58957668e+03,\n",
       "       -1.59373148e+03, -1.59776298e+03, -1.60166688e+03, -1.60544368e+03,\n",
       "       -1.60917890e+03, -1.61274848e+03, -1.61631772e+03, -1.61987772e+03,\n",
       "       -1.62350322e+03, -1.62730092e+03, -1.63104292e+03, -1.63494102e+03,\n",
       "       -1.63894262e+03, -1.64300162e+03, -1.64731282e+03, -1.65168802e+03,\n",
       "       -1.65620392e+03, -1.66083452e+03, -1.66554692e+03, -1.67034442e+03,\n",
       "       -1.67523082e+03, -1.68024262e+03, -1.68536372e+03, -1.69061192e+03,\n",
       "       -1.69589732e+03, -1.70135062e+03, -1.70682642e+03, -1.71234422e+03,\n",
       "       -1.71798872e+03, -1.72368642e+03, -1.72940472e+03, -1.73512672e+03,\n",
       "       -1.74095152e+03, -1.74685192e+03, -1.75275362e+03, -1.75871142e+03,\n",
       "       -1.76466052e+03, -1.77075282e+03, -1.77668662e+03, -1.78270752e+03,\n",
       "       -1.78881372e+03, -1.79490832e+03, -1.80090352e+03, -1.80696872e+03,\n",
       "       -1.81300652e+03, -1.81909622e+03, -1.82523312e+03, -1.83127682e+03,\n",
       "       -1.83743832e+03, -1.84355812e+03, -1.84971902e+03, -1.85582292e+03,\n",
       "       -1.86194222e+03, -1.86818412e+03, -1.87425762e+03, -1.88040818e+03,\n",
       "       -1.88645516e+03, -1.89256252e+03, -1.89861314e+03, -1.90478294e+03,\n",
       "       -1.91096124e+03, -1.91705134e+03, -1.92314354e+03, -1.92929434e+03,\n",
       "       -1.93544104e+03, -1.94159124e+03, -1.94763494e+03, -1.95369134e+03,\n",
       "       -1.95974414e+03, -1.96573864e+03, -1.97172014e+03, -1.97761944e+03,\n",
       "       -1.98360264e+03, -1.98955344e+03, -1.99545494e+03, -2.00133674e+03,\n",
       "       -2.00730774e+03, -2.01308844e+03, -2.01893224e+03, -2.02466884e+03,\n",
       "       -2.03048334e+03, -2.03617084e+03, -2.04181074e+03, -2.04737774e+03,\n",
       "       -2.05297064e+03, -2.05866734e+03, -2.06404124e+03, -2.06946994e+03,\n",
       "       -2.07496064e+03, -2.08029564e+03, -2.08554564e+03, -2.09095034e+03,\n",
       "       -2.09625874e+03, -2.10154114e+03, -2.10687514e+03, -2.11236654e+03,\n",
       "       -2.11767714e+03, -2.12310782e+03, -2.12846076e+03, -2.13393736e+03,\n",
       "       -2.13935216e+03, -2.14486556e+03, -2.15048646e+03, -2.15611016e+03,\n",
       "       -2.16184596e+03, -2.16754296e+03, -2.17320906e+03, -2.17887676e+03,\n",
       "       -2.18475236e+03, -2.19067556e+03, -2.19672426e+03, -2.20264086e+03,\n",
       "       -2.20877016e+03, -2.21488746e+03, -2.22098846e+03, -2.22714126e+03,\n",
       "       -2.23323546e+03, -2.23937676e+03, -2.24553346e+03, -2.25176846e+03,\n",
       "       -2.25767086e+03, -2.26377336e+03, -2.26975286e+03, -2.27555526e+03,\n",
       "       -2.28158396e+03, -2.28739886e+03, -2.29311826e+03, -2.29872316e+03,\n",
       "       -2.30421736e+03, -2.30969566e+03, -2.31486156e+03, -2.31973836e+03,\n",
       "       -2.32444636e+03, -2.32893632e+03, -2.33319444e+03, -2.33720620e+03,\n",
       "       -2.34089886e+03, -2.34484566e+03, -2.34853046e+03, -2.35208856e+03,\n",
       "       -2.35599516e+03, -2.36017496e+03, -2.36440216e+03, -2.36903816e+03,\n",
       "       -2.37418946e+03, -2.37979336e+03, -2.38597586e+03, -2.39259506e+03,\n",
       "       -2.39976446e+03, -2.40733136e+03, -2.41499636e+03, -2.42290156e+03,\n",
       "       -2.43110926e+03, -2.43947296e+03, -2.44806906e+03, -2.45666446e+03,\n",
       "       -2.46550626e+03, -2.47433226e+03, -2.48342546e+03, -2.49262906e+03,\n",
       "       -2.50185586e+03, -2.51103246e+03, -2.52023696e+03, -2.52958470e+03,\n",
       "       -2.53894250e+03, -2.54839246e+03, -2.55792890e+03, -2.56745520e+03,\n",
       "       -2.57690700e+03, -2.58647640e+03, -2.59609120e+03, -2.60582740e+03,\n",
       "       -2.61545500e+03, -2.62504060e+03, -2.63477380e+03, -2.64456180e+03,\n",
       "       -2.65432200e+03, -2.66420370e+03, -2.67405380e+03, -2.68397960e+03,\n",
       "       -2.69386870e+03, -2.70368250e+03, -2.71367750e+03, -2.72359500e+03,\n",
       "       -2.73359700e+03, -2.74360830e+03, -2.75354810e+03, -2.76363210e+03,\n",
       "       -2.77371040e+03, -2.78387210e+03, -2.79384780e+03, -2.80397712e+03,\n",
       "       -2.81408428e+03, -2.82418306e+03, -2.83440396e+03, -2.84452806e+03,\n",
       "       -2.85473816e+03, -2.86488066e+03, -2.87522596e+03, -2.88550906e+03,\n",
       "       -2.89583036e+03, -2.90613796e+03, -2.91634806e+03, -2.92662136e+03,\n",
       "       -2.93698546e+03, -2.94731836e+03, -2.95748376e+03, -2.96777826e+03,\n",
       "       -2.97811966e+03, -2.98863556e+03, -2.99899326e+03, -3.00926636e+03,\n",
       "       -3.01972576e+03, -3.03030396e+03, -3.04073906e+03, -3.05105346e+03,\n",
       "       -3.06154536e+03, -3.07194156e+03, -3.08260624e+03, -3.09301138e+03,\n",
       "       -3.10346660e+03, -3.11400420e+03, -3.12443550e+03, -3.13495840e+03,\n",
       "       -3.14556110e+03, -3.15609680e+03, -3.16662630e+03, -3.17719460e+03,\n",
       "       -3.18770750e+03, -3.19826160e+03, -3.20882770e+03, -3.21942410e+03,\n",
       "       -3.22996140e+03, -3.24059960e+03, -3.25121720e+03, -3.26167900e+03,\n",
       "       -3.27229850e+03, -3.28289890e+03, -3.29352600e+03, -3.30413654e+03,\n",
       "       -3.31461966e+03, -3.32530444e+03, -3.33600942e+03, -3.34645352e+03,\n",
       "       -3.35707222e+03, -3.36761762e+03, -3.37831762e+03, -3.38893582e+03,\n",
       "       -3.39975262e+03, -3.41027952e+03, -3.42085242e+03, -3.43150272e+03,\n",
       "       -3.44238212e+03, -3.45283932e+03, -3.46355482e+03, -3.47418722e+03,\n",
       "       -3.48483732e+03, -3.49546462e+03, -3.50614012e+03, -3.51722062e+03,\n",
       "       -3.52775362e+03, -3.53819604e+03, -3.54874514e+03, -3.55948200e+03,\n",
       "       -3.56998944e+03, -3.58092654e+03, -3.59129614e+03, -3.60178504e+03,\n",
       "       -3.61256284e+03, -3.62317374e+03, -3.63373984e+03, -3.64425694e+03,\n",
       "       -3.65509794e+03, -3.66555164e+03, -3.67625434e+03, -3.68660144e+03,\n",
       "       -3.69748214e+03, -3.70776774e+03, -3.71841984e+03, -3.72930214e+03,\n",
       "       -3.73981464e+03, -3.75029412e+03, -3.76071898e+03, -3.77112416e+03,\n",
       "       -3.78157778e+03, -3.79230668e+03, -3.80339288e+03, -3.81352788e+03,\n",
       "       -3.82420028e+03, -3.83435958e+03, -3.84508378e+03, -3.85547138e+03,\n",
       "       -3.86583098e+03, -3.87644108e+03, -3.88650968e+03, -3.89715978e+03,\n",
       "       -3.90716878e+03, -3.91792748e+03, -3.92810268e+03, -3.93856488e+03,\n",
       "       -3.94917308e+03, -3.95935298e+03, -3.96941738e+03, -3.97945148e+03,\n",
       "       -3.99017378e+03])}\n",
       ")"
      ]
     },
     "execution_count": 176,
     "metadata": {},
     "output_type": "execute_result"
    }
   ],
   "source": [
    "gg.iloc[0]"
   ]
  },
  {
   "cell_type": "code",
   "execution_count": 161,
   "metadata": {},
   "outputs": [
    {
     "ename": "SyntaxError",
     "evalue": "unexpected EOF while parsing (<ipython-input-161-04d362607bf0>, line 1)",
     "output_type": "error",
     "traceback": [
      "\u001b[0;36m  File \u001b[0;32m\"<ipython-input-161-04d362607bf0>\"\u001b[0;36m, line \u001b[0;32m1\u001b[0m\n\u001b[0;31m    for i, gg in g.series.iterrows():\u001b[0m\n\u001b[0m                                     ^\u001b[0m\n\u001b[0;31mSyntaxError\u001b[0m\u001b[0;31m:\u001b[0m unexpected EOF while parsing\n"
     ]
    }
   ],
   "source": [
    "for i, gg in g.series.iterrows():\n",
    "    "
   ]
  },
  {
   "cell_type": "code",
   "execution_count": null,
   "metadata": {},
   "outputs": [],
   "source": [
    "ref.list_from_masks()"
   ]
  },
  {
   "cell_type": "code",
   "execution_count": 152,
   "metadata": {},
   "outputs": [
    {
     "data": {
      "text/plain": [
       "<xarray.DataArray 'lnpi' (sample: 2, n_0: 661)>\n",
       "array([[False, False, False, ...,  True,  True,  True],\n",
       "       [ True,  True,  True, ..., False, False, False]])\n",
       "Coordinates:\n",
       "  * sample   (sample) MultiIndex\n",
       "  - lnz_0    (sample) float64 -13.0 -13.0\n",
       "  - phase    (sample) int64 0 1\n",
       "  - volume   (sample) int64 729 729\n",
       "  - temp     (sample) float64 0.7 0.7\n",
       "  - beta     (sample) float64 1.429 1.429\n",
       "Dimensions without coordinates: n_0"
      ]
     },
     "execution_count": 152,
     "metadata": {},
     "output_type": "execute_result"
    }
   ],
   "source": [
    "g.vgce.lnpi.isnull()"
   ]
  },
  {
   "cell_type": "code",
   "execution_count": 141,
   "metadata": {},
   "outputs": [],
   "source": [
    "for i, g in o.vgce.lnpi.groupby('sample'):\n",
    "    break"
   ]
  },
  {
   "cell_type": "code",
   "execution_count": 143,
   "metadata": {},
   "outputs": [
    {
     "data": {
      "text/plain": [
       "<xarray.DataArray 'lnpi' (sample: 4, n_0: 661)>\n",
       "array([[ -18.06161 ,  -17.848   ,  -18.302705, ...,         nan,         nan,\n",
       "                nan],\n",
       "       [        nan,         nan,         nan, ..., -522.591954, -525.880134,\n",
       "        -529.190194],\n",
       "       [ -18.06161 ,  -16.848   ,  -16.302705, ...,         nan,         nan,\n",
       "                nan],\n",
       "       [        nan,         nan,         nan, ...,  135.408046,  133.119866,\n",
       "         130.809806]])\n",
       "Coordinates:\n",
       "  * sample   (sample) MultiIndex\n",
       "  - lnz_0    (sample) float64 -13.0 -13.0 -12.0 -12.0\n",
       "  - phase    (sample) int64 0 1 0 1\n",
       "  - volume   (sample) int64 729 729 729 729\n",
       "  - temp     (sample) float64 0.7 0.7 0.7 0.7\n",
       "  - beta     (sample) float64 1.429 1.429 1.429 1.429\n",
       "Dimensions without coordinates: n_0\n",
       "Attributes:\n",
       "    dims_n:      ['n_0']\n",
       "    dims_lnz:    ['lnz_0']\n",
       "    dims_comp:   ['component']\n",
       "    dims_state:  ['lnz_0']\n",
       "    dims_rec:    ['sample']\n",
       "    long_name:   $\\ln \\Pi(n,\\mu,V,T)$"
      ]
     },
     "execution_count": 143,
     "metadata": {},
     "output_type": "execute_result"
    }
   ],
   "source": []
  },
  {
   "cell_type": "code",
   "execution_count": 140,
   "metadata": {},
   "outputs": [
    {
     "data": {
      "text/plain": [
       "<xarray.DataArray 'lnpi' (sample: 4, n_0: 661)>\n",
       "array([[ -18.06161 ,  -17.848   ,  -18.302705, ...,         nan,         nan,\n",
       "                nan],\n",
       "       [        nan,         nan,         nan, ..., -522.591954, -525.880134,\n",
       "        -529.190194],\n",
       "       [ -18.06161 ,  -16.848   ,  -16.302705, ...,         nan,         nan,\n",
       "                nan],\n",
       "       [        nan,         nan,         nan, ...,  135.408046,  133.119866,\n",
       "         130.809806]])\n",
       "Coordinates:\n",
       "    lnz_0    (sample) float64 -13.0 -13.0 -12.0 -12.0\n",
       "    phase    (sample) int64 0 1 0 1\n",
       "    volume   (sample) int64 729 729 729 729\n",
       "    temp     (sample) float64 0.7 0.7 0.7 0.7\n",
       "    beta     (sample) float64 1.429 1.429 1.429 1.429\n",
       "Dimensions without coordinates: sample, n_0\n",
       "Attributes:\n",
       "    dims_n:      ['n_0']\n",
       "    dims_lnz:    ['lnz_0']\n",
       "    dims_comp:   ['component']\n",
       "    dims_state:  ['lnz_0']\n",
       "    dims_rec:    ['sample']\n",
       "    long_name:   $\\ln \\Pi(n,\\mu,V,T)$"
      ]
     },
     "execution_count": 140,
     "metadata": {},
     "output_type": "execute_result"
    }
   ],
   "source": [
    "o.vgce.lnpi.reset_index('sample')"
   ]
  },
  {
   "cell_type": "code",
   "execution_count": 218,
   "metadata": {},
   "outputs": [],
   "source": [
    "x = lnPi.xlnPi_vec.xrlnPiVec(s)"
   ]
  },
  {
   "cell_type": "code",
   "execution_count": null,
   "metadata": {},
   "outputs": [],
   "source": []
  },
  {
   "cell_type": "code",
   "execution_count": 195,
   "metadata": {},
   "outputs": [
    {
     "data": {
      "text/plain": [
       "<xarray.DataArray (sample: 2)>\n",
       "array([-18.06161, -18.06161])\n",
       "Dimensions without coordinates: sample"
      ]
     },
     "execution_count": 195,
     "metadata": {},
     "output_type": "execute_result"
    }
   ],
   "source": [
    "x._lnpi_0"
   ]
  },
  {
   "cell_type": "code",
   "execution_count": 185,
   "metadata": {},
   "outputs": [
    {
     "data": {
      "text/plain": [
       "<xarray.DataArray ()>\n",
       "array(1)"
      ]
     },
     "execution_count": 185,
     "metadata": {},
     "output_type": "execute_result"
    }
   ],
   "source": [
    "xr.DataArray(np.array(1), dims=[])"
   ]
  },
  {
   "cell_type": "code",
   "execution_count": 181,
   "metadata": {},
   "outputs": [
    {
     "data": {
      "text/plain": [
       "<xarray.DataArray 'lnz' (sample: 2, component: 1)>\n",
       "array([[-13.],\n",
       "       [-13.]])\n",
       "Coordinates:\n",
       "  * sample   (sample) MultiIndex\n",
       "  - lnz_0    (sample) float64 -13.0 -13.0\n",
       "  - phase    (sample) int64 0 1\n",
       "  - volume   (sample) int64 729 729\n",
       "  - temp     (sample) float64 0.7 0.7\n",
       "  - beta     (sample) float64 1.429 1.429\n",
       "Dimensions without coordinates: component\n",
       "Attributes:\n",
       "    long_name:  $\\ln\\beta{\\bf\\mu}$"
      ]
     },
     "execution_count": 181,
     "metadata": {},
     "output_type": "execute_result"
    }
   ],
   "source": [
    "x.lnz()"
   ]
  },
  {
   "cell_type": "code",
   "execution_count": 172,
   "metadata": {},
   "outputs": [],
   "source": [
    "s.index.name = None"
   ]
  },
  {
   "cell_type": "code",
   "execution_count": 173,
   "metadata": {},
   "outputs": [
    {
     "data": {
      "text/plain": [
       "MultiIndex([(-13.0, 0, 729, 0.7, 1.4285714285714286),\n",
       "            (-13.0, 1, 729, 0.7, 1.4285714285714286)],\n",
       "           names=['lnz_0', 'phase', 'volume', 'temp', 'beta'])"
      ]
     },
     "execution_count": 173,
     "metadata": {},
     "output_type": "execute_result"
    }
   ],
   "source": [
    "s.index"
   ]
  },
  {
   "cell_type": "code",
   "execution_count": 174,
   "metadata": {},
   "outputs": [
    {
     "data": {
      "text/plain": [
       "<xarray.DataArray 'lnpi' (sample: 2, n_0: 661)>\n",
       "array([[ -18.06161 ,  -17.848   ,  -18.302705, ...,         nan,         nan,\n",
       "                nan],\n",
       "       [        nan,         nan,         nan, ..., -522.591954, -525.880134,\n",
       "        -529.190194]])\n",
       "Coordinates:\n",
       "  * sample   (sample) MultiIndex\n",
       "  - lnz_0    (sample) float64 -13.0 -13.0\n",
       "  - phase    (sample) int64 0 1\n",
       "  - volume   (sample) int64 729 729\n",
       "  - temp     (sample) float64 0.7 0.7\n",
       "  - beta     (sample) float64 1.429 1.429\n",
       "Dimensions without coordinates: n_0\n",
       "Attributes:\n",
       "    dims_n:      ['n_0']\n",
       "    dims_lnz:    ['lnz_0']\n",
       "    dims_comp:   ['component']\n",
       "    dims_state:  ['lnz_0']\n",
       "    long_name:   $\\ln \\Pi(n,\\mu,V,T)$"
      ]
     },
     "execution_count": 174,
     "metadata": {},
     "output_type": "execute_result"
    }
   ],
   "source": [
    "x.lnpi.assign_coords(sample=s.index)"
   ]
  },
  {
   "cell_type": "code",
   "execution_count": 166,
   "metadata": {},
   "outputs": [
    {
     "data": {
      "text/plain": [
       "<xarray.DataArray 'betamu' (sample: 2, component: 1)>\n",
       "array([[-13.],\n",
       "       [-13.]])\n",
       "Dimensions without coordinates: sample, component\n",
       "Attributes:\n",
       "    long_name:  $\\beta {\\bf \\mu}$"
      ]
     },
     "execution_count": 166,
     "metadata": {},
     "output_type": "execute_result"
    }
   ],
   "source": [
    "x.betamu"
   ]
  },
  {
   "cell_type": "code",
   "execution_count": 158,
   "metadata": {},
   "outputs": [
    {
     "data": {
      "text/plain": [
       "['sample']"
      ]
     },
     "execution_count": 158,
     "metadata": {},
     "output_type": "execute_result"
    }
   ],
   "source": [
    "x._wrapper.dims_rec"
   ]
  },
  {
   "cell_type": "code",
   "execution_count": 159,
   "metadata": {},
   "outputs": [
    {
     "data": {
      "text/plain": [
       "<xarray.DataArray (sample: 2, n_0: 661)>\n",
       "array([[ -18.06161 ,  -17.848   ,  -18.302705, ...,         nan,         nan,\n",
       "                nan],\n",
       "       [        nan,         nan,         nan, ..., -522.591954, -525.880134,\n",
       "        -529.190194]])\n",
       "Dimensions without coordinates: sample, n_0\n",
       "Attributes:\n",
       "    dims_n:      ['n_0']\n",
       "    dims_lnz:    ['lnz_0']\n",
       "    dims_comp:   ['component']\n",
       "    dims_state:  ['lnz_0']"
      ]
     },
     "execution_count": 159,
     "metadata": {},
     "output_type": "execute_result"
    }
   ],
   "source": [
    "x._wrapper.wrap_lnpi(s._lnpi_tot)"
   ]
  },
  {
   "cell_type": "code",
   "execution_count": 161,
   "metadata": {},
   "outputs": [
    {
     "data": {
      "text/plain": [
       "<xarray.DataArray 'lnpi' (sample: 2, n_0: 661)>\n",
       "array([[ -18.06161 ,  -17.848   ,  -18.302705, ...,         nan,         nan,\n",
       "                nan],\n",
       "       [        nan,         nan,         nan, ..., -522.591954, -525.880134,\n",
       "        -529.190194]])\n",
       "Dimensions without coordinates: sample, n_0\n",
       "Attributes:\n",
       "    dims_n:      ['n_0']\n",
       "    dims_lnz:    ['lnz_0']\n",
       "    dims_comp:   ['component']\n",
       "    dims_state:  ['lnz_0']\n",
       "    long_name:   $\\ln \\Pi(n,\\mu,V,T)$"
      ]
     },
     "execution_count": 161,
     "metadata": {},
     "output_type": "execute_result"
    }
   ],
   "source": [
    "x.lnpi"
   ]
  },
  {
   "cell_type": "code",
   "execution_count": 116,
   "metadata": {},
   "outputs": [
    {
     "data": {
      "text/plain": [
       "array([[-13.],\n",
       "       [-13.]])"
      ]
     },
     "execution_count": 116,
     "metadata": {},
     "output_type": "execute_result"
    }
   ],
   "source": [
    "np.stack([x.lnz for x in s])"
   ]
  },
  {
   "cell_type": "code",
   "execution_count": 114,
   "metadata": {},
   "outputs": [
    {
     "data": {
      "text/plain": [
       "2"
      ]
     },
     "execution_count": 114,
     "metadata": {},
     "output_type": "execute_result"
    }
   ],
   "source": [
    "len(s.s)"
   ]
  },
  {
   "cell_type": "code",
   "execution_count": 85,
   "metadata": {},
   "outputs": [],
   "source": [
    "d = ref._index_dict()"
   ]
  },
  {
   "cell_type": "code",
   "execution_count": 87,
   "metadata": {},
   "outputs": [
    {
     "data": {
      "text/plain": [
       "dict_values([-12.308571428571428, 729, 0.7, 1.4285714285714286])"
      ]
     },
     "execution_count": 87,
     "metadata": {},
     "output_type": "execute_result"
    }
   ],
   "source": [
    "d.values()"
   ]
  },
  {
   "cell_type": "code",
   "execution_count": 94,
   "metadata": {},
   "outputs": [],
   "source": [
    "a = pd.MultiIndex.from_frame(pd.DataFrame([d]))"
   ]
  },
  {
   "cell_type": "code",
   "execution_count": 106,
   "metadata": {},
   "outputs": [
    {
     "data": {
      "text/plain": [
       "MultiIndex([(-12.308571428571428, 729, 0.7, 1.4285714285714286)],\n",
       "           names=['lnz_0', 'volume', 'temp', 'beta'])"
      ]
     },
     "execution_count": 106,
     "metadata": {},
     "output_type": "execute_result"
    }
   ],
   "source": [
    "a.append"
   ]
  },
  {
   "cell_type": "code",
   "execution_count": 82,
   "metadata": {},
   "outputs": [
    {
     "ename": "TypeError",
     "evalue": "Must pass both levels and codes",
     "output_type": "error",
     "traceback": [
      "\u001b[0;31m---------------------------------------------------------------------------\u001b[0m",
      "\u001b[0;31mTypeError\u001b[0m                                 Traceback (most recent call last)",
      "\u001b[0;32m<ipython-input-82-fca0ea8d8f02>\u001b[0m in \u001b[0;36m<module>\u001b[0;34m\u001b[0m\n\u001b[0;32m----> 1\u001b[0;31m \u001b[0mpd\u001b[0m\u001b[0;34m.\u001b[0m\u001b[0mMultiIndex\u001b[0m\u001b[0;34m(\u001b[0m\u001b[0mref\u001b[0m\u001b[0;34m.\u001b[0m\u001b[0m_index_dict\u001b[0m\u001b[0;34m(\u001b[0m\u001b[0;36m0\u001b[0m\u001b[0;34m)\u001b[0m\u001b[0;34m)\u001b[0m\u001b[0;34m\u001b[0m\u001b[0;34m\u001b[0m\u001b[0m\n\u001b[0m",
      "\u001b[0;32m~/.conda/envs/py37/lib/python3.7/site-packages/pandas/util/_decorators.py\u001b[0m in \u001b[0;36mwrapper\u001b[0;34m(*args, **kwargs)\u001b[0m\n\u001b[1;32m    206\u001b[0m                 \u001b[0;32melse\u001b[0m\u001b[0;34m:\u001b[0m\u001b[0;34m\u001b[0m\u001b[0;34m\u001b[0m\u001b[0m\n\u001b[1;32m    207\u001b[0m                     \u001b[0mkwargs\u001b[0m\u001b[0;34m[\u001b[0m\u001b[0mnew_arg_name\u001b[0m\u001b[0;34m]\u001b[0m \u001b[0;34m=\u001b[0m \u001b[0mnew_arg_value\u001b[0m\u001b[0;34m\u001b[0m\u001b[0;34m\u001b[0m\u001b[0m\n\u001b[0;32m--> 208\u001b[0;31m             \u001b[0;32mreturn\u001b[0m \u001b[0mfunc\u001b[0m\u001b[0;34m(\u001b[0m\u001b[0;34m*\u001b[0m\u001b[0margs\u001b[0m\u001b[0;34m,\u001b[0m \u001b[0;34m**\u001b[0m\u001b[0mkwargs\u001b[0m\u001b[0;34m)\u001b[0m\u001b[0;34m\u001b[0m\u001b[0;34m\u001b[0m\u001b[0m\n\u001b[0m\u001b[1;32m    209\u001b[0m \u001b[0;34m\u001b[0m\u001b[0m\n\u001b[1;32m    210\u001b[0m         \u001b[0;32mreturn\u001b[0m \u001b[0mwrapper\u001b[0m\u001b[0;34m\u001b[0m\u001b[0;34m\u001b[0m\u001b[0m\n",
      "\u001b[0;32m~/.conda/envs/py37/lib/python3.7/site-packages/pandas/core/indexes/multi.py\u001b[0m in \u001b[0;36m__new__\u001b[0;34m(cls, levels, codes, sortorder, names, dtype, copy, name, verify_integrity, _set_identity)\u001b[0m\n\u001b[1;32m    248\u001b[0m             \u001b[0mnames\u001b[0m \u001b[0;34m=\u001b[0m \u001b[0mname\u001b[0m\u001b[0;34m\u001b[0m\u001b[0;34m\u001b[0m\u001b[0m\n\u001b[1;32m    249\u001b[0m         \u001b[0;32mif\u001b[0m \u001b[0mlevels\u001b[0m \u001b[0;32mis\u001b[0m \u001b[0;32mNone\u001b[0m \u001b[0;32mor\u001b[0m \u001b[0mcodes\u001b[0m \u001b[0;32mis\u001b[0m \u001b[0;32mNone\u001b[0m\u001b[0;34m:\u001b[0m\u001b[0;34m\u001b[0m\u001b[0;34m\u001b[0m\u001b[0m\n\u001b[0;32m--> 250\u001b[0;31m             \u001b[0;32mraise\u001b[0m \u001b[0mTypeError\u001b[0m\u001b[0;34m(\u001b[0m\u001b[0;34m\"Must pass both levels and codes\"\u001b[0m\u001b[0;34m)\u001b[0m\u001b[0;34m\u001b[0m\u001b[0;34m\u001b[0m\u001b[0m\n\u001b[0m\u001b[1;32m    251\u001b[0m         \u001b[0;32mif\u001b[0m \u001b[0mlen\u001b[0m\u001b[0;34m(\u001b[0m\u001b[0mlevels\u001b[0m\u001b[0;34m)\u001b[0m \u001b[0;34m!=\u001b[0m \u001b[0mlen\u001b[0m\u001b[0;34m(\u001b[0m\u001b[0mcodes\u001b[0m\u001b[0;34m)\u001b[0m\u001b[0;34m:\u001b[0m\u001b[0;34m\u001b[0m\u001b[0;34m\u001b[0m\u001b[0m\n\u001b[1;32m    252\u001b[0m             \u001b[0;32mraise\u001b[0m \u001b[0mValueError\u001b[0m\u001b[0;34m(\u001b[0m\u001b[0;34m\"Length of levels and codes must be the same.\"\u001b[0m\u001b[0;34m)\u001b[0m\u001b[0;34m\u001b[0m\u001b[0;34m\u001b[0m\u001b[0m\n",
      "\u001b[0;31mTypeError\u001b[0m: Must pass both levels and codes"
     ]
    }
   ],
   "source": [
    "pd.MultiIndex(ref._index_dict(0))"
   ]
  },
  {
   "cell_type": "code",
   "execution_count": 58,
   "metadata": {},
   "outputs": [],
   "source": [
    "for x in s:\n",
    "    pass"
   ]
  },
  {
   "cell_type": "code",
   "execution_count": 25,
   "metadata": {},
   "outputs": [],
   "source": [
    "s = build_phases(-13.0, phases_factory=lnPi.serieswrapper.CollectionlnPi.from_lists)"
   ]
  },
  {
   "cell_type": "code",
   "execution_count": null,
   "metadata": {},
   "outputs": [],
   "source": []
  },
  {
   "cell_type": "code",
   "execution_count": 10,
   "metadata": {},
   "outputs": [],
   "source": [
    "lnPi.serieswrapper.CollectionlnPi.register_listaccessor('xgce')"
   ]
  },
  {
   "cell_type": "code",
   "execution_count": 38,
   "metadata": {},
   "outputs": [],
   "source": [
    "o = lnPi.serieswrapper.CollectionlnPi(data=[ref] * 4, index=pd.MultiIndex.from_tuples([(0, 0), (1,0), (1,1), (2,1)], names=['a','b']), concat_dim='sample')"
   ]
  },
  {
   "cell_type": "code",
   "execution_count": null,
   "metadata": {},
   "outputs": [],
   "source": []
  },
  {
   "cell_type": "code",
   "execution_count": null,
   "metadata": {},
   "outputs": [],
   "source": []
  },
  {
   "cell_type": "markdown",
   "metadata": {},
   "source": [
    "## create a collection"
   ]
  },
  {
   "cell_type": "code",
   "execution_count": 5,
   "metadata": {},
   "outputs": [],
   "source": [
    "from joblib import Parallel, delayed\n",
    "from joblib.externals.loky import set_loky_pickler\n",
    "import joblib\n",
    "set_loky_pickler('pickle')"
   ]
  },
  {
   "cell_type": "code",
   "execution_count": 16,
   "metadata": {},
   "outputs": [],
   "source": [
    "lnzs = np.linspace(ref.lnz[0] - 5, ref.lnz[0] + 5, 2000)"
   ]
  },
  {
   "cell_type": "code",
   "execution_count": 17,
   "metadata": {},
   "outputs": [
    {
     "data": {
      "application/vnd.jupyter.widget-view+json": {
       "model_id": "e6f4b23c39384623bafd6f347eec8b9f",
       "version_major": 2,
       "version_minor": 0
      },
      "text/plain": [
       "HBox(children=(IntProgress(value=0, description='build', max=2000, style=ProgressStyle(description_width='init…"
      ]
     },
     "metadata": {},
     "output_type": "display_data"
    },
    {
     "name": "stdout",
     "output_type": "stream",
     "text": [
      "\n"
     ]
    }
   ],
   "source": [
    "#%%timeit -n 1 -r 1\n",
    "with lnPi.set_options(tqdm_use=True, tqdm_leave=True, joblib_use=True):\n",
    "    c = lnPi.CollectionPhases.from_builder(lnzs, build_phases=build_phases, concat_coords='different', \n",
    "                                       unstack=True, set_index=['lnz_0','phase'], clean_coords=True )"
   ]
  },
  {
   "cell_type": "code",
   "execution_count": 18,
   "metadata": {},
   "outputs": [
    {
     "name": "stdout",
     "output_type": "stream",
     "text": [
      "204 ms ± 0 ns per loop (mean ± std. dev. of 1 run, 1 loop each)\n"
     ]
    }
   ],
   "source": [
    "%%timeit -n 1 -r 1 \n",
    "index = (\n",
    "    pd.DataFrame([dict(x.state_kws, lnz_0=x.lnz[0]) for x in c.flat], index=c.flat._multiindex)\n",
    "    .reset_index()\n",
    ")\n",
    "index = pd.MultiIndex.from_frame(index)\n",
    "#index\n",
    "o = (\n",
    "    xr.DataArray(np.stack([x.view(np.ma.MaskedArray) for x in c.flat]), dims=['sample','n_0'])\n",
    "    .assign_coords(sample=index)\n",
    ")\n",
    "\n",
    "pi = np.exp(o - o.max('n_0'))\n",
    "pi_norm = pi / pi.sum(ref.xgce.dims_n)\n",
    "nvec = (pi_norm * ref.xgce.ncoords).sum(ref.xgce.dims_n).values"
   ]
  },
  {
   "cell_type": "code",
   "execution_count": 19,
   "metadata": {},
   "outputs": [
    {
     "data": {
      "application/vnd.jupyter.widget-view+json": {
       "model_id": "3a1e1ff7df1741679a12626495462e91",
       "version_major": 2,
       "version_minor": 0
      },
      "text/plain": [
       "HBox(children=(IntProgress(value=0, description='nvec', max=2609, style=ProgressStyle(description_width='initi…"
      ]
     },
     "metadata": {},
     "output_type": "display_data"
    },
    {
     "name": "stdout",
     "output_type": "stream",
     "text": [
      "\n",
      "2.08 s ± 0 ns per loop (mean ± std. dev. of 1 run, 1 loop each)\n"
     ]
    }
   ],
   "source": [
    "%%timeit -n 1 -r 1\n",
    "with lnPi.set_options(tqdm_leave=True):\n",
    "    c.xgce.nvec"
   ]
  },
  {
   "cell_type": "code",
   "execution_count": 12,
   "metadata": {},
   "outputs": [],
   "source": [
    "c.spinodals(2, build_phases, inplace=True, append=True)\n",
    "c.binodals(2, build_phases, inplace=True, append=True)\n",
    "spin = c.spinodals.access\n",
    "bino = c.binodals.access"
   ]
  },
  {
   "cell_type": "code",
   "execution_count": 13,
   "metadata": {},
   "outputs": [
    {
     "data": {
      "text/plain": [
       "[<matplotlib.lines.Line2D at 0x7f9d21009dd0>,\n",
       " <matplotlib.lines.Line2D at 0x7f9d21009f90>]"
      ]
     },
     "execution_count": 13,
     "metadata": {},
     "output_type": "execute_result"
    },
    {
     "data": {
      "image/png": "[encoded data removed]",
      "text/plain": [
       "<Figure size 432x288 with 1 Axes>"
      ]
     },
     "metadata": {
      "needs_background": "light"
     },
     "output_type": "display_data"
    }
   ],
   "source": [
    "c.xgce_prop.betaOmega().unstack().plot(hue='phase')"
   ]
  },
  {
   "cell_type": "code",
   "execution_count": 14,
   "metadata": {},
   "outputs": [
    {
     "data": {
      "text/plain": [
       "[<matplotlib.lines.Line2D at 0x7f9d514c6b90>]"
      ]
     },
     "execution_count": 14,
     "metadata": {},
     "output_type": "execute_result"
    },
    {
     "data": {
      "image/png": "[encoded data removed]",
      "text/plain": [
       "<Figure size 432x288 with 1 Axes>"
      ]
     },
     "metadata": {
      "needs_background": "light"
     },
     "output_type": "display_data"
    }
   ],
   "source": [
    "c.xgce_prop.table(dim_to_suffix='component', mask_stable=False).betapV.unstack().plot(hue='phase')\n",
    "c.xgce_prop.table(dim_to_suffix='component', mask_stable=True).betapV.unstack().plot(hue='phase')"
   ]
  },
  {
   "cell_type": "code",
   "execution_count": 15,
   "metadata": {},
   "outputs": [
    {
     "data": {
      "text/plain": [
       "[<matplotlib.lines.Line2D at 0x7f9d514d0350>]"
      ]
     },
     "execution_count": 15,
     "metadata": {},
     "output_type": "execute_result"
    },
    {
     "data": {
      "image/png": "[encoded data removed]",
      "text/plain": [
       "<Figure size 432x288 with 1 Axes>"
      ]
     },
     "metadata": {
      "needs_background": "light"
     },
     "output_type": "display_data"
    }
   ],
   "source": [
    "c.xgce.betaOmega().plot(hue='phase')\n",
    "(\n",
    "    spin.xgce.betaOmega()\n",
    "    .pipe(lambda x: x.where(x.phase == x.rec))\n",
    "    .plot(hue='phase', marker='o')\n",
    ")\n",
    "\n",
    "bino.xgce.betaOmega().sel(phase=0).plot.line(marker='o', label='binodal')\n",
    "\n",
    "\n"
   ]
  },
  {
   "cell_type": "code",
   "execution_count": 29,
   "metadata": {},
   "outputs": [],
   "source": [
    "# mu min/max"
   ]
  },
  {
   "cell_type": "code",
   "execution_count": 35,
   "metadata": {},
   "outputs": [
    {
     "data": {
      "text/plain": [
       "<module 'lnPi.monoutils' from '/Users/wpk/Documents/python/lnPi/monoutils.py'>"
      ]
     },
     "execution_count": 35,
     "metadata": {},
     "output_type": "execute_result"
    }
   ],
   "source": [
    "reload(lnPi.monoutils)"
   ]
  },
  {
   "cell_type": "code",
   "execution_count": 54,
   "metadata": {},
   "outputs": [],
   "source": [
    "c_course, c = lnPi.monoutils.limited_collection(build_phases, lnz_range=np.round(ref.lnz + [-10, +10], 1), dlnz=0.1, \n",
    "                                                rho_min=0.0001, edge_distance_min=8, \n",
    "                                                collection_kws={'unstack':True,'set_index':['lnz_0','phase']})"
   ]
  },
  {
   "cell_type": "code",
   "execution_count": 55,
   "metadata": {},
   "outputs": [],
   "source": [
    "c.spinodals(2, build_phases, inplace=True, append=True)\n",
    "c.binodals(2, build_phases, inplace=True, append=True)"
   ]
  },
  {
   "cell_type": "code",
   "execution_count": 56,
   "metadata": {},
   "outputs": [],
   "source": [
    "c.sort_by_lnz()"
   ]
  },
  {
   "cell_type": "code",
   "execution_count": 57,
   "metadata": {},
   "outputs": [],
   "source": [
    "table = c.xgce_prop.table(['dens','pressure'], mask_stable=True, dim_to_suffix='component')"
   ]
  },
  {
   "cell_type": "code",
   "execution_count": 58,
   "metadata": {},
   "outputs": [
    {
     "data": {
      "text/plain": [
       "<matplotlib.axes._subplots.AxesSubplot at 0x7ff038f61ad0>"
      ]
     },
     "execution_count": 58,
     "metadata": {},
     "output_type": "execute_result"
    },
    {
     "data": {
      "image/png": "[encoded data removed]",
      "text/plain": [
       "<Figure size 432x288 with 1 Axes>"
      ]
     },
     "metadata": {
      "needs_background": "light"
     },
     "output_type": "display_data"
    }
   ],
   "source": [
    "table.to_dataframe().plot('dens_0','pressure', marker='o')"
   ]
  },
  {
   "cell_type": "code",
   "execution_count": 59,
   "metadata": {},
   "outputs": [],
   "source": [
    "import xarray as xr\n",
    "@xr.register_dataarray_accessor('lwhere')\n",
    "def lwhere(da):\n",
    "    def where(condition, drop=False):\n",
    "        return da.where(condition(da), drop=drop)\n",
    "    return where"
   ]
  },
  {
   "cell_type": "code",
   "execution_count": 60,
   "metadata": {},
   "outputs": [],
   "source": [
    "# test saving"
   ]
  },
  {
   "cell_type": "code",
   "execution_count": 61,
   "metadata": {},
   "outputs": [],
   "source": [
    "da = (\n",
    "    c.to_dataarray()\n",
    "    .pipe(c.spinodals.assign_coords)\n",
    "    .pipe(c.binodals.assign_coords)\n",
    "    .sortby('lnz_0')\n",
    "    .reset_index('rec', drop=True)\n",
    ")"
   ]
  },
  {
   "cell_type": "code",
   "execution_count": 62,
   "metadata": {},
   "outputs": [],
   "source": [
    "c2 = lnPi.CollectionPhases.from_dataarray(ref, da, unstack=True, set_index=['lnz_0','phase'])\n",
    "c2.spinodals.from_dataarray(da)\n",
    "c2.binodals.from_dataarray(da)"
   ]
  },
  {
   "cell_type": "code",
   "execution_count": 63,
   "metadata": {},
   "outputs": [
    {
     "data": {
      "text/plain": [
       "<xarray.Dataset>\n",
       "Dimensions:  (component: 1, lnz_0: 1, phase: 2)\n",
       "Coordinates:\n",
       "    volume   (lnz_0) int64 729\n",
       "    temp     (lnz_0) float64 0.7\n",
       "    beta     (lnz_0) float64 1.429\n",
       "    rec      (lnz_0) int64 0\n",
       "  * lnz_0    (lnz_0) float64 -12.34\n",
       "  * phase    (phase) int64 0 1\n",
       "Dimensions without coordinates: component\n",
       "Data variables:\n",
       "    nvec     (component, lnz_0, phase) float64 2.558 597.9\n",
       "    betapV   (lnz_0, phase) float64 2.475 2.475\n",
       "    PE_n     (lnz_0, phase) float64 -0.04095 -5.578"
      ]
     },
     "execution_count": 63,
     "metadata": {},
     "output_type": "execute_result"
    }
   ],
   "source": [
    "c.binodals.access.xgce_prop.table()"
   ]
  },
  {
   "cell_type": "code",
   "execution_count": 64,
   "metadata": {},
   "outputs": [
    {
     "data": {
      "text/plain": [
       "<xarray.Dataset>\n",
       "Dimensions:  (component: 1, lnz_0: 1, phase: 2)\n",
       "Coordinates:\n",
       "    volume   (lnz_0) int64 729\n",
       "    temp     (lnz_0) float64 0.7\n",
       "    beta     (lnz_0) float64 1.429\n",
       "    rec      (lnz_0) int64 0\n",
       "  * lnz_0    (lnz_0) float64 -12.34\n",
       "  * phase    (phase) int64 0 1\n",
       "Dimensions without coordinates: component\n",
       "Data variables:\n",
       "    nvec     (component, lnz_0, phase) float64 2.558 597.9\n",
       "    betapV   (lnz_0, phase) float64 2.475 2.475\n",
       "    PE_n     (lnz_0, phase) float64 -0.04095 -5.578"
      ]
     },
     "execution_count": 64,
     "metadata": {},
     "output_type": "execute_result"
    }
   ],
   "source": [
    "c2.binodals.access.xgce_prop.table()#.swap_dims({'rec':'lnz_0'})"
   ]
  },
  {
   "cell_type": "code",
   "execution_count": 65,
   "metadata": {},
   "outputs": [
    {
     "data": {
      "text/plain": [
       "[<matplotlib.lines.Line2D at 0x7ff04c003550>,\n",
       " <matplotlib.lines.Line2D at 0x7ff04bfcf590>]"
      ]
     },
     "execution_count": 65,
     "metadata": {},
     "output_type": "execute_result"
    },
    {
     "data": {
      "image/png": "[encoded data removed]",
      "text/plain": [
       "<Figure size 432x288 with 1 Axes>"
      ]
     },
     "metadata": {
      "needs_background": "light"
     },
     "output_type": "display_data"
    }
   ],
   "source": [
    "c.xgce.betaOmega().plot(hue='phase')\n",
    "c2.xgce.betaOmega().plot(hue='phase')"
   ]
  },
  {
   "cell_type": "code",
   "execution_count": 67,
   "metadata": {},
   "outputs": [
    {
     "data": {
      "text/plain": [
       "[<matplotlib.lines.Line2D at 0x7feff879aa90>]"
      ]
     },
     "execution_count": 67,
     "metadata": {},
     "output_type": "execute_result"
    },
    {
     "data": {
      "image/png": "[encoded data removed]",
      "text/plain": [
       "<Figure size 432x288 with 1 Axes>"
      ]
     },
     "metadata": {
      "needs_background": "light"
     },
     "output_type": "display_data"
    }
   ],
   "source": [
    "c.xgce.betaOmega().plot(hue='phase')\n",
    "\n",
    "(\n",
    "    c.spinodals.access.xgce.betaOmega()\n",
    "    .pipe(lambda x: x.where(x.phase == x.rec))\n",
    "\n",
    "    .plot(hue='phase', marker='o')\n",
    ")\n",
    "\n",
    "c.binodals.access.xgce.betaOmega().sel(phase=0).plot.line(marker='o')"
   ]
  },
  {
   "cell_type": "markdown",
   "metadata": {
    "collapsed": true
   },
   "source": [
    "# bulk 065"
   ]
  },
  {
   "cell_type": "code",
   "execution_count": 75,
   "metadata": {},
   "outputs": [
    {
     "data": {
      "text/plain": [
       "<module 'lnPi.monoutils' from '/Users/wpk/Documents/python/lnPi/monoutils.py'>"
      ]
     },
     "execution_count": 75,
     "metadata": {},
     "output_type": "execute_result"
    }
   ],
   "source": [
    "reload(lnPi.monoutils)"
   ]
  },
  {
   "cell_type": "code",
   "execution_count": 132,
   "metadata": {},
   "outputs": [],
   "source": [
    "beta = 1.0 / 0.65"
   ]
  },
  {
   "cell_type": "code",
   "execution_count": 133,
   "metadata": {},
   "outputs": [],
   "source": [
    "ref_bulk = lnPi.MaskedlnPi.from_table('./PiofN/ljcut.t065.bulk.v1000.r1.lnpi.dat', lnz=-4.453015418106743E+00 /0.65,\n",
    "                               state_kws=dict(volume=1000.0E0,beta=1./0.65000E0))\n",
    "phase_creator_bulk = lnPi.segment.PhaseCreator(nmax=2, nmax_peak=4, ref=ref_bulk, \n",
    "                                         merge_kws=dict(efac=0.5), tag_phases=tag_phases2)\n",
    "build_phases_bulk = phase_creator_bulk.build_phases_mu([None])"
   ]
  },
  {
   "cell_type": "code",
   "execution_count": 145,
   "metadata": {},
   "outputs": [],
   "source": [
    "c_course_bulk, c_bulk = lnPi.monoutils.limited_collection(build_phases_bulk, \n",
    "                                                np.round(ref_bulk.lnz + [-10, +10], 1), 0.05, edge_distance_min=8,\n",
    "                                                         collection_kws=dict(set_index=['lnz_0','phase']))"
   ]
  },
  {
   "cell_type": "code",
   "execution_count": 146,
   "metadata": {},
   "outputs": [],
   "source": [
    "c_course_bulk.spinodals(2, build_phases_bulk, inplace=True)\n",
    "c_course_bulk.binodals(2, build_phases_bulk, inplace=True)"
   ]
  },
  {
   "cell_type": "code",
   "execution_count": 151,
   "metadata": {},
   "outputs": [
    {
     "data": {
      "text/plain": [
       "[<matplotlib.lines.Line2D at 0x7ff059288210>]"
      ]
     },
     "execution_count": 151,
     "metadata": {},
     "output_type": "execute_result"
    },
    {
     "data": {
      "image/png": "[encoded data removed]",
      "text/plain": [
       "<Figure size 432x288 with 1 Axes>"
      ]
     },
     "metadata": {
      "needs_background": "light"
     },
     "output_type": "display_data"
    }
   ],
   "source": [
    "(\n",
    "    c_bulk.xgce_prop.table(['dens_tot','pressure'], mask_stable=True)\n",
    "    #.swap_dims({'rec':'lnz_0'})\n",
    "     .swap_dims({'lnz_0':'dens_tot'})\n",
    "     .pressure.plot(marker='o')\n",
    "    \n",
    ")"
   ]
  },
  {
   "cell_type": "code",
   "execution_count": 154,
   "metadata": {},
   "outputs": [
    {
     "data": {
      "text/plain": [
       "[<matplotlib.lines.Line2D at 0x7feff86ebe10>]"
      ]
     },
     "execution_count": 154,
     "metadata": {},
     "output_type": "execute_result"
    },
    {
     "data": {
      "image/png": "[encoded data removed]",
      "text/plain": [
       "<Figure size 432x288 with 1 Axes>"
      ]
     },
     "metadata": {
      "needs_background": "light"
     },
     "output_type": "display_data"
    }
   ],
   "source": [
    "c_bulk.xgce.betaOmega().plot(hue='phase')\n",
    "\n",
    "(\n",
    "    c_course_bulk.spinodals.access.xgce.betaOmega()\n",
    "    \n",
    "    .pipe(lambda x: x.where(x.phase == x.rec))\n",
    "\n",
    "    .plot(hue='phase', marker='o')\n",
    ")\n",
    "\n",
    "c_course_bulk.binodals.access.xgce.betaOmega().sel(phase=0).plot.line(marker='o')"
   ]
  },
  {
   "cell_type": "markdown",
   "metadata": {
    "collapsed": true
   },
   "source": [
    "# confined"
   ]
  },
  {
   "cell_type": "code",
   "execution_count": 155,
   "metadata": {},
   "outputs": [],
   "source": [
    "ref_conf = lnPi.MaskedlnPi.from_table('./PiofN/ljcut.t065.finiteslit.L_20nm.W_4nm.r2.lnpi.dat',\n",
    "                                       lnz=-0.500000E+01/0.65,state_kws=dict(volume=7000.,beta=1./0.65000E0))\n",
    "\n",
    "\n",
    "phase_creator_conf = lnPi.segment.PhaseCreator(nmax=2, nmax_peak=4, ref=ref_conf, \n",
    "                                              merge_kws=dict(efac=0.6), tag_phases=tag_phases2)"
   ]
  },
  {
   "cell_type": "code",
   "execution_count": 156,
   "metadata": {},
   "outputs": [],
   "source": [
    "build_phases_conf = phase_creator_conf.build_phases_mu([None])"
   ]
  },
  {
   "cell_type": "code",
   "execution_count": null,
   "metadata": {},
   "outputs": [],
   "source": []
  },
  {
   "cell_type": "code",
   "execution_count": 172,
   "metadata": {},
   "outputs": [
    {
     "data": {
      "text/plain": [
       "-6.8518860562331465"
      ]
     },
     "execution_count": 172,
     "metadata": {},
     "output_type": "execute_result"
    }
   ],
   "source": [
    "c_course_bulk.binodals.access.lnz[0,0]"
   ]
  },
  {
   "cell_type": "code",
   "execution_count": 246,
   "metadata": {},
   "outputs": [],
   "source": [
    "lnzs_conf = np.geomspace(np.log(1e-7), c_course_bulk.binodals.access.lnz[0,0], 200)\n",
    "c_conf = lnPi.CollectionPhases.from_builder(lnzs_conf, build_phases_conf, set_index=['lnz_0','phase'])"
   ]
  },
  {
   "cell_type": "code",
   "execution_count": 247,
   "metadata": {},
   "outputs": [
    {
     "data": {
      "application/vnd.jupyter.widget-view+json": {
       "model_id": "",
       "version_major": 2,
       "version_minor": 0
      },
      "text/plain": [
       "HBox(children=(IntProgress(value=0, description='edge_distance', max=202, style=ProgressStyle(description_widt…"
      ]
     },
     "metadata": {},
     "output_type": "display_data"
    },
    {
     "name": "stdout",
     "output_type": "stream",
     "text": [
      "\r"
     ]
    },
    {
     "data": {
      "text/plain": [
       "<xarray.DataArray 'edge_distance' ()>\n",
       "array(286.)\n",
       "Coordinates:\n",
       "    volume   float64 7e+03\n",
       "    beta     float64 1.538"
      ]
     },
     "execution_count": 247,
     "metadata": {},
     "output_type": "execute_result"
    }
   ],
   "source": [
    "c_conf.xgce.edge_distance(ref_conf).min('phase').min()"
   ]
  },
  {
   "cell_type": "code",
   "execution_count": 248,
   "metadata": {},
   "outputs": [
    {
     "data": {
      "application/vnd.jupyter.widget-view+json": {
       "model_id": "",
       "version_major": 2,
       "version_minor": 0
      },
      "text/plain": [
       "HBox(children=(IntProgress(value=0, description='get_delta_w', max=200, style=ProgressStyle(description_width=…"
      ]
     },
     "metadata": {},
     "output_type": "display_data"
    },
    {
     "name": "stdout",
     "output_type": "stream",
     "text": [
      "\r"
     ]
    },
    {
     "data": {
      "application/vnd.jupyter.widget-view+json": {
       "model_id": "",
       "version_major": 2,
       "version_minor": 0
      },
      "text/plain": [
       "HBox(children=(IntProgress(value=0, description='get_delta_w', max=200, style=ProgressStyle(description_width=…"
      ]
     },
     "metadata": {},
     "output_type": "display_data"
    },
    {
     "name": "stdout",
     "output_type": "stream",
     "text": [
      "\r"
     ]
    }
   ],
   "source": [
    "c_conf.spinodals(2, build_phases_conf, inplace=True, append=True)\n",
    "c_conf.binodals(2, build_phases_conf, inplace=True, append=True)"
   ]
  },
  {
   "cell_type": "code",
   "execution_count": 249,
   "metadata": {},
   "outputs": [],
   "source": [
    "c_conf.sort_by_lnz()"
   ]
  },
  {
   "cell_type": "code",
   "execution_count": 250,
   "metadata": {},
   "outputs": [
    {
     "data": {
      "application/vnd.jupyter.widget-view+json": {
       "model_id": "",
       "version_major": 2,
       "version_minor": 0
      },
      "text/plain": [
       "HBox(children=(IntProgress(value=0, description='betaOmega', max=202, style=ProgressStyle(description_width='i…"
      ]
     },
     "metadata": {},
     "output_type": "display_data"
    },
    {
     "name": "stdout",
     "output_type": "stream",
     "text": [
      "\r"
     ]
    },
    {
     "data": {
      "text/plain": [
       "[<matplotlib.lines.Line2D at 0x7ff04c9d2e50>]"
      ]
     },
     "execution_count": 250,
     "metadata": {},
     "output_type": "execute_result"
    },
    {
     "data": {
      "image/png": "[encoded data removed]",
      "text/plain": [
       "<Figure size 432x288 with 1 Axes>"
      ]
     },
     "metadata": {
      "needs_background": "light"
     },
     "output_type": "display_data"
    }
   ],
   "source": [
    "c_conf.xgce.betaOmega().plot(hue='phase')\n",
    "\n",
    "(\n",
    "    c_conf.spinodals.access.xgce.betaOmega()\n",
    "    \n",
    "    .pipe(lambda x: x.where(x.phase == x.rec))\n",
    "\n",
    "    .plot(hue='phase', marker='o')\n",
    ")\n",
    "\n",
    "c_conf.binodals.access.xgce.betaOmega().sel(phase=0).plot.line(marker='o')"
   ]
  },
  {
   "cell_type": "code",
   "execution_count": 187,
   "metadata": {},
   "outputs": [],
   "source": [
    "df=pd.read_table('./PiofN/ljcut.t065.finiteslit.L_20nm.W_4nm.r2.single_isotherm.txt',sep='\\s+',\n",
    "                 header=None,names=['pscaled','mu','rho','Omega_L','Qst','Gads'])\n"
   ]
  },
  {
   "cell_type": "markdown",
   "metadata": {},
   "source": [
    "# make isotherm"
   ]
  },
  {
   "cell_type": "code",
   "execution_count": 251,
   "metadata": {},
   "outputs": [],
   "source": [
    "# new bulk on same spacinf\n",
    "c_bulk = lnPi.CollectionPhases.from_builder(c_conf.lnz[:,0], build_phases_bulk, set_index=['lnz_0','phase'])"
   ]
  },
  {
   "cell_type": "code",
   "execution_count": 252,
   "metadata": {},
   "outputs": [],
   "source": [
    "lnz_spin = c_conf.spinodals.access.lnz[:,0]"
   ]
  },
  {
   "cell_type": "code",
   "execution_count": 253,
   "metadata": {},
   "outputs": [],
   "source": [
    "psat = c_course_bulk.binodals.access.xgce_prop.pressure().values.flatten()[0]"
   ]
  },
  {
   "cell_type": "code",
   "execution_count": 254,
   "metadata": {},
   "outputs": [
    {
     "data": {
      "application/vnd.jupyter.widget-view+json": {
       "model_id": "",
       "version_major": 2,
       "version_minor": 0
      },
      "text/plain": [
       "HBox(children=(IntProgress(value=0, description='betaOmega', max=267, style=ProgressStyle(description_width='i…"
      ]
     },
     "metadata": {},
     "output_type": "display_data"
    },
    {
     "name": "stdout",
     "output_type": "stream",
     "text": [
      "\r"
     ]
    },
    {
     "data": {
      "application/vnd.jupyter.widget-view+json": {
       "model_id": "",
       "version_major": 2,
       "version_minor": 0
      },
      "text/plain": [
       "HBox(children=(IntProgress(value=0, description='nvec', max=267, style=ProgressStyle(description_width='initia…"
      ]
     },
     "metadata": {},
     "output_type": "display_data"
    },
    {
     "name": "stdout",
     "output_type": "stream",
     "text": [
      "\r"
     ]
    }
   ],
   "source": [
    "table_bulk = (\n",
    "    c_bulk.xgce_prop.table(['pressure'], mask_stable=True)\n",
    "    .assign(pscaled=lambda x: x.pressure / psat)\n",
    "    .drop('volume')\n",
    ")"
   ]
  },
  {
   "cell_type": "code",
   "execution_count": 255,
   "metadata": {},
   "outputs": [
    {
     "data": {
      "application/vnd.jupyter.widget-view+json": {
       "model_id": "",
       "version_major": 2,
       "version_minor": 0
      },
      "text/plain": [
       "HBox(children=(IntProgress(value=0, description='nvec', max=208, style=ProgressStyle(description_width='initia…"
      ]
     },
     "metadata": {},
     "output_type": "display_data"
    },
    {
     "name": "stdout",
     "output_type": "stream",
     "text": [
      "\r"
     ]
    },
    {
     "data": {
      "application/vnd.jupyter.widget-view+json": {
       "model_id": "",
       "version_major": 2,
       "version_minor": 0
      },
      "text/plain": [
       "HBox(children=(IntProgress(value=0, description='betaOmega', max=208, style=ProgressStyle(description_width='i…"
      ]
     },
     "metadata": {},
     "output_type": "display_data"
    },
    {
     "name": "stdout",
     "output_type": "stream",
     "text": [
      "\r"
     ]
    }
   ],
   "source": [
    "table_conf = (\n",
    "    c_conf.xgce_prop.table(['ntot'])\n",
    "    .drop('volume')\n",
    ")"
   ]
  },
  {
   "cell_type": "code",
   "execution_count": 276,
   "metadata": {},
   "outputs": [
    {
     "data": {
      "text/plain": [
       "<xarray.DataArray 'ntot' (lnz_0: 203, phase: 2)>\n",
       "array([[  29.625822,         nan],\n",
       "       [  31.081696,         nan],\n",
       "       [  32.640422,         nan],\n",
       "       ...,\n",
       "       [        nan, 6004.87468 ],\n",
       "       [        nan, 6008.203599],\n",
       "       [        nan, 6012.530636]])\n",
       "Coordinates:\n",
       "    beta     float64 1.538\n",
       "    rec      (lnz_0) float64 0.0 1.0 2.0 3.0 4.0 ... 199.0 200.0 201.0 202.0\n",
       "  * lnz_0    (lnz_0) float64 -16.12 -16.05 -15.98 ... -6.911 -6.881 -6.852\n",
       "    pscaled  (lnz_0) float64 9.347e-05 0.0001002 0.0001073 ... 0.9419 0.9706 1.0\n",
       "  * phase    (phase) int64 0 1\n",
       "Attributes:\n",
       "    standard_name:  total_particles\n",
       "    long_name:      $n(\\mu,V,T)$"
      ]
     },
     "execution_count": 276,
     "metadata": {},
     "output_type": "execute_result"
    }
   ],
   "source": [
    "isotherm = (\n",
    "    xr.merge((table_bulk.pscaled, table_conf.ntot))\n",
    "    .set_coords('pscaled')\n",
    "    .ntot\n",
    ")\n",
    "isotherm"
   ]
  },
  {
   "cell_type": "code",
   "execution_count": 261,
   "metadata": {},
   "outputs": [
    {
     "data": {
      "text/plain": [
       "(0, 1.0)"
      ]
     },
     "execution_count": 261,
     "metadata": {},
     "output_type": "execute_result"
    },
    {
     "data": {
      "image/png": "[encoded data removed]",
      "text/plain": [
       "<Figure size 720x720 with 1 Axes>"
      ]
     },
     "metadata": {
      "needs_background": "light"
     },
     "output_type": "display_data"
    }
   ],
   "source": [
    "fig,ax = plt.subplots(figsize=(10,10))\n",
    "\n",
    "isotherm.swap_dims({'lnz_0':'pscaled'}).plot(hue='phase')\n",
    "\n",
    "for meta, g in isotherm.sel(lnz_0=lnz_spin).to_dataframe().reset_index().groupby('lnz_0'):\n",
    "    plt.plot(g['pscaled'],g['ntot'])\n",
    "    \n",
    "plt.plot(df.pscaled,df.rho, marker='o',mfc='None', ls='--',zorder=-1, ms=4)\n",
    "plt.gca().set_xlim(0,1.0)"
   ]
  },
  {
   "cell_type": "code",
   "execution_count": null,
   "metadata": {},
   "outputs": [],
   "source": []
  }
 ],
 "metadata": {
  "kernelspec": {
   "display_name": "Python [conda env:.conda-py37]",
   "language": "python",
   "name": "conda-env-.conda-py37-py"
  },
  "language_info": {
   "codemirror_mode": {
    "name": "ipython",
    "version": 3
   },
   "file_extension": ".py",
   "mimetype": "text/x-python",
   "name": "python",
   "nbconvert_exporter": "python",
   "pygments_lexer": "ipython3",
   "version": "3.7.4"
  },
  "toc": {
   "base_numbering": 1,
   "nav_menu": {},
   "number_sections": true,
   "sideBar": true,
   "skip_h1_title": false,
   "title_cell": "Table of Contents",
   "title_sidebar": "Contents",
   "toc_cell": false,
   "toc_position": {},
   "toc_section_display": true,
   "toc_window_display": false
  }
 },
 "nbformat": 4,
 "nbformat_minor": 1
}
