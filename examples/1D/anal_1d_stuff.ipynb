{
 "cells": [
  {
   "cell_type": "code",
   "execution_count": 49,
   "metadata": {},
   "outputs": [],
   "source": [
    "%config Completer.use_jedi=False\n",
    "%matplotlib inline\n",
    "\n",
    "import matplotlib.pyplot as plt\n",
    "import numpy as np\n",
    "import pandas as pd\n",
    "import xarray as xr\n",
    "from importlib import reload\n",
    "\n",
    "\n",
    "#import lnPi.old\n",
    "import lnPi\n",
    "import lnPi.stability\n",
    "import lnPi.monoutils\n",
    "\n",
    "#function to tag 'LD' and 'HD' phases\n",
    "def tag_phases2(x):\n",
    "    if len(x) > 2:\n",
    "        raise ValueError('bad tag function')\n",
    "    argmax0 = np.array([xx.local_argmax()[0] for xx in x])\n",
    "    return np.where(argmax0 <= x[0].shape[0] / 2, 0, 1)\n"
   ]
  },
  {
   "cell_type": "markdown",
   "metadata": {},
   "source": [
    "# create a reference lnPi_phases for bulk case"
   ]
  },
  {
   "cell_type": "code",
   "execution_count": 106,
   "metadata": {},
   "outputs": [],
   "source": [
    "import lnPi.monoutils_vec"
   ]
  },
  {
   "cell_type": "code",
   "execution_count": 126,
   "metadata": {},
   "outputs": [
    {
     "name": "stderr",
     "output_type": "stream",
     "text": [
      "/Users/wpk/Documents/python/lnPi/extensions.py:119: AccessorRegistrationWarning: registration of accessor <class 'lnPi.xlnPi_vec.xrlnPiVec'> under name 'vgce' for type <class 'lnPi.core.MaskedlnPi'> is overriding a preexisting attribute with the same name.\n",
      "  cls._register_accessor(name, accessor, single_create)\n",
      "/Users/wpk/Documents/python/lnPi/extensions.py:344: AccessorRegistrationWarning: registration of name 'wlnPi' for type <class 'lnPi.lnpicollections.CollectionPhases'> is overriding a preexisting attribute with the same name.\n",
      "  return cls._register_listaccessor(names, accessor_wrapper=_CachedListAccessorWrapper, cache_list=cache_list)\n",
      "/Users/wpk/Documents/python/lnPi/extensions.py:119: AccessorRegistrationWarning: registration of accessor <class 'lnPi.segment.wlnPi'> under name 'wlnPi' for type <class 'lnPi.lnpicollections.Phases'> is overriding a preexisting attribute with the same name.\n",
      "  cls._register_accessor(name, accessor, single_create)\n"
     ]
    },
    {
     "data": {
      "text/plain": [
       "<xarray.DataArray 'betaOmega' (phase: 2)>\n",
       "array([ -1.25806 , 384.896142])\n",
       "Coordinates:\n",
       "    lnz_0    float64 -13.0\n",
       "    volume   int64 729\n",
       "    temp     float64 0.7\n",
       "    beta     float64 1.429\n",
       "  * phase    (phase) int64 0 1\n",
       "Attributes:\n",
       "    dims_n:         ['n_0']\n",
       "    dims_lnz:       ['lnz_0']\n",
       "    dims_comp:      ['component']\n",
       "    dims_state:     ['lnz_0', 'volume', 'temp', 'beta']\n",
       "    standard_name:  grand_potential\n",
       "    long_name:      $\\beta \\Omega(\\mu,V,T)$"
      ]
     },
     "execution_count": 126,
     "metadata": {},
     "output_type": "execute_result"
    }
   ],
   "source": [
    "reload(lnPi.utils)\n",
    "\n",
    "import lnPi.serieswrapper\n",
    "reload(lnPi.serieswrapper)\n",
    "\n",
    "import lnPi.xlnPi_vec\n",
    "reload(lnPi.xlnPi_vec)\n",
    "\n",
    "reload(lnPi.segment)\n",
    "import lnPi.stability_vec\n",
    "reload(lnPi.stability_vec)\n",
    "\n",
    "pe = pd.read_csv('./PiofN/ljsf.t070.bulk.v729.r1.energy.dat', header=None, sep='\\s+', names=['n','e'])['e'].values\n",
    "\n",
    "mu = -8.616\n",
    "volume = 729\n",
    "temp = 0.7\n",
    "beta = 1.0 / temp\n",
    "state_kws = dict(volume=volume, temp=temp, beta=1/temp)\n",
    "lnz = beta * mu\n",
    "\n",
    "# reference masked lnPi\n",
    "ref = lnPi.core.MaskedlnPi.from_table('./PiofN/ljsf.t070.bulk.v729.r1.lnpi.dat',fill_value=np.nan,\n",
    "                                      lnz=lnz, state_kws=state_kws, extra_kws={'PE':pe}).zeromax()\n",
    "\n",
    "# Phase Creator\n",
    "PhaseCreator = lnPi.segment.PhaseCreator(nmax=2, tag_phases=tag_phases2, nmax_peak=4, merge_kws=dict(efac=0.8), \n",
    "                                         ref=ref)\n",
    "build_phases = PhaseCreator.build_phases_mu([None])\n",
    "\n",
    "\n",
    "\n",
    "\n",
    "p = build_phases(-13.0)\n",
    "p.xgce.betaOmega()"
   ]
  },
  {
   "cell_type": "code",
   "execution_count": 127,
   "metadata": {},
   "outputs": [],
   "source": [
    "PhaseCreator_s = lnPi.segment.PhaseCreator(nmax=2, \n",
    "                                           tag_phases=tag_phases2, nmax_peak=4, merge_kws=dict(efac=0.8), \n",
    "                                           phases_factory=lnPi.serieswrapper.CollectionlnPi.from_list,\n",
    "                                            ref=ref)\n",
    "build_phases_s = PhaseCreator_s.build_phases_mu([None])\n"
   ]
  },
  {
   "cell_type": "code",
   "execution_count": 129,
   "metadata": {},
   "outputs": [],
   "source": [
    "lnzs = np.linspace(-12, -5, 20)"
   ]
  },
  {
   "cell_type": "code",
   "execution_count": 130,
   "metadata": {},
   "outputs": [],
   "source": [
    "with lnPi.set_options(tqdm_leave=True):\n",
    "    o = lnPi.serieswrapper.CollectionlnPi.from_builder(lnzs, build_phases_s)"
   ]
  },
  {
   "cell_type": "code",
   "execution_count": 131,
   "metadata": {},
   "outputs": [],
   "source": [
    "with lnPi.set_options(tqdm_leave=True):\n",
    "    c = lnPi.CollectionPhases.from_builder(lnzs, build_phases, set_index=['lnz_0','phase'])"
   ]
  },
  {
   "cell_type": "code",
   "execution_count": 132,
   "metadata": {},
   "outputs": [
    {
     "data": {
      "text/plain": [
       "<lnPi.stability_vec.Binodals at 0x7f8b4030cf10>"
      ]
     },
     "execution_count": 132,
     "metadata": {},
     "output_type": "execute_result"
    }
   ],
   "source": [
    "o.spinodal(2, build_phases_s)\n",
    "o.binodal(2, build_phases_s)"
   ]
  },
  {
   "cell_type": "markdown",
   "metadata": {},
   "source": [
    "## create a collection"
   ]
  },
  {
   "cell_type": "code",
   "execution_count": 133,
   "metadata": {},
   "outputs": [],
   "source": [
    "with lnPi.set_options(tqdm_use=True, tqdm_leave=True, joblib_use=True):\n",
    "    o = lnPi.serieswrapper.CollectionlnPi.from_builder(lnzs, build_phases_s)"
   ]
  },
  {
   "cell_type": "code",
   "execution_count": 134,
   "metadata": {},
   "outputs": [],
   "source": [
    "o.spinodal(2, build_phases_s, inplace=True, unstack=False)\n",
    "o.binodal(2, build_phases_s, inplace=True, unstack=False)\n",
    "\n",
    "o = o.stability_append()"
   ]
  },
  {
   "cell_type": "code",
   "execution_count": 45,
   "metadata": {},
   "outputs": [
    {
     "data": {
      "text/plain": [
       "<xarray.DataArray 'betaOmega' (phase: 2, lnz_0: 2)>\n",
       "array([[       nan, -16.299163],\n",
       "       [770.339413,        nan]])\n",
       "Coordinates:\n",
       "    beta      float64 1.429\n",
       "    temp      float64 0.7\n",
       "    volume    int64 729\n",
       "    spinodal  (phase) int64 0 1\n",
       "  * lnz_0     (lnz_0) float64 -13.7 -10.67\n",
       "  * phase     (phase) int64 0 1\n",
       "Attributes:\n",
       "    dims_n:         ['n_0']\n",
       "    dims_lnz:       ['lnz_0']\n",
       "    dims_comp:      ['component']\n",
       "    dims_state:     ['lnz_0', 'volume', 'temp', 'beta']\n",
       "    dims_rec:       ['sample']\n",
       "    standard_name:  grand_potential\n",
       "    long_name:      $\\beta \\Omega(\\mu,V,T)$"
      ]
     },
     "execution_count": 45,
     "metadata": {},
     "output_type": "execute_result"
    }
   ],
   "source": [
    "(\n",
    "    o.spinodal.access\n",
    "    .xgce.betaOmega()\n",
    "    .unstack()\n",
    "    .pipe(lambda x: x.sel(spinodal=x.phase))\n",
    "    \n",
    "#     .pipe(lambda x: x.sel(sample=x.spinodal==x.phase))\n",
    "#     .unstack()\n",
    ")"
   ]
  },
  {
   "cell_type": "code",
   "execution_count": 48,
   "metadata": {},
   "outputs": [
    {
     "data": {
      "text/plain": [
       "[<matplotlib.lines.Line2D at 0x7f8b20911050>,\n",
       " <matplotlib.lines.Line2D at 0x7f8b20911710>]"
      ]
     },
     "execution_count": 48,
     "metadata": {},
     "output_type": "execute_result"
    },
    {
     "data": {
      "image/png": "[encoded data removed]",
      "text/plain": [
       "<Figure size 432x288 with 1 Axes>"
      ]
     },
     "metadata": {
      "needs_background": "light"
     },
     "output_type": "display_data"
    }
   ],
   "source": [
    "(\n",
    "    o.spinodal.access.xgce.betaOmega().unstack()\n",
    "    .pipe(lambda x: x.where(x.phase == x.spinodal, drop=True))\n",
    "    .max('phase')\n",
    "    .plot(hue='spinodal', marker='o')\n",
    ")\n",
    "\n",
    "o.xgce.betaOmega().plot(hue='phase')"
   ]
  },
  {
   "cell_type": "code",
   "execution_count": 3687,
   "metadata": {},
   "outputs": [
    {
     "data": {
      "text/plain": [
       "[<matplotlib.lines.Line2D at 0x7fd4929eb150>]"
      ]
     },
     "execution_count": 3687,
     "metadata": {},
     "output_type": "execute_result"
    },
    {
     "data": {
      "image/png": "[encoded data removed]",
      "text/plain": [
       "<Figure size 432x288 with 1 Axes>"
      ]
     },
     "metadata": {
      "needs_background": "light"
     },
     "output_type": "display_data"
    }
   ],
   "source": [
    "o.xgce.table(mask_stable=True, dim_to_suffix='component').betapV.plot(hue='phase')"
   ]
  },
  {
   "cell_type": "code",
   "execution_count": 3688,
   "metadata": {},
   "outputs": [],
   "source": [
    "# mu min/max"
   ]
  },
  {
   "cell_type": "code",
   "execution_count": 3689,
   "metadata": {},
   "outputs": [
    {
     "data": {
      "text/plain": [
       "<module 'lnPi.monoutils_vec' from '/Users/wpk/Documents/python/lnPi/monoutils_vec.py'>"
      ]
     },
     "execution_count": 3689,
     "metadata": {},
     "output_type": "execute_result"
    }
   ],
   "source": [
    "import lnPi.monoutils_vec\n",
    "reload(lnPi.monoutils_vec)"
   ]
  },
  {
   "cell_type": "code",
   "execution_count": 3690,
   "metadata": {},
   "outputs": [],
   "source": [
    "o_course, o = lnPi.monoutils_vec.limited_collection(build_phases_s, offsets=[-10, +12],\n",
    "                                                    dlnz=0.1, digits=2,\n",
    "                                                    rho_min=0.0001, edge_distance_min=8, limit_course=True)\n"
   ]
  },
  {
   "cell_type": "code",
   "execution_count": 3691,
   "metadata": {},
   "outputs": [],
   "source": [
    "# calc stability \n",
    "o_course.spinodal(2, build_phases_s, inplace=True)\n",
    "o_course.binodal(2, build_phases_s, inplace=True)\n",
    "# append to o\n",
    "o = o.stability_append(o_course)"
   ]
  },
  {
   "cell_type": "code",
   "execution_count": 3692,
   "metadata": {},
   "outputs": [
    {
     "data": {
      "text/plain": [
       "<matplotlib.axes._subplots.AxesSubplot at 0x7fd4503dcc90>"
      ]
     },
     "execution_count": 3692,
     "metadata": {},
     "output_type": "execute_result"
    },
    {
     "data": {
      "image/png": "[encoded data removed]",
      "text/plain": [
       "<Figure size 432x288 with 1 Axes>"
      ]
     },
     "metadata": {
      "needs_background": "light"
     },
     "output_type": "display_data"
    }
   ],
   "source": [
    "table = o.xgce.table(['dens','pressure'], mask_stable=True, dim_to_suffix='component')\n",
    "\n",
    "table.to_dataframe().plot('dens_0','pressure',marker='o')"
   ]
  },
  {
   "cell_type": "raw",
   "metadata": {},
   "source": [
    "import xarray as xr\n",
    "@xr.register_dataarray_accessor('lwhere')\n",
    "def lwhere(da):\n",
    "    def where(condition, drop=False):\n",
    "        return da.where(condition(da), drop=drop)\n",
    "    return where"
   ]
  },
  {
   "cell_type": "code",
   "execution_count": 3693,
   "metadata": {},
   "outputs": [],
   "source": [
    "# test saving"
   ]
  },
  {
   "cell_type": "code",
   "execution_count": 3694,
   "metadata": {},
   "outputs": [],
   "source": [
    "da = o.to_dataarray()\n",
    "o2 = lnPi.serieswrapper.CollectionlnPi.from_dataarray(ref, da)"
   ]
  },
  {
   "cell_type": "code",
   "execution_count": 3695,
   "metadata": {},
   "outputs": [
    {
     "data": {
      "text/plain": [
       "[<matplotlib.lines.Line2D at 0x7fd4966f1bd0>,\n",
       " <matplotlib.lines.Line2D at 0x7fd4966e7b10>]"
      ]
     },
     "execution_count": 3695,
     "metadata": {},
     "output_type": "execute_result"
    },
    {
     "data": {
      "image/png": "[encoded data removed]",
      "text/plain": [
       "<Figure size 432x288 with 1 Axes>"
      ]
     },
     "metadata": {
      "needs_background": "light"
     },
     "output_type": "display_data"
    }
   ],
   "source": [
    "o.xgce.betaOmega().plot(hue='phase')\n",
    "o2.xgce.betaOmega().plot(hue='phase')"
   ]
  },
  {
   "cell_type": "markdown",
   "metadata": {
    "collapsed": true
   },
   "source": [
    "# bulk 065"
   ]
  },
  {
   "cell_type": "code",
   "execution_count": 135,
   "metadata": {},
   "outputs": [
    {
     "name": "stderr",
     "output_type": "stream",
     "text": [
      "/Users/wpk/Documents/python/lnPi/extensions.py:344: AccessorRegistrationWarning: registration of name 'wlnPi' for type <class 'lnPi.lnpicollections.CollectionPhases'> is overriding a preexisting attribute with the same name.\n",
      "  return cls._register_listaccessor(names, accessor_wrapper=_CachedListAccessorWrapper, cache_list=cache_list)\n",
      "/Users/wpk/Documents/python/lnPi/extensions.py:119: AccessorRegistrationWarning: registration of accessor <class 'lnPi.segment.wlnPi'> under name 'wlnPi' for type <class 'lnPi.lnpicollections.Phases'> is overriding a preexisting attribute with the same name.\n",
      "  cls._register_accessor(name, accessor, single_create)\n",
      "/Users/wpk/Documents/python/lnPi/extensions.py:119: AccessorRegistrationWarning: registration of accessor <class 'lnPi.xlnPi_vec.xrlnPiVec'> under name 'vgce' for type <class 'lnPi.core.MaskedlnPi'> is overriding a preexisting attribute with the same name.\n",
      "  cls._register_accessor(name, accessor, single_create)\n"
     ]
    },
    {
     "data": {
      "text/plain": [
       "<module 'lnPi.xlnPi_vec' from '/Users/wpk/Documents/python/lnPi/xlnPi_vec.py'>"
      ]
     },
     "execution_count": 135,
     "metadata": {},
     "output_type": "execute_result"
    }
   ],
   "source": [
    "reload(lnPi.serieswrapper)\n",
    "reload(lnPi.segment)\n",
    "reload(lnPi.xlnPi_vec)"
   ]
  },
  {
   "cell_type": "code",
   "execution_count": 136,
   "metadata": {},
   "outputs": [
    {
     "data": {
      "text/plain": [
       "<module 'lnPi.stability_vec' from '/Users/wpk/Documents/python/lnPi/stability_vec.py'>"
      ]
     },
     "execution_count": 136,
     "metadata": {},
     "output_type": "execute_result"
    }
   ],
   "source": [
    "reload(lnPi.monoutils_vec)\n",
    "reload(lnPi.stability_vec)\n"
   ]
  },
  {
   "cell_type": "code",
   "execution_count": 137,
   "metadata": {},
   "outputs": [],
   "source": [
    "beta = 1.0 / 0.65"
   ]
  },
  {
   "cell_type": "code",
   "execution_count": 138,
   "metadata": {},
   "outputs": [],
   "source": [
    "ref_bulk = lnPi.MaskedlnPi.from_table('./PiofN/ljcut.t065.bulk.v1000.r1.lnpi.dat', lnz=-4.453015418106743E+00 /0.65,\n",
    "                               state_kws=dict(volume=1000.0E0,beta=1./0.65000E0))"
   ]
  },
  {
   "cell_type": "code",
   "execution_count": 139,
   "metadata": {},
   "outputs": [],
   "source": [
    "phase_creator_bulk = lnPi.segment.PhaseCreator(nmax=2, nmax_peak=4, ref=ref_bulk, \n",
    "                                               phases_factory=lnPi.serieswrapper.CollectionlnPi.from_list,\n",
    "                                         merge_kws=dict(efac=0.5), tag_phases=tag_phases2)\n",
    "build_phases_bulk = phase_creator_bulk.build_phases_mu([None])"
   ]
  },
  {
   "cell_type": "code",
   "execution_count": 140,
   "metadata": {},
   "outputs": [
    {
     "data": {
      "application/vnd.jupyter.widget-view+json": {
       "model_id": "",
       "version_major": 2,
       "version_minor": 0
      },
      "text/plain": [
       "HBox(children=(IntProgress(value=0, description='build', max=1506, style=ProgressStyle(description_width='init…"
      ]
     },
     "metadata": {},
     "output_type": "display_data"
    },
    {
     "name": "stdout",
     "output_type": "stream",
     "text": [
      "\r"
     ]
    }
   ],
   "source": [
    "c_course_bulk, c_bulk = lnPi.monoutils_vec.limited_collection(build_phases_bulk, lnz_range=[-20, 0.0],\n",
    "                                                              dlnz=0.01, \n",
    "                                                              digits=2, \n",
    "                                                              edge_distance_min=8,\n",
    "                                                              limit_course=True)"
   ]
  },
  {
   "cell_type": "code",
   "execution_count": 147,
   "metadata": {},
   "outputs": [
    {
     "data": {
      "text/plain": [
       "<xarray.DataArray 'molfrac' ()>\n",
       "array(1.)\n",
       "Coordinates:\n",
       "    lnz_0    float64 -12.0\n",
       "    volume   int64 729\n",
       "    temp     float64 0.7\n",
       "    beta     float64 1.429\n",
       "Attributes:\n",
       "    dims_n:      ['n_0']\n",
       "    dims_lnz:    ['lnz_0']\n",
       "    dims_comp:   ['component']\n",
       "    dims_state:  ['lnz_0', 'volume', 'temp', 'beta']\n",
       "    long_name:   ${\\bf x}(\\mu,V,T)$"
      ]
     },
     "execution_count": 147,
     "metadata": {},
     "output_type": "execute_result"
    }
   ],
   "source": [
    "c[0][0].xgce.molfrac.sel(component=0)"
   ]
  },
  {
   "cell_type": "code",
   "execution_count": 3702,
   "metadata": {},
   "outputs": [
    {
     "data": {
      "text/plain": [
       "<lnPi.stability_vec.Binodals at 0x7fd4929cb490>"
      ]
     },
     "execution_count": 3702,
     "metadata": {},
     "output_type": "execute_result"
    }
   ],
   "source": [
    "c_course_bulk.spinodal(2, build_phases_bulk, inplace=True)\n",
    "c_course_bulk.binodal(2, build_phases_bulk, inplace=True)"
   ]
  },
  {
   "cell_type": "code",
   "execution_count": 3703,
   "metadata": {},
   "outputs": [],
   "source": [
    "#c_bulk = c_bulk.stability_append(c_course_bulk)"
   ]
  },
  {
   "cell_type": "code",
   "execution_count": 3704,
   "metadata": {},
   "outputs": [
    {
     "data": {
      "text/plain": [
       "[<matplotlib.lines.Line2D at 0x7fd450325dd0>]"
      ]
     },
     "execution_count": 3704,
     "metadata": {},
     "output_type": "execute_result"
    },
    {
     "data": {
      "image/png": "[encoded data removed]",
      "text/plain": [
       "<Figure size 432x288 with 1 Axes>"
      ]
     },
     "metadata": {
      "needs_background": "light"
     },
     "output_type": "display_data"
    }
   ],
   "source": [
    "(\n",
    "    c_bulk.xgce.table(['dens_tot','pressure'], mask_stable=True)\n",
    "     .swap_dims({'lnz_0':'dens_tot'})\n",
    "     .pressure.plot(marker='o')\n",
    "    \n",
    ")"
   ]
  },
  {
   "cell_type": "code",
   "execution_count": 3705,
   "metadata": {},
   "outputs": [
    {
     "data": {
      "text/plain": [
       "[<matplotlib.lines.Line2D at 0x7fd4952cf5d0>]"
      ]
     },
     "execution_count": 3705,
     "metadata": {},
     "output_type": "execute_result"
    },
    {
     "data": {
      "image/png": "[encoded data removed]",
      "text/plain": [
       "<Figure size 432x288 with 1 Axes>"
      ]
     },
     "metadata": {
      "needs_background": "light"
     },
     "output_type": "display_data"
    }
   ],
   "source": [
    "c_bulk.xgce.betaOmega().plot(hue='phase')\n",
    "\n",
    "(\n",
    "    c_course_bulk.spinodal.access.xgce.betaOmega()\n",
    "    \n",
    "    .pipe(lambda x: x.sel(phase = x.spinodal))\n",
    "\n",
    "    .plot(hue='spinodal', marker='o')\n",
    ")\n",
    "\n",
    "(\n",
    "    c_course_bulk.binodal.access.xgce.betaOmega()\n",
    "    .pipe(lambda x: x.sel(phase=x.binodal))\n",
    "    .plot.line(hue='binodal',marker='o')\n",
    ")"
   ]
  },
  {
   "cell_type": "markdown",
   "metadata": {
    "collapsed": true
   },
   "source": [
    "# confined"
   ]
  },
  {
   "cell_type": "code",
   "execution_count": 3706,
   "metadata": {},
   "outputs": [
    {
     "data": {
      "text/plain": [
       "<module 'lnPi.monoutils_vec' from '/Users/wpk/Documents/python/lnPi/monoutils_vec.py'>"
      ]
     },
     "execution_count": 3706,
     "metadata": {},
     "output_type": "execute_result"
    }
   ],
   "source": [
    "reload(lnPi.monoutils_vec)"
   ]
  },
  {
   "cell_type": "code",
   "execution_count": 3707,
   "metadata": {},
   "outputs": [],
   "source": [
    "ref_conf = lnPi.MaskedlnPi.from_table('./PiofN/ljcut.t065.finiteslit.L_20nm.W_4nm.r2.lnpi.dat',\n",
    "                                       lnz=-0.500000E+01/0.65,state_kws=dict(volume=7000.,beta=1./0.65000E0))\n",
    "\n",
    "\n",
    "phase_creator_conf = lnPi.segment.PhaseCreator(nmax=2, nmax_peak=4, ref=ref_conf, \n",
    "                                               phases_factory=lnPi.serieswrapper.CollectionlnPi.from_list,\n",
    "                                              merge_kws=dict(efac=0.6), tag_phases=tag_phases2)\n",
    "\n",
    "build_phases_conf = phase_creator_conf.build_phases_mu([None])"
   ]
  },
  {
   "cell_type": "code",
   "execution_count": 3723,
   "metadata": {},
   "outputs": [],
   "source": [
    "phase_creator_ = lnPi.segment.PhaseCreator(nmax=2, nmax_peak=4, ref=ref_conf, \n",
    "                                              merge_kws=dict(efac=0.6), tag_phases=tag_phases2)\n",
    "\n",
    "build_phases_ = phase_creator_.build_phases_mu([None])"
   ]
  },
  {
   "cell_type": "code",
   "execution_count": 3737,
   "metadata": {},
   "outputs": [
    {
     "data": {
      "text/plain": [
       "Float64Index([ -20.0, -19.99, -19.98, -19.97, -19.96, -19.95, -19.94, -19.93,\n",
       "              -19.92, -19.91,\n",
       "              ...\n",
       "               -6.95,  -6.94,  -6.93,  -6.92,  -6.91,   -6.9,  -6.89,  -6.88,\n",
       "               -6.87,  -6.86],\n",
       "             dtype='float64', name='lnz_0', length=1318)"
      ]
     },
     "execution_count": 3737,
     "metadata": {},
     "output_type": "execute_result"
    }
   ],
   "source": [
    "c_conf.index.levels[0]"
   ]
  },
  {
   "cell_type": "code",
   "execution_count": 3770,
   "metadata": {},
   "outputs": [
    {
     "data": {
      "application/vnd.jupyter.widget-view+json": {
       "model_id": "",
       "version_major": 2,
       "version_minor": 0
      },
      "text/plain": [
       "HBox(children=(IntProgress(value=0, description='build', max=1318, style=ProgressStyle(description_width='init…"
      ]
     },
     "metadata": {},
     "output_type": "display_data"
    },
    {
     "name": "stdout",
     "output_type": "stream",
     "text": [
      "\r"
     ]
    }
   ],
   "source": [
    "cc = lnPi.CollectionPhases.from_builder(c_conf.index.levels[0], build_phases_)"
   ]
  },
  {
   "cell_type": "code",
   "execution_count": 3708,
   "metadata": {},
   "outputs": [],
   "source": [
    "mx = c_course_bulk.binodal.access.iloc[0].lnz[build_phases_bulk.index]\n",
    "lnz_range = [-20, mx]"
   ]
  },
  {
   "cell_type": "code",
   "execution_count": 3759,
   "metadata": {},
   "outputs": [
    {
     "data": {
      "application/vnd.jupyter.widget-view+json": {
       "model_id": "",
       "version_major": 2,
       "version_minor": 0
      },
      "text/plain": [
       "HBox(children=(IntProgress(value=0, description='build', max=1315, style=ProgressStyle(description_width='init…"
      ]
     },
     "metadata": {},
     "output_type": "display_data"
    },
    {
     "name": "stdout",
     "output_type": "stream",
     "text": [
      "\r"
     ]
    }
   ],
   "source": [
    "c_course_conf, c_conf = lnPi.monoutils_vec.limited_collection(build_phases_conf, \n",
    "                                                              lnz_range=lnz_range,\n",
    "                                                              dlnz=0.01, \n",
    "                                                              digits=2, \n",
    "                                                              edge_distance_min=8,\n",
    "                                                              limit_course=True)"
   ]
  },
  {
   "cell_type": "code",
   "execution_count": 3760,
   "metadata": {},
   "outputs": [
    {
     "data": {
      "text/plain": [
       "<lnPi.stability_vec.Binodals at 0x7fd483bd6e10>"
      ]
     },
     "execution_count": 3760,
     "metadata": {},
     "output_type": "execute_result"
    }
   ],
   "source": [
    "c_course_conf.spinodal(2, build_phases_conf, inplace=True)\n",
    "c_course_conf.binodal(2, build_phases_conf, inplace=True)"
   ]
  },
  {
   "cell_type": "code",
   "execution_count": 3761,
   "metadata": {},
   "outputs": [],
   "source": [
    "c_conf = c_conf.stability_append(c_course_conf)"
   ]
  },
  {
   "cell_type": "code",
   "execution_count": 3774,
   "metadata": {},
   "outputs": [
    {
     "data": {
      "text/plain": [
       "[<matplotlib.lines.Line2D at 0x7fd49675cad0>]"
      ]
     },
     "execution_count": 3774,
     "metadata": {},
     "output_type": "execute_result"
    },
    {
     "data": {
      "image/png": "[encoded data removed]",
      "text/plain": [
       "<Figure size 432x288 with 1 Axes>"
      ]
     },
     "metadata": {
      "needs_background": "light"
     },
     "output_type": "display_data"
    }
   ],
   "source": [
    "c_conf.xgce.betaOmega().plot(hue='phase')\n",
    "\n",
    "(\n",
    "    c_conf.spinodal.access.xgce.betaOmega()\n",
    "    .pipe(lambda x: x.sel(spinodal=x.phase))\n",
    "    .plot(hue='phase', marker='o')\n",
    ")\n",
    "\n",
    "(\n",
    "    c_conf.binodal.access.xgce.betaOmega()\n",
    "    .pipe(lambda x: x.sel(phase=x.binodal))\n",
    "    .plot.line(hue='binodal', marker='o')\n",
    ")"
   ]
  },
  {
   "cell_type": "code",
   "execution_count": 3778,
   "metadata": {},
   "outputs": [],
   "source": [
    "df=pd.read_table('./PiofN/ljcut.t065.finiteslit.L_20nm.W_4nm.r2.single_isotherm.txt',sep='\\s+',\n",
    "                 header=None,names=['pscaled','mu','rho','Omega_L','Qst','Gads'])\n"
   ]
  },
  {
   "cell_type": "markdown",
   "metadata": {},
   "source": [
    "# make isotherm"
   ]
  },
  {
   "cell_type": "code",
   "execution_count": 3779,
   "metadata": {},
   "outputs": [
    {
     "data": {
      "text/plain": [
       "array(0.00069573)"
      ]
     },
     "execution_count": 3779,
     "metadata": {},
     "output_type": "execute_result"
    }
   ],
   "source": [
    "psat = c_course_bulk.binodal.appender.xgce.pressure().sel(phase=0).squeeze().values\n",
    "psat"
   ]
  },
  {
   "cell_type": "code",
   "execution_count": 3780,
   "metadata": {},
   "outputs": [
    {
     "data": {
      "application/vnd.jupyter.widget-view+json": {
       "model_id": "",
       "version_major": 2,
       "version_minor": 0
      },
      "text/plain": [
       "HBox(children=(IntProgress(value=0, description='build', max=1318, style=ProgressStyle(description_width='init…"
      ]
     },
     "metadata": {},
     "output_type": "display_data"
    },
    {
     "name": "stdout",
     "output_type": "stream",
     "text": [
      "\r"
     ]
    }
   ],
   "source": [
    "c_bulk_ = lnPi.serieswrapper.CollectionlnPi.from_builder(c_conf._get_level('lnz_0'), build_phases_bulk)"
   ]
  },
  {
   "cell_type": "code",
   "execution_count": 3781,
   "metadata": {},
   "outputs": [],
   "source": [
    "table_bulk = (\n",
    "    c_bulk_.xgce.table(['pressure'], mask_stable=True)\n",
    "    .assign(pscaled=lambda x: x.pressure / psat)\n",
    "    .drop(['volume'])\n",
    ")"
   ]
  },
  {
   "cell_type": "code",
   "execution_count": 3782,
   "metadata": {},
   "outputs": [],
   "source": [
    "table_conf = (\n",
    "    c_conf.xgce.table(['ntot'])\n",
    "    .drop('volume')\n",
    ")"
   ]
  },
  {
   "cell_type": "code",
   "execution_count": 3783,
   "metadata": {},
   "outputs": [],
   "source": [
    "isotherm = (\n",
    "    xr.merge((table_bulk.pscaled, table_conf.ntot), join='inner')\n",
    "    .set_coords('pscaled')\n",
    "\n",
    ")"
   ]
  },
  {
   "cell_type": "code",
   "execution_count": 3784,
   "metadata": {},
   "outputs": [],
   "source": [
    "lnz_spin = c_conf.spinodal.access._get_level('lnz_0')"
   ]
  },
  {
   "cell_type": "code",
   "execution_count": 3385,
   "metadata": {},
   "outputs": [
    {
     "data": {
      "text/plain": [
       "[<matplotlib.lines.Line2D at 0x7fd482fbef10>]"
      ]
     },
     "execution_count": 3385,
     "metadata": {},
     "output_type": "execute_result"
    },
    {
     "data": {
      "image/png": "[encoded data removed]",
      "text/plain": [
       "<Figure size 720x720 with 1 Axes>"
      ]
     },
     "metadata": {
      "needs_background": "light"
     },
     "output_type": "display_data"
    }
   ],
   "source": [
    "fig, ax = plt.subplots(figsize=(10,10))\n",
    "(\n",
    "    isotherm.ntot\n",
    "    .swap_dims({'lnz_0':'pscaled'})\n",
    "    .plot(hue='phase', marker='o')\n",
    ")\n",
    "\n",
    "for meta, g in isotherm.sel(lnz_0=lnz_spin).to_dataframe().reset_index().groupby('lnz_0'):\n",
    "    g.plot('pscaled','ntot', ax=plt.gca())\n",
    "    \n",
    "plt.plot(df.pscaled,df.rho, marker='o',mfc='None', ls='--',zorder=-1, ms=4)\n",
    "# plt.xlim(0.3, 0.45)\n",
    "# plt.ylim(5000, 6000)"
   ]
  },
  {
   "cell_type": "code",
   "execution_count": 251,
   "metadata": {},
   "outputs": [],
   "source": [
    "# new bulk on same spacinf\n",
    "c_bulk = lnPi.CollectionPhases.from_builder(c_conf.lnz[:,0], build_phases_bulk, set_index=['lnz_0','phase'])"
   ]
  },
  {
   "cell_type": "code",
   "execution_count": 252,
   "metadata": {},
   "outputs": [],
   "source": [
    "lnz_spin = c_conf.spinodals.access.lnz[:,0]"
   ]
  },
  {
   "cell_type": "code",
   "execution_count": 253,
   "metadata": {},
   "outputs": [],
   "source": [
    "psat = c_course_bulk.binodals.access.xgce_prop.pressure().values.flatten()[0]\n",
    "\n",
    "table_bulk = (\n",
    "    c_bulk.xgce_prop.table(['pressure'], mask_stable=True)\n",
    "    .assign(pscaled=lambda x: x.pressure / psat)\n",
    "    .drop('volume')\n",
    ")\n",
    "\n",
    "table_conf = (\n",
    "    c_conf.xgce_prop.table(['ntot'])\n",
    "    .drop('volume')\n",
    ")\n",
    "\n",
    "isotherm = (\n",
    "    xr.merge((table_bulk.pscaled, table_conf.ntot))\n",
    "    .set_coords('pscaled')\n",
    "    .ntot\n",
    ")\n",
    "isotherm"
   ]
  },
  {
   "cell_type": "code",
   "execution_count": 261,
   "metadata": {},
   "outputs": [
    {
     "data": {
      "text/plain": [
       "(0, 1.0)"
      ]
     },
     "execution_count": 261,
     "metadata": {},
     "output_type": "execute_result"
    },
    {
     "data": {
      "image/png": "[encoded data removed]",
      "text/plain": [
       "<Figure size 720x720 with 1 Axes>"
      ]
     },
     "metadata": {
      "needs_background": "light"
     },
     "output_type": "display_data"
    }
   ],
   "source": [
    "fig,ax = plt.subplots(figsize=(10,10))\n",
    "\n",
    "isotherm.swap_dims({'lnz_0':'pscaled'}).plot(hue='phase')\n",
    "\n",
    "for meta, g in isotherm.sel(lnz_0=lnz_spin).to_dataframe().reset_index().groupby('lnz_0'):\n",
    "    plt.plot(g['pscaled'],g['ntot'])\n",
    "    \n",
    "plt.plot(df.pscaled,df.rho, marker='o',mfc='None', ls='--',zorder=-1, ms=4)\n",
    "plt.gca().set_xlim(0,1.0)"
   ]
  },
  {
   "cell_type": "code",
   "execution_count": null,
   "metadata": {},
   "outputs": [],
   "source": []
  }
 ],
 "metadata": {
  "kernelspec": {
   "display_name": "Python [conda env:.conda-py37]",
   "language": "python",
   "name": "conda-env-.conda-py37-py"
  },
  "language_info": {
   "codemirror_mode": {
    "name": "ipython",
    "version": 3
   },
   "file_extension": ".py",
   "mimetype": "text/x-python",
   "name": "python",
   "nbconvert_exporter": "python",
   "pygments_lexer": "ipython3",
   "version": "3.7.4"
  },
  "toc": {
   "base_numbering": 1,
   "nav_menu": {},
   "number_sections": true,
   "sideBar": true,
   "skip_h1_title": false,
   "title_cell": "Table of Contents",
   "title_sidebar": "Contents",
   "toc_cell": false,
   "toc_position": {},
   "toc_section_display": true,
   "toc_window_display": false
  }
 },
 "nbformat": 4,
 "nbformat_minor": 1
}
