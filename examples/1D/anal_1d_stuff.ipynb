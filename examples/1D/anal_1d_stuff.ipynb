{
 "cells": [
  {
   "cell_type": "code",
   "execution_count": 1,
   "metadata": {},
   "outputs": [],
   "source": [
    "%config Completer.use_jedi=False\n",
    "%matplotlib inline\n",
    "\n",
    "import matplotlib.pyplot as plt\n",
    "import numpy as np\n",
    "import pandas as pd\n",
    "import xarray as xr\n",
    "from importlib import reload\n"
   ]
  },
  {
   "cell_type": "code",
   "execution_count": 2,
   "metadata": {},
   "outputs": [],
   "source": [
    "#import lnPi.old\n",
    "import lnPi\n",
    "import lnPi.stability\n",
    "import lnPi.monoutils\n",
    "\n",
    "import lnPi2"
   ]
  },
  {
   "cell_type": "code",
   "execution_count": 3,
   "metadata": {},
   "outputs": [],
   "source": [
    "#function to tag 'LD' and 'HD' phases\n",
    "def tag_phases2(x):\n",
    "    if len(x) > 2:\n",
    "        raise ValueError('bad tag function')\n",
    "    argmax0 = np.array([xx.local_argmax()[0] for xx in x])\n",
    "    return np.where(argmax0 <= x[0].shape[0] / 2, 0, 1)\n"
   ]
  },
  {
   "cell_type": "markdown",
   "metadata": {},
   "source": [
    "# test"
   ]
  },
  {
   "cell_type": "code",
   "execution_count": 4,
   "metadata": {},
   "outputs": [],
   "source": [
    "#x = np.array([0]*10 + [10] + [0]*10 + [10]  + [0]*10).astype(np.float)\n",
    "#x = np.array([0]*10 + [10] + [0]*10 + [0]  + [0]*10).astype(np.float)\n",
    "x = np.linspace(0, 10, 20)\n",
    "\n",
    "r = lnPi.MaskedlnPi(x, mask=False, lnz=0.0)\n",
    "p = lnPi.segment.PhaseCreator(nmax=2, ref=r, tag_phases=tag_phases2)\n",
    "b = p.build_phases_mu([None])"
   ]
  },
  {
   "cell_type": "code",
   "execution_count": 5,
   "metadata": {},
   "outputs": [
    {
     "data": {
      "application/vnd.jupyter.widget-view+json": {
       "model_id": "",
       "version_major": 2,
       "version_minor": 0
      },
      "text/plain": [
       "HBox(children=(IntProgress(value=0, description='build', max=500, style=ProgressStyle(description_width='initi…"
      ]
     },
     "metadata": {},
     "output_type": "display_data"
    },
    {
     "name": "stdout",
     "output_type": "stream",
     "text": [
      "\r"
     ]
    }
   ],
   "source": [
    "c = lnPi.CollectionPhases.from_builder(np.linspace(-10, 10, 500), b)"
   ]
  },
  {
   "cell_type": "markdown",
   "metadata": {},
   "source": [
    "# general look in"
   ]
  },
  {
   "cell_type": "code",
   "execution_count": 6,
   "metadata": {},
   "outputs": [
    {
     "data": {
      "text/plain": [
       "array([0.5, 0.2, 0.3])"
      ]
     },
     "execution_count": 6,
     "metadata": {},
     "output_type": "execute_result"
    }
   ],
   "source": [
    "r = lnPi.MaskedlnPi(np.random.rand(20,20,20) * 10, lnz=np.random.rand(3))\n",
    "p = lnPi.segment.PhaseCreator(nmax=1, ref=r)\n",
    "\n",
    "p.build_phases([0.1, 0.2, 0.3])\n",
    "\n",
    "b = p.build_phases_mu([None, 0.2, 0.3])\n",
    "b(0.5).lnz\n"
   ]
  },
  {
   "cell_type": "code",
   "execution_count": 7,
   "metadata": {},
   "outputs": [
    {
     "data": {
      "text/plain": [
       "<xarray.DataArray 'lnz' (phase: 1, component: 3)>\n",
       "array([[0. , 0.5, 1. ]])\n",
       "Coordinates:\n",
       "    lnz_0    float64 20.0\n",
       "    lnz_1    float64 20.5\n",
       "    lnz_2    float64 21.0\n",
       "  * phase    (phase) int64 0\n",
       "Dimensions without coordinates: component"
      ]
     },
     "execution_count": 7,
     "metadata": {},
     "output_type": "execute_result"
    }
   ],
   "source": [
    "b = p.build_phases_dmu([None, 0.5, 1.0])\n",
    "b(20.0).xgce.lnz.pipe(lambda x: x - x.sel(component=0))"
   ]
  },
  {
   "cell_type": "code",
   "execution_count": 7,
   "metadata": {},
   "outputs": [],
   "source": [
    "c = lnPi.CollectionPhases.from_builder(np.linspace(-2, 0.0), build_phases=p.build_phases_dmu([None, 1.0, 2.0]))"
   ]
  },
  {
   "cell_type": "markdown",
   "metadata": {},
   "source": [
    "# create a reference lnPi_phases for bulk case"
   ]
  },
  {
   "cell_type": "code",
   "execution_count": 4,
   "metadata": {},
   "outputs": [],
   "source": [
    "pe = pd.read_csv('./PiofN/ljsf.t070.bulk.v729.r1.energy.dat', header=None, sep='\\s+', names=['n','e'])['e'].values"
   ]
  },
  {
   "cell_type": "code",
   "execution_count": 5,
   "metadata": {},
   "outputs": [],
   "source": [
    "mu = -8.616\n",
    "volume = 729\n",
    "temp = 0.7\n",
    "beta = 1.0 / temp\n",
    "state_kws = dict(volume=volume, temp=temp, beta=1/temp)\n",
    "lnz = beta * mu\n"
   ]
  },
  {
   "cell_type": "code",
   "execution_count": 6,
   "metadata": {},
   "outputs": [],
   "source": [
    "# reference masked lnPi\n",
    "ref = lnPi.core.MaskedlnPi.from_table('./PiofN/ljsf.t070.bulk.v729.r1.lnpi.dat', \n",
    "                                      lnz=lnz, state_kws=state_kws, extra_kws={'PE':pe}).zeromax()\n",
    "\n",
    "# Phase Creator\n",
    "PhaseCreator = lnPi.segment.PhaseCreator(nmax=2, tag_phases=tag_phases2, nmax_peak=4, merge_kws=dict(efac=0.8), \n",
    "                                         ref=ref)\n",
    "build_phases = PhaseCreator.build_phases_mu([None])"
   ]
  },
  {
   "cell_type": "code",
   "execution_count": 56,
   "metadata": {},
   "outputs": [
    {
     "data": {
      "text/plain": [
       "<xarray.DataArray 'betaOmega' (phase: 2)>\n",
       "array([ -2.554284, -20.713516])\n",
       "Coordinates:\n",
       "    lnz_0    float64 -12.31\n",
       "    volume   int64 729\n",
       "    temp     float64 0.7\n",
       "    beta     float64 1.429\n",
       "  * phase    (phase) int64 0 1\n",
       "Attributes:\n",
       "    dims_n:         ['n_0']\n",
       "    dims_lnz:       ['lnz_0']\n",
       "    dims_comp:      ['component']\n",
       "    dims_state:     ['lnz_0', 'volume', 'temp', 'beta']\n",
       "    standard_name:  grand_potential\n",
       "    long_name:      $\\beta \\Omega(\\mu,V,T)$"
      ]
     },
     "execution_count": 56,
     "metadata": {},
     "output_type": "execute_result"
    }
   ],
   "source": [
    "# create a phase object\n",
    "p = PhaseCreator.build_phases()\n",
    "p.xgce.betaOmega()"
   ]
  },
  {
   "cell_type": "code",
   "execution_count": 57,
   "metadata": {},
   "outputs": [
    {
     "data": {
      "text/plain": [
       "<xarray.DataArray (phase: 2)>\n",
       "array([ -2.554284, -20.713516])\n",
       "Coordinates:\n",
       "    mu_0     float64 -8.616\n",
       "    volume   int64 729\n",
       "    temp     float64 0.7\n",
       "    beta     float64 1.429\n",
       "  * phase    (phase) int64 0 1"
      ]
     },
     "execution_count": 57,
     "metadata": {},
     "output_type": "execute_result"
    }
   ],
   "source": [
    "# old\n",
    "# reference masked lnPi\n",
    "ref0 = lnPi2.core.MaskedlnPi.from_table('./PiofN/ljsf.t070.bulk.v729.r1.lnpi.dat', \n",
    "                                      mu=mu, state_kws=state_kws, extra_kws={'pe':pe}).zeromax()\n",
    "\n",
    "# Phase Creator\n",
    "PhaseCreator0 = lnPi2.segment.PhaseCreator(nmax=2, tag_phases=tag_phases2, nmax_peak=4, merge_kws=dict(efac=0.8), \n",
    "                                         ref=ref0)\n",
    "build_phases0 = PhaseCreator0.build_phases\n",
    "\n",
    "p0 = PhaseCreator0.build_phases()\n",
    "p0.xgce.omega().pipe(lambda x: x*x.beta)"
   ]
  },
  {
   "cell_type": "markdown",
   "metadata": {},
   "source": [
    "## create a collection"
   ]
  },
  {
   "cell_type": "code",
   "execution_count": 58,
   "metadata": {},
   "outputs": [],
   "source": [
    "lnzs = np.linspace(ref.lnz[0] - 5, ref.lnz[0] + 5, 20)\n",
    "#lnzs = np.geomspace(ref.lnz[0] - 5, ref.lnz[0] + 5, 500)\n",
    "mus = lnzs / beta\n",
    "\n",
    "c = lnPi.CollectionPhases.from_builder(lnzs, build_phases=build_phases)\n",
    "\n"
   ]
  },
  {
   "cell_type": "code",
   "execution_count": 60,
   "metadata": {},
   "outputs": [
    {
     "data": {
      "text/plain": [
       "[<matplotlib.lines.Line2D at 0x7fdf01019ed0>,\n",
       " <matplotlib.lines.Line2D at 0x7fdf010342d0>]"
      ]
     },
     "execution_count": 60,
     "metadata": {},
     "output_type": "execute_result"
    },
    {
     "data": {
      "image/png": "[encoded data removed]",
      "text/plain": [
       "<Figure size 432x288 with 1 Axes>"
      ]
     },
     "metadata": {
      "needs_background": "light"
     },
     "output_type": "display_data"
    }
   ],
   "source": [
    "c.xgce_prop.betaOmega().swap_dims({'rec':'lnz_0'}).plot(hue='phase')"
   ]
  },
  {
   "cell_type": "code",
   "execution_count": 61,
   "metadata": {},
   "outputs": [
    {
     "data": {
      "text/plain": [
       "[<matplotlib.lines.Line2D at 0x7fdf20c5a910>,\n",
       " <matplotlib.lines.Line2D at 0x7fdf20c5aa90>]"
      ]
     },
     "execution_count": 61,
     "metadata": {},
     "output_type": "execute_result"
    },
    {
     "data": {
      "image/png": "[encoded data removed]",
      "text/plain": [
       "<Figure size 432x288 with 1 Axes>"
      ]
     },
     "metadata": {
      "needs_background": "light"
     },
     "output_type": "display_data"
    }
   ],
   "source": [
    "c.xgce_prop.betaF_n().swap_dims({'rec':'lnz_0'}).plot(hue='phase')"
   ]
  },
  {
   "cell_type": "code",
   "execution_count": 62,
   "metadata": {},
   "outputs": [],
   "source": [
    "spin, _ = c.spinodals(2, build_phases=build_phases, as_dict=False)\n",
    "bino, _ = c.binodals(2, spinodals=spin, build_phases=build_phases, as_dict=False)"
   ]
  },
  {
   "cell_type": "code",
   "execution_count": 63,
   "metadata": {},
   "outputs": [
    {
     "data": {
      "text/plain": [
       "<xarray.Dataset>\n",
       "Dimensions:  (component: 1, phase: 2, rec: 20)\n",
       "Coordinates:\n",
       "  * phase    (phase) int64 0 1\n",
       "    lnz_0    (rec) float64 -17.31 -16.78 -16.26 -15.73 ... -8.361 -7.835 -7.309\n",
       "    volume   (rec) int64 729 729 729 729 729 729 729 ... 729 729 729 729 729 729\n",
       "    temp     (rec) float64 0.7 0.7 0.7 0.7 0.7 0.7 ... 0.7 0.7 0.7 0.7 0.7 0.7\n",
       "    beta     (rec) float64 1.429 1.429 1.429 1.429 ... 1.429 1.429 1.429 1.429\n",
       "  * rec      (rec) int64 0 1 2 3 4 5 6 7 8 9 10 11 12 13 14 15 16 17 18 19\n",
       "Dimensions without coordinates: component\n",
       "Data variables:\n",
       "    betamu   (rec, phase, component) float64 -17.31 nan -16.78 ... nan -7.309\n",
       "    nvec     (rec, phase, component) float64 0.01666 nan 0.02821 ... nan 659.9\n",
       "    betapV   (rec, phase) float64 0.01666 nan 0.0282 ... 2.898e+03 nan 3.245e+03\n",
       "    PE_n     (rec, phase) float64 -0.0002614 nan -0.0004452 ... nan -6.045"
      ]
     },
     "execution_count": 63,
     "metadata": {},
     "output_type": "execute_result"
    }
   ],
   "source": [
    "c.xgce_prop.table(['betamu'])"
   ]
  },
  {
   "cell_type": "code",
   "execution_count": 64,
   "metadata": {},
   "outputs": [
    {
     "data": {
      "text/plain": [
       "[<matplotlib.lines.Line2D at 0x7fdf108e1c50>,\n",
       " <matplotlib.lines.Line2D at 0x7fdf108e1c90>]"
      ]
     },
     "execution_count": 64,
     "metadata": {},
     "output_type": "execute_result"
    },
    {
     "data": {
      "image/png": "[encoded data removed]",
      "text/plain": [
       "<Figure size 432x288 with 1 Axes>"
      ]
     },
     "metadata": {
      "needs_background": "light"
     },
     "output_type": "display_data"
    }
   ],
   "source": [
    "c.xgce_prop.betapV().swap_dims({'rec':'lnz_0'}).plot(hue='phase')"
   ]
  },
  {
   "cell_type": "code",
   "execution_count": 65,
   "metadata": {},
   "outputs": [
    {
     "data": {
      "text/plain": [
       "[<matplotlib.lines.Line2D at 0x7fdf01091ad0>]"
      ]
     },
     "execution_count": 65,
     "metadata": {},
     "output_type": "execute_result"
    },
    {
     "data": {
      "image/png": "[encoded data removed]",
      "text/plain": [
       "<Figure size 432x288 with 1 Axes>"
      ]
     },
     "metadata": {
      "needs_background": "light"
     },
     "output_type": "display_data"
    }
   ],
   "source": [
    "c.xgce_prop.table(dim_to_suffix='component', mask_stable=False).swap_dims({'rec':'lnz_0'}).betapV.plot(hue='phase')\n",
    "c.xgce_prop.table(dim_to_suffix='component', mask_stable=True).swap_dims({'rec':'lnz_0'}).betapV.plot(hue='phase')"
   ]
  },
  {
   "cell_type": "code",
   "execution_count": 66,
   "metadata": {},
   "outputs": [
    {
     "data": {
      "text/plain": [
       "<CollectionPhases  (rec : 2)>\n",
       "index Int64Index([0, 1], dtype='int64', name='rec')"
      ]
     },
     "execution_count": 66,
     "metadata": {},
     "output_type": "execute_result"
    }
   ],
   "source": [
    "spin"
   ]
  },
  {
   "cell_type": "code",
   "execution_count": 67,
   "metadata": {},
   "outputs": [
    {
     "data": {
      "text/plain": [
       "<xarray.Dataset>\n",
       "Dimensions:      (component: 1, phase: 2, spin: 2)\n",
       "Coordinates:\n",
       "    lnz_0        (spin) float64 -10.67 -13.7\n",
       "    volume       (spin) int64 729 729\n",
       "    temp         (spin) float64 0.7 0.7\n",
       "    beta         (spin) float64 1.429 1.429\n",
       "  * spin         (spin) int64 0 1\n",
       "  * phase        (phase) int64 0 1\n",
       "Dimensions without coordinates: component\n",
       "Data variables:\n",
       "    mask_stable  (spin, phase) bool False True True False\n",
       "    nvec         (spin, phase, component) float64 23.57 640.4 0.6261 523.7\n",
       "    betapV       (spin, phase) float64 16.3 1.039e+03 0.6212 -770.3\n",
       "    PE_n         (spin, phase) float64 -0.4755 -5.912 -0.009935 -4.92"
      ]
     },
     "execution_count": 67,
     "metadata": {},
     "output_type": "execute_result"
    }
   ],
   "source": [
    "spin.xgce_prop.table(['mask_stable']).rename({'rec':'spin'})#.pipe(lambda x: x.where(~x.mask_stable))"
   ]
  },
  {
   "cell_type": "code",
   "execution_count": 68,
   "metadata": {},
   "outputs": [
    {
     "data": {
      "text/plain": [
       "<xarray.DataArray 'betaOmega' (rec: 2, phase: 2)>\n",
       "array([[-16.299163,        nan],\n",
       "       [       nan, 770.339413]])\n",
       "Coordinates:\n",
       "  * phase    (phase) int64 0 1\n",
       "    lnz_0    (rec) float64 -10.67 -13.7\n",
       "    volume   (rec) int64 729 729\n",
       "    temp     (rec) float64 0.7 0.7\n",
       "    beta     (rec) float64 1.429 1.429\n",
       "  * rec      (rec) int64 0 1\n",
       "Attributes:\n",
       "    dims_n:         ['n_0']\n",
       "    dims_lnz:       ['lnz_0']\n",
       "    dims_comp:      ['component']\n",
       "    dims_state:     ['lnz_0', 'volume', 'temp', 'beta']\n",
       "    standard_name:  grand_potential\n",
       "    long_name:      $\\beta \\Omega(\\mu,V,T)$"
      ]
     },
     "execution_count": 68,
     "metadata": {},
     "output_type": "execute_result"
    }
   ],
   "source": [
    "(\n",
    "    spin.xgce_prop\n",
    "    .betaOmega()\n",
    "    .pipe(lambda x: x.where(x.phase == x.rec))\n",
    "#     .table(['mask_stable']).pipe(lambda x: x.where(~x.mask_stable, drop=True))\n",
    "#     .swap_dims({'rec':'lnz'})\n",
    ")\n"
   ]
  },
  {
   "cell_type": "code",
   "execution_count": 69,
   "metadata": {},
   "outputs": [
    {
     "data": {
      "text/plain": [
       "<matplotlib.axes._subplots.AxesSubplot at 0x7fdf4258a950>"
      ]
     },
     "execution_count": 69,
     "metadata": {},
     "output_type": "execute_result"
    },
    {
     "data": {
      "image/png": "[encoded data removed]",
      "text/plain": [
       "<Figure size 432x288 with 1 Axes>"
      ]
     },
     "metadata": {
      "needs_background": "light"
     },
     "output_type": "display_data"
    }
   ],
   "source": [
    "c.xgce.betaOmega().swap_dims({'rec':'lnz_0'}).plot(hue='phase')\n",
    "\n",
    "(\n",
    "    spin.xgce.betaOmega()\n",
    "    .pipe(lambda x: x.where(x.phase == x.rec))\n",
    "    .swap_dims({'rec':'lnz_0'})\n",
    "    .plot(hue='phase', marker='o')\n",
    ")\n",
    "\n",
    "bino.xgce_prop.betaOmega().sel(phase=0).to_dataframe().plot('lnz_0','betaOmega', marker='o', ax=plt.gca())"
   ]
  },
  {
   "cell_type": "code",
   "execution_count": 70,
   "metadata": {},
   "outputs": [],
   "source": [
    "# mu min/max"
   ]
  },
  {
   "cell_type": "code",
   "execution_count": 72,
   "metadata": {},
   "outputs": [
    {
     "data": {
      "text/plain": [
       "<xarray.DataArray 'dens' (rec: 20, phase: 2, component: 1)>\n",
       "array([[[2.285784e-05],\n",
       "        [         nan]],\n",
       "\n",
       "       [[3.870236e-05],\n",
       "        [         nan]],\n",
       "\n",
       "       [[6.554312e-05],\n",
       "        [         nan]],\n",
       "\n",
       "       [[1.110364e-04],\n",
       "        [         nan]],\n",
       "\n",
       "       [[1.882157e-04],\n",
       "        [         nan]],\n",
       "\n",
       "       [[3.193570e-04],\n",
       "        [         nan]],\n",
       "\n",
       "       [[5.427906e-04],\n",
       "        [         nan]],\n",
       "\n",
       "       [[9.252452e-04],\n",
       "        [7.296419e-01]],\n",
       "\n",
       "       [[1.585258e-03],\n",
       "        [7.793762e-01]],\n",
       "\n",
       "       [[2.741072e-03],\n",
       "        [8.093690e-01]],\n",
       "\n",
       "       [[4.821540e-03],\n",
       "        [8.326775e-01]],\n",
       "\n",
       "       [[8.785105e-03],\n",
       "        [8.523047e-01]],\n",
       "\n",
       "       [[1.762025e-02],\n",
       "        [8.691142e-01]],\n",
       "\n",
       "       [[         nan],\n",
       "        [8.842190e-01]],\n",
       "\n",
       "       [[         nan],\n",
       "        [8.972487e-01]],\n",
       "\n",
       "       [[         nan],\n",
       "        [9.028422e-01]],\n",
       "\n",
       "       [[         nan],\n",
       "        [9.043497e-01]],\n",
       "\n",
       "       [[         nan],\n",
       "        [9.048722e-01]],\n",
       "\n",
       "       [[         nan],\n",
       "        [9.050988e-01]],\n",
       "\n",
       "       [[         nan],\n",
       "        [9.052110e-01]]])\n",
       "Coordinates:\n",
       "  * phase    (phase) int64 0 1\n",
       "    lnz_0    (rec) float64 -17.31 -16.78 -16.26 -15.73 ... -8.361 -7.835 -7.309\n",
       "    volume   (rec) int64 729 729 729 729 729 729 729 ... 729 729 729 729 729 729\n",
       "    temp     (rec) float64 0.7 0.7 0.7 0.7 0.7 0.7 ... 0.7 0.7 0.7 0.7 0.7 0.7\n",
       "    beta     (rec) float64 1.429 1.429 1.429 1.429 ... 1.429 1.429 1.429 1.429\n",
       "  * rec      (rec) int64 0 1 2 3 4 5 6 7 8 9 10 11 12 13 14 15 16 17 18 19\n",
       "Dimensions without coordinates: component\n",
       "Attributes:\n",
       "    dims_n:      ['n_0']\n",
       "    dims_lnz:    ['lnz_0']\n",
       "    dims_comp:   ['component']\n",
       "    dims_state:  ['lnz_0', 'volume', 'temp', 'beta']\n",
       "    long_name:   ${\\bf \\rho}(\\mu,V,T)$"
      ]
     },
     "execution_count": 72,
     "metadata": {},
     "output_type": "execute_result"
    }
   ],
   "source": [
    "c.xgce.dens"
   ]
  },
  {
   "cell_type": "code",
   "execution_count": 11,
   "metadata": {},
   "outputs": [],
   "source": [
    "p_min, r = lnPi.monoutils.get_lnz_min(0.0001, c, build_phases)\n",
    "\n",
    "p_max, r = lnPi.monoutils.get_lnz_max(8, ref=ref, threshold_abs=1e-4, C=c, build_phases=build_phases)"
   ]
  },
  {
   "cell_type": "code",
   "execution_count": 27,
   "metadata": {},
   "outputs": [],
   "source": [
    "c = lnPi.CollectionPhases.from_builder(np.linspace(p_min.lnz[0], p_max.lnz[0], 200), build_phases=build_phases)"
   ]
  },
  {
   "cell_type": "code",
   "execution_count": 26,
   "metadata": {},
   "outputs": [],
   "source": [
    "c = lnPi.CollectionPhases.from_lnz([None], np.linspace(p_min.lnz[0], p_max.lnz[0], 200), \n",
    "                                  build_phases=PhaseCreator.build_phases)"
   ]
  },
  {
   "cell_type": "code",
   "execution_count": 29,
   "metadata": {},
   "outputs": [
    {
     "data": {
      "application/vnd.jupyter.widget-view+json": {
       "model_id": "",
       "version_major": 2,
       "version_minor": 0
      },
      "text/plain": [
       "HBox(children=(IntProgress(value=0, description='get_delta_w', max=200, style=ProgressStyle(description_width=…"
      ]
     },
     "metadata": {},
     "output_type": "display_data"
    },
    {
     "name": "stdout",
     "output_type": "stream",
     "text": [
      "\r"
     ]
    },
    {
     "data": {
      "application/vnd.jupyter.widget-view+json": {
       "model_id": "",
       "version_major": 2,
       "version_minor": 0
      },
      "text/plain": [
       "HBox(children=(IntProgress(value=0, description='get_delta_w', max=200, style=ProgressStyle(description_width=…"
      ]
     },
     "metadata": {},
     "output_type": "display_data"
    },
    {
     "name": "stdout",
     "output_type": "stream",
     "text": [
      "\r"
     ]
    }
   ],
   "source": [
    "c.spinodals(2, build_phases=build_phases, append=True, inplace=True, build_kws=dict(efac=0.5))\n",
    "c.binodals(2, build_phases=build_phases, append=True, inplace=True, build_kws=dict(efac=0.5\n",
    "                                                                                  ))"
   ]
  },
  {
   "cell_type": "code",
   "execution_count": null,
   "metadata": {},
   "outputs": [],
   "source": [
    "# spin, _ = c.spinodals([0,1], build_phases=PhaseCreator.build_phases, build_kws=dict(efac=0.5))\n",
    "# bino,_ = c.binodals([0,1], spinodals=spin, build_phases=PhaseCreator.build_phases, build_kws=dict(efac=0.5))"
   ]
  },
  {
   "cell_type": "code",
   "execution_count": 31,
   "metadata": {},
   "outputs": [],
   "source": [
    "c.sort_by_lnz()"
   ]
  },
  {
   "cell_type": "code",
   "execution_count": 32,
   "metadata": {},
   "outputs": [
    {
     "data": {
      "application/vnd.jupyter.widget-view+json": {
       "model_id": "",
       "version_major": 2,
       "version_minor": 0
      },
      "text/plain": [
       "HBox(children=(IntProgress(value=0, description='nvec', max=203, style=ProgressStyle(description_width='initia…"
      ]
     },
     "metadata": {},
     "output_type": "display_data"
    },
    {
     "name": "stdout",
     "output_type": "stream",
     "text": [
      "\r"
     ]
    },
    {
     "data": {
      "application/vnd.jupyter.widget-view+json": {
       "model_id": "",
       "version_major": 2,
       "version_minor": 0
      },
      "text/plain": [
       "HBox(children=(IntProgress(value=0, description='betaOmega', max=203, style=ProgressStyle(description_width='i…"
      ]
     },
     "metadata": {},
     "output_type": "display_data"
    },
    {
     "name": "stdout",
     "output_type": "stream",
     "text": [
      "\r"
     ]
    },
    {
     "data": {
      "application/vnd.jupyter.widget-view+json": {
       "model_id": "",
       "version_major": 2,
       "version_minor": 0
      },
      "text/plain": [
       "HBox(children=(IntProgress(value=0, description='PE', max=203, style=ProgressStyle(description_width='initial'…"
      ]
     },
     "metadata": {},
     "output_type": "display_data"
    },
    {
     "name": "stdout",
     "output_type": "stream",
     "text": [
      "\r"
     ]
    },
    {
     "data": {
      "text/plain": [
       "<matplotlib.axes._subplots.AxesSubplot at 0x7ffdc2f3bf50>"
      ]
     },
     "execution_count": 32,
     "metadata": {},
     "output_type": "execute_result"
    },
    {
     "data": {
      "image/png": "[encoded data removed]",
      "text/plain": [
       "<Figure size 432x288 with 1 Axes>"
      ]
     },
     "metadata": {
      "needs_background": "light"
     },
     "output_type": "display_data"
    }
   ],
   "source": [
    "table = c.xgce_prop.table(['dens','pressure'], mask_stable=True, dim_to_suffix='component')\n",
    "table.to_dataframe().plot('dens_0','pressure', marker='o')"
   ]
  },
  {
   "cell_type": "code",
   "execution_count": 33,
   "metadata": {},
   "outputs": [],
   "source": [
    "import xarray as xr\n",
    "@xr.register_dataarray_accessor('lwhere')\n",
    "def lwhere(da):\n",
    "    def where(condition, drop=False):\n",
    "        return da.where(condition(da), drop=drop)\n",
    "    return where"
   ]
  },
  {
   "cell_type": "code",
   "execution_count": 34,
   "metadata": {},
   "outputs": [],
   "source": [
    "# test saving"
   ]
  },
  {
   "cell_type": "code",
   "execution_count": 35,
   "metadata": {},
   "outputs": [],
   "source": [
    "da = (\n",
    "    c.to_dataarray()\n",
    "    .pipe(c.spinodals.assign_coords)\n",
    "    .pipe(c.binodals.assign_coords)\n",
    "    .sortby('lnz_0')\n",
    "    .reset_index('rec', drop=True)\n",
    ")"
   ]
  },
  {
   "cell_type": "code",
   "execution_count": 36,
   "metadata": {},
   "outputs": [],
   "source": [
    "c2 = lnPi.CollectionPhases.from_dataarray(ref, da)\n",
    "c2.spinodals.from_dataarray(da)\n",
    "c2.binodals.from_dataarray(da)"
   ]
  },
  {
   "cell_type": "code",
   "execution_count": 37,
   "metadata": {},
   "outputs": [
    {
     "data": {
      "application/vnd.jupyter.widget-view+json": {
       "model_id": "",
       "version_major": 2,
       "version_minor": 0
      },
      "text/plain": [
       "HBox(children=(IntProgress(value=0, description='betaOmega', max=203, style=ProgressStyle(description_width='i…"
      ]
     },
     "metadata": {},
     "output_type": "display_data"
    },
    {
     "name": "stdout",
     "output_type": "stream",
     "text": [
      "\r"
     ]
    },
    {
     "data": {
      "application/vnd.jupyter.widget-view+json": {
       "model_id": "",
       "version_major": 2,
       "version_minor": 0
      },
      "text/plain": [
       "HBox(children=(IntProgress(value=0, description='betaOmega', max=203, style=ProgressStyle(description_width='i…"
      ]
     },
     "metadata": {},
     "output_type": "display_data"
    },
    {
     "name": "stdout",
     "output_type": "stream",
     "text": [
      "\r"
     ]
    },
    {
     "data": {
      "text/plain": [
       "[<matplotlib.lines.Line2D at 0x7ffda177e790>,\n",
       " <matplotlib.lines.Line2D at 0x7ffd90ab44d0>]"
      ]
     },
     "execution_count": 37,
     "metadata": {},
     "output_type": "execute_result"
    },
    {
     "data": {
      "image/png": "[encoded data removed]",
      "text/plain": [
       "<Figure size 432x288 with 1 Axes>"
      ]
     },
     "metadata": {
      "needs_background": "light"
     },
     "output_type": "display_data"
    }
   ],
   "source": [
    "c.xgce.betaOmega().swap_dims({'rec':'lnz_0'}).plot(hue='phase')\n",
    "c2.xgce.betaOmega().swap_dims({'rec':'lnz_0'}).plot(hue='phase')"
   ]
  },
  {
   "cell_type": "code",
   "execution_count": 38,
   "metadata": {},
   "outputs": [
    {
     "data": {
      "text/plain": [
       "<matplotlib.axes._subplots.AxesSubplot at 0x7ffd8865e0d0>"
      ]
     },
     "execution_count": 38,
     "metadata": {},
     "output_type": "execute_result"
    },
    {
     "data": {
      "image/png": "[encoded data removed]",
      "text/plain": [
       "<Figure size 432x288 with 1 Axes>"
      ]
     },
     "metadata": {
      "needs_background": "light"
     },
     "output_type": "display_data"
    }
   ],
   "source": [
    "c.xgce.betaOmega().swap_dims({'rec':'lnz_0'}).plot(hue='phase')\n",
    "\n",
    "(\n",
    "    c.spinodals.access.xgce.betaOmega()\n",
    "    .pipe(lambda x: x.where(x.phase == x.rec))\n",
    "    .swap_dims({'rec':'lnz_0'})\n",
    "    .plot(hue='phase', marker='o')\n",
    ")\n",
    "\n",
    "c.binodals.access.xgce_prop.betaOmega().sel(phase=0).to_dataframe().plot('lnz_0','betaOmega', marker='o', ax=plt.gca())"
   ]
  },
  {
   "cell_type": "code",
   "execution_count": 39,
   "metadata": {},
   "outputs": [
    {
     "data": {
      "text/plain": [
       "<xarray.DataArray (rec: 1, phase: 2)>\n",
       "array([[-1.732533, -1.732533]])\n",
       "Coordinates:\n",
       "  * phase    (phase) int64 0 1\n",
       "    lnz_0    (rec) float64 -12.34\n",
       "    volume   (rec) int64 729\n",
       "    temp     (rec) float64 0.7\n",
       "    beta     (rec) float64 1.429\n",
       "  * rec      (rec) int64 0\n",
       "    mu_0     (rec) float64 -8.637"
      ]
     },
     "execution_count": 39,
     "metadata": {},
     "output_type": "execute_result"
    }
   ],
   "source": [
    "c.binodals.access.xgce.betaOmega().pipe(lambda x: x / x['beta']).assign_coords(mu_0=lambda x: x['lnz_0'] / x['beta'])"
   ]
  },
  {
   "cell_type": "code",
   "execution_count": 46,
   "metadata": {},
   "outputs": [
    {
     "data": {
      "text/plain": [
       "[<matplotlib.lines.Line2D at 0x7ffd90ce3150>,\n",
       " <matplotlib.lines.Line2D at 0x7ffda18bafd0>]"
      ]
     },
     "execution_count": 46,
     "metadata": {},
     "output_type": "execute_result"
    },
    {
     "data": {
      "image/png": "[encoded data removed]",
      "text/plain": [
       "<Figure size 432x288 with 1 Axes>"
      ]
     },
     "metadata": {
      "needs_background": "light"
     },
     "output_type": "display_data"
    }
   ],
   "source": [
    "c.xgce_prop.dens.swap_dims({'rec':'lnz_0'}).squeeze().plot(hue='phase')"
   ]
  },
  {
   "cell_type": "code",
   "execution_count": 57,
   "metadata": {},
   "outputs": [
    {
     "data": {
      "text/plain": [
       "[<matplotlib.lines.Line2D at 0x7ffd90eb8b10>]"
      ]
     },
     "execution_count": 57,
     "metadata": {},
     "output_type": "execute_result"
    },
    {
     "data": {
      "image/png": "[encoded data removed]",
      "text/plain": [
       "<Figure size 432x288 with 1 Axes>"
      ]
     },
     "metadata": {
      "needs_background": "light"
     },
     "output_type": "display_data"
    }
   ],
   "source": [
    "c.xgce_prop.dens.swap_dims({'rec':'lnz_0'}).sel(phase=1).plot()"
   ]
  },
  {
   "cell_type": "code",
   "execution_count": 61,
   "metadata": {},
   "outputs": [
    {
     "data": {
      "text/plain": [
       "[<matplotlib.lines.Line2D at 0x7ffd90ff3210>]"
      ]
     },
     "execution_count": 61,
     "metadata": {},
     "output_type": "execute_result"
    },
    {
     "data": {
      "image/png": "[encoded data removed]",
      "text/plain": [
       "<Figure size 432x288 with 1 Axes>"
      ]
     },
     "metadata": {
      "needs_background": "light"
     },
     "output_type": "display_data"
    }
   ],
   "source": [
    "c.xgce_prop.dens.assign_coords(z=lambda x: np.exp(x.lnz_0)).swap_dims({'rec':'z'}).squeeze().sel(phase=0).plot(hue='phase')"
   ]
  },
  {
   "cell_type": "markdown",
   "metadata": {
    "collapsed": true
   },
   "source": [
    "# bulk 065"
   ]
  },
  {
   "cell_type": "code",
   "execution_count": 149,
   "metadata": {},
   "outputs": [],
   "source": [
    "xx = c[0:10].xgce_prop.betapV()"
   ]
  },
  {
   "cell_type": "markdown",
   "metadata": {},
   "source": [
    "$$ \\ln z $$"
   ]
  },
  {
   "cell_type": "code",
   "execution_count": 154,
   "metadata": {},
   "outputs": [
    {
     "data": {
      "text/plain": [
       "[<matplotlib.lines.Line2D at 0x7fbe612e33d0>]"
      ]
     },
     "execution_count": 154,
     "metadata": {},
     "output_type": "execute_result"
    },
    {
     "data": {
      "image/png": "[encoded data removed]",
      "text/plain": [
       "<Figure size 432x288 with 1 Axes>"
      ]
     },
     "metadata": {
      "needs_background": "light"
     },
     "output_type": "display_data"
    }
   ],
   "source": [
    "xx.assign_attrs(long_name=r'$\\beta p(\\lnz, V, \\beta)$').plot()"
   ]
  },
  {
   "cell_type": "code",
   "execution_count": 138,
   "metadata": {},
   "outputs": [
    {
     "data": {
      "text/plain": [
       "Text(0.5, 0, '$\\\\beta{\\\\bf \\\\mu}$')"
      ]
     },
     "execution_count": 138,
     "metadata": {},
     "output_type": "execute_result"
    },
    {
     "data": {
      "image/png": "[encoded data removed]",
      "text/plain": [
       "<Figure size 432x288 with 1 Axes>"
      ]
     },
     "metadata": {
      "needs_background": "light"
     },
     "output_type": "display_data"
    }
   ],
   "source": [
    "plt.plot([0],[0])\n",
    "plt.xlabel(r'$\\beta{\\bf \\mu}$')"
   ]
  },
  {
   "cell_type": "code",
   "execution_count": 134,
   "metadata": {},
   "outputs": [
    {
     "data": {
      "text/plain": [
       "<xarray.DataArray 'dens' (rec: 203, phase: 2, component: 1)>\n",
       "array([[[1.000000e-04],\n",
       "        [         nan]],\n",
       "\n",
       "       [[1.029724e-04],\n",
       "        [         nan]],\n",
       "\n",
       "       ...,\n",
       "\n",
       "       [[         nan],\n",
       "        [8.951050e-01]],\n",
       "\n",
       "       [[         nan],\n",
       "        [8.957373e-01]]])\n",
       "Coordinates:\n",
       "  * phase    (phase) int64 0 1\n",
       "    lnz_0    (rec) float64 -15.83 -15.8 -15.78 -15.75 ... -10.07 -10.05 -10.02\n",
       "    volume   (rec) int64 729 729 729 729 729 729 729 ... 729 729 729 729 729 729\n",
       "    temp     (rec) float64 0.7 0.7 0.7 0.7 0.7 0.7 ... 0.7 0.7 0.7 0.7 0.7 0.7\n",
       "    beta     (rec) float64 1.429 1.429 1.429 1.429 ... 1.429 1.429 1.429 1.429\n",
       "  * rec      (rec) int64 0 1 2 3 4 5 6 7 8 ... 195 196 197 198 199 200 201 202\n",
       "Dimensions without coordinates: component\n",
       "Attributes:\n",
       "    long_name:  density(component,lnz,V,beta)"
      ]
     },
     "execution_count": 134,
     "metadata": {},
     "output_type": "execute_result"
    }
   ],
   "source": [
    "dens"
   ]
  },
  {
   "cell_type": "code",
   "execution_count": 21,
   "metadata": {},
   "outputs": [],
   "source": [
    "base_bulk = lnPi.MaskedlnPi.from_table('./PiofN/ljcut.t065.bulk.v1000.r1.lnpi.dat', mu=-4.453015418106743E+00,\n",
    "                               state_kws=dict(volume=1000.0E0,beta=1./0.65000E0))\n",
    "\n",
    "builder_bulk = lnPi.segment.PhaseCreator(nmax=2, nmax_peak=4, ref=base_bulk, merge_kws=dict(efac=0.5), tag_phases=tag_phases2)"
   ]
  },
  {
   "cell_type": "code",
   "execution_count": 23,
   "metadata": {},
   "outputs": [],
   "source": [
    "# initial estimate\n",
    "c_bulk = lnPi.CollectionPhases.from_mu([None], np.linspace(ref.mu[0] - 4, ref.mu[0] + 4, 20), build_phases=builder_bulk.build_phases)\n",
    "# c_bulk.spinodals(phase_ids=2, build_phases=builder_bulk.build_phases, build_kws=dict(efac=0.5), append=True)\n",
    "# c_bulk.binodals(phase_ids=2, spinodals=spin, build_phases=builder_bulk.build_phases, build_kws=dict(efac=0.5), append=True)\n",
    "# c_bulk.sort_by_mu()\n",
    "\n",
    "# min/max\n",
    "p_min, r = lnPi.monoutils.get_mu_min(0.0001, [None], c, PhaseCreator.build_phases)\n",
    "p_max, r = lnPi.monoutils.get_mu_max(10, ref=base_bulk, build_phases=PhaseCreator.build_phases)\n",
    "\n",
    "\n",
    "# better\n",
    "c_bulk = lnPi.CollectionPhases.from_mu([None], np.linspace(p_min.mu[0], p_max.mu[0], 200), build_phases=builder_bulk.build_phases)\n",
    "c_bulk.spinodals(phase_ids=2, build_phases=builder_bulk.build_phases, build_kws=dict(efac=0.5), append=True)\n",
    "c_bulk.binodals(phase_ids=2, build_phases=builder_bulk.build_phases, build_kws=dict(efac=0.5), append=True)\n",
    "c_bulk.sort_by_mu()\n",
    "\n"
   ]
  },
  {
   "cell_type": "code",
   "execution_count": 24,
   "metadata": {},
   "outputs": [
    {
     "data": {
      "text/plain": [
       "<matplotlib.axes._subplots.AxesSubplot at 0x7f8e88dadcc0>"
      ]
     },
     "execution_count": 24,
     "metadata": {},
     "output_type": "execute_result"
    },
    {
     "data": {
      "image/png": "[encoded data removed]",
      "text/plain": [
       "<Figure size 432x288 with 1 Axes>"
      ]
     },
     "metadata": {
      "needs_background": "light"
     },
     "output_type": "display_data"
    }
   ],
   "source": [
    "dens = c_bulk.xgce.density\n",
    "pres = c_bulk.xgce.pressure()\n",
    "\n",
    "# mask values\n",
    "mask = pres.pipe(lambda x: x.max('phase') == x)\n",
    "\n",
    "df = (\n",
    "    xr.merge((dens, pres))\n",
    "    .where(mask).max('phase')\n",
    "    .to_dataframe()\n",
    ")\n",
    "    \n",
    "\n",
    "df.plot('density','pressure',marker='o')"
   ]
  },
  {
   "cell_type": "code",
   "execution_count": 25,
   "metadata": {},
   "outputs": [],
   "source": [
    "### p.assign_coords(n_0=p.n_0.assign_attrs(long_name='hello'))"
   ]
  },
  {
   "cell_type": "code",
   "execution_count": 26,
   "metadata": {},
   "outputs": [
    {
     "data": {
      "image/png": "[encoded data removed]",
      "text/plain": [
       "<Figure size 432x288 with 1 Axes>"
      ]
     },
     "metadata": {
      "needs_background": "light"
     },
     "output_type": "display_data"
    }
   ],
   "source": [
    "make_omega_vs_mu_phase_plot(c)"
   ]
  },
  {
   "cell_type": "markdown",
   "metadata": {
    "collapsed": true
   },
   "source": [
    "# confined"
   ]
  },
  {
   "cell_type": "raw",
   "metadata": {},
   "source": [
    "def tag_phases_conf(x):\n",
    "    if x.base.num_phases_max !=2:\n",
    "        raise ValueError('bad tag function')\n",
    "        \n",
    "    L = []\n",
    "    for p in x.phases:\n",
    "        if p.density.values<0.5:\n",
    "            val = 0\n",
    "        else:\n",
    "            val = 1\n",
    "        L.append(val)\n",
    "        \n",
    "    L = np.array(L)\n",
    "\n",
    "    return L"
   ]
  },
  {
   "cell_type": "code",
   "execution_count": 27,
   "metadata": {},
   "outputs": [],
   "source": [
    "base_conf = lnPi.MaskedlnPi.from_table('./PiofN/ljcut.t065.finiteslit.L_20nm.W_4nm.r2.lnpi.dat',mu=-0.500000E+01,state_kws=dict(volume=7000.,beta=1./0.65000E0))\n",
    "\n",
    "\n",
    "phasecreator_conf = lnPi.segment.PhaseCreator(nmax=2, nmax_peak=4, ref=base_conf, merge_kws=dict(efac=0.6), tag_phases=tag_phases2)\n",
    "\n",
    "build_phases_conf = phasecreator_conf.build_phases\n",
    "\n",
    "\n",
    "\n"
   ]
  },
  {
   "cell_type": "code",
   "execution_count": 94,
   "metadata": {},
   "outputs": [],
   "source": [
    "# initial estimate\n",
    "c_conf = lnPi.CollectionPhases.from_mu([None], np.linspace(base_conf.mu[0] - 5, base_conf.mu[0] + 5, 20), \n",
    "                                       build_phases=build_phases_conf, build_phases_kws=(dict(efac=1.0, merge_phase_ids=True)))\n",
    "\n",
    "# min/max\n",
    "p_min, r = lnPi.monoutils.get_mu_min(0.0001, [None], c_conf, build_phases_conf)\n",
    "p_max, r = lnPi.monoutils.get_mu_max(10, ref=base_conf, build_phases=build_phases_conf)\n",
    "\n",
    "# better estimate\n",
    "c_conf = lnPi.CollectionPhases.from_mu([None], np.linspace(p_min.mu[0], p_max.mu[0], 200), \n",
    "                                       build_phases=build_phases_conf, build_phases_kws=(dict(efac=1.0, merge_phase_ids=True)))\n",
    "\n",
    "\n"
   ]
  },
  {
   "cell_type": "code",
   "execution_count": 95,
   "metadata": {},
   "outputs": [],
   "source": [
    "c_conf.spinodals(phase_ids=2, build_phases=build_phases_conf, build_kws=dict(efac=0.5), append=True)\n",
    "c_conf.binodals(phase_ids=2, build_phases=build_phases_conf, build_kws=dict(efac=0.5), append=True)\n",
    "c_conf.sort_by_mu()"
   ]
  },
  {
   "cell_type": "code",
   "execution_count": 96,
   "metadata": {},
   "outputs": [
    {
     "data": {
      "text/plain": [
       "(-5.14, -5.09)"
      ]
     },
     "execution_count": 96,
     "metadata": {},
     "output_type": "execute_result"
    },
    {
     "data": {
      "image/png": "[encoded data removed]",
      "text/plain": [
       "<Figure size 432x288 with 1 Axes>"
      ]
     },
     "metadata": {
      "needs_background": "light"
     },
     "output_type": "display_data"
    }
   ],
   "source": [
    "make_omega_vs_mu_phase_plot(c_conf)\n",
    "plt.xlim(-5.14,-5.09)"
   ]
  },
  {
   "cell_type": "code",
   "execution_count": 100,
   "metadata": {},
   "outputs": [
    {
     "name": "stderr",
     "output_type": "stream",
     "text": [
      "/Users/wpk/.conda/envs/py37/lib/python3.7/site-packages/ipykernel_launcher.py:2: FutureWarning: read_table is deprecated, use read_csv instead.\n",
      "  \n"
     ]
    }
   ],
   "source": [
    "df=pd.read_table('./PiofN/ljcut.t065.finiteslit.L_20nm.W_4nm.r2.single_isotherm.txt',sep='\\s+',\n",
    "                 header=None,names=['pscaled','mu','rho','Omega_L','Qst','Gads'])\n"
   ]
  },
  {
   "cell_type": "markdown",
   "metadata": {},
   "source": [
    "# make isotherm"
   ]
  },
  {
   "cell_type": "code",
   "execution_count": 101,
   "metadata": {},
   "outputs": [],
   "source": [
    "a = np.log(np.linspace(np.exp(-10), np.exp(c_conf.spinodals[1].mu[0]), 50, endpoint=False))"
   ]
  },
  {
   "cell_type": "code",
   "execution_count": 110,
   "metadata": {},
   "outputs": [],
   "source": [
    "#a = np.linspace(-10,Cconf.spinodals[1].mu[0],200)\n",
    "b = np.linspace(c_conf.spinodals[1].mu[0],c_conf.spinodals[0].mu[0],50)\n",
    "c = np.linspace(c_conf.spinodals[0].mu[0],c_bulk.binodals[0].mu[0],50)\n",
    "mus = np.concatenate((a,b,c))\n",
    "#mus = c"
   ]
  },
  {
   "cell_type": "code",
   "execution_count": 111,
   "metadata": {},
   "outputs": [
    {
     "name": "stdout",
     "output_type": "stream",
     "text": [
      "-4.178466796875\n",
      "-2.8081126966781706\n",
      "-4.453725936551545\n"
     ]
    }
   ],
   "source": [
    "print(c_conf.mu.max())\n",
    "print(c_bulk.mu.max())\n",
    "\n",
    "print(mus.max())"
   ]
  },
  {
   "cell_type": "code",
   "execution_count": 112,
   "metadata": {},
   "outputs": [],
   "source": [
    "cb = lnPi.core.CollectionPhases.from_mu([None],x=mus, ref=base_bulk, build_phases=builder_bulk.build_phases)\n",
    "cc = lnPi.core.CollectionPhases.from_mu_iter(cb.mu, ref=base_conf, build_phases=build_phases_conf)"
   ]
  },
  {
   "cell_type": "code",
   "execution_count": 118,
   "metadata": {},
   "outputs": [],
   "source": [
    "psat = c_bulk.binodals[0].xgce.pressure().sel(phase=0).values"
   ]
  },
  {
   "cell_type": "code",
   "execution_count": 119,
   "metadata": {},
   "outputs": [],
   "source": [
    "p = cb.xgce.pressure().sel(phase=0) / psat"
   ]
  },
  {
   "cell_type": "code",
   "execution_count": 123,
   "metadata": {},
   "outputs": [],
   "source": [
    "rho = cc.xgce.nave"
   ]
  },
  {
   "cell_type": "code",
   "execution_count": 141,
   "metadata": {},
   "outputs": [],
   "source": [
    "iso = xr.merge((p.drop('volume'), rho.drop('volume'))).squeeze().to_dataframe().reset_index()"
   ]
  },
  {
   "cell_type": "code",
   "execution_count": 142,
   "metadata": {},
   "outputs": [
    {
     "data": {
      "text/html": [
       "<div>\n",
       "<style scoped>\n",
       "    .dataframe tbody tr th:only-of-type {\n",
       "        vertical-align: middle;\n",
       "    }\n",
       "\n",
       "    .dataframe tbody tr th {\n",
       "        vertical-align: top;\n",
       "    }\n",
       "\n",
       "    .dataframe thead th {\n",
       "        text-align: right;\n",
       "    }\n",
       "</style>\n",
       "<table border=\"1\" class=\"dataframe\">\n",
       "  <thead>\n",
       "    <tr style=\"text-align: right;\">\n",
       "      <th></th>\n",
       "      <th>phase</th>\n",
       "      <th>rec</th>\n",
       "      <th>mu_0</th>\n",
       "      <th>beta</th>\n",
       "      <th>pressure</th>\n",
       "      <th>nave</th>\n",
       "    </tr>\n",
       "  </thead>\n",
       "  <tbody>\n",
       "    <tr>\n",
       "      <th>0</th>\n",
       "      <td>0</td>\n",
       "      <td>0</td>\n",
       "      <td>-10.000000</td>\n",
       "      <td>1.538462</td>\n",
       "      <td>0.000195</td>\n",
       "      <td>52.806189</td>\n",
       "    </tr>\n",
       "    <tr>\n",
       "      <th>1</th>\n",
       "      <td>0</td>\n",
       "      <td>1</td>\n",
       "      <td>-8.728236</td>\n",
       "      <td>1.538462</td>\n",
       "      <td>0.001377</td>\n",
       "      <td>774.982645</td>\n",
       "    </tr>\n",
       "    <tr>\n",
       "      <th>2</th>\n",
       "      <td>0</td>\n",
       "      <td>2</td>\n",
       "      <td>-8.186107</td>\n",
       "      <td>1.538462</td>\n",
       "      <td>0.003171</td>\n",
       "      <td>897.867008</td>\n",
       "    </tr>\n",
       "    <tr>\n",
       "      <th>3</th>\n",
       "      <td>0</td>\n",
       "      <td>3</td>\n",
       "      <td>-7.836514</td>\n",
       "      <td>1.538462</td>\n",
       "      <td>0.005430</td>\n",
       "      <td>941.621343</td>\n",
       "    </tr>\n",
       "    <tr>\n",
       "      <th>4</th>\n",
       "      <td>0</td>\n",
       "      <td>4</td>\n",
       "      <td>-7.577984</td>\n",
       "      <td>1.538462</td>\n",
       "      <td>0.008082</td>\n",
       "      <td>967.917146</td>\n",
       "    </tr>\n",
       "  </tbody>\n",
       "</table>\n",
       "</div>"
      ],
      "text/plain": [
       "   phase  rec       mu_0      beta  pressure        nave\n",
       "0      0    0 -10.000000  1.538462  0.000195   52.806189\n",
       "1      0    1  -8.728236  1.538462  0.001377  774.982645\n",
       "2      0    2  -8.186107  1.538462  0.003171  897.867008\n",
       "3      0    3  -7.836514  1.538462  0.005430  941.621343\n",
       "4      0    4  -7.577984  1.538462  0.008082  967.917146"
      ]
     },
     "execution_count": 142,
     "metadata": {},
     "output_type": "execute_result"
    }
   ],
   "source": [
    "iso.head()"
   ]
  },
  {
   "cell_type": "code",
   "execution_count": 148,
   "metadata": {},
   "outputs": [
    {
     "data": {
      "text/plain": [
       "<matplotlib.axes._subplots.AxesSubplot at 0x7f8eb5f85a90>"
      ]
     },
     "execution_count": 148,
     "metadata": {},
     "output_type": "execute_result"
    },
    {
     "data": {
      "image/png": "[encoded data removed]",
      "text/plain": [
       "<Figure size 720x720 with 1 Axes>"
      ]
     },
     "metadata": {
      "needs_background": "light"
     },
     "output_type": "display_data"
    }
   ],
   "source": [
    "fig,ax = plt.subplots(figsize=(10,10))\n",
    "for phase, g in iso.groupby('phase'):\n",
    "    g.plot('pressure','nave', ax=ax,marker='o', ms=2)\n",
    "\n",
    "iso.query('mu_0==@b[0]').drop_duplicates().plot('pressure','nave', ax=ax, marker='o', ms=2)\n",
    "iso.query('mu_0==@b[-1]').drop_duplicates().plot('pressure','nave', ax=ax, marker='o', ms=2)\n",
    "\n",
    "#plt.plot(df.pscaled,df.rho,'--', marker='o', ms=2)\n",
    "# plt.gca().set_xlim(0,1.0)"
   ]
  },
  {
   "cell_type": "code",
   "execution_count": 146,
   "metadata": {},
   "outputs": [
    {
     "data": {
      "text/plain": [
       "(0.3, 0.5)"
      ]
     },
     "execution_count": 146,
     "metadata": {},
     "output_type": "execute_result"
    },
    {
     "data": {
      "image/png": "[encoded data removed]",
      "text/plain": [
       "<Figure size 720x720 with 1 Axes>"
      ]
     },
     "metadata": {
      "needs_background": "light"
     },
     "output_type": "display_data"
    }
   ],
   "source": [
    "fig,ax = plt.subplots(figsize=(10,10))\n",
    "for phase, g in iso.groupby('phase'):\n",
    "    g.plot('pressure','nave', ax=ax)\n",
    "\n",
    "iso.query('mu_0==@b[0]').drop_duplicates().plot('pressure','nave', ax=ax)\n",
    "iso.query('mu_0==@b[-1]').drop_duplicates().plot('pressure','nave', ax=ax)\n",
    "\n",
    "plt.plot(df.pscaled,df.rho,'--')\n",
    "plt.gca().set_xlim(0.3,0.5)\n",
    "\n"
   ]
  },
  {
   "cell_type": "code",
   "execution_count": 74,
   "metadata": {},
   "outputs": [],
   "source": [
    "# hard one"
   ]
  },
  {
   "cell_type": "code",
   "execution_count": null,
   "metadata": {},
   "outputs": [],
   "source": []
  }
 ],
 "metadata": {
  "kernelspec": {
   "display_name": "Python [conda env:.conda-py37]",
   "language": "python",
   "name": "conda-env-.conda-py37-py"
  },
  "language_info": {
   "codemirror_mode": {
    "name": "ipython",
    "version": 3
   },
   "file_extension": ".py",
   "mimetype": "text/x-python",
   "name": "python",
   "nbconvert_exporter": "python",
   "pygments_lexer": "ipython3",
   "version": "3.7.4"
  },
  "toc": {
   "base_numbering": 1,
   "nav_menu": {},
   "number_sections": true,
   "sideBar": true,
   "skip_h1_title": false,
   "title_cell": "Table of Contents",
   "title_sidebar": "Contents",
   "toc_cell": false,
   "toc_position": {},
   "toc_section_display": true,
   "toc_window_display": false
  }
 },
 "nbformat": 4,
 "nbformat_minor": 1
}
