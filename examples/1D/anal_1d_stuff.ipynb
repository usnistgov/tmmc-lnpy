{
 "cells": [
  {
   "cell_type": "code",
   "execution_count": 1,
   "metadata": {},
   "outputs": [],
   "source": [
    "%matplotlib inline\n",
    "\n",
    "\n",
    "import matplotlib.pyplot as plt\n",
    "import numpy as np\n",
    "import pandas as pd\n",
    "from importlib import reload\n",
    "\n",
    "import lnPi"
   ]
  },
  {
   "cell_type": "code",
   "execution_count": 43,
   "metadata": {},
   "outputs": [],
   "source": [
    "#function to tag 'LD' and 'HD' phases\n",
    "def tag_phases(x):\n",
    "    if x.base.num_phases_max !=2:\n",
    "        raise ValueError('bad tag function')\n",
    "\n",
    "    return np.where(x.argmax[0] <= x.base.shape[0] / 2, 0, 1)\n",
    "\n",
    "    if x.nphase==1:\n",
    "        \n",
    "        if x[0].density.values<0.5:\n",
    "            return np.array([0])\n",
    "        else:\n",
    "            return np.array([1])\n",
    "    \n",
    "    elif x.nphase==2:\n",
    "        return np.argsort(x.argmax[0])\n",
    "    else:\n",
    "        raise ValueError('bad nphase')\n",
    "\n",
    "\n",
    "def tag_phases_other(x):\n",
    "    return np.argsort(x.argmax[0])\n",
    "            "
   ]
  },
  {
   "cell_type": "markdown",
   "metadata": {},
   "source": [
    "# create a reference lnPi_phases for bulk case"
   ]
  },
  {
   "cell_type": "code",
   "execution_count": 92,
   "metadata": {},
   "outputs": [],
   "source": [
    "base = lnPi.lnPi.from_table('./PiofN/ljsf.t070.bulk.v729.r1.lnpi.dat', mu=-8.6160, volume=729, beta=1.0/0.7, num_phases_max=2)"
   ]
  },
  {
   "cell_type": "code",
   "execution_count": 28,
   "metadata": {},
   "outputs": [],
   "source": [
    "lnpi_bulk = lnPi.Phases(base, argmax_kwargs=dict(min_distance=[1, 5,10,20,50]), ftag_phases=tag_phases)"
   ]
  },
  {
   "cell_type": "code",
   "execution_count": 29,
   "metadata": {},
   "outputs": [
    {
     "data": {
      "text/plain": [
       "<xarray.DataArray 'nave' (phase: 2, component: 1)>\n",
       "array([[  2.642528],\n",
       "       [598.92802 ]])\n",
       "Coordinates:\n",
       "    mu_0     float64 -8.616\n",
       "    beta     float64 1.429\n",
       "    volume   int64 729\n",
       "Dimensions without coordinates: phase, component"
      ]
     },
     "execution_count": 29,
     "metadata": {},
     "output_type": "execute_result"
    }
   ],
   "source": [
    "lnpi_bulk.nave"
   ]
  },
  {
   "cell_type": "code",
   "execution_count": 30,
   "metadata": {},
   "outputs": [
    {
     "data": {
      "text/plain": [
       "<xarray.DataArray 'lnpi' (n_0: 661)>\n",
       "array([-18.06161 , -17.156572, -16.919848, ..., -67.631954, -70.228706,\n",
       "       -72.847337])\n",
       "Coordinates:\n",
       "    mu_0     float64 -8.616\n",
       "    beta     float64 1.429\n",
       "    volume   int64 729\n",
       "Dimensions without coordinates: n_0\n",
       "Attributes:\n",
       "    dims_n:          ['n_0']\n",
       "    dims_mu:         ['mu_0']\n",
       "    dims_comp:       ['component']\n",
       "    dims_state:      ['mu_0', 'beta', 'volume']\n",
       "    lnpi_zero:       -18.06161029539\n",
       "    state_as_attrs:  0\n",
       "    num_phases_max:  2"
      ]
     },
     "execution_count": 30,
     "metadata": {},
     "output_type": "execute_result"
    }
   ],
   "source": [
    "base.lnpi"
   ]
  },
  {
   "cell_type": "code",
   "execution_count": 31,
   "metadata": {},
   "outputs": [
    {
     "data": {
      "text/html": [
       "Phases: nphase=2, mu=[-8.616]"
      ],
      "text/plain": [
       "<lnPi.core.Phases at 0x1c26068a90>"
      ]
     },
     "execution_count": 31,
     "metadata": {},
     "output_type": "execute_result"
    }
   ],
   "source": [
    "lnpi_bulk"
   ]
  },
  {
   "cell_type": "code",
   "execution_count": 32,
   "metadata": {},
   "outputs": [],
   "source": [
    "import xarray as xr"
   ]
  },
  {
   "cell_type": "markdown",
   "metadata": {},
   "source": [
    "## create a collection"
   ]
  },
  {
   "cell_type": "code",
   "execution_count": 52,
   "metadata": {},
   "outputs": [],
   "source": [
    "base = lnPi.lnPi.from_table('./PiofN/ljsf.t070.bulk.v729.r1.lnpi.dat', mu=-8.6160, volume=729, beta=1.0/0.7, num_phases_max=2)\n",
    "lnpi_bulk = lnPi.Phases(base, argmax_kwargs=dict(min_distance=[5,10,20,50]), ftag_phases=tag_phases)"
   ]
  },
  {
   "cell_type": "code",
   "execution_count": 53,
   "metadata": {},
   "outputs": [],
   "source": [
    "C = lnPi.Collection.from_mu(lnpi_bulk, [None], np.linspace(-12, -5, 20))\n",
    "\n",
    "C.get_spinodals()\n",
    "C.get_binodals()\n",
    "\n",
    "C.sort_by_mu(inplace=True)"
   ]
  },
  {
   "cell_type": "code",
   "execution_count": 54,
   "metadata": {},
   "outputs": [
    {
     "data": {
      "text/html": [
       "<div>\n",
       "<style scoped>\n",
       "    .dataframe tbody tr th:only-of-type {\n",
       "        vertical-align: middle;\n",
       "    }\n",
       "\n",
       "    .dataframe tbody tr th {\n",
       "        vertical-align: top;\n",
       "    }\n",
       "\n",
       "    .dataframe thead th {\n",
       "        text-align: right;\n",
       "    }\n",
       "</style>\n",
       "<table border=\"1\" class=\"dataframe\">\n",
       "  <thead>\n",
       "    <tr style=\"text-align: right;\">\n",
       "      <th></th>\n",
       "      <th></th>\n",
       "      <th></th>\n",
       "      <th>mu_0</th>\n",
       "      <th>beta</th>\n",
       "      <th>volume</th>\n",
       "      <th>nave</th>\n",
       "    </tr>\n",
       "    <tr>\n",
       "      <th>rec</th>\n",
       "      <th>phase</th>\n",
       "      <th>component</th>\n",
       "      <th></th>\n",
       "      <th></th>\n",
       "      <th></th>\n",
       "      <th></th>\n",
       "    </tr>\n",
       "  </thead>\n",
       "  <tbody>\n",
       "    <tr>\n",
       "      <th rowspan=\"2\" valign=\"top\">1</th>\n",
       "      <th>0</th>\n",
       "      <th>0</th>\n",
       "      <td>-11.631579</td>\n",
       "      <td>1.428571</td>\n",
       "      <td>729</td>\n",
       "      <td>0.033303</td>\n",
       "    </tr>\n",
       "    <tr>\n",
       "      <th>1</th>\n",
       "      <th>0</th>\n",
       "      <td>-11.631579</td>\n",
       "      <td>1.428571</td>\n",
       "      <td>729</td>\n",
       "      <td>NaN</td>\n",
       "    </tr>\n",
       "    <tr>\n",
       "      <th rowspan=\"2\" valign=\"top\">3</th>\n",
       "      <th>0</th>\n",
       "      <th>0</th>\n",
       "      <td>-10.894737</td>\n",
       "      <td>1.428571</td>\n",
       "      <td>729</td>\n",
       "      <td>0.095570</td>\n",
       "    </tr>\n",
       "    <tr>\n",
       "      <th>1</th>\n",
       "      <th>0</th>\n",
       "      <td>-10.894737</td>\n",
       "      <td>1.428571</td>\n",
       "      <td>729</td>\n",
       "      <td>NaN</td>\n",
       "    </tr>\n",
       "  </tbody>\n",
       "</table>\n",
       "</div>"
      ],
      "text/plain": [
       "                          mu_0      beta  volume      nave\n",
       "rec phase component                                       \n",
       "1   0     0         -11.631579  1.428571     729  0.033303\n",
       "    1     0         -11.631579  1.428571     729       NaN\n",
       "3   0     0         -10.894737  1.428571     729  0.095570\n",
       "    1     0         -10.894737  1.428571     729       NaN"
      ]
     },
     "execution_count": 54,
     "metadata": {},
     "output_type": "execute_result"
    }
   ],
   "source": [
    "n_cut = 0.1\n",
    "\n",
    "C.nave_phase.to_dataframe().query('mu_0 < -10 and rec in [1, 3]')#.loc[(0,1,slice(None)),:]"
   ]
  },
  {
   "cell_type": "code",
   "execution_count": 55,
   "metadata": {},
   "outputs": [
    {
     "data": {
      "text/plain": [
       "<xarray.DataArray (phase: 2, component: 1)>\n",
       "array([[  -22.768022],\n",
       "       [-5160.363822]])\n",
       "Coordinates:\n",
       "    mu_0     float64 -8.616\n",
       "    beta     float64 1.429\n",
       "    volume   int64 729\n",
       "Dimensions without coordinates: phase, component"
      ]
     },
     "execution_count": 55,
     "metadata": {},
     "output_type": "execute_result"
    }
   ],
   "source": [
    "lnpi_bulk.nave * lnpi_bulk.chempot"
   ]
  },
  {
   "cell_type": "code",
   "execution_count": 56,
   "metadata": {},
   "outputs": [
    {
     "data": {
      "text/html": [
       "<div>\n",
       "<style scoped>\n",
       "    .dataframe tbody tr th:only-of-type {\n",
       "        vertical-align: middle;\n",
       "    }\n",
       "\n",
       "    .dataframe tbody tr th {\n",
       "        vertical-align: top;\n",
       "    }\n",
       "\n",
       "    .dataframe thead th {\n",
       "        text-align: right;\n",
       "    }\n",
       "</style>\n",
       "<table border=\"1\" class=\"dataframe\">\n",
       "  <thead>\n",
       "    <tr style=\"text-align: right;\">\n",
       "      <th></th>\n",
       "      <th></th>\n",
       "      <th></th>\n",
       "      <th>mu_0</th>\n",
       "      <th>beta</th>\n",
       "      <th>volume</th>\n",
       "      <th>nave</th>\n",
       "    </tr>\n",
       "    <tr>\n",
       "      <th>rec</th>\n",
       "      <th>phase</th>\n",
       "      <th>component</th>\n",
       "      <th></th>\n",
       "      <th></th>\n",
       "      <th></th>\n",
       "      <th></th>\n",
       "    </tr>\n",
       "  </thead>\n",
       "  <tbody>\n",
       "    <tr>\n",
       "      <th rowspan=\"2\" valign=\"top\">0</th>\n",
       "      <th>0</th>\n",
       "      <th>0</th>\n",
       "      <td>-12.000000</td>\n",
       "      <td>1.428571</td>\n",
       "      <td>729</td>\n",
       "      <td>0.019668</td>\n",
       "    </tr>\n",
       "    <tr>\n",
       "      <th>1</th>\n",
       "      <th>0</th>\n",
       "      <td>-12.000000</td>\n",
       "      <td>1.428571</td>\n",
       "      <td>729</td>\n",
       "      <td>NaN</td>\n",
       "    </tr>\n",
       "    <tr>\n",
       "      <th rowspan=\"2\" valign=\"top\">1</th>\n",
       "      <th>0</th>\n",
       "      <th>0</th>\n",
       "      <td>-11.631579</td>\n",
       "      <td>1.428571</td>\n",
       "      <td>729</td>\n",
       "      <td>0.033303</td>\n",
       "    </tr>\n",
       "    <tr>\n",
       "      <th>1</th>\n",
       "      <th>0</th>\n",
       "      <td>-11.631579</td>\n",
       "      <td>1.428571</td>\n",
       "      <td>729</td>\n",
       "      <td>NaN</td>\n",
       "    </tr>\n",
       "    <tr>\n",
       "      <th rowspan=\"2\" valign=\"top\">2</th>\n",
       "      <th>0</th>\n",
       "      <th>0</th>\n",
       "      <td>-11.263158</td>\n",
       "      <td>1.428571</td>\n",
       "      <td>729</td>\n",
       "      <td>0.056405</td>\n",
       "    </tr>\n",
       "    <tr>\n",
       "      <th>1</th>\n",
       "      <th>0</th>\n",
       "      <td>-11.263158</td>\n",
       "      <td>1.428571</td>\n",
       "      <td>729</td>\n",
       "      <td>NaN</td>\n",
       "    </tr>\n",
       "    <tr>\n",
       "      <th rowspan=\"2\" valign=\"top\">3</th>\n",
       "      <th>0</th>\n",
       "      <th>0</th>\n",
       "      <td>-10.894737</td>\n",
       "      <td>1.428571</td>\n",
       "      <td>729</td>\n",
       "      <td>0.095570</td>\n",
       "    </tr>\n",
       "    <tr>\n",
       "      <th>1</th>\n",
       "      <th>0</th>\n",
       "      <td>-10.894737</td>\n",
       "      <td>1.428571</td>\n",
       "      <td>729</td>\n",
       "      <td>NaN</td>\n",
       "    </tr>\n",
       "    <tr>\n",
       "      <th rowspan=\"2\" valign=\"top\">4</th>\n",
       "      <th>0</th>\n",
       "      <th>0</th>\n",
       "      <td>-10.526316</td>\n",
       "      <td>1.428571</td>\n",
       "      <td>729</td>\n",
       "      <td>0.162040</td>\n",
       "    </tr>\n",
       "    <tr>\n",
       "      <th>1</th>\n",
       "      <th>0</th>\n",
       "      <td>-10.526316</td>\n",
       "      <td>1.428571</td>\n",
       "      <td>729</td>\n",
       "      <td>NaN</td>\n",
       "    </tr>\n",
       "    <tr>\n",
       "      <th rowspan=\"2\" valign=\"top\">5</th>\n",
       "      <th>0</th>\n",
       "      <th>0</th>\n",
       "      <td>-10.157895</td>\n",
       "      <td>1.428571</td>\n",
       "      <td>729</td>\n",
       "      <td>0.275064</td>\n",
       "    </tr>\n",
       "    <tr>\n",
       "      <th>1</th>\n",
       "      <th>0</th>\n",
       "      <td>-10.157895</td>\n",
       "      <td>1.428571</td>\n",
       "      <td>729</td>\n",
       "      <td>NaN</td>\n",
       "    </tr>\n",
       "    <tr>\n",
       "      <th rowspan=\"2\" valign=\"top\">6</th>\n",
       "      <th>0</th>\n",
       "      <th>0</th>\n",
       "      <td>-9.789474</td>\n",
       "      <td>1.428571</td>\n",
       "      <td>729</td>\n",
       "      <td>0.467862</td>\n",
       "    </tr>\n",
       "    <tr>\n",
       "      <th>1</th>\n",
       "      <th>0</th>\n",
       "      <td>-9.789474</td>\n",
       "      <td>1.428571</td>\n",
       "      <td>729</td>\n",
       "      <td>NaN</td>\n",
       "    </tr>\n",
       "    <tr>\n",
       "      <th rowspan=\"2\" valign=\"top\">7</th>\n",
       "      <th>0</th>\n",
       "      <th>0</th>\n",
       "      <td>-9.588327</td>\n",
       "      <td>1.428571</td>\n",
       "      <td>729</td>\n",
       "      <td>0.626099</td>\n",
       "    </tr>\n",
       "    <tr>\n",
       "      <th>1</th>\n",
       "      <th>0</th>\n",
       "      <td>-9.588327</td>\n",
       "      <td>1.428571</td>\n",
       "      <td>729</td>\n",
       "      <td>523.654430</td>\n",
       "    </tr>\n",
       "    <tr>\n",
       "      <th rowspan=\"2\" valign=\"top\">8</th>\n",
       "      <th>0</th>\n",
       "      <th>0</th>\n",
       "      <td>-9.421053</td>\n",
       "      <td>1.428571</td>\n",
       "      <td>729</td>\n",
       "      <td>0.798565</td>\n",
       "    </tr>\n",
       "    <tr>\n",
       "      <th>1</th>\n",
       "      <th>0</th>\n",
       "      <td>-9.421053</td>\n",
       "      <td>1.428571</td>\n",
       "      <td>729</td>\n",
       "      <td>547.001853</td>\n",
       "    </tr>\n",
       "    <tr>\n",
       "      <th rowspan=\"2\" valign=\"top\">9</th>\n",
       "      <th>0</th>\n",
       "      <th>0</th>\n",
       "      <td>-9.052632</td>\n",
       "      <td>1.428571</td>\n",
       "      <td>729</td>\n",
       "      <td>1.371389</td>\n",
       "    </tr>\n",
       "    <tr>\n",
       "      <th>1</th>\n",
       "      <th>0</th>\n",
       "      <td>-9.052632</td>\n",
       "      <td>1.428571</td>\n",
       "      <td>729</td>\n",
       "      <td>575.787274</td>\n",
       "    </tr>\n",
       "    <tr>\n",
       "      <th rowspan=\"2\" valign=\"top\">10</th>\n",
       "      <th>0</th>\n",
       "      <th>0</th>\n",
       "      <td>-8.684211</td>\n",
       "      <td>1.428571</td>\n",
       "      <td>729</td>\n",
       "      <td>2.381375</td>\n",
       "    </tr>\n",
       "    <tr>\n",
       "      <th>1</th>\n",
       "      <th>0</th>\n",
       "      <td>-8.684211</td>\n",
       "      <td>1.428571</td>\n",
       "      <td>729</td>\n",
       "      <td>595.731965</td>\n",
       "    </tr>\n",
       "    <tr>\n",
       "      <th rowspan=\"2\" valign=\"top\">11</th>\n",
       "      <th>0</th>\n",
       "      <th>0</th>\n",
       "      <td>-8.637334</td>\n",
       "      <td>1.428571</td>\n",
       "      <td>729</td>\n",
       "      <td>2.557705</td>\n",
       "    </tr>\n",
       "    <tr>\n",
       "      <th>1</th>\n",
       "      <th>0</th>\n",
       "      <td>-8.637334</td>\n",
       "      <td>1.428571</td>\n",
       "      <td>729</td>\n",
       "      <td>597.939083</td>\n",
       "    </tr>\n",
       "    <tr>\n",
       "      <th rowspan=\"2\" valign=\"top\">12</th>\n",
       "      <th>0</th>\n",
       "      <th>0</th>\n",
       "      <td>-8.315789</td>\n",
       "      <td>1.428571</td>\n",
       "      <td>729</td>\n",
       "      <td>4.223758</td>\n",
       "    </tr>\n",
       "    <tr>\n",
       "      <th>1</th>\n",
       "      <th>0</th>\n",
       "      <td>-8.315789</td>\n",
       "      <td>1.428571</td>\n",
       "      <td>729</td>\n",
       "      <td>611.722596</td>\n",
       "    </tr>\n",
       "    <tr>\n",
       "      <th rowspan=\"2\" valign=\"top\">13</th>\n",
       "      <th>0</th>\n",
       "      <th>0</th>\n",
       "      <td>-7.947368</td>\n",
       "      <td>1.428571</td>\n",
       "      <td>729</td>\n",
       "      <td>7.844650</td>\n",
       "    </tr>\n",
       "    <tr>\n",
       "      <th>1</th>\n",
       "      <th>0</th>\n",
       "      <td>-7.947368</td>\n",
       "      <td>1.428571</td>\n",
       "      <td>729</td>\n",
       "      <td>625.401490</td>\n",
       "    </tr>\n",
       "    <tr>\n",
       "      <th rowspan=\"2\" valign=\"top\">14</th>\n",
       "      <th>0</th>\n",
       "      <th>0</th>\n",
       "      <td>-7.578947</td>\n",
       "      <td>1.428571</td>\n",
       "      <td>729</td>\n",
       "      <td>17.123071</td>\n",
       "    </tr>\n",
       "    <tr>\n",
       "      <th>1</th>\n",
       "      <th>0</th>\n",
       "      <td>-7.578947</td>\n",
       "      <td>1.428571</td>\n",
       "      <td>729</td>\n",
       "      <td>637.100006</td>\n",
       "    </tr>\n",
       "    <tr>\n",
       "      <th rowspan=\"2\" valign=\"top\">15</th>\n",
       "      <th>0</th>\n",
       "      <th>0</th>\n",
       "      <td>-7.468247</td>\n",
       "      <td>1.428571</td>\n",
       "      <td>729</td>\n",
       "      <td>23.573185</td>\n",
       "    </tr>\n",
       "    <tr>\n",
       "      <th>1</th>\n",
       "      <th>0</th>\n",
       "      <td>-7.468247</td>\n",
       "      <td>1.428571</td>\n",
       "      <td>729</td>\n",
       "      <td>640.417664</td>\n",
       "    </tr>\n",
       "    <tr>\n",
       "      <th rowspan=\"2\" valign=\"top\">16</th>\n",
       "      <th>0</th>\n",
       "      <th>0</th>\n",
       "      <td>-7.210526</td>\n",
       "      <td>1.428571</td>\n",
       "      <td>729</td>\n",
       "      <td>NaN</td>\n",
       "    </tr>\n",
       "    <tr>\n",
       "      <th>1</th>\n",
       "      <th>0</th>\n",
       "      <td>-7.210526</td>\n",
       "      <td>1.428571</td>\n",
       "      <td>729</td>\n",
       "      <td>647.899613</td>\n",
       "    </tr>\n",
       "    <tr>\n",
       "      <th rowspan=\"2\" valign=\"top\">17</th>\n",
       "      <th>0</th>\n",
       "      <th>0</th>\n",
       "      <td>-6.842105</td>\n",
       "      <td>1.428571</td>\n",
       "      <td>729</td>\n",
       "      <td>NaN</td>\n",
       "    </tr>\n",
       "    <tr>\n",
       "      <th>1</th>\n",
       "      <th>0</th>\n",
       "      <td>-6.842105</td>\n",
       "      <td>1.428571</td>\n",
       "      <td>729</td>\n",
       "      <td>655.986438</td>\n",
       "    </tr>\n",
       "    <tr>\n",
       "      <th rowspan=\"2\" valign=\"top\">18</th>\n",
       "      <th>0</th>\n",
       "      <th>0</th>\n",
       "      <td>-6.473684</td>\n",
       "      <td>1.428571</td>\n",
       "      <td>729</td>\n",
       "      <td>NaN</td>\n",
       "    </tr>\n",
       "    <tr>\n",
       "      <th>1</th>\n",
       "      <th>0</th>\n",
       "      <td>-6.473684</td>\n",
       "      <td>1.428571</td>\n",
       "      <td>729</td>\n",
       "      <td>658.667311</td>\n",
       "    </tr>\n",
       "    <tr>\n",
       "      <th rowspan=\"2\" valign=\"top\">19</th>\n",
       "      <th>0</th>\n",
       "      <th>0</th>\n",
       "      <td>-6.105263</td>\n",
       "      <td>1.428571</td>\n",
       "      <td>729</td>\n",
       "      <td>NaN</td>\n",
       "    </tr>\n",
       "    <tr>\n",
       "      <th>1</th>\n",
       "      <th>0</th>\n",
       "      <td>-6.105263</td>\n",
       "      <td>1.428571</td>\n",
       "      <td>729</td>\n",
       "      <td>659.430603</td>\n",
       "    </tr>\n",
       "    <tr>\n",
       "      <th rowspan=\"2\" valign=\"top\">20</th>\n",
       "      <th>0</th>\n",
       "      <th>0</th>\n",
       "      <td>-5.736842</td>\n",
       "      <td>1.428571</td>\n",
       "      <td>729</td>\n",
       "      <td>NaN</td>\n",
       "    </tr>\n",
       "    <tr>\n",
       "      <th>1</th>\n",
       "      <th>0</th>\n",
       "      <td>-5.736842</td>\n",
       "      <td>1.428571</td>\n",
       "      <td>729</td>\n",
       "      <td>659.717852</td>\n",
       "    </tr>\n",
       "    <tr>\n",
       "      <th rowspan=\"2\" valign=\"top\">21</th>\n",
       "      <th>0</th>\n",
       "      <th>0</th>\n",
       "      <td>-5.368421</td>\n",
       "      <td>1.428571</td>\n",
       "      <td>729</td>\n",
       "      <td>NaN</td>\n",
       "    </tr>\n",
       "    <tr>\n",
       "      <th>1</th>\n",
       "      <th>0</th>\n",
       "      <td>-5.368421</td>\n",
       "      <td>1.428571</td>\n",
       "      <td>729</td>\n",
       "      <td>659.848778</td>\n",
       "    </tr>\n",
       "    <tr>\n",
       "      <th rowspan=\"2\" valign=\"top\">22</th>\n",
       "      <th>0</th>\n",
       "      <th>0</th>\n",
       "      <td>-5.000000</td>\n",
       "      <td>1.428571</td>\n",
       "      <td>729</td>\n",
       "      <td>NaN</td>\n",
       "    </tr>\n",
       "    <tr>\n",
       "      <th>1</th>\n",
       "      <th>0</th>\n",
       "      <td>-5.000000</td>\n",
       "      <td>1.428571</td>\n",
       "      <td>729</td>\n",
       "      <td>659.915455</td>\n",
       "    </tr>\n",
       "  </tbody>\n",
       "</table>\n",
       "</div>"
      ],
      "text/plain": [
       "                          mu_0      beta  volume        nave\n",
       "rec phase component                                         \n",
       "0   0     0         -12.000000  1.428571     729    0.019668\n",
       "    1     0         -12.000000  1.428571     729         NaN\n",
       "1   0     0         -11.631579  1.428571     729    0.033303\n",
       "    1     0         -11.631579  1.428571     729         NaN\n",
       "2   0     0         -11.263158  1.428571     729    0.056405\n",
       "    1     0         -11.263158  1.428571     729         NaN\n",
       "3   0     0         -10.894737  1.428571     729    0.095570\n",
       "    1     0         -10.894737  1.428571     729         NaN\n",
       "4   0     0         -10.526316  1.428571     729    0.162040\n",
       "    1     0         -10.526316  1.428571     729         NaN\n",
       "5   0     0         -10.157895  1.428571     729    0.275064\n",
       "    1     0         -10.157895  1.428571     729         NaN\n",
       "6   0     0          -9.789474  1.428571     729    0.467862\n",
       "    1     0          -9.789474  1.428571     729         NaN\n",
       "7   0     0          -9.588327  1.428571     729    0.626099\n",
       "    1     0          -9.588327  1.428571     729  523.654430\n",
       "8   0     0          -9.421053  1.428571     729    0.798565\n",
       "    1     0          -9.421053  1.428571     729  547.001853\n",
       "9   0     0          -9.052632  1.428571     729    1.371389\n",
       "    1     0          -9.052632  1.428571     729  575.787274\n",
       "10  0     0          -8.684211  1.428571     729    2.381375\n",
       "    1     0          -8.684211  1.428571     729  595.731965\n",
       "11  0     0          -8.637334  1.428571     729    2.557705\n",
       "    1     0          -8.637334  1.428571     729  597.939083\n",
       "12  0     0          -8.315789  1.428571     729    4.223758\n",
       "    1     0          -8.315789  1.428571     729  611.722596\n",
       "13  0     0          -7.947368  1.428571     729    7.844650\n",
       "    1     0          -7.947368  1.428571     729  625.401490\n",
       "14  0     0          -7.578947  1.428571     729   17.123071\n",
       "    1     0          -7.578947  1.428571     729  637.100006\n",
       "15  0     0          -7.468247  1.428571     729   23.573185\n",
       "    1     0          -7.468247  1.428571     729  640.417664\n",
       "16  0     0          -7.210526  1.428571     729         NaN\n",
       "    1     0          -7.210526  1.428571     729  647.899613\n",
       "17  0     0          -6.842105  1.428571     729         NaN\n",
       "    1     0          -6.842105  1.428571     729  655.986438\n",
       "18  0     0          -6.473684  1.428571     729         NaN\n",
       "    1     0          -6.473684  1.428571     729  658.667311\n",
       "19  0     0          -6.105263  1.428571     729         NaN\n",
       "    1     0          -6.105263  1.428571     729  659.430603\n",
       "20  0     0          -5.736842  1.428571     729         NaN\n",
       "    1     0          -5.736842  1.428571     729  659.717852\n",
       "21  0     0          -5.368421  1.428571     729         NaN\n",
       "    1     0          -5.368421  1.428571     729  659.848778\n",
       "22  0     0          -5.000000  1.428571     729         NaN\n",
       "    1     0          -5.000000  1.428571     729  659.915455"
      ]
     },
     "execution_count": 56,
     "metadata": {},
     "output_type": "execute_result"
    }
   ],
   "source": [
    "C.nave_phase.to_dataframe()"
   ]
  },
  {
   "cell_type": "code",
   "execution_count": 57,
   "metadata": {},
   "outputs": [],
   "source": [
    "da_base = base.to_dataarray(state_as_attrs=True)\n",
    "da_coll = C.to_dataarray()"
   ]
  },
  {
   "cell_type": "code",
   "execution_count": 59,
   "metadata": {},
   "outputs": [
    {
     "data": {
      "text/plain": [
       "<xarray.DataArray 'lnpi' (n_0: 661)>\n",
       "array([-18.06161 , -17.156572, -16.919848, ..., -67.631954, -70.228706,\n",
       "       -72.847337])\n",
       "Dimensions without coordinates: n_0\n",
       "Attributes:\n",
       "    dims_n:          ['n_0']\n",
       "    dims_mu:         ['mu_0']\n",
       "    dims_comp:       ['component']\n",
       "    dims_state:      ['mu_0', 'beta', 'volume']\n",
       "    lnpi_zero:       -18.06161029539\n",
       "    state_as_attrs:  1\n",
       "    num_phases_max:  2\n",
       "    mu_0:            -8.616\n",
       "    beta:            1.4285714285714286\n",
       "    volume:          729"
      ]
     },
     "execution_count": 59,
     "metadata": {},
     "output_type": "execute_result"
    }
   ],
   "source": [
    "da_base"
   ]
  },
  {
   "cell_type": "code",
   "execution_count": 58,
   "metadata": {},
   "outputs": [
    {
     "ename": "PermissionError",
     "evalue": "[Errno 13] Permission denied: b'/Users/wpk/Documents/python/projects/lnPi/examples/1D/tmp.nc'",
     "output_type": "error",
     "traceback": [
      "\u001b[0;31m---------------------------------------------------------------------------\u001b[0m",
      "\u001b[0;31mKeyError\u001b[0m                                  Traceback (most recent call last)",
      "\u001b[0;32m~/.conda/envs/py37/lib/python3.7/site-packages/xarray/backends/file_manager.py\u001b[0m in \u001b[0;36macquire\u001b[0;34m(self, needs_lock)\u001b[0m\n\u001b[1;32m    165\u001b[0m             \u001b[0;32mtry\u001b[0m\u001b[0;34m:\u001b[0m\u001b[0;34m\u001b[0m\u001b[0;34m\u001b[0m\u001b[0m\n\u001b[0;32m--> 166\u001b[0;31m                 \u001b[0mfile\u001b[0m \u001b[0;34m=\u001b[0m \u001b[0mself\u001b[0m\u001b[0;34m.\u001b[0m\u001b[0m_cache\u001b[0m\u001b[0;34m[\u001b[0m\u001b[0mself\u001b[0m\u001b[0;34m.\u001b[0m\u001b[0m_key\u001b[0m\u001b[0;34m]\u001b[0m\u001b[0;34m\u001b[0m\u001b[0;34m\u001b[0m\u001b[0m\n\u001b[0m\u001b[1;32m    167\u001b[0m             \u001b[0;32mexcept\u001b[0m \u001b[0mKeyError\u001b[0m\u001b[0;34m:\u001b[0m\u001b[0;34m\u001b[0m\u001b[0;34m\u001b[0m\u001b[0m\n",
      "\u001b[0;32m~/.conda/envs/py37/lib/python3.7/site-packages/xarray/backends/lru_cache.py\u001b[0m in \u001b[0;36m__getitem__\u001b[0;34m(self, key)\u001b[0m\n\u001b[1;32m     42\u001b[0m         \u001b[0;32mwith\u001b[0m \u001b[0mself\u001b[0m\u001b[0;34m.\u001b[0m\u001b[0m_lock\u001b[0m\u001b[0;34m:\u001b[0m\u001b[0;34m\u001b[0m\u001b[0;34m\u001b[0m\u001b[0m\n\u001b[0;32m---> 43\u001b[0;31m             \u001b[0mvalue\u001b[0m \u001b[0;34m=\u001b[0m \u001b[0mself\u001b[0m\u001b[0;34m.\u001b[0m\u001b[0m_cache\u001b[0m\u001b[0;34m[\u001b[0m\u001b[0mkey\u001b[0m\u001b[0;34m]\u001b[0m\u001b[0;34m\u001b[0m\u001b[0;34m\u001b[0m\u001b[0m\n\u001b[0m\u001b[1;32m     44\u001b[0m             \u001b[0mmove_to_end\u001b[0m\u001b[0;34m(\u001b[0m\u001b[0mself\u001b[0m\u001b[0;34m.\u001b[0m\u001b[0m_cache\u001b[0m\u001b[0;34m,\u001b[0m \u001b[0mkey\u001b[0m\u001b[0;34m)\u001b[0m\u001b[0;34m\u001b[0m\u001b[0;34m\u001b[0m\u001b[0m\n",
      "\u001b[0;31mKeyError\u001b[0m: [<function _open_netcdf4_group at 0x32299c2f0>, ('/Users/wpk/Documents/python/projects/lnPi/examples/1D/tmp.nc', CombinedLock([<unlocked _thread.lock object at 0x1c285c1a08>, <SerializableLock: 429c7b31-efc5-48a8-85ac-b95c64b774a0>, <SerializableLock: d3f29fae-3617-4eef-b999-14d74b8da87a>])), 'a', (('clobber', True), ('diskless', False), ('format', 'NETCDF4'), ('group', None), ('persist', False))]",
      "\nDuring handling of the above exception, another exception occurred:\n",
      "\u001b[0;31mPermissionError\u001b[0m                           Traceback (most recent call last)",
      "\u001b[0;32m<ipython-input-58-b19703d4ff3a>\u001b[0m in \u001b[0;36m<module>\u001b[0;34m\u001b[0m\n\u001b[1;32m      1\u001b[0m \u001b[0;32mimport\u001b[0m \u001b[0mxarray\u001b[0m \u001b[0;32mas\u001b[0m \u001b[0mxr\u001b[0m\u001b[0;34m\u001b[0m\u001b[0;34m\u001b[0m\u001b[0m\n\u001b[1;32m      2\u001b[0m \u001b[0;34m\u001b[0m\u001b[0m\n\u001b[0;32m----> 3\u001b[0;31m \u001b[0mxr\u001b[0m\u001b[0;34m.\u001b[0m\u001b[0mmerge\u001b[0m\u001b[0;34m(\u001b[0m\u001b[0;34m(\u001b[0m\u001b[0mda_base\u001b[0m\u001b[0;34m,\u001b[0m \u001b[0mda_coll\u001b[0m\u001b[0;34m)\u001b[0m\u001b[0;34m)\u001b[0m\u001b[0;34m.\u001b[0m\u001b[0mto_netcdf\u001b[0m\u001b[0;34m(\u001b[0m\u001b[0;34m'tmp.nc'\u001b[0m\u001b[0;34m)\u001b[0m\u001b[0;34m\u001b[0m\u001b[0;34m\u001b[0m\u001b[0m\n\u001b[0m\u001b[1;32m      4\u001b[0m \u001b[0mds\u001b[0m \u001b[0;34m=\u001b[0m \u001b[0mxr\u001b[0m\u001b[0;34m.\u001b[0m\u001b[0mopen_dataset\u001b[0m\u001b[0;34m(\u001b[0m\u001b[0;34m'tmp.nc'\u001b[0m\u001b[0;34m)\u001b[0m\u001b[0;34m\u001b[0m\u001b[0;34m\u001b[0m\u001b[0m\n",
      "\u001b[0;32m~/.conda/envs/py37/lib/python3.7/site-packages/xarray/core/dataset.py\u001b[0m in \u001b[0;36mto_netcdf\u001b[0;34m(self, path, mode, format, group, engine, encoding, unlimited_dims, compute)\u001b[0m\n\u001b[1;32m   1230\u001b[0m                          \u001b[0mengine\u001b[0m\u001b[0;34m=\u001b[0m\u001b[0mengine\u001b[0m\u001b[0;34m,\u001b[0m \u001b[0mencoding\u001b[0m\u001b[0;34m=\u001b[0m\u001b[0mencoding\u001b[0m\u001b[0;34m,\u001b[0m\u001b[0;34m\u001b[0m\u001b[0;34m\u001b[0m\u001b[0m\n\u001b[1;32m   1231\u001b[0m                          \u001b[0munlimited_dims\u001b[0m\u001b[0;34m=\u001b[0m\u001b[0munlimited_dims\u001b[0m\u001b[0;34m,\u001b[0m\u001b[0;34m\u001b[0m\u001b[0;34m\u001b[0m\u001b[0m\n\u001b[0;32m-> 1232\u001b[0;31m                          compute=compute)\n\u001b[0m\u001b[1;32m   1233\u001b[0m \u001b[0;34m\u001b[0m\u001b[0m\n\u001b[1;32m   1234\u001b[0m     def to_zarr(self, store=None, mode='w-', synchronizer=None, group=None,\n",
      "\u001b[0;32m~/.conda/envs/py37/lib/python3.7/site-packages/xarray/backends/api.py\u001b[0m in \u001b[0;36mto_netcdf\u001b[0;34m(dataset, path_or_file, mode, format, group, engine, encoding, unlimited_dims, compute, multifile)\u001b[0m\n\u001b[1;32m    730\u001b[0m     \u001b[0mtarget\u001b[0m \u001b[0;34m=\u001b[0m \u001b[0mpath_or_file\u001b[0m \u001b[0;32mif\u001b[0m \u001b[0mpath_or_file\u001b[0m \u001b[0;32mis\u001b[0m \u001b[0;32mnot\u001b[0m \u001b[0;32mNone\u001b[0m \u001b[0;32melse\u001b[0m \u001b[0mBytesIO\u001b[0m\u001b[0;34m(\u001b[0m\u001b[0;34m)\u001b[0m\u001b[0;34m\u001b[0m\u001b[0;34m\u001b[0m\u001b[0m\n\u001b[1;32m    731\u001b[0m     \u001b[0mkwargs\u001b[0m \u001b[0;34m=\u001b[0m \u001b[0mdict\u001b[0m\u001b[0;34m(\u001b[0m\u001b[0mautoclose\u001b[0m\u001b[0;34m=\u001b[0m\u001b[0;32mTrue\u001b[0m\u001b[0;34m)\u001b[0m \u001b[0;32mif\u001b[0m \u001b[0mautoclose\u001b[0m \u001b[0;32melse\u001b[0m \u001b[0;34m{\u001b[0m\u001b[0;34m}\u001b[0m\u001b[0;34m\u001b[0m\u001b[0;34m\u001b[0m\u001b[0m\n\u001b[0;32m--> 732\u001b[0;31m     \u001b[0mstore\u001b[0m \u001b[0;34m=\u001b[0m \u001b[0mstore_open\u001b[0m\u001b[0;34m(\u001b[0m\u001b[0mtarget\u001b[0m\u001b[0;34m,\u001b[0m \u001b[0mmode\u001b[0m\u001b[0;34m,\u001b[0m \u001b[0mformat\u001b[0m\u001b[0;34m,\u001b[0m \u001b[0mgroup\u001b[0m\u001b[0;34m,\u001b[0m \u001b[0;34m**\u001b[0m\u001b[0mkwargs\u001b[0m\u001b[0;34m)\u001b[0m\u001b[0;34m\u001b[0m\u001b[0;34m\u001b[0m\u001b[0m\n\u001b[0m\u001b[1;32m    733\u001b[0m \u001b[0;34m\u001b[0m\u001b[0m\n\u001b[1;32m    734\u001b[0m     \u001b[0;32mif\u001b[0m \u001b[0munlimited_dims\u001b[0m \u001b[0;32mis\u001b[0m \u001b[0;32mNone\u001b[0m\u001b[0;34m:\u001b[0m\u001b[0;34m\u001b[0m\u001b[0;34m\u001b[0m\u001b[0m\n",
      "\u001b[0;32m~/.conda/envs/py37/lib/python3.7/site-packages/xarray/backends/netCDF4_.py\u001b[0m in \u001b[0;36mopen\u001b[0;34m(cls, filename, mode, format, group, clobber, diskless, persist, lock, lock_maker, autoclose)\u001b[0m\n\u001b[1;32m    353\u001b[0m             kwargs=dict(group=group, clobber=clobber, diskless=diskless,\n\u001b[1;32m    354\u001b[0m                         persist=persist, format=format))\n\u001b[0;32m--> 355\u001b[0;31m         \u001b[0;32mreturn\u001b[0m \u001b[0mcls\u001b[0m\u001b[0;34m(\u001b[0m\u001b[0mmanager\u001b[0m\u001b[0;34m,\u001b[0m \u001b[0mlock\u001b[0m\u001b[0;34m=\u001b[0m\u001b[0mlock\u001b[0m\u001b[0;34m,\u001b[0m \u001b[0mautoclose\u001b[0m\u001b[0;34m=\u001b[0m\u001b[0mautoclose\u001b[0m\u001b[0;34m)\u001b[0m\u001b[0;34m\u001b[0m\u001b[0;34m\u001b[0m\u001b[0m\n\u001b[0m\u001b[1;32m    356\u001b[0m \u001b[0;34m\u001b[0m\u001b[0m\n\u001b[1;32m    357\u001b[0m     \u001b[0;34m@\u001b[0m\u001b[0mproperty\u001b[0m\u001b[0;34m\u001b[0m\u001b[0;34m\u001b[0m\u001b[0m\n",
      "\u001b[0;32m~/.conda/envs/py37/lib/python3.7/site-packages/xarray/backends/netCDF4_.py\u001b[0m in \u001b[0;36m__init__\u001b[0;34m(self, manager, lock, autoclose)\u001b[0m\n\u001b[1;32m    312\u001b[0m \u001b[0;34m\u001b[0m\u001b[0m\n\u001b[1;32m    313\u001b[0m         \u001b[0mself\u001b[0m\u001b[0;34m.\u001b[0m\u001b[0m_manager\u001b[0m \u001b[0;34m=\u001b[0m \u001b[0mmanager\u001b[0m\u001b[0;34m\u001b[0m\u001b[0;34m\u001b[0m\u001b[0m\n\u001b[0;32m--> 314\u001b[0;31m         \u001b[0mself\u001b[0m\u001b[0;34m.\u001b[0m\u001b[0mformat\u001b[0m \u001b[0;34m=\u001b[0m \u001b[0mself\u001b[0m\u001b[0;34m.\u001b[0m\u001b[0mds\u001b[0m\u001b[0;34m.\u001b[0m\u001b[0mdata_model\u001b[0m\u001b[0;34m\u001b[0m\u001b[0;34m\u001b[0m\u001b[0m\n\u001b[0m\u001b[1;32m    315\u001b[0m         \u001b[0mself\u001b[0m\u001b[0;34m.\u001b[0m\u001b[0m_filename\u001b[0m \u001b[0;34m=\u001b[0m \u001b[0mself\u001b[0m\u001b[0;34m.\u001b[0m\u001b[0mds\u001b[0m\u001b[0;34m.\u001b[0m\u001b[0mfilepath\u001b[0m\u001b[0;34m(\u001b[0m\u001b[0;34m)\u001b[0m\u001b[0;34m\u001b[0m\u001b[0;34m\u001b[0m\u001b[0m\n\u001b[1;32m    316\u001b[0m         \u001b[0mself\u001b[0m\u001b[0;34m.\u001b[0m\u001b[0mis_remote\u001b[0m \u001b[0;34m=\u001b[0m \u001b[0mis_remote_uri\u001b[0m\u001b[0;34m(\u001b[0m\u001b[0mself\u001b[0m\u001b[0;34m.\u001b[0m\u001b[0m_filename\u001b[0m\u001b[0;34m)\u001b[0m\u001b[0;34m\u001b[0m\u001b[0;34m\u001b[0m\u001b[0m\n",
      "\u001b[0;32m~/.conda/envs/py37/lib/python3.7/site-packages/xarray/backends/netCDF4_.py\u001b[0m in \u001b[0;36mds\u001b[0;34m(self)\u001b[0m\n\u001b[1;32m    357\u001b[0m     \u001b[0;34m@\u001b[0m\u001b[0mproperty\u001b[0m\u001b[0;34m\u001b[0m\u001b[0;34m\u001b[0m\u001b[0m\n\u001b[1;32m    358\u001b[0m     \u001b[0;32mdef\u001b[0m \u001b[0mds\u001b[0m\u001b[0;34m(\u001b[0m\u001b[0mself\u001b[0m\u001b[0;34m)\u001b[0m\u001b[0;34m:\u001b[0m\u001b[0;34m\u001b[0m\u001b[0;34m\u001b[0m\u001b[0m\n\u001b[0;32m--> 359\u001b[0;31m         \u001b[0;32mreturn\u001b[0m \u001b[0mself\u001b[0m\u001b[0;34m.\u001b[0m\u001b[0m_manager\u001b[0m\u001b[0;34m.\u001b[0m\u001b[0macquire\u001b[0m\u001b[0;34m(\u001b[0m\u001b[0;34m)\u001b[0m\u001b[0;34m.\u001b[0m\u001b[0mvalue\u001b[0m\u001b[0;34m\u001b[0m\u001b[0;34m\u001b[0m\u001b[0m\n\u001b[0m\u001b[1;32m    360\u001b[0m \u001b[0;34m\u001b[0m\u001b[0m\n\u001b[1;32m    361\u001b[0m     \u001b[0;32mdef\u001b[0m \u001b[0mopen_store_variable\u001b[0m\u001b[0;34m(\u001b[0m\u001b[0mself\u001b[0m\u001b[0;34m,\u001b[0m \u001b[0mname\u001b[0m\u001b[0;34m,\u001b[0m \u001b[0mvar\u001b[0m\u001b[0;34m)\u001b[0m\u001b[0;34m:\u001b[0m\u001b[0;34m\u001b[0m\u001b[0;34m\u001b[0m\u001b[0m\n",
      "\u001b[0;32m~/.conda/envs/py37/lib/python3.7/site-packages/xarray/backends/file_manager.py\u001b[0m in \u001b[0;36macquire\u001b[0;34m(self, needs_lock)\u001b[0m\n\u001b[1;32m    170\u001b[0m                     \u001b[0mkwargs\u001b[0m \u001b[0;34m=\u001b[0m \u001b[0mkwargs\u001b[0m\u001b[0;34m.\u001b[0m\u001b[0mcopy\u001b[0m\u001b[0;34m(\u001b[0m\u001b[0;34m)\u001b[0m\u001b[0;34m\u001b[0m\u001b[0;34m\u001b[0m\u001b[0m\n\u001b[1;32m    171\u001b[0m                     \u001b[0mkwargs\u001b[0m\u001b[0;34m[\u001b[0m\u001b[0;34m'mode'\u001b[0m\u001b[0;34m]\u001b[0m \u001b[0;34m=\u001b[0m \u001b[0mself\u001b[0m\u001b[0;34m.\u001b[0m\u001b[0m_mode\u001b[0m\u001b[0;34m\u001b[0m\u001b[0;34m\u001b[0m\u001b[0m\n\u001b[0;32m--> 172\u001b[0;31m                 \u001b[0mfile\u001b[0m \u001b[0;34m=\u001b[0m \u001b[0mself\u001b[0m\u001b[0;34m.\u001b[0m\u001b[0m_opener\u001b[0m\u001b[0;34m(\u001b[0m\u001b[0;34m*\u001b[0m\u001b[0mself\u001b[0m\u001b[0;34m.\u001b[0m\u001b[0m_args\u001b[0m\u001b[0;34m,\u001b[0m \u001b[0;34m**\u001b[0m\u001b[0mkwargs\u001b[0m\u001b[0;34m)\u001b[0m\u001b[0;34m\u001b[0m\u001b[0;34m\u001b[0m\u001b[0m\n\u001b[0m\u001b[1;32m    173\u001b[0m                 \u001b[0;32mif\u001b[0m \u001b[0mself\u001b[0m\u001b[0;34m.\u001b[0m\u001b[0m_mode\u001b[0m \u001b[0;34m==\u001b[0m \u001b[0;34m'w'\u001b[0m\u001b[0;34m:\u001b[0m\u001b[0;34m\u001b[0m\u001b[0;34m\u001b[0m\u001b[0m\n\u001b[1;32m    174\u001b[0m                     \u001b[0;31m# ensure file doesn't get overriden when opened again\u001b[0m\u001b[0;34m\u001b[0m\u001b[0;34m\u001b[0m\u001b[0;34m\u001b[0m\u001b[0m\n",
      "\u001b[0;32m~/.conda/envs/py37/lib/python3.7/site-packages/xarray/backends/netCDF4_.py\u001b[0m in \u001b[0;36m_open_netcdf4_group\u001b[0;34m(filename, lock, mode, group, **kwargs)\u001b[0m\n\u001b[1;32m    245\u001b[0m     \u001b[0;32mimport\u001b[0m \u001b[0mnetCDF4\u001b[0m \u001b[0;32mas\u001b[0m \u001b[0mnc4\u001b[0m\u001b[0;34m\u001b[0m\u001b[0;34m\u001b[0m\u001b[0m\n\u001b[1;32m    246\u001b[0m \u001b[0;34m\u001b[0m\u001b[0m\n\u001b[0;32m--> 247\u001b[0;31m     \u001b[0mds\u001b[0m \u001b[0;34m=\u001b[0m \u001b[0mnc4\u001b[0m\u001b[0;34m.\u001b[0m\u001b[0mDataset\u001b[0m\u001b[0;34m(\u001b[0m\u001b[0mfilename\u001b[0m\u001b[0;34m,\u001b[0m \u001b[0mmode\u001b[0m\u001b[0;34m=\u001b[0m\u001b[0mmode\u001b[0m\u001b[0;34m,\u001b[0m \u001b[0;34m**\u001b[0m\u001b[0mkwargs\u001b[0m\u001b[0;34m)\u001b[0m\u001b[0;34m\u001b[0m\u001b[0;34m\u001b[0m\u001b[0m\n\u001b[0m\u001b[1;32m    248\u001b[0m \u001b[0;34m\u001b[0m\u001b[0m\n\u001b[1;32m    249\u001b[0m     \u001b[0;32mwith\u001b[0m \u001b[0mclose_on_error\u001b[0m\u001b[0;34m(\u001b[0m\u001b[0mds\u001b[0m\u001b[0;34m)\u001b[0m\u001b[0;34m:\u001b[0m\u001b[0;34m\u001b[0m\u001b[0;34m\u001b[0m\u001b[0m\n",
      "\u001b[0;32mnetCDF4/_netCDF4.pyx\u001b[0m in \u001b[0;36mnetCDF4._netCDF4.Dataset.__init__\u001b[0;34m()\u001b[0m\n",
      "\u001b[0;32mnetCDF4/_netCDF4.pyx\u001b[0m in \u001b[0;36mnetCDF4._netCDF4._ensure_nc_success\u001b[0;34m()\u001b[0m\n",
      "\u001b[0;31mPermissionError\u001b[0m: [Errno 13] Permission denied: b'/Users/wpk/Documents/python/projects/lnPi/examples/1D/tmp.nc'"
     ]
    }
   ],
   "source": [
    "import xarray as xr\n",
    "\n",
    "xr.merge((da_base, da_coll)).to_netcdf('tmp.nc')\n",
    "ds = xr.open_dataset('tmp.nc')"
   ]
  },
  {
   "cell_type": "code",
   "execution_count": 60,
   "metadata": {},
   "outputs": [
    {
     "data": {
      "text/plain": [
       "<xarray.DataArray 'labels' (rec: 23, n_0: 661)>\n",
       "array([[1, 1, 1, ..., 1, 1, 1],\n",
       "       [1, 1, 1, ..., 1, 1, 1],\n",
       "       [1, 1, 1, ..., 1, 1, 1],\n",
       "       ...,\n",
       "       [2, 2, 2, ..., 2, 2, 2],\n",
       "       [2, 2, 2, ..., 2, 2, 2],\n",
       "       [2, 2, 2, ..., 2, 2, 2]], dtype=uint8)\n",
       "Coordinates:\n",
       "    mu_0       (rec) float64 -12.0 -11.63 -11.26 -10.89 ... -5.737 -5.368 -5.0\n",
       "    beta       (rec) float64 1.429 1.429 1.429 1.429 ... 1.429 1.429 1.429 1.429\n",
       "    volume     (rec) int64 729 729 729 729 729 729 ... 729 729 729 729 729 729\n",
       "    spinodals  (rec) uint8 0 0 0 0 0 0 0 2 0 0 0 0 0 0 0 1 0 0 0 0 0 0 0\n",
       "    binodals   (rec) uint8 0 0 0 0 0 0 0 0 0 0 0 1 0 0 0 0 0 0 0 0 0 0 0\n",
       "Dimensions without coordinates: rec, n_0"
      ]
     },
     "execution_count": 60,
     "metadata": {},
     "output_type": "execute_result"
    }
   ],
   "source": [
    "da_coll"
   ]
  },
  {
   "cell_type": "code",
   "execution_count": 61,
   "metadata": {},
   "outputs": [
    {
     "ename": "AttributeError",
     "evalue": "module 'lnPi.core' has no attribute 'Base'",
     "output_type": "error",
     "traceback": [
      "\u001b[0;31m---------------------------------------------------------------------------\u001b[0m",
      "\u001b[0;31mAttributeError\u001b[0m                            Traceback (most recent call last)",
      "\u001b[0;32m<ipython-input-61-809c54f6a0ee>\u001b[0m in \u001b[0;36m<module>\u001b[0;34m\u001b[0m\n\u001b[0;32m----> 1\u001b[0;31m \u001b[0mbase2\u001b[0m \u001b[0;34m=\u001b[0m \u001b[0mlnPi\u001b[0m\u001b[0;34m.\u001b[0m\u001b[0mcore\u001b[0m\u001b[0;34m.\u001b[0m\u001b[0mBase\u001b[0m\u001b[0;34m.\u001b[0m\u001b[0mfrom_dataarray\u001b[0m\u001b[0;34m(\u001b[0m\u001b[0mds\u001b[0m\u001b[0;34m.\u001b[0m\u001b[0mlnpi\u001b[0m\u001b[0;34m)\u001b[0m\u001b[0;34m\u001b[0m\u001b[0;34m\u001b[0m\u001b[0m\n\u001b[0m\u001b[1;32m      2\u001b[0m \u001b[0mC2\u001b[0m \u001b[0;34m=\u001b[0m \u001b[0mlnPi\u001b[0m\u001b[0;34m.\u001b[0m\u001b[0mcore\u001b[0m\u001b[0;34m.\u001b[0m\u001b[0mCollection\u001b[0m\u001b[0;34m.\u001b[0m\u001b[0mfrom_dataarray\u001b[0m\u001b[0;34m(\u001b[0m\u001b[0mbase2\u001b[0m\u001b[0;34m,\u001b[0m \u001b[0mds\u001b[0m\u001b[0;34m.\u001b[0m\u001b[0mlabels\u001b[0m\u001b[0;34m)\u001b[0m\u001b[0;34m\u001b[0m\u001b[0;34m\u001b[0m\u001b[0m\n",
      "\u001b[0;31mAttributeError\u001b[0m: module 'lnPi.core' has no attribute 'Base'"
     ]
    }
   ],
   "source": [
    "base2 = lnPi.core.Base.from_dataarray(ds.lnpi)\n",
    "C2 = lnPi.core.Collection.from_dataarray(base2, ds.labels)"
   ]
  },
  {
   "cell_type": "code",
   "execution_count": 62,
   "metadata": {},
   "outputs": [
    {
     "name": "stdout",
     "output_type": "stream",
     "text": [
      "Phases: nphase=2, mu=[-7.46824698]\n",
      "Phases: nphase=2, mu=[-9.58832717]\n",
      "Phases: nphase=2, mu=[-8.63733388]\n"
     ]
    }
   ],
   "source": [
    "print(C.spinodals[0]._repr_html_())\n",
    "print(C.spinodals[1]._repr_html_())\n",
    "print(C.binodals[0]._repr_html_())"
   ]
  },
  {
   "cell_type": "code",
   "execution_count": 63,
   "metadata": {},
   "outputs": [],
   "source": [
    "def make_omega_vs_mu_phase_plot(C,spin=None,bino=None,ax=None,ax_labels=True):\n",
    "    if ax is None:\n",
    "        fig,ax = plt.subplots()\n",
    "        \n",
    "    if spin is None:\n",
    "        spin = C.spinodals\n",
    "\n",
    "    if bino is None:\n",
    "        bino = C.binodals[0]\n",
    "    \n",
    "    for phase, g in C.omega_phase().groupby('phase'):\n",
    "        ax.plot(g.mu_0, g)\n",
    "#     for phase, g in C.Omegas_phaseIDs().reset_index().groupby('phase'):\n",
    "#         g.plot('mu_0','Omega', ax=ax)\n",
    "    colors = [l.get_color() for l in ax.lines]\n",
    "    \n",
    "    for phase, (s, c) in enumerate(zip(spin, colors)):\n",
    "        s.omega_phase().sel(phase=phase).pipe(lambda x: ax.plot(x.mu_0, x, marker='o', color=c))\n",
    "    \n",
    "    bino.omega_phase().sel(phase=0).pipe(lambda x: ax.plot(x.mu_0, x, marker='s', color='k'))\n",
    "#     for phase, (s, c) in enumerate(zip(spin, colors)):\n",
    "#         s.Omegas_phaseIDs().xs(phase, level='phase').reset_index().plot('mu_0','Omega', marker='o', color=c, ax=ax)\n",
    "#     bino.Omegas_phaseIDs().xs(0, level='phase').reset_index().plot('mu_0','Omega', marker='s', color='k', ax=ax)\n",
    "    \n",
    "\n",
    "\n",
    "    if ax_labels:\n",
    "        ax.set_ylabel(r'$\\Omega^{ex}$')\n",
    "        ax.set_xlabel(r'$\\mu$')\n",
    "    "
   ]
  },
  {
   "cell_type": "code",
   "execution_count": 64,
   "metadata": {},
   "outputs": [
    {
     "data": {
      "image/png": "[encoded data removed]",
      "text/plain": [
       "<Figure size 432x288 with 1 Axes>"
      ]
     },
     "metadata": {
      "needs_background": "light"
     },
     "output_type": "display_data"
    }
   ],
   "source": [
    "#plot\n",
    "make_omega_vs_mu_phase_plot(C)"
   ]
  },
  {
   "cell_type": "markdown",
   "metadata": {
    "collapsed": true
   },
   "source": [
    "# bulk 065"
   ]
  },
  {
   "cell_type": "code",
   "execution_count": 65,
   "metadata": {},
   "outputs": [],
   "source": [
    "base_bulk = lnPi.lnPi.from_table('./PiofN/ljcut.t065.bulk.v1000.r1.lnpi.dat', mu=-4.453015418106743E+00,\n",
    "                               volume=1000.0E0,num_phases_max=2,beta=1./0.65000E0)\n",
    "\n",
    "lnpi_bulk = lnPi.Phases(base_bulk,argmax_kwargs=dict(min_distance=[5,10,20,40]),\n",
    "                                ftag_phases=tag_phases)"
   ]
  },
  {
   "cell_type": "code",
   "execution_count": 66,
   "metadata": {},
   "outputs": [],
   "source": [
    "Cbulk = lnPi.Collection.from_mu(lnpi_bulk,[None],np.linspace(-7,.2,50))\n",
    "Cbulk.get_spinodals()\n",
    "Cbulk.get_binodals()\n",
    "\n",
    "Cbulk.sort_by_mu(inplace=True)"
   ]
  },
  {
   "cell_type": "code",
   "execution_count": 67,
   "metadata": {},
   "outputs": [],
   "source": [
    "psat = (-Cbulk.binodals[0].omega_phase().sel(phase=0) / Cbulk[0].base.volume).values"
   ]
  },
  {
   "cell_type": "code",
   "execution_count": 68,
   "metadata": {},
   "outputs": [
    {
     "data": {
      "image/png": "[encoded data removed]",
      "text/plain": [
       "<Figure size 432x288 with 1 Axes>"
      ]
     },
     "metadata": {
      "needs_background": "light"
     },
     "output_type": "display_data"
    }
   ],
   "source": [
    "make_omega_vs_mu_phase_plot(Cbulk)"
   ]
  },
  {
   "cell_type": "markdown",
   "metadata": {
    "collapsed": true
   },
   "source": [
    "# confined"
   ]
  },
  {
   "cell_type": "code",
   "execution_count": 69,
   "metadata": {},
   "outputs": [],
   "source": [
    "def tag_phases_conf(x):\n",
    "    if x.base.num_phases_max !=2:\n",
    "        raise ValueError('bad tag function')\n",
    "        \n",
    "    L = []\n",
    "    for p in x.phases:\n",
    "        if p.density.values<0.5:\n",
    "            val = 0\n",
    "        else:\n",
    "            val = 1\n",
    "        L.append(val)\n",
    "        \n",
    "    L = np.array(L)\n",
    "    \n",
    "\n",
    "\n",
    "    return L"
   ]
  },
  {
   "cell_type": "code",
   "execution_count": 71,
   "metadata": {},
   "outputs": [],
   "source": [
    "#make up a volume\n",
    "base_conf = lnPi.lnPi.from_table('./PiofN/ljcut.t065.finiteslit.L_20nm.W_4nm.r2.lnpi.dat',mu=-0.500000E+01,volume=7000.,beta=1./0.65000E0,\n",
    "                                num_phases_max=2)\n",
    "\n",
    "lnpi_conf = lnPi.Phases(base_conf,argmax_kwargs=dict(min_distance=[5,10,20,40]),ftag_phases=tag_phases_conf,\n",
    "                                build_kwargs=dict(merge_phaseIDs=True))"
   ]
  },
  {
   "cell_type": "code",
   "execution_count": 42,
   "metadata": {},
   "outputs": [],
   "source": [
    "Cconf = lnPi.Collection.from_mu(lnpi_conf,[None],np.linspace(-6,-5.0,100)) #np.linspace(-8,-5,10)\n",
    "\n",
    "Cconf.get_spinodals()\n",
    "\n",
    "Cconf.get_binodals()\n",
    "Cconf.sort_by_mu(inplace=True)"
   ]
  },
  {
   "cell_type": "code",
   "execution_count": 43,
   "metadata": {},
   "outputs": [
    {
     "data": {
      "text/plain": [
       "(-5.14, -5.09)"
      ]
     },
     "execution_count": 43,
     "metadata": {},
     "output_type": "execute_result"
    },
    {
     "data": {
      "image/png": "[encoded data removed]",
      "text/plain": [
       "<Figure size 432x288 with 1 Axes>"
      ]
     },
     "metadata": {
      "needs_background": "light"
     },
     "output_type": "display_data"
    }
   ],
   "source": [
    "make_omega_vs_mu_phase_plot(Cconf.merge_phases(efac=0.9),Cconf.spinodals,Cconf.binodals[0])\n",
    "\n",
    "\n",
    "ax=plt.gca()\n",
    "ax.set_xlim(-5.14,-5.09)"
   ]
  },
  {
   "cell_type": "code",
   "execution_count": 44,
   "metadata": {},
   "outputs": [
    {
     "name": "stderr",
     "output_type": "stream",
     "text": [
      "/Users/wpk/.conda/envs/py37/lib/python3.7/site-packages/ipykernel_launcher.py:2: FutureWarning: read_table is deprecated, use read_csv instead.\n",
      "  \n"
     ]
    }
   ],
   "source": [
    "df=pd.read_table('./PiofN/ljcut.t065.finiteslit.L_20nm.W_4nm.r2.single_isotherm.txt',sep='\\s+',\n",
    "                 header=None,names=['pscaled','mu','rho','Omega_L','Qst','Gads'])\n"
   ]
  },
  {
   "cell_type": "code",
   "execution_count": 45,
   "metadata": {},
   "outputs": [],
   "source": [
    "#make isotherm"
   ]
  },
  {
   "cell_type": "code",
   "execution_count": 46,
   "metadata": {},
   "outputs": [],
   "source": [
    "a = np.log(np.logspace(np.exp(-10), np.exp(Cconf.spinodals[1].mu[0]), 100))"
   ]
  },
  {
   "cell_type": "code",
   "execution_count": 47,
   "metadata": {},
   "outputs": [
    {
     "data": {
      "text/plain": [
       "array([-10.        ,  -9.81632653,  -9.63265306,  -9.44897959,\n",
       "        -9.26530612,  -9.08163265,  -8.89795918,  -8.71428571,\n",
       "        -8.53061224,  -8.34693878,  -8.16326531,  -7.97959184,\n",
       "        -7.79591837,  -7.6122449 ,  -7.42857143,  -7.24489796,\n",
       "        -7.06122449,  -6.87755102,  -6.69387755,  -6.51020408,\n",
       "        -6.32653061,  -6.14285714,  -5.95918367,  -5.7755102 ,\n",
       "        -5.59183673,  -5.40816327,  -5.2244898 ,  -5.04081633,\n",
       "        -4.85714286,  -4.67346939,  -4.48979592,  -4.30612245,\n",
       "        -4.12244898,  -3.93877551,  -3.75510204,  -3.57142857,\n",
       "        -3.3877551 ,  -3.20408163,  -3.02040816,  -2.83673469,\n",
       "        -2.65306122,  -2.46938776,  -2.28571429,  -2.10204082,\n",
       "        -1.91836735,  -1.73469388,  -1.55102041,  -1.36734694,\n",
       "        -1.18367347,  -1.        ])"
      ]
     },
     "execution_count": 47,
     "metadata": {},
     "output_type": "execute_result"
    }
   ],
   "source": [
    "np.linspace(-10, -1)"
   ]
  },
  {
   "cell_type": "code",
   "execution_count": 48,
   "metadata": {},
   "outputs": [],
   "source": [
    "a = np.log(np.linspace(np.exp(-10), np.exp(Cconf.spinodals[1].mu[0]), 20, endpoint=False))"
   ]
  },
  {
   "cell_type": "code",
   "execution_count": 49,
   "metadata": {},
   "outputs": [],
   "source": [
    "#a = np.linspace(-10,Cconf.spinodals[1].mu[0],200)\n",
    "b = np.linspace(Cconf.spinodals[1].mu[0],Cconf.spinodals[0].mu[0],20)\n",
    "c = np.linspace(Cconf.spinodals[0].mu[0],Cbulk.binodals[0].mu[0],20)\n",
    "mus = np.concatenate((a,b,c))\n",
    "#mus = c"
   ]
  },
  {
   "cell_type": "code",
   "execution_count": 50,
   "metadata": {},
   "outputs": [],
   "source": [
    "Cb = lnPi.core.Collection.from_mu(lnpi_bulk,[None],x=mus)\n",
    "Cc = lnPi.core.Collection.from_mu_iter(lnpi_conf,Cb.mus)"
   ]
  },
  {
   "cell_type": "code",
   "execution_count": 51,
   "metadata": {},
   "outputs": [],
   "source": [
    "P = (-Cb.omega_phase().sel(phase=0) / Cb[0].base.volume / psat)"
   ]
  },
  {
   "cell_type": "code",
   "execution_count": 52,
   "metadata": {
    "scrolled": false
   },
   "outputs": [],
   "source": [
    "rho = Cc.nave_phase"
   ]
  },
  {
   "cell_type": "code",
   "execution_count": 53,
   "metadata": {},
   "outputs": [],
   "source": [
    "iso = rho.to_dataframe().reset_index().merge(P.rename('pressure').to_dataframe().drop('phase', axis=1), on=['mu_0','beta'])"
   ]
  },
  {
   "cell_type": "raw",
   "metadata": {},
   "source": [
    "P = (-Cb.Omegas_phaseIDs().xs(0, level='phase') / Cb[0].base.volume / psat).rename('pressure')\n",
    "rho = Cc.Naves_phaseIDs\n",
    "\n",
    "iso = rho.reset_index().merge(P.reset_index(), on=['beta','mu_0'])"
   ]
  },
  {
   "cell_type": "code",
   "execution_count": 54,
   "metadata": {},
   "outputs": [
    {
     "data": {
      "text/plain": [
       "<matplotlib.axes._subplots.AxesSubplot at 0x1c1f65f438>"
      ]
     },
     "execution_count": 54,
     "metadata": {},
     "output_type": "execute_result"
    },
    {
     "data": {
      "image/png": "[encoded data removed]",
      "text/plain": [
       "<Figure size 720x720 with 1 Axes>"
      ]
     },
     "metadata": {
      "needs_background": "light"
     },
     "output_type": "display_data"
    }
   ],
   "source": [
    "fig,ax = plt.subplots(figsize=(10,10))\n",
    "for phase, g in iso.groupby('phase'):\n",
    "    g.plot('pressure','nave', ax=ax,marker='o', ms=2)\n",
    "\n",
    "iso.query('mu_0==@b[0]').drop_duplicates().plot('pressure','nave', ax=ax, marker='o', ms=2)\n",
    "iso.query('mu_0==@b[-1]').drop_duplicates().plot('pressure','nave', ax=ax, marker='o', ms=2)\n",
    "\n",
    "# plt.plot(df.pscaled,df.rho,'--', marker='o', ms=2)\n",
    "# plt.gca().set_xlim(0,1.0)"
   ]
  },
  {
   "cell_type": "code",
   "execution_count": 55,
   "metadata": {},
   "outputs": [
    {
     "data": {
      "text/plain": [
       "(0.3, 0.5)"
      ]
     },
     "execution_count": 55,
     "metadata": {},
     "output_type": "execute_result"
    },
    {
     "data": {
      "image/png": "[encoded data removed]",
      "text/plain": [
       "<Figure size 720x720 with 1 Axes>"
      ]
     },
     "metadata": {
      "needs_background": "light"
     },
     "output_type": "display_data"
    }
   ],
   "source": [
    "fig,ax = plt.subplots(figsize=(10,10))\n",
    "for phase, g in iso.groupby('phase'):\n",
    "    g.plot('pressure','nave', ax=ax)\n",
    "\n",
    "iso.query('mu_0==@b[0]').drop_duplicates().plot('pressure','nave', ax=ax)\n",
    "iso.query('mu_0==@b[-1]').drop_duplicates().plot('pressure','nave', ax=ax)\n",
    "\n",
    "plt.plot(df.pscaled,df.rho,'--')\n",
    "plt.gca().set_xlim(0.3,0.5)\n",
    "\n"
   ]
  },
  {
   "cell_type": "code",
   "execution_count": 74,
   "metadata": {},
   "outputs": [],
   "source": [
    "# hard one"
   ]
  },
  {
   "cell_type": "code",
   "execution_count": null,
   "metadata": {},
   "outputs": [],
   "source": []
  }
 ],
 "metadata": {
  "kernelspec": {
   "display_name": "Python [conda env:py37]",
   "language": "python",
   "name": "conda-env-py37-py"
  },
  "language_info": {
   "codemirror_mode": {
    "name": "ipython",
    "version": 3
   },
   "file_extension": ".py",
   "mimetype": "text/x-python",
   "name": "python",
   "nbconvert_exporter": "python",
   "pygments_lexer": "ipython3",
   "version": "3.7.3"
  },
  "toc": {
   "base_numbering": 1,
   "nav_menu": {},
   "number_sections": true,
   "sideBar": true,
   "skip_h1_title": false,
   "title_cell": "Table of Contents",
   "title_sidebar": "Contents",
   "toc_cell": false,
   "toc_position": {},
   "toc_section_display": true,
   "toc_window_display": false
  }
 },
 "nbformat": 4,
 "nbformat_minor": 1
}
