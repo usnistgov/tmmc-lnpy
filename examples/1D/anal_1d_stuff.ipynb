{
 "cells": [
  {
   "cell_type": "code",
   "execution_count": 1,
   "metadata": {},
   "outputs": [],
   "source": [
    "%matplotlib inline"
   ]
  },
  {
   "cell_type": "code",
   "execution_count": 2,
   "metadata": {},
   "outputs": [],
   "source": [
    "import matplotlib.pyplot as plt\n",
    "import numpy as np\n",
    "import pandas as pd\n",
    "from importlib import reload"
   ]
  },
  {
   "cell_type": "code",
   "execution_count": 333,
   "metadata": {},
   "outputs": [],
   "source": [
    "#function to tag 'LD' and 'HD' phases\n",
    "def tag_phases(x):\n",
    "    if x.base.num_phases_max !=2:\n",
    "        raise ValueError('bad tag function')\n",
    "        \n",
    "\n",
    "    if x.nphase==1:\n",
    "        if x[0].density.values<0.5:\n",
    "            return np.array([0])\n",
    "        else:\n",
    "            return np.array([1])\n",
    "    \n",
    "    elif x.nphase==2:\n",
    "        return np.argsort(-x.argmax[0])\n",
    "    else:\n",
    "        raise ValueError('bad nphase')\n",
    "    \n",
    "            "
   ]
  },
  {
   "cell_type": "code",
   "execution_count": 774,
   "metadata": {},
   "outputs": [
    {
     "data": {
      "text/plain": [
       "<module 'lnPi' from '/Users/wpk/Documents/python/lnPi/__init__.py'>"
      ]
     },
     "execution_count": 774,
     "metadata": {},
     "output_type": "execute_result"
    }
   ],
   "source": [
    "import lnPi\n",
    "reload(lnPi.spinodal)\n",
    "reload(lnPi)"
   ]
  },
  {
   "cell_type": "markdown",
   "metadata": {},
   "source": [
    "# create a reference lnPi_phases for bulk case"
   ]
  },
  {
   "cell_type": "code",
   "execution_count": 775,
   "metadata": {},
   "outputs": [],
   "source": [
    "# play around\n",
    "data = np.loadtxt('./PiofN/ljsf.t070.bulk.v729.r1.lnpi.dat')\n",
    "\n",
    "lnpi_base = lnPi.lnPi.from_data(data, mu=-8.6160, volume=729., beta=1.0/0.7)\n",
    "\n"
   ]
  },
  {
   "cell_type": "code",
   "execution_count": 776,
   "metadata": {},
   "outputs": [],
   "source": [
    "#from data\n",
    "data = np.loadtxt('./PiofN/ljsf.t070.bulk.v729.r1.lnpi.dat')\n",
    "\n",
    "\n",
    "lnpi_bulk = lnPi.lnPi_phases.from_data(data,mu=-8.6160,volume=729.00,beta=1.0/0.7,\n",
    "                                       num_phases_max=2,                                       \n",
    "                                       argmax_kwargs=dict(min_distance=[5,10,20,40]),\n",
    "                                       ftag_phases=tag_phases)\n",
    "\n",
    "        "
   ]
  },
  {
   "cell_type": "code",
   "execution_count": 777,
   "metadata": {},
   "outputs": [],
   "source": [
    "#from file\n",
    "lnpi_bulk = lnPi.lnPi_phases.from_file('./PiofN/ljsf.t070.bulk.v729.r1.lnpi.dat',\n",
    "                                       mu=-8.6160,volume=729.00,beta=1.0/0.7,\n",
    "                                       num_phases_max=2,                                       \n",
    "                                       argmax_kwargs=dict(min_distance=[5,10,20,40]),\n",
    "                                       ftag_phases=tag_phases)"
   ]
  },
  {
   "cell_type": "code",
   "execution_count": 778,
   "metadata": {},
   "outputs": [],
   "source": [
    "#from matrix 1\n",
    "val = data[:,-1]\n",
    "lnpi_bulk = lnPi.lnPi(data = val,mask=False,num_phases_max=2,mu=-8.6160, volume=729., beta=1./0.7).to_phases(\n",
    "    argmax_kwargs=dict(min_distance=[5,10,20,40]),\n",
    "                                   ftag_phases=tag_phases)"
   ]
  },
  {
   "cell_type": "code",
   "execution_count": 779,
   "metadata": {},
   "outputs": [],
   "source": [
    "#from matrix 2 (better)\n",
    "Z = np.loadtxt('./PiofN/ljsf.t070.bulk.v729.r1.lnpi.dat')[:,-1]\n",
    "#Z is the  'matrix' of lnPis, 1D in this case"
   ]
  },
  {
   "cell_type": "code",
   "execution_count": 780,
   "metadata": {},
   "outputs": [
    {
     "name": "stdout",
     "output_type": "stream",
     "text": [
      "[-20.71351647 -19.80847807 -19.57175377 -19.71562267 -20.12230887\n",
      " -20.72691677 -21.48879027 -22.37998027 -23.37974467 -24.47284277\n",
      " -25.64559777 -26.88790597 -28.19182247 -29.54980747 -30.95593647\n",
      " -32.40447447 -33.89266847 -35.41474047 -36.96769747 -38.54879147]\n"
     ]
    }
   ],
   "source": [
    "print(Z[:20])"
   ]
  },
  {
   "cell_type": "code",
   "execution_count": 781,
   "metadata": {},
   "outputs": [],
   "source": [
    "lnpi_bulk = lnPi.lnPi_phases.from_matrix(Z,mu=-8.6160,volume=729.00,beta=1.0/0.7,\n",
    "                                       num_phases_max=2,                                       \n",
    "                                       argmax_kwargs=dict(min_distance=[5,10,20,40]),\n",
    "                                       ftag_phases=tag_phases)"
   ]
  },
  {
   "cell_type": "markdown",
   "metadata": {},
   "source": [
    "## create a collection"
   ]
  },
  {
   "cell_type": "code",
   "execution_count": 782,
   "metadata": {},
   "outputs": [],
   "source": [
    "#collection of lnpis\n",
    "C = lnPi.lnPi_collection.from_mu(lnpi_bulk,[None],np.linspace(-12,-5,20))"
   ]
  },
  {
   "cell_type": "code",
   "execution_count": 785,
   "metadata": {},
   "outputs": [
    {
     "name": "stdout",
     "output_type": "stream",
     "text": [
      "0\n",
      "1\n"
     ]
    }
   ],
   "source": [
    "#set spinodal/binodal\n",
    "C.get_spinodals()\n",
    "C.get_binodals()\n",
    "#sort by mu\n",
    "C.sort_by_mu(inplace=True)"
   ]
  },
  {
   "cell_type": "code",
   "execution_count": 786,
   "metadata": {},
   "outputs": [
    {
     "name": "stdout",
     "output_type": "stream",
     "text": [
      "lnPi_phases: nphase=2, mu=[-7.46824698]\n",
      "lnPi_phases: nphase=2, mu=[-9.58832717]\n",
      "lnPi_phases: nphase=2, mu=[-8.63733388]\n"
     ]
    }
   ],
   "source": [
    "print(C.spinodals[0]._repr_html_())\n",
    "print(C.spinodals[1]._repr_html_())\n",
    "print(C.binodals[0]._repr_html_())"
   ]
  },
  {
   "cell_type": "code",
   "execution_count": 866,
   "metadata": {},
   "outputs": [],
   "source": [
    "def make_Omega_vs_mu_phase_plot(C,spin=None,bino=None,ax=None,ax_labels=True):\n",
    "    if ax is None:\n",
    "        fig,ax = plt.subplots()\n",
    "        \n",
    "    if spin is None:\n",
    "        spin = C.spinodals\n",
    "\n",
    "    if bino is None:\n",
    "        bino = C.binodals[0]\n",
    "    \n",
    "    for phase, g in C.Omegas_phaseIDs().reset_index().groupby('phase'):\n",
    "        g.plot('mu_0','Omega', ax=ax)\n",
    "    colors = [l.get_color() for l in ax.lines]\n",
    "    \n",
    "        \n",
    "    for phase, (s, c) in enumerate(zip(spin, colors)):\n",
    "        s.Omegas_phaseIDs().xs(phase, level='phase').reset_index().plot('mu_0','Omega', marker='o', color=c, ax=ax)\n",
    "    bino.Omegas_phaseIDs().xs(0, level='phase').reset_index().plot('mu_0','Omega', marker='s', color='k', ax=ax)\n",
    "    \n",
    "\n",
    "\n",
    "    if ax_labels:\n",
    "        ax.set_ylabel(r'$\\Omega^{ex}$')\n",
    "        ax.set_xlabel(r'$\\mu$')\n",
    "    "
   ]
  },
  {
   "cell_type": "code",
   "execution_count": 861,
   "metadata": {},
   "outputs": [
    {
     "name": "stdout",
     "output_type": "stream",
     "text": [
      "0 <lnPi.lnPi_phases object at 0x1c30696748> #1f77b4\n",
      "1 <lnPi.lnPi_phases object at 0x1c30488940> #ff7f0e\n"
     ]
    },
    {
     "data": {
      "image/png": "[encoded data removed]",
      "text/plain": [
       "<Figure size 432x288 with 1 Axes>"
      ]
     },
     "metadata": {
      "needs_background": "light"
     },
     "output_type": "display_data"
    }
   ],
   "source": [
    "#plot\n",
    "make_Omega_vs_mu_phase_plot(C)"
   ]
  },
  {
   "cell_type": "markdown",
   "metadata": {
    "collapsed": true
   },
   "source": [
    "# bulk 065"
   ]
  },
  {
   "cell_type": "code",
   "execution_count": 862,
   "metadata": {},
   "outputs": [],
   "source": [
    "lnpi_bulk = lnPi.lnPi_phases.from_file('./PiofN/ljcut.t065.bulk.v1000.r1.lnpi.dat',mu=-4.453015418106743E+00,\n",
    "                               volume=1000.0E0,num_phases_max=2,beta=1./0.65000E0,ZeroMax=True,fill_value=np.nan,\n",
    "                                      argmax_kwargs=dict(min_distance=[5,10,20,40]),\n",
    "                                ftag_phases=tag_phases)"
   ]
  },
  {
   "cell_type": "code",
   "execution_count": 863,
   "metadata": {},
   "outputs": [
    {
     "name": "stdout",
     "output_type": "stream",
     "text": [
      "0\n",
      "1\n"
     ]
    }
   ],
   "source": [
    "Cbulk = lnPi.lnPi_collection.from_mu(lnpi_bulk,[None],np.linspace(-7,.2,50))\n",
    "Cbulk.get_spinodals()\n",
    "Cbulk.get_binodals()\n",
    "\n",
    "Cbulk.sort_by_mu(inplace=True)"
   ]
  },
  {
   "cell_type": "code",
   "execution_count": 897,
   "metadata": {},
   "outputs": [],
   "source": [
    "psat = (-Cbulk.binodals[0].Omegas_phaseIDs() / Cbulk[0].base.volume).iloc[0]"
   ]
  },
  {
   "cell_type": "code",
   "execution_count": 867,
   "metadata": {},
   "outputs": [
    {
     "data": {
      "image/png": "[encoded data removed]",
      "text/plain": [
       "<Figure size 432x288 with 1 Axes>"
      ]
     },
     "metadata": {
      "needs_background": "light"
     },
     "output_type": "display_data"
    }
   ],
   "source": [
    "make_Omega_vs_mu_phase_plot(Cbulk)"
   ]
  },
  {
   "cell_type": "markdown",
   "metadata": {
    "collapsed": true
   },
   "source": [
    "# confined"
   ]
  },
  {
   "cell_type": "code",
   "execution_count": 868,
   "metadata": {},
   "outputs": [],
   "source": [
    "def tag_phases_conf(x):\n",
    "    if x.base.num_phases_max !=2:\n",
    "        raise ValueError('bad tag function')\n",
    "        \n",
    "    L = []\n",
    "    for p in x.phases:\n",
    "        if p.density.values<0.5:\n",
    "            val = 0\n",
    "        else:\n",
    "            val = 1\n",
    "        L.append(val)\n",
    "        \n",
    "    L = np.array(L)\n",
    "    \n",
    "\n",
    "\n",
    "    return L"
   ]
  },
  {
   "cell_type": "code",
   "execution_count": 869,
   "metadata": {},
   "outputs": [],
   "source": [
    "#make up a volume\n",
    "\n",
    "lnpi_conf = lnPi.lnPi_phases.from_file('./PiofN/ljcut.t065.finiteslit.L_20nm.W_4nm.r2.lnpi.dat',\n",
    "                                mu=-0.500000E+01,volume=7000.,beta=1./0.65000E0,\n",
    "                                num_phases_max=2,ZeroMax=True,fill_value=np.nan,\n",
    "                                      argmax_kwargs=dict(min_distance=[5,10,20,40]),ftag_phases=tag_phases_conf,\n",
    "                                build_kwargs=dict(merge_phaseIDs=True))"
   ]
  },
  {
   "cell_type": "code",
   "execution_count": 870,
   "metadata": {},
   "outputs": [
    {
     "name": "stderr",
     "output_type": "stream",
     "text": [
      "/Users/wpk/Documents/python/lnPi/__init__.py:1632: RuntimeWarning: All-NaN slice encountered\n",
      "  new_row = np.nanmin(Etrans[[idx_kill, idx_keep], :], axis=0)\n"
     ]
    },
    {
     "name": "stdout",
     "output_type": "stream",
     "text": [
      "0\n",
      "1\n"
     ]
    }
   ],
   "source": [
    "Cconf = lnPi.lnPi_collection.from_mu(lnpi_conf,[None],np.linspace(-5.2,-5.0,50)) #np.linspace(-8,-5,10)\n",
    "Cconf.get_spinodals()\n",
    "Cconf.get_binodals()\n",
    "Cconf.sort_by_mu(inplace=True)"
   ]
  },
  {
   "cell_type": "code",
   "execution_count": 872,
   "metadata": {},
   "outputs": [
    {
     "data": {
      "text/plain": [
       "(-5.14, -5.09)"
      ]
     },
     "execution_count": 872,
     "metadata": {},
     "output_type": "execute_result"
    },
    {
     "data": {
      "image/png": "[encoded data removed]",
      "text/plain": [
       "<Figure size 432x288 with 1 Axes>"
      ]
     },
     "metadata": {
      "needs_background": "light"
     },
     "output_type": "display_data"
    }
   ],
   "source": [
    "make_Omega_vs_mu_phase_plot(Cconf.merge_phases(efac=0.9),Cconf.spinodals,Cconf.binodals[0])\n",
    "\n",
    "\n",
    "ax=plt.gca()\n",
    "ax.set_xlim(-5.14,-5.09)"
   ]
  },
  {
   "cell_type": "code",
   "execution_count": 933,
   "metadata": {},
   "outputs": [
    {
     "name": "stderr",
     "output_type": "stream",
     "text": [
      "/Users/wpk/.conda/envs/py37/lib/python3.7/site-packages/ipykernel_launcher.py:2: FutureWarning: read_table is deprecated, use read_csv instead.\n",
      "  \n"
     ]
    }
   ],
   "source": [
    "df=pd.read_table('./PiofN/ljcut.t065.finiteslit.L_20nm.W_4nm.r2.single_isotherm.txt',sep='\\s+',\n",
    "                 header=None,names=['pscaled','mu','rho','Omega_L','Qst','Gads'])\n"
   ]
  },
  {
   "cell_type": "code",
   "execution_count": 934,
   "metadata": {},
   "outputs": [],
   "source": [
    "#make isotherm"
   ]
  },
  {
   "cell_type": "code",
   "execution_count": 1047,
   "metadata": {},
   "outputs": [],
   "source": [
    "a = np.linspace(-20,Cconf.spinodals[1].mu[0],100)\n",
    "b = np.linspace(Cconf.spinodals[1].mu[0],Cconf.spinodals[0].mu[0],100)\n",
    "c = np.linspace(Cconf.spinodals[0].mu[0],Cbulk.binodals[0].mu[0],100)\n",
    "mus = np.concatenate((a,b,c))"
   ]
  },
  {
   "cell_type": "code",
   "execution_count": 1048,
   "metadata": {},
   "outputs": [],
   "source": [
    "Cb = lnPi.lnPi_collection.from_mu(lnpi_bulk,[None],x=mus)\n",
    "Cc = lnPi.lnPi_collection.from_mu_iter(lnpi_conf,Cb.mus)"
   ]
  },
  {
   "cell_type": "code",
   "execution_count": 1053,
   "metadata": {},
   "outputs": [],
   "source": [
    "P = (-Cb.Omegas_phaseIDs().xs(0, level='phase') / Cb[0].base.volume / psat).rename('pressure')\n",
    "rho = Cc.Naves_phaseIDs\n",
    "\n",
    "iso = rho.reset_index().merge(P.reset_index(), on=['beta','mu_0'])"
   ]
  },
  {
   "cell_type": "code",
   "execution_count": 1054,
   "metadata": {},
   "outputs": [
    {
     "data": {
      "text/plain": [
       "(0, 1.0)"
      ]
     },
     "execution_count": 1054,
     "metadata": {},
     "output_type": "execute_result"
    },
    {
     "data": {
      "image/png": "[encoded data removed]",
      "text/plain": [
       "<Figure size 720x720 with 1 Axes>"
      ]
     },
     "metadata": {
      "needs_background": "light"
     },
     "output_type": "display_data"
    }
   ],
   "source": [
    "fig,ax = plt.subplots(figsize=(10,10))\n",
    "for phase, g in iso.groupby('phase'):\n",
    "    g.plot('pressure','Nave', ax=ax)\n",
    "\n",
    "iso.query('mu_0==@b[0]').drop_duplicates().plot('pressure','Nave', ax=ax)\n",
    "iso.query('mu_0==@b[-1]').drop_duplicates().plot('pressure','Nave', ax=ax)\n",
    "\n",
    "plt.plot(df.pscaled,df.rho,'--')\n",
    "plt.gca().set_xlim(0,1.0)\n"
   ]
  },
  {
   "cell_type": "code",
   "execution_count": 1040,
   "metadata": {},
   "outputs": [
    {
     "data": {
      "text/plain": [
       "(0.3, 0.5)"
      ]
     },
     "execution_count": 1040,
     "metadata": {},
     "output_type": "execute_result"
    },
    {
     "data": {
      "image/png": "[encoded data removed]",
      "text/plain": [
       "<Figure size 720x720 with 1 Axes>"
      ]
     },
     "metadata": {
      "needs_background": "light"
     },
     "output_type": "display_data"
    }
   ],
   "source": [
    "fig,ax = plt.subplots(figsize=(10,10))\n",
    "for phase, g in iso.groupby('phase'):\n",
    "    g.plot('pressure','Nave', ax=ax)\n",
    "\n",
    "iso.query('mu_0==@b[0]').drop_duplicates().plot('pressure','Nave', ax=ax)\n",
    "iso.query('mu_0==@b[-1]').drop_duplicates().plot('pressure','Nave', ax=ax)\n",
    "\n",
    "plt.plot(df.pscaled,df.rho,'--')\n",
    "plt.gca().set_xlim(0.3,0.5)\n"
   ]
  }
 ],
 "metadata": {
  "kernelspec": {
   "display_name": "Python [conda env:py37]",
   "language": "python",
   "name": "conda-env-py37-py"
  },
  "language_info": {
   "codemirror_mode": {
    "name": "ipython",
    "version": 3
   },
   "file_extension": ".py",
   "mimetype": "text/x-python",
   "name": "python",
   "nbconvert_exporter": "python",
   "pygments_lexer": "ipython3",
   "version": "3.7.3"
  },
  "toc": {
   "base_numbering": 1,
   "nav_menu": {},
   "number_sections": true,
   "sideBar": true,
   "skip_h1_title": false,
   "title_cell": "Table of Contents",
   "title_sidebar": "Contents",
   "toc_cell": false,
   "toc_position": {},
   "toc_section_display": true,
   "toc_window_display": false
  }
 },
 "nbformat": 4,
 "nbformat_minor": 1
}
