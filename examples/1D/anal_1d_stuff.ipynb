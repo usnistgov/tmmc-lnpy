{
 "cells": [
  {
   "cell_type": "code",
   "execution_count": 1,
   "metadata": {},
   "outputs": [],
   "source": [
    "%matplotlib inline"
   ]
  },
  {
   "cell_type": "code",
   "execution_count": 62,
   "metadata": {},
   "outputs": [],
   "source": [
    "# import functools\n",
    "# def wrap_method(cls, name):\n",
    "#     # This unbound method will be pulled from the superclass.\n",
    "#     wrapped = getattr(cls, name)\n",
    "#     @functools.wraps(wrapped)\n",
    "#     def wrapper(self, *args, **kwargs):\n",
    "#         return self._in(wrapped.__get__(self, cls), *args, **kwargs)\n",
    "#     return wrapper\n",
    "\n",
    "\n",
    "def wrap(k, prop=False):\n",
    "    print('create')\n",
    "    def _get_prop(self):\n",
    "        return [getattr(x, k) for x in self._datas]\n",
    "    if prop:\n",
    "        _get_prop = property(_get_prop)\n",
    "\n",
    "    return _get_prop\n",
    "\n",
    "\n",
    "def wrap_methods(methods, prop=True):\n",
    "    def wrap_methods_inner(cls):\n",
    "        for name in methods:\n",
    "            setattr(cls, name, wrap(name, prop))\n",
    "        return cls\n",
    "    return wrap_methods_inner\n"
   ]
  },
  {
   "cell_type": "code",
   "execution_count": 63,
   "metadata": {},
   "outputs": [
    {
     "name": "stdout",
     "output_type": "stream",
     "text": [
      "create\n",
      "create\n",
      "create\n"
     ]
    }
   ],
   "source": [
    "class data(object):\n",
    "    def __init__(self, a, b, c):\n",
    "        self.a = a\n",
    "        self.b = b\n",
    "        self.c = c\n",
    "\n",
    "@wrap_methods(['a','b'], prop=True)\n",
    "@wrap_methods(['c'], prop=False)\n",
    "class data_list(object):\n",
    "    def __init__(self, datas):\n",
    "        self._datas = datas\n",
    "        \n",
    "#     def _get_prop(self, k):\n",
    "#         return [getattr(x, k) for x in self._datas]\n",
    "        \n",
    "        \n",
    "        \n"
   ]
  },
  {
   "cell_type": "code",
   "execution_count": 64,
   "metadata": {},
   "outputs": [],
   "source": [
    "x = data(1,2,3)\n",
    "y = data(-1,-2,-3)\n",
    "X = data_list([x,y])\n"
   ]
  },
  {
   "cell_type": "code",
   "execution_count": 65,
   "metadata": {},
   "outputs": [
    {
     "data": {
      "text/plain": [
       "[3, -3]"
      ]
     },
     "execution_count": 65,
     "metadata": {},
     "output_type": "execute_result"
    }
   ],
   "source": [
    "X.c()"
   ]
  },
  {
   "cell_type": "code",
   "execution_count": 66,
   "metadata": {},
   "outputs": [],
   "source": [
    "import matplotlib.pyplot as plt\n",
    "import numpy as np\n",
    "import pandas as pd\n",
    "from importlib import reload"
   ]
  },
  {
   "cell_type": "code",
   "execution_count": 67,
   "metadata": {},
   "outputs": [],
   "source": [
    "#function to tag 'LD' and 'HD' phases\n",
    "def tag_phases(x):\n",
    "    if x.base.num_phases_max !=2:\n",
    "        raise ValueError('bad tag function')\n",
    "        \n",
    "\n",
    "    if x.nphase==1:\n",
    "        if x[0].density.values<0.5:\n",
    "            return np.array([0])\n",
    "        else:\n",
    "            return np.array([1])\n",
    "    \n",
    "    elif x.nphase==2:\n",
    "        return np.argsort(-x.argmax[0])\n",
    "    else:\n",
    "        raise ValueError('bad nphase')\n",
    "    \n",
    "            "
   ]
  },
  {
   "cell_type": "markdown",
   "metadata": {},
   "source": [
    "# create a reference lnPi_phases for bulk case"
   ]
  },
  {
   "cell_type": "code",
   "execution_count": 138,
   "metadata": {},
   "outputs": [],
   "source": [
    "import lnPi\n",
    "reload(lnPi.spinodal)\n",
    "reload(lnPi)\n",
    "\n",
    "#from data\n",
    "data = np.loadtxt('./PiofN/ljsf.t070.bulk.v729.r1.lnpi.dat')\n",
    "\n",
    "\n",
    "lnpi_bulk = lnPi.lnPi_phases.from_data(data,mu=-8.6160,volume=729.00,beta=1.0/0.7,\n",
    "                                       num_phases_max=2,                                       \n",
    "                                       argmax_kwargs=dict(min_distance=[5,10,20,40]),\n",
    "                                       ftag_phases=tag_phases)\n",
    "\n",
    "        "
   ]
  },
  {
   "cell_type": "code",
   "execution_count": 201,
   "metadata": {},
   "outputs": [],
   "source": [
    "data = pd.read_csv('./PiofN/ljsf.t070.bulk.v729.r1.lnpi.dat', sep='\\s+', header=None, index_col=False, names=['N_0','lnpi']).set_index('N_0')['lnpi'].to_xarray().values\n",
    "\n",
    "\n",
    "\n",
    "\n",
    "base = lnPi.lnPi(data=data, mu=-8.6160, volume=729.0, beta=1.0/0.7, num_phases_max=2, fill_value=np.nan, mask=False)"
   ]
  },
  {
   "cell_type": "code",
   "execution_count": 202,
   "metadata": {},
   "outputs": [],
   "source": [
    "import xarray as xr"
   ]
  },
  {
   "cell_type": "code",
   "execution_count": 204,
   "metadata": {},
   "outputs": [],
   "source": [
    "pi = xr.DataArray(base.pi.filled(), dims=['N_0'])\n",
    "pi_norm = pi / pi.sum()"
   ]
  },
  {
   "cell_type": "code",
   "execution_count": 211,
   "metadata": {},
   "outputs": [],
   "source": [
    "Nave = (pi_norm * pi_norm.N_0).sum()\n"
   ]
  },
  {
   "cell_type": "code",
   "execution_count": 214,
   "metadata": {},
   "outputs": [
    {
     "data": {
      "text/plain": [
       "<xarray.DataArray 'Nave' (component: 1)>\n",
       "array([598.928013])\n",
       "Coordinates:\n",
       "    mu_0     float64 -8.616\n",
       "    beta     float64 1.429\n",
       "Dimensions without coordinates: component"
      ]
     },
     "execution_count": 214,
     "metadata": {},
     "output_type": "execute_result"
    }
   ],
   "source": [
    "base.Nave"
   ]
  },
  {
   "cell_type": "code",
   "execution_count": 182,
   "metadata": {},
   "outputs": [],
   "source": [
    "base.mask[200:] = np.ma.masked"
   ]
  },
  {
   "cell_type": "code",
   "execution_count": 180,
   "metadata": {},
   "outputs": [],
   "source": [
    "base.mask[200:] = True"
   ]
  },
  {
   "cell_type": "code",
   "execution_count": 185,
   "metadata": {},
   "outputs": [],
   "source": [
    "base[200:] = np.ma.masked"
   ]
  },
  {
   "cell_type": "code",
   "execution_count": 187,
   "metadata": {},
   "outputs": [
    {
     "data": {
      "text/plain": [
       "array([False, False, False, False, False, False, False, False, False,\n",
       "       False, False, False, False, False, False, False, False, False,\n",
       "       False, False, False, False, False, False, False, False, False,\n",
       "       False, False, False, False, False, False, False, False, False,\n",
       "       False, False, False, False, False, False, False, False, False,\n",
       "       False, False, False, False, False, False, False, False, False,\n",
       "       False, False, False, False, False, False, False, False, False,\n",
       "       False, False, False, False, False, False, False, False, False,\n",
       "       False, False, False, False, False, False, False, False, False,\n",
       "       False, False, False, False, False, False, False, False, False,\n",
       "       False, False, False, False, False, False, False, False, False,\n",
       "       False, False, False, False, False, False, False, False, False,\n",
       "       False, False, False, False, False, False, False, False, False,\n",
       "       False, False, False, False, False, False, False, False, False,\n",
       "       False, False, False, False, False, False, False, False, False,\n",
       "       False, False, False, False, False, False, False, False, False,\n",
       "       False, False, False, False, False, False, False, False, False,\n",
       "       False, False, False, False, False, False, False, False, False,\n",
       "       False, False, False, False, False, False, False, False, False,\n",
       "       False, False, False, False, False, False, False, False, False,\n",
       "       False, False, False, False, False, False, False, False, False,\n",
       "       False, False, False, False, False, False, False, False, False,\n",
       "       False, False,  True,  True,  True,  True,  True,  True,  True,\n",
       "        True,  True,  True,  True,  True,  True,  True,  True,  True,\n",
       "        True,  True,  True,  True,  True,  True,  True,  True,  True,\n",
       "        True,  True,  True,  True,  True,  True,  True,  True,  True,\n",
       "        True,  True,  True,  True,  True,  True,  True,  True,  True,\n",
       "        True,  True,  True,  True,  True,  True,  True,  True,  True,\n",
       "        True,  True,  True,  True,  True,  True,  True,  True,  True,\n",
       "        True,  True,  True,  True,  True,  True,  True,  True,  True,\n",
       "        True,  True,  True,  True,  True,  True,  True,  True,  True,\n",
       "        True,  True,  True,  True,  True,  True,  True,  True,  True,\n",
       "        True,  True,  True,  True,  True,  True,  True,  True,  True,\n",
       "        True,  True,  True,  True,  True,  True,  True,  True,  True,\n",
       "        True,  True,  True,  True,  True,  True,  True,  True,  True,\n",
       "        True,  True,  True,  True,  True,  True,  True,  True,  True,\n",
       "        True,  True,  True,  True,  True,  True,  True,  True,  True,\n",
       "        True,  True,  True,  True,  True,  True,  True,  True,  True,\n",
       "        True,  True,  True,  True,  True,  True,  True,  True,  True,\n",
       "        True,  True,  True,  True,  True,  True,  True,  True,  True,\n",
       "        True,  True,  True,  True,  True,  True,  True,  True,  True,\n",
       "        True,  True,  True,  True,  True,  True,  True,  True,  True,\n",
       "        True,  True,  True,  True,  True,  True,  True,  True,  True,\n",
       "        True,  True,  True,  True,  True,  True,  True,  True,  True,\n",
       "        True,  True,  True,  True,  True,  True,  True,  True,  True,\n",
       "        True,  True,  True,  True,  True,  True,  True,  True,  True,\n",
       "        True,  True,  True,  True,  True,  True,  True,  True,  True,\n",
       "        True,  True,  True,  True,  True,  True,  True,  True,  True,\n",
       "        True,  True,  True,  True,  True,  True,  True,  True,  True,\n",
       "        True,  True,  True,  True,  True,  True,  True,  True,  True,\n",
       "        True,  True,  True,  True,  True,  True,  True,  True,  True,\n",
       "        True,  True,  True,  True,  True,  True,  True,  True,  True,\n",
       "        True,  True,  True,  True,  True,  True,  True,  True,  True,\n",
       "        True,  True,  True,  True,  True,  True,  True,  True,  True,\n",
       "        True,  True,  True,  True,  True,  True,  True,  True,  True,\n",
       "        True,  True,  True,  True,  True,  True,  True,  True,  True,\n",
       "        True,  True,  True,  True,  True,  True,  True,  True,  True,\n",
       "        True,  True,  True,  True,  True,  True,  True,  True,  True,\n",
       "        True,  True,  True,  True,  True,  True,  True,  True,  True,\n",
       "        True,  True,  True,  True,  True,  True,  True,  True,  True,\n",
       "        True,  True,  True,  True,  True,  True,  True,  True,  True,\n",
       "        True,  True,  True,  True,  True,  True,  True,  True,  True,\n",
       "        True,  True,  True,  True,  True,  True,  True,  True,  True,\n",
       "        True,  True,  True,  True,  True,  True,  True,  True,  True,\n",
       "        True,  True,  True,  True,  True,  True,  True,  True,  True,\n",
       "        True,  True,  True,  True,  True,  True,  True,  True,  True,\n",
       "        True,  True,  True,  True,  True,  True,  True,  True,  True,\n",
       "        True,  True,  True,  True,  True,  True,  True,  True,  True,\n",
       "        True,  True,  True,  True,  True,  True,  True,  True,  True,\n",
       "        True,  True,  True,  True,  True,  True,  True,  True,  True,\n",
       "        True,  True,  True,  True,  True,  True,  True,  True,  True,\n",
       "        True,  True,  True,  True,  True,  True,  True,  True,  True,\n",
       "        True,  True,  True,  True,  True,  True,  True,  True,  True,\n",
       "        True,  True,  True,  True])"
      ]
     },
     "execution_count": 187,
     "metadata": {},
     "output_type": "execute_result"
    }
   ],
   "source": [
    "base.mask"
   ]
  },
  {
   "cell_type": "code",
   "execution_count": 168,
   "metadata": {},
   "outputs": [],
   "source": [
    "base.fill_value = np.nan"
   ]
  },
  {
   "cell_type": "code",
   "execution_count": 170,
   "metadata": {},
   "outputs": [
    {
     "data": {
      "text/plain": [
       "array([ -18.0616103,  -17.1565719,  -16.9198476,  -17.0637165,\n",
       "        -17.4704027,  -18.0750106,  -18.8368841,  -19.7280741,\n",
       "        -20.7278385,  -21.8209366,  -22.9936916,  -24.2359998,\n",
       "        -25.5399163,  -26.8979013,  -28.3040303,  -29.7525683,\n",
       "        -31.2407623,  -32.7628343,  -34.3157913,  -35.8968853,\n",
       "        -37.5017173,  -39.1293323,  -40.7755303,  -42.4384293,\n",
       "        -44.1166313,  -45.8071703,  -47.5078503,  -49.2168983,\n",
       "        -50.9325973,  -52.6530243,  -54.3759113,  -56.0996473,\n",
       "        -57.8225723,  -59.5419703,  -61.2555133,  -62.9603213,\n",
       "        -64.6550143,  -66.3370813,  -68.0033343,  -69.6528953,\n",
       "        -71.2826143,  -72.8895493,  -74.4720763,  -76.0303163,\n",
       "        -77.5627583,  -79.0689543,  -80.5505103,  -82.0070803,\n",
       "        -83.4392963,  -84.8492033,  -86.2385083,  -87.6078723,\n",
       "        -88.9587353,  -90.2921693,  -91.6093103,  -92.9113743,\n",
       "        -94.1996063,  -95.4726743,  -96.7333803,  -97.9825763,\n",
       "        -99.2204463, -100.4465873, -101.6620763, -102.8678443,\n",
       "       -104.0620123, -105.2475513, -106.4229523, -107.5895803,\n",
       "       -108.7482273, -109.8976753, -111.0385443, -112.1708283,\n",
       "       -113.2964523, -114.4141093, -115.5245463, -116.6253963,\n",
       "       -117.7188263, -118.8040263, -119.8830363, -120.9547263,\n",
       "       -122.0185863, -123.0757563, -124.1263763, -125.1687863,\n",
       "       -126.2045263, -127.2317263, -128.2534963, -129.2684663,\n",
       "       -130.2752863, -131.2750863, -132.2668763, -133.2518463,\n",
       "       -134.2284863, -135.1960263, -136.1546963, -137.1037563,\n",
       "       -138.0458163, -138.9772163, -139.8978063, -140.8108063,\n",
       "       -141.7105763, -142.6024863, -143.4845963, -144.3554663,\n",
       "       -145.2170163, -146.0665863, -146.9073863, -147.7377463,\n",
       "       -148.5599163, -149.3715663, -150.1731863, -150.9654363,\n",
       "       -151.7498163, -152.5241663, -153.2909263, -154.0513663,\n",
       "       -154.8010663, -155.5441963, -156.2808563, -157.0107063,\n",
       "       -157.7355163, -158.4531863, -159.1639463, -159.8705063,\n",
       "       -160.5712263, -161.2666763, -161.9584963, -162.6434463,\n",
       "       -163.3252563, -163.9999963, -164.6712563, -165.3377263,\n",
       "       -166.0000563, -166.6585263, -167.3125563, -167.9623963,\n",
       "       -168.6076963, -169.2509163, -169.8886863, -170.5231263,\n",
       "       -171.1538163, -171.7812763, -172.4055363, -173.0251063,\n",
       "       -173.6425263, -174.2563463, -174.8662463, -175.4743163,\n",
       "       -176.0773463, -176.6776663, -177.2726963, -177.8651663,\n",
       "       -178.4542263, -179.0412963, -179.6252363, -180.2057763,\n",
       "       -180.7831863, -181.3569763, -181.9267863, -182.4952763,\n",
       "       -183.0595063, -183.6191363, -184.1757563, -184.7282163,\n",
       "       -185.2779763, -185.8237563, -186.3659563, -186.9036663,\n",
       "       -187.4373163, -187.9657963, -188.4909163, -189.0115263,\n",
       "       -189.5266463, -190.0350363, -190.5385563, -191.0373963,\n",
       "       -191.5287163, -192.0131863, -192.4910063, -192.9620863,\n",
       "       -193.4258063, -193.8833763, -194.3308363, -194.7711263,\n",
       "       -195.2026863, -195.6233363, -196.0347863, -196.4356763,\n",
       "       -196.8271563, -197.2082063, -197.5785863, -197.9353963,\n",
       "       -198.2800963, -198.6146163, -198.9353563, -199.2430763,\n",
       "       -199.5393763, -199.8209763, -200.0886163, -200.3425563,\n",
       "                nan,          nan,          nan,          nan,\n",
       "                nan,          nan,          nan,          nan,\n",
       "                nan,          nan,          nan,          nan,\n",
       "                nan,          nan,          nan,          nan,\n",
       "                nan,          nan,          nan,          nan,\n",
       "                nan,          nan,          nan,          nan,\n",
       "                nan,          nan,          nan,          nan,\n",
       "                nan,          nan,          nan,          nan,\n",
       "                nan,          nan,          nan,          nan,\n",
       "                nan,          nan,          nan,          nan,\n",
       "                nan,          nan,          nan,          nan,\n",
       "                nan,          nan,          nan,          nan,\n",
       "                nan,          nan,          nan,          nan,\n",
       "                nan,          nan,          nan,          nan,\n",
       "                nan,          nan,          nan,          nan,\n",
       "                nan,          nan,          nan,          nan,\n",
       "                nan,          nan,          nan,          nan,\n",
       "                nan,          nan,          nan,          nan,\n",
       "                nan,          nan,          nan,          nan,\n",
       "                nan,          nan,          nan,          nan,\n",
       "                nan,          nan,          nan,          nan,\n",
       "                nan,          nan,          nan,          nan,\n",
       "                nan,          nan,          nan,          nan,\n",
       "                nan,          nan,          nan,          nan,\n",
       "                nan,          nan,          nan,          nan,\n",
       "                nan,          nan,          nan,          nan,\n",
       "                nan,          nan,          nan,          nan,\n",
       "                nan,          nan,          nan,          nan,\n",
       "                nan,          nan,          nan,          nan,\n",
       "                nan,          nan,          nan,          nan,\n",
       "                nan,          nan,          nan,          nan,\n",
       "                nan,          nan,          nan,          nan,\n",
       "                nan,          nan,          nan,          nan,\n",
       "                nan,          nan,          nan,          nan,\n",
       "                nan,          nan,          nan,          nan,\n",
       "                nan,          nan,          nan,          nan,\n",
       "                nan,          nan,          nan,          nan,\n",
       "                nan,          nan,          nan,          nan,\n",
       "                nan,          nan,          nan,          nan,\n",
       "                nan,          nan,          nan,          nan,\n",
       "                nan,          nan,          nan,          nan,\n",
       "                nan,          nan,          nan,          nan,\n",
       "                nan,          nan,          nan,          nan,\n",
       "                nan,          nan,          nan,          nan,\n",
       "                nan,          nan,          nan,          nan,\n",
       "                nan,          nan,          nan,          nan,\n",
       "                nan,          nan,          nan,          nan,\n",
       "                nan,          nan,          nan,          nan,\n",
       "                nan,          nan,          nan,          nan,\n",
       "                nan,          nan,          nan,          nan,\n",
       "                nan,          nan,          nan,          nan,\n",
       "                nan,          nan,          nan,          nan,\n",
       "                nan,          nan,          nan,          nan,\n",
       "                nan,          nan,          nan,          nan,\n",
       "                nan,          nan,          nan,          nan,\n",
       "                nan,          nan,          nan,          nan,\n",
       "                nan,          nan,          nan,          nan,\n",
       "                nan,          nan,          nan,          nan,\n",
       "                nan,          nan,          nan,          nan,\n",
       "                nan,          nan,          nan,          nan,\n",
       "                nan,          nan,          nan,          nan,\n",
       "                nan,          nan,          nan,          nan,\n",
       "                nan,          nan,          nan,          nan,\n",
       "                nan,          nan,          nan,          nan,\n",
       "                nan,          nan,          nan,          nan,\n",
       "                nan,          nan,          nan,          nan,\n",
       "                nan,          nan,          nan,          nan,\n",
       "                nan,          nan,          nan,          nan,\n",
       "                nan,          nan,          nan,          nan,\n",
       "                nan,          nan,          nan,          nan,\n",
       "                nan,          nan,          nan,          nan,\n",
       "                nan,          nan,          nan,          nan,\n",
       "                nan,          nan,          nan,          nan,\n",
       "                nan,          nan,          nan,          nan,\n",
       "                nan,          nan,          nan,          nan,\n",
       "                nan,          nan,          nan,          nan,\n",
       "                nan,          nan,          nan,          nan,\n",
       "                nan,          nan,          nan,          nan,\n",
       "                nan,          nan,          nan,          nan,\n",
       "                nan,          nan,          nan,          nan,\n",
       "                nan,          nan,          nan,          nan,\n",
       "                nan,          nan,          nan,          nan,\n",
       "                nan,          nan,          nan,          nan,\n",
       "                nan,          nan,          nan,          nan,\n",
       "                nan,          nan,          nan,          nan,\n",
       "                nan,          nan,          nan,          nan,\n",
       "                nan,          nan,          nan,          nan,\n",
       "                nan,          nan,          nan,          nan,\n",
       "                nan,          nan,          nan,          nan,\n",
       "                nan,          nan,          nan,          nan,\n",
       "                nan,          nan,          nan,          nan,\n",
       "                nan,          nan,          nan,          nan,\n",
       "                nan,          nan,          nan,          nan,\n",
       "                nan,          nan,          nan,          nan,\n",
       "                nan,          nan,          nan,          nan,\n",
       "                nan,          nan,          nan,          nan,\n",
       "                nan,          nan,          nan,          nan,\n",
       "                nan,          nan,          nan,          nan,\n",
       "                nan,          nan,          nan,          nan,\n",
       "                nan,          nan,          nan,          nan,\n",
       "                nan,          nan,          nan,          nan,\n",
       "                nan,          nan,          nan,          nan,\n",
       "                nan,          nan,          nan,          nan,\n",
       "                nan,          nan,          nan,          nan,\n",
       "                nan,          nan,          nan,          nan,\n",
       "                nan,          nan,          nan,          nan,\n",
       "                nan,          nan,          nan,          nan,\n",
       "                nan,          nan,          nan,          nan,\n",
       "                nan,          nan,          nan,          nan,\n",
       "                nan,          nan,          nan,          nan,\n",
       "                nan,          nan,          nan,          nan,\n",
       "                nan,          nan,          nan,          nan,\n",
       "                nan,          nan,          nan,          nan,\n",
       "                nan,          nan,          nan,          nan,\n",
       "                nan,          nan,          nan,          nan,\n",
       "                nan])"
      ]
     },
     "execution_count": 170,
     "metadata": {},
     "output_type": "execute_result"
    }
   ],
   "source": [
    "base.filled()"
   ]
  },
  {
   "cell_type": "code",
   "execution_count": null,
   "metadata": {},
   "outputs": [],
   "source": [
    "xr.DataArray(base)"
   ]
  },
  {
   "cell_type": "code",
   "execution_count": 153,
   "metadata": {},
   "outputs": [
    {
     "data": {
      "text/plain": [
       "<xarray.DataArray 'Nave' (component: 1)>\n",
       "array([598.928013])\n",
       "Coordinates:\n",
       "    mu_0     float64 -8.616\n",
       "    beta     float64 1.429\n",
       "Dimensions without coordinates: component"
      ]
     },
     "execution_count": 153,
     "metadata": {},
     "output_type": "execute_result"
    }
   ],
   "source": [
    "base.Nave"
   ]
  },
  {
   "cell_type": "code",
   "execution_count": 129,
   "metadata": {},
   "outputs": [],
   "source": [
    "dims = tuple(['N_{}'.format(i) for i in range(base.ndim)])\n",
    "data = base.data\n",
    "mask = base.mask\n",
    "coords = {}\n",
    "attrs = base._optinfo\n",
    "coords['mask'] = (dims, mask)"
   ]
  },
  {
   "cell_type": "code",
   "execution_count": 131,
   "metadata": {},
   "outputs": [
    {
     "data": {
      "text/plain": [
       "masked_array(data=[-1.80616103e+01, -1.71565719e+01, -1.69198476e+01,\n",
       "                   -1.70637165e+01, -1.74704027e+01, -1.80750106e+01,\n",
       "                   -1.88368841e+01, -1.97280741e+01, -2.07278385e+01,\n",
       "                   -2.18209366e+01, -2.29936916e+01, -2.42359998e+01,\n",
       "                   -2.55399163e+01, -2.68979013e+01, -2.83040303e+01,\n",
       "                   -2.97525683e+01, -3.12407623e+01, -3.27628343e+01,\n",
       "                   -3.43157913e+01, -3.58968853e+01, -3.75017173e+01,\n",
       "                   -3.91293323e+01, -4.07755303e+01, -4.24384293e+01,\n",
       "                   -4.41166313e+01, -4.58071703e+01, -4.75078503e+01,\n",
       "                   -4.92168983e+01, -5.09325973e+01, -5.26530243e+01,\n",
       "                   -5.43759113e+01, -5.60996473e+01, -5.78225723e+01,\n",
       "                   -5.95419703e+01, -6.12555133e+01, -6.29603213e+01,\n",
       "                   -6.46550143e+01, -6.63370813e+01, -6.80033343e+01,\n",
       "                   -6.96528953e+01, -7.12826143e+01, -7.28895493e+01,\n",
       "                   -7.44720763e+01, -7.60303163e+01, -7.75627583e+01,\n",
       "                   -7.90689543e+01, -8.05505103e+01, -8.20070803e+01,\n",
       "                   -8.34392963e+01, -8.48492033e+01, -8.62385083e+01,\n",
       "                   -8.76078723e+01, -8.89587353e+01, -9.02921693e+01,\n",
       "                   -9.16093103e+01, -9.29113743e+01, -9.41996063e+01,\n",
       "                   -9.54726743e+01, -9.67333803e+01, -9.79825763e+01,\n",
       "                   -9.92204463e+01, -1.00446587e+02, -1.01662076e+02,\n",
       "                   -1.02867844e+02, -1.04062012e+02, -1.05247551e+02,\n",
       "                   -1.06422952e+02, -1.07589580e+02, -1.08748227e+02,\n",
       "                   -1.09897675e+02, -1.11038544e+02, -1.12170828e+02,\n",
       "                   -1.13296452e+02, -1.14414109e+02, -1.15524546e+02,\n",
       "                   -1.16625396e+02, -1.17718826e+02, -1.18804026e+02,\n",
       "                   -1.19883036e+02, -1.20954726e+02, -1.22018586e+02,\n",
       "                   -1.23075756e+02, -1.24126376e+02, -1.25168786e+02,\n",
       "                   -1.26204526e+02, -1.27231726e+02, -1.28253496e+02,\n",
       "                   -1.29268466e+02, -1.30275286e+02, -1.31275086e+02,\n",
       "                   -1.32266876e+02, -1.33251846e+02, -1.34228486e+02,\n",
       "                   -1.35196026e+02, -1.36154696e+02, -1.37103756e+02,\n",
       "                   -1.38045816e+02, -1.38977216e+02, -1.39897806e+02,\n",
       "                   -1.40810806e+02, -1.41710576e+02, -1.42602486e+02,\n",
       "                   -1.43484596e+02, -1.44355466e+02, -1.45217016e+02,\n",
       "                   -1.46066586e+02, -1.46907386e+02, -1.47737746e+02,\n",
       "                   -1.48559916e+02, -1.49371566e+02, -1.50173186e+02,\n",
       "                   -1.50965436e+02, -1.51749816e+02, -1.52524166e+02,\n",
       "                   -1.53290926e+02, -1.54051366e+02, -1.54801066e+02,\n",
       "                   -1.55544196e+02, -1.56280856e+02, -1.57010706e+02,\n",
       "                   -1.57735516e+02, -1.58453186e+02, -1.59163946e+02,\n",
       "                   -1.59870506e+02, -1.60571226e+02, -1.61266676e+02,\n",
       "                   -1.61958496e+02, -1.62643446e+02, -1.63325256e+02,\n",
       "                   -1.63999996e+02, -1.64671256e+02, -1.65337726e+02,\n",
       "                   -1.66000056e+02, -1.66658526e+02, -1.67312556e+02,\n",
       "                   -1.67962396e+02, -1.68607696e+02, -1.69250916e+02,\n",
       "                   -1.69888686e+02, -1.70523126e+02, -1.71153816e+02,\n",
       "                   -1.71781276e+02, -1.72405536e+02, -1.73025106e+02,\n",
       "                   -1.73642526e+02, -1.74256346e+02, -1.74866246e+02,\n",
       "                   -1.75474316e+02, -1.76077346e+02, -1.76677666e+02,\n",
       "                   -1.77272696e+02, -1.77865166e+02, -1.78454226e+02,\n",
       "                   -1.79041296e+02, -1.79625236e+02, -1.80205776e+02,\n",
       "                   -1.80783186e+02, -1.81356976e+02, -1.81926786e+02,\n",
       "                   -1.82495276e+02, -1.83059506e+02, -1.83619136e+02,\n",
       "                   -1.84175756e+02, -1.84728216e+02, -1.85277976e+02,\n",
       "                   -1.85823756e+02, -1.86365956e+02, -1.86903666e+02,\n",
       "                   -1.87437316e+02, -1.87965796e+02, -1.88490916e+02,\n",
       "                   -1.89011526e+02, -1.89526646e+02, -1.90035036e+02,\n",
       "                   -1.90538556e+02, -1.91037396e+02, -1.91528716e+02,\n",
       "                   -1.92013186e+02, -1.92491006e+02, -1.92962086e+02,\n",
       "                   -1.93425806e+02, -1.93883376e+02, -1.94330836e+02,\n",
       "                   -1.94771126e+02, -1.95202686e+02, -1.95623336e+02,\n",
       "                   -1.96034786e+02, -1.96435676e+02, -1.96827156e+02,\n",
       "                   -1.97208206e+02, -1.97578586e+02, -1.97935396e+02,\n",
       "                   -1.98280096e+02, -1.98614616e+02, -1.98935356e+02,\n",
       "                   -1.99243076e+02, -1.99539376e+02, -1.99820976e+02,\n",
       "                   -2.00088616e+02, -2.00342556e+02, -2.00581746e+02,\n",
       "                   -2.00806956e+02, -2.01018936e+02, -2.01215906e+02,\n",
       "                   -2.01399196e+02, -2.01568536e+02, -2.01725166e+02,\n",
       "                   -2.01869566e+02, -2.02003406e+02, -2.02123866e+02,\n",
       "                   -2.02235226e+02, -2.02337436e+02, -2.02431976e+02,\n",
       "                   -2.02517826e+02, -2.02596906e+02, -2.02670416e+02,\n",
       "                   -2.02737226e+02, -2.02799186e+02, -2.02856526e+02,\n",
       "                   -2.02909956e+02, -2.02959606e+02, -2.03007626e+02,\n",
       "                   -2.03049596e+02, -2.03089096e+02, -2.03126096e+02,\n",
       "                   -2.03160716e+02, -2.03193016e+02, -2.03223306e+02,\n",
       "                   -2.03250126e+02, -2.03276536e+02, -2.03300686e+02,\n",
       "                   -2.03323326e+02, -2.03342546e+02, -2.03361396e+02,\n",
       "                   -2.03377646e+02, -2.03390916e+02, -2.03406686e+02,\n",
       "                   -2.03419376e+02, -2.03428596e+02, -2.03438716e+02,\n",
       "                   -2.03445606e+02, -2.03453376e+02, -2.03459926e+02,\n",
       "                   -2.03465286e+02, -2.03468966e+02, -2.03472906e+02,\n",
       "                   -2.03476156e+02, -2.03476136e+02, -2.03476566e+02,\n",
       "                   -2.03477686e+02, -2.03476976e+02, -2.03474776e+02,\n",
       "                   -2.03469086e+02, -2.03464876e+02, -2.03459986e+02,\n",
       "                   -2.03455396e+02, -2.03447396e+02, -2.03438016e+02,\n",
       "                   -2.03427066e+02, -2.03417856e+02, -2.03408316e+02,\n",
       "                   -2.03397556e+02, -2.03385306e+02, -2.03374636e+02,\n",
       "                   -2.03362996e+02, -2.03350216e+02, -2.03336156e+02,\n",
       "                   -2.03322106e+02, -2.03309466e+02, -2.03294126e+02,\n",
       "                   -2.03278936e+02, -2.03263186e+02, -2.03246706e+02,\n",
       "                   -2.03227216e+02, -2.03210006e+02, -2.03192656e+02,\n",
       "                   -2.03174566e+02, -2.03155436e+02, -2.03135746e+02,\n",
       "                   -2.03117366e+02, -2.03098746e+02, -2.03079746e+02,\n",
       "                   -2.03059696e+02, -2.03039196e+02, -2.03015865e+02,\n",
       "                   -2.02992749e+02, -2.02971099e+02, -2.02945700e+02,\n",
       "                   -2.02921536e+02, -2.02900399e+02, -2.02877784e+02,\n",
       "                   -2.02854310e+02, -2.02830077e+02, -2.02808486e+02,\n",
       "                   -2.02785154e+02, -2.02762055e+02, -2.02736901e+02,\n",
       "                   -2.02708960e+02, -2.02683955e+02, -2.02654195e+02,\n",
       "                   -2.02627330e+02, -2.02597737e+02, -2.02569718e+02,\n",
       "                   -2.02543802e+02, -2.02518944e+02, -2.02493390e+02,\n",
       "                   -2.02463934e+02, -2.02436402e+02, -2.02405858e+02,\n",
       "                   -2.02375489e+02, -2.02346261e+02, -2.02313823e+02,\n",
       "                   -2.02280779e+02, -2.02249348e+02, -2.02218536e+02,\n",
       "                   -2.02184636e+02, -2.02148617e+02, -2.02112922e+02,\n",
       "                   -2.02077345e+02, -2.02037782e+02, -2.02001657e+02,\n",
       "                   -2.01961655e+02, -2.01923841e+02, -2.01886426e+02,\n",
       "                   -2.01847789e+02, -2.01807341e+02, -2.01766489e+02,\n",
       "                   -2.01725916e+02, -2.01686264e+02, -2.01646326e+02,\n",
       "                   -2.01607185e+02, -2.01565664e+02, -2.01520306e+02,\n",
       "                   -2.01477394e+02, -2.01429469e+02, -2.01384672e+02,\n",
       "                   -2.01336690e+02, -2.01285791e+02, -2.01233593e+02,\n",
       "                   -2.01180020e+02, -2.01124882e+02, -2.01068655e+02,\n",
       "                   -2.01013006e+02, -2.00955027e+02, -2.00891081e+02,\n",
       "                   -2.00826182e+02, -2.00758521e+02, -2.00686951e+02,\n",
       "                   -2.00614516e+02, -2.00534535e+02, -2.00451158e+02,\n",
       "                   -2.00364866e+02, -2.00270544e+02, -2.00170540e+02,\n",
       "                   -2.00062069e+02, -1.99943486e+02, -1.99816249e+02,\n",
       "                   -1.99682727e+02, -1.99536718e+02, -1.99379165e+02,\n",
       "                   -1.99207667e+02, -1.99024128e+02, -1.98823869e+02,\n",
       "                   -1.98609488e+02, -1.98378882e+02, -1.98130666e+02,\n",
       "                   -1.97866590e+02, -1.97586964e+02, -1.97294748e+02,\n",
       "                   -1.96983123e+02, -1.96658797e+02, -1.96319035e+02,\n",
       "                   -1.95969871e+02, -1.95605714e+02, -1.95227640e+02,\n",
       "                   -1.94840470e+02, -1.94442810e+02, -1.94032342e+02,\n",
       "                   -1.93609981e+02, -1.93178580e+02, -1.92738186e+02,\n",
       "                   -1.92287875e+02, -1.91830386e+02, -1.91361976e+02,\n",
       "                   -1.90887124e+02, -1.90403836e+02, -1.89917012e+02,\n",
       "                   -1.89421284e+02, -1.88921056e+02, -1.88416580e+02,\n",
       "                   -1.87905297e+02, -1.87390617e+02, -1.86870684e+02,\n",
       "                   -1.86345728e+02, -1.85813258e+02, -1.85276315e+02,\n",
       "                   -1.84735885e+02, -1.84191825e+02, -1.83643288e+02,\n",
       "                   -1.83091039e+02, -1.82536547e+02, -1.81977836e+02,\n",
       "                   -1.81415453e+02, -1.80849755e+02, -1.80278731e+02,\n",
       "                   -1.79705952e+02, -1.79130364e+02, -1.78549426e+02,\n",
       "                   -1.77967661e+02, -1.77379594e+02, -1.76791269e+02,\n",
       "                   -1.76198034e+02, -1.75602891e+02, -1.75000162e+02,\n",
       "                   -1.74397939e+02, -1.73787896e+02, -1.73182727e+02,\n",
       "                   -1.72569876e+02, -1.71952007e+02, -1.71334756e+02,\n",
       "                   -1.70716661e+02, -1.70088118e+02, -1.69456425e+02,\n",
       "                   -1.68822982e+02, -1.68184324e+02, -1.67547636e+02,\n",
       "                   -1.66905884e+02, -1.66255328e+02, -1.65602845e+02,\n",
       "                   -1.64948577e+02, -1.64292553e+02, -1.63632383e+02,\n",
       "                   -1.62963144e+02, -1.62293540e+02, -1.61612078e+02,\n",
       "                   -1.60930426e+02, -1.60237834e+02, -1.59542220e+02,\n",
       "                   -1.58839969e+02, -1.58131817e+02, -1.57418478e+02,\n",
       "                   -1.56693727e+02, -1.55963543e+02, -1.55227479e+02,\n",
       "                   -1.54490174e+02, -1.53735847e+02, -1.52975410e+02,\n",
       "                   -1.52205882e+02, -1.51429217e+02, -1.50644071e+02,\n",
       "                   -1.49852020e+02, -1.49048611e+02, -1.48233463e+02,\n",
       "                   -1.47408316e+02, -1.46572079e+02, -1.45732142e+02,\n",
       "                   -1.44881933e+02, -1.44026534e+02, -1.43155830e+02,\n",
       "                   -1.42278505e+02, -1.41382368e+02, -1.40486615e+02,\n",
       "                   -1.39580012e+02, -1.38667421e+02, -1.37750084e+02,\n",
       "                   -1.36817356e+02, -1.35875578e+02, -1.34931137e+02,\n",
       "                   -1.33974811e+02, -1.33012047e+02, -1.32052859e+02,\n",
       "                   -1.31077771e+02, -1.30096280e+02, -1.29105433e+02,\n",
       "                   -1.28110869e+02, -1.27110341e+02, -1.26101064e+02,\n",
       "                   -1.25079964e+02, -1.24051623e+02, -1.23023829e+02,\n",
       "                   -1.21979870e+02, -1.20932992e+02, -1.19871629e+02,\n",
       "                   -1.18803095e+02, -1.17728469e+02, -1.16645381e+02,\n",
       "                   -1.15541899e+02, -1.14424251e+02, -1.13298458e+02,\n",
       "                   -1.12155136e+02, -1.10997664e+02, -1.09825541e+02,\n",
       "                   -1.08630648e+02, -1.07412282e+02, -1.06169088e+02,\n",
       "                   -1.04907469e+02, -1.03624727e+02, -1.02311761e+02,\n",
       "                   -1.00982807e+02, -9.96280849e+01, -9.82553999e+01,\n",
       "                   -9.68773599e+01, -9.54793499e+01, -9.40665099e+01,\n",
       "                   -9.26480629e+01, -9.12091929e+01, -8.97717869e+01,\n",
       "                   -8.83258299e+01, -8.68799109e+01, -8.54293209e+01,\n",
       "                   -8.39814039e+01, -8.25321389e+01, -8.10827699e+01,\n",
       "                   -7.96434269e+01, -7.81850469e+01, -7.67447639e+01,\n",
       "                   -7.52992406e+01, -7.38581672e+01, -7.24301240e+01,\n",
       "                   -7.09951847e+01, -6.95649023e+01, -6.81427180e+01,\n",
       "                   -6.67308123e+01, -6.53271963e+01, -6.39238563e+01,\n",
       "                   -6.25314573e+01, -6.11475503e+01, -5.97660323e+01,\n",
       "                   -5.83896473e+01, -5.70280073e+01, -5.56752273e+01,\n",
       "                   -5.43326153e+01, -5.29909993e+01, -5.16704993e+01,\n",
       "                   -5.03534373e+01, -4.90463543e+01, -4.77521183e+01,\n",
       "                   -4.64707013e+01, -4.51874703e+01, -4.39177073e+01,\n",
       "                   -4.26623383e+01, -4.14172273e+01, -4.01735777e+01,\n",
       "                   -3.89527977e+01, -3.77410955e+01, -3.65421562e+01,\n",
       "                   -3.53667070e+01, -3.41990529e+01, -3.30446781e+01,\n",
       "                   -3.19122766e+01, -3.07821429e+01, -2.96732529e+01,\n",
       "                   -2.85827559e+01, -2.75019719e+01, -2.64417589e+01,\n",
       "                   -2.53828949e+01, -2.43406499e+01, -2.33183479e+01,\n",
       "                   -2.23292519e+01, -2.13407729e+01, -2.03739309e+01,\n",
       "                   -1.94288839e+01, -1.84933349e+01, -1.75829349e+01,\n",
       "                   -1.66896501e+01, -1.58145841e+01, -1.49615734e+01,\n",
       "                   -1.41220106e+01, -1.33127577e+01, -1.25383860e+01,\n",
       "                   -1.17767326e+01, -1.10316692e+01, -1.02953799e+01,\n",
       "                   -9.59905003e+00, -8.92018912e+00, -8.26297979e+00,\n",
       "                   -7.62486462e+00, -7.00442912e+00, -6.41373992e+00,\n",
       "                   -5.83737932e+00, -5.30830192e+00, -4.79345702e+00,\n",
       "                   -4.28398872e+00, -3.81492202e+00, -3.37069092e+00,\n",
       "                   -2.94244252e+00, -2.56248602e+00, -2.17916342e+00,\n",
       "                   -1.84963812e+00, -1.53135332e+00, -1.25906172e+00,\n",
       "                   -9.96566518e-01, -7.67654718e-01, -5.68977218e-01,\n",
       "                   -3.86467684e-01, -2.47778685e-01, -1.43775784e-01,\n",
       "                   -6.72785832e-02, -2.20394000e-02,  0.00000000e+00,\n",
       "                   -3.23522000e-02, -6.47182000e-02, -1.47200300e-01,\n",
       "                   -2.49252700e-01, -3.94503900e-01, -5.59837300e-01,\n",
       "                   -7.59544000e-01, -9.71515800e-01, -1.25887900e+00,\n",
       "                   -1.55595340e+00, -1.90051650e+00, -2.29049920e+00,\n",
       "                   -2.70942300e+00, -3.17771930e+00, -3.67165590e+00,\n",
       "                   -4.19721070e+00, -4.77476763e+00, -5.37374519e+00,\n",
       "                   -5.99119944e+00, -6.64633281e+00, -7.36844713e+00,\n",
       "                   -8.10711103e+00, -8.90045023e+00, -9.72793573e+00,\n",
       "                   -1.05921745e+01, -1.15136071e+01, -1.24864947e+01,\n",
       "                   -1.34955878e+01, -1.45233178e+01, -1.55887408e+01,\n",
       "                   -1.67279468e+01, -1.78648178e+01, -1.90727808e+01,\n",
       "                   -2.03338228e+01, -2.16301518e+01, -2.29938328e+01,\n",
       "                   -2.44220498e+01, -2.58651144e+01, -2.73703109e+01,\n",
       "                   -2.89182575e+01, -3.05023956e+01, -3.21565280e+01,\n",
       "                   -3.38443366e+01, -3.55819726e+01, -3.73652496e+01,\n",
       "                   -3.91879426e+01, -4.10723526e+01, -4.29894756e+01,\n",
       "                   -4.49812936e+01, -4.70368466e+01, -4.90892156e+01,\n",
       "                   -5.12386206e+01, -5.34517546e+01, -5.56897386e+01,\n",
       "                   -5.79822776e+01, -6.03119536e+01, -6.26182946e+01,\n",
       "                   -6.51131716e+01, -6.76319536e+01, -7.02287056e+01,\n",
       "                   -7.28473366e+01],\n",
       "             mask=False,\n",
       "       fill_value=1e+20)"
      ]
     },
     "execution_count": 131,
     "metadata": {},
     "output_type": "execute_result"
    }
   ],
   "source": [
    "base"
   ]
  },
  {
   "cell_type": "code",
   "execution_count": 75,
   "metadata": {},
   "outputs": [
    {
     "data": {
      "text/plain": [
       "2"
      ]
     },
     "execution_count": 75,
     "metadata": {},
     "output_type": "execute_result"
    }
   ],
   "source": [
    "lnpi_bulk.phases[0].argmax()"
   ]
  },
  {
   "cell_type": "code",
   "execution_count": 134,
   "metadata": {},
   "outputs": [],
   "source": [
    "#from file\n",
    "lnpi_bulk = lnPi.lnPi_phases.from_file('./PiofN/ljsf.t070.bulk.v729.r1.lnpi.dat',\n",
    "                                       mu=-8.6160,volume=729.00,beta=1.0/0.7,\n",
    "                                       num_phases_max=2,                                       \n",
    "                                       argmax_kwargs=dict(min_distance=[5,10,20,40]),ftag_phases=tag_phases)"
   ]
  },
  {
   "cell_type": "code",
   "execution_count": 137,
   "metadata": {},
   "outputs": [
    {
     "data": {
      "text/plain": [
       "array([False, False, False, False, False, False, False, False, False,\n",
       "       False, False, False, False, False, False, False, False, False,\n",
       "       False, False, False, False, False, False, False, False, False,\n",
       "       False, False, False, False, False, False, False, False, False,\n",
       "       False, False, False, False, False, False, False, False, False,\n",
       "       False, False, False, False, False, False, False, False, False,\n",
       "       False, False, False, False, False, False, False, False, False,\n",
       "       False, False, False, False, False, False, False, False, False,\n",
       "       False, False, False, False, False, False, False, False, False,\n",
       "       False, False, False, False, False, False, False, False, False,\n",
       "       False, False, False, False, False, False, False, False, False,\n",
       "       False, False, False, False, False, False, False, False, False,\n",
       "       False, False, False, False, False, False, False, False, False,\n",
       "       False, False, False, False, False, False, False, False, False,\n",
       "       False, False, False, False, False, False, False, False, False,\n",
       "       False, False, False, False, False, False, False, False, False,\n",
       "       False, False, False, False, False, False, False, False, False,\n",
       "       False, False, False, False, False, False, False, False, False,\n",
       "       False, False, False, False, False, False, False, False, False,\n",
       "       False, False, False, False, False, False, False, False, False,\n",
       "       False, False, False, False, False, False, False, False, False,\n",
       "       False, False, False, False, False, False, False, False, False,\n",
       "       False, False, False, False, False, False, False, False, False,\n",
       "       False, False, False, False, False, False, False, False, False,\n",
       "       False, False, False, False, False, False, False, False, False,\n",
       "       False, False, False, False, False, False, False, False, False,\n",
       "       False, False, False, False, False, False, False, False, False,\n",
       "       False, False, False, False, False, False, False, False, False,\n",
       "       False, False, False, False, False, False, False, False, False,\n",
       "       False, False, False, False, False, False, False, False, False,\n",
       "       False, False, False, False, False, False, False, False, False,\n",
       "       False, False, False, False, False, False, False, False, False,\n",
       "       False, False, False, False, False, False, False, False, False,\n",
       "       False, False, False, False, False, False, False, False, False,\n",
       "       False, False, False, False, False, False, False, False, False,\n",
       "       False, False, False, False, False, False, False, False, False,\n",
       "       False, False, False, False, False, False, False, False, False,\n",
       "       False, False, False, False, False, False, False, False, False,\n",
       "       False, False, False, False, False, False, False, False, False,\n",
       "       False, False, False, False, False, False, False, False, False,\n",
       "       False, False, False, False, False, False, False, False, False,\n",
       "       False, False, False, False, False, False, False, False, False,\n",
       "       False, False, False, False, False, False, False, False, False,\n",
       "       False, False, False, False, False, False, False, False, False,\n",
       "       False, False, False, False, False, False, False, False, False,\n",
       "       False, False, False, False, False, False, False, False, False,\n",
       "       False, False, False, False, False, False, False, False, False,\n",
       "       False, False, False, False, False, False, False, False, False,\n",
       "       False, False, False, False, False, False, False, False, False,\n",
       "       False, False, False, False, False, False, False, False, False,\n",
       "       False, False, False, False, False, False, False, False, False,\n",
       "       False, False, False, False, False, False, False, False, False,\n",
       "       False, False, False, False, False, False, False, False, False,\n",
       "       False, False, False, False, False, False, False, False, False,\n",
       "       False, False, False, False, False, False, False, False, False,\n",
       "       False, False, False, False, False, False, False, False, False,\n",
       "       False, False, False, False, False, False, False, False, False,\n",
       "       False, False, False, False, False, False, False, False, False,\n",
       "       False, False, False, False, False, False, False, False, False,\n",
       "       False, False, False, False, False, False, False, False, False,\n",
       "       False, False, False, False, False, False, False, False, False,\n",
       "       False, False, False, False, False, False, False, False, False,\n",
       "       False, False, False, False, False, False, False, False, False,\n",
       "       False, False, False, False, False, False, False, False, False,\n",
       "       False, False, False, False, False, False, False, False, False,\n",
       "       False, False, False, False, False, False, False, False, False,\n",
       "       False, False, False, False, False, False, False, False, False,\n",
       "       False, False, False, False, False, False, False, False, False,\n",
       "       False, False, False, False, False, False, False, False, False,\n",
       "       False, False, False, False, False, False, False, False, False,\n",
       "       False, False, False, False, False, False, False, False, False,\n",
       "       False, False, False, False, False, False, False, False, False,\n",
       "       False, False, False, False, False, False, False, False, False,\n",
       "       False, False, False, False])"
      ]
     },
     "execution_count": 137,
     "metadata": {},
     "output_type": "execute_result"
    }
   ],
   "source": [
    "lnpi_bulk.base.mask"
   ]
  },
  {
   "cell_type": "code",
   "execution_count": null,
   "metadata": {},
   "outputs": [],
   "source": []
  },
  {
   "cell_type": "code",
   "execution_count": 7,
   "metadata": {},
   "outputs": [],
   "source": [
    "#from matrix 1\n",
    "val = data[:,-1]\n",
    "lnpi_bulk = lnPi.lnPi(data = val,mask=False,num_phases_max=2,mu=-8.6160, volume=729., beta=1./0.7).to_phases(\n",
    "    argmax_kwargs=dict(min_distance=[5,10,20,40]),\n",
    "                                   ftag_phases=tag_phases)"
   ]
  },
  {
   "cell_type": "code",
   "execution_count": 8,
   "metadata": {},
   "outputs": [],
   "source": [
    "#from matrix 2 (better)\n",
    "Z = np.loadtxt('./PiofN/ljsf.t070.bulk.v729.r1.lnpi.dat')[:,-1]\n",
    "#Z is the  'matrix' of lnPis, 1D in this case"
   ]
  },
  {
   "cell_type": "code",
   "execution_count": 9,
   "metadata": {},
   "outputs": [
    {
     "name": "stdout",
     "output_type": "stream",
     "text": [
      "[-20.71351647 -19.80847807 -19.57175377 -19.71562267 -20.12230887\n",
      " -20.72691677 -21.48879027 -22.37998027 -23.37974467 -24.47284277\n",
      " -25.64559777 -26.88790597 -28.19182247 -29.54980747 -30.95593647\n",
      " -32.40447447 -33.89266847 -35.41474047 -36.96769747 -38.54879147]\n"
     ]
    }
   ],
   "source": [
    "print(Z[:20])"
   ]
  },
  {
   "cell_type": "code",
   "execution_count": 10,
   "metadata": {},
   "outputs": [],
   "source": [
    "lnpi_bulk = lnPi.lnPi_phases.from_matrix(Z,mu=-8.6160,volume=729.00,beta=1.0/0.7,\n",
    "                                       num_phases_max=2,                                       \n",
    "                                       argmax_kwargs=dict(min_distance=[5,10,20,40]),\n",
    "                                       ftag_phases=tag_phases)"
   ]
  },
  {
   "cell_type": "markdown",
   "metadata": {},
   "source": [
    "## create a collection"
   ]
  },
  {
   "cell_type": "code",
   "execution_count": 11,
   "metadata": {},
   "outputs": [],
   "source": [
    "import lnPi\n",
    "reload(lnPi.spinodal)\n",
    "reload(lnPi)\n",
    "\n",
    "#from data\n",
    "data = np.loadtxt('./PiofN/ljsf.t070.bulk.v729.r1.lnpi.dat')\n",
    "\n",
    "\n",
    "lnpi_bulk = lnPi.lnPi_phases.from_data(data,mu=-8.6160,volume=729.00,beta=1.0/0.7,\n",
    "                                       num_phases_max=2,                                       \n",
    "                                       argmax_kwargs=dict(min_distance=[5,10,20,40]),\n",
    "                                       ftag_phases=tag_phases)\n",
    "\n",
    "        "
   ]
  },
  {
   "cell_type": "code",
   "execution_count": 12,
   "metadata": {},
   "outputs": [],
   "source": [
    "#collection of lnpis\n",
    "C = lnPi.lnPi_collection.from_mu(lnpi_bulk,[None],np.linspace(-12,-5,20))"
   ]
  },
  {
   "cell_type": "code",
   "execution_count": 14,
   "metadata": {},
   "outputs": [],
   "source": [
    "#set spinodal/binodal\n",
    "C.get_spinodals()\n",
    "C.get_binodals()\n",
    "#sort by mu\n",
    "C.sort_by_mu(inplace=True)"
   ]
  },
  {
   "cell_type": "code",
   "execution_count": 15,
   "metadata": {},
   "outputs": [
    {
     "name": "stdout",
     "output_type": "stream",
     "text": [
      "lnPi_phases: nphase=2, mu=[-7.46824698]\n",
      "lnPi_phases: nphase=2, mu=[-9.58832717]\n",
      "lnPi_phases: nphase=2, mu=[-8.63733388]\n"
     ]
    }
   ],
   "source": [
    "print(C.spinodals[0]._repr_html_())\n",
    "print(C.spinodals[1]._repr_html_())\n",
    "print(C.binodals[0]._repr_html_())"
   ]
  },
  {
   "cell_type": "code",
   "execution_count": null,
   "metadata": {},
   "outputs": [],
   "source": []
  },
  {
   "cell_type": "code",
   "execution_count": 112,
   "metadata": {},
   "outputs": [],
   "source": [
    "def make_Omega_vs_mu_phase_plot(C,spin=None,bino=None,ax=None,ax_labels=True):\n",
    "    if ax is None:\n",
    "        fig,ax = plt.subplots()\n",
    "        \n",
    "    if spin is None:\n",
    "        spin = C.spinodals\n",
    "\n",
    "    if bino is None:\n",
    "        bino = C.binodals[0]\n",
    "    \n",
    "    for phase, g in C.Omega_phase().groupby('phase'):\n",
    "        ax.plot(g.mu_0, g)\n",
    "#     for phase, g in C.Omegas_phaseIDs().reset_index().groupby('phase'):\n",
    "#         g.plot('mu_0','Omega', ax=ax)\n",
    "    colors = [l.get_color() for l in ax.lines]\n",
    "    \n",
    "    for phase, (s, c) in enumerate(zip(spin, colors)):\n",
    "        s.Omega_phase().sel(phase=phase).pipe(lambda x: ax.plot(x.mu_0, x, marker='o', color=c))\n",
    "    \n",
    "    bino.Omega_phase().sel(phase=0).pipe(lambda x: ax.plot(x.mu_0, x, marker='s', color='k'))\n",
    "#     for phase, (s, c) in enumerate(zip(spin, colors)):\n",
    "#         s.Omegas_phaseIDs().xs(phase, level='phase').reset_index().plot('mu_0','Omega', marker='o', color=c, ax=ax)\n",
    "#     bino.Omegas_phaseIDs().xs(0, level='phase').reset_index().plot('mu_0','Omega', marker='s', color='k', ax=ax)\n",
    "    \n",
    "\n",
    "\n",
    "    if ax_labels:\n",
    "        ax.set_ylabel(r'$\\Omega^{ex}$')\n",
    "        ax.set_xlabel(r'$\\mu$')\n",
    "    "
   ]
  },
  {
   "cell_type": "code",
   "execution_count": 113,
   "metadata": {},
   "outputs": [
    {
     "data": {
      "image/png": "[encoded data removed]",
      "text/plain": [
       "<Figure size 432x288 with 1 Axes>"
      ]
     },
     "metadata": {
      "needs_background": "light"
     },
     "output_type": "display_data"
    }
   ],
   "source": [
    "#plot\n",
    "make_Omega_vs_mu_phase_plot(C)"
   ]
  },
  {
   "cell_type": "markdown",
   "metadata": {
    "collapsed": true
   },
   "source": [
    "# bulk 065"
   ]
  },
  {
   "cell_type": "code",
   "execution_count": 114,
   "metadata": {},
   "outputs": [],
   "source": [
    "lnpi_bulk = lnPi.lnPi_phases.from_file('./PiofN/ljcut.t065.bulk.v1000.r1.lnpi.dat',mu=-4.453015418106743E+00,\n",
    "                               volume=1000.0E0,num_phases_max=2,beta=1./0.65000E0,ZeroMax=True,fill_value=np.nan,\n",
    "                                      argmax_kwargs=dict(min_distance=[5,10,20,40]),\n",
    "                                ftag_phases=tag_phases)"
   ]
  },
  {
   "cell_type": "code",
   "execution_count": 115,
   "metadata": {},
   "outputs": [],
   "source": [
    "Cbulk = lnPi.lnPi_collection.from_mu(lnpi_bulk,[None],np.linspace(-7,.2,50))\n",
    "Cbulk.get_spinodals()\n",
    "Cbulk.get_binodals()\n",
    "\n",
    "Cbulk.sort_by_mu(inplace=True)"
   ]
  },
  {
   "cell_type": "code",
   "execution_count": 119,
   "metadata": {},
   "outputs": [
    {
     "data": {
      "text/plain": [
       "1000.0"
      ]
     },
     "execution_count": 119,
     "metadata": {},
     "output_type": "execute_result"
    }
   ],
   "source": [
    "Cbulk[0].base.volume"
   ]
  },
  {
   "cell_type": "code",
   "execution_count": 121,
   "metadata": {},
   "outputs": [],
   "source": [
    "psat = (-Cbulk.binodals[0].Omega_phase().sel(phase=0) / Cbulk[0].base.volume).values"
   ]
  },
  {
   "cell_type": "code",
   "execution_count": 122,
   "metadata": {},
   "outputs": [
    {
     "data": {
      "image/png": "[encoded data removed]",
      "text/plain": [
       "<Figure size 432x288 with 1 Axes>"
      ]
     },
     "metadata": {
      "needs_background": "light"
     },
     "output_type": "display_data"
    }
   ],
   "source": [
    "make_Omega_vs_mu_phase_plot(Cbulk)"
   ]
  },
  {
   "cell_type": "markdown",
   "metadata": {
    "collapsed": true
   },
   "source": [
    "# confined"
   ]
  },
  {
   "cell_type": "code",
   "execution_count": 123,
   "metadata": {},
   "outputs": [],
   "source": [
    "def tag_phases_conf(x):\n",
    "    if x.base.num_phases_max !=2:\n",
    "        raise ValueError('bad tag function')\n",
    "        \n",
    "    L = []\n",
    "    for p in x.phases:\n",
    "        if p.density.values<0.5:\n",
    "            val = 0\n",
    "        else:\n",
    "            val = 1\n",
    "        L.append(val)\n",
    "        \n",
    "    L = np.array(L)\n",
    "    \n",
    "\n",
    "\n",
    "    return L"
   ]
  },
  {
   "cell_type": "code",
   "execution_count": 124,
   "metadata": {},
   "outputs": [],
   "source": [
    "#make up a volume\n",
    "\n",
    "lnpi_conf = lnPi.lnPi_phases.from_file('./PiofN/ljcut.t065.finiteslit.L_20nm.W_4nm.r2.lnpi.dat',\n",
    "                                mu=-0.500000E+01,volume=7000.,beta=1./0.65000E0,\n",
    "                                num_phases_max=2,ZeroMax=True,fill_value=np.nan,\n",
    "                                      argmax_kwargs=dict(min_distance=[5,10,20,40]),ftag_phases=tag_phases_conf,\n",
    "                                build_kwargs=dict(merge_phaseIDs=True))"
   ]
  },
  {
   "cell_type": "code",
   "execution_count": 125,
   "metadata": {},
   "outputs": [
    {
     "name": "stderr",
     "output_type": "stream",
     "text": [
      "/Users/wpk/Documents/python/lnPi/__init__.py:1667: RuntimeWarning: All-NaN slice encountered\n",
      "  new_row = np.nanmin(Etrans[[idx_kill, idx_keep], :], axis=0)\n",
      "/Users/wpk/Documents/python/lnPi/__init__.py:1667: RuntimeWarning: All-NaN slice encountered\n",
      "  new_row = np.nanmin(Etrans[[idx_kill, idx_keep], :], axis=0)\n",
      "/Users/wpk/Documents/python/lnPi/__init__.py:1667: RuntimeWarning: All-NaN slice encountered\n",
      "  new_row = np.nanmin(Etrans[[idx_kill, idx_keep], :], axis=0)\n",
      "/Users/wpk/Documents/python/lnPi/__init__.py:1667: RuntimeWarning: All-NaN slice encountered\n",
      "  new_row = np.nanmin(Etrans[[idx_kill, idx_keep], :], axis=0)\n",
      "/Users/wpk/Documents/python/lnPi/__init__.py:1667: RuntimeWarning: All-NaN slice encountered\n",
      "  new_row = np.nanmin(Etrans[[idx_kill, idx_keep], :], axis=0)\n",
      "/Users/wpk/Documents/python/lnPi/__init__.py:1667: RuntimeWarning: All-NaN slice encountered\n",
      "  new_row = np.nanmin(Etrans[[idx_kill, idx_keep], :], axis=0)\n",
      "/Users/wpk/Documents/python/lnPi/__init__.py:1667: RuntimeWarning: All-NaN slice encountered\n",
      "  new_row = np.nanmin(Etrans[[idx_kill, idx_keep], :], axis=0)\n",
      "/Users/wpk/Documents/python/lnPi/__init__.py:1667: RuntimeWarning: All-NaN slice encountered\n",
      "  new_row = np.nanmin(Etrans[[idx_kill, idx_keep], :], axis=0)\n",
      "/Users/wpk/Documents/python/lnPi/__init__.py:1667: RuntimeWarning: All-NaN slice encountered\n",
      "  new_row = np.nanmin(Etrans[[idx_kill, idx_keep], :], axis=0)\n",
      "/Users/wpk/Documents/python/lnPi/__init__.py:1667: RuntimeWarning: All-NaN slice encountered\n",
      "  new_row = np.nanmin(Etrans[[idx_kill, idx_keep], :], axis=0)\n"
     ]
    }
   ],
   "source": [
    "Cconf = lnPi.lnPi_collection.from_mu(lnpi_conf,[None],np.linspace(-5.2,-5.0,50)) #np.linspace(-8,-5,10)\n",
    "Cconf.get_spinodals()\n",
    "Cconf.get_binodals()\n",
    "Cconf.sort_by_mu(inplace=True)"
   ]
  },
  {
   "cell_type": "code",
   "execution_count": 126,
   "metadata": {},
   "outputs": [
    {
     "data": {
      "text/plain": [
       "(-5.14, -5.09)"
      ]
     },
     "execution_count": 126,
     "metadata": {},
     "output_type": "execute_result"
    },
    {
     "data": {
      "image/png": "[encoded data removed]",
      "text/plain": [
       "<Figure size 432x288 with 1 Axes>"
      ]
     },
     "metadata": {
      "needs_background": "light"
     },
     "output_type": "display_data"
    }
   ],
   "source": [
    "make_Omega_vs_mu_phase_plot(Cconf.merge_phases(efac=0.9),Cconf.spinodals,Cconf.binodals[0])\n",
    "\n",
    "\n",
    "ax=plt.gca()\n",
    "ax.set_xlim(-5.14,-5.09)"
   ]
  },
  {
   "cell_type": "code",
   "execution_count": 127,
   "metadata": {},
   "outputs": [
    {
     "name": "stderr",
     "output_type": "stream",
     "text": [
      "/Users/wpk/.conda/envs/py37/lib/python3.7/site-packages/ipykernel_launcher.py:2: FutureWarning: read_table is deprecated, use read_csv instead.\n",
      "  \n"
     ]
    }
   ],
   "source": [
    "df=pd.read_table('./PiofN/ljcut.t065.finiteslit.L_20nm.W_4nm.r2.single_isotherm.txt',sep='\\s+',\n",
    "                 header=None,names=['pscaled','mu','rho','Omega_L','Qst','Gads'])\n"
   ]
  },
  {
   "cell_type": "code",
   "execution_count": 128,
   "metadata": {},
   "outputs": [],
   "source": [
    "#make isotherm"
   ]
  },
  {
   "cell_type": "code",
   "execution_count": 129,
   "metadata": {},
   "outputs": [],
   "source": [
    "a = np.linspace(-20,Cconf.spinodals[1].mu[0],100)\n",
    "b = np.linspace(Cconf.spinodals[1].mu[0],Cconf.spinodals[0].mu[0],100)\n",
    "c = np.linspace(Cconf.spinodals[0].mu[0],Cbulk.binodals[0].mu[0],100)\n",
    "mus = np.concatenate((a,b,c))"
   ]
  },
  {
   "cell_type": "code",
   "execution_count": 130,
   "metadata": {},
   "outputs": [],
   "source": [
    "Cb = lnPi.lnPi_collection.from_mu(lnpi_bulk,[None],x=mus)\n",
    "Cc = lnPi.lnPi_collection.from_mu_iter(lnpi_conf,Cb.mus)"
   ]
  },
  {
   "cell_type": "code",
   "execution_count": 131,
   "metadata": {},
   "outputs": [],
   "source": [
    "P = (-Cb.Omega_phase().sel(phase=0) / Cb[0].base.volume / psat).rena"
   ]
  },
  {
   "cell_type": "code",
   "execution_count": 135,
   "metadata": {
    "scrolled": false
   },
   "outputs": [],
   "source": [
    "rho = Cc.Nave_phase"
   ]
  },
  {
   "cell_type": "code",
   "execution_count": 139,
   "metadata": {},
   "outputs": [
    {
     "data": {
      "text/html": [
       "<div>\n",
       "<style scoped>\n",
       "    .dataframe tbody tr th:only-of-type {\n",
       "        vertical-align: middle;\n",
       "    }\n",
       "\n",
       "    .dataframe tbody tr th {\n",
       "        vertical-align: top;\n",
       "    }\n",
       "\n",
       "    .dataframe thead th {\n",
       "        text-align: right;\n",
       "    }\n",
       "</style>\n",
       "<table border=\"1\" class=\"dataframe\">\n",
       "  <thead>\n",
       "    <tr style=\"text-align: right;\">\n",
       "      <th></th>\n",
       "      <th>mu_0</th>\n",
       "      <th>beta</th>\n",
       "      <th>Omega</th>\n",
       "    </tr>\n",
       "    <tr>\n",
       "      <th>rec</th>\n",
       "      <th></th>\n",
       "      <th></th>\n",
       "      <th></th>\n",
       "    </tr>\n",
       "  </thead>\n",
       "  <tbody>\n",
       "    <tr>\n",
       "      <th>0</th>\n",
       "      <td>-20.000000</td>\n",
       "      <td>1.538462</td>\n",
       "      <td>4.053063e-11</td>\n",
       "    </tr>\n",
       "    <tr>\n",
       "      <th>1</th>\n",
       "      <td>-19.849873</td>\n",
       "      <td>1.538462</td>\n",
       "      <td>5.106112e-11</td>\n",
       "    </tr>\n",
       "    <tr>\n",
       "      <th>2</th>\n",
       "      <td>-19.699746</td>\n",
       "      <td>1.538462</td>\n",
       "      <td>6.432765e-11</td>\n",
       "    </tr>\n",
       "    <tr>\n",
       "      <th>3</th>\n",
       "      <td>-19.549619</td>\n",
       "      <td>1.538462</td>\n",
       "      <td>8.104093e-11</td>\n",
       "    </tr>\n",
       "    <tr>\n",
       "      <th>4</th>\n",
       "      <td>-19.399492</td>\n",
       "      <td>1.538462</td>\n",
       "      <td>1.020965e-10</td>\n",
       "    </tr>\n",
       "  </tbody>\n",
       "</table>\n",
       "</div>"
      ],
      "text/plain": [
       "          mu_0      beta         Omega\n",
       "rec                                   \n",
       "0   -20.000000  1.538462  4.053063e-11\n",
       "1   -19.849873  1.538462  5.106112e-11\n",
       "2   -19.699746  1.538462  6.432765e-11\n",
       "3   -19.549619  1.538462  8.104093e-11\n",
       "4   -19.399492  1.538462  1.020965e-10"
      ]
     },
     "execution_count": 139,
     "metadata": {},
     "output_type": "execute_result"
    }
   ],
   "source": [
    "P.to_dataframe().drop('phase', axis=1).head()"
   ]
  },
  {
   "cell_type": "code",
   "execution_count": 149,
   "metadata": {},
   "outputs": [],
   "source": [
    "iso = rho.to_dataframe().reset_index().merge(P.rename('pressure').to_dataframe().drop('phase', axis=1), on=['mu_0','beta'])"
   ]
  },
  {
   "cell_type": "raw",
   "metadata": {},
   "source": [
    "P = (-Cb.Omegas_phaseIDs().xs(0, level='phase') / Cb[0].base.volume / psat).rename('pressure')\n",
    "rho = Cc.Naves_phaseIDs\n",
    "\n",
    "iso = rho.reset_index().merge(P.reset_index(), on=['beta','mu_0'])"
   ]
  },
  {
   "cell_type": "code",
   "execution_count": 151,
   "metadata": {},
   "outputs": [
    {
     "data": {
      "text/plain": [
       "(0, 1.0)"
      ]
     },
     "execution_count": 151,
     "metadata": {},
     "output_type": "execute_result"
    },
    {
     "data": {
      "image/png": "[encoded data removed]",
      "text/plain": [
       "<Figure size 720x720 with 1 Axes>"
      ]
     },
     "metadata": {
      "needs_background": "light"
     },
     "output_type": "display_data"
    }
   ],
   "source": [
    "fig,ax = plt.subplots(figsize=(10,10))\n",
    "for phase, g in iso.groupby('phase'):\n",
    "    g.plot('pressure','Nave', ax=ax)\n",
    "\n",
    "iso.query('mu_0==@b[0]').drop_duplicates().plot('pressure','Nave', ax=ax)\n",
    "iso.query('mu_0==@b[-1]').drop_duplicates().plot('pressure','Nave', ax=ax)\n",
    "\n",
    "plt.plot(df.pscaled,df.rho,'--')\n",
    "plt.gca().set_xlim(0,1.0)\n"
   ]
  },
  {
   "cell_type": "code",
   "execution_count": 152,
   "metadata": {},
   "outputs": [
    {
     "data": {
      "text/plain": [
       "(0.3, 0.5)"
      ]
     },
     "execution_count": 152,
     "metadata": {},
     "output_type": "execute_result"
    },
    {
     "data": {
      "image/png": "[encoded data removed]",
      "text/plain": [
       "<Figure size 720x720 with 1 Axes>"
      ]
     },
     "metadata": {
      "needs_background": "light"
     },
     "output_type": "display_data"
    }
   ],
   "source": [
    "fig,ax = plt.subplots(figsize=(10,10))\n",
    "for phase, g in iso.groupby('phase'):\n",
    "    g.plot('pressure','Nave', ax=ax)\n",
    "\n",
    "iso.query('mu_0==@b[0]').drop_duplicates().plot('pressure','Nave', ax=ax)\n",
    "iso.query('mu_0==@b[-1]').drop_duplicates().plot('pressure','Nave', ax=ax)\n",
    "\n",
    "plt.plot(df.pscaled,df.rho,'--')\n",
    "plt.gca().set_xlim(0.3,0.5)\n"
   ]
  }
 ],
 "metadata": {
  "kernelspec": {
   "display_name": "Python [conda env:py37]",
   "language": "python",
   "name": "conda-env-py37-py"
  },
  "language_info": {
   "codemirror_mode": {
    "name": "ipython",
    "version": 3
   },
   "file_extension": ".py",
   "mimetype": "text/x-python",
   "name": "python",
   "nbconvert_exporter": "python",
   "pygments_lexer": "ipython3",
   "version": "3.7.3"
  },
  "toc": {
   "base_numbering": 1,
   "nav_menu": {},
   "number_sections": true,
   "sideBar": true,
   "skip_h1_title": false,
   "title_cell": "Table of Contents",
   "title_sidebar": "Contents",
   "toc_cell": false,
   "toc_position": {},
   "toc_section_display": true,
   "toc_window_display": false
  }
 },
 "nbformat": 4,
 "nbformat_minor": 1
}
