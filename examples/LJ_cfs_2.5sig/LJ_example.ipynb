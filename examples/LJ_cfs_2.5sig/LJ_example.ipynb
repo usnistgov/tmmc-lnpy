{
 "cells": [
  {
   "cell_type": "code",
   "execution_count": 1,
   "metadata": {},
   "outputs": [],
   "source": [
    "%config Completer.use_jedi=False\n",
    "%matplotlib inline\n",
    "\n",
    "import matplotlib.pyplot as plt\n",
    "import numpy as np\n",
    "import pandas as pd\n",
    "import xarray as xr\n",
    "from importlib import reload\n",
    "\n",
    "\n",
    "#import lnPi.old\n",
    "import lnPi\n",
    "import lnPi.stability\n",
    "\n",
    "import lnPi.collectionlnpiutils\n",
    "\n"
   ]
  },
  {
   "cell_type": "code",
   "execution_count": 2,
   "metadata": {},
   "outputs": [],
   "source": [
    "# function to convert from CH3 units to standard units"
   ]
  },
  {
   "cell_type": "code",
   "execution_count": 3,
   "metadata": {},
   "outputs": [],
   "source": [
    "import json\n",
    "kB = 1.3806503E-23 #J/K\n",
    "Na = 6.02214199E23 #1/mol\n",
    "kg = 1.66054E-27 #1/amu\n",
    "hPlanck = 6.62606876E-34 #Js\n",
    "\n",
    "\n",
    "def get_lnz(path):\n",
    "    with open(path) as f:\n",
    "        metadata = json.load(f)\n",
    "\n",
    "    deBroglie = hPlanck/np.sqrt(2. * np.pi * (metadata[\"mass\"]*kg) * kB * (metadata[\"T*\"]*metadata[\"eps_kB\"])) * 1.e10 #ang\n",
    "\n",
    "    mu = metadata['mu*'] + 3. * metadata['T*'] * np.log(metadata[\"sigma\"]/deBroglie)\n",
    "    temp = metadata['T*']\n",
    "\n",
    "    lnz = mu / temp\n",
    "    \n",
    "    return lnz, {'beta': 1.0 / temp, 'volume' : metadata['V*']}\n"
   ]
  },
  {
   "cell_type": "markdown",
   "metadata": {},
   "source": [
    "# Basics"
   ]
  },
  {
   "cell_type": "code",
   "execution_count": 4,
   "metadata": {},
   "outputs": [
    {
     "name": "stdout",
     "output_type": "stream",
     "text": [
      "{'beta': 0.6666666666666666, 'volume': 512.0}\n"
     ]
    }
   ],
   "source": [
    "# get meta data\n",
    "lnz, state_kws = get_lnz('t150.metadata.json')\n",
    "print(state_kws)\n",
    "\n",
    "# read in potential energy\n",
    "pe = pd.read_csv('./ljsf.t150.bulk.v512.r1.energy.dat', header=None, sep='\\s+', names=['n','e'])['e'].values"
   ]
  },
  {
   "cell_type": "raw",
   "metadata": {},
   "source": [
    "# create MaskedlnPi object old style\n",
    "ref = lnPi.MaskedlnPi.from_table('./T_1.50/ljsf.t150.bulk.v512.r1.lnpi.dat', \n",
    "                                 fill_value=np.nan, \n",
    "                                 lnz=lnz,\n",
    "                                 # state_kws needs to be defined if want to calculate some properties\n",
    "                                 # down the road\n",
    "                                 state_kws=state_kws, \n",
    "                                 # extra_kws is where you pass things which will be passed along to\n",
    "                                 # new lnPis, like potential energy\n",
    "                                 extra_kws={'PE':pe})\n",
    "\n",
    "\n",
    "# zero out the max value.\n",
    "# this is not neccessary, but not a bad idea either\n",
    "ref = ref.zeromax()\n",
    "\n",
    "# pad missing values of lnPi\n",
    "# again, not usually needed, but can be important for \n",
    "# multicomponent lnPi's during segmenting\n",
    "ref = ref.pad()\n",
    "\n",
    "# create a phase_creator object.\n",
    "# this provides some \n",
    "# factory functions for reweighting, and segmenting lnPi\n",
    "phase_creator= lnPi.segment.PhaseCreator(nmax=1, nmax_peak=4, ref=ref, \n",
    "                                         merge_kws=dict(efac=0.8), \n",
    "                                         # if want to id phases based on some\n",
    "                                         # callable, then set this.\n",
    "                                         # the callable is passes a list of \n",
    "                                         # MaskedlnPi objects, and should return \n",
    "                                         # a list of phaseid \n",
    "                                         tag_phases=None\n",
    "                                         #tag_phases=tag_phases2\n",
    "                                        )\n",
    "\n",
    "# choose a particular factory method for creating phases\n",
    "build_phases = phase_creator.build_phases_mu([None])"
   ]
  },
  {
   "cell_type": "code",
   "execution_count": 5,
   "metadata": {},
   "outputs": [],
   "source": [
    "# create MaskedlnPi object -> New style\n",
    "ref = lnPi.MaskedlnPiDelayed.from_table('./ljsf.t150.bulk.v512.r1.lnpi.dat', \n",
    "                                 fill_value=np.nan, \n",
    "                                 lnz=lnz,\n",
    "                                 # state_kws needs to be defined if want to calculate some properties\n",
    "                                 # down the road\n",
    "                                 state_kws=state_kws, \n",
    "                                 # extra_kws is where you pass things which will be passed along to\n",
    "                                 # new lnPis, like potential energy\n",
    "                                 extra_kws={'PE':pe})\n",
    "\n",
    "\n",
    "# zero out the max value.\n",
    "# this is not neccessary, but not a bad idea either\n",
    "ref = ref.zeromax()\n",
    "\n",
    "# pad missing values of lnPi\n",
    "# again, not usually needed, but can be important for \n",
    "# multicomponent lnPi's during segmenting\n",
    "ref = ref.pad()\n",
    "\n",
    "# create a phase_creator object.\n",
    "# this provides some \n",
    "# factory functions for reweighting, and segmenting lnPi\n",
    "phase_creator= lnPi.segment.PhaseCreator(nmax=1, nmax_peak=4, ref=ref, \n",
    "                                         merge_kws=dict(efac=0.8), \n",
    "                                         # if want to id phases based on some\n",
    "                                         # callable, then set this.\n",
    "                                         # the callable is passes a list of \n",
    "                                         # MaskedlnPi objects, and should return \n",
    "                                         # a list of phaseid \n",
    "                                         tag_phases=None\n",
    "                                         #tag_phases=tag_phases2\n",
    "                                        )\n",
    "\n",
    "# choose a particular factory method for creating phases\n",
    "build_phases = phase_creator.build_phases_mu([None])"
   ]
  },
  {
   "cell_type": "code",
   "execution_count": 6,
   "metadata": {},
   "outputs": [
    {
     "name": "stderr",
     "output_type": "stream",
     "text": [
      "build: 100%|██████████| 2000/2000 [00:00<00:00, 65370.02it/s]\n"
     ]
    }
   ],
   "source": [
    "# for big builds, take advantage of progress bar, and parallel builds\n",
    "lnzs = np.linspace(-10, 3.5, 2000)\n",
    "\n",
    "# by default, progress bar hides itself after completion.  use context manager to keep it\n",
    "# note that for this example (where only have a single phase), doesn't really make a difference\n",
    "with lnPi.set_options(tqdm_leave=True, joblib_use=False, tqdm_bar='text'):\n",
    "    o = lnPi.CollectionlnPi.from_builder(lnzs, build_phases)"
   ]
  },
  {
   "cell_type": "markdown",
   "metadata": {},
   "source": [
    "# Canoncial properties\n",
    "\n",
    " * Canonical properties are attached to MaskedlnPi objects throught the xcan attribute. \n",
    " * just pick one and go.  Same regardless of lnz choosen"
   ]
  },
  {
   "cell_type": "code",
   "execution_count": 7,
   "metadata": {},
   "outputs": [
    {
     "name": "stdout",
     "output_type": "stream",
     "text": [
      "['PE', 'PE_n', 'S', 'S_n', 'Z', 'betaE', 'betaE_n', 'betaF', 'betaF_n', 'betaOmega', 'betaOmega_n', 'betamu', 'betapV', 'dens', 'ncoords', 'ntot', 'nvec', 'pressure', 'table']\n"
     ]
    }
   ],
   "source": [
    "# available properties\n",
    "print([x for x in dir(ref.xce) if x[0] != '_'] )"
   ]
  },
  {
   "cell_type": "code",
   "execution_count": 8,
   "metadata": {},
   "outputs": [
    {
     "data": {
      "text/html": [
       "<pre>&lt;xarray.DataArray &#x27;betaF&#x27; (n_0: 436)&gt;\n",
       "array([   0.        ,   -6.23817948,  -11.78825896,  -16.93743845,\n",
       "        -21.80391793,  -26.45169741,  -30.92217689,  -35.24305637,\n",
       "        -39.43488586,  -43.51427534,  -47.49263482,  -51.3802843 ,\n",
       "        -55.18540378,  -58.91534327,  -62.57494275,  -66.17037223,\n",
       "        -69.70504171,  -73.18350119,  -76.61015068,  -79.98718016,\n",
       "        -83.31692964,  -86.60257912,  -89.8454786 ,  -93.04802809,\n",
       "        -96.21263757,  -99.34036705, -102.43368653, -105.49306601,\n",
       "       -108.5203955 , -111.51717498, -114.48366446, -117.42170394,\n",
       "       -120.33183342, -123.21554291, -126.07309239, -128.90524187,\n",
       "       -131.71352135, -134.49843083, -137.26048032, -140.0003198 ,\n",
       "       -142.71866928, -145.41596876, -148.09328824, -150.75033773,\n",
       "       -153.38838721, -156.00779669, -158.60911617, -161.19235565,\n",
       "       -163.75846514, -166.30706462, -168.8393841 , -171.35487358,\n",
       "       -173.85522306, -176.33899255, -178.80819203, -181.26244151,\n",
       "       -183.70210099, -186.12725047, -188.53863996, -190.93596944,\n",
       "       -193.32005892, -195.6906584 , -198.04822788, -200.39366737,\n",
       "       -202.72645685, -205.04623633, -207.35395581, -209.64960529,\n",
       "       -211.93391478, -214.20585426, -216.46667374, -218.71597322,\n",
       "       -220.9550527 , -223.18332219, -225.40031167, -227.60704115,\n",
       "       -229.80326063, -231.98917011, -234.1650796 , -236.33078908,\n",
       "       -238.48702856, -240.63264804, -242.76955752, -244.89666701,\n",
       "       -247.01438649, -249.12308597, -251.22361545, -253.31480493,\n",
       "       -255.39595442, -257.4689539 , -259.53255338, -261.58845286,\n",
       "       -263.63558234, -265.67398183, -267.70434131, -269.72650079,\n",
       "       -271.73953027, -273.74440975, -275.74137924, -277.73101872,\n",
       "       -279.7130782 , -281.68591768, -283.65157717, -285.61055665,\n",
       "       -287.56105613, -289.50371561, -291.44049509, -293.36790458,\n",
       "       -295.28846406, -297.20126354, -299.10735302, -301.0055225 ,\n",
       "       -302.89707199, -304.78059147, -306.65821095, -308.52848043,\n",
       "       -310.39206991, -312.2488894 , -314.09815888, -315.94081836,\n",
       "       -317.77650784, -319.60502732, -321.42745681, -323.24229629,\n",
       "       -325.05055577, -326.85194525, -328.64783473, -330.43666422,\n",
       "       -332.2189537 , -333.99419318, -335.76363266, -337.52592214,\n",
       "       -339.28297163, -341.03243111, -342.77390059, -344.50930007,\n",
       "       -346.23929955, -347.96371904, -349.68050852, -351.391878  ,\n",
       "       -353.09613748, -354.79447696, -356.48639645, -358.17182593,\n",
       "       -359.85110541, -361.52350489, -363.19123437, -364.85150386,\n",
       "       -366.50556334, -368.15326282, -369.7945723 , -371.43032178,\n",
       "       -373.05936127, -374.68213075, -376.29940023, -377.91152971,\n",
       "       -379.51631919, -381.11453868, -382.70713816, -384.29292764,\n",
       "       -385.87274712, -387.4464166 , -389.01376609, -390.57371557,\n",
       "       -392.12786505, -393.67576453, -395.21820401, -396.7534535 ,\n",
       "       -398.28227298, -399.80520246, -401.32196194, -402.83313142,\n",
       "       -404.33591091, -405.83388039, -407.32500987, -408.80948935,\n",
       "       -410.28982883, -411.76216832, -413.2288778 , -414.68839728,\n",
       "       -416.14124676, -417.58711624, -419.02756573, -420.46151521,\n",
       "       -421.88893469, -423.30869417, -424.72365365, -426.13137314,\n",
       "       -427.53156262, -428.9252721 , -430.31202158, -431.69230106,\n",
       "       -433.06684655, -434.43431703, -435.79411951, -437.14626999,\n",
       "       -438.49252547, -439.83191996, -441.16547644, -442.49120992,\n",
       "       -443.8104844 , -445.12238188, -446.42774437, -447.72567885,\n",
       "       -449.01659133, -450.30019481, -451.57676529, -452.84530978,\n",
       "       -454.10861026, -455.36379874, -456.61085822, -457.8521547 ,\n",
       "       -459.08419335, -460.30921017, -461.5267044 , -462.73702688,\n",
       "       -463.93941002, -465.1343495 , -466.32124898, -467.50068846,\n",
       "       -468.67257795, -469.83581743, -470.99124691, -472.13908639,\n",
       "       -473.27914587, -474.41150536, -475.53547484, -476.65090432,\n",
       "       -477.7575738 , -478.85616328, -479.94691277, -481.02941225,\n",
       "       -482.10285173, -483.16792121, -484.22480069, -485.27151018,\n",
       "       -486.31005966, -487.34060914, -488.36218862, -489.3746481 ,\n",
       "       -490.37801759, -491.37114707, -492.35609655, -493.33270603,\n",
       "       -494.29881551, -495.256625  , -496.20356248, -497.14221796,\n",
       "       -498.07028944, -498.98923392, -499.89845341, -500.79724889,\n",
       "       -501.68771037, -502.56800185, -503.43803933, -504.29735782,\n",
       "       -505.1462713 , -505.98500378, -506.81301326, -507.63124174,\n",
       "       -508.43793523, -509.23358571, -510.01810219, -510.79351867,\n",
       "       -511.55824115, -512.31122264, -513.05296312, -513.7829116 ,\n",
       "       -514.50164908, -515.20824256, -515.90277205, -516.58655486,\n",
       "       -517.25864269, -517.91838451, -518.56660196, -519.20212144,\n",
       "       -519.82550092, -520.43703041, -521.03551989, -521.62177937,\n",
       "       -522.19448185, -522.75441233, -523.30160782, -523.8371593 ,\n",
       "       -524.35823378, -524.86670726, -525.36164374, -525.84240423,\n",
       "       -526.30877471, -526.76246219, -527.20284967, -527.62902915,\n",
       "       -528.03946064, -528.43713112, -528.8198396 , -529.18765908,\n",
       "       -529.54183056, -529.88106605, -530.20396253, -530.51238801,\n",
       "       -530.80592949, -531.08371097, -531.34402246, -531.59007194,\n",
       "       -531.81947142, -532.0339649 , -532.23124838, -532.41133487,\n",
       "       -532.57616968, -532.7246289 , -532.85494593, -532.96921051,\n",
       "       -533.06668603, -533.14734751, -533.209333  , -533.25425448,\n",
       "       -533.28246996, -533.29139944, -533.28223592, -533.25404641,\n",
       "       -533.20760489, -533.14317637, -533.06039485, -532.95814033,\n",
       "       -532.83519882, -532.6913853 , -532.52889878, -532.34919526,\n",
       "       -532.14997674, -531.93004723, -531.68931571, -531.42544919,\n",
       "       -531.14026167, -530.83567415, -530.50859564, -530.16165712,\n",
       "       -529.7913516 , -529.39998108, -528.98783156, -528.55440505,\n",
       "       -528.09858311, -527.61973613, -527.11742706, -526.59291244,\n",
       "       -526.04535216, -525.47322864, -524.87885212, -524.2605786 ,\n",
       "       -523.61590508, -522.94821557, -522.25653805, -521.53982053,\n",
       "       -520.79893701, -520.03159049, -519.23951598, -518.42090546,\n",
       "       -517.57634594, -516.70443742, -515.8063279 , -514.88603639,\n",
       "       -513.93637587, -512.95905135, -511.95257783, -510.91577731,\n",
       "       -509.8561921 , -508.76502588, -507.64792636, -506.49973331,\n",
       "       -505.32308209, -504.11578421, -502.88146288, -501.61907936,\n",
       "       -500.32342584, -498.99915233, -497.64648581, -496.25981229,\n",
       "       -494.84338477, -493.39481425, -491.91429574, -490.39921822,\n",
       "       -488.8508627 , -487.27222118, -485.66168466, -484.01847615,\n",
       "       -482.34284843, -480.63193791, -478.89023839, -477.11274027,\n",
       "       -475.29930056, -473.44842984, -471.56710749, -469.6462433 ,\n",
       "       -467.68825729, -465.6964695 , -463.66638676, -461.59751234,\n",
       "       -459.49117603, -457.35434961, -455.17433569, -452.95667897,\n",
       "       -450.70189785, -448.40261144, -446.07120492, -443.6974159 ,\n",
       "       -441.28684118, -438.83551406, -436.34514405, -433.80612803,\n",
       "       -431.23135871, -428.61769449, -425.95531147, -423.25743386,\n",
       "       -420.51563787, -417.72985682, -414.90105215, -412.03128963,\n",
       "       -409.12353928, -406.16320457, -403.15736475, -400.10615663,\n",
       "       -397.01065581, -393.87252309, -390.68368018, -387.44808786,\n",
       "       -384.16527904, -380.83505572, -377.4540159 , -374.02668999,\n",
       "       -370.54602357, -367.02674195, -363.45618333, -359.83096831,\n",
       "       -356.1615208 , -352.43810628, -348.66757176, -344.83638224])\n",
       "Coordinates:\n",
       "    beta     float64 0.6667\n",
       "    volume   float64 512.0\n",
       "  * n_0      (n_0) int64 0 1 2 3 4 5 6 7 8 ... 428 429 430 431 432 433 434 435\n",
       "Attributes:\n",
       "    dims_n:         [&#x27;n_0&#x27;]\n",
       "    dims_lnz:       [&#x27;lnz_0&#x27;]\n",
       "    dims_comp:      [&#x27;component&#x27;]\n",
       "    dims_state:     [&#x27;lnz_0&#x27;, &#x27;beta&#x27;, &#x27;volume&#x27;]\n",
       "    dims_rec:       []\n",
       "    standard_name:  helmholtz_free_energy\n",
       "    long_name:      $\\beta F({\\bf n},V,T)$</pre>"
      ],
      "text/plain": [
       "<xarray.DataArray 'betaF' (n_0: 436)>\n",
       "array([   0.        ,   -6.23817948,  -11.78825896,  -16.93743845,\n",
       "        -21.80391793,  -26.45169741,  -30.92217689,  -35.24305637,\n",
       "        -39.43488586,  -43.51427534,  -47.49263482,  -51.3802843 ,\n",
       "        -55.18540378,  -58.91534327,  -62.57494275,  -66.17037223,\n",
       "        -69.70504171,  -73.18350119,  -76.61015068,  -79.98718016,\n",
       "        -83.31692964,  -86.60257912,  -89.8454786 ,  -93.04802809,\n",
       "        -96.21263757,  -99.34036705, -102.43368653, -105.49306601,\n",
       "       -108.5203955 , -111.51717498, -114.48366446, -117.42170394,\n",
       "       -120.33183342, -123.21554291, -126.07309239, -128.90524187,\n",
       "       -131.71352135, -134.49843083, -137.26048032, -140.0003198 ,\n",
       "       -142.71866928, -145.41596876, -148.09328824, -150.75033773,\n",
       "       -153.38838721, -156.00779669, -158.60911617, -161.19235565,\n",
       "       -163.75846514, -166.30706462, -168.8393841 , -171.35487358,\n",
       "       -173.85522306, -176.33899255, -178.80819203, -181.26244151,\n",
       "       -183.70210099, -186.12725047, -188.53863996, -190.93596944,\n",
       "       -193.32005892, -195.6906584 , -198.04822788, -200.39366737,\n",
       "       -202.72645685, -205.04623633, -207.35395581, -209.64960529,\n",
       "       -211.93391478, -214.20585426, -216.46667374, -218.71597322,\n",
       "       -220.9550527 , -223.18332219, -225.40031167, -227.60704115,\n",
       "       -229.80326063, -231.98917011, -234.1650796 , -236.33078908,\n",
       "       -238.48702856, -240.63264804, -242.76955752, -244.89666701,\n",
       "       -247.01438649, -249.12308597, -251.22361545, -253.31480493,\n",
       "       -255.39595442, -257.4689539 , -259.53255338, -261.58845286,\n",
       "       -263.63558234, -265.67398183, -267.70434131, -269.72650079,\n",
       "       -271.73953027, -273.74440975, -275.74137924, -277.73101872,\n",
       "       -279.7130782 , -281.68591768, -283.65157717, -285.61055665,\n",
       "       -287.56105613, -289.50371561, -291.44049509, -293.36790458,\n",
       "       -295.28846406, -297.20126354, -299.10735302, -301.0055225 ,\n",
       "       -302.89707199, -304.78059147, -306.65821095, -308.52848043,\n",
       "       -310.39206991, -312.2488894 , -314.09815888, -315.94081836,\n",
       "       -317.77650784, -319.60502732, -321.42745681, -323.24229629,\n",
       "       -325.05055577, -326.85194525, -328.64783473, -330.43666422,\n",
       "       -332.2189537 , -333.99419318, -335.76363266, -337.52592214,\n",
       "       -339.28297163, -341.03243111, -342.77390059, -344.50930007,\n",
       "       -346.23929955, -347.96371904, -349.68050852, -351.391878  ,\n",
       "       -353.09613748, -354.79447696, -356.48639645, -358.17182593,\n",
       "       -359.85110541, -361.52350489, -363.19123437, -364.85150386,\n",
       "       -366.50556334, -368.15326282, -369.7945723 , -371.43032178,\n",
       "       -373.05936127, -374.68213075, -376.29940023, -377.91152971,\n",
       "       -379.51631919, -381.11453868, -382.70713816, -384.29292764,\n",
       "       -385.87274712, -387.4464166 , -389.01376609, -390.57371557,\n",
       "       -392.12786505, -393.67576453, -395.21820401, -396.7534535 ,\n",
       "       -398.28227298, -399.80520246, -401.32196194, -402.83313142,\n",
       "       -404.33591091, -405.83388039, -407.32500987, -408.80948935,\n",
       "       -410.28982883, -411.76216832, -413.2288778 , -414.68839728,\n",
       "       -416.14124676, -417.58711624, -419.02756573, -420.46151521,\n",
       "       -421.88893469, -423.30869417, -424.72365365, -426.13137314,\n",
       "       -427.53156262, -428.9252721 , -430.31202158, -431.69230106,\n",
       "       -433.06684655, -434.43431703, -435.79411951, -437.14626999,\n",
       "       -438.49252547, -439.83191996, -441.16547644, -442.49120992,\n",
       "       -443.8104844 , -445.12238188, -446.42774437, -447.72567885,\n",
       "       -449.01659133, -450.30019481, -451.57676529, -452.84530978,\n",
       "       -454.10861026, -455.36379874, -456.61085822, -457.8521547 ,\n",
       "       -459.08419335, -460.30921017, -461.5267044 , -462.73702688,\n",
       "       -463.93941002, -465.1343495 , -466.32124898, -467.50068846,\n",
       "       -468.67257795, -469.83581743, -470.99124691, -472.13908639,\n",
       "       -473.27914587, -474.41150536, -475.53547484, -476.65090432,\n",
       "       -477.7575738 , -478.85616328, -479.94691277, -481.02941225,\n",
       "       -482.10285173, -483.16792121, -484.22480069, -485.27151018,\n",
       "       -486.31005966, -487.34060914, -488.36218862, -489.3746481 ,\n",
       "       -490.37801759, -491.37114707, -492.35609655, -493.33270603,\n",
       "       -494.29881551, -495.256625  , -496.20356248, -497.14221796,\n",
       "       -498.07028944, -498.98923392, -499.89845341, -500.79724889,\n",
       "       -501.68771037, -502.56800185, -503.43803933, -504.29735782,\n",
       "       -505.1462713 , -505.98500378, -506.81301326, -507.63124174,\n",
       "       -508.43793523, -509.23358571, -510.01810219, -510.79351867,\n",
       "       -511.55824115, -512.31122264, -513.05296312, -513.7829116 ,\n",
       "       -514.50164908, -515.20824256, -515.90277205, -516.58655486,\n",
       "       -517.25864269, -517.91838451, -518.56660196, -519.20212144,\n",
       "       -519.82550092, -520.43703041, -521.03551989, -521.62177937,\n",
       "       -522.19448185, -522.75441233, -523.30160782, -523.8371593 ,\n",
       "       -524.35823378, -524.86670726, -525.36164374, -525.84240423,\n",
       "       -526.30877471, -526.76246219, -527.20284967, -527.62902915,\n",
       "       -528.03946064, -528.43713112, -528.8198396 , -529.18765908,\n",
       "       -529.54183056, -529.88106605, -530.20396253, -530.51238801,\n",
       "       -530.80592949, -531.08371097, -531.34402246, -531.59007194,\n",
       "       -531.81947142, -532.0339649 , -532.23124838, -532.41133487,\n",
       "       -532.57616968, -532.7246289 , -532.85494593, -532.96921051,\n",
       "       -533.06668603, -533.14734751, -533.209333  , -533.25425448,\n",
       "       -533.28246996, -533.29139944, -533.28223592, -533.25404641,\n",
       "       -533.20760489, -533.14317637, -533.06039485, -532.95814033,\n",
       "       -532.83519882, -532.6913853 , -532.52889878, -532.34919526,\n",
       "       -532.14997674, -531.93004723, -531.68931571, -531.42544919,\n",
       "       -531.14026167, -530.83567415, -530.50859564, -530.16165712,\n",
       "       -529.7913516 , -529.39998108, -528.98783156, -528.55440505,\n",
       "       -528.09858311, -527.61973613, -527.11742706, -526.59291244,\n",
       "       -526.04535216, -525.47322864, -524.87885212, -524.2605786 ,\n",
       "       -523.61590508, -522.94821557, -522.25653805, -521.53982053,\n",
       "       -520.79893701, -520.03159049, -519.23951598, -518.42090546,\n",
       "       -517.57634594, -516.70443742, -515.8063279 , -514.88603639,\n",
       "       -513.93637587, -512.95905135, -511.95257783, -510.91577731,\n",
       "       -509.8561921 , -508.76502588, -507.64792636, -506.49973331,\n",
       "       -505.32308209, -504.11578421, -502.88146288, -501.61907936,\n",
       "       -500.32342584, -498.99915233, -497.64648581, -496.25981229,\n",
       "       -494.84338477, -493.39481425, -491.91429574, -490.39921822,\n",
       "       -488.8508627 , -487.27222118, -485.66168466, -484.01847615,\n",
       "       -482.34284843, -480.63193791, -478.89023839, -477.11274027,\n",
       "       -475.29930056, -473.44842984, -471.56710749, -469.6462433 ,\n",
       "       -467.68825729, -465.6964695 , -463.66638676, -461.59751234,\n",
       "       -459.49117603, -457.35434961, -455.17433569, -452.95667897,\n",
       "       -450.70189785, -448.40261144, -446.07120492, -443.6974159 ,\n",
       "       -441.28684118, -438.83551406, -436.34514405, -433.80612803,\n",
       "       -431.23135871, -428.61769449, -425.95531147, -423.25743386,\n",
       "       -420.51563787, -417.72985682, -414.90105215, -412.03128963,\n",
       "       -409.12353928, -406.16320457, -403.15736475, -400.10615663,\n",
       "       -397.01065581, -393.87252309, -390.68368018, -387.44808786,\n",
       "       -384.16527904, -380.83505572, -377.4540159 , -374.02668999,\n",
       "       -370.54602357, -367.02674195, -363.45618333, -359.83096831,\n",
       "       -356.1615208 , -352.43810628, -348.66757176, -344.83638224])\n",
       "Coordinates:\n",
       "    beta     float64 0.6667\n",
       "    volume   float64 512.0\n",
       "  * n_0      (n_0) int64 0 1 2 3 4 5 6 7 8 ... 428 429 430 431 432 433 434 435\n",
       "Attributes:\n",
       "    dims_n:         ['n_0']\n",
       "    dims_lnz:       ['lnz_0']\n",
       "    dims_comp:      ['component']\n",
       "    dims_state:     ['lnz_0', 'beta', 'volume']\n",
       "    dims_rec:       []\n",
       "    standard_name:  helmholtz_free_energy\n",
       "    long_name:      $\\beta F({\\bf n},V,T)$"
      ]
     },
     "execution_count": 8,
     "metadata": {},
     "output_type": "execute_result"
    }
   ],
   "source": [
    "ref.xce.betaF()"
   ]
  },
  {
   "cell_type": "code",
   "execution_count": 9,
   "metadata": {},
   "outputs": [
    {
     "data": {
      "text/html": [
       "<pre>&lt;xarray.Dataset&gt;\n",
       "Dimensions:  (component: 1, n_0: 436)\n",
       "Coordinates:\n",
       "  * n_0      (n_0) int64 0 1 2 3 4 5 6 7 8 ... 428 429 430 431 432 433 434 435\n",
       "    beta     float64 0.6667\n",
       "    volume   float64 512.0\n",
       "Dimensions without coordinates: component\n",
       "Data variables:\n",
       "    PE       (n_0) float64 4.246e-10 4.247e-10 ... -1.649e+03 -1.654e+03\n",
       "    betamu   (component, n_0) float64 -6.238 -5.894 -5.35 ... 3.747 3.801 3.831\n",
       "    betapV   (n_0) float64 -0.0 0.344 1.089 ... 1.975e+03 1.998e+03 2.011e+03\n",
       "    PE_n     (n_0) float64 inf 4.247e-10 -0.01052 ... -3.795 -3.799 -3.803\n",
       "    betaF_n  (n_0) float64 nan -6.238 -5.894 -5.646 ... -0.8139 -0.8034 -0.7927</pre>"
      ],
      "text/plain": [
       "<xarray.Dataset>\n",
       "Dimensions:  (component: 1, n_0: 436)\n",
       "Coordinates:\n",
       "  * n_0      (n_0) int64 0 1 2 3 4 5 6 7 8 ... 428 429 430 431 432 433 434 435\n",
       "    beta     float64 0.6667\n",
       "    volume   float64 512.0\n",
       "Dimensions without coordinates: component\n",
       "Data variables:\n",
       "    PE       (n_0) float64 4.246e-10 4.247e-10 ... -1.649e+03 -1.654e+03\n",
       "    betamu   (component, n_0) float64 -6.238 -5.894 -5.35 ... 3.747 3.801 3.831\n",
       "    betapV   (n_0) float64 -0.0 0.344 1.089 ... 1.975e+03 1.998e+03 2.011e+03\n",
       "    PE_n     (n_0) float64 inf 4.247e-10 -0.01052 ... -3.795 -3.799 -3.803\n",
       "    betaF_n  (n_0) float64 nan -6.238 -5.894 -5.646 ... -0.8139 -0.8034 -0.7927"
      ]
     },
     "execution_count": 9,
     "metadata": {},
     "output_type": "execute_result"
    }
   ],
   "source": [
    "# table of properties\n",
    "ref.xce.table(keys=['PE'], \n",
    "              # has default keys which can be set with\n",
    "              # default_keys=[...]\n",
    "             )"
   ]
  },
  {
   "cell_type": "markdown",
   "metadata": {},
   "source": [
    "# Collection of lnPi's"
   ]
  },
  {
   "cell_type": "code",
   "execution_count": 10,
   "metadata": {},
   "outputs": [
    {
     "name": "stderr",
     "output_type": "stream",
     "text": [
      "build: 100%|██████████| 2000/2000 [00:00<00:00, 70731.45it/s]\n"
     ]
    }
   ],
   "source": [
    "# for big builds, take advantage of progress bar, and parallel builds\n",
    "lnzs = np.linspace(-10, 3.5, 2000)\n",
    "\n",
    "# by default, progress bar hides itself after completion.  use context manager to keep it\n",
    "# note that for this example (where only have a single phase), doesn't really make a difference\n",
    "with lnPi.set_options(tqdm_leave=True, joblib_use=False, tqdm_bar='text'):\n",
    "    o = lnPi.CollectionlnPi.from_builder(lnzs, build_phases)"
   ]
  },
  {
   "cell_type": "markdown",
   "metadata": {},
   "source": [
    "# grand canonical properties\n",
    "\n",
    "* Grand canonical properties are attached to CollectionlnPi objects. \n",
    "* Behind the scense, are master xarray.DataArray of lnPi's is created (x.xgce.lnpi).  This is not cached\n",
    "* Pi(N) (attribute x.xgce.pi_norm) is cached for fast future calculations\n",
    "* So the time consuming parti is creation of Pi(N), but further calcs are very fast"
   ]
  },
  {
   "cell_type": "code",
   "execution_count": 11,
   "metadata": {},
   "outputs": [
    {
     "name": "stdout",
     "output_type": "stream",
     "text": [
      "['PE', 'PE_n', 'S', 'S_n', 'Z', 'argmax', 'beta', 'betaE', 'betaE_n', 'betaF', 'betaF_alt', 'betaF_n', 'betaG', 'betaG_n', 'betaOmega', 'betaOmega_n', 'betamu', 'betapV', 'coords_state', 'dens', 'dens_tot', 'dims_comp', 'dims_lnz', 'dims_n', 'dims_rec', 'dims_state', 'edge_distance', 'lnpi', 'lnpi_norm', 'lnz', 'mask_stable', 'max', 'mean_pi', 'molfrac', 'ncoords', 'ncoords_tot', 'ntot', 'ntot_var', 'nvec', 'nvec_var', 'pi_norm', 'pi_sum', 'pipe', 'pressure', 'table', 'var_pi', 'volume']\n"
     ]
    }
   ],
   "source": [
    "# available attributes/methods\n",
    "print([x for x in dir(o.xge) if x[0] != '_'])"
   ]
  },
  {
   "cell_type": "code",
   "execution_count": 12,
   "metadata": {},
   "outputs": [
    {
     "data": {
      "application/vnd.jupyter.widget-view+json": {
       "model_id": "",
       "version_major": 2,
       "version_minor": 0
      },
      "text/plain": [
       "HBox(children=(FloatProgress(value=0.0, description='pi_norm', max=2000.0, style=ProgressStyle(description_wid…"
      ]
     },
     "metadata": {},
     "output_type": "display_data"
    },
    {
     "name": "stdout",
     "output_type": "stream",
     "text": [
      "\r"
     ]
    },
    {
     "data": {
      "text/html": [
       "<pre>&lt;xarray.DataArray &#x27;betaOmega&#x27; (lnz_0: 2000, phase: 1)&gt;\n",
       "array([[-2.32427562e-02],\n",
       "       [-2.34002638e-02],\n",
       "       [-2.35588389e-02],\n",
       "       ...,\n",
       "       [-1.86516098e+03],\n",
       "       [-1.86804678e+03],\n",
       "       [-1.87093336e+03]])\n",
       "Coordinates:\n",
       "    beta     float64 0.6667\n",
       "    volume   float64 512.0\n",
       "  * lnz_0    (lnz_0) float64 -10.0 -9.993 -9.986 -9.98 ... 3.48 3.486 3.493 3.5\n",
       "  * phase    (phase) int64 0\n",
       "Attributes:\n",
       "    dims_n:         [&#x27;n_0&#x27;]\n",
       "    dims_lnz:       [&#x27;lnz_0&#x27;]\n",
       "    dims_comp:      [&#x27;component&#x27;]\n",
       "    dims_state:     [&#x27;lnz_0&#x27;, &#x27;beta&#x27;, &#x27;volume&#x27;]\n",
       "    dims_rec:       [&#x27;sample&#x27;]\n",
       "    standard_name:  grand_potential\n",
       "    long_name:      $\\beta \\Omega(\\mu,V,T)$</pre>"
      ],
      "text/plain": [
       "<xarray.DataArray 'betaOmega' (lnz_0: 2000, phase: 1)>\n",
       "array([[-2.32427562e-02],\n",
       "       [-2.34002638e-02],\n",
       "       [-2.35588389e-02],\n",
       "       ...,\n",
       "       [-1.86516098e+03],\n",
       "       [-1.86804678e+03],\n",
       "       [-1.87093336e+03]])\n",
       "Coordinates:\n",
       "    beta     float64 0.6667\n",
       "    volume   float64 512.0\n",
       "  * lnz_0    (lnz_0) float64 -10.0 -9.993 -9.986 -9.98 ... 3.48 3.486 3.493 3.5\n",
       "  * phase    (phase) int64 0\n",
       "Attributes:\n",
       "    dims_n:         ['n_0']\n",
       "    dims_lnz:       ['lnz_0']\n",
       "    dims_comp:      ['component']\n",
       "    dims_state:     ['lnz_0', 'beta', 'volume']\n",
       "    dims_rec:       ['sample']\n",
       "    standard_name:  grand_potential\n",
       "    long_name:      $\\beta \\Omega(\\mu,V,T)$"
      ]
     },
     "execution_count": 12,
     "metadata": {},
     "output_type": "execute_result"
    }
   ],
   "source": [
    "o.xge.betaOmega()"
   ]
  },
  {
   "cell_type": "code",
   "execution_count": 13,
   "metadata": {},
   "outputs": [
    {
     "data": {
      "text/html": [
       "<pre>&lt;xarray.Dataset&gt;\n",
       "Dimensions:        (component: 1, lnz_0: 2000)\n",
       "Coordinates:\n",
       "    beta           float64 0.6667\n",
       "    volume         float64 512.0\n",
       "  * lnz_0          (lnz_0) float64 -10.0 -9.993 -9.986 -9.98 ... 3.486 3.493 3.5\n",
       "Dimensions without coordinates: component\n",
       "Data variables:\n",
       "    edge_distance  (lnz_0) float64 436.0 436.0 436.0 436.0 ... 9.0 8.0 8.0 8.0\n",
       "    PE             (lnz_0) float64 -5.712e-06 -5.789e-06 ... -1.612e+03\n",
       "    dens           (component, lnz_0) float64 4.54e-05 4.571e-05 ... 0.8349\n",
       "    nvec           (component, lnz_0) float64 0.02324 0.0234 ... 427.4 427.5\n",
       "    betapV         (lnz_0) float64 0.02324 0.0234 ... 1.868e+03 1.871e+03\n",
       "    PE_n           (lnz_0) float64 -0.0002457 -0.0002474 ... -3.769 -3.77\n",
       "    phase          (lnz_0) int64 0 0 0 0 0 0 0 0 0 0 0 ... 0 0 0 0 0 0 0 0 0 0 0</pre>"
      ],
      "text/plain": [
       "<xarray.Dataset>\n",
       "Dimensions:        (component: 1, lnz_0: 2000)\n",
       "Coordinates:\n",
       "    beta           float64 0.6667\n",
       "    volume         float64 512.0\n",
       "  * lnz_0          (lnz_0) float64 -10.0 -9.993 -9.986 -9.98 ... 3.486 3.493 3.5\n",
       "Dimensions without coordinates: component\n",
       "Data variables:\n",
       "    edge_distance  (lnz_0) float64 436.0 436.0 436.0 436.0 ... 9.0 8.0 8.0 8.0\n",
       "    PE             (lnz_0) float64 -5.712e-06 -5.789e-06 ... -1.612e+03\n",
       "    dens           (component, lnz_0) float64 4.54e-05 4.571e-05 ... 0.8349\n",
       "    nvec           (component, lnz_0) float64 0.02324 0.0234 ... 427.4 427.5\n",
       "    betapV         (lnz_0) float64 0.02324 0.0234 ... 1.868e+03 1.871e+03\n",
       "    PE_n           (lnz_0) float64 -0.0002457 -0.0002474 ... -3.769 -3.77\n",
       "    phase          (lnz_0) int64 0 0 0 0 0 0 0 0 0 0 0 ... 0 0 0 0 0 0 0 0 0 0 0"
      ]
     },
     "execution_count": 13,
     "metadata": {},
     "output_type": "execute_result"
    }
   ],
   "source": [
    "# table\n",
    "o.xge.table(keys=['PE', 'dens'], \n",
    "            # by setting ref, calculate edge distance for each sample\n",
    "            ref=ref,\n",
    "            # by setting mask_stable, return only the stable phase\n",
    "            mask_stable=True,\n",
    "           )"
   ]
  },
  {
   "cell_type": "markdown",
   "metadata": {},
   "source": [
    "# comparison xcan/xgce"
   ]
  },
  {
   "cell_type": "code",
   "execution_count": 14,
   "metadata": {
    "scrolled": false
   },
   "outputs": [
    {
     "data": {
      "image/png": "[encoded data removed]",
      "text/plain": [
       "<Figure size 432x288 with 1 Axes>"
      ]
     },
     "metadata": {
      "needs_background": "light"
     },
     "output_type": "display_data"
    },
    {
     "data": {
      "image/png": "[encoded data removed]",
      "text/plain": [
       "<Figure size 432x288 with 1 Axes>"
      ]
     },
     "metadata": {
      "needs_background": "light"
     },
     "output_type": "display_data"
    },
    {
     "data": {
      "image/png": "[encoded data removed]",
      "text/plain": [
       "<Figure size 432x288 with 1 Axes>"
      ]
     },
     "metadata": {
      "needs_background": "light"
     },
     "output_type": "display_data"
    },
    {
     "data": {
      "image/png": "[encoded data removed]",
      "text/plain": [
       "<Figure size 432x288 with 1 Axes>"
      ]
     },
     "metadata": {
      "needs_background": "light"
     },
     "output_type": "display_data"
    },
    {
     "data": {
      "image/png": "[encoded data removed]",
      "text/plain": [
       "<Figure size 432x288 with 1 Axes>"
      ]
     },
     "metadata": {
      "needs_background": "light"
     },
     "output_type": "display_data"
    },
    {
     "data": {
      "image/png": "[encoded data removed]",
      "text/plain": [
       "<Figure size 432x288 with 1 Axes>"
      ]
     },
     "metadata": {
      "needs_background": "light"
     },
     "output_type": "display_data"
    },
    {
     "data": {
      "image/png": "[encoded data removed]",
      "text/plain": [
       "<Figure size 432x288 with 1 Axes>"
      ]
     },
     "metadata": {
      "needs_background": "light"
     },
     "output_type": "display_data"
    },
    {
     "data": {
      "image/png": "[encoded data removed]",
      "text/plain": [
       "<Figure size 432x288 with 1 Axes>"
      ]
     },
     "metadata": {
      "needs_background": "light"
     },
     "output_type": "display_data"
    },
    {
     "data": {
      "image/png": "[encoded data removed]",
      "text/plain": [
       "<Figure size 432x288 with 1 Axes>"
      ]
     },
     "metadata": {
      "needs_background": "light"
     },
     "output_type": "display_data"
    },
    {
     "data": {
      "image/png": "[encoded data removed]",
      "text/plain": [
       "<Figure size 432x288 with 1 Axes>"
      ]
     },
     "metadata": {
      "needs_background": "light"
     },
     "output_type": "display_data"
    },
    {
     "data": {
      "image/png": "[encoded data removed]",
      "text/plain": [
       "<Figure size 432x288 with 1 Axes>"
      ]
     },
     "metadata": {
      "needs_background": "light"
     },
     "output_type": "display_data"
    },
    {
     "data": {
      "image/png": "[encoded data removed]",
      "text/plain": [
       "<Figure size 432x288 with 1 Axes>"
      ]
     },
     "metadata": {
      "needs_background": "light"
     },
     "output_type": "display_data"
    },
    {
     "data": {
      "image/png": "[encoded data removed]",
      "text/plain": [
       "<Figure size 432x288 with 1 Axes>"
      ]
     },
     "metadata": {
      "needs_background": "light"
     },
     "output_type": "display_data"
    },
    {
     "data": {
      "image/png": "[encoded data removed]",
      "text/plain": [
       "<Figure size 432x288 with 1 Axes>"
      ]
     },
     "metadata": {
      "needs_background": "light"
     },
     "output_type": "display_data"
    }
   ],
   "source": [
    "for prop in ['PE','PE_n', 'betaOmega', 'betaOmega_n', 'betaF', 'betaF_n', 'betaE','betaE_n', 'betamu', 'betapV',\n",
    "             'nvec','Z', 'S','S_n']:\n",
    "\n",
    "    fig, ax = plt.subplots()\n",
    "    (\n",
    "        o.xge.table(['ntot',prop], default_keys=[]).min('phase')\n",
    "        .set_coords('ntot')\n",
    "        .swap_dims({'lnz_0':'ntot'})\n",
    "        [prop]\n",
    "        .plot(label='grand canonical', marker='o')\n",
    "    )\n",
    "\n",
    "    (\n",
    "        ref.xce.table([prop], default_keys=[])\n",
    "        [prop]\n",
    "        .plot()\n",
    "    )"
   ]
  },
  {
   "cell_type": "markdown",
   "metadata": {},
   "source": [
    "# comparison to old results"
   ]
  },
  {
   "cell_type": "code",
   "execution_count": 15,
   "metadata": {},
   "outputs": [
    {
     "data": {
      "text/html": [
       "<div>\n",
       "<style scoped>\n",
       "    .dataframe tbody tr th:only-of-type {\n",
       "        vertical-align: middle;\n",
       "    }\n",
       "\n",
       "    .dataframe tbody tr th {\n",
       "        vertical-align: top;\n",
       "    }\n",
       "\n",
       "    .dataframe thead th {\n",
       "        text-align: right;\n",
       "    }\n",
       "</style>\n",
       "<table border=\"1\" class=\"dataframe\">\n",
       "  <thead>\n",
       "    <tr style=\"text-align: right;\">\n",
       "      <th></th>\n",
       "      <th>T</th>\n",
       "      <th>V</th>\n",
       "      <th>Rcut</th>\n",
       "      <th>TAIL</th>\n",
       "      <th>lnz_0</th>\n",
       "      <th>dens</th>\n",
       "      <th>stdev</th>\n",
       "      <th>pressure</th>\n",
       "      <th>stdev.1</th>\n",
       "      <th>PE</th>\n",
       "      <th>stdev.2</th>\n",
       "    </tr>\n",
       "  </thead>\n",
       "  <tbody>\n",
       "    <tr>\n",
       "      <th>0</th>\n",
       "      <td>1.5</td>\n",
       "      <td>512.0</td>\n",
       "      <td>2.5</td>\n",
       "      <td>LFS</td>\n",
       "      <td>-6.910147</td>\n",
       "      <td>0.00100</td>\n",
       "      <td>3.196241e-08</td>\n",
       "      <td>0.001498</td>\n",
       "      <td>8.859471e-08</td>\n",
       "      <td>-0.002772</td>\n",
       "      <td>0.000002</td>\n",
       "    </tr>\n",
       "    <tr>\n",
       "      <th>1</th>\n",
       "      <td>1.5</td>\n",
       "      <td>512.0</td>\n",
       "      <td>2.5</td>\n",
       "      <td>LFS</td>\n",
       "      <td>-6.900367</td>\n",
       "      <td>0.00101</td>\n",
       "      <td>3.193346e-08</td>\n",
       "      <td>0.001513</td>\n",
       "      <td>8.900519e-08</td>\n",
       "      <td>-0.002827</td>\n",
       "      <td>0.000002</td>\n",
       "    </tr>\n",
       "    <tr>\n",
       "      <th>2</th>\n",
       "      <td>1.5</td>\n",
       "      <td>512.0</td>\n",
       "      <td>2.5</td>\n",
       "      <td>LFS</td>\n",
       "      <td>-6.890587</td>\n",
       "      <td>0.00102</td>\n",
       "      <td>3.190516e-08</td>\n",
       "      <td>0.001528</td>\n",
       "      <td>8.941257e-08</td>\n",
       "      <td>-0.002882</td>\n",
       "      <td>0.000002</td>\n",
       "    </tr>\n",
       "    <tr>\n",
       "      <th>3</th>\n",
       "      <td>1.5</td>\n",
       "      <td>512.0</td>\n",
       "      <td>2.5</td>\n",
       "      <td>LFS</td>\n",
       "      <td>-6.880808</td>\n",
       "      <td>0.00103</td>\n",
       "      <td>3.187785e-08</td>\n",
       "      <td>0.001543</td>\n",
       "      <td>8.981673e-08</td>\n",
       "      <td>-0.002940</td>\n",
       "      <td>0.000002</td>\n",
       "    </tr>\n",
       "    <tr>\n",
       "      <th>4</th>\n",
       "      <td>1.5</td>\n",
       "      <td>512.0</td>\n",
       "      <td>2.5</td>\n",
       "      <td>LFS</td>\n",
       "      <td>-6.871028</td>\n",
       "      <td>0.00104</td>\n",
       "      <td>3.185190e-08</td>\n",
       "      <td>0.001558</td>\n",
       "      <td>9.021756e-08</td>\n",
       "      <td>-0.002998</td>\n",
       "      <td>0.000002</td>\n",
       "    </tr>\n",
       "  </tbody>\n",
       "</table>\n",
       "</div>"
      ],
      "text/plain": [
       "     T      V  Rcut TAIL     lnz_0     dens         stdev  pressure  \\\n",
       "0  1.5  512.0   2.5  LFS -6.910147  0.00100  3.196241e-08  0.001498   \n",
       "1  1.5  512.0   2.5  LFS -6.900367  0.00101  3.193346e-08  0.001513   \n",
       "2  1.5  512.0   2.5  LFS -6.890587  0.00102  3.190516e-08  0.001528   \n",
       "3  1.5  512.0   2.5  LFS -6.880808  0.00103  3.187785e-08  0.001543   \n",
       "4  1.5  512.0   2.5  LFS -6.871028  0.00104  3.185190e-08  0.001558   \n",
       "\n",
       "        stdev.1        PE   stdev.2  \n",
       "0  8.859471e-08 -0.002772  0.000002  \n",
       "1  8.900519e-08 -0.002827  0.000002  \n",
       "2  8.941257e-08 -0.002882  0.000002  \n",
       "3  8.981673e-08 -0.002940  0.000002  \n",
       "4  9.021756e-08 -0.002998  0.000002  "
      ]
     },
     "execution_count": 15,
     "metadata": {},
     "output_type": "execute_result"
    }
   ],
   "source": [
    "df = (\n",
    "    pd.read_csv('./T_1.50_EOS.csv')\n",
    "    .rename(columns=lambda x: x.replace('*','').replace('<','').replace('>','').replace(')','').replace('(',''))\n",
    "    .rename(columns={'lnz':'lnz_0','rho':'dens','p':'pressure','U':'PE'})\n",
    ")\n",
    "    \n",
    "df.head()"
   ]
  },
  {
   "cell_type": "code",
   "execution_count": 16,
   "metadata": {},
   "outputs": [
    {
     "data": {
      "application/vnd.jupyter.widget-view+json": {
       "model_id": "",
       "version_major": 2,
       "version_minor": 0
      },
      "text/plain": [
       "HBox(children=(FloatProgress(value=0.0, description='build', max=1035.0, style=ProgressStyle(description_width…"
      ]
     },
     "metadata": {},
     "output_type": "display_data"
    },
    {
     "name": "stdout",
     "output_type": "stream",
     "text": [
      "\r"
     ]
    }
   ],
   "source": [
    "# build nice grid\n",
    "import lnPi.collectionlnpiutils\n",
    "o_course, o = lnPi.collectionlnpiutils.limited_collection(build_phases, dlnz=0.01, offsets=[-10, +10], \n",
    "                                                even_grid=True, # but lnzs on same grid as dlnz\n",
    "                                                digits=2, #round lnzs to this number of digits\n",
    "                                                edge_distance_min=10, dens_min=0.001)"
   ]
  },
  {
   "cell_type": "code",
   "execution_count": 18,
   "metadata": {},
   "outputs": [
    {
     "data": {
      "application/vnd.jupyter.widget-view+json": {
       "model_id": "",
       "version_major": 2,
       "version_minor": 0
      },
      "text/plain": [
       "HBox(children=(FloatProgress(value=0.0, description='build', max=1000.0, style=ProgressStyle(description_width…"
      ]
     },
     "metadata": {},
     "output_type": "display_data"
    },
    {
     "name": "stdout",
     "output_type": "stream",
     "text": [
      "\r"
     ]
    }
   ],
   "source": [
    "o3 = lnPi.CollectionlnPi.from_builder(df['lnz_0'].values, build_phases)"
   ]
  },
  {
   "cell_type": "code",
   "execution_count": 19,
   "metadata": {},
   "outputs": [
    {
     "data": {
      "application/vnd.jupyter.widget-view+json": {
       "model_id": "",
       "version_major": 2,
       "version_minor": 0
      },
      "text/plain": [
       "HBox(children=(FloatProgress(value=0.0, description='pi_norm', max=1000.0, style=ProgressStyle(description_wid…"
      ]
     },
     "metadata": {},
     "output_type": "display_data"
    },
    {
     "name": "stdout",
     "output_type": "stream",
     "text": [
      "\r"
     ]
    }
   ],
   "source": [
    "table = (\n",
    "    o3.xge.table(['dens','pressure','PE','betamu'], default_keys=[], ref=ref)\n",
    "    .sel(phase=0,component=0)\n",
    "    .to_dataframe()\n",
    "    .reset_index()\n",
    ")"
   ]
  },
  {
   "cell_type": "code",
   "execution_count": 20,
   "metadata": {},
   "outputs": [
    {
     "data": {
      "image/png": "[encoded data removed]",
      "text/plain": [
       "<Figure size 432x288 with 1 Axes>"
      ]
     },
     "metadata": {
      "needs_background": "light"
     },
     "output_type": "display_data"
    },
    {
     "data": {
      "image/png": "[encoded data removed]",
      "text/plain": [
       "<Figure size 432x288 with 1 Axes>"
      ]
     },
     "metadata": {
      "needs_background": "light"
     },
     "output_type": "display_data"
    },
    {
     "data": {
      "image/png": "[encoded data removed]",
      "text/plain": [
       "<Figure size 432x288 with 1 Axes>"
      ]
     },
     "metadata": {
      "needs_background": "light"
     },
     "output_type": "display_data"
    }
   ],
   "source": [
    "for col in ['dens','pressure','PE']:\n",
    "    fig, ax = plt.subplots()\n",
    "    df.plot('lnz_0',col, marker='o', mfc=None, ls='None', ax=ax, ms=1)\n",
    "    table.plot('lnz_0',col, ax=ax, color='tab:orange')"
   ]
  },
  {
   "cell_type": "markdown",
   "metadata": {},
   "source": [
    "# Multiple phases (sub critical)"
   ]
  },
  {
   "cell_type": "code",
   "execution_count": 21,
   "metadata": {},
   "outputs": [],
   "source": [
    "#function to tag 'LD' and 'HD' phases\n",
    "def tag_phases2(x):\n",
    "    if len(x) > 2:\n",
    "        raise ValueError('bad tag function')\n",
    "    argmax0 = np.array([xx.local_argmax()[0] for xx in x])\n",
    "    return np.where(argmax0 <= x[0].shape[0] / 2, 0, 1)\n"
   ]
  },
  {
   "cell_type": "code",
   "execution_count": 22,
   "metadata": {},
   "outputs": [],
   "source": [
    "# get meta data\n",
    "lnz, state_kws = get_lnz('./t072871.metadata.json')\n",
    "pe = pd.read_csv('./ljsf.t072871.bulk.v512.r1.energy.dat', header=None, sep='\\s+', names=['n','e'])['e'].values\n",
    "ref = lnPi.MaskedlnPiDelayed.from_table('./ljsf.t072871.bulk.v512.r1.lnpi.dat',\n",
    "                                 fill_value=np.nan, \n",
    "                                 lnz=lnz,\n",
    "                                 state_kws=state_kws, \n",
    "                                 extra_kws={'PE':pe}).zeromax().pad()\n",
    "\n",
    "\n",
    "# Note that here, nmax=2, and we specify tag_phases\n",
    "phase_creator= lnPi.segment.PhaseCreator(nmax=2, nmax_peak=4, ref=ref, \n",
    "                                         merge_kws=dict(efac=0.8), \n",
    "                                         tag_phases=tag_phases2\n",
    "                                        )\n",
    "\n",
    "# choose a particular factory method for creating phases\n",
    "build_phases = phase_creator.build_phases_mu([None])"
   ]
  },
  {
   "cell_type": "markdown",
   "metadata": {},
   "source": [
    "## parallel builds"
   ]
  },
  {
   "cell_type": "code",
   "execution_count": 23,
   "metadata": {},
   "outputs": [],
   "source": [
    "lnzs = np.linspace(-10, 3, 2000)"
   ]
  },
  {
   "cell_type": "code",
   "execution_count": 24,
   "metadata": {},
   "outputs": [
    {
     "data": {
      "application/vnd.jupyter.widget-view+json": {
       "model_id": "67d8358187174330bb6f79df8edcc6ef",
       "version_major": 2,
       "version_minor": 0
      },
      "text/plain": [
       "HBox(children=(FloatProgress(value=0.0, description='build', max=2000.0, style=ProgressStyle(description_width…"
      ]
     },
     "metadata": {},
     "output_type": "display_data"
    },
    {
     "name": "stdout",
     "output_type": "stream",
     "text": [
      "\n"
     ]
    }
   ],
   "source": [
    "#slow\n",
    "with lnPi.set_options(tqdm_leave=True, joblib_use=False):\n",
    "    o = lnPi.CollectionlnPi.from_builder(lnzs, build_phases)"
   ]
  },
  {
   "cell_type": "code",
   "execution_count": 25,
   "metadata": {},
   "outputs": [
    {
     "data": {
      "application/vnd.jupyter.widget-view+json": {
       "model_id": "c665dba441734e8eb7ec7284e57b5a42",
       "version_major": 2,
       "version_minor": 0
      },
      "text/plain": [
       "HBox(children=(FloatProgress(value=0.0, description='build', max=2000.0, style=ProgressStyle(description_width…"
      ]
     },
     "metadata": {},
     "output_type": "display_data"
    },
    {
     "name": "stdout",
     "output_type": "stream",
     "text": [
      "\n"
     ]
    }
   ],
   "source": [
    "#%%timeit -n 1 -r 1\n",
    "#fast \n",
    "with lnPi.set_options(tqdm_leave=True, joblib_use=True):\n",
    "    o = lnPi.CollectionlnPi.from_builder(lnzs, build_phases)\n",
    "#     a = o.xge.table()\n",
    "#     o.spinodal(2, build_phases)\n",
    "#     o.binodal(2, build_phases)    "
   ]
  },
  {
   "cell_type": "markdown",
   "metadata": {},
   "source": [
    "## stacked vs unstacked"
   ]
  },
  {
   "cell_type": "code",
   "execution_count": 26,
   "metadata": {},
   "outputs": [],
   "source": [
    "lnzs = np.linspace(-10, 3, 20)\n",
    "\n",
    "# unstack is default behavior\n",
    "o_unstacked = lnPi.CollectionlnPi.from_builder(lnzs, build_phases, unstack=True)\n",
    "\n",
    "# pass unstack = False\n",
    "o_stacked = lnPi.CollectionlnPi.from_builder(lnzs, build_phases, unstack=False)"
   ]
  },
  {
   "cell_type": "code",
   "execution_count": 27,
   "metadata": {},
   "outputs": [
    {
     "data": {
      "text/html": [
       "<pre>&lt;xarray.DataArray &#x27;dens&#x27; (component: 1, lnz_0: 20, phase: 2)&gt;\n",
       "array([[[4.54122341e-05,            nan],\n",
       "        [9.00659216e-05,            nan],\n",
       "        [1.78724194e-04,            nan],\n",
       "        [3.55037718e-04,            nan],\n",
       "        [7.06808827e-04,            nan],\n",
       "        [1.41324537e-03,            nan],\n",
       "        [2.85107412e-03,            nan],\n",
       "        [5.86258523e-03,            nan],\n",
       "        [1.26156786e-02,            nan],\n",
       "        [3.14809935e-02, 7.21258469e-01],\n",
       "        [           nan, 7.69245441e-01],\n",
       "        [           nan, 8.02630469e-01],\n",
       "        [           nan, 8.29147738e-01],\n",
       "        [           nan, 8.44711654e-01],\n",
       "        [           nan, 8.48195862e-01],\n",
       "        [           nan, 8.49053617e-01],\n",
       "        [           nan, 8.49359302e-01],\n",
       "        [           nan, 8.49489945e-01],\n",
       "        [           nan, 8.49550725e-01],\n",
       "        [           nan, 8.49580181e-01]]])\n",
       "Coordinates:\n",
       "    beta     float64 1.372\n",
       "    volume   float64 512.0\n",
       "  * lnz_0    (lnz_0) float64 -10.0 -9.316 -8.632 -7.947 ... 1.632 2.316 3.0\n",
       "  * phase    (phase) int64 0 1\n",
       "Dimensions without coordinates: component\n",
       "Attributes:\n",
       "    dims_n:      [&#x27;n_0&#x27;]\n",
       "    dims_lnz:    [&#x27;lnz_0&#x27;]\n",
       "    dims_comp:   [&#x27;component&#x27;]\n",
       "    dims_state:  [&#x27;lnz_0&#x27;, &#x27;beta&#x27;, &#x27;volume&#x27;]\n",
       "    dims_rec:    [&#x27;sample&#x27;]\n",
       "    long_name:   ${\\bf \\rho}(\\mu,V,T)$</pre>"
      ],
      "text/plain": [
       "<xarray.DataArray 'dens' (component: 1, lnz_0: 20, phase: 2)>\n",
       "array([[[4.54122341e-05,            nan],\n",
       "        [9.00659216e-05,            nan],\n",
       "        [1.78724194e-04,            nan],\n",
       "        [3.55037718e-04,            nan],\n",
       "        [7.06808827e-04,            nan],\n",
       "        [1.41324537e-03,            nan],\n",
       "        [2.85107412e-03,            nan],\n",
       "        [5.86258523e-03,            nan],\n",
       "        [1.26156786e-02,            nan],\n",
       "        [3.14809935e-02, 7.21258469e-01],\n",
       "        [           nan, 7.69245441e-01],\n",
       "        [           nan, 8.02630469e-01],\n",
       "        [           nan, 8.29147738e-01],\n",
       "        [           nan, 8.44711654e-01],\n",
       "        [           nan, 8.48195862e-01],\n",
       "        [           nan, 8.49053617e-01],\n",
       "        [           nan, 8.49359302e-01],\n",
       "        [           nan, 8.49489945e-01],\n",
       "        [           nan, 8.49550725e-01],\n",
       "        [           nan, 8.49580181e-01]]])\n",
       "Coordinates:\n",
       "    beta     float64 1.372\n",
       "    volume   float64 512.0\n",
       "  * lnz_0    (lnz_0) float64 -10.0 -9.316 -8.632 -7.947 ... 1.632 2.316 3.0\n",
       "  * phase    (phase) int64 0 1\n",
       "Dimensions without coordinates: component\n",
       "Attributes:\n",
       "    dims_n:      ['n_0']\n",
       "    dims_lnz:    ['lnz_0']\n",
       "    dims_comp:   ['component']\n",
       "    dims_state:  ['lnz_0', 'beta', 'volume']\n",
       "    dims_rec:    ['sample']\n",
       "    long_name:   ${\\bf \\rho}(\\mu,V,T)$"
      ]
     },
     "execution_count": 27,
     "metadata": {},
     "output_type": "execute_result"
    }
   ],
   "source": [
    "# unstack results\n",
    "o_unstacked.xge.dens"
   ]
  },
  {
   "cell_type": "code",
   "execution_count": 28,
   "metadata": {},
   "outputs": [
    {
     "data": {
      "text/html": [
       "<pre>&lt;xarray.DataArray &#x27;dens&#x27; (sample: 21, component: 1)&gt;\n",
       "array([[4.54122341e-05],\n",
       "       [9.00659216e-05],\n",
       "       [1.78724194e-04],\n",
       "       [3.55037718e-04],\n",
       "       [7.06808827e-04],\n",
       "       [1.41324537e-03],\n",
       "       [2.85107412e-03],\n",
       "       [5.86258523e-03],\n",
       "       [1.26156786e-02],\n",
       "       [3.14809935e-02],\n",
       "       [7.21258469e-01],\n",
       "       [7.69245441e-01],\n",
       "       [8.02630469e-01],\n",
       "       [8.29147738e-01],\n",
       "       [8.44711654e-01],\n",
       "       [8.48195862e-01],\n",
       "       [8.49053617e-01],\n",
       "       [8.49359302e-01],\n",
       "       [8.49489945e-01],\n",
       "       [8.49550725e-01],\n",
       "       [8.49580181e-01]])\n",
       "Coordinates:\n",
       "  * sample   (sample) MultiIndex\n",
       "  - lnz_0    (sample) float64 -10.0 -9.316 -8.632 -7.947 ... 1.632 2.316 3.0\n",
       "  - phase    (sample) int64 0 0 0 0 0 0 0 0 0 0 1 1 1 1 1 1 1 1 1 1 1\n",
       "    beta     float64 1.372\n",
       "    volume   float64 512.0\n",
       "Dimensions without coordinates: component\n",
       "Attributes:\n",
       "    dims_n:      [&#x27;n_0&#x27;]\n",
       "    dims_lnz:    [&#x27;lnz_0&#x27;]\n",
       "    dims_comp:   [&#x27;component&#x27;]\n",
       "    dims_state:  [&#x27;lnz_0&#x27;, &#x27;beta&#x27;, &#x27;volume&#x27;]\n",
       "    dims_rec:    [&#x27;sample&#x27;]\n",
       "    long_name:   ${\\bf \\rho}(\\mu,V,T)$</pre>"
      ],
      "text/plain": [
       "<xarray.DataArray 'dens' (sample: 21, component: 1)>\n",
       "array([[4.54122341e-05],\n",
       "       [9.00659216e-05],\n",
       "       [1.78724194e-04],\n",
       "       [3.55037718e-04],\n",
       "       [7.06808827e-04],\n",
       "       [1.41324537e-03],\n",
       "       [2.85107412e-03],\n",
       "       [5.86258523e-03],\n",
       "       [1.26156786e-02],\n",
       "       [3.14809935e-02],\n",
       "       [7.21258469e-01],\n",
       "       [7.69245441e-01],\n",
       "       [8.02630469e-01],\n",
       "       [8.29147738e-01],\n",
       "       [8.44711654e-01],\n",
       "       [8.48195862e-01],\n",
       "       [8.49053617e-01],\n",
       "       [8.49359302e-01],\n",
       "       [8.49489945e-01],\n",
       "       [8.49550725e-01],\n",
       "       [8.49580181e-01]])\n",
       "Coordinates:\n",
       "  * sample   (sample) MultiIndex\n",
       "  - lnz_0    (sample) float64 -10.0 -9.316 -8.632 -7.947 ... 1.632 2.316 3.0\n",
       "  - phase    (sample) int64 0 0 0 0 0 0 0 0 0 0 1 1 1 1 1 1 1 1 1 1 1\n",
       "    beta     float64 1.372\n",
       "    volume   float64 512.0\n",
       "Dimensions without coordinates: component\n",
       "Attributes:\n",
       "    dims_n:      ['n_0']\n",
       "    dims_lnz:    ['lnz_0']\n",
       "    dims_comp:   ['component']\n",
       "    dims_state:  ['lnz_0', 'beta', 'volume']\n",
       "    dims_rec:    ['sample']\n",
       "    long_name:   ${\\bf \\rho}(\\mu,V,T)$"
      ]
     },
     "execution_count": 28,
     "metadata": {},
     "output_type": "execute_result"
    }
   ],
   "source": [
    "# stacked results\n",
    "o_stacked.xge.dens"
   ]
  },
  {
   "cell_type": "code",
   "execution_count": 29,
   "metadata": {},
   "outputs": [
    {
     "data": {
      "text/html": [
       "<pre>&lt;xarray.DataArray &#x27;dens&#x27; (component: 1, lnz_0: 20, phase: 2)&gt;\n",
       "array([[[4.54122341e-05,            nan],\n",
       "        [9.00659216e-05,            nan],\n",
       "        [1.78724194e-04,            nan],\n",
       "        [3.55037718e-04,            nan],\n",
       "        [7.06808827e-04,            nan],\n",
       "        [1.41324537e-03,            nan],\n",
       "        [2.85107412e-03,            nan],\n",
       "        [5.86258523e-03,            nan],\n",
       "        [1.26156786e-02,            nan],\n",
       "        [3.14809935e-02, 7.21258469e-01],\n",
       "        [           nan, 7.69245441e-01],\n",
       "        [           nan, 8.02630469e-01],\n",
       "        [           nan, 8.29147738e-01],\n",
       "        [           nan, 8.44711654e-01],\n",
       "        [           nan, 8.48195862e-01],\n",
       "        [           nan, 8.49053617e-01],\n",
       "        [           nan, 8.49359302e-01],\n",
       "        [           nan, 8.49489945e-01],\n",
       "        [           nan, 8.49550725e-01],\n",
       "        [           nan, 8.49580181e-01]]])\n",
       "Coordinates:\n",
       "    beta     float64 1.372\n",
       "    volume   float64 512.0\n",
       "  * lnz_0    (lnz_0) float64 -10.0 -9.316 -8.632 -7.947 ... 1.632 2.316 3.0\n",
       "  * phase    (phase) int64 0 1\n",
       "Dimensions without coordinates: component\n",
       "Attributes:\n",
       "    dims_n:      [&#x27;n_0&#x27;]\n",
       "    dims_lnz:    [&#x27;lnz_0&#x27;]\n",
       "    dims_comp:   [&#x27;component&#x27;]\n",
       "    dims_state:  [&#x27;lnz_0&#x27;, &#x27;beta&#x27;, &#x27;volume&#x27;]\n",
       "    dims_rec:    [&#x27;sample&#x27;]\n",
       "    long_name:   ${\\bf \\rho}(\\mu,V,T)$</pre>"
      ],
      "text/plain": [
       "<xarray.DataArray 'dens' (component: 1, lnz_0: 20, phase: 2)>\n",
       "array([[[4.54122341e-05,            nan],\n",
       "        [9.00659216e-05,            nan],\n",
       "        [1.78724194e-04,            nan],\n",
       "        [3.55037718e-04,            nan],\n",
       "        [7.06808827e-04,            nan],\n",
       "        [1.41324537e-03,            nan],\n",
       "        [2.85107412e-03,            nan],\n",
       "        [5.86258523e-03,            nan],\n",
       "        [1.26156786e-02,            nan],\n",
       "        [3.14809935e-02, 7.21258469e-01],\n",
       "        [           nan, 7.69245441e-01],\n",
       "        [           nan, 8.02630469e-01],\n",
       "        [           nan, 8.29147738e-01],\n",
       "        [           nan, 8.44711654e-01],\n",
       "        [           nan, 8.48195862e-01],\n",
       "        [           nan, 8.49053617e-01],\n",
       "        [           nan, 8.49359302e-01],\n",
       "        [           nan, 8.49489945e-01],\n",
       "        [           nan, 8.49550725e-01],\n",
       "        [           nan, 8.49580181e-01]]])\n",
       "Coordinates:\n",
       "    beta     float64 1.372\n",
       "    volume   float64 512.0\n",
       "  * lnz_0    (lnz_0) float64 -10.0 -9.316 -8.632 -7.947 ... 1.632 2.316 3.0\n",
       "  * phase    (phase) int64 0 1\n",
       "Dimensions without coordinates: component\n",
       "Attributes:\n",
       "    dims_n:      ['n_0']\n",
       "    dims_lnz:    ['lnz_0']\n",
       "    dims_comp:   ['component']\n",
       "    dims_state:  ['lnz_0', 'beta', 'volume']\n",
       "    dims_rec:    ['sample']\n",
       "    long_name:   ${\\bf \\rho}(\\mu,V,T)$"
      ]
     },
     "execution_count": 29,
     "metadata": {},
     "output_type": "execute_result"
    }
   ],
   "source": [
    "# its trivial to go from one to the other that to take an stacked array to unstacked\n",
    "o_stacked.xge.dens.unstack()"
   ]
  },
  {
   "cell_type": "code",
   "execution_count": 30,
   "metadata": {},
   "outputs": [
    {
     "data": {
      "text/html": [
       "<pre>&lt;xarray.DataArray &#x27;dens&#x27; (sample: 21, component: 1)&gt;\n",
       "array([[4.54122341e-05],\n",
       "       [9.00659216e-05],\n",
       "       [1.78724194e-04],\n",
       "       [3.55037718e-04],\n",
       "       [7.06808827e-04],\n",
       "       [1.41324537e-03],\n",
       "       [2.85107412e-03],\n",
       "       [5.86258523e-03],\n",
       "       [1.26156786e-02],\n",
       "       [3.14809935e-02],\n",
       "       [7.21258469e-01],\n",
       "       [7.69245441e-01],\n",
       "       [8.02630469e-01],\n",
       "       [8.29147738e-01],\n",
       "       [8.44711654e-01],\n",
       "       [8.48195862e-01],\n",
       "       [8.49053617e-01],\n",
       "       [8.49359302e-01],\n",
       "       [8.49489945e-01],\n",
       "       [8.49550725e-01],\n",
       "       [8.49580181e-01]])\n",
       "Coordinates:\n",
       "    beta     float64 1.372\n",
       "    volume   float64 512.0\n",
       "  * sample   (sample) MultiIndex\n",
       "  - lnz_0    (sample) float64 -10.0 -9.316 -8.632 -7.947 ... 1.632 2.316 3.0\n",
       "  - phase    (sample) int64 0 0 0 0 0 0 0 0 0 0 1 1 1 1 1 1 1 1 1 1 1\n",
       "Dimensions without coordinates: component\n",
       "Attributes:\n",
       "    dims_n:      [&#x27;n_0&#x27;]\n",
       "    dims_lnz:    [&#x27;lnz_0&#x27;]\n",
       "    dims_comp:   [&#x27;component&#x27;]\n",
       "    dims_state:  [&#x27;lnz_0&#x27;, &#x27;beta&#x27;, &#x27;volume&#x27;]\n",
       "    dims_rec:    [&#x27;sample&#x27;]\n",
       "    long_name:   ${\\bf \\rho}(\\mu,V,T)$</pre>"
      ],
      "text/plain": [
       "<xarray.DataArray 'dens' (sample: 21, component: 1)>\n",
       "array([[4.54122341e-05],\n",
       "       [9.00659216e-05],\n",
       "       [1.78724194e-04],\n",
       "       [3.55037718e-04],\n",
       "       [7.06808827e-04],\n",
       "       [1.41324537e-03],\n",
       "       [2.85107412e-03],\n",
       "       [5.86258523e-03],\n",
       "       [1.26156786e-02],\n",
       "       [3.14809935e-02],\n",
       "       [7.21258469e-01],\n",
       "       [7.69245441e-01],\n",
       "       [8.02630469e-01],\n",
       "       [8.29147738e-01],\n",
       "       [8.44711654e-01],\n",
       "       [8.48195862e-01],\n",
       "       [8.49053617e-01],\n",
       "       [8.49359302e-01],\n",
       "       [8.49489945e-01],\n",
       "       [8.49550725e-01],\n",
       "       [8.49580181e-01]])\n",
       "Coordinates:\n",
       "    beta     float64 1.372\n",
       "    volume   float64 512.0\n",
       "  * sample   (sample) MultiIndex\n",
       "  - lnz_0    (sample) float64 -10.0 -9.316 -8.632 -7.947 ... 1.632 2.316 3.0\n",
       "  - phase    (sample) int64 0 0 0 0 0 0 0 0 0 0 1 1 1 1 1 1 1 1 1 1 1\n",
       "Dimensions without coordinates: component\n",
       "Attributes:\n",
       "    dims_n:      ['n_0']\n",
       "    dims_lnz:    ['lnz_0']\n",
       "    dims_comp:   ['component']\n",
       "    dims_state:  ['lnz_0', 'beta', 'volume']\n",
       "    dims_rec:    ['sample']\n",
       "    long_name:   ${\\bf \\rho}(\\mu,V,T)$"
      ]
     },
     "execution_count": 30,
     "metadata": {},
     "output_type": "execute_result"
    }
   ],
   "source": [
    "# note that xarray carries along nan\n",
    "# and reorders on unstack.  No big deal\n",
    "o_unstacked.xge.dens.stack(sample=['lnz_0','phase']).dropna('sample').transpose('sample','component')"
   ]
  },
  {
   "cell_type": "markdown",
   "metadata": {},
   "source": [
    "## comparison "
   ]
  },
  {
   "cell_type": "code",
   "execution_count": 31,
   "metadata": {},
   "outputs": [],
   "source": [
    "# build nice grid\n",
    "import lnPi.collectionlnpiutils"
   ]
  },
  {
   "cell_type": "code",
   "execution_count": 32,
   "metadata": {},
   "outputs": [
    {
     "data": {
      "application/vnd.jupyter.widget-view+json": {
       "model_id": "",
       "version_major": 2,
       "version_minor": 0
      },
      "text/plain": [
       "HBox(children=(FloatProgress(value=0.0, description='build', max=524.0, style=ProgressStyle(description_width=…"
      ]
     },
     "metadata": {},
     "output_type": "display_data"
    },
    {
     "name": "stdout",
     "output_type": "stream",
     "text": [
      "\r"
     ]
    }
   ],
   "source": [
    "o_course, o = lnPi.collectionlnpiutils.limited_collection(build_phases, dlnz=0.01, offsets=[-10, +10], \n",
    "                                                even_grid=True, # but lnzs on same grid as dlnz\n",
    "                                                digits=2, #round lnzs to this number of digits\n",
    "                                                edge_distance_min=10, dens_min=0.001)"
   ]
  },
  {
   "cell_type": "code",
   "execution_count": 33,
   "metadata": {},
   "outputs": [
    {
     "data": {
      "text/html": [
       "<div>\n",
       "<style scoped>\n",
       "    .dataframe tbody tr th:only-of-type {\n",
       "        vertical-align: middle;\n",
       "    }\n",
       "\n",
       "    .dataframe tbody tr th {\n",
       "        vertical-align: top;\n",
       "    }\n",
       "\n",
       "    .dataframe thead th {\n",
       "        text-align: right;\n",
       "    }\n",
       "</style>\n",
       "<table border=\"1\" class=\"dataframe\">\n",
       "  <thead>\n",
       "    <tr style=\"text-align: right;\">\n",
       "      <th></th>\n",
       "      <th>T</th>\n",
       "      <th>V</th>\n",
       "      <th>Rcut</th>\n",
       "      <th>TAIL</th>\n",
       "      <th>lnz_0</th>\n",
       "      <th>dens</th>\n",
       "      <th>stdev</th>\n",
       "      <th>pressure</th>\n",
       "      <th>stdev.1</th>\n",
       "      <th>PE</th>\n",
       "      <th>stdev.2</th>\n",
       "    </tr>\n",
       "  </thead>\n",
       "  <tbody>\n",
       "    <tr>\n",
       "      <th>0</th>\n",
       "      <td>0.72871</td>\n",
       "      <td>512.0</td>\n",
       "      <td>2.5</td>\n",
       "      <td>LFS</td>\n",
       "      <td>-6.919759</td>\n",
       "      <td>0.001000</td>\n",
       "      <td>1.236298e-07</td>\n",
       "      <td>0.000724</td>\n",
       "      <td>9.518432e-08</td>\n",
       "      <td>-0.004397</td>\n",
       "      <td>0.000002</td>\n",
       "    </tr>\n",
       "    <tr>\n",
       "      <th>1</th>\n",
       "      <td>0.72871</td>\n",
       "      <td>512.0</td>\n",
       "      <td>2.5</td>\n",
       "      <td>LFS</td>\n",
       "      <td>-6.915094</td>\n",
       "      <td>0.001005</td>\n",
       "      <td>1.241497e-07</td>\n",
       "      <td>0.000728</td>\n",
       "      <td>9.559684e-08</td>\n",
       "      <td>-0.004439</td>\n",
       "      <td>0.000002</td>\n",
       "    </tr>\n",
       "    <tr>\n",
       "      <th>2</th>\n",
       "      <td>0.72871</td>\n",
       "      <td>512.0</td>\n",
       "      <td>2.5</td>\n",
       "      <td>LFS</td>\n",
       "      <td>-6.910429</td>\n",
       "      <td>0.001010</td>\n",
       "      <td>1.246715e-07</td>\n",
       "      <td>0.000731</td>\n",
       "      <td>9.601106e-08</td>\n",
       "      <td>-0.004481</td>\n",
       "      <td>0.000002</td>\n",
       "    </tr>\n",
       "    <tr>\n",
       "      <th>3</th>\n",
       "      <td>0.72871</td>\n",
       "      <td>512.0</td>\n",
       "      <td>2.5</td>\n",
       "      <td>LFS</td>\n",
       "      <td>-6.905764</td>\n",
       "      <td>0.001014</td>\n",
       "      <td>1.251954e-07</td>\n",
       "      <td>0.000735</td>\n",
       "      <td>9.642697e-08</td>\n",
       "      <td>-0.004523</td>\n",
       "      <td>0.000002</td>\n",
       "    </tr>\n",
       "    <tr>\n",
       "      <th>4</th>\n",
       "      <td>0.72871</td>\n",
       "      <td>512.0</td>\n",
       "      <td>2.5</td>\n",
       "      <td>LFS</td>\n",
       "      <td>-6.901100</td>\n",
       "      <td>0.001019</td>\n",
       "      <td>1.257213e-07</td>\n",
       "      <td>0.000738</td>\n",
       "      <td>9.684459e-08</td>\n",
       "      <td>-0.004566</td>\n",
       "      <td>0.000002</td>\n",
       "    </tr>\n",
       "  </tbody>\n",
       "</table>\n",
       "</div>"
      ],
      "text/plain": [
       "         T      V  Rcut TAIL     lnz_0      dens         stdev  pressure  \\\n",
       "0  0.72871  512.0   2.5  LFS -6.919759  0.001000  1.236298e-07  0.000724   \n",
       "1  0.72871  512.0   2.5  LFS -6.915094  0.001005  1.241497e-07  0.000728   \n",
       "2  0.72871  512.0   2.5  LFS -6.910429  0.001010  1.246715e-07  0.000731   \n",
       "3  0.72871  512.0   2.5  LFS -6.905764  0.001014  1.251954e-07  0.000735   \n",
       "4  0.72871  512.0   2.5  LFS -6.901100  0.001019  1.257213e-07  0.000738   \n",
       "\n",
       "        stdev.1        PE   stdev.2  \n",
       "0  9.518432e-08 -0.004397  0.000002  \n",
       "1  9.559684e-08 -0.004439  0.000002  \n",
       "2  9.601106e-08 -0.004481  0.000002  \n",
       "3  9.642697e-08 -0.004523  0.000002  \n",
       "4  9.684459e-08 -0.004566  0.000002  "
      ]
     },
     "execution_count": 33,
     "metadata": {},
     "output_type": "execute_result"
    }
   ],
   "source": [
    "df = (\n",
    "    pd.read_csv('./T_0.72871_EOS.csv')\n",
    "    .rename(columns=lambda x: x.replace('*','').replace('<','').replace('>','').replace(')','').replace('(',''))\n",
    "    .rename(columns={'lnz':'lnz_0','rho':'dens','p':'pressure','U':'PE'})\n",
    ")\n",
    "    \n",
    "df.head()"
   ]
  },
  {
   "cell_type": "markdown",
   "metadata": {},
   "source": [
    "## picking stable phases"
   ]
  },
  {
   "cell_type": "code",
   "execution_count": 34,
   "metadata": {},
   "outputs": [
    {
     "data": {
      "application/vnd.jupyter.widget-view+json": {
       "model_id": "",
       "version_major": 2,
       "version_minor": 0
      },
      "text/plain": [
       "HBox(children=(FloatProgress(value=0.0, description='pi_norm', max=614.0, style=ProgressStyle(description_widt…"
      ]
     },
     "metadata": {},
     "output_type": "display_data"
    },
    {
     "name": "stdout",
     "output_type": "stream",
     "text": [
      "\r"
     ]
    },
    {
     "data": {
      "text/html": [
       "<pre>&lt;xarray.Dataset&gt;\n",
       "Dimensions:        (component: 1, lnz_0: 524, phase: 2)\n",
       "Coordinates:\n",
       "    beta           float64 1.372\n",
       "    volume         float64 512.0\n",
       "  * lnz_0          (lnz_0) float64 -6.92 -6.91 -6.9 -6.89 ... -1.71 -1.7 -1.69\n",
       "  * phase          (phase) int64 0 1\n",
       "Dimensions without coordinates: component\n",
       "Data variables:\n",
       "    edge_distance  (lnz_0, phase) float64 436.0 nan 436.0 nan ... 10.0 nan 10.0\n",
       "    dens           (component, lnz_0, phase) float64 0.0009998 nan ... 0.8324\n",
       "    pressure       (lnz_0, phase) float64 0.0007241 nan 0.0007314 ... nan 1.313\n",
       "    PE             (lnz_0, phase) float64 -0.004394 nan ... nan -1.916e+03\n",
       "    betamu         (component, lnz_0, phase) float64 -6.92 nan ... nan -1.69</pre>"
      ],
      "text/plain": [
       "<xarray.Dataset>\n",
       "Dimensions:        (component: 1, lnz_0: 524, phase: 2)\n",
       "Coordinates:\n",
       "    beta           float64 1.372\n",
       "    volume         float64 512.0\n",
       "  * lnz_0          (lnz_0) float64 -6.92 -6.91 -6.9 -6.89 ... -1.71 -1.7 -1.69\n",
       "  * phase          (phase) int64 0 1\n",
       "Dimensions without coordinates: component\n",
       "Data variables:\n",
       "    edge_distance  (lnz_0, phase) float64 436.0 nan 436.0 nan ... 10.0 nan 10.0\n",
       "    dens           (component, lnz_0, phase) float64 0.0009998 nan ... 0.8324\n",
       "    pressure       (lnz_0, phase) float64 0.0007241 nan 0.0007314 ... nan 1.313\n",
       "    PE             (lnz_0, phase) float64 -0.004394 nan ... nan -1.916e+03\n",
       "    betamu         (component, lnz_0, phase) float64 -6.92 nan ... nan -1.69"
      ]
     },
     "execution_count": 34,
     "metadata": {},
     "output_type": "execute_result"
    }
   ],
   "source": [
    "table = (\n",
    "    o.xge.table(['dens','pressure','PE','betamu'], default_keys=[], ref=ref)\n",
    ")\n",
    "\n",
    "# note that now we have multiple phases.  want only the most stable phases...\n",
    "table"
   ]
  },
  {
   "cell_type": "code",
   "execution_count": 35,
   "metadata": {},
   "outputs": [],
   "source": [
    "table = (\n",
    "    o.xge.table(['dens','pressure','PE','betamu'], mask_stable=True, default_keys=[], ref=ref)\n",
    "    .to_dataframe()\n",
    "    .reset_index()\n",
    ")"
   ]
  },
  {
   "cell_type": "code",
   "execution_count": 36,
   "metadata": {},
   "outputs": [
    {
     "data": {
      "image/png": "[encoded data removed]",
      "text/plain": [
       "<Figure size 432x288 with 1 Axes>"
      ]
     },
     "metadata": {
      "needs_background": "light"
     },
     "output_type": "display_data"
    },
    {
     "data": {
      "image/png": "[encoded data removed]",
      "text/plain": [
       "<Figure size 432x288 with 1 Axes>"
      ]
     },
     "metadata": {
      "needs_background": "light"
     },
     "output_type": "display_data"
    },
    {
     "data": {
      "image/png": "[encoded data removed]",
      "text/plain": [
       "<Figure size 432x288 with 1 Axes>"
      ]
     },
     "metadata": {
      "needs_background": "light"
     },
     "output_type": "display_data"
    }
   ],
   "source": [
    "for col in ['dens','pressure','PE']:\n",
    "    fig, ax = plt.subplots()\n",
    "    df.plot('lnz_0',col, marker='o', mfc=None, ls='None', ax=ax, ms=1)\n",
    "    table.plot('lnz_0',col, ax=ax, color='tab:orange')"
   ]
  },
  {
   "cell_type": "markdown",
   "metadata": {},
   "source": [
    "# building stability"
   ]
  },
  {
   "cell_type": "code",
   "execution_count": 37,
   "metadata": {},
   "outputs": [
    {
     "data": {
      "text/plain": [
       "<lnPi.stability.Binodals at 0x7fd289705e90>"
      ]
     },
     "execution_count": 37,
     "metadata": {},
     "output_type": "execute_result"
    }
   ],
   "source": [
    "o_course.spinodal(2, build_phases)\n",
    "o_course.binodal(2, build_phases)"
   ]
  },
  {
   "cell_type": "code",
   "execution_count": 38,
   "metadata": {},
   "outputs": [
    {
     "data": {
      "text/plain": [
       "<class CollectionlnPi>\n",
       "spinodal  lnz_0      phase\n",
       "0         -3.494763  0        [-3.4947634419931606]\n",
       "                     1        [-3.4947634419931606]\n",
       "1         -4.379778  0         [-4.379778340306185]\n",
       "                     1         [-4.379778340306185]\n",
       "dtype: object"
      ]
     },
     "execution_count": 38,
     "metadata": {},
     "output_type": "execute_result"
    }
   ],
   "source": [
    "o_course.spinodal.access"
   ]
  },
  {
   "cell_type": "code",
   "execution_count": 39,
   "metadata": {},
   "outputs": [
    {
     "data": {
      "text/plain": [
       "spinodal  lnz_0      phase  phase_nebr\n",
       "0         -3.494763  0      0                    inf\n",
       "                            1               1.000000\n",
       "                     1      0             168.028142\n",
       "                            1                    inf\n",
       "1         -4.379778  0      0                    inf\n",
       "                            1             142.163654\n",
       "                     1      0               1.000000\n",
       "                            1                    inf\n",
       "Name: delta_w, dtype: float64"
      ]
     },
     "execution_count": 39,
     "metadata": {},
     "output_type": "execute_result"
    }
   ],
   "source": [
    "o_course.spinodal.access.wlnPi.dw"
   ]
  },
  {
   "cell_type": "code",
   "execution_count": 40,
   "metadata": {},
   "outputs": [
    {
     "data": {
      "text/html": [
       "<pre>&lt;xarray.DataArray &#x27;betaOmega&#x27; (binodal: 1, lnz_0: 1, phase: 2)&gt;\n",
       "array([[[-11.20129475, -11.20129475]]])\n",
       "Coordinates:\n",
       "    beta     float64 1.372\n",
       "    volume   float64 512.0\n",
       "  * binodal  (binodal) int64 0\n",
       "  * lnz_0    (lnz_0) float64 -3.966\n",
       "  * phase    (phase) int64 0 1\n",
       "Attributes:\n",
       "    dims_n:         [&#x27;n_0&#x27;]\n",
       "    dims_lnz:       [&#x27;lnz_0&#x27;]\n",
       "    dims_comp:      [&#x27;component&#x27;]\n",
       "    dims_state:     [&#x27;lnz_0&#x27;, &#x27;beta&#x27;, &#x27;volume&#x27;]\n",
       "    dims_rec:       [&#x27;sample&#x27;]\n",
       "    standard_name:  grand_potential\n",
       "    long_name:      $\\beta \\Omega(\\mu,V,T)$</pre>"
      ],
      "text/plain": [
       "<xarray.DataArray 'betaOmega' (binodal: 1, lnz_0: 1, phase: 2)>\n",
       "array([[[-11.20129475, -11.20129475]]])\n",
       "Coordinates:\n",
       "    beta     float64 1.372\n",
       "    volume   float64 512.0\n",
       "  * binodal  (binodal) int64 0\n",
       "  * lnz_0    (lnz_0) float64 -3.966\n",
       "  * phase    (phase) int64 0 1\n",
       "Attributes:\n",
       "    dims_n:         ['n_0']\n",
       "    dims_lnz:       ['lnz_0']\n",
       "    dims_comp:      ['component']\n",
       "    dims_state:     ['lnz_0', 'beta', 'volume']\n",
       "    dims_rec:       ['sample']\n",
       "    standard_name:  grand_potential\n",
       "    long_name:      $\\beta \\Omega(\\mu,V,T)$"
      ]
     },
     "execution_count": 40,
     "metadata": {},
     "output_type": "execute_result"
    }
   ],
   "source": [
    "o_course.binodal.access.xge.betaOmega()"
   ]
  },
  {
   "cell_type": "code",
   "execution_count": 41,
   "metadata": {},
   "outputs": [],
   "source": [
    "# append to o\n",
    "o_new = o.stability_append(o_course)"
   ]
  },
  {
   "cell_type": "code",
   "execution_count": 42,
   "metadata": {},
   "outputs": [
    {
     "data": {
      "application/vnd.jupyter.widget-view+json": {
       "model_id": "",
       "version_major": 2,
       "version_minor": 0
      },
      "text/plain": [
       "HBox(children=(FloatProgress(value=0.0, description='pi_norm', max=620.0, style=ProgressStyle(description_widt…"
      ]
     },
     "metadata": {},
     "output_type": "display_data"
    },
    {
     "name": "stdout",
     "output_type": "stream",
     "text": [
      "\r"
     ]
    },
    {
     "data": {
      "text/plain": [
       "[<matplotlib.lines.Line2D at 0x7fd2896e1810>]"
      ]
     },
     "execution_count": 42,
     "metadata": {},
     "output_type": "execute_result"
    },
    {
     "data": {
      "image/png": "[encoded data removed]",
      "text/plain": [
       "<Figure size 432x288 with 1 Axes>"
      ]
     },
     "metadata": {
      "needs_background": "light"
     },
     "output_type": "display_data"
    }
   ],
   "source": [
    "o_new.xge.betaOmega().plot(hue='phase')\n",
    "\n",
    "(\n",
    "    o_new.spinodal.access.xge.betaOmega()\n",
    "    .pipe(lambda x: x.sel(spinodal=x.phase))\n",
    "    .plot(hue='phase', marker='o')\n",
    ")\n",
    "\n",
    "\n",
    "(\n",
    "    o_new.binodal.access.xge\n",
    "    .betaOmega()\n",
    "    .pipe(lambda x: x.sel(phase=x.binodal))\n",
    "    .plot.line(hue='binodal', marker='o')\n",
    ")"
   ]
  },
  {
   "cell_type": "code",
   "execution_count": null,
   "metadata": {},
   "outputs": [],
   "source": []
  }
 ],
 "metadata": {
  "kernelspec": {
   "display_name": "Python [conda env:.conda-py37]",
   "language": "python",
   "name": "conda-env-.conda-py37-py"
  },
  "language_info": {
   "codemirror_mode": {
    "name": "ipython",
    "version": 3
   },
   "file_extension": ".py",
   "mimetype": "text/x-python",
   "name": "python",
   "nbconvert_exporter": "python",
   "pygments_lexer": "ipython3",
   "version": "3.7.6"
  },
  "toc": {
   "base_numbering": 1,
   "nav_menu": {},
   "number_sections": true,
   "sideBar": true,
   "skip_h1_title": false,
   "title_cell": "Table of Contents",
   "title_sidebar": "Contents",
   "toc_cell": false,
   "toc_position": {
    "height": "calc(100% - 180px)",
    "left": "10px",
    "top": "150px",
    "width": "281.188px"
   },
   "toc_section_display": true,
   "toc_window_display": true
  }
 },
 "nbformat": 4,
 "nbformat_minor": 2
}
