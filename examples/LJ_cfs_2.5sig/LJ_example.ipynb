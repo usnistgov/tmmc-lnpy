{
 "cells": [
  {
   "cell_type": "code",
   "execution_count": 1,
   "metadata": {},
   "outputs": [],
   "source": [
    "%config Completer.use_jedi=False\n",
    "%matplotlib inline\n",
    "\n",
    "import matplotlib.pyplot as plt\n",
    "import numpy as np\n",
    "import pandas as pd\n",
    "import xarray as xr\n",
    "from importlib import reload\n",
    "\n",
    "\n",
    "#import lnPi.old\n",
    "import lnPi\n",
    "import lnPi.stability\n",
    "\n",
    "import lnPi.collectionlnpiutils\n",
    "\n"
   ]
  },
  {
   "cell_type": "code",
   "execution_count": 2,
   "metadata": {},
   "outputs": [],
   "source": [
    "# function to convert from CH3 units to standard units"
   ]
  },
  {
   "cell_type": "code",
   "execution_count": 3,
   "metadata": {},
   "outputs": [],
   "source": [
    "import json\n",
    "kB = 1.3806503E-23 #J/K\n",
    "Na = 6.02214199E23 #1/mol\n",
    "kg = 1.66054E-27 #1/amu\n",
    "hPlanck = 6.62606876E-34 #Js\n",
    "\n",
    "\n",
    "def get_lnz(path):\n",
    "    with open(path) as f:\n",
    "        metadata = json.load(f)\n",
    "\n",
    "    deBroglie = hPlanck/np.sqrt(2. * np.pi * (metadata[\"mass\"]*kg) * kB * (metadata[\"T*\"]*metadata[\"eps_kB\"])) * 1.e10 #ang\n",
    "\n",
    "    mu = metadata['mu*'] + 3. * metadata['T*'] * np.log(metadata[\"sigma\"]/deBroglie)\n",
    "    temp = metadata['T*']\n",
    "\n",
    "    lnz = mu / temp\n",
    "    \n",
    "    return lnz, {'beta': 1.0 / temp, 'volume' : metadata['V*']}\n"
   ]
  },
  {
   "cell_type": "markdown",
   "metadata": {},
   "source": [
    "# Basics"
   ]
  },
  {
   "cell_type": "code",
   "execution_count": 204,
   "metadata": {},
   "outputs": [
    {
     "name": "stdout",
     "output_type": "stream",
     "text": [
      "{'beta': 0.6666666666666666, 'volume': 512.0}\n"
     ]
    }
   ],
   "source": [
    "# get meta data\n",
    "lnz, state_kws = get_lnz('./T_1.50/metadata.json')\n",
    "print(state_kws)\n",
    "\n",
    "# read in potential energy\n",
    "pe = pd.read_csv('./T_1.50/ljsf.t150.bulk.v512.r1.energy.dat', header=None, sep='\\s+', names=['n','e'])['e'].values\n",
    "\n",
    "\n",
    "# create MaskedlnPi object\n",
    "ref = lnPi.MaskedlnPi.from_table('./T_1.50/ljsf.t150.bulk.v512.r1.lnpi.dat', \n",
    "                                 fill_value=np.nan, \n",
    "                                 lnz=lnz,\n",
    "                                 # state_kws needs to be defined if want to calculate some properties\n",
    "                                 # down the road\n",
    "                                 state_kws=state_kws, \n",
    "                                 # extra_kws is where you pass things which will be passed along to\n",
    "                                 # new lnPis, like potential energy\n",
    "                                 extra_kws={'PE':pe})\n",
    "\n",
    "\n",
    "# zero out the max value.\n",
    "# this is not neccessary, but not a bad idea either\n",
    "ref = ref.zeromax()\n",
    "\n",
    "# pad missing values of lnPi\n",
    "# again, not usually needed, but can be important for \n",
    "# multicomponent lnPi's during segmenting\n",
    "ref = ref.pad()\n",
    "\n",
    "# create a phase_creator object.\n",
    "# this provides some \n",
    "# factory functions for reweighting, and segmenting lnPi\n",
    "phase_creator= lnPi.segment.PhaseCreator(nmax=1, nmax_peak=4, ref=ref, \n",
    "                                         merge_kws=dict(efac=0.8), \n",
    "                                         # if want to id phases based on some\n",
    "                                         # callable, then set this.\n",
    "                                         # the callable is passes a list of \n",
    "                                         # MaskedlnPi objects, and should return \n",
    "                                         # a list of phaseid \n",
    "                                         tag_phases=None\n",
    "                                         #tag_phases=tag_phases2\n",
    "                                        )\n",
    "\n",
    "# choose a particular factory method for creating phases\n",
    "build_phases = phase_creator.build_phases_mu([None])"
   ]
  },
  {
   "cell_type": "code",
   "execution_count": 209,
   "metadata": {},
   "outputs": [],
   "source": [
    "da = ref.xge.lnpi"
   ]
  },
  {
   "cell_type": "code",
   "execution_count": 212,
   "metadata": {},
   "outputs": [],
   "source": [
    "da.to_netcdf('tmp.nc')"
   ]
  },
  {
   "cell_type": "code",
   "execution_count": 216,
   "metadata": {},
   "outputs": [
    {
     "data": {
      "text/plain": [
       "MaskedlnPi(\n",
       "     lnz=array([2.76512052])\n",
       "     state_kws={'beta': 0.6666666666666666, 'volume': 512.0}\n",
       "     data=masked_array(data=[-1559.74529128396, -1550.74199128396,\n",
       "                   -1542.42679128396, -1534.51249128396,\n",
       "                   -1526.88089128396, -1519.46799128396,\n",
       "                   -1512.23239128396, -1505.14639128396,\n",
       "                   -1498.18944128396, -1491.34493128396,\n",
       "                   -1484.60145128396, -1477.94868128396,\n",
       "                   -1471.37844128396, -1464.88338128396,\n",
       "                   -1458.45866128396, -1452.09811128396,\n",
       "                   -1445.79832128396, -1439.55474128396,\n",
       "                   -1433.36297128396, -1427.22082128396,\n",
       "                   -1421.12595128396, -1415.07518128396,\n",
       "                   -1409.06716128396, -1403.09949128396,\n",
       "                   -1397.16976128396, -1391.27691128396,\n",
       "                   -1385.41847128396, -1379.59397128396,\n",
       "                   -1373.80152128396, -1368.03962128396,\n",
       "                   -1362.30801128396, -1356.60485128396,\n",
       "                   -1350.92960128396, -1345.28077128396,\n",
       "                   -1339.65810128396, -1334.06083128396,\n",
       "                   -1328.48743128396, -1322.93740128396,\n",
       "                   -1317.41023128396, -1311.90527128396,\n",
       "                   -1306.42180128396, -1300.95938128396,\n",
       "                   -1295.51694128396, -1290.09477128396,\n",
       "                   -1284.69160128396, -1279.30707128396,\n",
       "                   -1273.94063128396, -1268.59227128396,\n",
       "                   -1263.26104128396, -1257.94732128396,\n",
       "                   -1252.64988128396, -1247.36927128396,\n",
       "                   -1242.10380128396, -1236.85491128396,\n",
       "                   -1231.62059128396, -1226.40122128396,\n",
       "                   -1221.19644128396, -1216.00617128396,\n",
       "                   -1210.82966128396, -1205.66721128396,\n",
       "                   -1200.51800128396, -1195.38228128396,\n",
       "                   -1190.25959128396, -1185.14903128396,\n",
       "                   -1180.05112128396, -1174.96622128396,\n",
       "                   -1169.89338128396, -1164.83261128396,\n",
       "                   -1159.78318128396, -1154.74612128396,\n",
       "                   -1149.72018128396, -1144.70576128396,\n",
       "                   -1139.70156128396, -1134.70817128396,\n",
       "                   -1129.72606128396, -1124.75421128396,\n",
       "                   -1119.79287128396, -1114.84184128396,\n",
       "                   -1109.90081128396, -1104.96998128396,\n",
       "                   -1100.04862128396, -1095.13788128396,\n",
       "                   -1090.23585128396, -1085.34362128396,\n",
       "                   -1080.46078128396, -1075.58696128396,\n",
       "                   -1070.72131128396, -1065.86500128396,\n",
       "                   -1061.01873128396, -1056.18061128396,\n",
       "                   -1051.35189128396, -1046.53087128396,\n",
       "                   -1041.71862128396, -1036.91510128396,\n",
       "                   -1032.11962128396, -1027.33234128396,\n",
       "                   -1022.5541912839601, -1017.78419128396,\n",
       "                   -1013.02210128396, -1008.26734128396,\n",
       "                   -1003.52016128396, -998.78220128396, -994.05142128396,\n",
       "                   -989.32732128396, -984.61170128396, -979.90392128396,\n",
       "                   -975.20202128396, -970.50949128396, -965.82381128396,\n",
       "                   -961.14589128396, -956.47468128396, -951.81139128396,\n",
       "                   -947.15472128396, -942.50608128396, -937.86334128396,\n",
       "                   -933.22795128396, -928.59924128396, -923.97730128396,\n",
       "                   -919.36291128396, -914.75513128396, -910.15432128396,\n",
       "                   -905.56068128396, -900.97313128396, -896.39317128396,\n",
       "                   -891.81979128396, -887.25328128396, -882.69227128396,\n",
       "                   -878.13832128396, -873.59091128396, -869.05055128396,\n",
       "                   -864.51599128396, -859.98858128396, -855.46641128396,\n",
       "                   -850.95183128396, -846.44524128396, -841.94472128396,\n",
       "                   -837.44960128396, -832.96006128396, -828.47815128396,\n",
       "                   -824.00166128396, -819.53228128396, -815.06882128396,\n",
       "                   -810.61178128396, -806.16123128396, -801.71683128396,\n",
       "                   -797.27931128396, -792.84646128396, -788.42107128396,\n",
       "                   -784.00189128396, -779.58907128396, -775.18264128396,\n",
       "                   -770.78177128396, -766.38761128396, -761.99972128396,\n",
       "                   -757.61733128396, -753.24008128396, -748.87017128396,\n",
       "                   -744.50683128396, -740.14911128396, -735.79820128396,\n",
       "                   -731.45326128396, -727.11447128396, -722.78200128396,\n",
       "                   -718.45693128396, -714.13766128396, -709.82464128396,\n",
       "                   -705.51708128396, -701.21671128396, -696.92277128396,\n",
       "                   -692.63472128396, -688.35284128396, -684.07655128396,\n",
       "                   -679.80865128396, -675.54556128396, -671.28931128396,\n",
       "                   -667.03971128396, -662.79425128396, -658.55679128396,\n",
       "                   -654.32496128396, -650.10032128396, -645.88235128396,\n",
       "                   -641.67136128396, -637.46579128396, -633.26672128396,\n",
       "                   -629.07418128396, -624.88930128396, -620.70922128396,\n",
       "                   -616.53638128396, -612.37107128396, -608.21224128396,\n",
       "                   -604.06037128396, -599.91497128396, -595.77530528396,\n",
       "                   -591.64271428396, -587.51779128396, -583.40052028396,\n",
       "                   -579.28914428396, -575.18462928396, -571.08595228396,\n",
       "                   -566.99509828396, -562.91070328396, -558.83368528396,\n",
       "                   -554.76320228396, -550.70014728396, -546.64411428396,\n",
       "                   -542.59539028396, -538.55369928396, -534.52003428396,\n",
       "                   -530.49161328396, -526.47130428396, -522.45912428396,\n",
       "                   -518.45270728396, -514.45554811696, -510.46541078396,\n",
       "                   -506.48279603396, -502.50735303396, -498.53984938096,\n",
       "                   -494.57978938096, -490.62776938096,\n",
       "                   -486.68320938095997, -482.74619938096,\n",
       "                   -478.81783938096, -474.89728938096, -470.98432938096,\n",
       "                   -467.07914938095996, -463.18166938096,\n",
       "                   -459.29257938096, -455.41202938095995,\n",
       "                   -451.54023938096, -447.67652938095995,\n",
       "                   -443.82065938095997, -439.97303938095996,\n",
       "                   -436.13447938096, -432.30428938096,\n",
       "                   -428.48228938095997, -424.67045938096,\n",
       "                   -420.86678938096, -417.07111938095994,\n",
       "                   -413.28441938095995, -409.50683938095995,\n",
       "                   -405.73834938095996, -401.98009938096,\n",
       "                   -398.23002938096, -394.48829938096, -390.75706938096,\n",
       "                   -387.03413938095997, -383.32208138095996,\n",
       "                   -379.61830538095995, -375.92511338095994,\n",
       "                   -372.24104838095997, -368.56670838096,\n",
       "                   -364.90279238095997, -361.24721038096,\n",
       "                   -357.60179838095996, -353.96664038096,\n",
       "                   -350.34220138096, -346.72816738096,\n",
       "                   -343.12431438095996, -339.53118438096,\n",
       "                   -335.94783538096, -332.37602138096, -328.81525038096,\n",
       "                   -325.26561338096, -321.72507638096, -318.19523338096,\n",
       "                   -314.67713138096, -311.17027038096, -307.67520138096,\n",
       "                   -304.19134338096, -300.71962938096,\n",
       "                   -297.25997938096003, -293.81107604696,\n",
       "                   -290.37386769696, -286.94900536396, -283.53566739496,\n",
       "                   -280.13502739496, -276.74652739495997,\n",
       "                   -273.36987739496, -270.00626739496, -266.65488739496,\n",
       "                   -263.31706439495997, -259.99201339496,\n",
       "                   -256.67969739496, -253.37902539496,\n",
       "                   -250.09283039495998, -246.81923639495997,\n",
       "                   -243.55917939495998, -240.31329839496,\n",
       "                   -237.08180739495998, -233.86299939495999,\n",
       "                   -230.65749139495998, -227.46619139496,\n",
       "                   -224.29063939495998, -221.12784839495998,\n",
       "                   -217.98001939495998, -214.84707939496,\n",
       "                   -211.72778739496, -208.62343139496, -205.53541439496,\n",
       "                   -202.46186839496, -199.40320639496, -196.36030439496,\n",
       "                   -193.33487239495997, -190.32370239495998,\n",
       "                   -187.32918239496, -184.34956839496, -181.38716439496,\n",
       "                   -178.44195739495999, -175.51200206096001,\n",
       "                   -172.59842232796, -169.70298477796, -166.82359967796,\n",
       "                   -163.96100363996, -161.11522163996, -158.28811563996,\n",
       "                   -155.47807363996, -152.68473763996, -149.91068763996,\n",
       "                   -147.15473063996, -144.41779963996, -141.69912063996,\n",
       "                   -138.99842863996, -136.31608963996, -133.65322363996,\n",
       "                   -131.01104463996, -128.38973763996,\n",
       "                   -125.78710363996001, -123.20168663996,\n",
       "                   -120.63578463996001, -118.09059363996,\n",
       "                   -115.56620463996, -113.06495063996, -110.58501763996,\n",
       "                   -108.12448463996, -105.68644263996, -103.26826063996,\n",
       "                   -100.87344563996001, -98.49969563996001,\n",
       "                   -96.14672464006, -93.81503064006, -91.50573205676001,\n",
       "                   -89.21945852336, -86.95664707336, -84.71604117336001,\n",
       "                   -82.49848094005999, -80.30548394006, -78.13473994006,\n",
       "                   -75.98789294006, -73.86744594006, -71.77001494006,\n",
       "                   -69.69657194006, -67.64816894006, -65.62393194005999,\n",
       "                   -63.62615794006, -61.65311194006, -59.70660194006,\n",
       "                   -57.78604094006, -55.89282894006, -54.025817940059994,\n",
       "                   -52.18098894006, -50.365528940059995,\n",
       "                   -48.577732940059995, -46.81908594006,\n",
       "                   -45.090765940059995, -43.385230640059994,\n",
       "                   -41.711276340059996, -40.06325534006, -38.44632787346,\n",
       "                   -36.85785857346, -35.30003594016, -33.76923674686,\n",
       "                   -32.26649974686, -30.797032746859998, -29.35618574686,\n",
       "                   -27.94373174686, -26.565284746859998, -25.21659174686,\n",
       "                   -23.90004174686, -22.615439746859998, -21.36539674686,\n",
       "                   -20.148631746859998, -18.96215274686, -17.80756874686,\n",
       "                   -16.68565674686, -15.596163946859999,\n",
       "                   -14.541953946859998, -13.518532946859999,\n",
       "                   -12.53091054686, -11.57922974686, -10.664979946859999,\n",
       "                   -9.781181780159999, -8.93692544676, -8.12979094676,\n",
       "                   -7.35645821346, -6.62142043329, -5.92517433329,\n",
       "                   -5.266390133290001, -4.638096033290001,\n",
       "                   -4.0529894332900005, -3.5055256332900004,\n",
       "                   -2.995186233290001, -2.5293521332899997,\n",
       "                   -2.0956381332900005, -1.7043066332899999,\n",
       "                   -1.34976083329, -1.0359674332900002,\n",
       "                   -0.7612169332899996, -0.5351124332899997,\n",
       "                   -0.3447612332899994, -0.19330493328999943,\n",
       "                   -0.09056743328999994, -0.023324533289999838, 0.0,\n",
       "                   -0.02066053330000006, -0.08434468329999989,\n",
       "                   -0.1889866833, -0.33161651668000003,\n",
       "                   -0.5268307166800001, -0.76755001668,\n",
       "                   -1.0536376166799992, -1.3840179166799995,\n",
       "                   -1.7570301166799993, -2.1807525166799993,\n",
       "                   -2.6512243166799996, -3.1689126166799992,\n",
       "                   -3.7340154166799993, -4.349934716679999,\n",
       "                   -5.0121401166799995, -5.72768601668,\n",
       "                   -6.481847116679999, -7.287285216679999, -8.14737971666,\n",
       "                   -9.05170671666, -10.01000071666, -11.01541471666,\n",
       "                   -12.08148371666],\n",
       "             mask=[False, False, False, False, False, False, False, False,\n",
       "                   False, False, False, False, False, False, False, False,\n",
       "                   False, False, False, False, False, False, False, False,\n",
       "                   False, False, False, False, False, False, False, False,\n",
       "                   False, False, False, False, False, False, False, False,\n",
       "                   False, False, False, False, False, False, False, False,\n",
       "                   False, False, False, False, False, False, False, False,\n",
       "                   False, False, False, False, False, False, False, False,\n",
       "                   False, False, False, False, False, False, False, False,\n",
       "                   False, False, False, False, False, False, False, False,\n",
       "                   False, False, False, False, False, False, False, False,\n",
       "                   False, False, False, False, False, False, False, False,\n",
       "                   False, False, False, False, False, False, False, False,\n",
       "                   False, False, False, False, False, False, False, False,\n",
       "                   False, False, False, False, False, False, False, False,\n",
       "                   False, False, False, False, False, False, False, False,\n",
       "                   False, False, False, False, False, False, False, False,\n",
       "                   False, False, False, False, False, False, False, False,\n",
       "                   False, False, False, False, False, False, False, False,\n",
       "                   False, False, False, False, False, False, False, False,\n",
       "                   False, False, False, False, False, False, False, False,\n",
       "                   False, False, False, False, False, False, False, False,\n",
       "                   False, False, False, False, False, False, False, False,\n",
       "                   False, False, False, False, False, False, False, False,\n",
       "                   False, False, False, False, False, False, False, False,\n",
       "                   False, False, False, False, False, False, False, False,\n",
       "                   False, False, False, False, False, False, False, False,\n",
       "                   False, False, False, False, False, False, False, False,\n",
       "                   False, False, False, False, False, False, False, False,\n",
       "                   False, False, False, False, False, False, False, False,\n",
       "                   False, False, False, False, False, False, False, False,\n",
       "                   False, False, False, False, False, False, False, False,\n",
       "                   False, False, False, False, False, False, False, False,\n",
       "                   False, False, False, False, False, False, False, False,\n",
       "                   False, False, False, False, False, False, False, False,\n",
       "                   False, False, False, False, False, False, False, False,\n",
       "                   False, False, False, False, False, False, False, False,\n",
       "                   False, False, False, False, False, False, False, False,\n",
       "                   False, False, False, False, False, False, False, False,\n",
       "                   False, False, False, False, False, False, False, False,\n",
       "                   False, False, False, False, False, False, False, False,\n",
       "                   False, False, False, False, False, False, False, False,\n",
       "                   False, False, False, False, False, False, False, False,\n",
       "                   False, False, False, False, False, False, False, False,\n",
       "                   False, False, False, False, False, False, False, False,\n",
       "                   False, False, False, False, False, False, False, False,\n",
       "                   False, False, False, False, False, False, False, False,\n",
       "                   False, False, False, False, False, False, False, False,\n",
       "                   False, False, False, False, False, False, False, False,\n",
       "                   False, False, False, False, False, False, False, False,\n",
       "                   False, False, False, False, False, False, False, False,\n",
       "                   False, False, False, False, False, False, False, False,\n",
       "                   False, False, False, False, False, False, False, False,\n",
       "                   False, False, False, False, False, False, False, False,\n",
       "                   False, False, False, False],\n",
       "       fill_value=nan)\n",
       ")"
      ]
     },
     "execution_count": 216,
     "metadata": {},
     "output_type": "execute_result"
    }
   ],
   "source": [
    "lnPi.MaskedlnPi.from_dataarray(da)"
   ]
  },
  {
   "cell_type": "code",
   "execution_count": 213,
   "metadata": {},
   "outputs": [
    {
     "data": {
      "text/plain": [
       "{'beta': 0.6666666666666666, 'volume': 512.0}"
      ]
     },
     "execution_count": 213,
     "metadata": {},
     "output_type": "execute_result"
    }
   ],
   "source": [
    "ref.from_dataarray(da).state_kws"
   ]
  },
  {
   "cell_type": "code",
   "execution_count": 7,
   "metadata": {},
   "outputs": [
    {
     "data": {
      "text/plain": [
       "<class CollectionlnPi>\n",
       "lnz_0  phase\n",
       "-8     0        [-8]\n",
       "dtype: object"
      ]
     },
     "execution_count": 7,
     "metadata": {},
     "output_type": "execute_result"
    }
   ],
   "source": [
    "# build an lnPi at new lnz\n",
    "x = build_phases(-8)\n",
    "x"
   ]
  },
  {
   "cell_type": "markdown",
   "metadata": {},
   "source": [
    "# Canoncial properties\n",
    "\n",
    " * Canonical properties are attached to MaskedlnPi objects throught the xce attribute. \n",
    " * just pick one and go.  Same regardless of lnz choosen"
   ]
  },
  {
   "cell_type": "code",
   "execution_count": 64,
   "metadata": {},
   "outputs": [
    {
     "name": "stdout",
     "output_type": "stream",
     "text": [
      "['PE', 'PE_n', 'S', 'S_n', 'Z', 'betaE', 'betaE_n', 'betaF', 'betaF_n', 'betaOmega', 'betaOmega_n', 'betamu', 'betapV', 'dens', 'ncoords', 'ntot', 'nvec', 'pressure', 'table']\n"
     ]
    }
   ],
   "source": [
    "# available properties\n",
    "print([x for x in dir(ref.xce) if x[0] != '_'] )"
   ]
  },
  {
   "cell_type": "code",
   "execution_count": 65,
   "metadata": {},
   "outputs": [
    {
     "data": {
      "text/plain": [
       "<xarray.DataArray 'PE' (n_0: 436)>\n",
       "array([ 4.246256e-10,  4.246692e-10, -2.103832e-02, ..., -1.643184e+03,\n",
       "       -1.648706e+03, -1.654360e+03])\n",
       "Coordinates:\n",
       "  * n_0      (n_0) int64 0 1 2 3 4 5 6 7 8 ... 428 429 430 431 432 433 434 435\n",
       "    beta     float64 0.6667\n",
       "    volume   float64 512.0\n",
       "Attributes:\n",
       "    dims_n:         ['n_0']\n",
       "    dims_lnz:       ['lnz_0']\n",
       "    dims_comp:      ['component']\n",
       "    dims_state:     ['lnz_0', 'beta', 'volume']\n",
       "    dims_rec:       []\n",
       "    standard_name:  potential_energy\n",
       "    long_name:      ${\\rm PE}({\\bf n},V,T)/n$"
      ]
     },
     "execution_count": 65,
     "metadata": {},
     "output_type": "execute_result"
    }
   ],
   "source": [
    "ref.xce.PE"
   ]
  },
  {
   "cell_type": "code",
   "execution_count": 66,
   "metadata": {},
   "outputs": [
    {
     "data": {
      "text/plain": [
       "<xarray.DataArray 'betaF' (n_0: 436)>\n",
       "array([   0.      ,   -6.238179,  -11.788259, ..., -352.438106, -348.667572,\n",
       "       -344.836382])\n",
       "Coordinates:\n",
       "    beta     float64 0.6667\n",
       "    volume   float64 512.0\n",
       "  * n_0      (n_0) int64 0 1 2 3 4 5 6 7 8 ... 428 429 430 431 432 433 434 435\n",
       "Attributes:\n",
       "    dims_n:         ['n_0']\n",
       "    dims_lnz:       ['lnz_0']\n",
       "    dims_comp:      ['component']\n",
       "    dims_state:     ['lnz_0', 'beta', 'volume']\n",
       "    dims_rec:       []\n",
       "    standard_name:  helmholtz_free_energy\n",
       "    long_name:      $\\beta F({\\bf n},V,T)$"
      ]
     },
     "execution_count": 66,
     "metadata": {},
     "output_type": "execute_result"
    }
   ],
   "source": [
    "ref.xce.betaF()"
   ]
  },
  {
   "cell_type": "markdown",
   "metadata": {},
   "source": [
    "# Collection of lnPi's"
   ]
  },
  {
   "cell_type": "code",
   "execution_count": 73,
   "metadata": {},
   "outputs": [
    {
     "data": {
      "text/plain": [
       "<module 'lnPi.collectionlnpiutils' from '/Users/wpk/Documents/python/lnPi/collectionlnpiutils.py'>"
      ]
     },
     "execution_count": 73,
     "metadata": {},
     "output_type": "execute_result"
    }
   ],
   "source": [
    "reload(lnPi.collectionlnpiutils)"
   ]
  },
  {
   "cell_type": "code",
   "execution_count": 75,
   "metadata": {},
   "outputs": [
    {
     "data": {
      "text/plain": [
       "array([-7.23, -7.22, -7.21, ..., 12.74, 12.75, 12.76])"
      ]
     },
     "execution_count": 75,
     "metadata": {},
     "output_type": "execute_result"
    }
   ],
   "source": [
    "lnPi.collectionlnpiutils.build_grid(dx=0.01, x0=ref.lnz[0], offsets=[-10, 10], even_grid=True, digits=2)"
   ]
  },
  {
   "cell_type": "code",
   "execution_count": 41,
   "metadata": {},
   "outputs": [
    {
     "name": "stderr",
     "output_type": "stream",
     "text": [
      "/Users/wpk/Documents/python/lnPi/extensions.py:119: AccessorRegistrationWarning: registration of accessor <class 'lnPi.collectionlnpiutils.LowerBounds'> under name 'bounds_lower' for type <class 'lnPi.collectionlnpi.CollectionlnPi'> is overriding a preexisting attribute with the same name.\n",
      "  cls._register_accessor(name, accessor, single_create)\n",
      "/Users/wpk/Documents/python/lnPi/extensions.py:119: AccessorRegistrationWarning: registration of accessor <class 'lnPi.collectionlnpiutils.UpperBounds'> under name 'bounds_upper' for type <class 'lnPi.collectionlnpi.CollectionlnPi'> is overriding a preexisting attribute with the same name.\n",
      "  cls._register_accessor(name, accessor, single_create)\n"
     ]
    },
    {
     "data": {
      "text/plain": [
       "<module 'lnPi.collectionlnpiutils' from '/Users/wpk/Documents/python/lnPi/collectionlnpiutils.py'>"
      ]
     },
     "execution_count": 41,
     "metadata": {},
     "output_type": "execute_result"
    }
   ],
   "source": [
    "reload(lnPi.collectionlnpiutils)"
   ]
  },
  {
   "cell_type": "code",
   "execution_count": 42,
   "metadata": {},
   "outputs": [
    {
     "data": {
      "application/vnd.jupyter.widget-view+json": {
       "model_id": "7e56578ebf64473f9edf9da3ce7dbd93",
       "version_major": 2,
       "version_minor": 0
      },
      "text/plain": [
       "HBox(children=(IntProgress(value=0, description='build', max=2000, style=ProgressStyle(description_width='init…"
      ]
     },
     "metadata": {},
     "output_type": "display_data"
    },
    {
     "name": "stdout",
     "output_type": "stream",
     "text": [
      "\n"
     ]
    }
   ],
   "source": [
    "# for big builds, take advantage of progress bar, and parallel builds\n",
    "lnzs = np.linspace(-10, 3.5, 2000)\n",
    "\n",
    "# by default, progress bar hides itself after completion.  use context manager to keep it\n",
    "# note that for this example (where only have a single phase), doesn't really make a difference\n",
    "with lnPi.set_options(tqdm_leave=True, joblib_use=False):\n",
    "    o = lnPi.CollectionlnPi.from_builder(lnzs, build_phases)"
   ]
  },
  {
   "cell_type": "code",
   "execution_count": 44,
   "metadata": {},
   "outputs": [],
   "source": [
    "o.bounds_lower(0.00001, build_phases, force=True)\n",
    "o.bounds_upper(8, build_phases)"
   ]
  },
  {
   "cell_type": "code",
   "execution_count": 45,
   "metadata": {},
   "outputs": [
    {
     "data": {
      "text/plain": [
       "<xarray.DataArray 'dens' (component: 1, lnz_0: 1, phase: 1)>\n",
       "array([[[1.e-05]]])\n",
       "Coordinates:\n",
       "    beta     float64 0.6667\n",
       "    volume   float64 512.0\n",
       "  * lnz_0    (lnz_0) float64 -11.51\n",
       "  * phase    (phase) int64 0\n",
       "Dimensions without coordinates: component\n",
       "Attributes:\n",
       "    dims_n:      ['n_0']\n",
       "    dims_lnz:    ['lnz_0']\n",
       "    dims_comp:   ['component']\n",
       "    dims_state:  ['lnz_0', 'beta', 'volume']\n",
       "    dims_rec:    ['sample']\n",
       "    long_name:   ${\\bf \\rho}(\\mu,V,T)$"
      ]
     },
     "execution_count": 45,
     "metadata": {},
     "output_type": "execute_result"
    }
   ],
   "source": [
    "o.bounds_lower.access.xge.dens"
   ]
  },
  {
   "cell_type": "code",
   "execution_count": 46,
   "metadata": {},
   "outputs": [
    {
     "data": {
      "text/plain": [
       "<xarray.DataArray 'edge_distance' (lnz_0: 1, phase: 1)>\n",
       "array([[8.]])\n",
       "Coordinates:\n",
       "    beta     float64 0.6667\n",
       "    volume   float64 512.0\n",
       "  * lnz_0    (lnz_0) float64 3.519\n",
       "  * phase    (phase) int64 0\n",
       "Attributes:\n",
       "    dims_n:      ['n_0']\n",
       "    dims_lnz:    ['lnz_0']\n",
       "    dims_comp:   ['component']\n",
       "    dims_state:  ['lnz_0', 'beta', 'volume']\n",
       "    dims_rec:    ['sample']\n",
       "    long_name:   distance from upper edge"
      ]
     },
     "execution_count": 46,
     "metadata": {},
     "output_type": "execute_result"
    }
   ],
   "source": [
    "o.bounds_upper.access.xge.edge_distance(ref)"
   ]
  },
  {
   "cell_type": "markdown",
   "metadata": {},
   "source": [
    "# grand canonical properties\n",
    "\n",
    "* Grand canonical properties are attached to CollectionlnPi objects. \n",
    "* Behind the scense, are master xarray.DataArray of lnPi's is created (x.xge.lnpi).  This is not cached\n",
    "* Pi(N) (attribute x.xge.pi_norm) is cached for fast future calculations\n",
    "* So the time consuming parti is creation of Pi(N), but further calcs are very fast"
   ]
  },
  {
   "cell_type": "code",
   "execution_count": 70,
   "metadata": {},
   "outputs": [
    {
     "name": "stdout",
     "output_type": "stream",
     "text": [
      "['PE', 'PE_n', 'S', 'S_n', 'Z', 'argmax', 'beta', 'betaE', 'betaE_n', 'betaF', 'betaF_alt', 'betaF_n', 'betaG', 'betaG_n', 'betaOmega', 'betaOmega_n', 'betamu', 'betapV', 'coords_state', 'dens', 'dens_tot', 'dims_comp', 'dims_lnz', 'dims_n', 'dims_rec', 'dims_state', 'edge_distance', 'lnpi', 'lnpi_norm', 'lnz', 'mask_stable', 'max', 'mean_pi', 'molfrac', 'ncoords', 'ncoords_tot', 'ntot', 'ntot_var', 'nvec', 'nvec_var', 'pi_norm', 'pi_sum', 'pipe', 'pressure', 'table', 'var_pi', 'volume']\n"
     ]
    }
   ],
   "source": [
    "# available attributes/methods\n",
    "print([x for x in dir(o.xge) if x[0] != '_'])"
   ]
  },
  {
   "cell_type": "code",
   "execution_count": 71,
   "metadata": {},
   "outputs": [
    {
     "data": {
      "text/plain": [
       "<xarray.DataArray 'betaOmega' (lnz_0: 100, phase: 1)>\n",
       "array([[-2.324276e-02],\n",
       "       [-2.663872e-02],\n",
       "       [-3.053090e-02],\n",
       "       [-3.499181e-02],\n",
       "       [-4.010458e-02],\n",
       "       [-4.596449e-02],\n",
       "       [-5.268073e-02],\n",
       "       [-6.037848e-02],\n",
       "       [-6.920123e-02],\n",
       "       [-7.931345e-02],\n",
       "       [-9.090368e-02],\n",
       "       [-1.041881e-01],\n",
       "       [-1.194144e-01],\n",
       "       [-1.368666e-01],\n",
       "       [-1.568705e-01],\n",
       "       [-1.797994e-01],\n",
       "       [-2.060814e-01],\n",
       "       [-2.362074e-01],\n",
       "       [-2.707403e-01],\n",
       "       [-3.103257e-01],\n",
       "       [-3.557040e-01],\n",
       "       [-4.077246e-01],\n",
       "       [-4.673616e-01],\n",
       "       [-5.357331e-01],\n",
       "       [-6.141218e-01],\n",
       "       [-7.039999e-01],\n",
       "       [-8.070576e-01],\n",
       "       [-9.252355e-01],\n",
       "       [-1.060763e+00],\n",
       "       [-1.216199e+00],\n",
       "       [-1.394489e+00],\n",
       "       [-1.599016e+00],\n",
       "       [-1.833673e+00],\n",
       "       [-2.102940e+00],\n",
       "       [-2.411976e+00],\n",
       "       [-2.766730e+00],\n",
       "       [-3.174060e+00],\n",
       "       [-3.641886e+00],\n",
       "       [-4.179364e+00],\n",
       "       [-4.797089e+00],\n",
       "       [-5.507342e+00],\n",
       "       [-6.324379e+00],\n",
       "       [-7.264776e+00],\n",
       "       [-8.347842e+00],\n",
       "       [-9.596113e+00],\n",
       "       [-1.103597e+01],\n",
       "       [-1.269839e+01],\n",
       "       [-1.461996e+01],\n",
       "       [-1.684405e+01],\n",
       "       [-1.942227e+01],\n",
       "       [-2.241636e+01],\n",
       "       [-2.590051e+01],\n",
       "       [-2.996434e+01],\n",
       "       [-3.471672e+01],\n",
       "       [-4.029091e+01],\n",
       "       [-4.685079e+01],\n",
       "       [-5.459750e+01],\n",
       "       [-6.377592e+01],\n",
       "       [-7.467997e+01],\n",
       "       [-8.764614e+01],\n",
       "       [-1.030247e+02],\n",
       "       [-1.211225e+02],\n",
       "       [-1.421281e+02],\n",
       "       [-1.660588e+02],\n",
       "       [-1.927789e+02],\n",
       "       [-2.220622e+02],\n",
       "       [-2.536477e+02],\n",
       "       [-2.872866e+02],\n",
       "       [-3.227575e+02],\n",
       "       [-3.598687e+02],\n",
       "       [-3.984607e+02],\n",
       "       [-4.383994e+02],\n",
       "       [-4.795696e+02],\n",
       "       [-5.218747e+02],\n",
       "       [-5.652315e+02],\n",
       "       [-6.095666e+02],\n",
       "       [-6.548172e+02],\n",
       "       [-7.009304e+02],\n",
       "       [-7.478592e+02],\n",
       "       [-7.955601e+02],\n",
       "       [-8.439936e+02],\n",
       "       [-8.931242e+02],\n",
       "       [-9.429207e+02],\n",
       "       [-9.933556e+02],\n",
       "       [-1.044403e+03],\n",
       "       [-1.096039e+03],\n",
       "       [-1.148243e+03],\n",
       "       [-1.200993e+03],\n",
       "       [-1.254270e+03],\n",
       "       [-1.308056e+03],\n",
       "       [-1.362336e+03],\n",
       "       [-1.417097e+03],\n",
       "       [-1.472325e+03],\n",
       "       [-1.528007e+03],\n",
       "       [-1.584133e+03],\n",
       "       [-1.640688e+03],\n",
       "       [-1.697661e+03],\n",
       "       [-1.755039e+03],\n",
       "       [-1.812806e+03],\n",
       "       [-1.870933e+03]])\n",
       "Coordinates:\n",
       "    beta     float64 0.6667\n",
       "    volume   float64 512.0\n",
       "  * lnz_0    (lnz_0) float64 -10.0 -9.864 -9.727 -9.591 ... 3.227 3.364 3.5\n",
       "  * phase    (phase) int64 0\n",
       "Attributes:\n",
       "    dims_n:         ['n_0']\n",
       "    dims_lnz:       ['lnz_0']\n",
       "    dims_comp:      ['component']\n",
       "    dims_state:     ['lnz_0', 'beta', 'volume']\n",
       "    dims_rec:       ['sample']\n",
       "    standard_name:  grand_potential\n",
       "    long_name:      $\\beta \\Omega(\\mu,V,T)$"
      ]
     },
     "execution_count": 71,
     "metadata": {},
     "output_type": "execute_result"
    }
   ],
   "source": [
    "o.xge.betaOmega()"
   ]
  },
  {
   "cell_type": "code",
   "execution_count": 72,
   "metadata": {},
   "outputs": [
    {
     "data": {
      "text/plain": [
       "<xarray.DataArray 'dens' (component: 1, lnz_0: 100, phase: 1)>\n",
       "array([[[4.539867e-05],\n",
       "        [5.203225e-05],\n",
       "        [5.963526e-05],\n",
       "        [6.834942e-05],\n",
       "        [7.833720e-05],\n",
       "        [8.978480e-05],\n",
       "        [1.029057e-04],\n",
       "        [1.179447e-04],\n",
       "        [1.351822e-04],\n",
       "        [1.549400e-04],\n",
       "        [1.775869e-04],\n",
       "        [2.035456e-04],\n",
       "        [2.333012e-04],\n",
       "        [2.674095e-04],\n",
       "        [3.065083e-04],\n",
       "        [3.513290e-04],\n",
       "        [4.027104e-04],\n",
       "        [4.616150e-04],\n",
       "        [5.291471e-04],\n",
       "        [6.065737e-04],\n",
       "        [6.953494e-04],\n",
       "        [7.971436e-04],\n",
       "        [9.138734e-04],\n",
       "        [1.047741e-03],\n",
       "        [1.201275e-03],\n",
       "        [1.377385e-03],\n",
       "        [1.579412e-03],\n",
       "        [1.811203e-03],\n",
       "        [2.077183e-03],\n",
       "        [2.382450e-03],\n",
       "        [2.732878e-03],\n",
       "        [3.135243e-03],\n",
       "        [3.597368e-03],\n",
       "        [4.128293e-03],\n",
       "        [4.738483e-03],\n",
       "        [5.440061e-03],\n",
       "        [6.247103e-03],\n",
       "        [7.175977e-03],\n",
       "        [8.245761e-03],\n",
       "        [9.478739e-03],\n",
       "        [1.090100e-02],\n",
       "        [1.254317e-02],\n",
       "        [1.444126e-02],\n",
       "        [1.663771e-02],\n",
       "        [1.918284e-02],\n",
       "        [2.213672e-02],\n",
       "        [2.557186e-02],\n",
       "        [2.957634e-02],\n",
       "        [3.425723e-02],\n",
       "        [3.974490e-02],\n",
       "        [4.619967e-02],\n",
       "        [5.381978e-02],\n",
       "        [6.285069e-02],\n",
       "        [7.360167e-02],\n",
       "        [8.646520e-02],\n",
       "        [1.019267e-01],\n",
       "        [1.205674e-01],\n",
       "        [1.430584e-01],\n",
       "        [1.701076e-01],\n",
       "        [2.021685e-01],\n",
       "        [2.391159e-01],\n",
       "        [2.797771e-01],\n",
       "        [3.219773e-01],\n",
       "        [3.631966e-01],\n",
       "        [4.016731e-01],\n",
       "        [4.365339e-01],\n",
       "        [4.676631e-01],\n",
       "        [4.954232e-01],\n",
       "        [5.202117e-01],\n",
       "        [5.424911e-01],\n",
       "        [5.626910e-01],\n",
       "        [5.811102e-01],\n",
       "        [5.980155e-01],\n",
       "        [6.136506e-01],\n",
       "        [6.281659e-01],\n",
       "        [6.417015e-01],\n",
       "        [6.544143e-01],\n",
       "        [6.664247e-01],\n",
       "        [6.777861e-01],\n",
       "        [6.885516e-01],\n",
       "        [6.987807e-01],\n",
       "        [7.085314e-01],\n",
       "        [7.178659e-01],\n",
       "        [7.268218e-01],\n",
       "        [7.354192e-01],\n",
       "        [7.436944e-01],\n",
       "        [7.516714e-01],\n",
       "        [7.593527e-01],\n",
       "        [7.667631e-01],\n",
       "        [7.739450e-01],\n",
       "        [7.809248e-01],\n",
       "        [7.877111e-01],\n",
       "        [7.943110e-01],\n",
       "        [8.007360e-01],\n",
       "        [8.069891e-01],\n",
       "        [8.130623e-01],\n",
       "        [8.189528e-01],\n",
       "        [8.246495e-01],\n",
       "        [8.300592e-01],\n",
       "        [8.349292e-01]]])\n",
       "Coordinates:\n",
       "    beta     float64 0.6667\n",
       "    volume   float64 512.0\n",
       "  * lnz_0    (lnz_0) float64 -10.0 -9.864 -9.727 -9.591 ... 3.227 3.364 3.5\n",
       "  * phase    (phase) int64 0\n",
       "Dimensions without coordinates: component\n",
       "Attributes:\n",
       "    dims_n:      ['n_0']\n",
       "    dims_lnz:    ['lnz_0']\n",
       "    dims_comp:   ['component']\n",
       "    dims_state:  ['lnz_0', 'beta', 'volume']\n",
       "    dims_rec:    ['sample']\n",
       "    long_name:   ${\\bf \\rho}(\\mu,V,T)$"
      ]
     },
     "execution_count": 72,
     "metadata": {},
     "output_type": "execute_result"
    }
   ],
   "source": [
    "# Note: this only works if have volume defined in ref.state_kws\n",
    "o.xge.dens"
   ]
  },
  {
   "cell_type": "markdown",
   "metadata": {},
   "source": [
    "# comparison xce/xge"
   ]
  },
  {
   "cell_type": "code",
   "execution_count": 73,
   "metadata": {
    "scrolled": false
   },
   "outputs": [
    {
     "data": {
      "image/png": "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\n",
      "text/plain": [
       "<Figure size 432x288 with 1 Axes>"
      ]
     },
     "metadata": {
      "needs_background": "light"
     },
     "output_type": "display_data"
    },
    {
     "data": {
      "image/png": "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\n",
      "text/plain": [
       "<Figure size 432x288 with 1 Axes>"
      ]
     },
     "metadata": {
      "needs_background": "light"
     },
     "output_type": "display_data"
    },
    {
     "data": {
      "image/png": "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\n",
      "text/plain": [
       "<Figure size 432x288 with 1 Axes>"
      ]
     },
     "metadata": {
      "needs_background": "light"
     },
     "output_type": "display_data"
    },
    {
     "data": {
      "image/png": "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\n",
      "text/plain": [
       "<Figure size 432x288 with 1 Axes>"
      ]
     },
     "metadata": {
      "needs_background": "light"
     },
     "output_type": "display_data"
    },
    {
     "data": {
[Omitted long matching line]
      "text/plain": [
       "<Figure size 432x288 with 1 Axes>"
      ]
     },
     "metadata": {
      "needs_background": "light"
     },
     "output_type": "display_data"
    },
    {
     "data": {
      "image/png": "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\n",
      "text/plain": [
       "<Figure size 432x288 with 1 Axes>"
      ]
     },
     "metadata": {
      "needs_background": "light"
     },
     "output_type": "display_data"
    },
    {
     "data": {
      "image/png": "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\n",
      "text/plain": [
       "<Figure size 432x288 with 1 Axes>"
      ]
     },
     "metadata": {
      "needs_background": "light"
     },
     "output_type": "display_data"
    },
    {
     "data": {
      "image/png": "iVBORw0KGgoAAAANSUhEUgAAAY4AAAEXCAYAAAC6baP3AAAABHNCSVQICAgIfAhkiAAAAAlwSFlzAAALEgAACxIB0t1+/AAAADh0RVh0U29mdHdhcmUAbWF0cGxvdGxpYiB2ZXJzaW9uMy4xLjEsIGh0dHA6Ly9tYXRwbG90bGliLm9yZy8QZhcZAAAgAElEQVR4nO3dd3xTdffA8c/JKgWVovCoFBVwIg7w4XGh/hREQFRQQHHi3gM3iOBiCW5woKI4EHAgQ1RwD5wgCiKiICBLQaHM0qzz++PeYohpaWjaJO15v155Nbnfm5uT29ycfNe9oqoYY4wxZeVJdwDGGGOyiyUOY4wxSbHEYYwxJimWOIwxxiTFEocxxpikWOIwxhiTFEscKSYii0TkxHTHYUwmEpGRItIv3XGY8rHEkUHSlXREZGcReVNENorIYhE5ZxvrHyYin4rIBhH5U0RuiCu/QUQWutubKyL7xZTVE5FXRKRARNaIyKi4554oIt+5z10iImfGlHlFpJ+ILBeR9SIyU0TyYsobi8hbbtlfIjI4btvd3Hg2isgCETk2pqymiDzhPm+tiHxa3d+z+Tc38QXdz0HxzeuWBUTkdfc4VhE5Pu65t4rIj+7/aqGI3LqN12otIj+LyCYR+UhE9qrAt5YcVbVbCm/AIuDEyn5uOWMeDYwFdgCOAdYCTUtYty6wEjgXyAF2BJrElF8KzAIOBATYG9g5pvwz4CGgNuAHmseUHehuuz3gA3YB9o4p7wd8COzlbvsgoIZbFgAWADcBtYAawCExz20DLAaOxPnBlA/kx5S/DIwB6gFe4L/V+T1X4GdtJNAvXcdnRcbv/j96uMfQCuD4uPLbgMPc//P+7v+mWynH2Vqgq/t/HQJ8le73vyW+dAdQ1W44X/69gJ+ANcDzxQe6W34K8D1QAHxRfKADLwFRoBDYANzmLn8N+MP9EH1KCV/o5Yi3FhAE9otZ9hIwqIT1BwAvlVDmAZYArUsoP8ndP94Syl8B7iuhrI67X/Yuofxy4LNS3ucXwCUllO0PrAN2svdcps/MU8ADccsmADe595sAH7uf8TnAaTHrbfniBS4EPo/bjgL7xKz7BPCOux+mAbsBj7jH1s9snYTrA28Aq4CFwPWpPFbi49/GekuJSxwJ1nkMGFrK//aLmMe1cL4bDkj1e9qemzVVVYxzgbY4vzz3A+4Ep7kDeA64AueX5XBgoojkqOr5wO/Aqaq6g6oWNzm8A+wL/Af4DtiqmSOW2+xQUMJtVglP2w+IqOovMct+AJqWsP6RwGoR+UJEVorIJBHZ0y1r4N4OcptcForIPSLiiXnuPOAFEflbRL4Vkf+L2zYiMltEVojIyyKys1t2MBAGuojIHyLyi4hcE/fcRSLyjtv08rGIHOxuzwu0AOqJyHwRWSoiw0Qk133uETi//u5xnztbRDpX8/dcmleAs0RE3Neqg5Mgx4iIH5gETMX5zF4HjBKR/cu47Xhn4hw/dYEi4Euc46Au8DpOTQ53f0/C+ezmA62BHiLSNtFGRaRnKcdKwTZiulpEVovIjCT2WfzrC3AsTmJNpKn7XgBQ1Y04tcuSjsvKle7MVdVuOL8ur4x5fDKwwL3/JHG/LnG+VP4v5rklNlUBeTi/yGqnMN5jgT/ill0GfFzC+r/g/JL8H04V+jFgmlt2tBvfZDfWhu76l7nlT7vll+A02XRzt1XXLQ+6+2A/nGazN4BRbtk57nNHALnAITi/LNu45VOBEE6TTwC4FfjNvV/ffe50YHecL51pQH/3uXe45Xe76/8fzi/cJtX1PW/jMyM4P3KOi/m8fBj7eQI8MeuPBu52748kuRrHMzFl1wFzYx4fDBS4948Afo/bVi/g+RQf34fh/Ojz4Rzb64GWCdYrtcYB3IOTGHJKKB9BXK3f/f9dmMr3s703q3FUjCUx9xfjHMTgtFPfHPfLZo+Y8q2I0zE6SJxOzXU4XzDgfAmkygZgp7hlO+EcEIkUAm+q6requhnnADhaRGq7ZQCDVbVAVRfh1KpOjnnuIlUdoaohVR2Ds69axpQ/r6q/qOoGnCai2OcC3Kuqhao6C6d9Prb8c1V9R1WDwAM4B3iTmOcOVdUVqvoXzi/V2OeGcL7Qgqr6CfARzq/o6vqeS6TOt9gY4Gx30Tn8UxOuDyxR1WjMUxbj1AK2x58x9wsTPN7Bvb8XUD/u2LoD2HU7XzchVf1OVf9W1bCqvo3zvs9IZhsici1wAdBBVYtKWC3Z47JSWeKoGHvE3N8TWO7eX4Lziy8v5lZTVUe75fGnKj4H6AiciNOx2tBdLoleVESekq1He8TeSqoS/wL4RGTfmGWHUnIVelZcnMX3Baf2FEzwPkp6bjLlxU1tSW9bVdfg/ALc1rbLGld1eM/bMhqnCW0vnF/7b7jLlwN7xDTVgXMMLEuwjY1AzeIHIrJbOeJZAiyMO7Z2VNWTE60sIneUcqxsSOJ1lRKOxxJe92KgJ06f2NJSVp2DcxwWP68WTtN3Scdl5Up3laeq3XBqBbNx2r13xhlRM8Ata4HzAT8C58NWC+gA7OiWfwVcHrOtq3E60ndy132CmKp8CmMeg/NFUAvnl3Bpo6pa4XRMNsNpenmYmA5a4EXgLZyRRw1wOjAvcct2dp/bHWcUTxdgNf8021yM06nZGOcL5VViOqVxBgcMxxnZ1ARnNFJrt2x/YBNOkvUCN+K0CQfc8nuBb3Ha3eu4/5f73DI/MB/og9ME0RLnl90B1fg9X4hTUyrtc/MT8B5Obax4WfFIr57uaxwft92R/NNUtR9Ov0UznCbAp/h3U1W/mG1fSkwTKrAPEHbve4EZwO04zXpenBFo/0vxsdIFp5bjwamdrSemScr9P9XASdonuffFLTsXpxmvLM2B9XCOw87uNu7HRlVV3Rtbj6oqAF4AasaUt3MP5gKcIXuv8U/i6IjTdlwA3OJ+QCe4H87FONXbikgcOwPjcX4B/g6cE1N2LLAhbv2rcH5BrsHpkNwjpmwnnES0HidJ9i0+cGK2NxunKj4dODZu2/fgtOOvwhndVSemLB94133ub8AVcc89A+fLcB3OqJ6mMWV+nMRb4B68j7H1aLemOB2vG93/3enV+T3jJJRR2/jc9HE/j13jljcFPsH54ovf7ki2Tga9gb/c/XYe25k43Mf1cX4A/eH+n74ixcPbcZLvWnd//0DccFqc41/jbg3dsoU4zYMbYm5PxTx3DnBuzOMTcX6EFLr/24apfC/luRVnQmOM2UJEpgI3qOrcdMdiMo8lDmOMMUmxznFjjDFJscRhjDEmKZY4jDHGJMWX7gAqWt26dbVhw4bpDsMYY7LKjBkz/lLVeonKqnziaNiwIdOnT093GMYYk1VEZHFJZdZUZYwxJimWOIwxxiTFEocxxpikWOIwxhiTFEscxhhjkpJRo6pE5DmcS6uuVNWDEpQfj3PSv4XuonGqem9FxNKw5+R/LVs0qENFvJQxxmSVTKtxjMQ5e2xpPlPVZu6t0pJGacuNMaY6yajEoaqf4lyrICPksZ5LvZMR/rmY2T69LHkYY6q3jEocZXSUiPwgIu+ISMILt4vI5SIyXUSmr1q1artf6Azv59zpH8Xz/iHkuVdsDCs07jWZ8TMTXdDMGGOqvmxLHN8Be6nqocBQnIsP/YuqPq2qLVS1Rb16CWfMl8lzkXb0Cl3CUZ45vJXTm0NkAQBRhR5jv+fO8bO3e9vGGJOtsipxqOo6Vd3g3n8b8ItI3Yp7RWF0pDVdgncD8FrgHs7xfkDxZZxf/up3Sx7GmGonqxKHiOwmIuLePxwn/r8r+nVna2NOKerPl9GmDPCP4EH/k9SgCLDkYYypfjIqcYjIaJxrIO8vIktF5BIRuVJErnRX6QL8KCI/4Fw/uZtWwCUMEw27LWBHLgrdyoOhLpzumcabgb40lBWAkzya9n3X+j2MMdVClb90bIsWLXR7z447fuYyeoz9/l/Lj/XM4lH/MHxEuDV0BVOihwPg9wpDuhxKp+b55YrZGGPSTURmqGqLRGUZVePINJ2a57NoUAda7r3zVss/ix7CKUUD+E3rMzzwCL18o/ASIRRR7p44J03RGmNM5bDEUQajLjuKR85qRq7/n921nLqcGezLi+E2XOGbzCuB/tRjDQWFIZrfO9WarYwxVZY1VSXpzvGzefmr37da1tHzOQP9I9hALtcGr+MbbQJAnZp+7jq1qTVdGWOyjjVVpVC/Tgdz3pF7brVsQvQYOgXvZb3m8kqgP5d53wKUNZtC9Bo322ofxpgqxRLHdujX6WAeOasZzsBgxy+6Bx2D9zE12oLe/ld40v8IO7KJwlCEm1/9wZKHMabKsMSxnTo1z+fhM5uR6/duWbaBmlwduoH7QufRxjODiYHeHCiLiKhazcMYU2VY4iiHTs3zGXjGweTl+mOWCiMiJ9MteCc1JMSbgbs4x/sBhaEwPcZ+T8tBH1oCMcZkNUsc5dSpeT7f33USj5zVbKsEMl0PoEPRAL6KNmGAfwSP+h+nFoUsKyi02ocxJqtZ4kiR2ATidTs/VrMTF4ZuY3DoTE7xfMnEwJ0cIL9TGIowZMq8NEdsjDHbxxJHinVqns+DZx66pe9D8fBEpBPnBO9kBylkfKAP3bwfsqxgkzVbGWOykiWOClDc95Gfl7tl2dfahJOLBvJN9AAG+Z/lYf8TrClYY81WxpisY4mjgnRqns+0nq3cGedO7eNvatM9dDsPhLpymucLJgV6s2d4oTVbGWOyiiWOChZf+1A8DIucznmhO9hRChkf6MvR69+hUc+3rOnKGJMVLHFUguLaR2zT1ZfRppxcNJAZ0X0Z4n+aB/xPstqarowxWcASRyW6te3+W00Y/IvaXBDqxUPuNT4mBvrQILzYmq6MMRnNl+4AqpPikx0OmTKP5QWFKBDFw2ORM/hW9+cx/zAmBu6kz/qLaDkIlhcUUj8vl1vb7m8nSjTGZAw7O24atRz0IcsKCrc8rkcBj/qHcbT3J96IHEuf0EVsoga5fi8DzzjYkocxptLY2XEzVHzT1SryOC90B4+Ez6CT53MmBXrTVBbZhEFjTEaxxJFGsSOuBMjPyyWKh0fCXTg31Jtasplxgb50905hecGmdIdrjDGANVVlnNjmqzqsY4h/OCd6Z/IRLRiccx0/r/Vbv4cxpsJZU1UWiW2+WsNOXBq6hXtC59NSZzJi8438T+baiRKNMWlliSPD/Lv5qibjAqdyRvAeitTP6EA/rveOoygUsn4PY0xa2HDcDNSpef5WzVCNek7mRxpzSnAA/fzPcZP/dY72zqFHwTVpjNIYU11ZjSML1HdnnG8klxtDV3Nz8EoOkd94p0YvdN67aY7OGFPdWOLIAlsP2xXeiB7HqaH+rIjujIw+i59HXsvxA6fQqOdkO9+VMabCWeLIAomG7V7buT1fHD+GkeG2HLDoJYYW3sZessI6zo0xFc6G42a5//V7n2abpjHEPxwfEe4Od+f1yHHk59VkWs9W6Q7PGJOlbDhuFfbXhiLei7agfdEgftRGPOAfzjD/UDYUrEp3aMaYKsoSR5Yr7jhfwS6cE+zN4NCZtPV8y7s1esGiaWmOzhhTFVniyHKxHedR9/rmXUN3URT1ER15CqGp90AklOYojTFVSUbN4xCR54BTgJWqelCCcgEeBU4GNgEXqup3lRtlZok/VXv9vFzOO/EM3vzzGBp8dTddv3iIP2ZP5fqiq/l2XZ6drsQYU24Z1TkuIscBG4AXS0gcJwPX4SSOI4BHVfWI0rZZ1TvHSzNt/l+8+dJQ+vI0HqL0DV3IuOix5Pp9dpp2Y0ypsqZzXFU/BVaXskpHnKSiqvoVkCciu1dOdNmn5T51mVbjONoVDWKONuShwFM85h+GP7TOTldijNluGZU4yiAfWBLzeKm7bCsicrmITBeR6atWVe/RRX+s3cxy6nJ28E4eCHXlZM/XvJ3Ti/prZ6Y7NGNMlsq2xCEJlv2rrU1Vn1bVFqraol69epUQVuYqHnUVxcOwyOl0Dd5FRD2MCdxH6L37IBJOc4TGmGyTbYljKbBHzOMGwPI0xZIV4q8yOFP3pWN4IOOjx+Cf9gCbhreB1QvTGKExJttkW+KYCFwgjiOBtaq6It1BZbJEpyu5u+tR7NZ9JHd6byL8588EH29J9Psx6Q7VGJMlMm1U1WjgeKAu8CdwF+AHUNWn3OG4w4B2OMNxL1LVUodMVedRVdtSsCnIkLHv0XHhPRzumceC3dpz1Zpz+XWtx4btGlPNlTaqKqMSR0WwxFE6VeX1bxexbFJ/rvW8wR/szE3Bq/hGm5Dr99qwXWOqqawZjmsqn4jQ9fBGjM7tRtfgXYTVy5hAP3r6XiES2mzDdo0x/2KJwwCwcl0RM3VfTg4OZEzkBK70vcX4QF92WPtLukMzxmQYSxwG+GfY7iZqcEf4Ui4O3kI9WcOkQG/Cnz8G0WiaIzTGZApLHAb497DdD6OH0SE0mE+ih+J7vw8bn+0Aa5emMUJjTKawxGGAxMN27+h6HNLtFe7zXAXLZlA09AiiP7wKVXxAhTGmdDaqymzTXxuKeHDMu3T+vR8tPL9QuF9Hcjs9AjV3TndoxpgKYsNxLXGUm6ry6tcL+ePtQVzteZ1N/p3pyzVMXL+fzfkwpgqy4bim3ESEs45sTMfrH+bqGvezqsjPo6G76eN7kb8K1tJr3GzGz1yW7jCNMZXAEodJSsO6tZhDY04J9uf5cFsu9r3LpEBvGocX2JwPY6oJSxwmaSsKNrOZHO4Jd+eC4O3Ulo28GehDx/VjIBpJd3jGmApmicMkrXjOB8Cn0UNpW3Q/U6MtuM0/lg1PnQRrFqUvOGNMhbPEYZIWP+ejgB25SXtwB9ehf84hOPQowt+OtGG7xlRRljhM0hLN+Rjc+VB69byLx/Z7gemhhvgm38CG5zvD+j/SHa4xJsVsOK5Juak/LueHcYO5LvIy+HMJnPYwnkO6pDssY0wSbDiuqVQnHVSfi2+6nwF7PsPc4H/wjLuEjS+fB5tWpzs0Y0wKWI3DVBhVZfyMxfw+aSBX8xqF/trcK1fyxvqDbNKgMRnOahwmLUSE01s0pOuNj3DtDg+yLFiLB0IDGOR7mrUFf9ukQWOylCUOU+Hq5+UyO7InHYP9eDx8Gl28n/BuTk+aRWbZpEFjspAlDlMpVhRsJoifIWHnSoNB9TE60J9LNgyHUGG6wzPGJMESh6kUsZMGv9P96BAcwMjwSVzse5cNjx0FS60fyphsYYnDVIr4SYOF1GAgF3O9/27WrltH9Nk2bJ5yD4SDaYzSGFMWljhMpUg0afD+zofwYM8bmHDU64yLHEuNLx9i/bDj4M856Q7XGFMKG45rMsKPy9by6qjhXLdxKHU8m4gc14uc/7sRPN5tP9kYk3I2HNdkvIPya9P7ppsZ3eI1poYPI+eT+1j3RGv4e0G6QzPGxLHEYTJGjs/L9aceyW6XjqVfzk3oqnkEHz+a4BdPQTSa7vCMMS5rqjIZqTAY4alJn9H8h74c7/mBxbUPp8fmy/h+bS2bdW5MJUhJU5WItBKRESLyoIhcJCL/FZGc1IVpzD9yA15u7Hw8ud3H0U8up27BD7yw+Xo6ez9hWcEmm3VuTBol01T1MvAW8BXQGOgL2PAXU6GO2LsukwPtaBccxFzdiwf8w3nG/yA7hP62WefGpIkviXXnq+qb7v3XKiIYYxL5Y+1mlF3pFryTi73vcqtvLFNzbqPPuouAVukOz5hqJ5kaxycicqOISIVFY0wCxbPOFQ8jIifTITiAxborwwJDKXjhHNj4V5ojNKZ6SSZxNAWuAlaIyGQR6S8iXVMZjIi0E5F5IjJfRHomKL9QRFaJyPfu7dJUvr7JTPGzzhdoPmdH7uVRzqbmb++y8ZEWhOZMTGOExlQvZU4cqnqGqu4HNALuAn4FjkhVICLiBR4H2gMHAmeLyIEJVh2rqs3c27Open2TuRLNOh/YpTkX3j6Uofs8y6KinfC/dj4FL18IhWvSHa4xVd42h+OKyFHAV1rB43bd17lbVdu6j3sBqOrAmHUuBFqo6rVl3a4Nx636PpqzhPlv3MNFkTfYnLMLOZ2fwL//SekOy5isVt7huN2BGSIyxm0q2i214W2RDyyJebzUXRavs4jMEpHXRWSPRBsSkctFZLqITF+1alVFxGoyyAlN9+DMW57kscZPsnxzAP/orqwZcwVsXpfu0IypkraZOFT1SlU9DLgbqAOMFJEvRWSAiBznNjGlQqJO9/haziSgoaoeArwPvFBCzE+ragtVbVGvXr0UhWcyWe2afm7q3o0lXd/lBU8nas8dy7qHDye84JN0h2ZMlbNdM8dFJBc4Aac/4qiSqjNJbnObTVVx63uB1apau7TtWlNV9bNmY5CRY8fSadF9NPL8yaz8s7jxr078tlZt1rkxZZTSkxyKSC0gqKpvq+p1qUgarm+BfUWkkYgEgG7AVkNlRGT3mIenAXNT9NqmCqlTK8CNF5/Pr2dM4WVtzyHLxvJsYQ+ayy8sKyi0WefGlNM2E4eIeETkHHcI7kpgHvCHiMwRkSEism8qAlHVMHAtMAUnIbyqqnNE5F4ROc1d7Xr3dX8ArgcuTMVrm6rppGaNeLzGZZwd7I1fIrweuIeevleIhgpt1rkx5VCWUVWf4PQnTAB+VNWou3xnnOaqc4A3VfXlCo51u1hTVfXWqOdkFKhFIb19ozjH9yG/RPO5JXQVEwdel+7wjMlY5W2qmq6q96nqrOKkAaCqq1X1DVXtDIxNVbDGpFLxrPON5HJH+FK6B29nRylkXKAvf0/qa5eqNWY7lCVxnLCtFVQ1lIJYjEm5+Fnnn0QPpUN4MJM5hl1mPMqqR44hvHxWGiM0JvvYhZxMlZZo1nnfLkfT8tbXeWr3+2D9CvTpE/jr7QEQCac7XGOyQln6OCLA78Bs4MeYvz9nQ03D+jhMaaZ8Owcm30xbvuTPHQ9il/NG4Nv1gHSHZUzalbePYxbQEhgG/A2cBDwP/CUiP6YsSmPSoO3/mvLfWybw7K59CKxbROTJY/lr6oMQjaQ7NGMyVllqHDNVtXmC5QLso6q/VlRwqWA1DlMWqsrUb2YReOcmTmA6K2o34z/nP4+3buN0h2ZMWpRW4yjLhZweT7TQPelhRicNY8pKRGh7xKGsajKZ5196kM4rhxEadiRf7HcjvRb/j2Vri2zWuTGu7TrlSDaxGodJlqoy9avvqPVuD46RWXweacptoStYTl1y/V4GnnGwJQ9T5aX0lCPGVHUiQtuj/sstgbu4I3QJzT3zmZJzO129H1MYCtusc1PtbXfiEJHdRSQnlcEYk0n+XF/EK5HWtAsOYo42ZIj/aZ7zDyFcsDzdoRmTVuWpcbwE/CwiD6QqGGMySfGs8yW6K2cHe3NP6HyO9sxhSs5trJz2ElTxZl5jSlKWkxwmHNSuqicCjXGG5hpT5cTOOlc8PB9pz2nhQSyiPv9571oWPtGZ6PqVaY7SmMpXlhrH2yLynIjsGV+gjjkVEJcxaZdo1vnVXdqz+42f8FqdS6m/8hPWP9yClV+/lu5QjalUZZnHEQCuAG7COUNuf1XNmuux2qgqUxFUlfc+/pgGn9zIgSxkwW7taXT+E3hq7Zzu0IxJiXKNqlLVoKoOBZrgXAf8a/caGTumOE5jsoaIcNIJJ7Dz9Z/xZu0L2HPFVAoe/C8rZ0xKd2jGVLik53G4VwC8AbgIGK6qGd05bjUOU9FUlfc+mEqjz25mX1nCr/md+PngXgz6eDnLCwpt4qDJSimZxyEiDUWkHXApsCewHhiQmhCNyV4iwkkntqXWdZ8zaaduNF46gcPe6cBe675FwS5Xa6qcsoyqmiUiq4HxOJdqzQM+BLoDO1RodMZkkfp18zjlxqe4UPqxWf28EhjAPb7nyWUzhaGITRw0VUZZzlV1OvCbVvVzkxiTAiLC55sb0YEB3Op7lYu87/J/nlncErqCGQV2unZTNZSlc3yBJQ1jyq5+Xi6byeG+8Pl0C96JhyivBu7jnhqvoMFN6Q7PmHKzc1UZk2KxEwe/0Sa0C97P6GgrLuAtVgw+nL/mTUtzhMaUj52rypgUi584WCevDjU7PcZ7/30SCW2izugOzH35FjS0Od2hGrNdtvu06iLyPrA38Iaq3pLSqFLIhuOaTPL78uUseOl6Tih8jyX+xtQ86xl22SfhiEdj0qq04bjluh6HexXAAzP5tCOWOEymiUaVDya8QLPv+5InG5h/wNXM2+cShry/0OZ9mIxR3isAxm6oJdAQ8LqLVFVfKl94xlQvHo/Q5vQLWdSiFfNevpZjfh5K6KfJ5IauRGmwZd4HYMnDZKRkJgC+DHwKvIhzRtyR7s0Ysx0a7rEnR90+gZu5kQayksmB3lzunYSHqM37MBktmRrHqcAM4A0gXDHhGFO9eD3CuM3/4xP2o79/BHf4R3OSdwa3hK5gccHu6Q7PmISSSRwfAV+q6v0VFYwx1VH9vFyWFcAVoRs5PfI59/hf4J1ALx7znA/R9uCxUfMmsyTzidwF6Ccin4nIRPc2oaICM6a6+Gfeh/Bm9FjaFA3ma23C7TqCXx5oxboVC9IdojFbSSZxtMTpFG8JnBJzM8aUQ/y8D19ePn+f9jLv7d2b+hvn4h1+ND9PHmaXqjUZo8zDcUVkr0TLVXVxyoJxzr77KE6CelZVB8WV5+B0zv8X+Bs4S1UXlbZNG45rstm8n3+k8LWraBaZxc87HEF+92fZsd6/LsZpTMqVax6HiMi2zlVVlnW2RUS8wC9AG5wLRn0LnK2qP8WsczVwiKpeKSLdgNNV9azStmuJw2S7olCIT0cN4piFjxESP5/sfSuDlh7C8rWbbc6HqTDlvR7HRyJyXfw1x0UkICKtROQFnFOsl9fhwHxV/U1Vg8AYoGPcOh2BF9z7rwOt3UmIxlRZOX4/bS7sw8IuU1goDTh1wd303TSAXVhr1/owaVGWxNEOiACjRWS5iPwkIr8BvwJnAw+r6sgUxJIPLIl5vNRdlnAdVQ0Da3E67bciIpeLyHQRmb5qVdZcHt2YUh148GFc4+9H/9A5HO/5gSk5t9He87XN+TCVriyJY29VfUJVWwJ7Aa2Bw1R1L1W9TFW/T1EsiWoO8c1fZVkHVfCTbbYAABQZSURBVH1aVVuoaot69eqlJDhjMsGydSGeiZxCh2B/lmo9ngw8ymP+oWwqWJnu0Ew1UpbEEXtKke6qukJVCwBEpGYKY1kK7BHzuAGwvKR1RMQH1AZWpzAGYzJa/bxcAOZrAzoH7+aBUFfae75hSs7t/Dbt9TRHZ6qLsiSO2F/5V8eVfZbCWL4F9hWRRiISALoBE+PWmcg//SldgA/tIlOmOom91kcYH8Mip9Ml3J81UpvG713Cj4+fS3DDmjRHaaq6siSO2C/m+KailE1pdfssrgWmAHOBV1V1jojcKyKnuauNAHYRkfnATUDPVL2+Mdkgfs5Hfl4uF3U5jd1v+YIP6p5Pk5WTWftgCxZ/MyndoZoqrCzDcZcDdwA/AM+rarOYsu9U9bCKDbF8bDiuqU6++Wwq9T7oQSOW8elOp3JPUTd+Wys2bNckrbzDce8GWgCPAA1EZI6IvCEi/YG6qQvTGFNehx97Enk9vmRC7ukcs/Ytni/sweEy14btmpTaZuJwRyhdq6r/p6p1gbY4TUbrcE6zbozJIHXyajNYL+CsYB8UYXSgH318LxENFdqwXZMS20wcInKpiLwlIheKSA3gApxTfrytqudVeITGmKQtLyjkWz2A9sFBvBw5kUt87/B2oBf/WTsr3aGZKqAsTVW34HRCH4kz8mk/4E9gqIikYsa4MSbFioftbqIGfcMXcW6wFzUkyOuBu/nxhZvQ0OY0R2iyWVkSR1BVfwR6AI2AK1T1aZwmq2sqMjhjzPaJHbYLMC16MKdFhvBeoDUHLRzB0sFHsOqXr9MYoclmZbmQ05vudTdGAlerapG7PIR1jhuTkYpHTw2ZMo/lBYXuqKpmtG12Bh9OepmDZvQh75X2vL9rd+4taMeStWEbeWXKrEynVReRk4DTcPo28nHOU5UD5ALnAfNUNVqBcW43G45rzL8tWbaUn5+/mjbhT5gdbchNoav5VRuQ6/cy8IyDLXmYcg/HRVWnuiOrjsI5X9U1wOPA+zjXz1iYqmCNMRVvj/wG3OW7gSuCPdhdVvNW4A6u9E6kKBSykVdmm5K55jgA7ik+fnZvo1MekTGmUqwo2MxyDmd60f708z9HT/8Y2nhncOvaK4FW6Q7PZLCUnTLEGJNdikde/U1trgr14PrgNewty5kc6MWvEwZDNCNbn00GsMRhTDW19cgrYWK0JadGhvCd52D2ndmfBQ+2YtLHX9By0Ic06jmZloM+tJnnBrDEYUy1leiEiTd3Pp4Wd0zlnca9+c+Gnznho9M5Zv3bKGqnLTFblGlUVTazUVXGbJ9T73uFXsGhHO39iY8ih9IzdBl/sjP5eblM62l9IFVduUdVGWOqnx831ubc0B30DXXnSM9cpubcRkfP5ywv2JTu0EyaWeIwxiRUPy8XxcOLkba0Dw5kvubzaOAJhuc8RtHaP9Mdnkkja6oyxiQ0fuYyeo2bTWEoAoCHKFf4JtPD+xqFnlpMO6APAxbuHTMz3WadVyXWVGWMSVp85/nuebXYv3Mffjh5Aiu0Dh3m3sJNGx9kRzZYx3k1YzUOY0zSjhkwhS6bxnCtdzyryOP20GV8Gj3UOs6rEKtxGGNSatm6MI+Eu9ApeC/rNZcXA/fT3zeCtQWr0x2aqQRJn3LEGGPq5+WyrKCQH7Uxpwb7c6PvdS73TuY472yWzqzNdA6MOzOv9X9UJVbjMMYkLXbWeREBBoXP4ezIXUQR6o/vyupxt/BXwVoUrP+jCrLEYYxJWqJZ52d3PpPcG75ktLbhYu/bvB3oxaEyH4DCUMTOuluFWFOVMWa7dGqen7D56c7ghUz2tGCIfzjjAnfxRKQjj4XPYHlBYRqiNBXBEocxJqXq5+XyRcFBtCu6nz6+l7jON54TPTMYFLiO8TOXWd9HFWBNVcaYlCru/1hPTW4LX8FFwVupIxsYEerJ8nF3sKpgnfV9ZDlLHMaYlIrv//hlp6P54IQJTNBjudo7nkmB3hwsvwHW95GtrKnKGJNyifo/Gr17BZM8hzPQP4I3A30ZHjmFR8OdWV6QpiDNdrPEYYypFPXzcvm4oDlti+6nt28U1/gm0sYzg7s8V9Ny0IfW75FFrKnKGFMpivs+1lGL28OX0z14OztIIS/rnZy34TkCBK3fI0tY4jDGVIr4vo/5Ox1JV3mIVyPHc5VvEm8FetNM5lu/RxbIiJMcisjOwFigIbAIOFNV1yRYLwLMdh/+rqqnbWvbdpJDYzJXo56TUeA4zw8M9D/LbqzmmcgpPBzuzLxBp6c7vGqttJMcZkofR0/gA1UdJCI93ce3J1ivUFWbVW5oxpiKUnzOq0+jh9Ku6H56+UZxpW8SbbwzGD8JhsypbX0fGShTmqo6Ai+4918AOqUxFmNMJYk959V6anJH+DIuCvcilyJOnX4RF2x41vo+MlCmJI5dVXUFgPv3PyWsV0NEpovIVyJSYnIRkcvd9aavWrWqIuI1xqRAonNedex8PucFHmVs5ASu8E3m7UAvDpNfrO8jg1RaH4eIvA/slqCoN/CCqubFrLtGVesk2EZ9VV0uIo2BD4HWqrqgtNe1Pg5jsk9x30dLz2zu9z9Dff5mRKQ9D4a7sktenjVfVYKM6ONQ1RNLKhORP0Vkd1VdISK7AytL2MZy9+9vIvIx0BwoNXEYY7JPcd/HtOjBtC26n16+V7jM9zZtPDPote5SltF0S/MVYMmjkmVKU9VEoLt7vzswIX4FEakjIjnu/bpAS+CnSovQGFNpYvs+NpLLneFLODvYG0EZHejPQN8z7MRGa75Kk0xJHIOANiLyK9DGfYyItBCRZ911mgDTReQH4CNgkKpa4jCmCkrU9/FltCltg/fzVPgUzvR+zHs5t9LW8y3LCgpp1HMyLQd9aJ3nlSQj5nFUJOvjMKZqaDnoQ5a51/Q4SH5jsP8ZDvQs5p3I/+gbupBV1CHX72XgGQdb01UKlNbHYYnDGJMVxs9cRq9xsykMRQDwEeYy79v08L3BZvz0D5/Lq5Hj8YqHqKp1npdTaYkjU5qqjDGmVPHNV2F8PBk5jbbBQczVvRjsf4ZX/P3Zk+V2vY8KZjUOY0xWim26EqJ0835EL99ocggxLNyR4ZFTCeInPy+XaT1bpTna7GM1DmNMlRM78krxMDrSmtZFDzAl2oKb/a/zTqAnR8hc6zyvAJY4jDFZKb7pyivCKvK4PnQd3YO34yfM2Jz7GOwbTm3WW9NVCllTlTGmSojvPK9BEdf73uQy72TWUZP+oXMZFz3WOs/LyJqqjDFVXnwNZDM5DA5345RgfxbpbjwUeIpR/gHWeZ4CVuMwxlRJ8Z3n53g/5HbfGHII8nTkFB4Pd2QzOdZ5XgKrcRhjqp34zvNRkRNpXTSEydEjuc43nvdzbqWt5xuWFWyyzvMkWeIwxlRJiTvP63BT6GrOLOrDes1leOARXvQPoqGssKarJFhTlTGmWojvPPcS4QLvVG70vU4NgjwT6cCwcCcKqUG+dZxbU5UxxsTXQCJ4eT7SntZFDzIpejTX+Cbyfs6ttPd8zbKCTVb7KIXVOIwx1VJs5znAf2Ue9/lHcqBnMZ9FDuLe8AX8xh7VduiuneTQEocxJk580xU4zVfnet/nZt9r1GIzoyKteTjchQJ2RACFatOMZU1VxhgTJ7bpqlgELy9G2nJ80UOMirTmXO8HfJJzIxd538FLGLD5H2A1DmOMSVj7ANhXltLH9xLHeWczP1qffuHz+DjabEt5Va59WI3DGGNKkWjoLsCv2oALQj25OHgLHqKMDAxmpP9+DpDfgepb+7AahzHGxElUA/ET5gLvFK73vcmOFDI+2pKHwl1ZqvWAqlf7sM5xSxzGmCSNn7mMIVPmsaygcEvHOMBObOAq3yQu8r6LhyijIicyNHw6q9mpSnWgW+KwxGGMKYfYJFJsV1Zzg+8NzvR+wmYCPBPuwLORk9mI09me7dc/t8RhicMYkwKJmrAay3Ju8b3Kyd5v+Et3Ymj4dF6JtCaED8je2oclDkscxpgUSVT7ADhU5nO7bwxHe3/i92g9Hgp3ZWL0aKLuGKQ6Nf3cdWrTrEkgljgscRhjUizxEF7lOM8sbveNoalnMQuiuzM0fDqTokcRwZtVfSCWOCxxGGMqQEkd6EKUkzzT6eEbRxPP7/wW3Y1h4U5MiLYkgnfL8zO5FmKJwxKHMaaCJWrCchLIDG7wjeNAz2IWRndlWPh0JkSPJuz2gWRqJ7olDkscxphKkqgJS4jSxk0gTT2LWap1eTZ8MmMjx1NIDSDzmq8scVjiMMZUovEzl3H3xDkUFIbiSpRWnplc6ZvE4Z55rNYdGBlux4uRNhSwI5A5zVeWOCxxGGPSoKQ+EHBO436lbxJtvN+xSXMYGzmekZG2LNbdtqzrFSGimpbaiCUOSxzGmDQrqRaynyzhCt9bnOr5Ah9RPoo24/lIOz6PHgTIVutWZm3EEoclDmNMhihpHkg9CjjX9z7net+nnqzj12g+L0baMD5yDOupudW6lZFAMj5xiEhX4G6gCXC4qib8pheRdsCjgBd4VlUHbWvbljiMMZmopFO5BwjRwfMVF/ne5RDPQjZpDpMiR/FKpBU/6N7E1kIqMoFkQ+JoAkSB4cAtiRKHiHiBX4A2wFLgW+BsVf2ptG1b4jDGZKqSO9EdB8tvnOP9gNO8X1BLipgT3YvRkVZMjBzFOnbYsp5HIKqpHZmV8YmjmIh8TMmJ4yjgblVt6z7uBaCqA0vbpiUOY0ymK60THWAHNtHR+wXneD+gqWcxRerj42gzJkSO5oPoYRQR2LJuquaFlJY4fOXacuXKB5bEPF4KHJFoRRG5HLgcYM8996z4yIwxphw6Nc/f8kWfKIlsoCajIicyKtKag2QhnbzTONX7JW2901mnuUyJ/I/x0ZZ8GW1KYQiGTJlXof0flZY4ROR9YLcERb1VdUJZNpFgWcLqkqo+DTwNTo2jzEEaY0yaxSYRiG/OEn7UxvwYbsyA8Lkc5ZlDR88XtPN+Q1ffp6zUPN6KHMnUdS0gchx4K+Yr3pqqjDEmC5TWH5JDkFaemXTyTuN4zw/kSAhy68BBXaDDA9v1elWlqepbYF8RaQQsA7oB56Q3JGOMqRzFNZFECaSIAO9Ej+Cd6BHs4g/x5JFrOLzoK4gm7nQvr4xIHCJyOjAUqAdMFpHvVbWtiNTHGXZ7sqqGReRaYArOcNznVHVOGsM2xphKF5tAivtCtp5h3ozDm+cDF1VYDBnVVFURrKnKGGOSV1pTlaeygzHGGJPdLHEYY4xJiiUOY4wxSbHEYYwxJimWOIwxxiTFEocxxpikWOIwxhiTlCo/j0NEVgGLy7GJusBfKQqnKrH9kpjtl8RsvySWyftlL1Wtl6igyieO8hKR6SVNgqnObL8kZvslMdsviWXrfrGmKmOMMUmxxGGMMSYplji27el0B5ChbL8kZvslMdsviWXlfrE+DmOMMUmxGocxxpikWOIwxhiTFEscJRCRdiIyT0Tmi0jPdMdTmUTkORFZKSI/xizbWUTeE5Ff3b913OUiIo+5+2mWiByWvsgrlojsISIfichcEZkjIje4y6v1vhGRGiLyjYj84O6Xe9zljUTka3e/jBWRgLs8x3083y1vmM74K5qIeEVkpoi85T7O+v1iiSMBEfECjwPtgQOBs0XkwPRGValGAu3ilvUEPlDVfYEP3Mfg7KN93dvlwJOVFGM6hIGbVbUJcCRwjfu5qO77pghopaqHAs2AdiJyJHA/8LC7X9YAl7jrXwKsUdV9gIfd9aqyG4C5MY+zfr9Y4kjscGC+qv6mqkFgDNAxzTFVGlX9FFgdt7gj8IJ7/wWgU8zyF9XxFZAnIrtXTqSVS1VXqOp37v31OF8G+VTzfeO+vw3uQ797U6AV8Lq7PH6/FO+v14HWIiKVFG6lEpEGQAfgWfexUAX2iyWOxPKBJTGPl7rLqrNdVXUFOF+gwH/c5dVyX7nNCM2Br7F9U9wc8z2wEngPWAAUqGrYXSX2vW/ZL275WmCXyo240jwC3AZE3ce7UAX2iyWOxBJleRu3nFi121cisgPwBtBDVdeVtmqCZVVy36hqRFWbAQ1wauxNEq3m/q0W+0VETgFWquqM2MUJVs26/WKJI7GlwB4xjxsAy9MUS6b4s7iZxf270l1erfaViPhxksYoVR3nLrZ941LVAuBjnD6gPBHxuUWx733LfnHLa/PvptGqoCVwmogswmnuboVTA8n6/WKJI7FvgX3d0Q8BoBswMc0xpdtEoLt7vzswIWb5Be4IoiOBtcXNNlWN2948Apirqg/FFFXrfSMi9UQkz72fC5yI0//zEdDFXS1+vxTvry7Ah1oFZyKrai9VbaCqDXG+Qz5U1XOpCvtFVe2W4AacDPyC01bbO93xVPJ7Hw2sAEI4v4IuwWlr/QD41f27s7uu4IxAWwDMBlqkO/4K3C/H4DQdzAK+d28nV/d9AxwCzHT3y49AX3d5Y+AbYD7wGpDjLq/hPp7vljdO93uohH10PPBWVdkvdsoRY4wxSbGmKmOMMUmxxGGMMSYpljiMMcYkxRKHMcaYpFjiMMYYkxRLHMYYY5JiicOYDFHS6dmNyTSWOIzJHCWdnt2YjGITAI2pQO5ZdN8BPgeOBpYBHVW1MMG684DjVXWFe86rj1V1/0oM15gysRqHMRVvX+BxVW0KFACdS1ivpNOzG5NRLHEYU/EWqur37v0ZQMM0xmJMuVniMKbiFcXcjwC+EtYr6fTsxmQUSxzGZI6STs9uTEaxxGFM5hgEtBGRX4E27mNjMo6NqjLGGJMUq3EYY4xJSkmddMaYCiIij+NcjzrWo6r6fDriMSZZ1lRljDEmKdZUZYwxJimWOIwxxiTFEocxxpikWOIwxhiTlP8H9sQmZCd2F2AAAAAASUVORK5CYII=\n",
      "text/plain": [
       "<Figure size 432x288 with 1 Axes>"
      ]
     },
     "metadata": {
      "needs_background": "light"
     },
     "output_type": "display_data"
    },
    {
     "data": {
      "image/png": "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\n",
      "text/plain": [
       "<Figure size 432x288 with 1 Axes>"
      ]
     },
     "metadata": {
      "needs_background": "light"
     },
     "output_type": "display_data"
    },
    {
     "data": {
      "image/png": "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\n",
      "text/plain": [
       "<Figure size 432x288 with 1 Axes>"
      ]
     },
     "metadata": {
      "needs_background": "light"
     },
     "output_type": "display_data"
    },
    {
     "data": {
      "image/png": "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\n",
      "text/plain": [
       "<Figure size 432x288 with 1 Axes>"
      ]
     },
     "metadata": {
      "needs_background": "light"
     },
     "output_type": "display_data"
    },
    {
     "data": {
      "image/png": "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\n",
      "text/plain": [
       "<Figure size 432x288 with 1 Axes>"
      ]
     },
     "metadata": {
      "needs_background": "light"
     },
     "output_type": "display_data"
    },
    {
     "data": {
      "image/png": "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\n",
      "text/plain": [
       "<Figure size 432x288 with 1 Axes>"
      ]
     },
     "metadata": {
      "needs_background": "light"
     },
     "output_type": "display_data"
    },
    {
     "data": {
      "image/png": "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\n",
      "text/plain": [
       "<Figure size 432x288 with 1 Axes>"
      ]
     },
     "metadata": {
      "needs_background": "light"
     },
     "output_type": "display_data"
    }
   ],
   "source": [
    "for prop in ['PE','PE_n', 'betaOmega', 'betaOmega_n', 'betaF', 'betaF_n', 'betaE','betaE_n', 'betamu', 'betapV',\n",
    "             'nvec','Z', 'S','S_n']:\n",
    "\n",
    "    fig, ax = plt.subplots()\n",
    "    (\n",
    "        o.xge.table(['ntot',prop], default_keys=[]).min('phase')\n",
    "        .set_coords('ntot')\n",
    "        .swap_dims({'lnz_0':'ntot'})\n",
    "        [prop]\n",
    "        .plot(label='grand canonical', marker='o')\n",
    "    )\n",
    "\n",
    "    (\n",
    "        ref.xce.table([prop], default_keys=[])\n",
    "        [prop]\n",
    "        .plot()\n",
    "    )"
   ]
  },
  {
   "cell_type": "markdown",
   "metadata": {},
   "source": [
    "# comparison to old results"
   ]
  },
  {
   "cell_type": "code",
   "execution_count": 151,
   "metadata": {},
   "outputs": [
    {
     "data": {
      "text/html": [
       "<div>\n",
       "<style scoped>\n",
       "    .dataframe tbody tr th:only-of-type {\n",
       "        vertical-align: middle;\n",
       "    }\n",
       "\n",
       "    .dataframe tbody tr th {\n",
       "        vertical-align: top;\n",
       "    }\n",
       "\n",
       "    .dataframe thead th {\n",
       "        text-align: right;\n",
       "    }\n",
       "</style>\n",
       "<table border=\"1\" class=\"dataframe\">\n",
       "  <thead>\n",
       "    <tr style=\"text-align: right;\">\n",
       "      <th></th>\n",
       "      <th>T</th>\n",
       "      <th>V</th>\n",
       "      <th>Rcut</th>\n",
       "      <th>TAIL</th>\n",
       "      <th>lnz_0</th>\n",
       "      <th>dens</th>\n",
       "      <th>stdev</th>\n",
       "      <th>pressure</th>\n",
       "      <th>stdev.1</th>\n",
       "      <th>PE</th>\n",
       "      <th>stdev.2</th>\n",
       "    </tr>\n",
       "  </thead>\n",
       "  <tbody>\n",
       "    <tr>\n",
       "      <td>0</td>\n",
       "      <td>1.5</td>\n",
       "      <td>512.0</td>\n",
       "      <td>2.5</td>\n",
       "      <td>LFS</td>\n",
       "      <td>-6.910147</td>\n",
       "      <td>0.00100</td>\n",
       "      <td>3.196241e-08</td>\n",
       "      <td>0.001498</td>\n",
       "      <td>8.859471e-08</td>\n",
       "      <td>-0.002772</td>\n",
       "      <td>0.000002</td>\n",
       "    </tr>\n",
       "    <tr>\n",
       "      <td>1</td>\n",
       "      <td>1.5</td>\n",
       "      <td>512.0</td>\n",
       "      <td>2.5</td>\n",
       "      <td>LFS</td>\n",
       "      <td>-6.900367</td>\n",
       "      <td>0.00101</td>\n",
       "      <td>3.193346e-08</td>\n",
       "      <td>0.001513</td>\n",
       "      <td>8.900519e-08</td>\n",
       "      <td>-0.002827</td>\n",
       "      <td>0.000002</td>\n",
       "    </tr>\n",
       "    <tr>\n",
       "      <td>2</td>\n",
       "      <td>1.5</td>\n",
       "      <td>512.0</td>\n",
       "      <td>2.5</td>\n",
       "      <td>LFS</td>\n",
       "      <td>-6.890587</td>\n",
       "      <td>0.00102</td>\n",
       "      <td>3.190516e-08</td>\n",
       "      <td>0.001528</td>\n",
       "      <td>8.941257e-08</td>\n",
       "      <td>-0.002882</td>\n",
       "      <td>0.000002</td>\n",
       "    </tr>\n",
       "    <tr>\n",
       "      <td>3</td>\n",
       "      <td>1.5</td>\n",
       "      <td>512.0</td>\n",
       "      <td>2.5</td>\n",
       "      <td>LFS</td>\n",
       "      <td>-6.880808</td>\n",
       "      <td>0.00103</td>\n",
       "      <td>3.187785e-08</td>\n",
       "      <td>0.001543</td>\n",
       "      <td>8.981673e-08</td>\n",
       "      <td>-0.002940</td>\n",
       "      <td>0.000002</td>\n",
       "    </tr>\n",
       "    <tr>\n",
       "      <td>4</td>\n",
       "      <td>1.5</td>\n",
       "      <td>512.0</td>\n",
       "      <td>2.5</td>\n",
       "      <td>LFS</td>\n",
       "      <td>-6.871028</td>\n",
       "      <td>0.00104</td>\n",
       "      <td>3.185190e-08</td>\n",
       "      <td>0.001558</td>\n",
       "      <td>9.021756e-08</td>\n",
       "      <td>-0.002998</td>\n",
       "      <td>0.000002</td>\n",
       "    </tr>\n",
       "  </tbody>\n",
       "</table>\n",
       "</div>"
      ],
      "text/plain": [
       "     T      V  Rcut TAIL     lnz_0     dens         stdev  pressure  \\\n",
       "0  1.5  512.0   2.5  LFS -6.910147  0.00100  3.196241e-08  0.001498   \n",
       "1  1.5  512.0   2.5  LFS -6.900367  0.00101  3.193346e-08  0.001513   \n",
       "2  1.5  512.0   2.5  LFS -6.890587  0.00102  3.190516e-08  0.001528   \n",
       "3  1.5  512.0   2.5  LFS -6.880808  0.00103  3.187785e-08  0.001543   \n",
       "4  1.5  512.0   2.5  LFS -6.871028  0.00104  3.185190e-08  0.001558   \n",
       "\n",
       "        stdev.1        PE   stdev.2  \n",
       "0  8.859471e-08 -0.002772  0.000002  \n",
       "1  8.900519e-08 -0.002827  0.000002  \n",
       "2  8.941257e-08 -0.002882  0.000002  \n",
       "3  8.981673e-08 -0.002940  0.000002  \n",
       "4  9.021756e-08 -0.002998  0.000002  "
      ]
     },
     "execution_count": 151,
     "metadata": {},
     "output_type": "execute_result"
    }
   ],
   "source": [
    "df = (\n",
    "    pd.read_csv('./T_1.50_EOS.csv')\n",
    "    .rename(columns=lambda x: x.replace('*','').replace('<','').replace('>','').replace(')','').replace('(',''))\n",
    "    .rename(columns={'lnz':'lnz_0','rho':'dens','p':'pressure','U':'PE'})\n",
    ")\n",
    "    \n",
    "df.head()"
   ]
  },
  {
   "cell_type": "code",
   "execution_count": 160,
   "metadata": {},
   "outputs": [
    {
     "data": {
      "application/vnd.jupyter.widget-view+json": {
       "model_id": "",
       "version_major": 2,
       "version_minor": 0
      },
      "text/plain": [
       "HBox(children=(IntProgress(value=0, description='build', max=1035, style=ProgressStyle(description_width='init…"
      ]
     },
     "metadata": {},
     "output_type": "display_data"
    },
    {
     "name": "stdout",
     "output_type": "stream",
     "text": [
      "\r"
     ]
    }
   ],
   "source": [
    "# build nice grid\n",
    "import lnPi.monoutils\n",
    "o_course, o = lnPi.monoutils.limited_collection(build_phases, dlnz=0.01, offsets=[-10, +10], \n",
    "                                                even_grid=True, # but lnzs on same grid as dlnz\n",
    "                                                digits=2, #round lnzs to this number of digits\n",
    "                                                edge_distance_min=10, rho_min=0.001)"
   ]
  },
  {
   "cell_type": "code",
   "execution_count": 161,
   "metadata": {},
   "outputs": [],
   "source": [
    "table = (\n",
    "    o.xge.table(['dens','pressure','PE','betamu'], default_keys=[], ref=ref)\n",
    "    .sel(phase=0,component=0)\n",
    "    .to_dataframe()\n",
    "    .reset_index()\n",
    ")"
   ]
  },
  {
   "cell_type": "code",
   "execution_count": 162,
   "metadata": {},
   "outputs": [
    {
     "data": {
      "image/png": "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\n",
      "text/plain": [
       "<Figure size 432x288 with 1 Axes>"
      ]
     },
     "metadata": {
      "needs_background": "light"
     },
     "output_type": "display_data"
    },
    {
     "data": {
      "image/png": "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\n",
      "text/plain": [
       "<Figure size 432x288 with 1 Axes>"
      ]
     },
     "metadata": {
      "needs_background": "light"
     },
     "output_type": "display_data"
    },
    {
     "data": {
      "image/png": "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\n",
      "text/plain": [
       "<Figure size 432x288 with 1 Axes>"
      ]
     },
     "metadata": {
      "needs_background": "light"
     },
     "output_type": "display_data"
    }
   ],
   "source": [
    "for col in ['dens','pressure','PE']:\n",
    "    fig, ax = plt.subplots()\n",
    "    df.plot('lnz_0',col, marker='o', mfc=None, ls='None', ax=ax, ms=1)\n",
    "    table.plot('lnz_0',col, ax=ax, color='tab:orange')"
   ]
  },
  {
   "cell_type": "markdown",
   "metadata": {},
   "source": [
    "# Multiple phases (sub critical)"
   ]
  },
  {
   "cell_type": "code",
   "execution_count": 171,
   "metadata": {},
   "outputs": [],
   "source": [
    "#function to tag 'LD' and 'HD' phases\n",
    "def tag_phases2(x):\n",
    "    if len(x) > 2:\n",
    "        raise ValueError('bad tag function')\n",
    "    argmax0 = np.array([xx.local_argmax()[0] for xx in x])\n",
    "    return np.where(argmax0 <= x[0].shape[0] / 2, 0, 1)\n"
   ]
  },
  {
   "cell_type": "code",
   "execution_count": 276,
   "metadata": {},
   "outputs": [],
   "source": [
    "# get meta data\n",
    "lnz, state_kws = get_lnz('./T_0.72871/metadata.json')\n",
    "pe = pd.read_csv('./T_0.72871/ljsf.t072871.bulk.v512.r1.energy.dat', header=None, sep='\\s+', names=['n','e'])['e'].values\n",
    "ref = lnPi.MaskedlnPi.from_table('./T_0.72871/ljsf.t072871.bulk.v512.r1.lnpi.dat',\n",
    "                                 fill_value=np.nan, \n",
    "                                 lnz=lnz,\n",
    "                                 state_kws=state_kws, \n",
    "                                 extra_kws={'PE':pe}).zeromax().pad()\n",
    "\n",
    "\n",
    "# Note that here, nmax=2, and we specify tag_phases\n",
    "phase_creator= lnPi.segment.PhaseCreator(nmax=2, nmax_peak=4, ref=ref, \n",
    "                                         merge_kws=dict(efac=0.8), \n",
    "                                         tag_phases=tag_phases2\n",
    "                                        )\n",
    "\n",
    "# choose a particular factory method for creating phases\n",
    "build_phases = phase_creator.build_phases_mu([None])"
   ]
  },
  {
   "cell_type": "markdown",
   "metadata": {},
   "source": [
    "## parallel builds"
   ]
  },
  {
   "cell_type": "code",
   "execution_count": 277,
   "metadata": {},
   "outputs": [
    {
     "data": {
      "application/vnd.jupyter.widget-view+json": {
       "model_id": "1662c706638a4385bdfc39c3f7dbeea8",
       "version_major": 2,
       "version_minor": 0
      },
      "text/plain": [
       "HBox(children=(IntProgress(value=0, description='build', max=2000, style=ProgressStyle(description_width='init…"
      ]
     },
     "metadata": {},
     "output_type": "display_data"
    },
    {
     "name": "stdout",
     "output_type": "stream",
     "text": [
      "\n"
     ]
    },
    {
     "data": {
      "application/vnd.jupyter.widget-view+json": {
       "model_id": "a08d0113125d4edd920a5ddc9abe54ac",
       "version_major": 2,
       "version_minor": 0
      },
      "text/plain": [
       "HBox(children=(IntProgress(value=0, description='build', max=2000, style=ProgressStyle(description_width='init…"
      ]
     },
     "metadata": {},
     "output_type": "display_data"
    },
    {
     "name": "stdout",
     "output_type": "stream",
     "text": [
      "\n"
     ]
    }
   ],
   "source": [
    "lnzs = np.linspace(-10, 3, 2000)\n",
    "\n",
    "with lnPi.set_options(tqdm_leave=True, joblib_use=False):\n",
    "    o = lnPi.CollectionlnPi.from_builder(lnzs, build_phases)\n",
    "\n",
    "with lnPi.set_options(tqdm_leave=True, joblib_use=True):\n",
    "    o = lnPi.CollectionlnPi.from_builder(lnzs, build_phases)"
   ]
  },
  {
   "cell_type": "markdown",
   "metadata": {},
   "source": [
    "## stacked vs unstackked"
   ]
  },
  {
   "cell_type": "code",
   "execution_count": 278,
   "metadata": {},
   "outputs": [],
   "source": [
    "lnzs = np.linspace(-10, 3, 20)\n",
    "\n",
    "# unstack is default behavior\n",
    "o_unstacked = lnPi.CollectionlnPi.from_builder(lnzs, build_phases, unstack=True)\n",
    "\n",
    "# pass unstack = False\n",
    "o_stacked = lnPi.CollectionlnPi.from_builder(lnzs, build_phases, unstack=False)"
   ]
  },
  {
   "cell_type": "code",
   "execution_count": 279,
   "metadata": {},
   "outputs": [
    {
     "data": {
      "text/plain": [
       "<xarray.DataArray 'dens' (component: 1, lnz_0: 20, phase: 2)>\n",
       "array([[[4.541223e-05,          nan],\n",
       "        [9.006592e-05,          nan],\n",
       "        [1.787242e-04,          nan],\n",
       "        [3.550377e-04,          nan],\n",
       "        [7.068088e-04,          nan],\n",
       "        [1.413245e-03,          nan],\n",
       "        [2.851074e-03,          nan],\n",
       "        [5.862585e-03,          nan],\n",
       "        [1.261568e-02,          nan],\n",
       "        [3.148099e-02, 7.212585e-01],\n",
       "        [         nan, 7.692454e-01],\n",
       "        [         nan, 8.026305e-01],\n",
       "        [         nan, 8.291477e-01],\n",
       "        [         nan, 8.447117e-01],\n",
       "        [         nan, 8.481959e-01],\n",
       "        [         nan, 8.490536e-01],\n",
       "        [         nan, 8.493593e-01],\n",
       "        [         nan, 8.494899e-01],\n",
       "        [         nan, 8.495507e-01],\n",
       "        [         nan, 8.495802e-01]]])\n",
       "Coordinates:\n",
       "    beta     float64 1.372\n",
       "    volume   float64 512.0\n",
       "  * lnz_0    (lnz_0) float64 -10.0 -9.316 -8.632 -7.947 ... 1.632 2.316 3.0\n",
       "  * phase    (phase) int64 0 1\n",
       "Dimensions without coordinates: component\n",
       "Attributes:\n",
       "    dims_n:      ['n_0']\n",
       "    dims_lnz:    ['lnz_0']\n",
       "    dims_comp:   ['component']\n",
       "    dims_state:  ['lnz_0', 'beta', 'volume']\n",
       "    dims_rec:    ['sample']\n",
       "    long_name:   ${\\bf \\rho}(\\mu,V,T)$"
      ]
     },
     "execution_count": 279,
     "metadata": {},
     "output_type": "execute_result"
    }
   ],
   "source": [
    "# unstack results\n",
    "o_unstacked.xge.dens"
   ]
  },
  {
   "cell_type": "code",
   "execution_count": 200,
   "metadata": {},
   "outputs": [
    {
     "data": {
      "text/plain": [
       "<xarray.DataArray 'dens' (sample: 21, component: 1)>\n",
       "array([[4.541223e-05],\n",
       "       [9.006592e-05],\n",
       "       [1.787242e-04],\n",
       "       [3.550377e-04],\n",
       "       [7.068088e-04],\n",
       "       [1.413245e-03],\n",
       "       [2.851074e-03],\n",
       "       [5.862585e-03],\n",
       "       [1.261568e-02],\n",
       "       [3.148099e-02],\n",
       "       [7.212585e-01],\n",
       "       [7.692454e-01],\n",
       "       [8.026305e-01],\n",
       "       [8.291477e-01],\n",
       "       [8.447117e-01],\n",
       "       [8.481959e-01],\n",
       "       [8.490536e-01],\n",
       "       [8.493593e-01],\n",
       "       [8.494899e-01],\n",
       "       [8.495507e-01],\n",
       "       [8.495802e-01]])\n",
       "Coordinates:\n",
       "    beta     float64 1.372\n",
       "  * sample   (sample) MultiIndex\n",
       "  - lnz_0    (sample) float64 -10.0 -9.316 -8.632 -7.947 ... 1.632 2.316 3.0\n",
       "  - phase    (sample) int64 0 0 0 0 0 0 0 0 0 0 1 1 1 1 1 1 1 1 1 1 1\n",
       "    volume   float64 512.0\n",
       "Dimensions without coordinates: component\n",
       "Attributes:\n",
       "    dims_n:      ['n_0']\n",
       "    dims_lnz:    ['lnz_0']\n",
       "    dims_comp:   ['component']\n",
       "    dims_state:  ['lnz_0', 'beta', 'volume']\n",
       "    dims_rec:    ['sample']\n",
       "    long_name:   ${\\bf \\rho}(\\mu,V,T)$"
      ]
     },
     "execution_count": 200,
     "metadata": {},
     "output_type": "execute_result"
    }
   ],
   "source": [
    "# stacked results\n",
    "o_stacked.xge.dens"
   ]
  },
  {
   "cell_type": "code",
   "execution_count": 205,
   "metadata": {},
   "outputs": [
    {
     "data": {
      "text/plain": [
       "<xarray.DataArray 'dens' (component: 1, lnz_0: 20, phase: 2)>\n",
       "array([[[4.541223e-05,          nan],\n",
       "        [9.006592e-05,          nan],\n",
       "        [1.787242e-04,          nan],\n",
       "        [3.550377e-04,          nan],\n",
       "        [7.068088e-04,          nan],\n",
       "        [1.413245e-03,          nan],\n",
       "        [2.851074e-03,          nan],\n",
       "        [5.862585e-03,          nan],\n",
       "        [1.261568e-02,          nan],\n",
       "        [3.148099e-02, 7.212585e-01],\n",
       "        [         nan, 7.692454e-01],\n",
       "        [         nan, 8.026305e-01],\n",
       "        [         nan, 8.291477e-01],\n",
       "        [         nan, 8.447117e-01],\n",
       "        [         nan, 8.481959e-01],\n",
       "        [         nan, 8.490536e-01],\n",
       "        [         nan, 8.493593e-01],\n",
       "        [         nan, 8.494899e-01],\n",
       "        [         nan, 8.495507e-01],\n",
       "        [         nan, 8.495802e-01]]])\n",
       "Coordinates:\n",
       "    beta     float64 1.372\n",
       "    volume   float64 512.0\n",
       "  * lnz_0    (lnz_0) float64 -10.0 -9.316 -8.632 -7.947 ... 1.632 2.316 3.0\n",
       "  * phase    (phase) int64 0 1\n",
       "Dimensions without coordinates: component\n",
       "Attributes:\n",
       "    dims_n:      ['n_0']\n",
       "    dims_lnz:    ['lnz_0']\n",
       "    dims_comp:   ['component']\n",
       "    dims_state:  ['lnz_0', 'beta', 'volume']\n",
       "    dims_rec:    ['sample']\n",
       "    long_name:   ${\\bf \\rho}(\\mu,V,T)$"
      ]
     },
     "execution_count": 205,
     "metadata": {},
     "output_type": "execute_result"
    }
   ],
   "source": [
    "# its trivial to go from one to the other that to take an stacked array to unstacked\n",
    "o_stacked.xge.dens.unstack()"
   ]
  },
  {
   "cell_type": "code",
   "execution_count": 228,
   "metadata": {},
   "outputs": [
    {
     "data": {
      "text/plain": [
       "<xarray.DataArray 'dens' (sample: 21, component: 1)>\n",
       "array([[4.541223e-05],\n",
       "       [9.006592e-05],\n",
       "       [1.787242e-04],\n",
       "       [3.550377e-04],\n",
       "       [7.068088e-04],\n",
       "       [1.413245e-03],\n",
       "       [2.851074e-03],\n",
       "       [5.862585e-03],\n",
       "       [1.261568e-02],\n",
       "       [3.148099e-02],\n",
       "       [7.212585e-01],\n",
       "       [7.692454e-01],\n",
       "       [8.026305e-01],\n",
       "       [8.291477e-01],\n",
       "       [8.447117e-01],\n",
       "       [8.481959e-01],\n",
       "       [8.490536e-01],\n",
       "       [8.493593e-01],\n",
       "       [8.494899e-01],\n",
       "       [8.495507e-01],\n",
       "       [8.495802e-01]])\n",
       "Coordinates:\n",
       "    beta     float64 1.372\n",
       "    volume   float64 512.0\n",
       "  * sample   (sample) MultiIndex\n",
       "  - lnz_0    (sample) float64 -10.0 -9.316 -8.632 -7.947 ... 1.632 2.316 3.0\n",
       "  - phase    (sample) int64 0 0 0 0 0 0 0 0 0 0 1 1 1 1 1 1 1 1 1 1 1\n",
       "Dimensions without coordinates: component\n",
       "Attributes:\n",
       "    dims_n:      ['n_0']\n",
       "    dims_lnz:    ['lnz_0']\n",
       "    dims_comp:   ['component']\n",
       "    dims_state:  ['lnz_0', 'beta', 'volume']\n",
       "    dims_rec:    ['sample']\n",
       "    long_name:   ${\\bf \\rho}(\\mu,V,T)$"
      ]
     },
     "execution_count": 228,
     "metadata": {},
     "output_type": "execute_result"
    }
   ],
   "source": [
    "o_unstacked.xge.dens.stack(sample=['lnz_0','phase']).dropna('sample').transpose('sample','component')"
   ]
  },
  {
   "cell_type": "code",
   "execution_count": 217,
   "metadata": {},
   "outputs": [
    {
     "data": {
      "text/plain": [
       "<xarray.DataArray 'dens' (sample: 21, component: 1)>\n",
       "array([[4.541223e-05],\n",
       "       [9.006592e-05],\n",
       "       [1.787242e-04],\n",
       "       [3.550377e-04],\n",
       "       [7.068088e-04],\n",
       "       [1.413245e-03],\n",
       "       [2.851074e-03],\n",
       "       [5.862585e-03],\n",
       "       [1.261568e-02],\n",
       "       [3.148099e-02],\n",
       "       [7.212585e-01],\n",
       "       [7.692454e-01],\n",
       "       [8.026305e-01],\n",
       "       [8.291477e-01],\n",
       "       [8.447117e-01],\n",
       "       [8.481959e-01],\n",
       "       [8.490536e-01],\n",
       "       [8.493593e-01],\n",
       "       [8.494899e-01],\n",
       "       [8.495507e-01],\n",
       "       [8.495802e-01]])\n",
       "Coordinates:\n",
       "    beta     float64 1.372\n",
       "  * sample   (sample) MultiIndex\n",
       "  - lnz_0    (sample) float64 -10.0 -9.316 -8.632 -7.947 ... 1.632 2.316 3.0\n",
       "  - phase    (sample) int64 0 0 0 0 0 0 0 0 0 0 1 1 1 1 1 1 1 1 1 1 1\n",
       "    volume   float64 512.0\n",
       "Dimensions without coordinates: component\n",
       "Attributes:\n",
       "    dims_n:      ['n_0']\n",
       "    dims_lnz:    ['lnz_0']\n",
       "    dims_comp:   ['component']\n",
       "    dims_state:  ['lnz_0', 'beta', 'volume']\n",
       "    dims_rec:    ['sample']\n",
       "    long_name:   ${\\bf \\rho}(\\mu,V,T)$"
      ]
     },
     "execution_count": 217,
     "metadata": {},
     "output_type": "execute_result"
    }
   ],
   "source": [
    "o_stacked.xge.dens"
   ]
  },
  {
   "cell_type": "code",
   "execution_count": 280,
   "metadata": {},
   "outputs": [],
   "source": [
    "# build nice grid\n",
    "import lnPi.monoutils"
   ]
  },
  {
   "cell_type": "code",
   "execution_count": 229,
   "metadata": {},
   "outputs": [
    {
     "data": {
      "application/vnd.jupyter.widget-view+json": {
       "model_id": "",
       "version_major": 2,
       "version_minor": 0
      },
      "text/plain": [
       "HBox(children=(IntProgress(value=0, description='build', max=524, style=ProgressStyle(description_width='initi…"
      ]
     },
     "metadata": {},
     "output_type": "display_data"
    },
    {
     "name": "stdout",
     "output_type": "stream",
     "text": [
      "\r"
     ]
    }
   ],
   "source": [
    "o_course, o = lnPi.monoutils.limited_collection(build_phases, dlnz=0.01, offsets=[-10, +10], \n",
    "                                                even_grid=True, # but lnzs on same grid as dlnz\n",
    "                                                digits=2, #round lnzs to this number of digits\n",
    "                                                edge_distance_min=10, rho_min=0.001)"
   ]
  },
  {
   "cell_type": "code",
   "execution_count": 230,
   "metadata": {},
   "outputs": [
    {
     "data": {
      "text/html": [
       "<div>\n",
       "<style scoped>\n",
       "    .dataframe tbody tr th:only-of-type {\n",
       "        vertical-align: middle;\n",
       "    }\n",
       "\n",
       "    .dataframe tbody tr th {\n",
       "        vertical-align: top;\n",
       "    }\n",
       "\n",
       "    .dataframe thead th {\n",
       "        text-align: right;\n",
       "    }\n",
       "</style>\n",
       "<table border=\"1\" class=\"dataframe\">\n",
       "  <thead>\n",
       "    <tr style=\"text-align: right;\">\n",
       "      <th></th>\n",
       "      <th>T</th>\n",
       "      <th>V</th>\n",
       "      <th>Rcut</th>\n",
       "      <th>TAIL</th>\n",
       "      <th>lnz_0</th>\n",
       "      <th>dens</th>\n",
       "      <th>stdev</th>\n",
       "      <th>pressure</th>\n",
       "      <th>stdev.1</th>\n",
       "      <th>PE</th>\n",
       "      <th>stdev.2</th>\n",
       "    </tr>\n",
       "  </thead>\n",
       "  <tbody>\n",
       "    <tr>\n",
       "      <td>0</td>\n",
       "      <td>0.72871</td>\n",
       "      <td>512.0</td>\n",
       "      <td>2.5</td>\n",
       "      <td>LFS</td>\n",
       "      <td>-6.919759</td>\n",
       "      <td>0.001000</td>\n",
       "      <td>1.236298e-07</td>\n",
       "      <td>0.000724</td>\n",
       "      <td>9.518432e-08</td>\n",
       "      <td>-0.004397</td>\n",
       "      <td>0.000002</td>\n",
       "    </tr>\n",
       "    <tr>\n",
       "      <td>1</td>\n",
       "      <td>0.72871</td>\n",
       "      <td>512.0</td>\n",
       "      <td>2.5</td>\n",
       "      <td>LFS</td>\n",
       "      <td>-6.915094</td>\n",
       "      <td>0.001005</td>\n",
       "      <td>1.241497e-07</td>\n",
       "      <td>0.000728</td>\n",
       "      <td>9.559684e-08</td>\n",
       "      <td>-0.004439</td>\n",
       "      <td>0.000002</td>\n",
       "    </tr>\n",
       "    <tr>\n",
       "      <td>2</td>\n",
       "      <td>0.72871</td>\n",
       "      <td>512.0</td>\n",
       "      <td>2.5</td>\n",
       "      <td>LFS</td>\n",
       "      <td>-6.910429</td>\n",
       "      <td>0.001010</td>\n",
       "      <td>1.246715e-07</td>\n",
       "      <td>0.000731</td>\n",
       "      <td>9.601106e-08</td>\n",
       "      <td>-0.004481</td>\n",
       "      <td>0.000002</td>\n",
       "    </tr>\n",
       "    <tr>\n",
       "      <td>3</td>\n",
       "      <td>0.72871</td>\n",
       "      <td>512.0</td>\n",
       "      <td>2.5</td>\n",
       "      <td>LFS</td>\n",
       "      <td>-6.905764</td>\n",
       "      <td>0.001014</td>\n",
       "      <td>1.251954e-07</td>\n",
       "      <td>0.000735</td>\n",
       "      <td>9.642697e-08</td>\n",
       "      <td>-0.004523</td>\n",
       "      <td>0.000002</td>\n",
       "    </tr>\n",
       "    <tr>\n",
       "      <td>4</td>\n",
       "      <td>0.72871</td>\n",
       "      <td>512.0</td>\n",
       "      <td>2.5</td>\n",
       "      <td>LFS</td>\n",
       "      <td>-6.901100</td>\n",
       "      <td>0.001019</td>\n",
       "      <td>1.257213e-07</td>\n",
       "      <td>0.000738</td>\n",
       "      <td>9.684459e-08</td>\n",
       "      <td>-0.004566</td>\n",
       "      <td>0.000002</td>\n",
       "    </tr>\n",
       "  </tbody>\n",
       "</table>\n",
       "</div>"
      ],
      "text/plain": [
       "         T      V  Rcut TAIL     lnz_0      dens         stdev  pressure  \\\n",
       "0  0.72871  512.0   2.5  LFS -6.919759  0.001000  1.236298e-07  0.000724   \n",
       "1  0.72871  512.0   2.5  LFS -6.915094  0.001005  1.241497e-07  0.000728   \n",
       "2  0.72871  512.0   2.5  LFS -6.910429  0.001010  1.246715e-07  0.000731   \n",
       "3  0.72871  512.0   2.5  LFS -6.905764  0.001014  1.251954e-07  0.000735   \n",
       "4  0.72871  512.0   2.5  LFS -6.901100  0.001019  1.257213e-07  0.000738   \n",
       "\n",
       "        stdev.1        PE   stdev.2  \n",
       "0  9.518432e-08 -0.004397  0.000002  \n",
       "1  9.559684e-08 -0.004439  0.000002  \n",
       "2  9.601106e-08 -0.004481  0.000002  \n",
       "3  9.642697e-08 -0.004523  0.000002  \n",
       "4  9.684459e-08 -0.004566  0.000002  "
      ]
     },
     "execution_count": 230,
     "metadata": {},
     "output_type": "execute_result"
    }
   ],
   "source": [
    "df = (\n",
    "    pd.read_csv('./T_0.72871_EOS.csv')\n",
    "    .rename(columns=lambda x: x.replace('*','').replace('<','').replace('>','').replace(')','').replace('(',''))\n",
    "    .rename(columns={'lnz':'lnz_0','rho':'dens','p':'pressure','U':'PE'})\n",
    ")\n",
    "    \n",
    "df.head()"
   ]
  },
  {
   "cell_type": "markdown",
   "metadata": {},
   "source": [
    "# picking stable phases"
   ]
  },
  {
   "cell_type": "code",
   "execution_count": 231,
   "metadata": {},
   "outputs": [],
   "source": [
    "table = (\n",
    "    o.xge.table(['dens','pressure','PE','betamu'], default_keys=[], ref=ref)\n",
    ")"
   ]
  },
  {
   "cell_type": "code",
   "execution_count": 232,
   "metadata": {},
   "outputs": [
    {
     "data": {
      "text/plain": [
       "<xarray.Dataset>\n",
       "Dimensions:        (component: 1, lnz_0: 524, phase: 2)\n",
       "Coordinates:\n",
       "    beta           float64 1.372\n",
       "    volume         float64 512.0\n",
       "  * lnz_0          (lnz_0) float64 -6.92 -6.91 -6.9 -6.89 ... -1.71 -1.7 -1.69\n",
       "  * phase          (phase) int64 0 1\n",
       "Dimensions without coordinates: component\n",
       "Data variables:\n",
       "    edge_distance  (lnz_0, phase) float64 436.0 nan 436.0 nan ... 10.0 nan 10.0\n",
       "    dens           (component, lnz_0, phase) float64 0.0009998 nan ... 0.8324\n",
       "    pressure       (lnz_0, phase) float64 0.0007241 nan 0.0007314 ... nan 1.313\n",
       "    PE             (lnz_0, phase) float64 -0.004394 nan ... nan -1.916e+03\n",
       "    betamu         (component, lnz_0, phase) float64 -6.92 nan ... nan -1.69"
      ]
     },
     "execution_count": 232,
     "metadata": {},
     "output_type": "execute_result"
    }
   ],
   "source": [
    "# note that now we have multiple phases.  want only the most stable phases...\n",
    "table"
   ]
  },
  {
   "cell_type": "code",
   "execution_count": 236,
   "metadata": {},
   "outputs": [],
   "source": [
    "table = (\n",
    "    o.xge.table(['dens','pressure','PE','betamu'], mask_stable=True, default_keys=[], ref=ref)\n",
    "    .to_dataframe()\n",
    "    .reset_index()\n",
    ")"
   ]
  },
  {
   "cell_type": "code",
   "execution_count": 238,
   "metadata": {},
   "outputs": [
    {
     "data": {
      "image/png": "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\n",
      "text/plain": [
       "<Figure size 432x288 with 1 Axes>"
      ]
     },
     "metadata": {
      "needs_background": "light"
     },
     "output_type": "display_data"
    },
    {
     "data": {
      "image/png": "iVBORw0KGgoAAAANSUhEUgAAAXQAAAEHCAYAAAC+1b08AAAABHNCSVQICAgIfAhkiAAAAAlwSFlzAAALEgAACxIB0t1+/AAAADh0RVh0U29mdHdhcmUAbWF0cGxvdGxpYiB2ZXJzaW9uMy4xLjEsIGh0dHA6Ly9tYXRwbG90bGliLm9yZy8QZhcZAAAgAElEQVR4nO3dd3yUZdb/8c9JIyi9CAhIooKNpgZExbLrsyuWB9cCNhQrCgL2XdtPXfz5rKvu7s+6yIoNsYBlZbEriGUFjY/AioCLgBCKRBJAxZAp5/fHDGyIA5mQSWYy832/XnnlLtfc95n48nh57uu+LnN3RESk8ctKdgAiIpIYSugiImlCCV1EJE0ooYuIpAkldBGRNJGTrBu3a9fOCwoKknV7EZFG6bPPPvvO3dvHOpe0hF5QUEBxcXGybi8i0iiZ2Tc7OqeSi4hImlBCFxFJE0roIiJpImk19FgCgQAlJSVUVFQkO5RGJz8/ny5dupCbm5vsUEQkSVIqoZeUlNC8eXMKCgows2SH02i4O+vXr6ekpITCwsJkhyMiSZJSJZeKigratm2rZF5LZkbbtm31fzYiGS6lEjqgZL6L9HcTkZRL6CIisgOL39jpaSV0EZHGYNNqePmynTZRQt8FoVCowe4VDAYb7F4ikqLCYfj7SAhV7rSZEno1y5cvZ//992f48OH07t2bM844g82bN1NQUMC4ceMYOHAgU6dO5euvv2bQoEEceuihHHXUUSxatAiAqVOn0rNnT/r06cPRRx8NwIIFC+jfvz99+/ald+/e/Pvf/2b58uX07Nlz233vvfdebr/9dgCOPfZYbrrpJo455hjuu+8+SktLOf300+nXrx/9+vXjo48+avC/i4gk0ZzxsPQ9OP5/dtospYYtporFixczceJEjjzySC666CIefvhhIDLW+8MPPwTguOOOY/z48XTv3p05c+YwatQoZsyYwbhx43jzzTfp3LkzGzZsAGD8+PFceeWVnHvuuVRWVhIKhfj22293GsOGDRuYNWsWAOeccw5XX301AwcOZMWKFRx//PEsXLiwHv8CIpIyvl0A79wOPU6AQy8ALtphUyX0GLp27cqRRx4JwLBhw7j//vsBOPPMMwH44Ycf+Oc//8mQIUO2fWbLli0AHHnkkVxwwQUMHTqU0047DYDDDz+cO++8k5KSEk477TS6d+9eYwxb7wXwzjvv8OWXX27b37RpE99//z3Nmzev4zcVkZQWqIAXL4X8FjD4AahhNJsSegzVhwBu3d99990BCIfDtGrVirlz5/7ss+PHj2fOnDm8+uqr9O3bl7lz53LOOedw2GGH8eqrr3L88cfz6KOP0qNHD8Lh8LbPVR9DvvVeW+/38ccf07Rp04R9RxFpBN4dB+sWwDlToVnMGXO3oxp6DCtWrODjjz8G4Nlnn2XgwIHbnW/RogWFhYVMnToViLypOW/ePAC+/vprDjvsMMaNG0e7du1YuXIlS5cuZe+992bs2LEMHjyY+fPn06FDB9atW8f69evZsmUL06dP32E8v/71r3nwwQe37cf6D4mIpJmvZ8Lsh6DfpdDj13F9RAk9hgMOOIAnn3yS3r17U1ZWxsiRI3/WZvLkyUycOJE+ffpw0EEH8corrwBw/fXX06tXL3r27MnRRx9Nnz59eP755+nZsyd9+/Zl0aJFnH/++eTm5nLrrbdy2GGHcfLJJ7P//vvvMJ7777+f4uJievfuzYEHHsj48ePr7buLSArYXBYZ1dKuB/xqXNwfM3evx6h2rKioyKsvcLFw4UIOOOCApMSz1fLlyzn55JP54osvkhrHrkiFv5+I1JE7TDkfFr8Ol74Lnfpsd9rMPnP3olgfVQ9dRCSVzH0GFk6DX97ys2ReEyX0agoKChpl71xE0kDZUnj9t9BtIBwxptYfV0IXEUkFoSC8dBlYNpw6HrKya30JDVsUEUkFH/wJSj6B0ydCq667dAn10EVEkm3lpzDrj9BrKPQ6Y5cvU2NCN7PHzGydmcUsLJvZuWY2P/rzTzOrXRVfRCSTbfkeXroUWnSGk+6t06Xi6aE/AQzayfllwDHu3hu4A5hQp4hERDLJGzdC+XI47RHIb1mnS9WY0N39faBsJ+f/6e7l0d3ZQJc6RdQIaPpcEUmIhf+AzyfBwKuh2xF1vlyia+gXA6/v6KSZjTCzYjMrLi0tTfCtE0PT54pIg9i0BqaNgU594dgbE3LJhI1yMbNfEEnoA3fUxt0nEC3JFBUV7fwV1ddvgLX/SlR4ER17wQl31dhM0+eKSL3aumBFoAJO+xvk5CXksglJ6GbWG3gUOMHd1yfimsmk6XNFpF598ggsnQkn/Rna90jYZeuc0M1sL+Al4Dx3/6ruIUXF0ZOuL5o+V0TqzbcL4O3boMcgKNrxYhW7Ip5hi88CHwP7mVmJmV1sZpeb2eXRJrcCbYGHzWyumRXv8GKNhKbPFZF6sd2CFQ/WuGBFbcUzyuVsd+/k7rnu3sXdJ7r7eHcfHz1/ibu3dve+0Z+Ys4A1Jpo+V0TqxYw7IgtWnPJwXAtW1Jamz61G0+eKSL34eiZM+g30uwRO+tMuX0bT54qIJNN2C1bcUW+30eRc1Wj6XBFJKHeYfhX8+B2c/Rzk7VZvt0q5HnqySkCNnf5uIilq7jPw5Svwy5thz771equUSuj5+fmsX79eyamW3J3169eTn5+f7FBEpKqyZdEFK46EI8bW++1SquTSpUsXSkpKSNVpAVJZfn4+Xbqk/TQ6Io1HKAgvjYguWPHILi1YUVspldBzc3MpLCxMdhgiInWXgAUraiulSi4iImmhpDi6YMWQOi1YUVtK6CIiibTle3jxYmixJ5xYtwUraiulSi4iIo3ea7+FDSvgglehaasGvbV66CIiifLFizDvGTjquoQsWFFbSugiIomwYQX842ro0g+O+V1SQlBCFxGpq61DFD0cWbAiOznVbNXQRUTq6sM/w4qP4dQJ0CZ5Q6/VQxcRqYuVn8B7d0WGKPY5s+b29UgJXURkV1VsghcvgZad6zQlbqKo5CIisqteux42roQLX4f8lsmORj10EZFdMn8qzH8uMqJlrwHJjgZQQhcRqb3y5fDqNdB1QGTMeYpQQhcRqY2tQxQBTpuQtCGKsaROJCIijcEH98LKOXDao9C6W7Kj2U6NPXQze8zM1plZzHXZLOJ+M1tiZvPN7JDEhykikgJWzInMotj7LOg9JNnR/Ew8JZcngEE7OX8C0D36MwL4a93DEhFJMRUb4aVLoNVecOI9yY4mphoTuru/D5TtpMkpwFMeMRtoZWadEhWgiEhKePVa2LgqUmrJb5HsaGJKxEPRzsDKKvsl0WM/Y2YjzKzYzIq1zJyINBrznod/TYVjb4Cu/ZIdzQ4lIqFbjGMxV3l29wnuXuTuRe3bt0/ArUVE6lnZskjvfK/D4ahrkx3NTiUioZcAVRfM6wKsTsB1RUSSa9tCz1mRIYoNsNBzXSQioU8Dzo+OdhkAbHT3NQm4rohIcr1/d2Sh5//+S+RhaIqrcRy6mT0LHAu0M7MS4DYgF8DdxwOvAScCS4DNwIX1FayISEPZtHgWzWbdw8I9TqJT4X/TJtkBxaHGhO7uZ9dw3oErEhaRiEiSla8vJTjlEsrC7Rm64jTGFq/ksmP2SXZYNdKr/yIiVbmzevJIWgXXc2XgCtq1acuQoq41fy4F6NV/EZEqvv3wCQ4qe5u7g0P5Jv8AXrywH212z0t2WHFRD11EJGpDyWKav3sDs8MH8Gzuabw46gj2ad8s2WHFTQldRAQgFODHZy8k4FlcXTmK7h1bNqpkDiq5iIgAsPaV2+j84wJGBcbyU9OO/OH03skOqdaU0EUk463+/A06znuYZ0O/YGb2EUxvZKWWrVRyEZGMVl66hrxXLmepd+JuhjP5kgGNMpmDErqIZDJ3vpt8Mc39e8YExtC9SwcO6dY62VHtMpVcRCRjlc54gO4bPuK24HDW5O/Lg42wbl6VeugikpFWLpxDyw9+zzuhg5mWd1KjG6IYixK6iGSeyh/JeuFiyr0Z1wcuY0hR10afzEElFxHJQN+9cA2dgiWcG7iJZq07cPmx+yY7pIRQQheRjLL242fp+NVzPBQazNzsXky/qH+jebW/Jiq5iEjG+ObrRez+5jV8Ht6X8Ta0UQ9RjEUJXUQyQyhIxXMX4u6MCYzm7AH7NOohirGo5CIiGaHs9TvYL/AlYwOjsVbd0qZuXpUSuoikvVVz36JT8X1MCR7DB/nH8EIa1c2rUslFRNLb5jLyp41kWbgjtweHM+TQLmlVN69KCV1E0pc7G54bQfNQOWMDo2nbunVallq2UslFRNJW6XsP037F29wRHMbSnH3SaohiLOqhi0haWrnoU1rMuo2ZoT48m3Vi2g1RjCWuhG5mg8xssZktMbMbYpzfy8xmmtnnZjbfzE5MfKgiInGq3AwvXMwm343rApczbEBh2g1RjKXGhG5m2cBDwAnAgcDZZnZgtWa3AFPc/WDgLODhRAcqIhKvja/8lq7Bb7gmMJLdWndM67p5VfH00PsDS9x9qbtXAs8Bp1Rr40CL6HZLYHXiQhQRid/a2VNouWAS44Mn80X+oTyR5nXzquJJ6J2BlVX2S6LHqrodGGZmJcBrwJiERCciUgsb1ixl9zeuYl54b/4UHJrWQxRjiSehW4xjXm3/bOAJd+8CnAhMMrOfXdvMRphZsZkVl5aW1j5aEZEdCQXZ8PQFmIcYGxjNIYXtM6bUslU8Cb0E6Fplvws/L6lcDEwBcPePgXygXfULufsEdy9y96L27dvvWsQiIjGUvfE/FPw4j1sCF7GpaVf+OqwoY0otW8WT0D8FuptZoZnlEXnoOa1amxXAcQBmdgCRhK4uuIg0iFXzZtDy0z/zYmggb2YfzcTh/TIumUMcCd3dg8Bo4E1gIZHRLAvMbJyZDY42uxa41MzmAc8CF7h79bKMiEjClX/3LTl/v5SV4T24NXAh5w3olhFDFGOJ601Rd3+NyMPOqsdurbL9JXBkYkMTEamBO2smXcK+4XIuDdxOz8I9M65uXpVe/ReRRqt0xoMcuPF97giey8qm+/NuBtbNq1JCF5FGaePSYlp+cDvvhg7mmayTmZyhdfOqlNBFpNEpKy+jYvL5bPYWXBe4jPOOKsjYunlVmpxLRBoXd1Y9PZIOwdVcVXkFLdpkzqv9NVEPXUQalXUfPk6v9W/wl+DpLMrvxUsXqtSylXroItJobFixgObv3sDHoQN5IHQqZxZ1zahX+2uihC4ijULZho1sfOpcNnseVwauoF9hW5VaqlFCF5FGYdkzV9EtuIxrA5fTtE3njHy1vyaqoYtIyls7+3kOXfcSE4In8XmTfqqb74B66CKS0jasXkKzN65ibngf7gmeqbr5Tiihi0jKKtv0I+seP5ewO2MydErc2lBCF5GUtejZ39EjsIgbApeS1bpQdfMaqIYuIilp9WfTOWLNJJ4J/pKPmgxU3TwO6qGLSMop/3YFTf8xikXhrvw+eL7q5nFSQheRlFL2/U+UTBxGvv/E6MAY+hZ2UN08TkroIpJS5j9/G70q53Fr8AICrXuobl4LqqGLSMrYtPh9jir5G6+EjuCt3ONUN68lJXQRSQnl360l9PyFlIXbc3PgIs4ZsJfq5rWkkouIJJ87pU9fQotQOaMDY2jbpp3q5rtAPXQRSbrv3r2fHhs+4PfB81iZ30Olll2kHrqIJNXGpZ/S4sNxvB06hMdDgzREsQ7iSuhmNsjMFpvZEjO7YQdthprZl2a2wMyeSWyYIpKOysrL2Dz5fL7zFlwfuIzDCtuo1FIHNZZczCwbeAj4FVACfGpm09z9yyptugM3Ake6e7mZ7VFfAYtImnBnzaTL2D+4hrMq/w8t23TQEMU6iqeH3h9Y4u5L3b0SeA44pVqbS4GH3L0cwN3XJTZMEUk362Y9wkFlb/Gn4BC+yu/JY6qb11k8Cb0zsLLKfkn0WFU9gB5m9pGZzTazQYkKUETSz8Zl/0ur927h/VAv/hoarLp5gsQzysViHPMY1+kOHAt0AT4ws57uvmG7C5mNAEYA7LXXXrUOVkQav7LyMiqeHsZP3oyrA6Por6XkEiaeHnoJ0LXKfhdgdYw2r7h7wN2XAYuJJPjtuPsEdy9y96L27dvvaswi0lhF6+YdgqsZWzmaZm06qW6eQPEk9E+B7mZWaGZ5wFnAtGpt/g78AsDM2hEpwSxNZKAi0vhVrZsvzu+lunmC1ZjQ3T0IjAbeBBYCU9x9gZmNM7PB0WZvAuvN7EtgJnC9u6+vr6BFpPFR3bz+mXv1cnjDKCoq8uLi4qTcW0QaVll5GRUPDiQ7+CMnbvkD+xYWqNSyi8zsM3cvinVOb4qKSP3arm4+RnXzeqS5XESkXq2bNYGDyt7inuBQFuX30jwt9Ug9dBGpN5G6+c28H+rFw6qb1zv10EWkXmwdb17hu2u8eQNRD11EEk9186RQD11EEk518+RQD11EEmrjss9pGR1vrrp5w1IPXUQSJlI3P5cK30118yRQD11EEsOdlU+NoENwNVcGNE9LMqiHLiIJse79v9Gn/G3uDQ5hXnZPpqtu3uDUQxeROlu58BNazLyJ90O9eDzrVCZfMkB18yRQQheROikrL8OnDGdjdLz5uQMKOaRb62SHlZGU0EVk10Xr5p3Da7gyMJp9Cwv0EDSJVEMXkV22btaEbXXzxfl9eFcPQZNKPXQR2SUrv5xNy+g8LY9nncrE4XoImmxK6CJSa+XrS8maOpwyb85VgStUN08RSugiUjvurHnqIvYIl3JF5Vi6F3ZT3TxFqIYuIrXy3Tt/5sCN73NH8FyWNT1IdfMUooQuInFbNX8me3x0J2+E+vFM1slMVt08pajkIiLx+fE78v9+CavC7bg+cBnnDShQ3TzFKKGLSM3CITZNvoBmoY2MClxJq9aadCsVqeQiIjUqe/1O2qz+gBuCl7AsZ2+mX9RfpZYUFFcP3cwGmdliM1tiZjfspN0ZZuZmVpS4EEUkmVb/72u0+vTPvBg6ileyjtM8LSmsxoRuZtnAQ8AJwIHA2WZ2YIx2zYGxwJxEBykiyVG+djm7TbuMf4c7c0vgQtXNU1w8PfT+wBJ3X+rulcBzwCkx2t0B3A1UJDA+EUmWUIAfnh5GjlcyKnAl7Vq3Vt08xcWT0DsDK6vsl0SPbWNmBwNd3X36zi5kZiPMrNjMiktLS2sdrIg0nG9fupGuP/yLGwOXsD6/gCdUN0958SR0i3HMt500ywL+Alxb04XcfYK7F7l7Ufv27eOPUkQa1No5U+mw4G88GfwV72QP5MVRR6hu3gjEk9BLgK5V9rsAq6vsNwd6Au+Z2XJgADBND0ZFGqcNJYtp9vpY5ob35l7O10PQRiSehP4p0N3MCs0sDzgLmLb1pLtvdPd27l7g7gXAbGCwuxfXS8QiUn8CFVQ8M4ygG6MDV3JAl3Z6CNqI1JjQ3T0IjAbeBBYCU9x9gZmNM7PB9R2giDSc0qlX0XHzV1wTGMkP+Xvyh9N7JzskqYW4Xixy99eA16odu3UHbY+te1gi0tCWvzuRgq+e5eHgYD7OLmK66uaNjl79FxE2fjOfDh/cyOzwAdwXHqq6eSOlV/9FMlxZeRk/PXUOeZ7PmMrRnKmXhxot9dBFMpk7ayaNoGOwhLGB0ezWpjNX/Wq/ZEclu0g9dJEMtvKNv3BQ2dvcHRzKwiZ9efFCzW/emCmhi2SoTYs/oOOc/8vboUN4Ius3/EMPQRs9lVxEMlD5uhKCzw9nVbgd1wZGcsaheymZpwEldJEMU/b9ZlY/ejZNQ99zeeBqWrdpr7p5mlDJRSTDLJ58HYdXzufqwEjW5u+junkaUUIXySBrZ0/h8LWTmRT8L2Y0+QUvqW6eVlRyEckQG1Z+SfM3xjI3vA93BM/jzKKuSuZpRgldJAOUlZfz/ZNnUeE5jKy8ioML99BiFWlICV0k3blT8uSl7BlYwdjAaPLadOWvw4pUN09DqqGLpLnSGQ/Qe0Pk5aH/ze7DdD0ETVvqoYuksZL5M2n1we3bXh7SpFvpTQldJF39sI7d/n7xtpeHhg0o1KRbaU4JXSQdhYJ8//R5NA19z8jAVbRs3U4PQTOAaugiaWjtyzfRce1srglczvKcQqZf1F918wyghC6SZtbOmUrHLx7h6eBxTOMYpqhunjFUchFJIxtWLqT562OYG96HP3IBUy47XHXzDKKELpImysrL2fTkWWzxbEZVXskBXdopmWcYJXSRdBBdeahL4BvGBsawuWkn/nB672RHJQ0sroRuZoPMbLGZLTGzG2Kcv8bMvjSz+Wb2rpl1S3yoIrIjJa/fy0Flb3FvcAhfNDmEFzXpVkaqMaGbWTbwEHACcCBwtpkdWK3Z50CRu/cGXgDuTnSgIhLbpoUz6PjJ//BGqB+PZ52qZJ7B4umh9weWuPtSd68EngNOqdrA3We6++bo7mygS2LDFJFYNqxZhk+9gOXhjlwXuIwhh2oGxUwWT0LvDKyssl8SPbYjFwOvxzphZiPMrNjMiktLS+OPUkR+pmzjJtY/NoSsUCUjAtfQtk07rTyU4eJJ6BbjmMdsaDYMKALuiXXe3Se4e5G7F7Vv3z7+KEVke+6smDSKfQL/5prASMryu/GYJt3KePG8WFQCdK2y3wVYXb2Rmf0XcDNwjLtvSUx4IhJL6Xt/pe93/+C+4Kl80mSAVh4SIL4e+qdAdzMrNLM84CxgWtUGZnYw8Agw2N3XJT5MEdmqZP5MWs26hRmhvvy/4OlaeUi2qTGhu3sQGA28CSwEprj7AjMbZ2aDo83uAZoBU81srplN28HlRKQOyr9dQdOXL2RVuB1XBUbRv7CtJt2SbeKay8XdXwNeq3bs1irb/5XguESkumAl3z91Du3Cmzk7cAMHFGrlIdmeJucSaSRKX7iGvX78F1cExlLadG+eUzKXapTQRRqBde9PZI9Fk3gkeBJvcjhThmtEi/yc5nIRSXElCz6i5Yzf8WHoIB6wczSDouyQErpICisvXU3uC+dT6i0ZExjDOQP2VjKXHVJCF0lVoSAbJ51Hy/BGLqu8mmatO2hEi+yUaugiKerbl26gYFMx1wQuZ1V+D17UMnJSA/XQRVLQsplP0mHB33gi+Gtezz5WMyhKXJTQRVLMxqXFdJx1HXPC+3NX+Dwma01QiZNKLiIppHzdKoKTz+YHb86oyisZOqBQD0Elbuqhi6SIsk0/sPbRoTQPljOi8hqatemk6XClVtRDF0kRS54cTf/KLxgbGB15CKrpcKWWlNBFUkDpzL/Sf/3LjA/+N29nD2S6HoLKLlDJRSTJVs17l1azbua9UB8esLP1EFR2mRK6SBJtWLOMpi9fyMpwe8YGRnOuHoJKHSihiyRL5WZ+mnQmOV7JpYFradm6nd4ElTpRDV0kGdwpe+5yOvz4FZcErmV9foHeBJU6Uw9dJAlKXv0jbZa+wr3BIXycXaQ3QSUh1EMXaWCri//Bnp/exfTwYUzw3zBFD0ElQdRDF2lAG1YupMX0ESzyvbg+cBnn9N9LD0ElYZTQRRpIWdl6fnxiCJWexYjANfQu1JugklhK6CINIVBB6RPD6BBcxajAVWS37qYFniXh4qqhm9kg4D4gG3jU3e+qdr4J8BRwKLAeONPdlyc2VJE6CIchVBnjJxD5HdwCoQCbftzMy58uZd43pWSFt2ChSpplB8mnkuxQBbtnB8n3LeSEt7BbVoDc8BZ2zwrQhEpyfQu7WYB8tpDnleRbJU2oJN+3kG8B9gNuCV7IvOyeTNdr/VIPakzoZpYNPAT8CigBPjWzae7+ZZVmFwPl7r6vmZ0F/BE4sz4Czlju4GEIhyK/Y/74Ts6Faji/k2tE7zlvRRkPz/qKXCAUCtEkx8giTDAY2c4mRDgUJD8bsgnhoQD52ZBFCN92PIiHgjTJcrIJ4+Gt2yEIB8nNciwcIi8rTA4hCIfIjZ43D5Fn4UhbD5Fn/znexILkESTbA+RZiFyC5HiQPAuQ60FyLBzXn7kFMLzqgSzAt9/e4jlssTwqPI+fyKMinEcFkZ+ycFMqaBk57v85XkEexeH9mE1vPQSVehNPD70/sMTdlwKY2XPAKUDVhH4KcHt0+wXgQTMzd3d2YMvaxXxy2+FkGRiOu5NlbPttgHuY7Oh2eNvxSNvs6HbY2XacKm22tqfa57LMoFpb3DGLBuZOljkW3Y4c/3l7zDB3rErbLPNt17BtbYl53Krd08wxJ3q9yOcwyCJMNjv8MzaoPsAjW3ey+U+iq7odIwHG3AYCnk3Isgh6NiGyCFkWIc8maNmEvMrxcBYhsgkSOR8iiyDZVISzCNKEMFlUkkMlOQTIodJzCZAd2d7uWA6V0ePbH8up0j6XSs8hSA5N85vwQ9AgZzd+Io9NwWzIaUo4K4uKQIi8nGwqgyHyc3MApyJQbTtv++NN87KZcvYheggq9SaehN4ZWFllvwQ4bEdt3D1oZhuBtsB3VRuZ2QhgBMD+nXbDPUzIwTHcs3Ai28C27f/s/+d31XNbc0TkvMX43PafIcb1Pcb12XrOqXLctrseVdvt8L67Gn9EiCycLMJuhDHCZEV/bNuPb7efhVO1beQ+kc9X/2zVtjv7bGQ7FD2/e5NctoTC5ObkEsaoCIbJy8khRBabg5Cdk0eILH4MQu62bSc3pwlBstgcdPJyciGLnyXBGpNkPNt5Ma6XF981sgya5GbzgBKvNELxJHSLcax6lzGeNrj7BGACQMd9DvSL7HaaZEe6dwn7l7kek0PCr12b68WZkOoz1qZ5SnQiqSyehF4CdK2y3wVYvYM2JWaWA7QEynZ20S6td6P49yfUIlQREdmZeIYtfgp0N7NCM8sDzgKmVWszjf88SzoDmLGz+rmIiCRejT30aE18NPAmkcdfj7n7AjMbBxS7+zRgIjDJzJYQ6ZmfVZ9Bi4jIz8U1Dt3dXwNeq3bs1irbFcCQxIYmIiK1oTdFRUTShBK6iEiaUEIXEUkTSugiImnCkjW60MxKgW+ScvOG145qb81mGH1/fX99/8Tp5u7tY51IWkLPJGZW7O5FyY4jWfT99f31/Rvm+6vkIiKSJpTQRUTShBJ6w5iQ7ACSTN8/s+n7N2Yjsy8AAAPASURBVBDV0EVE0oR66CIiaUIJXUQkTSihNyAzG2Nmi81sgZndnex4GpKZ3W5mq8xsbvTnxGTHlAxmdp2ZuZm1S3YsDcnM7jCz+dF/9m+Z2Z7Jjqkhmdk9ZrYo+jd42cxa1cd9lNAbiJn9gsjaq73d/SDg3iSHlAx/cfe+0Z/Xam6eXsysK5HF1lckO5YkuMfde7t7X2A6cGtNH0gzbwM93b038BVwY33cRAm94YwE7nL3LQDuvi7J8UjD+wvwW2Isz5ju3H1Tld3dybC/gbu/5e7B6O5sIiu/JZwSesPpARxlZnPMbJaZ9Ut2QEkwOvq/nI+ZWUYtTGpmg4FV7j4v2bEki5ndaWYrgXPJvB56VRcBr9fHhTVsMYHM7B2gY4xTNwN3AjOAK4F+wPPA3um0VF8N3382kfksHLgD6OTuFzVgePWuhu9/E/Brd99oZsuBIndPq/lNdvb93f2VKu1uBPLd/bYGC64BxPP9zexmoAg4rT7+3VdCbyBm9gaRkst70f2vgQHuXprUwJLAzAqA6e7eM8mhNAgz6wW8C2yOHtq60Hp/d1+btMCSxMy6Aa9myj//rcxsOHA5cJy7b66p/a5QyaXh/B34JYCZ9QDyyKAZ6MysU5XdU4EvkhVLQ3P3f7n7Hu5e4O4FQAlwSCYlczPrXmV3MLAoWbEkg5kNAn4HDK6vZA7qoTcYM8sDHgP6ApXAde4+I7lRNRwzm0TkuzuwHLjM3dckNagkSdeSy86Y2YvAfkCYyLTZl7v7quRG1XDMbAnQBFgfPTTb3S9P+H2U0EVE0oNKLiIiaUIJXUQkTSihi4ikCSV0EZE0oYQuIpImlNBFRNKEErpkBDP7IYHXamNmb5vZv6O/M2peGkldSugitXcD8K67dyfySv8NSY5HBNCLRZIhzOwHd29mZscCtxOZdqEn8BkwDDgUeDTaPJvI3NW2g2stBo519zXRKQ3ec/f96vkriNQoJ9kBiCTBwcBBRCbI+gg40t0/JDI1AWZ2D/DGTj7fYeu0BdGkvkc9xysSF5VcJBN94u4l7h4G5gIFW0+Y2VDgEFRGkUZICV0y0ZYq2yGi/6dqZgcBvwfOcvfQTj7/7dbZI6O/tfqUpAQldBHAzFoCzwHnxzFH/TRgeHR7OPDKTtqKNBjV0EUifgN0A/5mFnkWGl3QOJa7gClmdjGRBZ+HNEiEIjXQKBcRkTShkouISJpQyUVkB8zsIeDIaofvc/fHkxGPSE1UchERSRMquYiIpAkldBGRNKGELiKSJpTQRUTSxP8Hwa3UrfxrLb0AAAAASUVORK5CYII=\n",
      "text/plain": [
       "<Figure size 432x288 with 1 Axes>"
      ]
     },
     "metadata": {
      "needs_background": "light"
     },
     "output_type": "display_data"
    },
    {
     "data": {
      "image/png": "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\n",
      "text/plain": [
       "<Figure size 432x288 with 1 Axes>"
      ]
     },
     "metadata": {
      "needs_background": "light"
     },
     "output_type": "display_data"
    }
   ],
   "source": [
    "for col in ['dens','pressure','PE']:\n",
    "    fig, ax = plt.subplots()\n",
    "    df.plot('lnz_0',col, marker='o', mfc=None, ls='None', ax=ax, ms=1)\n",
    "    table.plot('lnz_0',col, ax=ax, color='tab:orange')"
   ]
  },
  {
   "cell_type": "markdown",
   "metadata": {},
   "source": [
    "# building stability"
   ]
  },
  {
   "cell_type": "code",
   "execution_count": 239,
   "metadata": {},
   "outputs": [
    {
     "data": {
      "text/plain": [
       "<lnPi.stability.Binodals at 0x7f96288d0950>"
      ]
     },
     "execution_count": 239,
     "metadata": {},
     "output_type": "execute_result"
    }
   ],
   "source": [
    "o_course.spinodal(2, build_phases)\n",
    "o_course.binodal(2, build_phases)"
   ]
  },
  {
   "cell_type": "code",
   "execution_count": 244,
   "metadata": {},
   "outputs": [
    {
     "data": {
      "text/plain": [
       "<class CollectionlnPi>\n",
       "spinodal  lnz_0      phase\n",
       "0         -3.494763  0        [-3.4947634419931606]\n",
       "                     1        [-3.4947634419931606]\n",
       "1         -4.379778  0         [-4.379778340306185]\n",
       "                     1         [-4.379778340306185]\n",
       "dtype: object"
      ]
     },
     "execution_count": 244,
     "metadata": {},
     "output_type": "execute_result"
    }
   ],
   "source": [
    "o_course.spinodal.access"
   ]
  },
  {
   "cell_type": "code",
   "execution_count": 246,
   "metadata": {},
   "outputs": [
    {
     "data": {
      "text/plain": [
       "spinodal  lnz_0      phase  phase_nebr\n",
       "0         -3.494763  0      0                    inf\n",
       "                            1               1.000000\n",
       "                     1      0             168.028142\n",
       "                            1                    inf\n",
       "1         -4.379778  0      0                    inf\n",
       "                            1             142.163654\n",
       "                     1      0               1.000000\n",
       "                            1                    inf\n",
       "Name: delta_w, dtype: float64"
      ]
     },
     "execution_count": 246,
     "metadata": {},
     "output_type": "execute_result"
    }
   ],
   "source": [
    "o_course.spinodal.access.wlnPi.dw"
   ]
  },
  {
   "cell_type": "code",
   "execution_count": 266,
   "metadata": {},
   "outputs": [
    {
     "data": {
      "text/plain": [
       "[<matplotlib.lines.Line2D at 0x7f9600a3aad0>]"
      ]
     },
     "execution_count": 266,
     "metadata": {},
     "output_type": "execute_result"
    },
    {
     "data": {
      "image/png": "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\n",
      "text/plain": [
       "<Figure size 432x288 with 1 Axes>"
      ]
     },
     "metadata": {
      "needs_background": "light"
     },
     "output_type": "display_data"
    }
   ],
   "source": [
    "# append to o\n",
    "o_new = o.stability_append(o_course)\n",
    "\n",
    "o_new.xge.betaOmega().plot(hue='phase')\n",
    "\n",
    "(\n",
    "    o_new.spinodal.access.xge.betaOmega()\n",
    "    .pipe(lambda x: x.sel(spinodal=x.phase))\n",
    "    .plot(hue='phase', marker='o')\n",
    ")\n",
    "\n",
    "\n",
    "(\n",
    "    o_new.binodal.access.xge\n",
    "    .betaOmega()\n",
    "    .pipe(lambda x: x.sel(phase=x.binodal))\n",
    "    .plot.line(hue='binodal', marker='o')\n",
    ")"
   ]
  },
  {
   "cell_type": "code",
   "execution_count": 274,
   "metadata": {},
   "outputs": [
    {
     "data": {
      "text/plain": [
       "<class CollectionlnPi>\n",
       "spinodal  lnz_0      phase\n",
       "0         -3.494763  0        [-3.4947634419931606]\n",
       "                     1        [-3.4947634419931606]\n",
       "1         -4.379778  0         [-4.379778340306185]\n",
       "                     1         [-4.379778340306185]\n",
       "dtype: object"
      ]
     },
     "execution_count": 274,
     "metadata": {},
     "output_type": "execute_result"
    }
   ],
   "source": [
    "o_new.spinodal.access"
   ]
  }
 ],
 "metadata": {
  "kernelspec": {
   "display_name": "Python [conda env:.conda-py37]",
   "language": "python",
   "name": "conda-env-.conda-py37-py"
  },
  "language_info": {
   "codemirror_mode": {
    "name": "ipython",
    "version": 3
   },
   "file_extension": ".py",
   "mimetype": "text/x-python",
   "name": "python",
   "nbconvert_exporter": "python",
   "pygments_lexer": "ipython3",
   "version": "3.7.4"
  },
  "toc": {
   "base_numbering": 1,
   "nav_menu": {},
   "number_sections": true,
   "sideBar": true,
   "skip_h1_title": false,
   "title_cell": "Table of Contents",
   "title_sidebar": "Contents",
   "toc_cell": false,
   "toc_position": {},
   "toc_section_display": true,
   "toc_window_display": true
  }
 },
 "nbformat": 4,
 "nbformat_minor": 2
}
