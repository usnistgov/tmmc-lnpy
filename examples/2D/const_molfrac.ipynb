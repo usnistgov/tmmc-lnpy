{
 "cells": [
  {
   "cell_type": "code",
   "execution_count": 1,
   "metadata": {},
   "outputs": [],
   "source": [
    "%matplotlib inline"
   ]
  },
  {
   "cell_type": "code",
   "execution_count": 2,
   "metadata": {},
   "outputs": [],
   "source": [
    "import matplotlib.pyplot as plt\n",
    "import numpy as np\n",
    "import pandas as pd"
   ]
  },
  {
   "cell_type": "code",
   "execution_count": 1,
   "metadata": {},
   "outputs": [],
   "source": [
    "import lnPi\n",
    "#reload(lnPi.molfrac)"
   ]
  },
  {
   "cell_type": "code",
   "execution_count": null,
   "metadata": {},
   "outputs": [],
   "source": []
  },
  {
   "cell_type": "code",
   "execution_count": 4,
   "metadata": {
    "collapsed": true
   },
   "outputs": [],
   "source": [
    "lnpi_bulk = lnPi.lnPi_phases.from_file('./nahs_asym_mix.07_07_07.r1.lnpi_o.dat',mu=[0.5,0.5],fill_value=np.nan,ZeroMax=True,num_phases_max=2,beta=1.0,\n",
    "                                     build_kwargs=dict(num_phases_max=5),ftag_phases=lnPi.tag_phases_binary) "
   ]
  },
  {
   "cell_type": "code",
   "execution_count": 5,
   "metadata": {
    "collapsed": true
   },
   "outputs": [],
   "source": [
    "import tqdm"
   ]
  },
  {
   "cell_type": "code",
   "execution_count": 9,
   "metadata": {},
   "outputs": [],
   "source": [
    "def do_loop(x,mf,ref,phaseID=0,mu2_crit=-4.7):\n",
    "    \n",
    "    L = []\n",
    "    error = []\n",
    "    for mu2 in tqdm.tqdm(x,leave=True,desc='mf=%s'%mf):\n",
    "        \n",
    "        #get spinodal for phase 0\n",
    "        if mu2>-mu2_crit:\n",
    "            c = lnPi.lnPi_collection.from_mu(ref,[None,mu2],np.linspace(mu2-10.,mu2+10.,2))\n",
    "            s,r = lnPi.spinodal.get_spinodal(c,0,full_output=True)\n",
    "        else:\n",
    "            s=None\n",
    "\n",
    "        \n",
    "        LB = [mu2-10,mu2]\n",
    "        if s is None:\n",
    "            UB = [mu2+10,mu2]\n",
    "        else:\n",
    "            UB = s.mu\n",
    "        \n",
    "       \n",
    "        try:\n",
    "            t,r = lnPi.molfrac.find_mu_molfrac(ref,phaseID,mf,LB,UB,full_output=True)\n",
    "        except:\n",
    "            error.append(mu2)\n",
    "        else:\n",
    "            L.append(t)\n",
    "        \n",
    "    return L,error\n",
    "        \n",
    "    "
   ]
  },
  {
   "cell_type": "code",
   "execution_count": 213,
   "metadata": {},
   "outputs": [],
   "source": [
    "x1=np.arange(-10.,-5.,0.2)\n",
    "x2=np.arange(-5.,4.01,0.05)\n",
    "x = np.concatenate((x1,x2))"
   ]
  },
  {
   "cell_type": "code",
   "execution_count": null,
   "metadata": {},
   "outputs": [],
   "source": [
    "for mf in [0.0025,0.005,0.01,0.02,0.04,0.05,0.08,0.1]:\n",
    "\n",
    "    L,error = do_loop(x,mf,lnpi_bulk)\n",
    "    C = lnPi.lnPi_collection(lnpis=L)\n",
    "    C.to_hdf('const_molfrac.h5','bulk/molfrac_%s'%mf,ref=None,overwrite=True)"
   ]
  },
  {
   "cell_type": "code",
   "execution_count": 218,
   "metadata": {},
   "outputs": [
    {
     "data": {
      "text/plain": [
       "<module 'utils' from 'utils.pyc'>"
      ]
     },
     "execution_count": 218,
     "metadata": {},
     "output_type": "execute_result"
    }
   ],
   "source": [
    "import utils\n",
    "reload(utils)"
   ]
  },
  {
   "cell_type": "markdown",
   "metadata": {},
   "source": [
    "## get confined collections"
   ]
  },
  {
   "cell_type": "code",
   "execution_count": 219,
   "metadata": {
    "collapsed": true
   },
   "outputs": [],
   "source": [
    "lnpi_conf = lnPi.lnPi_phases.from_file('./nahs_asym_mix.11_11_03.r1.lnpi_o.dat',mu=[0.5,0.5],fill_value=np.nan,ZeroMax=True,num_phases_max=2,beta=1.0,\n",
    "                                     build_kwargs=dict(num_phases_max=5),\n",
    "                                      ftag_phases=lnPi.tag_phases_binary) \n",
    "\n"
   ]
  },
  {
   "cell_type": "code",
   "execution_count": 220,
   "metadata": {},
   "outputs": [
    {
     "name": "stdout",
     "output_type": "stream",
     "text": [
      "-rw-r--r--  2 wpk  wpk   101M Jan 11 11:11 ./const_molfrac.h5\r\n"
     ]
    }
   ],
   "source": [
    "!ls -lh ./const_molfrac.h5"
   ]
  },
  {
   "cell_type": "code",
   "execution_count": 221,
   "metadata": {
    "collapsed": true
   },
   "outputs": [],
   "source": [
    "#read in bulk\n",
    "with lnPi.h5py.File('./const_molfrac.h5') as F:\n",
    "    keys = F['bulk'].keys()\n",
    "    molfracs = [float(x.replace('molfrac_','')) for x in keys]\n",
    "    _,Lbulk=utils.lnPi_collections_list_from_hdf(F['bulk'],ref=lnpi_bulk,collection_list=F['bulk'].keys())"
   ]
  },
  {
   "cell_type": "code",
   "execution_count": 222,
   "metadata": {},
   "outputs": [],
   "source": [
    "#write Lconf to file\n",
    "Lconf = []\n",
    "for C in Lbulk:\n",
    "    Cconf = lnPi.lnPi_collection.from_mu_iter(lnpi_conf,C.mus)\n",
    "    Lconf.append(Cconf)\n",
    "\n",
    "#write to h5\n",
    "for C,key in zip(Lconf,keys):\n",
    "    C.to_hdf('const_molfrac.h5','conf/%s'%key,overwrite=True)"
   ]
  },
  {
   "cell_type": "code",
   "execution_count": 223,
   "metadata": {
    "collapsed": true
   },
   "outputs": [],
   "source": [
    "#read in conf\n",
    "_,Lconf = utils.lnPi_collections_list_from_hdf('./const_molfrac.h5',key='conf',ref=lnpi_conf,collection_list=keys)"
   ]
  },
  {
   "cell_type": "code",
   "execution_count": 224,
   "metadata": {
    "collapsed": true
   },
   "outputs": [],
   "source": [
    "def plot_N_vs_Omega(CB,CC,comp=0,line_label=None,ax_label=False,ax=None):\n",
    "    \"\"\"\n",
    "    plot confined average N vs bulk Omega for all phaseIDs and specified comp\n",
    "    \"\"\"\n",
    "    if ax is None:\n",
    "        fig,ax = plt.subplots()\n",
    "    \n",
    "    x = -CB.Omegas_phaseIDs()[:,0]\n",
    "    y1 = CC.Naves_phaseIDs[:,0,0]\n",
    "    y2 = CC.Naves_phaseIDs[:,1,0]\n",
    "\n",
    "    \n",
    "    l,=plt.plot(x,y1,label=line_label)\n",
    "    plt.plot(x,y2,color=l.get_color())\n",
    "    \n",
    "    if ax_label:\n",
    "        ax.set_xlabel(r'$-\\Omega^{ex}$')\n",
    "        ax.set_ylabel(r'$\\langle N_1 \\rangle$')\n",
    "            "
   ]
  },
  {
   "cell_type": "code",
   "execution_count": 225,
   "metadata": {},
   "outputs": [
    {
     "data": {
      "text/plain": [
       "<matplotlib.legend.Legend at 0x168ecc550>"
      ]
     },
     "execution_count": 225,
     "metadata": {},
     "output_type": "execute_result"
    },
    {
     "data": {
[Omitted long matching line]
      "text/plain": [
       "<matplotlib.figure.Figure at 0x11bbc7610>"
      ]
     },
     "metadata": {},
     "output_type": "display_data"
    }
   ],
   "source": [
    "fig,ax = plt.subplots(figsize=(8,8))\n",
    "\n",
    "\n",
    "for mf,Cbulk,Cconf in zip(molfracs,Lbulk,Lconf):\n",
    "    \n",
    "    plot_N_vs_Omega(Cbulk,Cconf.merge_phases(),line_label=mf,ax=ax)\n",
    "\n",
    "ax.set_xlabel(r'$-\\Omega^{ex}$')\n",
    "ax.set_ylabel(r'$\\langle N_1 \\rangle$')\n",
    "ax.legend(loc=0,title=r'$x_1$')    \n"
   ]
  },
  {
   "cell_type": "code",
   "execution_count": 226,
   "metadata": {
    "collapsed": true
   },
   "outputs": [],
   "source": [
    "#paths"
   ]
  },
  {
   "cell_type": "code",
   "execution_count": 227,
   "metadata": {
    "collapsed": true
   },
   "outputs": [],
   "source": [
    "bulk_bino = pd.read_hdf('bulk.h5','df_binodal')\n",
    "bulk_spin = pd.read_hdf('bulk.h5','df_spinodal')\n",
    "\n",
    "conf_bino = pd.read_hdf('conf_asym.h5','df_binodal')\n",
    "conf_spin = pd.read_hdf('conf_asym.h5','df_spinodal')"
   ]
  },
  {
   "cell_type": "code",
   "execution_count": 228,
   "metadata": {},
   "outputs": [
    {
     "data": {
      "text/html": [
       "<div>\n",
       "<table border=\"1\" class=\"dataframe\">\n",
       "  <thead>\n",
       "    <tr style=\"text-align: right;\">\n",
       "      <th></th>\n",
       "      <th>binodalID</th>\n",
       "      <th>molfrac_0</th>\n",
       "      <th>molfrac_1</th>\n",
       "      <th>mu_0</th>\n",
       "      <th>mu_1</th>\n",
       "      <th>omega</th>\n",
       "      <th>phaseID</th>\n",
       "    </tr>\n",
       "  </thead>\n",
       "  <tbody>\n",
       "    <tr>\n",
       "      <th>0</th>\n",
       "      <td>0</td>\n",
       "      <td>0.260987</td>\n",
       "      <td>0.739013</td>\n",
       "      <td>-4.690808</td>\n",
       "      <td>-4.4</td>\n",
       "      <td>-465.009279</td>\n",
       "      <td>0</td>\n",
       "    </tr>\n",
       "    <tr>\n",
       "      <th>1</th>\n",
       "      <td>0</td>\n",
       "      <td>0.762079</td>\n",
       "      <td>0.237921</td>\n",
       "      <td>-4.690808</td>\n",
       "      <td>-4.4</td>\n",
       "      <td>-465.009279</td>\n",
       "      <td>1</td>\n",
       "    </tr>\n",
       "    <tr>\n",
       "      <th>2</th>\n",
       "      <td>0</td>\n",
       "      <td>0.190165</td>\n",
       "      <td>0.809835</td>\n",
       "      <td>-4.506542</td>\n",
       "      <td>-4.2</td>\n",
       "      <td>-491.957306</td>\n",
       "      <td>0</td>\n",
       "    </tr>\n",
       "    <tr>\n",
       "      <th>3</th>\n",
       "      <td>0</td>\n",
       "      <td>0.832899</td>\n",
       "      <td>0.167101</td>\n",
       "      <td>-4.506542</td>\n",
       "      <td>-4.2</td>\n",
       "      <td>-491.957306</td>\n",
       "      <td>1</td>\n",
       "    </tr>\n",
       "    <tr>\n",
       "      <th>4</th>\n",
       "      <td>0</td>\n",
       "      <td>0.128952</td>\n",
       "      <td>0.871048</td>\n",
       "      <td>-4.322718</td>\n",
       "      <td>-4.0</td>\n",
       "      <td>-520.032280</td>\n",
       "      <td>0</td>\n",
       "    </tr>\n",
       "  </tbody>\n",
       "</table>\n",
       "</div>"
      ],
      "text/plain": [
       "   binodalID  molfrac_0  molfrac_1      mu_0  mu_1       omega  phaseID\n",
       "0          0   0.260987   0.739013 -4.690808  -4.4 -465.009279        0\n",
       "1          0   0.762079   0.237921 -4.690808  -4.4 -465.009279        1\n",
       "2          0   0.190165   0.809835 -4.506542  -4.2 -491.957306        0\n",
       "3          0   0.832899   0.167101 -4.506542  -4.2 -491.957306        1\n",
       "4          0   0.128952   0.871048 -4.322718  -4.0 -520.032280        0"
      ]
     },
     "execution_count": 228,
     "metadata": {},
     "output_type": "execute_result"
    }
   ],
   "source": [
    "bulk_bino.head()"
   ]
  },
  {
   "cell_type": "code",
   "execution_count": 229,
   "metadata": {},
   "outputs": [
    {
     "data": {
      "text/html": [
       "<div>\n",
       "<table border=\"1\" class=\"dataframe\">\n",
       "  <thead>\n",
       "    <tr style=\"text-align: right;\">\n",
       "      <th></th>\n",
       "      <th>molfrac_0</th>\n",
       "      <th>molfrac_1</th>\n",
       "      <th>mu_0</th>\n",
       "      <th>mu_1</th>\n",
       "      <th>omega</th>\n",
       "      <th>phaseID</th>\n",
       "    </tr>\n",
       "  </thead>\n",
       "  <tbody>\n",
       "    <tr>\n",
       "      <th>0</th>\n",
       "      <td>0.267927</td>\n",
       "      <td>0.732073</td>\n",
       "      <td>-4.694870</td>\n",
       "      <td>-4.4</td>\n",
       "      <td>-464.921850</td>\n",
       "      <td>0</td>\n",
       "    </tr>\n",
       "    <tr>\n",
       "      <th>1</th>\n",
       "      <td>0.764867</td>\n",
       "      <td>0.235133</td>\n",
       "      <td>-4.686116</td>\n",
       "      <td>-4.4</td>\n",
       "      <td>-465.545994</td>\n",
       "      <td>1</td>\n",
       "    </tr>\n",
       "    <tr>\n",
       "      <th>2</th>\n",
       "      <td>0.210037</td>\n",
       "      <td>0.789963</td>\n",
       "      <td>-4.481690</td>\n",
       "      <td>-4.2</td>\n",
       "      <td>-492.584154</td>\n",
       "      <td>0</td>\n",
       "    </tr>\n",
       "    <tr>\n",
       "      <th>3</th>\n",
       "      <td>0.815765</td>\n",
       "      <td>0.184235</td>\n",
       "      <td>-4.526232</td>\n",
       "      <td>-4.2</td>\n",
       "      <td>-489.504052</td>\n",
       "      <td>1</td>\n",
       "    </tr>\n",
       "    <tr>\n",
       "      <th>4</th>\n",
       "      <td>0.170031</td>\n",
       "      <td>0.829969</td>\n",
       "      <td>-4.259699</td>\n",
       "      <td>-4.0</td>\n",
       "      <td>-521.301780</td>\n",
       "      <td>0</td>\n",
       "    </tr>\n",
       "  </tbody>\n",
       "</table>\n",
       "</div>"
      ],
      "text/plain": [
       "   molfrac_0  molfrac_1      mu_0  mu_1       omega  phaseID\n",
       "0   0.267927   0.732073 -4.694870  -4.4 -464.921850        0\n",
       "1   0.764867   0.235133 -4.686116  -4.4 -465.545994        1\n",
       "2   0.210037   0.789963 -4.481690  -4.2 -492.584154        0\n",
       "3   0.815765   0.184235 -4.526232  -4.2 -489.504052        1\n",
       "4   0.170031   0.829969 -4.259699  -4.0 -521.301780        0"
      ]
     },
     "execution_count": 229,
     "metadata": {},
     "output_type": "execute_result"
    }
   ],
   "source": [
    "bulk_spin.head()"
   ]
  },
  {
   "cell_type": "code",
   "execution_count": 230,
   "metadata": {},
   "outputs": [
    {
     "data": {
      "text/plain": [
       "<module 'utils' from 'utils.pyc'>"
      ]
     },
     "execution_count": 230,
     "metadata": {},
     "output_type": "execute_result"
    }
   ],
   "source": [
    "reload(utils)"
   ]
  },
  {
   "cell_type": "code",
   "execution_count": 231,
   "metadata": {},
   "outputs": [
    {
     "data": {
      "text/plain": [
       "<matplotlib.legend.Legend at 0x1794b8bd0>"
      ]
     },
     "execution_count": 231,
     "metadata": {},
     "output_type": "execute_result"
    },
    {
     "data": {
[Omitted long matching line]
      "text/plain": [
       "<matplotlib.figure.Figure at 0x18840f110>"
      ]
     },
     "metadata": {},
     "output_type": "display_data"
    }
   ],
   "source": [
    "fig,ax = plt.subplots(figsize=(9,9))\n",
    "ax=utils.plot_mu0_vs_mu1(bulk_bino,bulk_spin.query('phaseID<2'),colors=['b']*3,line_labels=['bulk',None,None],ax=ax)\n",
    "ax=utils.plot_mu0_vs_mu1(conf_bino,conf_spin.query('phaseID<2'),colors=['g']*3,ax=ax,ax_labels=True,\n",
    "                         line_labels=['conf.',None,None])\n",
    "\n",
    "for mf,Cbulk in zip(molfracs,Lbulk):\n",
    "    mu1,mu2 = Cbulk.mus.T\n",
    "    plt.plot(mu1,mu2,label=r'$x_0=%s$'%mf)\n",
    "    #break\n",
    "ax.set_xlim(-8,8)\n",
    "ax.set_ylim(-8,8)\n",
    "    \n",
    "ax.legend(loc=0,fontsize=6,ncol=2)\n"
   ]
  },
  {
   "cell_type": "code",
   "execution_count": 232,
   "metadata": {
    "collapsed": true
   },
   "outputs": [],
   "source": [
    "mus = C.mus.T"
   ]
  },
  {
   "cell_type": "code",
   "execution_count": 233,
   "metadata": {},
   "outputs": [
    {
     "data": {
      "text/plain": [
       "(0, 1)"
      ]
     },
     "execution_count": 233,
     "metadata": {},
     "output_type": "execute_result"
    },
    {
     "data": {
[Omitted long matching line]
      "text/plain": [
       "<matplotlib.figure.Figure at 0x178eb22d0>"
      ]
     },
     "metadata": {},
     "output_type": "display_data"
    }
   ],
   "source": [
    "fig,ax = plt.subplots(figsize=(9,9))\n",
    "ax.set_xlabel(r'$\\mu_0$')\n",
    "ax.set_ylabel(r'$(d\\mu_1/d\\mu_0)_{x^0_0=x^*}$')\n",
    "for mf,C in zip(molfracs,Lbulk):\n",
    "    mus=C.mus.T\n",
    "\n",
    "    d1d0 = np.diff(mus[1])/np.diff(mus[0])\n",
    "\n",
    "    mus_mid = 0.5*(mus[:,1:]+mus[:,:-1])\n",
    "    plt.plot(mus_mid[0],d1d0,label=mf)\n",
    "    #plt.plot(mus_mid[1],1./d1d0)\n",
    "    \n",
    "ax.legend(loc=0,title=r'$x^*$')\n",
    "ax.set_ylim(0,1)"
   ]
  },
  {
   "cell_type": "code",
   "execution_count": null,
   "metadata": {
    "collapsed": true
   },
   "outputs": [],
   "source": []
  }
 ],
 "metadata": {
  "kernelspec": {
   "display_name": "Python [conda env:py37]",
   "language": "python",
   "name": "conda-env-py37-py"
  },
  "language_info": {
   "codemirror_mode": {
    "name": "ipython",
    "version": 3
   },
   "file_extension": ".py",
   "mimetype": "text/x-python",
   "name": "python",
   "nbconvert_exporter": "python",
   "pygments_lexer": "ipython3",
   "version": "3.7.3"
  },
  "toc": {
   "base_numbering": 1,
   "nav_menu": {},
   "number_sections": true,
   "sideBar": true,
   "skip_h1_title": false,
   "title_cell": "Table of Contents",
   "title_sidebar": "Contents",
   "toc_cell": false,
   "toc_position": {},
   "toc_section_display": true,
   "toc_window_display": false
  }
 },
 "nbformat": 4,
 "nbformat_minor": 1
}
