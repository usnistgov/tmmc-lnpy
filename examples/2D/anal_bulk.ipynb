{
 "cells": [
  {
   "cell_type": "code",
   "execution_count": 1,
   "metadata": {},
   "outputs": [],
   "source": [
    "from IPython.core.display import HTML\n",
    "HTML(\"<style>.container { width:90% !important; }</style>\")\n",
    "\n",
    "%matplotlib inline"
   ]
  },
  {
   "cell_type": "code",
   "execution_count": 2,
   "metadata": {},
   "outputs": [],
   "source": [
    "%config Completer.use_jedi = False"
   ]
  },
  {
   "cell_type": "code",
   "execution_count": 3,
   "metadata": {},
   "outputs": [],
   "source": [
    "import matplotlib.pyplot as plt\n",
    "import numpy as np\n",
    "import pandas as pd\n",
    "import xarray as xr\n",
    "from importlib import reload"
   ]
  },
  {
   "cell_type": "code",
   "execution_count": 4,
   "metadata": {},
   "outputs": [
    {
     "data": {
      "text/plain": [
       "<module 'lnPi.old' from '/Users/wpk/Documents/python/lnPi/old/__init__.py'>"
      ]
     },
     "execution_count": 4,
     "metadata": {},
     "output_type": "execute_result"
    }
   ],
   "source": [
    "import lnPi.old\n",
    "reload(lnPi.old)"
   ]
  },
  {
   "cell_type": "code",
   "execution_count": 5,
   "metadata": {},
   "outputs": [],
   "source": [
    "def tag_phases_binary(x):\n",
    "#    return np.argsort(x.argmax[0])\n",
    "    if x.base.num_phases_max != 2:\n",
    "        raise ValueError('bad tag function')\n",
    "    return np.where(x.argmax[0] < 255/2, 0, 1)\n",
    "    \n",
    "\n",
    "#     L = []\n",
    "        \n",
    "#     for p in x.phases:\n",
    "#         if p.molfrac[0] < 0.5:\n",
    "#             val = 0\n",
    "#         else:\n",
    "#             val = 1\n",
    "#         L.append(val)\n",
    "\n",
    "#     return np.array(L)\n",
    "\n"
   ]
  },
  {
   "cell_type": "code",
   "execution_count": 6,
   "metadata": {},
   "outputs": [],
   "source": [
    "import lnPi\n",
    "# reload(lnPi)\n",
    "# reload(lnPi.core)\n",
    "# reload(lnPi.extensions)\n",
    "# reload(lnPi.xlnPi)\n",
    "# import lnPi.extensions\n",
    "# reload(lnPi.core)\n",
    "# reload(lnPi.extensions)"
   ]
  },
  {
   "cell_type": "code",
   "execution_count": 7,
   "metadata": {},
   "outputs": [],
   "source": [
    "base = lnPi.old.core.lnPi.from_table('./nahs_asym_mix.07_07_07.r1.lnpi_o.dat',mu=[0.5,0.5],fill_value=np.nan, zeromax=True,num_phases_max=2,beta=1.0, volume=1.0, pad=True)\n",
    "\n",
    "lnpi_ref = lnPi.old.core.Phases(base=base, build_kwargs=dict(num_phases_max=5, merge=None),ftag_phases=tag_phases_binary)\n",
    "\n"
   ]
  },
  {
   "cell_type": "code",
   "execution_count": 8,
   "metadata": {},
   "outputs": [],
   "source": [
    "x = base.helmholtz_nvt.values"
   ]
  },
  {
   "cell_type": "code",
   "execution_count": 9,
   "metadata": {},
   "outputs": [
    {
     "data": {
      "text/plain": [
       "<xarray.DataArray (component: 2, n_0: 255, n_1: 255)>\n",
       "array([[[-12.994962, -12.971289, ...,  10.560303,        nan],\n",
       "        [-12.642081, -12.618383, ...,        nan,        nan],\n",
       "        ...,\n",
       "        [  0.873725,        nan, ...,        nan,        nan],\n",
       "        [  0.913313,        nan, ...,        nan,        nan]],\n",
       "\n",
       "       [[-12.995863, -12.641839, ...,   4.80839 ,   5.279143],\n",
       "        [-12.97219 , -12.616888, ...,        nan,        nan],\n",
       "        ...,\n",
       "        [  5.51912 ,        nan, ...,        nan,        nan],\n",
       "        [       nan,        nan, ...,        nan,        nan]]])\n",
       "Coordinates:\n",
       "    mu_0     float64 0.5\n",
       "    mu_1     float64 0.5\n",
       "    beta     float64 1.0\n",
       "    volume   float64 1.0\n",
       "Dimensions without coordinates: component, n_0, n_1"
      ]
     },
     "execution_count": 9,
     "metadata": {},
     "output_type": "execute_result"
    }
   ],
   "source": [
    "xr.concat([base.helmholtz_nvt.differentiate(x) for x in base.lnpi.dims_n], dim=base.lnpi.dims_comp[0])"
   ]
  },
  {
   "cell_type": "code",
   "execution_count": 100,
   "metadata": {},
   "outputs": [
    {
     "data": {
      "text/plain": [
       "<module 'lnPi.binodal' from '/Users/wpk/Documents/python/lnPi/binodal.py'>"
      ]
     },
     "execution_count": 100,
     "metadata": {},
     "output_type": "execute_result"
    }
   ],
   "source": [
    "import lnPi.spinodal\n",
    "import lnPi.binodal\n",
    "reload(lnPi)\n",
    "reload(lnPi.core)\n",
    "reload(lnPi.extensions)\n",
    "reload(lnPi.segment)\n",
    "reload(lnPi.xlnPi)\n",
    "reload(lnPi.spinodal)\n",
    "reload(lnPi.binodal)\n"
   ]
  },
  {
   "cell_type": "code",
   "execution_count": 101,
   "metadata": {},
   "outputs": [],
   "source": [
    "def tag_phases_binary2(x):\n",
    "#    return np.argsort([xx.xgce.argmax()[0][0] for xx in x])\n",
    "    if len(x) > 2:\n",
    "        raise ValueError('bad tag function')\n",
    "    argmax = np.array([xx.lnpi_argmax[0] for xx in x])\n",
    "    return np.where(argmax < x[0].shape[0]/2, 0, 1)\n",
    "\n"
   ]
  },
  {
   "cell_type": "code",
   "execution_count": 102,
   "metadata": {},
   "outputs": [],
   "source": [
    "base2 = lnPi.core.MaskedlnPi.from_table('./nahs_asym_mix.07_07_07.r1.lnpi_o.dat',mu=[0.5,0.5], fill_value=np.nan, state_kws=dict(beta=1.0, volume=1.0)).pad(inplace=True).zeromax(inplace=True)\n",
    "\n",
    "\n"
   ]
  },
  {
   "cell_type": "code",
   "execution_count": 103,
   "metadata": {},
   "outputs": [],
   "source": [
    "dist_mat = lnPi.segment.distance_matrix(~base2.mask)"
   ]
  },
  {
   "cell_type": "code",
   "execution_count": 104,
   "metadata": {},
   "outputs": [],
   "source": [
    "builder = lnPi.segment.PhaseCreator(2, 4, ref=base2, merge_kws=dict(efac=0.5), tag_phases=tag_phases_binary2)"
   ]
  },
  {
   "cell_type": "code",
   "execution_count": 123,
   "metadata": {},
   "outputs": [
    {
     "data": {
      "text/plain": [
       "array([27.58622845,  4.24264069])"
      ]
     },
     "execution_count": 123,
     "metadata": {},
     "output_type": "execute_result"
    }
   ],
   "source": [
    "idx = tuple(p.xgce.lnpi_argmax.T)\n",
    "dist_mat[idx]"
   ]
  },
  {
   "cell_type": "code",
   "execution_count": 124,
   "metadata": {},
   "outputs": [
    {
     "data": {
[Omitted long matching line]
      "text/plain": [
       "<Figure size 432x288 with 2 Axes>"
      ]
     },
     "metadata": {
      "needs_background": "light"
     },
     "output_type": "display_data"
    }
   ],
   "source": [
    "base2.xgce.lnpi.plot()\n",
    "for x in p:\n",
    "    plt.plot(*x.lnpi_argmax,'o')\n"
   ]
  },
  {
   "cell_type": "code",
   "execution_count": 15,
   "metadata": {},
   "outputs": [
    {
     "data": {
      "text/plain": [
       "<xarray.DataArray 'P(N,V,T)' (n_0: 255, n_1: 255)>\n",
       "array([[-0.000000e+00,  3.540235e-01,  1.132389e+00, ...,  2.258981e+03,\n",
       "         2.370098e+03,  2.489198e+03],\n",
       "       [ 3.528810e-01,  7.318800e-01,  1.528873e+00, ...,  2.404006e+03,\n",
       "         1.143015e+03,           nan],\n",
       "       [ 1.123922e+00,  1.525353e+00,  2.336946e+00, ...,  1.138027e+03,\n",
       "                  nan,           nan],\n",
       "       ...,\n",
       "       [ 1.597385e+03,  1.647486e+03,  1.389482e+03, ...,           nan,\n",
       "                  nan,           nan],\n",
       "       [ 1.620887e+03,  1.394316e+03,           nan, ...,           nan,\n",
       "                  nan,           nan],\n",
       "       [ 1.630903e+03,           nan,           nan, ...,           nan,\n",
       "                  nan,           nan]])\n",
       "Coordinates:\n",
       "    beta     float64 1.0\n",
       "    volume   float64 1.0\n",
       "  * n_0      (n_0) int64 0 1 2 3 4 5 6 7 8 ... 247 248 249 250 251 252 253 254\n",
       "  * n_1      (n_1) int64 0 1 2 3 4 5 6 7 8 ... 247 248 249 250 251 252 253 254"
      ]
     },
     "execution_count": 15,
     "metadata": {},
     "output_type": "execute_result"
    }
   ],
   "source": [
    "base2.xcan.pressure"
   ]
  },
  {
   "cell_type": "code",
   "execution_count": 70,
   "metadata": {},
   "outputs": [],
   "source": [
    "f = base2.reweight([1.0, 1.0]).xcan.freeenergy"
   ]
  },
  {
   "cell_type": "code",
   "execution_count": 72,
   "metadata": {},
   "outputs": [
    {
     "data": {
      "text/plain": [
       "<xarray.DataArray 'n' (component: 2, n_0: 255, n_1: 255)>\n",
       "array([[[  0,   0, ...,   0,   0],\n",
       "        [  1,   1, ...,   1,   1],\n",
       "        ...,\n",
       "        [253, 253, ..., 253, 253],\n",
       "        [254, 254, ..., 254, 254]],\n",
       "\n",
       "       [[  0,   1, ..., 253, 254],\n",
       "        [  0,   1, ..., 253, 254],\n",
       "        ...,\n",
       "        [  0,   1, ..., 253, 254],\n",
       "        [  0,   1, ..., 253, 254]]])\n",
       "Dimensions without coordinates: component, n_0, n_1"
      ]
     },
     "execution_count": 72,
     "metadata": {},
     "output_type": "execute_result"
    }
   ],
   "source": [
    "base2.xcan.ncoords"
   ]
  },
  {
   "cell_type": "code",
   "execution_count": 71,
   "metadata": {},
   "outputs": [
    {
     "data": {
      "text/plain": [
       "OrderedDict([('dims_n', ['n_0', 'n_1']),\n",
       "             ('dims_mu', ['mu_0', 'mu_1']),\n",
       "             ('dims_comp', ['component']),\n",
       "             ('dims_state', ['mu_0', 'mu_1', 'volume', 'beta'])])"
      ]
     },
     "execution_count": 71,
     "metadata": {},
     "output_type": "execute_result"
    }
   ],
   "source": [
    "f.attrs"
   ]
  },
  {
   "cell_type": "code",
   "execution_count": 67,
   "metadata": {},
   "outputs": [
    {
     "data": {
      "text/plain": [
       "<xarray.DataArray (n_0: 255, n_1: 255)>\n",
       "array([[    0.      ,   -12.995863,   -25.283679, ..., -1157.912985,\n",
       "        -1153.575347, -1148.296205],\n",
       "       [  -12.994962,   -25.967152,   -38.228739, ..., -1148.434117,\n",
       "        -1143.015045,          nan],\n",
       "       [  -25.284162,   -38.232629,   -50.47191 , ..., -1138.026505,\n",
       "                 nan,          nan],\n",
       "       ...,\n",
       "       [-1400.668891, -1395.340958, -1389.482283, ...,          nan,\n",
       "                 nan,          nan],\n",
       "       [-1399.834754, -1394.315634,          nan, ...,          nan,\n",
       "                 nan,          nan],\n",
       "       [-1398.921441,          nan,          nan, ...,          nan,\n",
       "                 nan,          nan]])\n",
       "Coordinates:\n",
       "    volume   float64 1.0\n",
       "    beta     float64 1.0\n",
       "  * n_0      (n_0) int64 0 1 2 3 4 5 6 7 8 ... 247 248 249 250 251 252 253 254\n",
       "  * n_1      (n_1) int64 0 1 2 3 4 5 6 7 8 ... 247 248 249 250 251 252 253 254\n",
       "Attributes:\n",
       "    dims_n:      ['n_0', 'n_1']\n",
       "    dims_mu:     ['mu_0', 'mu_1']\n",
       "    dims_comp:   ['component']\n",
       "    dims_state:  ['mu_0', 'mu_1', 'volume', 'beta']"
      ]
     },
     "execution_count": 67,
     "metadata": {},
     "output_type": "execute_result"
    }
   ],
   "source": [
    "base2.xcan.freeenergy"
   ]
  },
  {
   "cell_type": "code",
   "execution_count": 62,
   "metadata": {},
   "outputs": [
    {
     "data": {
      "text/plain": [
       "<xarray.DataArray 'lnPi' (n_0: 255, n_1: 255)>\n",
       "array([[-1.527146e+03, -1.513650e+03, -1.500862e+03, ..., -2.432329e+02,\n",
       "        -2.470705e+02, -2.518497e+02],\n",
       "       [-1.513651e+03, -1.500179e+03, -1.487417e+03, ..., -2.522118e+02,\n",
       "        -2.571308e+02,           nan],\n",
       "       [-1.500862e+03, -1.487413e+03, -1.474674e+03, ..., -2.621194e+02,\n",
       "                  nan,           nan],\n",
       "       ...,\n",
       "       [-4.769934e-01, -5.304926e+00, -1.066360e+01, ...,           nan,\n",
       "                  nan,           nan],\n",
       "       [-8.111305e-01, -5.830250e+00,           nan, ...,           nan,\n",
       "                  nan,           nan],\n",
       "       [-1.224443e+00,           nan,           nan, ...,           nan,\n",
       "                  nan,           nan]])\n",
       "Coordinates:\n",
       "    mu_0     float64 0.5\n",
       "    mu_1     float64 0.5\n",
       "    volume   float64 1.0\n",
       "    beta     float64 1.0\n",
       "Dimensions without coordinates: n_0, n_1\n",
       "Attributes:\n",
       "    dims_n:      ['n_0', 'n_1']\n",
       "    dims_mu:     ['mu_0', 'mu_1']\n",
       "    dims_comp:   ['component']\n",
       "    dims_state:  ['mu_0', 'mu_1', 'volume', 'beta']"
      ]
     },
     "execution_count": 62,
     "metadata": {},
     "output_type": "execute_result"
    }
   ],
   "source": [
    "base2.xgce.lnpi.ass"
   ]
  },
  {
   "cell_type": "code",
   "execution_count": 61,
   "metadata": {},
   "outputs": [
    {
     "data": {
      "text/plain": [
       "<xarray.DataArray (n_0: 255, n_1: 255)>\n",
       "array([[ 0.000000e+00, -3.540235e-01, -1.132389e+00, ..., -2.258981e+03,\n",
       "        -2.370098e+03, -2.489198e+03],\n",
       "       [-3.528810e-01, -7.318800e-01, -1.528873e+00, ..., -2.404006e+03,\n",
       "        -1.143015e+03,           nan],\n",
       "       [-1.123922e+00, -1.525353e+00, -2.336946e+00, ..., -1.138027e+03,\n",
       "                  nan,           nan],\n",
       "       ...,\n",
       "       [-1.597385e+03, -1.647486e+03, -1.389482e+03, ...,           nan,\n",
       "                  nan,           nan],\n",
       "       [-1.620887e+03, -1.394316e+03,           nan, ...,           nan,\n",
       "                  nan,           nan],\n",
       "       [-1.630903e+03,           nan,           nan, ...,           nan,\n",
       "                  nan,           nan]])\n",
       "Coordinates:\n",
       "    volume   float64 1.0\n",
       "    beta     float64 1.0\n",
       "  * n_0      (n_0) int64 0 1 2 3 4 5 6 7 8 ... 247 248 249 250 251 252 253 254\n",
       "  * n_1      (n_1) int64 0 1 2 3 4 5 6 7 8 ... 247 248 249 250 251 252 253 254"
      ]
     },
     "execution_count": 61,
     "metadata": {},
     "output_type": "execute_result"
    }
   ],
   "source": [
    "base2.xcan.freeenergy - (base2.xcan.chempot * base2.xgce.ncoords).sum('component')"
   ]
  },
  {
   "cell_type": "code",
   "execution_count": 57,
   "metadata": {},
   "outputs": [
    {
     "data": {
      "text/plain": [
       "<xarray.DataArray (component: 2, n_0: 255, n_1: 255)>\n",
       "array([[[-12.994962, -12.971289, ...,  10.560303,        nan],\n",
       "        [-12.642081, -12.618383, ...,        nan,        nan],\n",
       "        ...,\n",
       "        [  0.873725,        nan, ...,        nan,        nan],\n",
       "        [  0.913313,        nan, ...,        nan,        nan]],\n",
       "\n",
       "       [[-12.995863, -12.641839, ...,   4.80839 ,   5.279143],\n",
       "        [-12.97219 , -12.616888, ...,        nan,        nan],\n",
       "        ...,\n",
       "        [  5.51912 ,        nan, ...,        nan,        nan],\n",
       "        [       nan,        nan, ...,        nan,        nan]]])\n",
       "Coordinates:\n",
       "    volume   float64 1.0\n",
       "    beta     float64 1.0\n",
       "  * n_0      (n_0) int64 0 1 2 3 4 5 6 7 8 ... 247 248 249 250 251 252 253 254\n",
       "  * n_1      (n_1) int64 0 1 2 3 4 5 6 7 8 ... 247 248 249 250 251 252 253 254\n",
       "Dimensions without coordinates: component"
      ]
     },
     "execution_count": 57,
     "metadata": {},
     "output_type": "execute_result"
    }
   ],
   "source": [
    "base2.xcan.chempot"
   ]
  },
  {
   "cell_type": "code",
   "execution_count": 19,
   "metadata": {},
   "outputs": [
    {
     "name": "stdout",
     "output_type": "stream",
     "text": [
      "164 µs ± 36.3 µs per loop (mean ± std. dev. of 7 runs, 10 loops each)\n"
     ]
    }
   ],
   "source": [
    "%timeit -n 10 base2.max()"
   ]
  },
  {
   "cell_type": "code",
   "execution_count": 22,
   "metadata": {},
   "outputs": [],
   "source": [
    "x = np.random.rand(10,10,10)"
   ]
  },
  {
   "cell_type": "code",
   "execution_count": 27,
   "metadata": {},
   "outputs": [
    {
     "data": {
      "text/plain": [
       "array([0.99929736])"
      ]
     },
     "execution_count": 27,
     "metadata": {},
     "output_type": "execute_result"
    }
   ],
   "source": [
    "x[np.where(x==x.max())]"
   ]
  },
  {
   "cell_type": "code",
   "execution_count": 26,
   "metadata": {},
   "outputs": [
    {
     "data": {
      "text/plain": [
       "0.9992973564857297"
      ]
     },
     "execution_count": 26,
     "metadata": {},
     "output_type": "execute_result"
    }
   ],
   "source": [
    "x[np.unravel_index(x.argmax(), x.shape)]"
   ]
  },
  {
   "cell_type": "code",
   "execution_count": 21,
   "metadata": {},
   "outputs": [
    {
     "data": {
      "text/plain": [
       "(249, 0)"
      ]
     },
     "execution_count": 21,
     "metadata": {},
     "output_type": "execute_result"
    }
   ],
   "source": [
    "np.unravel_index(base2.argmax(), base2.shape)"
   ]
  },
  {
   "cell_type": "code",
   "execution_count": 15,
   "metadata": {},
   "outputs": [
    {
     "name": "stdout",
     "output_type": "stream",
     "text": [
      "576 µs ± 99.5 µs per loop (mean ± std. dev. of 7 runs, 10 loops each)\n"
     ]
    }
   ],
   "source": [
    "%timeit -n 10 np.where(base2.max() == base2)"
   ]
  },
  {
   "cell_type": "code",
   "execution_count": 159,
   "metadata": {},
   "outputs": [],
   "source": [
    "Phase_creator = lnPi.core.PhaseCreator(2, tag_phases=tag_phases_binary2, phases_class=lnPi.core.Phases)"
   ]
  },
  {
   "cell_type": "code",
   "execution_count": 160,
   "metadata": {},
   "outputs": [],
   "source": [
    "p = Phase_creator.build_phases(base2, [1.0, 1.0])"
   ]
  },
  {
   "cell_type": "code",
   "execution_count": 161,
   "metadata": {},
   "outputs": [],
   "source": [
    "c = lnPi.core.CollectionPhases([p, p, p])"
   ]
  },
  {
   "cell_type": "code",
   "execution_count": 162,
   "metadata": {},
   "outputs": [],
   "source": [
    "c = lnPi.core.CollectionPhases.from_mu(base2, [None, 0.5], [0.5, 1.0, 2.0])"
   ]
  },
  {
   "cell_type": "code",
   "execution_count": null,
   "metadata": {},
   "outputs": [],
   "source": []
  },
  {
   "cell_type": "code",
   "execution_count": 8,
   "metadata": {},
   "outputs": [],
   "source": [
    "def get_spin_bin(ref,mu_in,x,spin_kwargs=None,bin_kwargs=None):\n",
    "    \n",
    "    if spin_kwargs is None: spin_kwargs={}\n",
    "    if bin_kwargs is None: bin_kwargs = {}\n",
    "    \n",
    "    #initial estimate\n",
    "    C = lnPi.core.Collection.from_mu(ref,mu_in,x)\n",
    "    \n",
    "    C.get_spinodals(**spin_kwargs)\n",
    "    C.get_binodals(**bin_kwargs)\n",
    "    \n",
    "    return C\n",
    "            "
   ]
  },
  {
   "cell_type": "code",
   "execution_count": 32,
   "metadata": {},
   "outputs": [],
   "source": [
    "from tqdm import tqdm_notebook as tqdm"
   ]
  },
  {
   "cell_type": "code",
   "execution_count": 33,
   "metadata": {},
   "outputs": [
    {
     "data": {
      "application/vnd.jupyter.widget-view+json": {
       "model_id": "7307c13965134d56a315b9aa580650d1",
       "version_major": 2,
       "version_minor": 0
      },
      "text/plain": [
       "HBox(children=(IntProgress(value=0, max=55), HTML(value='')))"
      ]
     },
     "metadata": {},
     "output_type": "display_data"
    },
    {
     "name": "stdout",
     "output_type": "stream",
     "text": [
      "\n"
     ]
    }
   ],
   "source": [
    "L=[]\n",
    "for mu2 in tqdm(np.arange(-5,6,0.2),leave=True):\n",
    "    try:\n",
    "        C = get_spin_bin(lnpi_ref,[None,mu2],np.linspace(-10,10,2),spin_kwargs=dict(ntry=40,nmax=40))\n",
    "    except:\n",
    "        print('error at mu2',mu2)\n",
    "        break\n",
    "    L.append(C)"
   ]
  },
  {
   "cell_type": "code",
   "execution_count": 50,
   "metadata": {},
   "outputs": [],
   "source": [
    "# save labels to file\n",
    "da_labels = xr.concat([x.to_dataarray() for x in L], dim='rec')\n",
    "da_labels.to_netcdf('tmp.nc', encoding={'labels': {'zlib': True, 'complevel':5}})"
   ]
  },
  {
   "cell_type": "code",
   "execution_count": 51,
   "metadata": {},
   "outputs": [],
   "source": [
    "# reload\n",
    "# da_labels = xr.open_dataset('tmp.nc')"
   ]
  },
  {
   "cell_type": "code",
   "execution_count": null,
   "metadata": {},
   "outputs": [],
   "source": [
    "# We did seperate records for each mu_1,so groupby on mu_1.\n",
    "# note that if we did different slices, we'd have to change this\n",
    "\n",
    "lst = []\n",
    "for i, g in da_labels.groupby(da_labels2.mu_1):\n",
    "    if g.spinodals.sum() == 0:\n",
    "        continue\n",
    "    lst.append(lnPi.core.Collection.from_dataarray(base, g))\n",
    "    "
   ]
  },
  {
   "cell_type": "code",
   "execution_count": null,
   "metadata": {},
   "outputs": [],
   "source": []
  },
  {
   "cell_type": "code",
   "execution_count": 53,
   "metadata": {},
   "outputs": [],
   "source": [
    "spin_0 = lnPi.Collection([x.spinodals[0] for x in lst])\n",
    "spin_1 = lnPi.Collection([x.spinodals[1] for x in lst])\n",
    "bino   = lnPi.Collection([x.binodals[0] for x in lst])"
   ]
  },
  {
   "cell_type": "code",
   "execution_count": 55,
   "metadata": {},
   "outputs": [
    {
     "data": {
      "text/plain": [
       "<matplotlib.legend.Legend at 0x1c54f3d0b8>"
      ]
     },
     "execution_count": 55,
     "metadata": {},
     "output_type": "execute_result"
    },
    {
     "data": {
[Omitted long matching line]
      "text/plain": [
       "<Figure size 432x288 with 1 Axes>"
      ]
     },
     "metadata": {
      "needs_background": "light"
     },
     "output_type": "display_data"
    }
   ],
   "source": [
    "for phase in range(2):\n",
    "    ds = xr.merge((bino.molfrac_phase, bino.omega_phase())).sel(phase=phase, component=0)\n",
    "    plt.plot(ds.molfrac, -ds.omega, label='bin {}'.format(phase))\n",
    "    \n",
    "for phase, spin in enumerate([spin_0, spin_1]):\n",
    "    ds = xr.merge((spin.molfrac_phase, spin.omega_phase())).sel(phase=phase, component=0)\n",
    "    plt.plot(ds.molfrac, -ds.omega, label='spin {}'.format(phase))\n",
    "    \n",
    "plt.legend()"
   ]
  },
  {
   "cell_type": "code",
   "execution_count": null,
   "metadata": {},
   "outputs": [],
   "source": []
  }
 ],
 "metadata": {
  "kernelspec": {
   "display_name": "Python [conda env:py37]",
   "language": "python",
   "name": "conda-env-py37-py"
  },
  "language_info": {
   "codemirror_mode": {
    "name": "ipython",
    "version": 3
   },
   "file_extension": ".py",
   "mimetype": "text/x-python",
   "name": "python",
   "nbconvert_exporter": "python",
   "pygments_lexer": "ipython3",
   "version": "3.7.3"
  },
  "toc": {
   "base_numbering": 1,
   "nav_menu": {},
   "number_sections": true,
   "sideBar": true,
   "skip_h1_title": false,
   "title_cell": "Table of Contents",
   "title_sidebar": "Contents",
   "toc_cell": false,
   "toc_position": {},
   "toc_section_display": true,
   "toc_window_display": false
  }
 },
 "nbformat": 4,
 "nbformat_minor": 1
}
