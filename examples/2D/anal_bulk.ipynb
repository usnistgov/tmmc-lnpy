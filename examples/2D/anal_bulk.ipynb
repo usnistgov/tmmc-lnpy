{
 "cells": [
  {
   "cell_type": "code",
   "execution_count": 1,
   "metadata": {},
   "outputs": [
    {
     "data": {
      "text/html": [
       "<style>.container { width:90% !important; }</style>"
      ],
      "text/plain": [
       "<IPython.core.display.HTML object>"
      ]
     },
     "execution_count": 1,
     "metadata": {},
     "output_type": "execute_result"
    }
   ],
   "source": [
    "from IPython.core.display import HTML\n",
    "HTML(\"<style>.container { width:90% !important; }</style>\")"
   ]
  },
  {
   "cell_type": "code",
   "execution_count": 2,
   "metadata": {},
   "outputs": [],
   "source": [
    "%matplotlib inline"
   ]
  },
  {
   "cell_type": "code",
   "execution_count": 1,
   "metadata": {},
   "outputs": [],
   "source": [
    "import matplotlib.pyplot as plt\n",
    "import numpy as np\n",
    "import pandas as pd\n",
    "import xarray as xr\n",
    "from importlib import reload"
   ]
  },
  {
   "cell_type": "code",
   "execution_count": 2,
   "metadata": {},
   "outputs": [
    {
     "data": {
      "text/plain": [
       "<module 'lnPi' from '/Users/wpk/Documents/python/lnPi/__init__.py'>"
      ]
     },
     "execution_count": 2,
     "metadata": {},
     "output_type": "execute_result"
    }
   ],
   "source": [
    "import lnPi\n",
    "reload(lnPi)"
   ]
  },
  {
   "cell_type": "code",
   "execution_count": 3,
   "metadata": {},
   "outputs": [],
   "source": [
    "def tag_phases_binary(x):\n",
    "    return np.argsort(x.argmax[0])\n",
    "#     if x.base.num_phases_max != 2:\n",
    "#         raise ValueError('bad tag function')\n",
    "#     return np.where(x.argmax[0] <= 255/2, 0, 1)\n",
    "    \n",
    "\n",
    "#     L = []\n",
    "        \n",
    "#     for p in x.phases:\n",
    "#         if p.molfrac[0] < 0.5:\n",
    "#             val = 0\n",
    "#         else:\n",
    "#             val = 1\n",
    "#         L.append(val)\n",
    "\n",
    "#     return np.array(L)\n",
    "\n"
   ]
  },
  {
   "cell_type": "code",
   "execution_count": 144,
   "metadata": {},
   "outputs": [
    {
     "data": {
      "text/plain": [
       "<module 'lnPi.segment2' from '/Users/wpk/Documents/python/lnPi/segment2.py'>"
      ]
     },
     "execution_count": 144,
     "metadata": {},
     "output_type": "execute_result"
    }
   ],
   "source": [
    "from importlib import reload\n",
    "import lnPi.core2\n",
    "import lnPi.segment2\n",
    "import lnPi.core\n",
    "reload(lnPi.core)\n",
    "reload(lnPi.core2)\n",
    "reload(lnPi.segment2)"
   ]
  },
  {
   "cell_type": "code",
   "execution_count": 257,
   "metadata": {},
   "outputs": [],
   "source": [
    "base = lnPi.core.lnPi.from_table('./nahs_asym_mix.07_07_07.r1.lnpi_o.dat',mu=[0.5,0.5],fill_value=np.nan, zeromax=True,num_phases_max=5,beta=1.0, volume=1.0, pad=True)\n",
    "\n",
    "\n",
    "lnpi_ref = lnPi.core.Phases(base=base, build_kwargs=dict(num_phases_max=5, merge=None),ftag_phases=tag_phases_binary, argmax_kwargs=dict(min_distance=[1]))\n",
    "\n",
    "#lnpi_ref.merge_phases(inplace=True)"
   ]
  },
  {
   "cell_type": "code",
   "execution_count": 258,
   "metadata": {},
   "outputs": [
    {
     "data": {
      "text/plain": [
       "array([[         inf, 177.36742731,          inf, 207.43072381],\n",
       "       [177.36742731,          inf, 176.68259496,          inf],\n",
       "       [         inf, 176.68259496,          inf,          inf],\n",
       "       [207.43072381,          inf,          inf,          inf]])"
      ]
     },
     "execution_count": 258,
     "metadata": {},
     "output_type": "execute_result"
    }
   ],
   "source": [
    "lnpi_ref.betaEtransition_matrix()"
   ]
  },
  {
   "cell_type": "code",
   "execution_count": 259,
   "metadata": {},
   "outputs": [
    {
     "data": {
      "text/plain": [
       "array([[           nan, 0.00000000e+00,            inf, 3.00632965e+01],\n",
       "       [9.62492780e-01,            nan, 2.77660430e-01,            inf],\n",
       "       [           inf, 1.27818360e-01,            nan,            inf],\n",
       "       [2.07430724e+02,            inf,            inf,            nan]])"
      ]
     },
     "execution_count": 259,
     "metadata": {},
     "output_type": "execute_result"
    }
   ],
   "source": [
    "lnpi_ref.DeltabetaE_matrix()"
   ]
  },
  {
   "cell_type": "code",
   "execution_count": 260,
   "metadata": {},
   "outputs": [],
   "source": [
    "lnpi_ref.merge_phases(inplace=True, efac=1.0, force=False)"
   ]
  },
  {
   "cell_type": "code",
   "execution_count": 262,
   "metadata": {},
   "outputs": [
    {
     "data": {
      "text/plain": [
       "array([[         nan,  31.02578928],\n",
       "       [207.43072381,          nan]])"
      ]
     },
     "execution_count": 262,
     "metadata": {},
     "output_type": "execute_result"
    }
   ],
   "source": [
    "lnpi_ref.DeltabetaE_matrix()"
   ]
  },
  {
   "cell_type": "code",
   "execution_count": 294,
   "metadata": {},
   "outputs": [
    {
     "name": "stdout",
     "output_type": "stream",
     "text": [
      "12.2 ms ± 0 ns per loop (mean ± std. dev. of 1 run, 1 loop each)\n",
      "13.5 ms ± 0 ns per loop (mean ± std. dev. of 1 run, 1 loop each)\n",
      "12 ms ± 0 ns per loop (mean ± std. dev. of 1 run, 1 loop each)\n",
      "11 ms ± 0 ns per loop (mean ± std. dev. of 1 run, 1 loop each)\n",
      "10.4 ms ± 0 ns per loop (mean ± std. dev. of 1 run, 1 loop each)\n",
      "10.2 ms ± 0 ns per loop (mean ± std. dev. of 1 run, 1 loop each)\n",
      "9.14 ms ± 0 ns per loop (mean ± std. dev. of 1 run, 1 loop each)\n",
      "8.49 ms ± 0 ns per loop (mean ± std. dev. of 1 run, 1 loop each)\n",
      "8.74 ms ± 0 ns per loop (mean ± std. dev. of 1 run, 1 loop each)\n",
      "10.5 ms ± 0 ns per loop (mean ± std. dev. of 1 run, 1 loop each)\n"
     ]
    }
   ],
   "source": [
    "for x in range(10):\n",
    "    lnpi_ref = lnPi.core.Phases(base=base, build_kwargs=dict(num_phases_max=5, merge=None),ftag_phases=tag_phases_binary, argmax_kwargs=dict(min_distance=[1]))\n",
    "\n",
    "    %timeit -n 1 -r 1 lnpi_ref.merge_phases(inplace=True, efac=1.0, force=False)"
   ]
  },
  {
   "cell_type": "code",
   "execution_count": 393,
   "metadata": {},
   "outputs": [],
   "source": [
    "reload(lnPi.segment2)\n",
    "reload(lnPi.core2)\n",
    "base2 = lnPi.core2.MaskedlnPi.from_table('./nahs_asym_mix.07_07_07.r1.lnpi_o.dat',mu=[0.5,0.5], fill_value=np.nan, beta=1.0, volume=1.0).pad(inplace=True).zeromax(inplace=True)\n",
    "\n",
    "\n",
    "s = lnPi.segment2.Segmenter(min_distance=[1])\n",
    "\n",
    "labels = s.segment_lnpi(base2)\n",
    "\n",
    "m = lnPi.segment2.Merger(base2.data, labels)"
   ]
  },
  {
   "cell_type": "code",
   "execution_count": 348,
   "metadata": {},
   "outputs": [],
   "source": [
    "#%%timeit -n 1 \n",
    "m = lnPi.segment2.Merger(base2.data, labels)\n",
    "#m.w_tran"
   ]
  },
  {
   "cell_type": "code",
   "execution_count": 349,
   "metadata": {},
   "outputs": [
    {
     "name": "stdout",
     "output_type": "stream",
     "text": [
      "9.27 ms ± 0 ns per loop (mean ± std. dev. of 1 run, 1 loop each)\n"
     ]
    }
   ],
   "source": [
    "%%timeit -n 1 -r 1\n",
    "m._cache = {}\n",
    "new_label, w_tran, w_min = m.merge_labels(efac=1.0)"
   ]
  },
  {
   "cell_type": "code",
   "execution_count": 440,
   "metadata": {},
   "outputs": [],
   "source": [
    "b2 = base2.copy()"
   ]
  },
  {
   "cell_type": "code",
   "execution_count": 450,
   "metadata": {},
   "outputs": [],
   "source": [
    "import skimage"
   ]
  },
  {
   "cell_type": "code",
   "execution_count": 447,
   "metadata": {},
   "outputs": [],
   "source": [
    "b2.mask[...] |= True"
   ]
  },
  {
   "cell_type": "code",
   "execution_count": 449,
   "metadata": {},
   "outputs": [
    {
     "data": {
      "text/plain": [
       "masked_array(\n",
       "  data=[[--, --, --, ..., --, --, --],\n",
       "        [--, --, --, ..., --, --, --],\n",
       "        [--, --, --, ..., --, --, --],\n",
       "        ...,\n",
       "        [--, --, --, ..., --, --, --],\n",
       "        [--, --, --, ..., --, --, --],\n",
       "        [--, --, --, ..., --, --, --]],\n",
       "  mask=[[ True,  True,  True, ...,  True,  True,  True],\n",
       "        [ True,  True,  True, ...,  True,  True,  True],\n",
       "        [ True,  True,  True, ...,  True,  True,  True],\n",
       "        ...,\n",
       "        [ True,  True,  True, ...,  True,  True,  True],\n",
       "        [ True,  True,  True, ...,  True,  True,  True],\n",
       "        [ True,  True,  True, ...,  True,  True,  True]],\n",
       "  fill_value=nan,\n",
       "  dtype=float64)"
      ]
     },
     "execution_count": 449,
     "metadata": {},
     "output_type": "execute_result"
    }
   ],
   "source": [
    "b2"
   ]
  },
  {
   "cell_type": "code",
   "execution_count": 335,
   "metadata": {},
   "outputs": [
    {
     "data": {
      "text/plain": [
       "(120821874976, 120821874976)"
      ]
     },
     "execution_count": 335,
     "metadata": {},
     "output_type": "execute_result"
    }
   ],
   "source": [
    "id(b2.data), id(base2.data)"
   ]
  },
  {
   "cell_type": "code",
   "execution_count": 171,
   "metadata": {},
   "outputs": [],
   "source": [
    "efac = 0.1\n",
    "nfeature_max = 4\n",
    "\n",
    "\n",
    "w_tran = m.w_tran.copy()\n",
    "w_min  = m.w_min.copy()\n",
    "\n",
    "force = False\n",
    "\n",
    "L = [[i] for i in m._index]\n",
    "\n",
    "mapping = {i : [i] for i in m._index}\n",
    "\n",
    "for cnt in range(4):\n",
    "    # number of finite minima\n",
    "    nfeature = np.isfinite(w_min).sum()\n",
    "\n",
    "    de = w_tran - w_min\n",
    "    min_val = np.nanmin(de)\n",
    "    \n",
    "    if min_val > efac:\n",
    "        if not force:\n",
    "            break\n",
    "        elif nfeature <= nfeature_max:\n",
    "            break\n",
    "            \n",
    "    idx_keep, idx_kill = [x[0] for x in np.where(de == min_val)]\n",
    "    \n",
    "    # keep the one with lower energy\n",
    "    if w_min[idx_keep] > w_min[idx_kill]:\n",
    "        idx_keep, idx_kill = idx_kill, idx_keep\n",
    "    \n",
    "    \n",
    "    # idx[0] and idx[1] merge together\n",
    "    # arbitrarily bick idx[0] to keep and idx[1] to kill\n",
    "    \n",
    "    # transition from idx_keep to any other phase equals the minimum transition\n",
    "    # from either idx_keep or idx_kill to that other phase\n",
    "    new_tran = w_tran[[idx_keep, idx_kill], :].min(axis=0)\n",
    "    new_tran[idx_keep] = np.inf\n",
    "    \n",
    "    w_tran[idx_keep, :] = w_tran[:, idx_keep] = new_tran\n",
    "    # get rid of old one\n",
    "    w_tran[idx_kill, :] = w_tran[:, idx_kill] = np.inf \n",
    "    \n",
    "\n",
    "    # keep track of merging\n",
    "    L[idx_keep] += L[idx_kill]\n",
    "    L[idx_kill] = None\n",
    "\n",
    "    mapping[idx_keep] += mapping[idx_kill]\n",
    "    del mapping[idx_kill]\n",
    "\n",
    "#mapping = {i : v for i, v in enumerate(L) if v is not None}"
   ]
  },
  {
   "cell_type": "code",
   "execution_count": 177,
   "metadata": {},
   "outputs": [],
   "source": [
    "#%%timeit -n 10\n",
    "new_labels = np.zeros_like(m._labels)\n",
    "for _feature,(i, _labels) in enumerate(mapping.items()):\n",
    "    for _label in _labels:\n",
    "        new_labels[m._labels == _label] = _feature + 1\n",
    "    "
   ]
  },
  {
   "cell_type": "code",
   "execution_count": 173,
   "metadata": {},
   "outputs": [
    {
     "data": {
      "text/plain": [
       "array([[3, 3, 3, ..., 2, 2, 2],\n",
       "       [3, 3, 3, ..., 2, 2, 0],\n",
       "       [3, 3, 3, ..., 2, 0, 0],\n",
       "       ...,\n",
       "       [3, 3, 3, ..., 0, 0, 0],\n",
       "       [3, 3, 0, ..., 0, 0, 0],\n",
       "       [3, 0, 0, ..., 0, 0, 0]], dtype=int32)"
      ]
     },
     "execution_count": 173,
     "metadata": {},
     "output_type": "execute_result"
    }
   ],
   "source": [
    "new_labels"
   ]
  },
  {
   "cell_type": "code",
   "execution_count": 1503,
   "metadata": {},
   "outputs": [],
   "source": [
    "new_labels = np.zeros_like(m._labels)\n",
    "\n",
    "_feature = 0\n",
    "for _labels in L:\n",
    "    if _labels is not None:\n",
    "        for _label in _labels:\n",
    "            new_labels[m._labels == _label ] = _feature + 1\n",
    "        \n",
    "        _feature += 1\n",
    "        \n",
    "    \n",
    "    \n",
    "    \n",
    "    "
   ]
  },
  {
   "cell_type": "code",
   "execution_count": 1507,
   "metadata": {},
   "outputs": [
    {
     "data": {
      "text/plain": [
       "True"
      ]
     },
     "execution_count": 1507,
     "metadata": {},
     "output_type": "execute_result"
    }
   ],
   "source": [
    "np.all(lnpi_ref.labels == new_labels)"
   ]
  },
  {
   "cell_type": "code",
   "execution_count": 1421,
   "metadata": {},
   "outputs": [
    {
     "data": {
      "text/plain": [
       "array([[ 3,  3,  3, ...,  2,  2,  2],\n",
       "       [ 3,  3,  3, ...,  2,  2, -1],\n",
       "       [ 3,  3,  3, ...,  2, -1, -1],\n",
       "       ...,\n",
       "       [ 3,  3,  3, ..., -1, -1, -1],\n",
       "       [ 3,  3, -1, ..., -1, -1, -1],\n",
       "       [ 3, -1, -1, ..., -1, -1, -1]], dtype=int32)"
      ]
     },
     "execution_count": 1421,
     "metadata": {},
     "output_type": "execute_result"
    }
   ],
   "source": [
    "m._labels"
   ]
  },
  {
   "cell_type": "code",
   "execution_count": 1413,
   "metadata": {},
   "outputs": [
    {
     "data": {
      "text/plain": [
       "[None, [1, 0, 2], None, [3]]"
      ]
     },
     "execution_count": 1413,
     "metadata": {},
     "output_type": "execute_result"
    }
   ],
   "source": [
    "L"
   ]
  },
  {
   "cell_type": "code",
   "execution_count": 1410,
   "metadata": {},
   "outputs": [
    {
     "data": {
      "text/plain": [
       "array([[         inf,          inf,          inf,          inf],\n",
       "       [         inf,          inf,          inf,  31.02578928],\n",
       "       [         inf,          inf,          inf,          inf],\n",
       "       [         inf, 207.43072381,          inf,          inf]])"
      ]
     },
     "execution_count": 1410,
     "metadata": {},
     "output_type": "execute_result"
    }
   ],
   "source": [
    "de"
   ]
  },
  {
   "cell_type": "code",
   "execution_count": 1411,
   "metadata": {},
   "outputs": [
    {
     "data": {
      "text/plain": [
       "array([[         inf,          inf,          inf,          inf],\n",
       "       [         inf,          inf,          inf, 207.43072381],\n",
       "       [         inf,          inf,          inf,          inf],\n",
       "       [         inf, 207.43072381,          inf,          inf]])"
      ]
     },
     "execution_count": 1411,
     "metadata": {},
     "output_type": "execute_result"
    }
   ],
   "source": [
    "w_tran"
   ]
  },
  {
   "cell_type": "code",
   "execution_count": 1408,
   "metadata": {},
   "outputs": [
    {
     "data": {
      "text/plain": [
       "array([[177.36742731],\n",
       "       [176.40493453],\n",
       "       [176.5547766 ],\n",
       "       [ -0.        ]])"
      ]
     },
     "execution_count": 1408,
     "metadata": {},
     "output_type": "execute_result"
    }
   ],
   "source": [
    "w_min"
   ]
  },
  {
   "cell_type": "code",
   "execution_count": 1506,
   "metadata": {},
   "outputs": [
    {
     "data": {
      "text/plain": [
       "array([[2, 2, 2, ..., 1, 1, 1],\n",
       "       [2, 2, 2, ..., 1, 1, 0],\n",
       "       [2, 2, 2, ..., 1, 0, 0],\n",
       "       ...,\n",
       "       [2, 2, 2, ..., 0, 0, 0],\n",
       "       [2, 2, 0, ..., 0, 0, 0],\n",
       "       [2, 0, 0, ..., 0, 0, 0]], dtype=int32)"
      ]
     },
     "execution_count": 1506,
     "metadata": {},
     "output_type": "execute_result"
    }
   ],
   "source": [
    "new_labels"
   ]
  },
  {
   "cell_type": "code",
   "execution_count": 1379,
   "metadata": {},
   "outputs": [
    {
     "data": {
      "text/plain": [
       "array([[         inf,          inf,          inf, 207.43072381],\n",
       "       [         inf,          inf,          inf,          inf],\n",
       "       [         inf,          inf,          inf,          inf],\n",
       "       [207.43072381,          inf,          inf,          inf]])"
      ]
     },
     "execution_count": 1379,
     "metadata": {},
     "output_type": "execute_result"
    }
   ],
   "source": [
    "w_tran"
   ]
  },
  {
   "cell_type": "code",
   "execution_count": 1363,
   "metadata": {},
   "outputs": [
    {
     "data": {
      "text/plain": [
       "array([[177.36742731, 177.36742731, 176.68259496, 207.43072381],\n",
       "       [177.36742731,          inf, 176.68259496,          inf],\n",
       "       [176.68259496, 176.68259496,          inf,          inf],\n",
       "       [207.43072381,          inf,          inf,          inf]])"
      ]
     },
     "execution_count": 1363,
     "metadata": {},
     "output_type": "execute_result"
    }
   ],
   "source": [
    "w_tran"
   ]
  },
  {
   "cell_type": "code",
   "execution_count": 1337,
   "metadata": {},
   "outputs": [
    {
     "data": {
      "text/plain": [
       "array([[inf, inf, inf, inf],\n",
       "       [inf, inf, inf, inf],\n",
       "       [inf, inf, inf, inf],\n",
       "       [inf, inf, inf, inf]])"
      ]
     },
     "execution_count": 1337,
     "metadata": {},
     "output_type": "execute_result"
    }
   ],
   "source": [
    "w_tran"
   ]
  },
  {
   "cell_type": "code",
   "execution_count": 1330,
   "metadata": {},
   "outputs": [
    {
     "data": {
      "text/plain": [
       "array([[nan, nan, nan, nan],\n",
       "       [nan, nan, nan, nan],\n",
       "       [nan, nan, nan, nan],\n",
       "       [inf, inf, inf, inf]])"
      ]
     },
     "execution_count": 1330,
     "metadata": {},
     "output_type": "execute_result"
    }
   ],
   "source": [
    "de"
   ]
  },
  {
   "cell_type": "code",
   "execution_count": 1314,
   "metadata": {},
   "outputs": [
    {
     "data": {
      "text/plain": [
       "array([[1.00000000e+20, 1.00000000e+20, 1.00000000e+20, 1.00000000e+20],\n",
       "       [1.00000000e+20, 1.77367427e+02, 1.76682595e+02, 2.07430724e+02],\n",
       "       [1.00000000e+20, 1.76682595e+02,            inf,            inf],\n",
       "       [1.00000000e+20, 2.07430724e+02,            inf,            inf]])"
      ]
     },
     "execution_count": 1314,
     "metadata": {},
     "output_type": "execute_result"
    }
   ],
   "source": [
    "w_tran"
   ]
  },
  {
   "cell_type": "code",
   "execution_count": 1302,
   "metadata": {},
   "outputs": [
    {
     "name": "stderr",
     "output_type": "stream",
     "text": [
      "/Users/wpk/.conda/envs/py37/lib/python3.7/site-packages/ipykernel_launcher.py:1: RuntimeWarning: invalid value encountered in subtract\n",
      "  \"\"\"Entry point for launching an IPython kernel.\n"
     ]
    },
    {
     "data": {
      "text/plain": [
       "array([[           nan,            nan,            nan,            nan],\n",
       "       [           inf, 9.62492780e-01, 2.77660430e-01, 3.10257893e+01],\n",
       "       [           inf, 1.27818360e-01,            inf,            inf],\n",
       "       [           inf, 2.07430724e+02,            inf,            inf]])"
      ]
     },
     "execution_count": 1302,
     "metadata": {},
     "output_type": "execute_result"
    }
   ],
   "source": [
    "w_tran - w_min"
   ]
  },
  {
   "cell_type": "code",
   "execution_count": 1299,
   "metadata": {},
   "outputs": [
    {
     "data": {
      "text/plain": [
       "array([[           nan,            nan,            nan,            nan],\n",
       "       [           inf, 9.62492780e-01, 2.77660430e-01, 3.10257893e+01],\n",
       "       [           inf, 1.27818360e-01,            inf,            inf],\n",
       "       [           inf, 2.07430724e+02,            inf,            inf]])"
      ]
     },
     "execution_count": 1299,
     "metadata": {},
     "output_type": "execute_result"
    }
   ],
   "source": [
    "de"
   ]
  },
  {
   "cell_type": "code",
   "execution_count": 1296,
   "metadata": {},
   "outputs": [],
   "source": [
    "w_tran[:, idx_keep] = w_tran[:, [idx_keep, idx_kill]].min(-1)"
   ]
  },
  {
   "cell_type": "code",
   "execution_count": 1292,
   "metadata": {},
   "outputs": [
    {
     "data": {
      "text/plain": [
       "array([         inf, 177.36742731, 176.68259496, 207.43072381])"
      ]
     },
     "execution_count": 1292,
     "metadata": {},
     "output_type": "execute_result"
    }
   ],
   "source": [
    "w_tran[:, [idx_keep, idx_kill]].min(-1)"
   ]
  },
  {
   "cell_type": "code",
   "execution_count": 1286,
   "metadata": {},
   "outputs": [
    {
     "data": {
      "text/plain": [
       "array([[         inf, 177.36742731,          inf, 207.43072381],\n",
       "       [177.36742731,          inf, 176.68259496,          inf],\n",
       "       [         inf, 176.68259496,          inf,          inf],\n",
       "       [207.43072381,          inf,          inf,          inf]])"
      ]
     },
     "execution_count": 1286,
     "metadata": {},
     "output_type": "execute_result"
    }
   ],
   "source": [
    "w_tran"
   ]
  },
  {
   "cell_type": "code",
   "execution_count": null,
   "metadata": {},
   "outputs": [],
   "source": []
  },
  {
   "cell_type": "code",
   "execution_count": 1273,
   "metadata": {},
   "outputs": [
    {
     "data": {
      "text/plain": [
       "0.0"
      ]
     },
     "execution_count": 1273,
     "metadata": {},
     "output_type": "execute_result"
    }
   ],
   "source": []
  },
  {
   "cell_type": "code",
   "execution_count": 1231,
   "metadata": {},
   "outputs": [],
   "source": [
    "L = [[i] for i in m._index]"
   ]
  },
  {
   "cell_type": "code",
   "execution_count": 1232,
   "metadata": {},
   "outputs": [
    {
     "data": {
      "text/plain": [
       "[[0], [1], [2], [3]]"
      ]
     },
     "execution_count": 1232,
     "metadata": {},
     "output_type": "execute_result"
    }
   ],
   "source": [
    "L"
   ]
  },
  {
   "cell_type": "code",
   "execution_count": null,
   "metadata": {},
   "outputs": [],
   "source": []
  },
  {
   "cell_type": "code",
   "execution_count": 8,
   "metadata": {},
   "outputs": [],
   "source": [
    "def get_spin_bin(ref,mu_in,x,spin_kwargs=None,bin_kwargs=None):\n",
    "    \n",
    "    if spin_kwargs is None: spin_kwargs={}\n",
    "    if bin_kwargs is None: bin_kwargs = {}\n",
    "    \n",
    "    #initial estimate\n",
    "    C = lnPi.core.Collection.from_mu(ref,mu_in,x)\n",
    "    \n",
    "    C.get_spinodals(**spin_kwargs)\n",
    "    C.get_binodals(**bin_kwargs)\n",
    "    \n",
    "    return C\n",
    "            "
   ]
  },
  {
   "cell_type": "code",
   "execution_count": 32,
   "metadata": {},
   "outputs": [],
   "source": [
    "from tqdm import tqdm_notebook as tqdm"
   ]
  },
  {
   "cell_type": "code",
   "execution_count": 33,
   "metadata": {},
   "outputs": [
    {
     "data": {
      "application/vnd.jupyter.widget-view+json": {
       "model_id": "7307c13965134d56a315b9aa580650d1",
       "version_major": 2,
       "version_minor": 0
      },
      "text/plain": [
       "HBox(children=(IntProgress(value=0, max=55), HTML(value='')))"
      ]
     },
     "metadata": {},
     "output_type": "display_data"
    },
    {
     "name": "stdout",
     "output_type": "stream",
     "text": [
      "\n"
     ]
    }
   ],
   "source": [
    "L=[]\n",
    "for mu2 in tqdm(np.arange(-5,6,0.2),leave=True):\n",
    "    try:\n",
    "        C = get_spin_bin(lnpi_ref,[None,mu2],np.linspace(-10,10,2),spin_kwargs=dict(ntry=40,nmax=40))\n",
    "    except:\n",
    "        print('error at mu2',mu2)\n",
    "        break\n",
    "    L.append(C)"
   ]
  },
  {
   "cell_type": "code",
   "execution_count": 50,
   "metadata": {},
   "outputs": [],
   "source": [
    "# save labels to file\n",
    "da_labels = xr.concat([x.to_dataarray() for x in L], dim='rec')\n",
    "da_labels.to_netcdf('tmp.nc', encoding={'labels': {'zlib': True, 'complevel':5}})"
   ]
  },
  {
   "cell_type": "code",
   "execution_count": 51,
   "metadata": {},
   "outputs": [],
   "source": [
    "# reload\n",
    "# da_labels = xr.open_dataset('tmp.nc')"
   ]
  },
  {
   "cell_type": "code",
   "execution_count": null,
   "metadata": {},
   "outputs": [],
   "source": [
    "# We did seperate records for each mu_1,so groupby on mu_1.\n",
    "# note that if we did different slices, we'd have to change this\n",
    "\n",
    "lst = []\n",
    "for i, g in da_labels.groupby(da_labels2.mu_1):\n",
    "    if g.spinodals.sum() == 0:\n",
    "        continue\n",
    "    lst.append(lnPi.core.Collection.from_dataarray(base, g))\n",
    "    "
   ]
  },
  {
   "cell_type": "code",
   "execution_count": null,
   "metadata": {},
   "outputs": [],
   "source": []
  },
  {
   "cell_type": "code",
   "execution_count": 53,
   "metadata": {},
   "outputs": [],
   "source": [
    "spin_0 = lnPi.Collection([x.spinodals[0] for x in lst])\n",
    "spin_1 = lnPi.Collection([x.spinodals[1] for x in lst])\n",
    "bino   = lnPi.Collection([x.binodals[0] for x in lst])"
   ]
  },
  {
   "cell_type": "code",
   "execution_count": 55,
   "metadata": {},
   "outputs": [
    {
     "data": {
      "text/plain": [
       "<matplotlib.legend.Legend at 0x1c54f3d0b8>"
      ]
     },
     "execution_count": 55,
     "metadata": {},
     "output_type": "execute_result"
    },
    {
     "data": {
      "image/png": "[encoded data removed]",
      "text/plain": [
       "<Figure size 432x288 with 1 Axes>"
      ]
     },
     "metadata": {
      "needs_background": "light"
     },
     "output_type": "display_data"
    }
   ],
   "source": [
    "for phase in range(2):\n",
    "    ds = xr.merge((bino.molfrac_phase, bino.omega_phase())).sel(phase=phase, component=0)\n",
    "    plt.plot(ds.molfrac, -ds.omega, label='bin {}'.format(phase))\n",
    "    \n",
    "for phase, spin in enumerate([spin_0, spin_1]):\n",
    "    ds = xr.merge((spin.molfrac_phase, spin.omega_phase())).sel(phase=phase, component=0)\n",
    "    plt.plot(ds.molfrac, -ds.omega, label='spin {}'.format(phase))\n",
    "    \n",
    "plt.legend()"
   ]
  },
  {
   "cell_type": "code",
   "execution_count": null,
   "metadata": {},
   "outputs": [],
   "source": []
  }
 ],
 "metadata": {
  "kernelspec": {
   "display_name": "Python [conda env:py37]",
   "language": "python",
   "name": "conda-env-py37-py"
  },
  "language_info": {
   "codemirror_mode": {
    "name": "ipython",
    "version": 3
   },
   "file_extension": ".py",
   "mimetype": "text/x-python",
   "name": "python",
   "nbconvert_exporter": "python",
   "pygments_lexer": "ipython3",
   "version": "3.7.3"
  },
  "toc": {
   "base_numbering": 1,
   "nav_menu": {},
   "number_sections": true,
   "sideBar": true,
   "skip_h1_title": false,
   "title_cell": "Table of Contents",
   "title_sidebar": "Contents",
   "toc_cell": false,
   "toc_position": {},
   "toc_section_display": true,
   "toc_window_display": false
  }
 },
 "nbformat": 4,
 "nbformat_minor": 1
}
