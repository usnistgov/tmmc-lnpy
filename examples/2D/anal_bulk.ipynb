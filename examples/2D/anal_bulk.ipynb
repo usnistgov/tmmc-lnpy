{
 "cells": [
  {
   "cell_type": "code",
   "execution_count": 77,
   "metadata": {},
   "outputs": [
    {
     "data": {
      "text/html": [
       "<style>.container { width:90% !important; }</style>"
      ],
      "text/plain": [
       "<IPython.core.display.HTML object>"
      ]
     },
     "execution_count": 77,
     "metadata": {},
     "output_type": "execute_result"
    }
   ],
   "source": [
    "from IPython.core.display import HTML\n",
    "HTML(\"<style>.container { width:90% !important; }</style>\")"
   ]
  },
  {
   "cell_type": "code",
   "execution_count": 78,
   "metadata": {},
   "outputs": [],
   "source": [
    "%matplotlib inline"
   ]
  },
  {
   "cell_type": "code",
   "execution_count": 79,
   "metadata": {},
   "outputs": [],
   "source": [
    "import matplotlib.pyplot as plt\n",
    "import numpy as np\n",
    "import pandas as pd\n",
    "import xarray as xr\n",
    "from importlib import reload"
   ]
  },
  {
   "cell_type": "code",
   "execution_count": 80,
   "metadata": {},
   "outputs": [
    {
     "data": {
      "text/plain": [
       "<module 'lnPi' from '/Users/wpk/Documents/python/lnPi/__init__.py'>"
      ]
     },
     "execution_count": 80,
     "metadata": {},
     "output_type": "execute_result"
    }
   ],
   "source": [
    "import lnPi\n",
    "reload(lnPi)"
   ]
  },
  {
   "cell_type": "code",
   "execution_count": 81,
   "metadata": {},
   "outputs": [],
   "source": [
    "def tag_phases_binary(x):\n",
    "    if x.base.num_phases_max != 2:\n",
    "        raise ValueError('bad tag function')\n",
    "\n",
    "    L = []\n",
    "    for p in x.phases:\n",
    "        if p.molfrac[0] < 0.5:\n",
    "            val = 0\n",
    "        else:\n",
    "            val = 1\n",
    "        L.append(val)\n",
    "\n",
    "    return np.array(L)\n",
    "\n"
   ]
  },
  {
   "cell_type": "code",
   "execution_count": 82,
   "metadata": {},
   "outputs": [],
   "source": [
    "base = lnPi.Base.from_table('./nahs_asym_mix.07_07_07.r1.lnpi_o.dat',mu=[0.5,0.5],fill_value=np.nan,zeromax=True,num_phases_max=2,beta=1.0, volume=1.0, pad=True)\n",
    "lnpi_ref = lnPi.Phases(base, build_kwargs=dict(num_phases_max=5),ftag_phases=tag_phases_binary)"
   ]
  },
  {
   "cell_type": "code",
   "execution_count": 83,
   "metadata": {},
   "outputs": [],
   "source": [
    "def get_spin_bin(ref,mu_in,x,spin_kwargs=None,bin_kwargs=None):\n",
    "    \n",
    "    if spin_kwargs is None: spin_kwargs={}\n",
    "    if bin_kwargs is None: bin_kwargs = {}\n",
    "    \n",
    "    #initial estimate\n",
    "    C = lnPi.Collection.from_mu(ref,mu_in,x)\n",
    "    \n",
    "    C.get_spinodals(**spin_kwargs)\n",
    "    C.get_binodals(**bin_kwargs)\n",
    "    \n",
    "    return C\n",
    "            "
   ]
  },
  {
   "cell_type": "code",
   "execution_count": 84,
   "metadata": {},
   "outputs": [],
   "source": [
    "from tqdm import tqdm_notebook as tqdm"
   ]
  },
  {
   "cell_type": "code",
   "execution_count": 91,
   "metadata": {},
   "outputs": [],
   "source": [
    "C = get_spin_bin(lnpi_ref,[None, -2.0], np.linspace(-10, 10, 2), spin_kwargs=dict(ntry=40, nmax=40))"
   ]
  },
  {
   "cell_type": "code",
   "execution_count": 96,
   "metadata": {},
   "outputs": [
    {
     "data": {
      "text/plain": [
       "<xarray.DataArray 'omega' (rec: 5, phase: 2)>\n",
       "array([[ -849.415114,          nan],\n",
       "       [         nan, -3938.921554],\n",
       "       [ -853.308157, -1008.579476],\n",
       "       [ -850.174258,  -751.853707],\n",
       "       [ -850.767468,  -850.767468]])\n",
       "Coordinates:\n",
       "  * phase    (phase) int64 0 1\n",
       "    mu_0     (rec) float64 -10.0 10.0 -1.737 -3.011 -2.494\n",
       "    mu_1     (rec) float64 -2.0 -2.0 -2.0 -2.0 -2.0\n",
       "    beta     (rec) float64 1.0 1.0 1.0 1.0 1.0\n",
       "    volume   (rec) float64 1.0 1.0 1.0 1.0 1.0\n",
       "Dimensions without coordinates: rec"
      ]
     },
     "execution_count": 96,
     "metadata": {},
     "output_type": "execute_result"
    }
   ],
   "source": [
    "C.omega_phase()"
   ]
  },
  {
   "cell_type": "code",
   "execution_count": 102,
   "metadata": {},
   "outputs": [
    {
     "ename": "AttributeError",
     "evalue": "'Collection' object has no attribute 'chempot_phase'",
     "output_type": "error",
     "traceback": [
      "\u001b[0;31m---------------------------------------------------------------------------\u001b[0m",
      "\u001b[0;31mAttributeError\u001b[0m                            Traceback (most recent call last)",
      "\u001b[0;32m<ipython-input-102-b72a713dbdef>\u001b[0m in \u001b[0;36m<module>\u001b[0;34m\u001b[0m\n\u001b[0;32m----> 1\u001b[0;31m \u001b[0mC\u001b[0m\u001b[0;34m.\u001b[0m\u001b[0mchempot_phase\u001b[0m\u001b[0;34m\u001b[0m\u001b[0;34m\u001b[0m\u001b[0m\n\u001b[0m",
      "\u001b[0;31mAttributeError\u001b[0m: 'Collection' object has no attribute 'chempot_phase'"
     ]
    }
   ],
   "source": [
    "C.chempot_phase"
   ]
  },
  {
   "cell_type": "code",
   "execution_count": 100,
   "metadata": {},
   "outputs": [
    {
     "data": {
      "text/plain": [
       "<xarray.DataArray 'chempot' (phase: 2, component: 2)>\n",
       "array([[-1.736514, -2.      ],\n",
       "       [-1.736514, -2.      ]])\n",
       "Coordinates:\n",
       "    mu_0     float64 -1.737\n",
       "    mu_1     float64 -2.0\n",
       "    beta     float64 1.0\n",
       "    volume   float64 1.0\n",
       "Dimensions without coordinates: phase, component"
      ]
     },
     "execution_count": 100,
     "metadata": {},
     "output_type": "execute_result"
    }
   ],
   "source": [
    "C[2].chempot"
   ]
  },
  {
   "cell_type": "code",
   "execution_count": 94,
   "metadata": {},
   "outputs": [
    {
     "data": {
      "text/plain": [
       "array([[ True, False],\n",
       "       [False,  True],\n",
       "       [ True,  True],\n",
       "       [ True,  True],\n",
       "       [ True,  True]])"
      ]
     },
     "execution_count": 94,
     "metadata": {},
     "output_type": "execute_result"
    }
   ],
   "source": [
    "C.has_phaseIDs"
   ]
  },
  {
   "cell_type": "code",
   "execution_count": 69,
   "metadata": {},
   "outputs": [
    {
     "data": {
      "application/vnd.jupyter.widget-view+json": {
       "model_id": "83e12a7961d34ddfbf7bcbb3309e946c",
       "version_major": 2,
       "version_minor": 0
      },
      "text/plain": [
       "HBox(children=(IntProgress(value=0, max=55), HTML(value='')))"
      ]
     },
     "metadata": {},
     "output_type": "display_data"
    },
    {
     "name": "stdout",
     "output_type": "stream",
     "text": [
      "\n"
     ]
    }
   ],
   "source": [
    "L=[]\n",
    "for mu2 in tqdm(np.arange(-5,6,0.2),leave=True):\n",
    "    try:\n",
    "        C = get_spin_bin(lnpi_ref,[None,mu2],np.linspace(-10,10,2),spin_kwargs=dict(ntry=40,nmax=40))\n",
    "    except:\n",
    "        print('error at mu2',mu2)\n",
    "        break\n",
    "    L.append(C)"
   ]
  },
  {
   "cell_type": "code",
   "execution_count": 70,
   "metadata": {},
   "outputs": [],
   "source": [
    "# write\n",
    "da_labels = xr.concat([x.to_dataarray() for x in L if len(x)==5], dim='sample', coords='all')\n",
    "\n",
    "da_labels.to_netcdf('tmp.nc', encoding={'labels': {'zlib': True, 'complevel':5}})"
   ]
  },
  {
   "cell_type": "code",
   "execution_count": 71,
   "metadata": {},
   "outputs": [],
   "source": [
    "# read\n",
    "with xr.open_dataarray('tmp.nc') as da_labels2:\n",
    "    lst = []\n",
    "    for i, g in da_labels2.groupby('sample'):\n",
    "        lst.append(lnPi.Collection.from_dataarray(base, g))\n",
    "    \n"
   ]
  },
  {
   "cell_type": "code",
   "execution_count": 72,
   "metadata": {},
   "outputs": [],
   "source": [
    "spin_0 = lnPi.Collection([x.spinodals[0] for x in lst])\n",
    "spin_1 = lnPi.Collection([x.spinodals[1] for x in lst])\n",
    "bino   = lnPi.Collection([x.binodals[0] for x in lst])"
   ]
  },
  {
   "cell_type": "code",
   "execution_count": 75,
   "metadata": {},
   "outputs": [],
   "source": [
    "s = lst[0].spinodals[0]"
   ]
  },
  {
   "cell_type": "code",
   "execution_count": 76,
   "metadata": {},
   "outputs": [
    {
     "data": {
      "text/plain": [
       "<matplotlib.legend.Legend at 0x1c1eaf6f98>"
      ]
     },
     "execution_count": 76,
     "metadata": {},
     "output_type": "execute_result"
    },
    {
     "data": {
      "image/png": "[encoded data removed]",
      "text/plain": [
       "<Figure size 432x288 with 1 Axes>"
      ]
     },
     "metadata": {
      "needs_background": "light"
     },
     "output_type": "display_data"
    }
   ],
   "source": [
    "for phase in range(2):\n",
    "    ds = xr.merge((bino.molfrac_phase, bino.omega_phase())).sel(phase=phase, component=0)\n",
    "    plt.plot(ds.molfrac, -ds.omega, label='bin {}'.format(phase))\n",
    "    \n",
    "for phase, spin in enumerate([spin_0, spin_1]):\n",
    "    ds = xr.merge((spin.molfrac_phase, spin.omega_phase())).sel(phase=phase, component=0)\n",
    "    plt.plot(ds.molfrac, -ds.omega, label='spin {}'.format(phase))\n",
    "    \n",
    "plt.legend()"
   ]
  },
  {
   "cell_type": "code",
   "execution_count": null,
   "metadata": {},
   "outputs": [],
   "source": []
  }
 ],
 "metadata": {
  "kernelspec": {
   "display_name": "Python [conda env:py37]",
   "language": "python",
   "name": "conda-env-py37-py"
  },
  "language_info": {
   "codemirror_mode": {
    "name": "ipython",
    "version": 3
   },
   "file_extension": ".py",
   "mimetype": "text/x-python",
   "name": "python",
   "nbconvert_exporter": "python",
   "pygments_lexer": "ipython3",
   "version": "3.7.3"
  },
  "toc": {
   "base_numbering": 1,
   "nav_menu": {},
   "number_sections": true,
   "sideBar": true,
   "skip_h1_title": false,
   "title_cell": "Table of Contents",
   "title_sidebar": "Contents",
   "toc_cell": false,
   "toc_position": {},
   "toc_section_display": true,
   "toc_window_display": false
  }
 },
 "nbformat": 4,
 "nbformat_minor": 1
}
