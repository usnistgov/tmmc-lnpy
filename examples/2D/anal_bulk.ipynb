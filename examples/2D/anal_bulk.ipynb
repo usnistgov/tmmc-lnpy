{
 "cells": [
  {
   "cell_type": "code",
   "execution_count": 1,
   "metadata": {},
   "outputs": [],
   "source": [
    "from IPython.core.display import HTML\n",
    "HTML(\"<style>.container { width:90% !important; }</style>\")\n",
    "\n",
    "%matplotlib inline"
   ]
  },
  {
   "cell_type": "code",
   "execution_count": 2,
   "metadata": {},
   "outputs": [],
   "source": [
    "import matplotlib.pyplot as plt\n",
    "import numpy as np\n",
    "import pandas as pd\n",
    "import xarray as xr\n",
    "from importlib import reload"
   ]
  },
  {
   "cell_type": "code",
   "execution_count": 3,
   "metadata": {},
   "outputs": [],
   "source": [
    "import lnPi\n",
    "import lnPi.stability\n",
    "#reload(lnPi.old)"
   ]
  },
  {
   "cell_type": "code",
   "execution_count": 4,
   "metadata": {},
   "outputs": [],
   "source": [
    "def tag_phases_binary(x):\n",
    "#    return np.argsort(x.argmax[0])\n",
    "    if len(x) > 2:\n",
    "#    if x.base.num_phases_max != 2:\n",
    "        raise ValueError('bad tag function')\n",
    "    argmax0 = np.array([xx.local_argmax()[0] for xx in x])\n",
    "    return np.where(argmax0 < 255/2, 0, 1)\n",
    "    \n",
    "    \n",
    "#function to tag 'LD' and 'HD' phases\n",
    "def tag_phases2(x):\n",
    "    if len(x) > 2:\n",
    "        raise ValueError('bad tag function')\n",
    "    argmax0 = np.array([xx.local_argmax()[0] for xx in x])\n",
    "    return np.where(argmax0 <= x[0].shape[0] / 2, 0, 1)\n",
    "    "
   ]
  },
  {
   "cell_type": "code",
   "execution_count": 6,
   "metadata": {},
   "outputs": [],
   "source": [
    "import lnPi\n",
    "from tqdm import tqdm_notebook as tqdm"
   ]
  },
  {
   "cell_type": "code",
   "execution_count": 669,
   "metadata": {},
   "outputs": [
    {
     "name": "stderr",
     "output_type": "stream",
     "text": [
      "/Users/wpk/Documents/python/lnPi/extensions.py:119: AccessorRegistrationWarning: registration of accessor <class 'lnPi.xlnPi_vec.xrlnPiVec'> under name 'vgce' for type <class 'lnPi.core.MaskedlnPi'> is overriding a preexisting attribute with the same name.\n",
      "  cls._register_accessor(name, accessor, single_create)\n",
      "/Users/wpk/Documents/python/lnPi/extensions.py:344: AccessorRegistrationWarning: registration of name 'wlnPi' for type <class 'lnPi.lnpicollections.CollectionPhases'> is overriding a preexisting attribute with the same name.\n",
      "  return cls._register_listaccessor(names, accessor_wrapper=_CachedListAccessorWrapper, cache_list=cache_list)\n",
      "/Users/wpk/Documents/python/lnPi/extensions.py:119: AccessorRegistrationWarning: registration of accessor <class 'lnPi.segment.wlnPi'> under name 'wlnPi' for type <class 'lnPi.lnpicollections.Phases'> is overriding a preexisting attribute with the same name.\n",
      "  cls._register_accessor(name, accessor, single_create)\n"
     ]
    },
    {
     "data": {
      "text/plain": [
       "<module 'lnPi.stability_vec' from '/Users/wpk/Documents/python/lnPi/stability_vec.py'>"
      ]
     },
     "execution_count": 669,
     "metadata": {},
     "output_type": "execute_result"
    }
   ],
   "source": [
    "import lnPi.serieswrapper\n",
    "reload(lnPi.serieswrapper)\n",
    "\n",
    "import lnPi.xlnPi_vec\n",
    "reload(lnPi.xlnPi_vec)\n",
    "reload(lnPi.segment)\n",
    "import lnPi.stability_vec\n",
    "reload(lnPi.stability_vec)\n"
   ]
  },
  {
   "cell_type": "code",
   "execution_count": 670,
   "metadata": {},
   "outputs": [],
   "source": [
    "ref = lnPi.MaskedlnPi.from_table('./nahs_asym_mix.07_07_07.r1.lnpi_o.dat', lnz=np.array([0.5, 0.5]), \n",
    "                                state_kws={'beta': 1.0, 'volume': 1.0}).pad()\n",
    "\n",
    "phase_creator = lnPi.segment.PhaseCreator(nmax=2, nmax_peak=4, ref=ref, tag_phases=tag_phases_binary, \n",
    "                                         merge_kws=dict(efac=0.8))"
   ]
  },
  {
   "cell_type": "code",
   "execution_count": 671,
   "metadata": {},
   "outputs": [],
   "source": [
    "phase_creator_s = lnPi.segment.PhaseCreator(nmax=2, nmax_peak=4, ref=ref, \n",
    "                                            phases_factory=lnPi.serieswrapper.CollectionlnPi.from_list,\n",
    "                                            tag_phases=tag_phases_binary, \n",
    "                                            merge_kws=dict(efac=0.8))"
   ]
  },
  {
   "cell_type": "code",
   "execution_count": 9,
   "metadata": {},
   "outputs": [],
   "source": [
    "from joblib import Parallel, delayed"
   ]
  },
  {
   "cell_type": "code",
   "execution_count": 509,
   "metadata": {},
   "outputs": [],
   "source": [
    "def get_bin_spin(lnz2, phase_creator, from_builder):\n",
    "    build_phases = phase_creator.build_phases_mu([None, lnz2])\n",
    "    lnzs = np.linspace(-8, 8, 20)\n",
    "    c = from_builder(lnzs, build_phases)\n",
    "    t_spin = None\n",
    "    t_bino = None\n",
    "    \n",
    "    try:\n",
    "        c.spinodals(2, build_phases, inplace=True)\n",
    "        c.binodals(2, build_phases, inplace=True)\n",
    "        t_spin = c.spinodals.access.xgce_prop.table(['molfrac'], edge_dist_ref=ref)\n",
    "        t_bino = c.binodals.access.xgce_prop.table(['molfrac'], edge_dist_ref=ref)\n",
    "    except:\n",
    "        pass\n",
    "    return t_spin, t_bino\n",
    "\n",
    "\n",
    "    \n",
    "    \n",
    "    "
   ]
  },
  {
   "cell_type": "code",
   "execution_count": 510,
   "metadata": {},
   "outputs": [
    {
     "data": {
      "application/vnd.jupyter.widget-view+json": {
       "model_id": "67194de5194d42c594c179a53b986995",
       "version_major": 2,
       "version_minor": 0
      },
      "text/plain": [
       "HBox(children=(IntProgress(value=0, max=50), HTML(value='')))"
      ]
     },
     "metadata": {},
     "output_type": "display_data"
    }
   ],
   "source": [
    "out = Parallel(n_jobs=-1, backend='multiprocessing')(delayed(get_bin_spin)(lnz2, phase_creator, lnPi.CollectionPhases.from_builder) \n",
    "                                                     for lnz2 in tqdm(np.arange(-5, 5, 0.2)))"
   ]
  },
  {
   "cell_type": "code",
   "execution_count": 511,
   "metadata": {},
   "outputs": [],
   "source": [
    "spin = xr.concat([s for s, b in out if s is not None], 'sample')\n",
    "bino = xr.concat([b for s, b in out if b is not None], 'sample')"
   ]
  },
  {
   "cell_type": "code",
   "execution_count": 512,
   "metadata": {},
   "outputs": [
    {
     "data": {
      "image/png": "[encoded data removed]",
      "text/plain": [
       "<Figure size 432x288 with 1 Axes>"
      ]
     },
     "metadata": {
      "needs_background": "light"
     },
     "output_type": "display_data"
    }
   ],
   "source": [
    "def plot_frame(df, **kws):\n",
    "    (\n",
    "        df\n",
    "        .reset_index()\n",
    "        .set_index(['molfrac','phase'])\n",
    "        .assign(pV=lambda x: x['betapV'] / x['beta'])\n",
    "        ['pV']\n",
    "        .to_xarray()\n",
    "        .plot(hue='phase', **kws)\n",
    "    )\n",
    "\n",
    "plot_frame(spin.to_dataframe().query('component==0 and rec==phase'), ls='--', color='k')\n",
    "plot_frame(bino.to_dataframe().query('component==0'), color='r')"
   ]
  },
  {
   "cell_type": "code",
   "execution_count": null,
   "metadata": {},
   "outputs": [],
   "source": [
    "lnPi.serieswrapper.CollectionlnPi.from_builder()"
   ]
  },
  {
   "cell_type": "code",
   "execution_count": 693,
   "metadata": {},
   "outputs": [],
   "source": [
    "def get_bin_spin1(lnz2, phase_creator, from_builder, from_builder_kws=None):\n",
    "    build_phases = phase_creator.build_phases_mu([None, lnz2])\n",
    "    lnzs = np.linspace(-8, 8, 20)\n",
    "    if from_builder_kws is None:\n",
    "        from_builder_kws = {}\n",
    "    c = from_builder(lnzs, build_phases, **from_builder_kws)\n",
    "    t_spin = None\n",
    "    t_bino = None\n",
    "    \n",
    "    try:\n",
    "        c.spinodal(2, build_phases, inplace=True, unstack=False)\n",
    "        c.binodal(2, build_phases, inplace=True, unstack=False)\n",
    "        t_spin = c.spinodal.access.xgce.table(['molfrac'], ref=ref)\n",
    "        t_bino = c.binodal.access.xgce.table(['molfrac'], ref=ref)\n",
    "    except:\n",
    "        pass\n",
    "    return t_spin, t_bino\n"
   ]
  },
  {
   "cell_type": "code",
   "execution_count": 697,
   "metadata": {},
   "outputs": [
    {
     "data": {
      "application/vnd.jupyter.widget-view+json": {
       "model_id": "421adfcb8bbf4d809ca64fa3f5f92739",
       "version_major": 2,
       "version_minor": 0
      },
      "text/plain": [
       "HBox(children=(IntProgress(value=0, max=50), HTML(value='')))"
      ]
     },
     "metadata": {},
     "output_type": "display_data"
    }
   ],
   "source": [
    "out1 = Parallel(n_jobs=-1, backend='multiprocessing')(delayed(get_bin_spin1)(lnz2, phase_creator_s, lnPi.serieswrapper.CollectionlnPi.from_builder) \n",
    "                                                     for lnz2 in tqdm(np.arange(-5, 5, 0.2)))"
   ]
  },
  {
   "cell_type": "code",
   "execution_count": 698,
   "metadata": {},
   "outputs": [],
   "source": [
    "spin1 = xr.concat([s for s, b in out1 if s is not None], 'sample')\n",
    "bino1 = xr.concat([b for s, b in out1 if b is not None], 'sample')"
   ]
  },
  {
   "cell_type": "code",
   "execution_count": 735,
   "metadata": {},
   "outputs": [
    {
     "data": {
      "image/png": "[encoded data removed]",
      "text/plain": [
       "<Figure size 432x288 with 1 Axes>"
      ]
     },
     "metadata": {
      "needs_background": "light"
     },
     "output_type": "display_data"
    }
   ],
   "source": [
    "def plot_frame(df, **kws):\n",
    "    (\n",
    "        df\n",
    "        .reset_index()\n",
    "        .set_index(['molfrac','phase'])\n",
    "        .assign(pV=lambda x: x['betapV'] / x['beta'])\n",
    "        ['pV']\n",
    "        .to_xarray()\n",
    "        .plot(hue='phase', **kws)\n",
    "    )\n",
    "\n",
    "plot_frame(spin1.reset_index('sample').to_dataframe().query('component==0 and spinodal==phase').dropna(), ls='--', color='k')\n",
    "plot_frame(bino1.reset_index('sample').to_dataframe().query('component==0').dropna(), color='r')"
   ]
  },
  {
   "cell_type": "code",
   "execution_count": 571,
   "metadata": {},
   "outputs": [
    {
     "data": {
      "image/png": "[encoded data removed]",
      "text/plain": [
       "<Figure size 432x288 with 1 Axes>"
      ]
     },
     "metadata": {
      "needs_background": "light"
     },
     "output_type": "display_data"
    }
   ],
   "source": [
    "def plot_frame(df, **kws):\n",
    "    (\n",
    "        df\n",
    "        .reset_index()\n",
    "        .set_index(['molfrac','phase'])\n",
    "        .assign(pV=lambda x: x['betapV'] / x['beta'])\n",
    "        ['pV']\n",
    "        .to_xarray()\n",
    "        .plot(hue='phase', **kws)\n",
    "    )\n",
    "\n",
    "plot_frame(spin1.to_dataframe().query('component==0 and spinodal==phase').dropna(), ls='--', color='k')\n",
    "plot_frame(bino1.to_dataframe().query('component==0').dropna(), color='r')"
   ]
  }
 ],
 "metadata": {
  "kernelspec": {
   "display_name": "Python [conda env:.conda-py37]",
   "language": "python",
   "name": "conda-env-.conda-py37-py"
  },
  "language_info": {
   "codemirror_mode": {
    "name": "ipython",
    "version": 3
   },
   "file_extension": ".py",
   "mimetype": "text/x-python",
   "name": "python",
   "nbconvert_exporter": "python",
   "pygments_lexer": "ipython3",
   "version": "3.7.4"
  },
  "toc": {
   "base_numbering": 1,
   "nav_menu": {},
   "number_sections": true,
   "sideBar": true,
   "skip_h1_title": false,
   "title_cell": "Table of Contents",
   "title_sidebar": "Contents",
   "toc_cell": false,
   "toc_position": {},
   "toc_section_display": true,
   "toc_window_display": false
  }
 },
 "nbformat": 4,
 "nbformat_minor": 1
}
