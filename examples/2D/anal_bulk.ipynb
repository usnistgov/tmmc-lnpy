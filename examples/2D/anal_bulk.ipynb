{
 "cells": [
  {
   "cell_type": "code",
   "execution_count": 1,
   "metadata": {},
   "outputs": [
    {
     "data": {
      "text/html": [
       "<style>.container { width:90% !important; }</style>"
      ],
      "text/plain": [
       "<IPython.core.display.HTML object>"
      ]
     },
     "execution_count": 1,
     "metadata": {},
     "output_type": "execute_result"
    }
   ],
   "source": [
    "from IPython.core.display import HTML\n",
    "HTML(\"<style>.container { width:90% !important; }</style>\")"
   ]
  },
  {
   "cell_type": "code",
   "execution_count": 2,
   "metadata": {},
   "outputs": [],
   "source": [
    "%matplotlib inline"
   ]
  },
  {
   "cell_type": "code",
   "execution_count": 3,
   "metadata": {},
   "outputs": [],
   "source": [
    "import matplotlib.pyplot as plt\n",
    "import numpy as np\n",
    "import pandas as pd\n",
    "from importlib import reload"
   ]
  },
  {
   "cell_type": "code",
   "execution_count": 202,
   "metadata": {},
   "outputs": [
    {
     "data": {
      "text/plain": [
       "<module 'lnPi' from '/Users/wpk/Documents/python/lnPi/__init__.py'>"
      ]
     },
     "execution_count": 202,
     "metadata": {},
     "output_type": "execute_result"
    }
   ],
   "source": [
    "import lnPi\n",
    "reload(lnPi)"
   ]
  },
  {
   "cell_type": "code",
   "execution_count": 203,
   "metadata": {},
   "outputs": [],
   "source": [
    "lnpi_ref = lnPi.lnPi_phases.from_file('./nahs_asym_mix.07_07_07.r1.lnpi_o.dat',mu=[0.5,0.5],fill_value=np.nan,ZeroMax=True,num_phases_max=2,beta=1.0,\n",
    "                                     build_kwargs=dict(num_phases_max=5),ftag_phases=lnPi.tag_phases_binary) "
   ]
  },
  {
   "cell_type": "code",
   "execution_count": 464,
   "metadata": {},
   "outputs": [
    {
     "data": {
      "text/plain": [
       "<module 'lnPi.core' from '/Users/wpk/Documents/python/lnPi/core.py'>"
      ]
     },
     "execution_count": 464,
     "metadata": {},
     "output_type": "execute_result"
    }
   ],
   "source": [
    "import lnPi.core\n",
    "reload(lnPi.core)"
   ]
  },
  {
   "cell_type": "code",
   "execution_count": 465,
   "metadata": {},
   "outputs": [],
   "source": [
    "b2 = lnPi.core.lnPi(data=b.data, mask = b.mask, **b._optinfo)"
   ]
  },
  {
   "cell_type": "code",
   "execution_count": 466,
   "metadata": {},
   "outputs": [],
   "source": [
    "d = [b2.reweight(np.random.rand(2)) for x in range(5)]"
   ]
  },
  {
   "cell_type": "code",
   "execution_count": 218,
   "metadata": {},
   "outputs": [
    {
     "data": {
      "text/plain": [
       "<xarray.DataArray (component: 2)>\n",
       "array([2.480526e+02, 1.921080e-02])\n",
       "Coordinates:\n",
       "    mu_0     float64 0.5\n",
       "    mu_1     float64 0.5\n",
       "    beta     float64 1.0\n",
       "Dimensions without coordinates: component"
      ]
     },
     "execution_count": 218,
     "metadata": {},
     "output_type": "execute_result"
    }
   ],
   "source": [
    "(b2.pi_norm * b2.ncoords).sum(b2.dims_Nqq)"
   ]
  },
  {
   "cell_type": "code",
   "execution_count": 212,
   "metadata": {},
   "outputs": [
    {
     "data": {
      "text/plain": [
       "<xarray.DataArray (component: 2, N_0: 255, N_1: 255)>\n",
       "array([[[6.153011e+04, 6.153011e+04, ..., 6.153011e+04, 6.153011e+04],\n",
       "        [6.103500e+04, 6.103500e+04, ..., 6.103500e+04, 6.103500e+04],\n",
       "        ...,\n",
       "        [2.447644e+01, 2.447644e+01, ..., 2.447644e+01, 2.447644e+01],\n",
       "        [3.537118e+01, 3.537118e+01, ..., 3.537118e+01, 3.537118e+01]],\n",
       "\n",
       "       [[3.690549e-04, 9.619475e-01, ..., 6.399928e+04, 6.450624e+04],\n",
       "        [3.690549e-04, 9.619475e-01, ..., 6.399928e+04, 6.450624e+04],\n",
       "        ...,\n",
       "        [3.690549e-04, 9.619475e-01, ..., 6.399928e+04, 6.450624e+04],\n",
       "        [3.690549e-04, 9.619475e-01, ..., 6.399928e+04, 6.450624e+04]]])\n",
       "Coordinates:\n",
       "    mu_0     float64 0.5\n",
       "    mu_1     float64 0.5\n",
       "    beta     float64 1.0\n",
       "Dimensions without coordinates: component, N_0, N_1"
      ]
     },
     "execution_count": 212,
     "metadata": {},
     "output_type": "execute_result"
    }
   ],
   "source": [
    "(b2.ncoords - b2.Nave)**2"
   ]
  },
  {
   "cell_type": "code",
   "execution_count": 209,
   "metadata": {},
   "outputs": [
    {
     "data": {
      "text/plain": [
       "<xarray.DataArray (component: 2)>\n",
       "array([2.480526e+02, 1.921080e-02])\n",
       "Coordinates:\n",
       "    mu_0     float64 0.5\n",
       "    mu_1     float64 0.5\n",
       "    beta     float64 1.0\n",
       "Dimensions without coordinates: component"
      ]
     },
     "execution_count": 209,
     "metadata": {},
     "output_type": "execute_result"
    }
   ],
   "source": [
    "(b2.pi_norm * b2.ncoords).sum(b2._xr_N_dims)"
   ]
  },
  {
   "cell_type": "code",
   "execution_count": null,
   "metadata": {},
   "outputs": [],
   "source": [
    "np.indices"
   ]
  },
  {
   "cell_type": "code",
   "execution_count": 99,
   "metadata": {},
   "outputs": [
    {
     "ename": "AttributeError",
     "evalue": "module 'numpy' has no attribute 'indicies'",
     "output_type": "error",
     "traceback": [
      "\u001b[0;31m---------------------------------------------------------------------------\u001b[0m",
      "\u001b[0;31mAttributeError\u001b[0m                            Traceback (most recent call last)",
      "\u001b[0;32m<ipython-input-99-7f5daff8c751>\u001b[0m in \u001b[0;36m<module>\u001b[0;34m\u001b[0m\n\u001b[0;32m----> 1\u001b[0;31m \u001b[0mb2\u001b[0m\u001b[0;34m.\u001b[0m\u001b[0mncoords\u001b[0m\u001b[0;34m\u001b[0m\u001b[0;34m\u001b[0m\u001b[0m\n\u001b[0m",
      "\u001b[0;32m~/Documents/python/lnPi/cached_decorators.py\u001b[0m in \u001b[0;36mwrapper\u001b[0;34m(self, *args, **kwargs)\u001b[0m\n\u001b[1;32m     64\u001b[0m                 \u001b[0;32mpass\u001b[0m\u001b[0;34m\u001b[0m\u001b[0;34m\u001b[0m\u001b[0m\n\u001b[1;32m     65\u001b[0m \u001b[0;34m\u001b[0m\u001b[0m\n\u001b[0;32m---> 66\u001b[0;31m             \u001b[0mself\u001b[0m\u001b[0;34m.\u001b[0m\u001b[0m_cache\u001b[0m\u001b[0;34m[\u001b[0m\u001b[0m_key\u001b[0m\u001b[0;34m]\u001b[0m \u001b[0;34m=\u001b[0m \u001b[0mret\u001b[0m \u001b[0;34m=\u001b[0m \u001b[0mfunc\u001b[0m\u001b[0;34m(\u001b[0m\u001b[0mself\u001b[0m\u001b[0;34m,\u001b[0m \u001b[0;34m*\u001b[0m\u001b[0margs\u001b[0m\u001b[0;34m,\u001b[0m \u001b[0;34m**\u001b[0m\u001b[0mkwargs\u001b[0m\u001b[0;34m)\u001b[0m\u001b[0;34m\u001b[0m\u001b[0;34m\u001b[0m\u001b[0m\n\u001b[0m\u001b[1;32m     67\u001b[0m             \u001b[0;32mreturn\u001b[0m \u001b[0mret\u001b[0m\u001b[0;34m\u001b[0m\u001b[0;34m\u001b[0m\u001b[0m\n\u001b[1;32m     68\u001b[0m \u001b[0;34m\u001b[0m\u001b[0m\n",
      "\u001b[0;32m~/Documents/python/lnPi/lnPi.py\u001b[0m in \u001b[0;36mncoords\u001b[0;34m(self)\u001b[0m\n\u001b[1;32m    221\u001b[0m     \u001b[0;32mdef\u001b[0m \u001b[0mncoords\u001b[0m\u001b[0;34m(\u001b[0m\u001b[0mself\u001b[0m\u001b[0;34m)\u001b[0m\u001b[0;34m:\u001b[0m\u001b[0;34m\u001b[0m\u001b[0;34m\u001b[0m\u001b[0m\n\u001b[1;32m    222\u001b[0m         \u001b[0;34m\"\"\"particle number for each particle dimension\"\"\"\u001b[0m\u001b[0;34m\u001b[0m\u001b[0;34m\u001b[0m\u001b[0m\n\u001b[0;32m--> 223\u001b[0;31m         \u001b[0;32mreturn\u001b[0m \u001b[0mxr\u001b[0m\u001b[0;34m.\u001b[0m\u001b[0mDataArray\u001b[0m\u001b[0;34m(\u001b[0m\u001b[0mnp\u001b[0m\u001b[0;34m.\u001b[0m\u001b[0mindicies\u001b[0m\u001b[0;34m(\u001b[0m\u001b[0mself\u001b[0m\u001b[0;34m.\u001b[0m\u001b[0mshape\u001b[0m\u001b[0;34m)\u001b[0m\u001b[0;34m,\u001b[0m \u001b[0mdims\u001b[0m\u001b[0;34m=\u001b[0m\u001b[0mself\u001b[0m\u001b[0;34m.\u001b[0m\u001b[0m_xr_N_dims\u001b[0m\u001b[0;34m,\u001b[0m \u001b[0mcoords\u001b[0m\u001b[0;34m=\u001b[0m\u001b[0mself\u001b[0m\u001b[0;34m.\u001b[0m\u001b[0mxr_coords\u001b[0m\u001b[0;34m)\u001b[0m\u001b[0;34m\u001b[0m\u001b[0;34m\u001b[0m\u001b[0m\n\u001b[0m\u001b[1;32m    224\u001b[0m \u001b[0;34m\u001b[0m\u001b[0m\n\u001b[1;32m    225\u001b[0m \u001b[0;34m\u001b[0m\u001b[0m\n",
      "\u001b[0;31mAttributeError\u001b[0m: module 'numpy' has no attribute 'indicies'"
     ]
    }
   ],
   "source": [
    "b2.ncoords"
   ]
  },
  {
   "cell_type": "code",
   "execution_count": 45,
   "metadata": {},
   "outputs": [
    {
     "data": {
      "text/plain": [
       "(255, 255)"
      ]
     },
     "execution_count": 45,
     "metadata": {},
     "output_type": "execute_result"
    }
   ],
   "source": [
    "%%timeit -n 10"
   ]
  },
  {
   "cell_type": "code",
   "execution_count": 83,
   "metadata": {},
   "outputs": [
    {
     "name": "stdout",
     "output_type": "stream",
     "text": [
      "2.38 ms ± 384 µs per loop (mean ± std. dev. of 7 runs, 10 loops each)\n"
     ]
    }
   ],
   "source": [
    "%%timeit -n 10\n",
    "b._clear_cache()\n",
    "b.Nave"
   ]
  },
  {
   "cell_type": "code",
   "execution_count": 88,
   "metadata": {},
   "outputs": [
    {
     "data": {
      "text/plain": [
       "<xarray.DataArray (component: 2)>\n",
       "array([2.480526e+02, 1.921080e-02])\n",
       "Coordinates:\n",
       "    mu_0     float64 0.5\n",
       "    mu_1     float64 0.5\n",
       "    beta     float64 1.0\n",
       "Dimensions without coordinates: component"
      ]
     },
     "execution_count": 88,
     "metadata": {},
     "output_type": "execute_result"
    }
   ],
   "source": [
    "#%%timeit -n 10\n",
    "b._clear_cache()\n",
    "pi_norm = xr.DataArray(b.pi_norm.filled(np.nan), dims=['N_0','N_1'], coords=b._xr_coords)\n",
    "\n",
    "coords = xr.DataArray(b.coords, dims=['component','N_0','N_1'], coords=b._xr_coords)\n",
    "\n",
    "(coords * pi_norm).sum(['N_0','N_1'])"
   ]
  },
  {
   "cell_type": "code",
   "execution_count": null,
   "metadata": {},
   "outputs": [],
   "source": []
  },
  {
   "cell_type": "code",
   "execution_count": 55,
   "metadata": {},
   "outputs": [
    {
     "data": {
      "text/plain": [
       "<xarray.DataArray ()>\n",
       "array(248.052633)"
      ]
     },
     "execution_count": 55,
     "metadata": {},
     "output_type": "execute_result"
    }
   ],
   "source": [
    "(pi_norm * pi_norm.N_0).sum(['N_0','N_1'])"
   ]
  },
  {
   "cell_type": "code",
   "execution_count": 39,
   "metadata": {},
   "outputs": [
    {
     "data": {
      "text/plain": [
       "<xarray.DataArray 'Nave' (component: 2)>\n",
       "array([2.480526e+02, 1.921080e-02])\n",
       "Coordinates:\n",
       "    mu_0     float64 0.5\n",
       "    mu_1     float64 0.5\n",
       "    beta     float64 1.0\n",
       "Dimensions without coordinates: component"
      ]
     },
     "execution_count": 39,
     "metadata": {},
     "output_type": "execute_result"
    }
   ],
   "source": [
    "b.Nave"
   ]
  },
  {
   "cell_type": "code",
   "execution_count": 7,
   "metadata": {},
   "outputs": [],
   "source": [
    "def get_spin_bin(ref,mu_in,x,spin_kwargs=None,bin_kwargs=None):\n",
    "    \n",
    "    if spin_kwargs is None: spin_kwargs={}\n",
    "    if bin_kwargs is None: bin_kwargs = {}\n",
    "    \n",
    "    #initial estimate\n",
    "    C = lnPi.lnPi_collection.from_mu(ref,mu_in,x)\n",
    "    \n",
    "    C.get_spinodals(**spin_kwargs)\n",
    "    C.get_binodals(**bin_kwargs)\n",
    "    \n",
    "    return C\n",
    "            "
   ]
  },
  {
   "cell_type": "code",
   "execution_count": 8,
   "metadata": {},
   "outputs": [],
   "source": [
    "import tqdm"
   ]
  },
  {
   "cell_type": "code",
   "execution_count": 9,
   "metadata": {},
   "outputs": [
    {
     "name": "stderr",
     "output_type": "stream",
     "text": [
      " 70%|███████   | 28/40 [00:29<00:12,  1.08s/it]/Users/wpk/Documents/python/lnPi/__init__.py:1667: RuntimeWarning: All-NaN slice encountered\n",
      "  new_row = np.nanmin(Etrans[[idx_kill, idx_keep], :], axis=0)\n",
      "/Users/wpk/Documents/python/lnPi/__init__.py:1667: RuntimeWarning: All-NaN slice encountered\n",
      "  new_row = np.nanmin(Etrans[[idx_kill, idx_keep], :], axis=0)\n",
      "/Users/wpk/Documents/python/lnPi/__init__.py:1667: RuntimeWarning: All-NaN slice encountered\n",
      "  new_row = np.nanmin(Etrans[[idx_kill, idx_keep], :], axis=0)\n",
      "/Users/wpk/Documents/python/lnPi/__init__.py:1667: RuntimeWarning: All-NaN slice encountered\n",
      "  new_row = np.nanmin(Etrans[[idx_kill, idx_keep], :], axis=0)\n",
      " 75%|███████▌  | 30/40 [00:31<00:10,  1.09s/it]/Users/wpk/Documents/python/lnPi/__init__.py:1667: RuntimeWarning: All-NaN slice encountered\n",
      "  new_row = np.nanmin(Etrans[[idx_kill, idx_keep], :], axis=0)\n",
      "/Users/wpk/Documents/python/lnPi/__init__.py:1667: RuntimeWarning: All-NaN slice encountered\n",
      "  new_row = np.nanmin(Etrans[[idx_kill, idx_keep], :], axis=0)\n",
      "/Users/wpk/Documents/python/lnPi/__init__.py:1667: RuntimeWarning: All-NaN slice encountered\n",
      "  new_row = np.nanmin(Etrans[[idx_kill, idx_keep], :], axis=0)\n",
      "/Users/wpk/Documents/python/lnPi/__init__.py:1667: RuntimeWarning: All-NaN slice encountered\n",
      "  new_row = np.nanmin(Etrans[[idx_kill, idx_keep], :], axis=0)\n",
      "/Users/wpk/Documents/python/lnPi/__init__.py:1667: RuntimeWarning: All-NaN slice encountered\n",
      "  new_row = np.nanmin(Etrans[[idx_kill, idx_keep], :], axis=0)\n",
      " 80%|████████  | 32/40 [00:33<00:08,  1.11s/it]/Users/wpk/.conda/envs/py37/lib/python3.7/site-packages/numpy/ma/core.py:1018: RuntimeWarning: overflow encountered in multiply\n",
      "  result = self.f(da, db, *args, **kwargs)\n",
      "/Users/wpk/.conda/envs/py37/lib/python3.7/site-packages/numpy/ma/core.py:1018: RuntimeWarning: overflow encountered in multiply\n",
      "  result = self.f(da, db, *args, **kwargs)\n",
      " 82%|████████▎ | 33/40 [00:34<00:07,  1.13s/it]/Users/wpk/.conda/envs/py37/lib/python3.7/site-packages/numpy/ma/core.py:1018: RuntimeWarning: overflow encountered in multiply\n",
      "  result = self.f(da, db, *args, **kwargs)\n",
      "/Users/wpk/.conda/envs/py37/lib/python3.7/site-packages/numpy/ma/core.py:1018: RuntimeWarning: overflow encountered in multiply\n",
      "  result = self.f(da, db, *args, **kwargs)\n",
      "/Users/wpk/Documents/python/lnPi/__init__.py:1667: RuntimeWarning: All-NaN slice encountered\n",
      "  new_row = np.nanmin(Etrans[[idx_kill, idx_keep], :], axis=0)\n",
      "/Users/wpk/Documents/python/lnPi/__init__.py:1667: RuntimeWarning: All-NaN slice encountered\n",
      "  new_row = np.nanmin(Etrans[[idx_kill, idx_keep], :], axis=0)\n",
      "/Users/wpk/Documents/python/lnPi/__init__.py:1667: RuntimeWarning: All-NaN slice encountered\n",
      "  new_row = np.nanmin(Etrans[[idx_kill, idx_keep], :], axis=0)\n",
      "/Users/wpk/Documents/python/lnPi/__init__.py:1667: RuntimeWarning: All-NaN slice encountered\n",
      "  new_row = np.nanmin(Etrans[[idx_kill, idx_keep], :], axis=0)\n",
      " 85%|████████▌ | 34/40 [00:35<00:06,  1.11s/it]/Users/wpk/.conda/envs/py37/lib/python3.7/site-packages/numpy/ma/core.py:1018: RuntimeWarning: overflow encountered in multiply\n",
      "  result = self.f(da, db, *args, **kwargs)\n",
      "/Users/wpk/.conda/envs/py37/lib/python3.7/site-packages/numpy/ma/core.py:1018: RuntimeWarning: overflow encountered in multiply\n",
      "  result = self.f(da, db, *args, **kwargs)\n",
      "/Users/wpk/.conda/envs/py37/lib/python3.7/site-packages/numpy/ma/core.py:1018: RuntimeWarning: overflow encountered in multiply\n",
      "  result = self.f(da, db, *args, **kwargs)\n",
      " 88%|████████▊ | 35/40 [00:36<00:05,  1.09s/it]/Users/wpk/.conda/envs/py37/lib/python3.7/site-packages/numpy/ma/core.py:1018: RuntimeWarning: overflow encountered in multiply\n",
      "  result = self.f(da, db, *args, **kwargs)\n",
      "/Users/wpk/.conda/envs/py37/lib/python3.7/site-packages/numpy/ma/core.py:1018: RuntimeWarning: overflow encountered in multiply\n",
      "  result = self.f(da, db, *args, **kwargs)\n",
      "/Users/wpk/.conda/envs/py37/lib/python3.7/site-packages/numpy/ma/core.py:1018: RuntimeWarning: overflow encountered in multiply\n",
      "  result = self.f(da, db, *args, **kwargs)\n",
      "/Users/wpk/.conda/envs/py37/lib/python3.7/site-packages/numpy/ma/core.py:1018: RuntimeWarning: overflow encountered in multiply\n",
      "  result = self.f(da, db, *args, **kwargs)\n",
      " 90%|█████████ | 36/40 [00:38<00:04,  1.09s/it]/Users/wpk/.conda/envs/py37/lib/python3.7/site-packages/numpy/ma/core.py:1018: RuntimeWarning: overflow encountered in multiply\n",
      "  result = self.f(da, db, *args, **kwargs)\n",
      "/Users/wpk/.conda/envs/py37/lib/python3.7/site-packages/numpy/ma/core.py:1018: RuntimeWarning: overflow encountered in multiply\n",
      "  result = self.f(da, db, *args, **kwargs)\n",
      "/Users/wpk/.conda/envs/py37/lib/python3.7/site-packages/numpy/ma/core.py:1018: RuntimeWarning: overflow encountered in multiply\n",
      "  result = self.f(da, db, *args, **kwargs)\n",
      " 92%|█████████▎| 37/40 [00:39<00:03,  1.10s/it]/Users/wpk/.conda/envs/py37/lib/python3.7/site-packages/numpy/ma/core.py:1018: RuntimeWarning: overflow encountered in multiply\n",
      "  result = self.f(da, db, *args, **kwargs)\n",
      "/Users/wpk/.conda/envs/py37/lib/python3.7/site-packages/numpy/ma/core.py:1018: RuntimeWarning: overflow encountered in multiply\n",
      "  result = self.f(da, db, *args, **kwargs)\n",
      "/Users/wpk/.conda/envs/py37/lib/python3.7/site-packages/numpy/ma/core.py:1018: RuntimeWarning: overflow encountered in multiply\n",
      "  result = self.f(da, db, *args, **kwargs)\n",
      "/Users/wpk/.conda/envs/py37/lib/python3.7/site-packages/numpy/ma/core.py:1018: RuntimeWarning: overflow encountered in multiply\n",
      "  result = self.f(da, db, *args, **kwargs)\n",
      "/Users/wpk/.conda/envs/py37/lib/python3.7/site-packages/numpy/ma/core.py:1018: RuntimeWarning: overflow encountered in multiply\n",
      "  result = self.f(da, db, *args, **kwargs)\n",
      "/Users/wpk/.conda/envs/py37/lib/python3.7/site-packages/numpy/ma/core.py:1018: RuntimeWarning: overflow encountered in multiply\n",
      "  result = self.f(da, db, *args, **kwargs)\n",
      "/Users/wpk/.conda/envs/py37/lib/python3.7/site-packages/numpy/ma/core.py:1018: RuntimeWarning: overflow encountered in multiply\n",
      "  result = self.f(da, db, *args, **kwargs)\n",
      "/Users/wpk/.conda/envs/py37/lib/python3.7/site-packages/numpy/ma/core.py:1018: RuntimeWarning: overflow encountered in multiply\n",
      "  result = self.f(da, db, *args, **kwargs)\n",
      "/Users/wpk/.conda/envs/py37/lib/python3.7/site-packages/numpy/ma/core.py:1018: RuntimeWarning: overflow encountered in multiply\n",
      "  result = self.f(da, db, *args, **kwargs)\n",
      "/Users/wpk/.conda/envs/py37/lib/python3.7/site-packages/numpy/ma/core.py:1018: RuntimeWarning: overflow encountered in multiply\n",
      "  result = self.f(da, db, *args, **kwargs)\n",
      "/Users/wpk/.conda/envs/py37/lib/python3.7/site-packages/numpy/ma/core.py:1018: RuntimeWarning: overflow encountered in multiply\n",
      "  result = self.f(da, db, *args, **kwargs)\n",
      "/Users/wpk/.conda/envs/py37/lib/python3.7/site-packages/numpy/ma/core.py:1018: RuntimeWarning: overflow encountered in multiply\n",
      "  result = self.f(da, db, *args, **kwargs)\n",
      " 95%|█████████▌| 38/40 [00:40<00:02,  1.08s/it]/Users/wpk/.conda/envs/py37/lib/python3.7/site-packages/numpy/ma/core.py:1018: RuntimeWarning: overflow encountered in multiply\n",
      "  result = self.f(da, db, *args, **kwargs)\n",
      "/Users/wpk/.conda/envs/py37/lib/python3.7/site-packages/numpy/ma/core.py:1018: RuntimeWarning: overflow encountered in multiply\n",
      "  result = self.f(da, db, *args, **kwargs)\n",
      "/Users/wpk/.conda/envs/py37/lib/python3.7/site-packages/numpy/ma/core.py:1018: RuntimeWarning: overflow encountered in multiply\n",
      "  result = self.f(da, db, *args, **kwargs)\n",
      "/Users/wpk/.conda/envs/py37/lib/python3.7/site-packages/numpy/ma/core.py:1018: RuntimeWarning: overflow encountered in multiply\n",
      "  result = self.f(da, db, *args, **kwargs)\n",
      "/Users/wpk/.conda/envs/py37/lib/python3.7/site-packages/numpy/ma/core.py:1018: RuntimeWarning: overflow encountered in multiply\n",
      "  result = self.f(da, db, *args, **kwargs)\n",
      "/Users/wpk/.conda/envs/py37/lib/python3.7/site-packages/numpy/ma/core.py:1018: RuntimeWarning: overflow encountered in multiply\n",
      "  result = self.f(da, db, *args, **kwargs)\n",
      "/Users/wpk/.conda/envs/py37/lib/python3.7/site-packages/numpy/ma/core.py:1018: RuntimeWarning: overflow encountered in multiply\n",
      "  result = self.f(da, db, *args, **kwargs)\n",
      "/Users/wpk/.conda/envs/py37/lib/python3.7/site-packages/numpy/ma/core.py:1018: RuntimeWarning: overflow encountered in multiply\n",
      "  result = self.f(da, db, *args, **kwargs)\n"
     ]
    },
    {
     "name": "stderr",
     "output_type": "stream",
     "text": [
      "/Users/wpk/.conda/envs/py37/lib/python3.7/site-packages/numpy/ma/core.py:1018: RuntimeWarning: overflow encountered in multiply\n",
      "  result = self.f(da, db, *args, **kwargs)\n",
      "/Users/wpk/.conda/envs/py37/lib/python3.7/site-packages/numpy/ma/core.py:1018: RuntimeWarning: overflow encountered in multiply\n",
      "  result = self.f(da, db, *args, **kwargs)\n",
      "/Users/wpk/.conda/envs/py37/lib/python3.7/site-packages/numpy/ma/core.py:1018: RuntimeWarning: overflow encountered in multiply\n",
      "  result = self.f(da, db, *args, **kwargs)\n",
      "/Users/wpk/.conda/envs/py37/lib/python3.7/site-packages/numpy/ma/core.py:1018: RuntimeWarning: overflow encountered in multiply\n",
      "  result = self.f(da, db, *args, **kwargs)\n",
      "/Users/wpk/.conda/envs/py37/lib/python3.7/site-packages/numpy/ma/core.py:1018: RuntimeWarning: overflow encountered in multiply\n",
      "  result = self.f(da, db, *args, **kwargs)\n",
      "/Users/wpk/.conda/envs/py37/lib/python3.7/site-packages/numpy/ma/core.py:1018: RuntimeWarning: overflow encountered in multiply\n",
      "  result = self.f(da, db, *args, **kwargs)\n",
      "/Users/wpk/.conda/envs/py37/lib/python3.7/site-packages/numpy/ma/core.py:1018: RuntimeWarning: overflow encountered in multiply\n",
      "  result = self.f(da, db, *args, **kwargs)\n",
      "/Users/wpk/.conda/envs/py37/lib/python3.7/site-packages/numpy/ma/core.py:1018: RuntimeWarning: overflow encountered in multiply\n",
      "  result = self.f(da, db, *args, **kwargs)\n",
      "/Users/wpk/.conda/envs/py37/lib/python3.7/site-packages/numpy/ma/core.py:1018: RuntimeWarning: overflow encountered in multiply\n",
      "  result = self.f(da, db, *args, **kwargs)\n",
      "/Users/wpk/.conda/envs/py37/lib/python3.7/site-packages/numpy/ma/core.py:1018: RuntimeWarning: overflow encountered in multiply\n",
      "  result = self.f(da, db, *args, **kwargs)\n",
      "/Users/wpk/.conda/envs/py37/lib/python3.7/site-packages/numpy/ma/core.py:1018: RuntimeWarning: overflow encountered in multiply\n",
      "  result = self.f(da, db, *args, **kwargs)\n",
      "/Users/wpk/.conda/envs/py37/lib/python3.7/site-packages/numpy/ma/core.py:1018: RuntimeWarning: overflow encountered in multiply\n",
      "  result = self.f(da, db, *args, **kwargs)\n",
      " 98%|█████████▊| 39/40 [00:41<00:01,  1.20s/it]/Users/wpk/.conda/envs/py37/lib/python3.7/site-packages/numpy/ma/core.py:1018: RuntimeWarning: overflow encountered in multiply\n",
      "  result = self.f(da, db, *args, **kwargs)\n",
      "/Users/wpk/.conda/envs/py37/lib/python3.7/site-packages/numpy/ma/core.py:1018: RuntimeWarning: overflow encountered in multiply\n",
      "  result = self.f(da, db, *args, **kwargs)\n",
      "/Users/wpk/.conda/envs/py37/lib/python3.7/site-packages/numpy/ma/core.py:1018: RuntimeWarning: overflow encountered in multiply\n",
      "  result = self.f(da, db, *args, **kwargs)\n",
      "/Users/wpk/.conda/envs/py37/lib/python3.7/site-packages/numpy/ma/core.py:1018: RuntimeWarning: overflow encountered in multiply\n",
      "  result = self.f(da, db, *args, **kwargs)\n",
      "/Users/wpk/.conda/envs/py37/lib/python3.7/site-packages/numpy/ma/core.py:1018: RuntimeWarning: overflow encountered in multiply\n",
      "  result = self.f(da, db, *args, **kwargs)\n",
      "/Users/wpk/.conda/envs/py37/lib/python3.7/site-packages/numpy/ma/core.py:1018: RuntimeWarning: overflow encountered in multiply\n",
      "  result = self.f(da, db, *args, **kwargs)\n",
      "/Users/wpk/.conda/envs/py37/lib/python3.7/site-packages/numpy/ma/core.py:1018: RuntimeWarning: overflow encountered in multiply\n",
      "  result = self.f(da, db, *args, **kwargs)\n",
      "/Users/wpk/.conda/envs/py37/lib/python3.7/site-packages/numpy/ma/core.py:1018: RuntimeWarning: overflow encountered in multiply\n",
      "  result = self.f(da, db, *args, **kwargs)\n",
      "/Users/wpk/.conda/envs/py37/lib/python3.7/site-packages/numpy/ma/core.py:1018: RuntimeWarning: overflow encountered in multiply\n",
      "  result = self.f(da, db, *args, **kwargs)\n",
      "/Users/wpk/.conda/envs/py37/lib/python3.7/site-packages/numpy/ma/core.py:1018: RuntimeWarning: overflow encountered in multiply\n",
      "  result = self.f(da, db, *args, **kwargs)\n",
      "/Users/wpk/.conda/envs/py37/lib/python3.7/site-packages/numpy/ma/core.py:1018: RuntimeWarning: overflow encountered in multiply\n",
      "  result = self.f(da, db, *args, **kwargs)\n",
      "/Users/wpk/.conda/envs/py37/lib/python3.7/site-packages/numpy/ma/core.py:1018: RuntimeWarning: overflow encountered in multiply\n",
      "  result = self.f(da, db, *args, **kwargs)\n",
      "/Users/wpk/.conda/envs/py37/lib/python3.7/site-packages/numpy/ma/core.py:1018: RuntimeWarning: overflow encountered in multiply\n",
      "  result = self.f(da, db, *args, **kwargs)\n",
      "/Users/wpk/.conda/envs/py37/lib/python3.7/site-packages/numpy/ma/core.py:1018: RuntimeWarning: overflow encountered in multiply\n",
      "  result = self.f(da, db, *args, **kwargs)\n",
      "/Users/wpk/.conda/envs/py37/lib/python3.7/site-packages/numpy/ma/core.py:1018: RuntimeWarning: overflow encountered in multiply\n",
      "  result = self.f(da, db, *args, **kwargs)\n",
      "/Users/wpk/.conda/envs/py37/lib/python3.7/site-packages/numpy/ma/core.py:1018: RuntimeWarning: overflow encountered in multiply\n",
      "  result = self.f(da, db, *args, **kwargs)\n",
      "/Users/wpk/.conda/envs/py37/lib/python3.7/site-packages/numpy/ma/core.py:1018: RuntimeWarning: overflow encountered in multiply\n",
      "  result = self.f(da, db, *args, **kwargs)\n",
      "/Users/wpk/.conda/envs/py37/lib/python3.7/site-packages/numpy/ma/core.py:1018: RuntimeWarning: overflow encountered in multiply\n",
      "  result = self.f(da, db, *args, **kwargs)\n",
      "/Users/wpk/.conda/envs/py37/lib/python3.7/site-packages/numpy/ma/core.py:1018: RuntimeWarning: overflow encountered in multiply\n",
      "  result = self.f(da, db, *args, **kwargs)\n",
      "100%|██████████| 40/40 [00:43<00:00,  1.33s/it]\n"
     ]
    }
   ],
   "source": [
    "L=[]\n",
    "for mu2 in tqdm.tqdm(np.arange(-4,4,0.2),leave=True):\n",
    "    try:\n",
    "        C = get_spin_bin(lnpi_ref,[None,mu2],np.linspace(-10,10,2),spin_kwargs=dict(ntry=40,nmax=40))\n",
    "    except:\n",
    "        print('error at mu2',mu2)\n",
    "        break\n",
    "    L.append(C)"
   ]
  },
  {
   "cell_type": "code",
   "execution_count": 10,
   "metadata": {},
   "outputs": [
    {
     "name": "stderr",
     "output_type": "stream",
     "text": [
      "100%|██████████| 5/5 [00:05<00:00,  1.09s/it]\n"
     ]
    }
   ],
   "source": [
    "L2=[]\n",
    "for mu2 in tqdm.tqdm(np.arange(-5,-4,0.2),leave=True):\n",
    "    try:\n",
    "        C = get_spin_bin(lnpi_ref,[None,mu2],np.linspace(-10,10,2),spin_kwargs=dict(nmax=40,ntry=40))\n",
    "    except:\n",
    "        print('error at mu2',mu2)\n",
    "        break\n",
    "    L2.append(C)"
   ]
  },
  {
   "cell_type": "code",
   "execution_count": 11,
   "metadata": {},
   "outputs": [],
   "source": [
    "LL = L2 + L"
   ]
  },
  {
   "cell_type": "code",
   "execution_count": 12,
   "metadata": {},
   "outputs": [
    {
     "name": "stdout",
     "output_type": "stream",
     "text": [
      "rm: bulk.h5: No such file or directory\r\n"
     ]
    }
   ],
   "source": [
    "!rm bulk.h5"
   ]
  },
  {
   "cell_type": "code",
   "execution_count": 13,
   "metadata": {},
   "outputs": [],
   "source": [
    "#save L to file\n",
    "import h5py\n",
    "F = h5py.File('bulk.h5')\n",
    "\n",
    "lnpi_ref.to_hdf(F,'lnpi_ref',overwrite=True)\n",
    "collection_list = []\n",
    "for i,x in enumerate(LL):\n",
    "    key = 'collection_%i'%i\n",
    "    collection_list.append(key)\n",
    "    x.to_hdf(F,key,ref=None,overwrite=True)\n",
    "F.create_dataset('collection_list',data=np.array(collection_list,dtype='S'))\n",
    "F.close()"
   ]
  },
  {
   "cell_type": "code",
   "execution_count": 14,
   "metadata": {},
   "outputs": [
    {
     "name": "stderr",
     "output_type": "stream",
     "text": [
      "/Users/wpk/.conda/envs/py37/lib/python3.7/site-packages/h5py/_hl/dataset.py:313: H5pyDeprecationWarning: dataset.value has been deprecated. Use dataset[()] instead.\n",
      "  \"Use dataset[()] instead.\", H5pyDeprecationWarning)\n"
     ]
    }
   ],
   "source": [
    "#load file to lst\n",
    "f = h5py.File('bulk.h5')\n",
    "ref = lnPi.lnPi_phases.from_hdf(f,'lnpi_ref')\n",
    "\n",
    "lst = []\n",
    "for k in f['collection_list']:\n",
    "    lst.append(lnPi.lnPi_collection.from_hdf(f,k,ref=ref))\n",
    "\n",
    "f.close()"
   ]
  },
  {
   "cell_type": "code",
   "execution_count": 21,
   "metadata": {},
   "outputs": [
    {
     "data": {
      "text/plain": [
       "<xarray.DataArray 'Omega' ()>\n",
       "array(-465.4269)\n",
       "Coordinates:\n",
       "    phase    int64 0\n",
       "    mu_0     float64 -4.695\n",
       "    mu_1     float64 -4.4\n",
       "    beta     float64 1.0"
      ]
     },
     "execution_count": 21,
     "metadata": {},
     "output_type": "execute_result"
    }
   ],
   "source": [
    "p.Omega_phase().sel(phase=0)"
   ]
  },
  {
   "cell_type": "code",
   "execution_count": 23,
   "metadata": {},
   "outputs": [
    {
     "data": {
      "text/plain": [
       "<xarray.DataArray 'Nave' ()>\n",
       "array(0.471658)\n",
       "Coordinates:\n",
       "    phase    int64 0\n",
       "    mu_0     float64 -4.695\n",
       "    mu_1     float64 -4.4\n",
       "    beta     float64 1.0"
      ]
     },
     "execution_count": 23,
     "metadata": {},
     "output_type": "execute_result"
    }
   ],
   "source": [
    "p.molfrac_phase.sel(phase=i, component=0)"
   ]
  },
  {
   "cell_type": "code",
   "execution_count": 27,
   "metadata": {},
   "outputs": [
    {
     "name": "stderr",
     "output_type": "stream",
     "text": [
      "/Users/wpk/.conda/envs/py37/lib/python3.7/site-packages/numpy/ma/core.py:1018: RuntimeWarning: overflow encountered in multiply\n",
      "  result = self.f(da, db, *args, **kwargs)\n",
      "/Users/wpk/.conda/envs/py37/lib/python3.7/site-packages/numpy/ma/core.py:1018: RuntimeWarning: overflow encountered in multiply\n",
      "  result = self.f(da, db, *args, **kwargs)\n",
      "/Users/wpk/.conda/envs/py37/lib/python3.7/site-packages/numpy/ma/core.py:1018: RuntimeWarning: overflow encountered in multiply\n",
      "  result = self.f(da, db, *args, **kwargs)\n",
      "/Users/wpk/.conda/envs/py37/lib/python3.7/site-packages/numpy/ma/core.py:1018: RuntimeWarning: overflow encountered in multiply\n",
      "  result = self.f(da, db, *args, **kwargs)\n",
      "/Users/wpk/.conda/envs/py37/lib/python3.7/site-packages/numpy/ma/core.py:1018: RuntimeWarning: overflow encountered in multiply\n",
      "  result = self.f(da, db, *args, **kwargs)\n",
      "/Users/wpk/.conda/envs/py37/lib/python3.7/site-packages/numpy/ma/core.py:1018: RuntimeWarning: overflow encountered in multiply\n",
      "  result = self.f(da, db, *args, **kwargs)\n",
      "/Users/wpk/.conda/envs/py37/lib/python3.7/site-packages/numpy/ma/core.py:1018: RuntimeWarning: overflow encountered in multiply\n",
      "  result = self.f(da, db, *args, **kwargs)\n",
      "/Users/wpk/.conda/envs/py37/lib/python3.7/site-packages/numpy/ma/core.py:1018: RuntimeWarning: overflow encountered in multiply\n",
      "  result = self.f(da, db, *args, **kwargs)\n",
      "/Users/wpk/.conda/envs/py37/lib/python3.7/site-packages/numpy/ma/core.py:1018: RuntimeWarning: overflow encountered in multiply\n",
      "  result = self.f(da, db, *args, **kwargs)\n",
      "/Users/wpk/.conda/envs/py37/lib/python3.7/site-packages/numpy/ma/core.py:1018: RuntimeWarning: overflow encountered in multiply\n",
      "  result = self.f(da, db, *args, **kwargs)\n",
      "/Users/wpk/.conda/envs/py37/lib/python3.7/site-packages/numpy/ma/core.py:1018: RuntimeWarning: overflow encountered in multiply\n",
      "  result = self.f(da, db, *args, **kwargs)\n",
      "/Users/wpk/.conda/envs/py37/lib/python3.7/site-packages/numpy/ma/core.py:1018: RuntimeWarning: overflow encountered in multiply\n",
      "  result = self.f(da, db, *args, **kwargs)\n",
      "/Users/wpk/.conda/envs/py37/lib/python3.7/site-packages/numpy/ma/core.py:1018: RuntimeWarning: overflow encountered in multiply\n",
      "  result = self.f(da, db, *args, **kwargs)\n",
      "/Users/wpk/.conda/envs/py37/lib/python3.7/site-packages/numpy/ma/core.py:1018: RuntimeWarning: overflow encountered in multiply\n",
      "  result = self.f(da, db, *args, **kwargs)\n"
     ]
    }
   ],
   "source": [
    "l = []\n",
    "for x in lst:\n",
    "    \n",
    "    d = {}\n",
    "\n",
    "    spin = x.spinodals\n",
    "    if spin[0] is None:\n",
    "        #no spin\n",
    "        pass \n",
    "    else:\n",
    "        #spin\n",
    "        for i,pp in enumerate(spin):\n",
    "            p = pp.merge_phases(efac=0.8)\n",
    "            for j in range(2):\n",
    "                d['mu_spin_%i_comp_%i'%(i,j)] = p.mu[j]\n",
    "                \n",
    "            d['omega_spin_%i'%(i)] = p.Omega_phase().sel(phase=i).values\n",
    "                \n",
    "            d['molfrac_spin_%i_comp_0'%i] = p.molfrac_phase.sel(phase=i, component=0).values\n",
    "            \n",
    "        \n",
    "    bino = x.binodals[0]\n",
    "    if bino is None:\n",
    "        pass\n",
    "    else:\n",
    "        #no bin\n",
    "        p = bino.merge_phases(efac=0.8)\n",
    "\n",
    "        for i in range(2):\n",
    "            for j in range(2):\n",
    "                d['mu_bin_%i_comp_%i'%(i,j)] = p.mu[j]\n",
    "\n",
    "            d['omega_bin_%i'%(i)] = p.Omega_phase().sel(phase=i).values\n",
    "            d['molfrac_bin_%i_comp_0'%i] = p.molfrac_phase.sel(phase=i, component=0).values\n",
    "    l.append(d)\n",
    "    \n",
    "df = pd.DataFrame(l)"
   ]
  },
  {
   "cell_type": "code",
   "execution_count": 29,
   "metadata": {},
   "outputs": [
    {
     "name": "stderr",
     "output_type": "stream",
     "text": [
      "/Users/wpk/.conda/envs/py37/lib/python3.7/site-packages/pandas/core/generic.py:2377: PerformanceWarning: \n",
      "your performance may suffer as PyTables will pickle object types that it cannot\n",
      "map directly to c-types [inferred_type->mixed,key->block1_values] [items->['molfrac_bin_0_comp_0', 'molfrac_bin_1_comp_0', 'molfrac_spin_0_comp_0', 'molfrac_spin_1_comp_0', 'omega_bin_0', 'omega_bin_1', 'omega_spin_0', 'omega_spin_1']]\n",
      "\n",
      "  return pytables.to_hdf(path_or_buf, key, self, **kwargs)\n"
     ]
    }
   ],
   "source": [
    "df.to_hdf('bulk.h5','df')"
   ]
  },
  {
   "cell_type": "code",
   "execution_count": 30,
   "metadata": {},
   "outputs": [
    {
     "name": "stdout",
     "output_type": "stream",
     "text": [
      "-rw-r--r--  1 wpk  42033    15M Apr 30 11:20 bulk.h5\r\n"
     ]
    }
   ],
   "source": [
    "!ls -hl bulk.h5"
   ]
  },
  {
   "cell_type": "code",
   "execution_count": 31,
   "metadata": {},
   "outputs": [
    {
     "data": {
      "text/plain": [
       "[<matplotlib.lines.Line2D at 0x1c366ed208>]"
      ]
     },
     "execution_count": 31,
     "metadata": {},
     "output_type": "execute_result"
    },
    {
     "data": {
      "image/png": "[encoded data removed]",
      "text/plain": [
       "<Figure size 432x288 with 1 Axes>"
      ]
     },
     "metadata": {
      "needs_background": "light"
     },
     "output_type": "display_data"
    }
   ],
   "source": [
    "a=df\n",
    "plt.plot(a.molfrac_bin_0_comp_0,-a.omega_bin_0)\n",
    "plt.plot(a.molfrac_bin_1_comp_0,-a.omega_bin_1)\n",
    "\n",
    "plt.plot(a.molfrac_spin_0_comp_0,-a.omega_spin_0)\n",
    "plt.plot(a.molfrac_spin_1_comp_0,-a.omega_spin_1)\n"
   ]
  },
  {
   "cell_type": "code",
   "execution_count": 32,
   "metadata": {},
   "outputs": [
    {
     "data": {
      "text/plain": [
       "<matplotlib.lines.Line2D at 0x1c36756f98>"
      ]
     },
     "execution_count": 32,
     "metadata": {},
     "output_type": "execute_result"
    },
    {
     "data": {
      "image/png": "[encoded data removed]",
      "text/plain": [
       "<Figure size 432x288 with 1 Axes>"
      ]
     },
     "metadata": {
      "needs_background": "light"
     },
     "output_type": "display_data"
    }
   ],
   "source": [
    "fig,ax=plt.subplots()\n",
    "plt.plot(df.molfrac_bin_0_comp_0,-df.omega_bin_0)\n",
    "plt.plot(df.molfrac_bin_1_comp_0,-df.omega_bin_1)\n",
    "\n",
    "plt.plot(df.molfrac_spin_0_comp_0,-df.omega_spin_0)\n",
    "plt.plot(df.molfrac_spin_1_comp_0,-df.omega_spin_1)\n",
    "\n",
    "ax.set_xlim(-0.1,0.1)\n",
    "\n",
    "ax.axvline(x=0.02)\n"
   ]
  },
  {
   "cell_type": "code",
   "execution_count": 33,
   "metadata": {},
   "outputs": [
    {
     "data": {
      "text/plain": [
       "<matplotlib.lines.Line2D at 0x1c367b7f98>"
      ]
     },
     "execution_count": 33,
     "metadata": {},
     "output_type": "execute_result"
    },
    {
     "data": {
      "image/png": "[encoded data removed]",
      "text/plain": [
       "<Figure size 432x288 with 1 Axes>"
      ]
     },
     "metadata": {
      "needs_background": "light"
     },
     "output_type": "display_data"
    }
   ],
   "source": [
    "fig,ax=plt.subplots()\n",
    "plt.plot(df.molfrac_bin_0_comp_0,-df.omega_bin_0)\n",
    "plt.plot(df.molfrac_bin_1_comp_0,-df.omega_bin_1)\n",
    "\n",
    "plt.plot(df.molfrac_spin_0_comp_0,-df.omega_spin_0)\n",
    "plt.plot(df.molfrac_spin_1_comp_0,-df.omega_spin_1)\n",
    "\n",
    "ax.set_xlim(.9,1.1)\n",
    "\n",
    "ax.axvline(x=0.98)\n"
   ]
  },
  {
   "cell_type": "code",
   "execution_count": 34,
   "metadata": {},
   "outputs": [
    {
     "data": {
      "text/plain": [
       "[<matplotlib.lines.Line2D at 0x1c36881390>]"
      ]
     },
     "execution_count": 34,
     "metadata": {},
     "output_type": "execute_result"
    },
    {
     "data": {
      "image/png": "[encoded data removed]",
      "text/plain": [
       "<Figure size 432x288 with 1 Axes>"
      ]
     },
     "metadata": {
      "needs_background": "light"
     },
     "output_type": "display_data"
    }
   ],
   "source": [
    "\n",
    "plt.plot(df.mu_bin_0_comp_0,df.mu_bin_0_comp_1)\n",
    "plt.plot(df.mu_spin_0_comp_0,df.mu_spin_0_comp_1,'--')\n",
    "plt.plot(df.mu_spin_1_comp_0,df.mu_spin_1_comp_1,'.')"
   ]
  },
  {
   "cell_type": "code",
   "execution_count": 35,
   "metadata": {},
   "outputs": [
    {
     "data": {
      "text/plain": [
       "[<matplotlib.lines.Line2D at 0x1c368db128>]"
      ]
     },
     "execution_count": 35,
     "metadata": {},
     "output_type": "execute_result"
    },
    {
     "data": {
      "image/png": "[encoded data removed]",
      "text/plain": [
       "<Figure size 432x288 with 1 Axes>"
      ]
     },
     "metadata": {
      "needs_background": "light"
     },
     "output_type": "display_data"
    }
   ],
   "source": [
    "plt.plot(df.mu_bin_0_comp_1,df.molfrac_bin_0_comp_0)\n",
    "plt.plot(df.mu_bin_1_comp_1,df.molfrac_bin_1_comp_0)\n",
    "\n",
    "plt.plot(df.mu_spin_0_comp_1,df.molfrac_spin_0_comp_0,'--')\n",
    "plt.plot(df.mu_spin_1_comp_1,df.molfrac_spin_1_comp_0,'--')"
   ]
  },
  {
   "cell_type": "code",
   "execution_count": 36,
   "metadata": {},
   "outputs": [
    {
     "data": {
      "text/plain": [
       "(-0.05, 0.1)"
      ]
     },
     "execution_count": 36,
     "metadata": {},
     "output_type": "execute_result"
    },
    {
     "data": {
      "image/png": "[encoded data removed]",
      "text/plain": [
       "<Figure size 432x288 with 1 Axes>"
      ]
     },
     "metadata": {
      "needs_background": "light"
     },
     "output_type": "display_data"
    }
   ],
   "source": [
    "plt.plot(df.mu_bin_0_comp_1,df.molfrac_bin_0_comp_0)\n",
    "plt.plot(df.mu_bin_1_comp_1,df.molfrac_bin_1_comp_0)\n",
    "\n",
    "plt.plot(df.mu_spin_0_comp_1,df.molfrac_spin_0_comp_0,'--')\n",
    "plt.plot(df.mu_spin_1_comp_1,df.molfrac_spin_1_comp_0,'--')\n",
    "\n",
    "ax = plt.gca()\n",
    "ax.axhline(y=0.02)\n",
    "ax.axhline(y=0.04)\n",
    "ax.set_ylim(-.05,.1)"
   ]
  },
  {
   "cell_type": "code",
   "execution_count": null,
   "metadata": {},
   "outputs": [],
   "source": []
  }
 ],
 "metadata": {
  "kernelspec": {
   "display_name": "Python [conda env:py37]",
   "language": "python",
   "name": "conda-env-py37-py"
  },
  "language_info": {
   "codemirror_mode": {
    "name": "ipython",
    "version": 3
   },
   "file_extension": ".py",
   "mimetype": "text/x-python",
   "name": "python",
   "nbconvert_exporter": "python",
   "pygments_lexer": "ipython3",
   "version": "3.7.3"
  },
  "toc": {
   "base_numbering": 1,
   "nav_menu": {},
   "number_sections": true,
   "sideBar": true,
   "skip_h1_title": false,
   "title_cell": "Table of Contents",
   "title_sidebar": "Contents",
   "toc_cell": false,
   "toc_position": {},
   "toc_section_display": true,
   "toc_window_display": false
  }
 },
 "nbformat": 4,
 "nbformat_minor": 1
}
